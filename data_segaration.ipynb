{
 "cells": [
  {
   "cell_type": "code",
   "execution_count": 1,
   "id": "d44eac92",
   "metadata": {},
   "outputs": [],
   "source": [
    "import logging\n",
    "import tempfile\n",
    "import pandas as pd\n",
    "import os\n",
    "import wandb\n",
    "from sklearn.model_selection import train_test_split"
   ]
  },
  {
   "cell_type": "code",
   "execution_count": 2,
   "id": "f364fa4c",
   "metadata": {},
   "outputs": [],
   "source": [
    "import os\n",
    "from dotenv import load_dotenv\n",
    "load_dotenv()\n",
    "\n",
    "WANDB_API_KEY=os.environ.get('WANDB_API_KEY')"
   ]
  },
  {
   "cell_type": "code",
   "execution_count": 6,
   "id": "84f15820",
   "metadata": {},
   "outputs": [
    {
     "name": "stderr",
     "output_type": "stream",
     "text": [
      "Failed to detect the name of this notebook, you can set it manually with the WANDB_NOTEBOOK_NAME environment variable to enable code saving.\n",
      "\u001b[34m\u001b[1mwandb\u001b[0m: Currently logged in as: \u001b[33mhangtn13-ssc-national-economics-university\u001b[0m (use `wandb login --relogin` to force relogin)\n"
     ]
    },
    {
     "data": {
      "text/plain": [
       "True"
      ]
     },
     "execution_count": 6,
     "metadata": {},
     "output_type": "execute_result"
    }
   ],
   "source": [
    "wandb.login(key=WANDB_API_KEY)"
   ]
  },
  {
   "cell_type": "code",
   "execution_count": 7,
   "id": "1da64e33",
   "metadata": {},
   "outputs": [],
   "source": [
    "# global variables\n",
    "\n",
    "# ratio used to split train and test data\n",
    "test_size = 0.2\n",
    "\n",
    "# seed used to reproduce purposes\n",
    "seed = 41\n",
    "\n",
    "# reference (column) to stratify the data\n",
    "stratify = \"y\"\n",
    "\n",
    "# name of the input artifact\n",
    "artifact_input_name = \"Bank-Marketing/raw_data:latest\"\n",
    "\n",
    "# type of the artifact\n",
    "artifact_type = \"segregated_data\""
   ]
  },
  {
   "cell_type": "code",
   "execution_count": 8,
   "id": "9af7290e",
   "metadata": {},
   "outputs": [
    {
     "data": {
      "text/html": [
       "wandb version 0.19.9 is available!  To upgrade, please run:\n",
       " $ pip install wandb --upgrade"
      ],
      "text/plain": [
       "<IPython.core.display.HTML object>"
      ]
     },
     "metadata": {},
     "output_type": "display_data"
    },
    {
     "data": {
      "text/html": [
       "Tracking run with wandb version 0.12.14"
      ],
      "text/plain": [
       "<IPython.core.display.HTML object>"
      ]
     },
     "metadata": {},
     "output_type": "display_data"
    },
    {
     "data": {
      "text/html": [
       "Run data is saved locally in <code>c:\\Users\\dell\\Downloads\\Mlops_Project_K64\\wandb\\run-20250418_221930-n4z6zqla</code>"
      ],
      "text/plain": [
       "<IPython.core.display.HTML object>"
      ]
     },
     "metadata": {},
     "output_type": "display_data"
    },
    {
     "data": {
      "text/html": [
       "Syncing run <strong><a href=\"https://wandb.ai/hangtn13-ssc-national-economics-university/Bank-Marketing/runs/n4z6zqla\" target=\"_blank\">clear-pine-14</a></strong> to <a href=\"https://wandb.ai/hangtn13-ssc-national-economics-university/Bank-Marketing\" target=\"_blank\">Weights & Biases</a> (<a href=\"https://wandb.me/run\" target=\"_blank\">docs</a>)<br/>"
      ],
      "text/plain": [
       "<IPython.core.display.HTML object>"
      ]
     },
     "metadata": {},
     "output_type": "display_data"
    },
    {
     "name": "stderr",
     "output_type": "stream",
     "text": [
      "18-04-2025 22:19:45 Downloading and reading artifact\n",
      "18-04-2025 22:19:49 Artifact downloaded\n",
      "18-04-2025 22:19:49 Splitting data into train and test\n",
      "18-04-2025 22:19:50 Uploading the train dataset to train.csv\n",
      "18-04-2025 22:19:52 Logging artifact\n",
      "18-04-2025 22:20:07 Uploading the test dataset to test.csv\n",
      "18-04-2025 22:20:07 Logging artifact\n"
     ]
    }
   ],
   "source": [
    "# configure logging\n",
    "logging.basicConfig(level=logging.INFO,\n",
    "                    format=\"%(asctime)s %(message)s\",\n",
    "                    datefmt='%d-%m-%Y %H:%M:%S')\n",
    "\n",
    "# reference for a logging obj\n",
    "logger = logging.getLogger()\n",
    "\n",
    "# initiate wandb project\n",
    "run = wandb.init(project=\"Bank-Marketing\", job_type=\"split_data\")\n",
    "\n",
    "logger.info(\"Downloading and reading artifact\")\n",
    "artifact = run.use_artifact(artifact_input_name)\n",
    "artifact_path = artifact.file()\n",
    "df = pd.read_csv(artifact_path, delimiter=\";\")\n",
    "logger.info(\"Artifact downloaded\")\n",
    "\n",
    "# Split firstly in train/test, then we further divide the dataset to train and validation\n",
    "logger.info(\"Splitting data into train and test\")\n",
    "splits = {}\n",
    "\n",
    "splits[\"train\"], splits[\"test\"] = train_test_split(df,\n",
    "                                                   test_size=test_size,\n",
    "                                                   random_state=seed,\n",
    "                                                   stratify=df[stratify])\n",
    "\n",
    "# Save the artifacts. We use a temporary directory so we do not leave any trace behind\n",
    "with tempfile.TemporaryDirectory() as tmp_dir:\n",
    "\n",
    "    for split, df in splits.items():\n",
    "\n",
    "        # Make the artifact name from the name of the split plus the provided root\n",
    "        artifact_name = f\"{split}.csv\"\n",
    "\n",
    "        # Get the path on disk within the temp directory\n",
    "        temp_path = os.path.join(tmp_dir, artifact_name)\n",
    "\n",
    "        logger.info(f\"Uploading the {split} dataset to {artifact_name}\")\n",
    "\n",
    "        # Save then upload to W&B\n",
    "        df.to_csv(temp_path,index=False)\n",
    "\n",
    "        artifact = wandb.Artifact(name=artifact_name,\n",
    "                                  type=artifact_type,\n",
    "                                  description=f\"{split} split of dataset {artifact_input_name}\",\n",
    "        )\n",
    "        artifact.add_file(temp_path)\n",
    "\n",
    "        logger.info(\"Logging artifact\")\n",
    "        run.log_artifact(artifact)\n",
    "\n",
    "        # This waits for the artifact to be uploaded to W&B. If you\n",
    "        # do not add this, the temp directory might be removed before\n",
    "        # W&B had a chance to upload the datasets, and the upload\n",
    "        # might fail\n",
    "        artifact.wait()"
   ]
  },
  {
   "cell_type": "code",
   "execution_count": 9,
   "id": "81891a54",
   "metadata": {},
   "outputs": [
    {
     "name": "stdout",
     "output_type": "stream",
     "text": [
      "\n"
     ]
    },
    {
     "data": {
      "text/html": [
       "Waiting for W&B process to finish... <strong style=\"color:green\">(success).</strong>"
      ],
      "text/plain": [
       "<IPython.core.display.HTML object>"
      ]
     },
     "metadata": {},
     "output_type": "display_data"
    },
    {
     "data": {
      "application/vnd.jupyter.widget-view+json": {
       "model_id": "784e7aaad7dd403bbce0560effdbfd68",
       "version_major": 2,
       "version_minor": 0
      },
      "text/plain": [
       "VBox(children=(Label(value='4.725 MB of 4.725 MB uploaded (0.000 MB deduped)\\r'), FloatProgress(value=1.0, max…"
      ]
     },
     "metadata": {},
     "output_type": "display_data"
    },
    {
     "data": {
      "text/html": [
       "Synced <strong style=\"color:#cdcd00\">clear-pine-14</strong>: <a href=\"https://wandb.ai/hangtn13-ssc-national-economics-university/Bank-Marketing/runs/n4z6zqla\" target=\"_blank\">https://wandb.ai/hangtn13-ssc-national-economics-university/Bank-Marketing/runs/n4z6zqla</a><br/>Synced 6 W&B file(s), 0 media file(s), 2 artifact file(s) and 0 other file(s)"
      ],
      "text/plain": [
       "<IPython.core.display.HTML object>"
      ]
     },
     "metadata": {},
     "output_type": "display_data"
    },
    {
     "data": {
      "text/html": [
       "Find logs at: <code>.\\wandb\\run-20250418_221930-n4z6zqla\\logs</code>"
      ],
      "text/plain": [
       "<IPython.core.display.HTML object>"
      ]
     },
     "metadata": {},
     "output_type": "display_data"
    }
   ],
   "source": [
    "# close the run\n",
    "# waiting a while after run the previous cell before execute this\n",
    "run.finish()"
   ]
  },
  {
   "cell_type": "code",
   "execution_count": 12,
   "id": "db89f214",
   "metadata": {},
   "outputs": [
    {
     "name": "stdout",
     "output_type": "stream",
     "text": [
      "usage: git [--version] [--help] [-C <path>] [-c <name>=<value>]\n",
      "           [--exec-path[=<path>]] [--html-path] [--man-path] [--info-path]\n",
      "           [-p | --paginate | -P | --no-pager] [--no-replace-objects] [--bare]\n",
      "           [--git-dir=<path>] [--work-tree=<path>] [--namespace=<name>]\n",
      "           [--super-prefix=<path>] [--config-env=<name>=<envvar>]\n",
      "           <command> [<args>]\n",
      "\n",
      "These are common Git commands used in various situations:\n",
      "\n",
      "start a working area (see also: git help tutorial)\n",
      "   clone     Clone a repository into a new directory\n",
      "   init      Create an empty Git repository or reinitialize an existing one\n",
      "\n",
      "work on the current change (see also: git help everyday)\n",
      "   add       Add file contents to the index\n",
      "   mv        Move or rename a file, a directory, or a symlink\n",
      "   restore   Restore working tree files\n",
      "   rm        Remove files from the working tree and from the index\n",
      "\n",
      "examine the history and state (see also: git help revisions)\n",
      "   bisect    Use binary search to find the commit that introduced a bug\n",
      "   diff      Show changes between commits, commit and working tree, etc\n",
      "   grep      Print lines matching a pattern\n",
      "   log       Show commit logs\n",
      "   show      Show various types of objects\n",
      "   status    Show the working tree status\n",
      "\n",
      "grow, mark and tweak your common history\n",
      "   branch    List, create, or delete branches\n",
      "   commit    Record changes to the repository\n",
      "   merge     Join two or more development histories together\n",
      "   rebase    Reapply commits on top of another base tip\n",
      "   reset     Reset current HEAD to the specified state\n",
      "   switch    Switch branches\n",
      "   tag       Create, list, delete or verify a tag object signed with GPG\n",
      "\n",
      "collaborate (see also: git help workflows)\n",
      "   fetch     Download objects and refs from another repository\n",
      "   pull      Fetch from and integrate with another repository or a local branch\n",
      "   push      Update remote refs along with associated objects\n",
      "\n",
      "'git help -a' and 'git help -g' list available subcommands and some\n",
      "concept guides. See 'git help <command>' or 'git help <concept>'\n",
      "to read about a specific subcommand or concept.\n",
      "See 'git help git' for an overview of the system.\n"
     ]
    }
   ],
   "source": [
    "!git"
   ]
  },
  {
   "cell_type": "code",
   "execution_count": null,
   "id": "dd3ce3c7",
   "metadata": {},
   "outputs": [],
   "source": [
    "!git push origin main"
   ]
  }
 ],
 "metadata": {
  "kernelspec": {
   "display_name": "bankmkt",
   "language": "python",
   "name": "python3"
  },
  "language_info": {
   "codemirror_mode": {
    "name": "ipython",
    "version": 3
   },
   "file_extension": ".py",
   "mimetype": "text/x-python",
   "name": "python",
   "nbconvert_exporter": "python",
   "pygments_lexer": "ipython3",
   "version": "3.8.20"
  }
 },
 "nbformat": 4,
 "nbformat_minor": 5
}
