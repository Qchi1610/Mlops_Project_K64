{
 "cells": [
  {
   "cell_type": "code",
   "execution_count": 1,
   "id": "d44eac92",
   "metadata": {},
   "outputs": [],
   "source": [
    "import logging\n",
    "import tempfile\n",
    "import pandas as pd\n",
    "import os\n",
    "import wandb\n",
    "from sklearn.model_selection import train_test_split"
   ]
  },
  {
   "cell_type": "code",
   "execution_count": 2,
   "id": "f364fa4c",
   "metadata": {},
   "outputs": [],
   "source": [
    "import os\n",
    "from dotenv import load_dotenv\n",
    "load_dotenv()\n",
    "\n",
    "WANDB_API_KEY=os.environ.get('WANDB_API_KEY')"
   ]
  },
  {
   "cell_type": "code",
   "execution_count": 6,
   "id": "84f15820",
   "metadata": {},
   "outputs": [
    {
     "name": "stderr",
     "output_type": "stream",
     "text": [
      "Failed to detect the name of this notebook, you can set it manually with the WANDB_NOTEBOOK_NAME environment variable to enable code saving.\n",
      "\u001b[34m\u001b[1mwandb\u001b[0m: Currently logged in as: \u001b[33mhangtn13-ssc-national-economics-university\u001b[0m (use `wandb login --relogin` to force relogin)\n"
     ]
    },
    {
     "data": {
      "text/plain": [
       "True"
      ]
     },
     "execution_count": 6,
     "metadata": {},
     "output_type": "execute_result"
    }
   ],
   "source": [
    "wandb.login(key=WANDB_API_KEY)"
   ]
  },
  {
   "cell_type": "code",
   "execution_count": 7,
   "id": "1da64e33",
   "metadata": {},
   "outputs": [],
   "source": [
    "# global variables\n",
    "\n",
    "# ratio used to split train and test data\n",
    "test_size = 0.2\n",
    "\n",
    "# seed used to reproduce purposes\n",
    "seed = 41\n",
    "\n",
    "# reference (column) to stratify the data\n",
    "stratify = \"y\"\n",
    "\n",
    "# name of the input artifact\n",
    "artifact_input_name = \"Bank-Marketing/raw_data:latest\"\n",
    "\n",
    "# type of the artifact\n",
    "artifact_type = \"segregated_data\""
   ]
  },
  {
   "cell_type": "code",
   "execution_count": 8,
   "id": "9af7290e",
   "metadata": {},
   "outputs": [
    {
     "data": {
      "text/html": [
       "wandb version 0.19.9 is available!  To upgrade, please run:\n",
       " $ pip install wandb --upgrade"
      ],
      "text/plain": [
       "<IPython.core.display.HTML object>"
      ]
     },
     "metadata": {},
     "output_type": "display_data"
    },
    {
     "data": {
      "text/html": [
       "Tracking run with wandb version 0.12.14"
      ],
      "text/plain": [
       "<IPython.core.display.HTML object>"
      ]
     },
     "metadata": {},
     "output_type": "display_data"
    },
    {
     "data": {
      "text/html": [
       "Run data is saved locally in <code>c:\\Users\\dell\\Downloads\\Mlops_Project_K64\\wandb\\run-20250418_221930-n4z6zqla</code>"
      ],
      "text/plain": [
       "<IPython.core.display.HTML object>"
      ]
     },
     "metadata": {},
     "output_type": "display_data"
    },
    {
     "data": {
      "text/html": [
       "Syncing run <strong><a href=\"https://wandb.ai/hangtn13-ssc-national-economics-university/Bank-Marketing/runs/n4z6zqla\" target=\"_blank\">clear-pine-14</a></strong> to <a href=\"https://wandb.ai/hangtn13-ssc-national-economics-university/Bank-Marketing\" target=\"_blank\">Weights & Biases</a> (<a href=\"https://wandb.me/run\" target=\"_blank\">docs</a>)<br/>"
      ],
      "text/plain": [
       "<IPython.core.display.HTML object>"
      ]
     },
     "metadata": {},
     "output_type": "display_data"
    },
    {
     "name": "stderr",
     "output_type": "stream",
     "text": [
      "18-04-2025 22:19:45 Downloading and reading artifact\n",
      "18-04-2025 22:19:49 Artifact downloaded\n",
      "18-04-2025 22:19:49 Splitting data into train and test\n",
      "18-04-2025 22:19:50 Uploading the train dataset to train.csv\n",
      "18-04-2025 22:19:52 Logging artifact\n",
      "18-04-2025 22:20:07 Uploading the test dataset to test.csv\n",
      "18-04-2025 22:20:07 Logging artifact\n"
     ]
    }
   ],
   "source": [
    "# configure logging\n",
    "logging.basicConfig(level=logging.INFO,\n",
    "                    format=\"%(asctime)s %(message)s\",\n",
    "                    datefmt='%d-%m-%Y %H:%M:%S')\n",
    "\n",
    "# reference for a logging obj\n",
    "logger = logging.getLogger()\n",
    "\n",
    "# initiate wandb project\n",
    "run = wandb.init(project=\"Bank-Marketing\", job_type=\"split_data\")\n",
    "\n",
    "logger.info(\"Downloading and reading artifact\")\n",
    "artifact = run.use_artifact(artifact_input_name)\n",
    "artifact_path = artifact.file()\n",
    "df = pd.read_csv(artifact_path, delimiter=\";\")\n",
    "logger.info(\"Artifact downloaded\")\n",
    "\n",
    "# Split firstly in train/test, then we further divide the dataset to train and validation\n",
    "logger.info(\"Splitting data into train and test\")\n",
    "splits = {}\n",
    "\n",
    "splits[\"train\"], splits[\"test\"] = train_test_split(df,\n",
    "                                                   test_size=test_size,\n",
    "                                                   random_state=seed,\n",
    "                                                   stratify=df[stratify])\n",
    "\n",
    "# Save the artifacts. We use a temporary directory so we do not leave any trace behind\n",
    "with tempfile.TemporaryDirectory() as tmp_dir:\n",
    "\n",
    "    for split, df in splits.items():\n",
    "\n",
    "        # Make the artifact name from the name of the split plus the provided root\n",
    "        artifact_name = f\"{split}.csv\"\n",
    "\n",
    "        # Get the path on disk within the temp directory\n",
    "        temp_path = os.path.join(tmp_dir, artifact_name)\n",
    "\n",
    "        logger.info(f\"Uploading the {split} dataset to {artifact_name}\")\n",
    "\n",
    "        # Save then upload to W&B\n",
    "        df.to_csv(temp_path,index=False)\n",
    "\n",
    "        artifact = wandb.Artifact(name=artifact_name,\n",
    "                                  type=artifact_type,\n",
    "                                  description=f\"{split} split of dataset {artifact_input_name}\",\n",
    "        )\n",
    "        artifact.add_file(temp_path)\n",
    "\n",
    "        logger.info(\"Logging artifact\")\n",
    "        run.log_artifact(artifact)\n",
    "\n",
    "        # This waits for the artifact to be uploaded to W&B. If you\n",
    "        # do not add this, the temp directory might be removed before\n",
    "        # W&B had a chance to upload the datasets, and the upload\n",
    "        # might fail\n",
    "        artifact.wait()"
   ]
  },
  {
   "cell_type": "code",
   "execution_count": 9,
   "id": "81891a54",
   "metadata": {},
   "outputs": [
    {
     "name": "stdout",
     "output_type": "stream",
     "text": [
      "\n"
     ]
    },
    {
     "data": {
      "text/html": [
       "Waiting for W&B process to finish... <strong style=\"color:green\">(success).</strong>"
      ],
      "text/plain": [
       "<IPython.core.display.HTML object>"
      ]
     },
     "metadata": {},
     "output_type": "display_data"
    },
    {
     "data": {
      "application/vnd.jupyter.widget-view+json": {
       "model_id": "784e7aaad7dd403bbce0560effdbfd68",
       "version_major": 2,
       "version_minor": 0
      },
      "text/plain": [
       "VBox(children=(Label(value='4.725 MB of 4.725 MB uploaded (0.000 MB deduped)\\r'), FloatProgress(value=1.0, max…"
      ]
     },
     "metadata": {},
     "output_type": "display_data"
    },
    {
     "data": {
      "text/html": [
       "Synced <strong style=\"color:#cdcd00\">clear-pine-14</strong>: <a href=\"https://wandb.ai/hangtn13-ssc-national-economics-university/Bank-Marketing/runs/n4z6zqla\" target=\"_blank\">https://wandb.ai/hangtn13-ssc-national-economics-university/Bank-Marketing/runs/n4z6zqla</a><br/>Synced 6 W&B file(s), 0 media file(s), 2 artifact file(s) and 0 other file(s)"
      ],
      "text/plain": [
       "<IPython.core.display.HTML object>"
      ]
     },
     "metadata": {},
     "output_type": "display_data"
    },
    {
     "data": {
      "text/html": [
       "Find logs at: <code>.\\wandb\\run-20250418_221930-n4z6zqla\\logs</code>"
      ],
      "text/plain": [
       "<IPython.core.display.HTML object>"
      ]
     },
     "metadata": {},
     "output_type": "display_data"
    }
   ],
   "source": [
    "# close the run\n",
    "# waiting a while after run the previous cell before execute this\n",
    "run.finish()"
   ]
  },
  {
   "cell_type": "code",
   "execution_count": null,
   "id": "32da4c72",
   "metadata": {},
   "outputs": [
    {
     "name": "stdout",
     "output_type": "stream",
     "text": [
      "On branch main\n",
      "Your branch is ahead of 'origin/main' by 1 commit.\n",
      "  (use \"git push\" to publish your local commits)\n",
      "\n",
      "Untracked files:\n",
      "  (use \"git add <file>...\" to include in what will be committed)\n",
      "\tartifacts/\n",
      "\tdata_segaration.ipynb\n",
      "\ttest_data.py\n",
      "\twandb/run-20250418_214853-enlr4ppk/\n",
      "\twandb/run-20250418_215008-tcnywwd8/\n",
      "\twandb/run-20250418_215135-pmlfx63t/\n",
      "\twandb/run-20250418_215231-c6fm9c1q/\n",
      "\twandb/run-20250418_215340-bddnuqm3/\n",
      "\twandb/run-20250418_215434-xiuc812h/\n",
      "\twandb/run-20250418_215952-1anvs4ed/\n",
      "\twandb/run-20250418_220254-4j1rkppk/\n",
      "\twandb/run-20250418_221930-n4z6zqla/\n",
      "\twandb/run-20250418_222305-vdronr0d/\n",
      "\n",
      "nothing added to commit but untracked files present (use \"git add\" to track)\n"
     ]
    }
   ],
   "source": [
    "#!git status\n"
   ]
  },
  {
   "cell_type": "code",
   "execution_count": null,
   "id": "75b6f8ad",
   "metadata": {},
   "outputs": [
    {
     "name": "stderr",
     "output_type": "stream",
     "text": [
      "warning: LF will be replaced by CRLF in data_segaration.ipynb.\n",
      "The file will have its original line endings in your working directory\n"
     ]
    }
   ],
   "source": [
    "#!git add ."
   ]
  },
  {
   "cell_type": "code",
   "execution_count": null,
   "id": "bb78f20b",
   "metadata": {},
   "outputs": [
    {
     "name": "stdout",
     "output_type": "stream",
     "text": [
      "[main 31298c0] Added all untracked files\n",
      " 63 files changed, 45311 insertions(+)\n",
      " create mode 100644 artifacts/raw_data-v0/bank-additional-full.csv\n",
      " create mode 100644 data_segaration.ipynb\n",
      " create mode 100644 test_data.py\n",
      " create mode 100644 wandb/run-20250418_214853-enlr4ppk/files/conda-environment.yaml\n",
      " create mode 100644 wandb/run-20250418_214853-enlr4ppk/files/config.yaml\n",
      " create mode 100644 wandb/run-20250418_214853-enlr4ppk/files/requirements.txt\n",
      " create mode 100644 wandb/run-20250418_214853-enlr4ppk/files/wandb-metadata.json\n",
      " create mode 100644 wandb/run-20250418_214853-enlr4ppk/files/wandb-summary.json\n",
      " create mode 100644 wandb/run-20250418_214853-enlr4ppk/run-enlr4ppk.wandb\n",
      " create mode 100644 wandb/run-20250418_215008-tcnywwd8/files/conda-environment.yaml\n",
      " create mode 100644 wandb/run-20250418_215008-tcnywwd8/files/config.yaml\n",
      " create mode 100644 wandb/run-20250418_215008-tcnywwd8/files/requirements.txt\n",
      " create mode 100644 wandb/run-20250418_215008-tcnywwd8/files/wandb-metadata.json\n",
      " create mode 100644 wandb/run-20250418_215008-tcnywwd8/files/wandb-summary.json\n",
      " create mode 100644 wandb/run-20250418_215008-tcnywwd8/run-tcnywwd8.wandb\n",
      " create mode 100644 wandb/run-20250418_215135-pmlfx63t/files/conda-environment.yaml\n",
      " create mode 100644 wandb/run-20250418_215135-pmlfx63t/files/config.yaml\n",
      " create mode 100644 wandb/run-20250418_215135-pmlfx63t/files/requirements.txt\n",
      " create mode 100644 wandb/run-20250418_215135-pmlfx63t/files/wandb-metadata.json\n",
      " create mode 100644 wandb/run-20250418_215135-pmlfx63t/files/wandb-summary.json\n",
      " create mode 100644 wandb/run-20250418_215135-pmlfx63t/run-pmlfx63t.wandb\n",
      " create mode 100644 wandb/run-20250418_215231-c6fm9c1q/files/conda-environment.yaml\n",
      " create mode 100644 wandb/run-20250418_215231-c6fm9c1q/files/config.yaml\n",
      " create mode 100644 wandb/run-20250418_215231-c6fm9c1q/files/requirements.txt\n",
      " create mode 100644 wandb/run-20250418_215231-c6fm9c1q/files/wandb-metadata.json\n",
      " create mode 100644 wandb/run-20250418_215231-c6fm9c1q/files/wandb-summary.json\n",
      " create mode 100644 wandb/run-20250418_215231-c6fm9c1q/run-c6fm9c1q.wandb\n",
      " create mode 100644 wandb/run-20250418_215340-bddnuqm3/files/conda-environment.yaml\n",
      " create mode 100644 wandb/run-20250418_215340-bddnuqm3/files/config.yaml\n",
      " create mode 100644 wandb/run-20250418_215340-bddnuqm3/files/requirements.txt\n",
      " create mode 100644 wandb/run-20250418_215340-bddnuqm3/files/wandb-metadata.json\n",
      " create mode 100644 wandb/run-20250418_215340-bddnuqm3/files/wandb-summary.json\n",
      " create mode 100644 wandb/run-20250418_215340-bddnuqm3/run-bddnuqm3.wandb\n",
      " create mode 100644 wandb/run-20250418_215434-xiuc812h/files/conda-environment.yaml\n",
      " create mode 100644 wandb/run-20250418_215434-xiuc812h/files/config.yaml\n",
      " create mode 100644 wandb/run-20250418_215434-xiuc812h/files/requirements.txt\n",
      " create mode 100644 wandb/run-20250418_215434-xiuc812h/files/wandb-metadata.json\n",
      " create mode 100644 wandb/run-20250418_215434-xiuc812h/files/wandb-summary.json\n",
      " create mode 100644 wandb/run-20250418_215434-xiuc812h/run-xiuc812h.wandb\n",
      " create mode 100644 wandb/run-20250418_215952-1anvs4ed/files/conda-environment.yaml\n",
      " create mode 100644 wandb/run-20250418_215952-1anvs4ed/files/config.yaml\n",
      " create mode 100644 wandb/run-20250418_215952-1anvs4ed/files/requirements.txt\n",
      " create mode 100644 wandb/run-20250418_215952-1anvs4ed/files/wandb-metadata.json\n",
      " create mode 100644 wandb/run-20250418_215952-1anvs4ed/files/wandb-summary.json\n",
      " create mode 100644 wandb/run-20250418_215952-1anvs4ed/run-1anvs4ed.wandb\n",
      " create mode 100644 wandb/run-20250418_220254-4j1rkppk/files/conda-environment.yaml\n",
      " create mode 100644 wandb/run-20250418_220254-4j1rkppk/files/config.yaml\n",
      " create mode 100644 wandb/run-20250418_220254-4j1rkppk/files/requirements.txt\n",
      " create mode 100644 wandb/run-20250418_220254-4j1rkppk/files/wandb-metadata.json\n",
      " create mode 100644 wandb/run-20250418_220254-4j1rkppk/files/wandb-summary.json\n",
      " create mode 100644 wandb/run-20250418_220254-4j1rkppk/run-4j1rkppk.wandb\n",
      " create mode 100644 wandb/run-20250418_221930-n4z6zqla/files/conda-environment.yaml\n",
      " create mode 100644 wandb/run-20250418_221930-n4z6zqla/files/config.yaml\n",
      " create mode 100644 wandb/run-20250418_221930-n4z6zqla/files/requirements.txt\n",
      " create mode 100644 wandb/run-20250418_221930-n4z6zqla/files/wandb-metadata.json\n",
      " create mode 100644 wandb/run-20250418_221930-n4z6zqla/files/wandb-summary.json\n",
      " create mode 100644 wandb/run-20250418_221930-n4z6zqla/run-n4z6zqla.wandb\n",
      " create mode 100644 wandb/run-20250418_222305-vdronr0d/files/conda-environment.yaml\n",
      " create mode 100644 wandb/run-20250418_222305-vdronr0d/files/config.yaml\n",
      " create mode 100644 wandb/run-20250418_222305-vdronr0d/files/requirements.txt\n",
      " create mode 100644 wandb/run-20250418_222305-vdronr0d/files/wandb-metadata.json\n",
      " create mode 100644 wandb/run-20250418_222305-vdronr0d/files/wandb-summary.json\n",
      " create mode 100644 wandb/run-20250418_222305-vdronr0d/run-vdronr0d.wandb\n"
     ]
    }
   ],
   "source": [
    "#!git commit -m \"Added all untracked files\""
   ]
  }
 ],
 "metadata": {
  "kernelspec": {
   "display_name": "bankmkt",
   "language": "python",
   "name": "python3"
  },
  "language_info": {
   "codemirror_mode": {
    "name": "ipython",
    "version": 3
   },
   "file_extension": ".py",
   "mimetype": "text/x-python",
   "name": "python",
   "nbconvert_exporter": "python",
   "pygments_lexer": "ipython3",
   "version": "3.8.20"
  }
 },
 "nbformat": 4,
 "nbformat_minor": 5
}
