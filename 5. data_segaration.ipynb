{
 "cells": [
  {
   "cell_type": "code",
   "execution_count": 1,
   "id": "d44eac92",
   "metadata": {},
   "outputs": [],
   "source": [
    "import logging\n",
    "import tempfile\n",
    "import pandas as pd\n",
    "import os\n",
    "import wandb\n",
    "from sklearn.model_selection import train_test_split"
   ]
  },
  {
   "cell_type": "code",
   "execution_count": 2,
   "id": "f364fa4c",
   "metadata": {},
   "outputs": [],
   "source": [
    "import os\n",
    "from dotenv import load_dotenv\n",
    "load_dotenv()\n",
    "\n",
    "WANDB_API_KEY=os.environ.get('WANDB_API_KEY')"
   ]
  },
  {
   "cell_type": "code",
   "execution_count": 3,
   "id": "84f15820",
   "metadata": {},
   "outputs": [
    {
     "name": "stderr",
     "output_type": "stream",
     "text": [
      "\u001b[34m\u001b[1mwandb\u001b[0m: Using wandb-core as the SDK backend.  Please refer to https://wandb.me/wandb-core for more information.\n",
      "\u001b[34m\u001b[1mwandb\u001b[0m: \u001b[33mWARNING\u001b[0m If you're specifying your api key in code, ensure this code is not shared publicly.\n",
      "\u001b[34m\u001b[1mwandb\u001b[0m: \u001b[33mWARNING\u001b[0m Consider setting the WANDB_API_KEY environment variable, or running `wandb login` from the command line.\n",
      "\u001b[34m\u001b[1mwandb\u001b[0m: Appending key for api.wandb.ai to your netrc file: C:\\Users\\Admin\\.netrc\n",
      "\u001b[34m\u001b[1mwandb\u001b[0m: Currently logged in as: \u001b[33mhangtn13-ssc\u001b[0m (\u001b[33mhangtn13-ssc-national-economics-university\u001b[0m) to \u001b[32mhttps://api.wandb.ai\u001b[0m. Use \u001b[1m`wandb login --relogin`\u001b[0m to force relogin\n"
     ]
    },
    {
     "data": {
      "text/plain": [
       "True"
      ]
     },
     "execution_count": 3,
     "metadata": {},
     "output_type": "execute_result"
    }
   ],
   "source": [
    "wandb.login(key=WANDB_API_KEY)"
   ]
  },
  {
   "cell_type": "code",
   "execution_count": 4,
   "id": "1da64e33",
   "metadata": {},
   "outputs": [],
   "source": [
    "# global variables\n",
    "\n",
    "# ratio used to split train and test data\n",
    "test_size = 0.2\n",
    "\n",
    "# seed used to reproduce purposes\n",
    "seed = 41\n",
    "\n",
    "# reference (column) to stratify the data\n",
    "stratify = \"y\"\n",
    "\n",
    "# name of the input artifact\n",
    "artifact_input_name = \"Bank-Marketing/raw_data:latest\"\n",
    "\n",
    "# type of the artifact\n",
    "artifact_type = \"segregated_data\""
   ]
  },
  {
   "cell_type": "code",
   "execution_count": 5,
   "id": "9af7290e",
   "metadata": {},
   "outputs": [
    {
     "data": {
      "text/html": [
       "Waiting for wandb.init()..."
      ],
      "text/plain": [
       "<IPython.core.display.HTML object>"
      ]
     },
     "metadata": {},
     "output_type": "display_data"
    },
    {
     "data": {
      "text/html": [
       "Tracking run with wandb version 0.19.9"
      ],
      "text/plain": [
       "<IPython.core.display.HTML object>"
      ]
     },
     "metadata": {},
     "output_type": "display_data"
    },
    {
     "data": {
      "text/html": [
       "Run data is saved locally in <code>c:\\Mlops_Project_K64\\wandb\\run-20250504_113219-chqwfb22</code>"
      ],
      "text/plain": [
       "<IPython.core.display.HTML object>"
      ]
     },
     "metadata": {},
     "output_type": "display_data"
    },
    {
     "data": {
      "text/html": [
       "Syncing run <strong><a href='https://wandb.ai/hangtn13-ssc-national-economics-university/Bank-Marketing/runs/chqwfb22' target=\"_blank\">imperial-carrier-31</a></strong> to <a href='https://wandb.ai/hangtn13-ssc-national-economics-university/Bank-Marketing' target=\"_blank\">Weights & Biases</a> (<a href='https://wandb.me/developer-guide' target=\"_blank\">docs</a>)<br>"
      ],
      "text/plain": [
       "<IPython.core.display.HTML object>"
      ]
     },
     "metadata": {},
     "output_type": "display_data"
    },
    {
     "data": {
      "text/html": [
       " View project at <a href='https://wandb.ai/hangtn13-ssc-national-economics-university/Bank-Marketing' target=\"_blank\">https://wandb.ai/hangtn13-ssc-national-economics-university/Bank-Marketing</a>"
      ],
      "text/plain": [
       "<IPython.core.display.HTML object>"
      ]
     },
     "metadata": {},
     "output_type": "display_data"
    },
    {
     "data": {
      "text/html": [
       " View run at <a href='https://wandb.ai/hangtn13-ssc-national-economics-university/Bank-Marketing/runs/chqwfb22' target=\"_blank\">https://wandb.ai/hangtn13-ssc-national-economics-university/Bank-Marketing/runs/chqwfb22</a>"
      ],
      "text/plain": [
       "<IPython.core.display.HTML object>"
      ]
     },
     "metadata": {},
     "output_type": "display_data"
    },
    {
     "name": "stderr",
     "output_type": "stream",
     "text": [
      "04-05-2025 11:32:21 Downloading and reading artifact\n"
     ]
    },
    {
     "ename": "OSError",
     "evalue": "[Errno 22] Invalid argument: '.\\\\artifacts\\\\raw_data:latest\\\\raw_data.csv'",
     "output_type": "error",
     "traceback": [
      "\u001b[1;31m---------------------------------------------------------------------------\u001b[0m",
      "\u001b[1;31mOSError\u001b[0m                                   Traceback (most recent call last)",
      "Cell \u001b[1;32mIn[5], line 14\u001b[0m\n\u001b[0;32m     12\u001b[0m logger\u001b[38;5;241m.\u001b[39minfo(\u001b[38;5;124m\"\u001b[39m\u001b[38;5;124mDownloading and reading artifact\u001b[39m\u001b[38;5;124m\"\u001b[39m)\n\u001b[0;32m     13\u001b[0m artifact \u001b[38;5;241m=\u001b[39m run\u001b[38;5;241m.\u001b[39muse_artifact(artifact_input_name)\n\u001b[1;32m---> 14\u001b[0m artifact_path \u001b[38;5;241m=\u001b[39m \u001b[43martifact\u001b[49m\u001b[38;5;241;43m.\u001b[39;49m\u001b[43mfile\u001b[49m\u001b[43m(\u001b[49m\u001b[43m)\u001b[49m\n\u001b[0;32m     15\u001b[0m df \u001b[38;5;241m=\u001b[39m pd\u001b[38;5;241m.\u001b[39mread_csv(artifact_path, delimiter\u001b[38;5;241m=\u001b[39m\u001b[38;5;124m\"\u001b[39m\u001b[38;5;124m;\u001b[39m\u001b[38;5;124m\"\u001b[39m)\n\u001b[0;32m     16\u001b[0m logger\u001b[38;5;241m.\u001b[39minfo(\u001b[38;5;124m\"\u001b[39m\u001b[38;5;124mArtifact downloaded\u001b[39m\u001b[38;5;124m\"\u001b[39m)\n",
      "File \u001b[1;32mc:\\Users\\Admin\\miniconda3\\envs\\bankmkt\\lib\\site-packages\\wandb\\sdk\\artifacts\\_validators.py:99\u001b[0m, in \u001b[0;36mensure_logged.<locals>.wrapper\u001b[1;34m(self, *args, **kwargs)\u001b[0m\n\u001b[0;32m     97\u001b[0m \u001b[38;5;28;01mif\u001b[39;00m \u001b[38;5;28mself\u001b[39m\u001b[38;5;241m.\u001b[39mis_draft():\n\u001b[0;32m     98\u001b[0m     \u001b[38;5;28;01mraise\u001b[39;00m ArtifactNotLoggedError(fullname\u001b[38;5;241m=\u001b[39mmethod_fullname, obj\u001b[38;5;241m=\u001b[39m\u001b[38;5;28mself\u001b[39m)\n\u001b[1;32m---> 99\u001b[0m \u001b[38;5;28;01mreturn\u001b[39;00m \u001b[43mmethod\u001b[49m\u001b[43m(\u001b[49m\u001b[38;5;28;43mself\u001b[39;49m\u001b[43m,\u001b[49m\u001b[43m \u001b[49m\u001b[38;5;241;43m*\u001b[39;49m\u001b[43margs\u001b[49m\u001b[43m,\u001b[49m\u001b[43m \u001b[49m\u001b[38;5;241;43m*\u001b[39;49m\u001b[38;5;241;43m*\u001b[39;49m\u001b[43mkwargs\u001b[49m\u001b[43m)\u001b[49m\n",
      "File \u001b[1;32mc:\\Users\\Admin\\miniconda3\\envs\\bankmkt\\lib\\site-packages\\wandb\\sdk\\artifacts\\artifact.py:2121\u001b[0m, in \u001b[0;36mArtifact.file\u001b[1;34m(self, root)\u001b[0m\n\u001b[0;32m   2115\u001b[0m \u001b[38;5;28;01mif\u001b[39;00m \u001b[38;5;28mlen\u001b[39m(\u001b[38;5;28mself\u001b[39m\u001b[38;5;241m.\u001b[39mmanifest\u001b[38;5;241m.\u001b[39mentries) \u001b[38;5;241m>\u001b[39m \u001b[38;5;241m1\u001b[39m:\n\u001b[0;32m   2116\u001b[0m     \u001b[38;5;28;01mraise\u001b[39;00m \u001b[38;5;167;01mValueError\u001b[39;00m(\n\u001b[0;32m   2117\u001b[0m         \u001b[38;5;124m\"\u001b[39m\u001b[38;5;124mThis artifact contains more than one file, call `.download()` to get \u001b[39m\u001b[38;5;124m\"\u001b[39m\n\u001b[0;32m   2118\u001b[0m         \u001b[38;5;124m'\u001b[39m\u001b[38;5;124mall files or call .get_entry(\u001b[39m\u001b[38;5;124m\"\u001b[39m\u001b[38;5;124mfilename\u001b[39m\u001b[38;5;124m\"\u001b[39m\u001b[38;5;124m).download()\u001b[39m\u001b[38;5;124m'\u001b[39m\n\u001b[0;32m   2119\u001b[0m     )\n\u001b[1;32m-> 2121\u001b[0m \u001b[38;5;28;01mreturn\u001b[39;00m \u001b[38;5;28;43mself\u001b[39;49m\u001b[38;5;241;43m.\u001b[39;49m\u001b[43mget_entry\u001b[49m\u001b[43m(\u001b[49m\u001b[38;5;28;43mlist\u001b[39;49m\u001b[43m(\u001b[49m\u001b[38;5;28;43mself\u001b[39;49m\u001b[38;5;241;43m.\u001b[39;49m\u001b[43mmanifest\u001b[49m\u001b[38;5;241;43m.\u001b[39;49m\u001b[43mentries\u001b[49m\u001b[43m)\u001b[49m\u001b[43m[\u001b[49m\u001b[38;5;241;43m0\u001b[39;49m\u001b[43m]\u001b[49m\u001b[43m)\u001b[49m\u001b[38;5;241;43m.\u001b[39;49m\u001b[43mdownload\u001b[49m\u001b[43m(\u001b[49m\u001b[43mroot\u001b[49m\u001b[43m)\u001b[49m\n",
      "File \u001b[1;32mc:\\Users\\Admin\\miniconda3\\envs\\bankmkt\\lib\\site-packages\\wandb\\sdk\\artifacts\\artifact_manifest_entry.py:159\u001b[0m, in \u001b[0;36mArtifactManifestEntry.download\u001b[1;34m(self, root, skip_cache)\u001b[0m\n\u001b[0;32m    156\u001b[0m \u001b[38;5;66;03m# Skip checking the cache (and possibly downloading) if the file already exists\u001b[39;00m\n\u001b[0;32m    157\u001b[0m \u001b[38;5;66;03m# and has the digest we're expecting.\u001b[39;00m\n\u001b[0;32m    158\u001b[0m \u001b[38;5;28;01mtry\u001b[39;00m:\n\u001b[1;32m--> 159\u001b[0m     md5_hash \u001b[38;5;241m=\u001b[39m \u001b[43mmd5_file_b64\u001b[49m\u001b[43m(\u001b[49m\u001b[43mdest_path\u001b[49m\u001b[43m)\u001b[49m\n\u001b[0;32m    160\u001b[0m \u001b[38;5;28;01mexcept\u001b[39;00m (\u001b[38;5;167;01mFileNotFoundError\u001b[39;00m, \u001b[38;5;167;01mIsADirectoryError\u001b[39;00m):\n\u001b[0;32m    161\u001b[0m     logger\u001b[38;5;241m.\u001b[39mdebug(\u001b[38;5;124mf\u001b[39m\u001b[38;5;124m\"\u001b[39m\u001b[38;5;124munable to find \u001b[39m\u001b[38;5;132;01m{\u001b[39;00mdest_path\u001b[38;5;132;01m}\u001b[39;00m\u001b[38;5;124m, skip searching for file\u001b[39m\u001b[38;5;124m\"\u001b[39m)\n",
      "File \u001b[1;32mc:\\Users\\Admin\\miniconda3\\envs\\bankmkt\\lib\\site-packages\\wandb\\sdk\\lib\\hashutil.py:47\u001b[0m, in \u001b[0;36mmd5_file_b64\u001b[1;34m(*paths)\u001b[0m\n\u001b[0;32m     46\u001b[0m \u001b[38;5;28;01mdef\u001b[39;00m \u001b[38;5;21mmd5_file_b64\u001b[39m(\u001b[38;5;241m*\u001b[39mpaths: StrPath) \u001b[38;5;241m-\u001b[39m\u001b[38;5;241m>\u001b[39m B64MD5:\n\u001b[1;32m---> 47\u001b[0m     \u001b[38;5;28;01mreturn\u001b[39;00m _b64_from_hasher(\u001b[43m_md5_file_hasher\u001b[49m\u001b[43m(\u001b[49m\u001b[38;5;241;43m*\u001b[39;49m\u001b[43mpaths\u001b[49m\u001b[43m)\u001b[49m)\n",
      "File \u001b[1;32mc:\\Users\\Admin\\miniconda3\\envs\\bankmkt\\lib\\site-packages\\wandb\\sdk\\lib\\hashutil.py:64\u001b[0m, in \u001b[0;36m_md5_file_hasher\u001b[1;34m(*paths)\u001b[0m\n\u001b[0;32m     62\u001b[0m \u001b[38;5;66;03m# Note: We use str paths (instead of pathlib.Path objs) for minor perf improvements.\u001b[39;00m\n\u001b[0;32m     63\u001b[0m \u001b[38;5;28;01mfor\u001b[39;00m path \u001b[38;5;129;01min\u001b[39;00m \u001b[38;5;28msorted\u001b[39m(\u001b[38;5;28mmap\u001b[39m(\u001b[38;5;28mstr\u001b[39m, paths)):\n\u001b[1;32m---> 64\u001b[0m     \u001b[38;5;28;01mwith\u001b[39;00m \u001b[38;5;28;43mopen\u001b[39;49m\u001b[43m(\u001b[49m\u001b[43mpath\u001b[49m\u001b[43m,\u001b[49m\u001b[43m \u001b[49m\u001b[38;5;124;43m\"\u001b[39;49m\u001b[38;5;124;43mrb\u001b[39;49m\u001b[38;5;124;43m\"\u001b[39;49m\u001b[43m)\u001b[49m \u001b[38;5;28;01mas\u001b[39;00m f:\n\u001b[0;32m     65\u001b[0m         \u001b[38;5;28;01mtry\u001b[39;00m:\n\u001b[0;32m     66\u001b[0m             \u001b[38;5;28;01mwith\u001b[39;00m mmap\u001b[38;5;241m.\u001b[39mmmap(f\u001b[38;5;241m.\u001b[39mfileno(), length\u001b[38;5;241m=\u001b[39m\u001b[38;5;241m0\u001b[39m, access\u001b[38;5;241m=\u001b[39mmmap\u001b[38;5;241m.\u001b[39mACCESS_READ) \u001b[38;5;28;01mas\u001b[39;00m mview:\n",
      "\u001b[1;31mOSError\u001b[0m: [Errno 22] Invalid argument: '.\\\\artifacts\\\\raw_data:latest\\\\raw_data.csv'"
     ]
    }
   ],
   "source": [
    "# configure logging\n",
    "logging.basicConfig(level=logging.INFO,\n",
    "                    format=\"%(asctime)s %(message)s\",\n",
    "                    datefmt='%d-%m-%Y %H:%M:%S')\n",
    "\n",
    "# reference for a logging obj\n",
    "logger = logging.getLogger()\n",
    "\n",
    "# initiate wandb project\n",
    "run = wandb.init(project=\"Bank-Marketing\", job_type=\"split_data\")\n",
    "\n",
    "logger.info(\"Downloading and reading artifact\")\n",
    "artifact = run.use_artifact(artifact_input_name)\n",
    "artifact_path = artifact.file()\n",
    "df = pd.read_csv(artifact_path, delimiter=\";\")\n",
    "logger.info(\"Artifact downloaded\")\n",
    "\n",
    "# Split firstly in train/test, then we further divide the dataset to train and validation\n",
    "logger.info(\"Splitting data into train and test\")\n",
    "splits = {}\n",
    "\n",
    "splits[\"train\"], splits[\"test\"] = train_test_split(df,\n",
    "                                                   test_size=test_size,\n",
    "                                                   random_state=seed,\n",
    "                                                   stratify=df[stratify])\n",
    "\n",
    "# Save the artifacts. We use a temporary directory so we do not leave any trace behind\n",
    "with tempfile.TemporaryDirectory() as tmp_dir:\n",
    "\n",
    "    for split, df in splits.items():\n",
    "\n",
    "        # Make the artifact name from the name of the split plus the provided root\n",
    "        artifact_name = f\"{split}.csv\"\n",
    "\n",
    "        # Get the path on disk within the temp directory\n",
    "        temp_path = os.path.join(tmp_dir, artifact_name)\n",
    "\n",
    "        logger.info(f\"Uploading the {split} dataset to {artifact_name}\")\n",
    "\n",
    "        # Save then upload to W&B\n",
    "        df.to_csv(temp_path,index=False)\n",
    "\n",
    "        artifact = wandb.Artifact(name=artifact_name,\n",
    "                                  type=artifact_type,\n",
    "                                  description=f\"{split} split of dataset {artifact_input_name}\",\n",
    "        )\n",
    "        artifact.add_file(temp_path)\n",
    "\n",
    "        logger.info(\"Logging artifact\")\n",
    "        run.log_artifact(artifact)\n",
    "\n",
    "        # This waits for the artifact to be uploaded to W&B. If you\n",
    "        # do not add this, the temp directory might be removed before\n",
    "        # W&B had a chance to upload the datasets, and the upload\n",
    "        # might fail\n",
    "        artifact.wait()"
   ]
  },
  {
   "cell_type": "code",
   "execution_count": null,
   "id": "81891a54",
   "metadata": {},
   "outputs": [
    {
     "name": "stdout",
     "output_type": "stream",
     "text": [
      "\n"
     ]
    },
    {
     "data": {
      "text/html": [
       "Waiting for W&B process to finish... <strong style=\"color:green\">(success).</strong>"
      ],
      "text/plain": [
       "<IPython.core.display.HTML object>"
      ]
     },
     "metadata": {},
     "output_type": "display_data"
    },
    {
     "data": {
      "application/vnd.jupyter.widget-view+json": {
       "model_id": "784e7aaad7dd403bbce0560effdbfd68",
       "version_major": 2,
       "version_minor": 0
      },
      "text/plain": [
       "VBox(children=(Label(value='4.725 MB of 4.725 MB uploaded (0.000 MB deduped)\\r'), FloatProgress(value=1.0, max…"
      ]
     },
     "metadata": {},
     "output_type": "display_data"
    },
    {
     "data": {
      "text/html": [
       "Synced <strong style=\"color:#cdcd00\">clear-pine-14</strong>: <a href=\"https://wandb.ai/hangtn13-ssc-national-economics-university/Bank-Marketing/runs/n4z6zqla\" target=\"_blank\">https://wandb.ai/hangtn13-ssc-national-economics-university/Bank-Marketing/runs/n4z6zqla</a><br/>Synced 6 W&B file(s), 0 media file(s), 2 artifact file(s) and 0 other file(s)"
      ],
      "text/plain": [
       "<IPython.core.display.HTML object>"
      ]
     },
     "metadata": {},
     "output_type": "display_data"
    },
    {
     "data": {
      "text/html": [
       "Find logs at: <code>.\\wandb\\run-20250418_221930-n4z6zqla\\logs</code>"
      ],
      "text/plain": [
       "<IPython.core.display.HTML object>"
      ]
     },
     "metadata": {},
     "output_type": "display_data"
    }
   ],
   "source": [
    "# close the run\n",
    "# waiting a while after run the previous cell before execute this\n",
    "run.finish()"
   ]
  },
  {
   "cell_type": "code",
   "execution_count": null,
   "id": "32da4c72",
   "metadata": {},
   "outputs": [
    {
     "name": "stdout",
     "output_type": "stream",
     "text": [
      "On branch main\n",
      "Your branch is ahead of 'origin/main' by 1 commit.\n",
      "  (use \"git push\" to publish your local commits)\n",
      "\n",
      "Untracked files:\n",
      "  (use \"git add <file>...\" to include in what will be committed)\n",
      "\tartifacts/\n",
      "\tdata_segaration.ipynb\n",
      "\ttest_data.py\n",
      "\twandb/run-20250418_214853-enlr4ppk/\n",
      "\twandb/run-20250418_215008-tcnywwd8/\n",
      "\twandb/run-20250418_215135-pmlfx63t/\n",
      "\twandb/run-20250418_215231-c6fm9c1q/\n",
      "\twandb/run-20250418_215340-bddnuqm3/\n",
      "\twandb/run-20250418_215434-xiuc812h/\n",
      "\twandb/run-20250418_215952-1anvs4ed/\n",
      "\twandb/run-20250418_220254-4j1rkppk/\n",
      "\twandb/run-20250418_221930-n4z6zqla/\n",
      "\twandb/run-20250418_222305-vdronr0d/\n",
      "\n",
      "nothing added to commit but untracked files present (use \"git add\" to track)\n"
     ]
    }
   ],
   "source": [
    "#!git status\n"
   ]
  },
  {
   "cell_type": "code",
   "execution_count": null,
   "id": "75b6f8ad",
   "metadata": {},
   "outputs": [
    {
     "name": "stderr",
     "output_type": "stream",
     "text": [
      "warning: LF will be replaced by CRLF in data_segaration.ipynb.\n",
      "The file will have its original line endings in your working directory\n"
     ]
    }
   ],
   "source": [
    "#!git add ."
   ]
  },
  {
   "cell_type": "code",
   "execution_count": null,
   "id": "bb78f20b",
   "metadata": {},
   "outputs": [
    {
     "name": "stdout",
     "output_type": "stream",
     "text": [
      "[main 31298c0] Added all untracked files\n",
      " 63 files changed, 45311 insertions(+)\n",
      " create mode 100644 artifacts/raw_data-v0/bank-additional-full.csv\n",
      " create mode 100644 data_segaration.ipynb\n",
      " create mode 100644 test_data.py\n",
      " create mode 100644 wandb/run-20250418_214853-enlr4ppk/files/conda-environment.yaml\n",
      " create mode 100644 wandb/run-20250418_214853-enlr4ppk/files/config.yaml\n",
      " create mode 100644 wandb/run-20250418_214853-enlr4ppk/files/requirements.txt\n",
      " create mode 100644 wandb/run-20250418_214853-enlr4ppk/files/wandb-metadata.json\n",
      " create mode 100644 wandb/run-20250418_214853-enlr4ppk/files/wandb-summary.json\n",
      " create mode 100644 wandb/run-20250418_214853-enlr4ppk/run-enlr4ppk.wandb\n",
      " create mode 100644 wandb/run-20250418_215008-tcnywwd8/files/conda-environment.yaml\n",
      " create mode 100644 wandb/run-20250418_215008-tcnywwd8/files/config.yaml\n",
      " create mode 100644 wandb/run-20250418_215008-tcnywwd8/files/requirements.txt\n",
      " create mode 100644 wandb/run-20250418_215008-tcnywwd8/files/wandb-metadata.json\n",
      " create mode 100644 wandb/run-20250418_215008-tcnywwd8/files/wandb-summary.json\n",
      " create mode 100644 wandb/run-20250418_215008-tcnywwd8/run-tcnywwd8.wandb\n",
      " create mode 100644 wandb/run-20250418_215135-pmlfx63t/files/conda-environment.yaml\n",
      " create mode 100644 wandb/run-20250418_215135-pmlfx63t/files/config.yaml\n",
      " create mode 100644 wandb/run-20250418_215135-pmlfx63t/files/requirements.txt\n",
      " create mode 100644 wandb/run-20250418_215135-pmlfx63t/files/wandb-metadata.json\n",
      " create mode 100644 wandb/run-20250418_215135-pmlfx63t/files/wandb-summary.json\n",
      " create mode 100644 wandb/run-20250418_215135-pmlfx63t/run-pmlfx63t.wandb\n",
      " create mode 100644 wandb/run-20250418_215231-c6fm9c1q/files/conda-environment.yaml\n",
      " create mode 100644 wandb/run-20250418_215231-c6fm9c1q/files/config.yaml\n",
      " create mode 100644 wandb/run-20250418_215231-c6fm9c1q/files/requirements.txt\n",
      " create mode 100644 wandb/run-20250418_215231-c6fm9c1q/files/wandb-metadata.json\n",
      " create mode 100644 wandb/run-20250418_215231-c6fm9c1q/files/wandb-summary.json\n",
      " create mode 100644 wandb/run-20250418_215231-c6fm9c1q/run-c6fm9c1q.wandb\n",
      " create mode 100644 wandb/run-20250418_215340-bddnuqm3/files/conda-environment.yaml\n",
      " create mode 100644 wandb/run-20250418_215340-bddnuqm3/files/config.yaml\n",
      " create mode 100644 wandb/run-20250418_215340-bddnuqm3/files/requirements.txt\n",
      " create mode 100644 wandb/run-20250418_215340-bddnuqm3/files/wandb-metadata.json\n",
      " create mode 100644 wandb/run-20250418_215340-bddnuqm3/files/wandb-summary.json\n",
      " create mode 100644 wandb/run-20250418_215340-bddnuqm3/run-bddnuqm3.wandb\n",
      " create mode 100644 wandb/run-20250418_215434-xiuc812h/files/conda-environment.yaml\n",
      " create mode 100644 wandb/run-20250418_215434-xiuc812h/files/config.yaml\n",
      " create mode 100644 wandb/run-20250418_215434-xiuc812h/files/requirements.txt\n",
      " create mode 100644 wandb/run-20250418_215434-xiuc812h/files/wandb-metadata.json\n",
      " create mode 100644 wandb/run-20250418_215434-xiuc812h/files/wandb-summary.json\n",
      " create mode 100644 wandb/run-20250418_215434-xiuc812h/run-xiuc812h.wandb\n",
      " create mode 100644 wandb/run-20250418_215952-1anvs4ed/files/conda-environment.yaml\n",
      " create mode 100644 wandb/run-20250418_215952-1anvs4ed/files/config.yaml\n",
      " create mode 100644 wandb/run-20250418_215952-1anvs4ed/files/requirements.txt\n",
      " create mode 100644 wandb/run-20250418_215952-1anvs4ed/files/wandb-metadata.json\n",
      " create mode 100644 wandb/run-20250418_215952-1anvs4ed/files/wandb-summary.json\n",
      " create mode 100644 wandb/run-20250418_215952-1anvs4ed/run-1anvs4ed.wandb\n",
      " create mode 100644 wandb/run-20250418_220254-4j1rkppk/files/conda-environment.yaml\n",
      " create mode 100644 wandb/run-20250418_220254-4j1rkppk/files/config.yaml\n",
      " create mode 100644 wandb/run-20250418_220254-4j1rkppk/files/requirements.txt\n",
      " create mode 100644 wandb/run-20250418_220254-4j1rkppk/files/wandb-metadata.json\n",
      " create mode 100644 wandb/run-20250418_220254-4j1rkppk/files/wandb-summary.json\n",
      " create mode 100644 wandb/run-20250418_220254-4j1rkppk/run-4j1rkppk.wandb\n",
      " create mode 100644 wandb/run-20250418_221930-n4z6zqla/files/conda-environment.yaml\n",
      " create mode 100644 wandb/run-20250418_221930-n4z6zqla/files/config.yaml\n",
      " create mode 100644 wandb/run-20250418_221930-n4z6zqla/files/requirements.txt\n",
      " create mode 100644 wandb/run-20250418_221930-n4z6zqla/files/wandb-metadata.json\n",
      " create mode 100644 wandb/run-20250418_221930-n4z6zqla/files/wandb-summary.json\n",
      " create mode 100644 wandb/run-20250418_221930-n4z6zqla/run-n4z6zqla.wandb\n",
      " create mode 100644 wandb/run-20250418_222305-vdronr0d/files/conda-environment.yaml\n",
      " create mode 100644 wandb/run-20250418_222305-vdronr0d/files/config.yaml\n",
      " create mode 100644 wandb/run-20250418_222305-vdronr0d/files/requirements.txt\n",
      " create mode 100644 wandb/run-20250418_222305-vdronr0d/files/wandb-metadata.json\n",
      " create mode 100644 wandb/run-20250418_222305-vdronr0d/files/wandb-summary.json\n",
      " create mode 100644 wandb/run-20250418_222305-vdronr0d/run-vdronr0d.wandb\n"
     ]
    }
   ],
   "source": [
    "#!git commit -m \"Added all untracked files\""
   ]
  }
 ],
 "metadata": {
  "kernelspec": {
   "display_name": "bankmkt",
   "language": "python",
   "name": "python3"
  },
  "language_info": {
   "codemirror_mode": {
    "name": "ipython",
    "version": 3
   },
   "file_extension": ".py",
   "mimetype": "text/x-python",
   "name": "python",
   "nbconvert_exporter": "python",
   "pygments_lexer": "ipython3",
   "version": "3.8.20"
  }
 },
 "nbformat": 4,
 "nbformat_minor": 5
}
