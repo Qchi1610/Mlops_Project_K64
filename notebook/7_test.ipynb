{
  "cells": [
    {
      "cell_type": "markdown",
      "metadata": {
        "id": "0I4pgzLVtBTP"
      },
      "source": [
        "# 1.0 An end-to-end classification problem (Testing)\n",
        "\n"
      ]
    },
    {
      "cell_type": "markdown",
      "metadata": {
        "id": "Dh34gim6KPtT"
      },
      "source": [
        "## 1.1 Dataset description"
      ]
    },
    {
      "cell_type": "markdown",
      "metadata": {
        "id": "iE8OJoDZ5AFK"
      },
      "source": [
        "The notebooks focus on a borrower's **credit modeling problem**. The database was downloaded through a dataquest project and is available at link below. The data is from **Lending Club** and contains data from loans made in the period **2007 to 2011**. Lending Club is a marketplace for personal loans that matches borrowers who are seeking a loan with investors looking to lend money and make a return. The **target variable**, or what we are wanting to predict, is whether or not, given a person's history, they will repay the loan.\n",
        "\n",
        "You can download the data from the [Kaggle](https://www.kaggle.com/datasets/samaxtech/lending-club-20072011-data).\n",
        "\n",
        "Let's take the following steps:\n",
        "\n",
        "1. ETL (done)\n",
        "2. Data Checks (done)\n",
        "3. Data Segregation (done)\n",
        "4. Training (done)\n",
        "5. Test\n",
        "\n",
        "<center><img width=\"600\" src=\"https://drive.google.com/uc?export=view&id=1fKGuR5U5ECf7On6Zo1UWzAIWZrMmZnGc\"></center>"
      ]
    },
    {
      "cell_type": "markdown",
      "metadata": {
        "id": "7UpxKxU1Ej7f"
      },
      "source": [
        "## 1.2 Install, load libraries"
      ]
    },
    {
      "cell_type": "code",
      "execution_count": 2,
      "metadata": {
        "id": "NreRnbvI8lL5"
      },
      "outputs": [],
      "source": [
        "import logging\n",
        "import pandas as pd\n",
        "import wandb\n",
        "import joblib\n",
        "from sklearn.base import BaseEstimator, TransformerMixin\n",
        "from sklearn.metrics import fbeta_score, precision_score, recall_score, accuracy_score\n",
        "from sklearn.metrics import classification_report\n",
        "from sklearn.metrics import confusion_matrix\n",
        "from sklearn.metrics import ConfusionMatrixDisplay\n",
        "import matplotlib.pyplot as plt\n",
        "from sklearn.model_selection import train_test_split\n",
        "from sklearn.neighbors import LocalOutlierFactor\n",
        "from sklearn.preprocessing import LabelEncoder\n",
        "from sklearn.preprocessing import OneHotEncoder\n",
        "from sklearn.base import BaseEstimator, TransformerMixin\n",
        "from sklearn.preprocessing import MinMaxScaler\n",
        "from sklearn.preprocessing import StandardScaler\n",
        "from sklearn.preprocessing import OneHotEncoder\n",
        "from sklearn.pipeline import Pipeline, FeatureUnion\n",
        "from sklearn.tree import DecisionTreeClassifier\n",
        "from sklearn.impute import SimpleImputer\n",
        "from sklearn.metrics import fbeta_score, precision_score, recall_score, accuracy_score\n",
        "from sklearn.metrics import classification_report\n",
        "from sklearn.metrics import confusion_matrix\n",
        "from sklearn.metrics import ConfusionMatrixDisplay"
      ]
    },
    {
      "cell_type": "code",
      "execution_count": 3,
      "metadata": {
        "colab": {
          "base_uri": "https://localhost:8080/"
        },
        "id": "QZXcN54GkP25",
        "outputId": "01222295-efba-4ae4-b656-cb617b30fb96"
      },
      "outputs": [
        {
          "name": "stderr",
          "output_type": "stream",
          "text": [
            "Failed to detect the name of this notebook, you can set it manually with the WANDB_NOTEBOOK_NAME environment variable to enable code saving.\n",
            "\u001b[34m\u001b[1mwandb\u001b[0m: Currently logged in as: \u001b[33mhangtn13-ssc-national-economics-university\u001b[0m (use `wandb login --relogin` to force relogin)\n"
          ]
        },
        {
          "data": {
            "text/plain": [
              "True"
            ]
          },
          "execution_count": 3,
          "metadata": {},
          "output_type": "execute_result"
        }
      ],
      "source": [
        "# Login to Weights & Biases\n",
        "wandb.login()"
      ]
    },
    {
      "cell_type": "markdown",
      "metadata": {
        "id": "8ueX2KClcICb"
      },
      "source": [
        "## 1.3 Test evaluation"
      ]
    },
    {
      "cell_type": "markdown",
      "metadata": {
        "id": "rU-ssUv-gx8K"
      },
      "source": [
        "### 1.3.1 Definition of the base classes"
      ]
    },
    {
      "cell_type": "markdown",
      "metadata": {
        "id": "VeqPYBtbg7DF"
      },
      "source": [
        "This is necessary in order to ```joblib.load()```see the previous definitions used in the Train Pipeline."
      ]
    },
    {
      "cell_type": "code",
      "execution_count": 4,
      "metadata": {
        "id": "vQ4naPLtgVAm"
      },
      "outputs": [],
      "source": [
        "class FeatureSelector(BaseEstimator, TransformerMixin):\n",
        "    # Class Constructor\n",
        "    def __init__(self, feature_names):\n",
        "        self.feature_names = feature_names\n",
        "\n",
        "    # Return self nothing else to do here\n",
        "    def fit(self, X, y=None):\n",
        "        return self\n",
        "\n",
        "    # Method that describes what this custom transformer need to do\n",
        "    def transform(self, X, y=None):\n",
        "        return X[self.feature_names]\n",
        "\n",
        "# Handling categorical features\n",
        "class CategoricalTransformer(BaseEstimator, TransformerMixin):\n",
        "    def __init__(self, new_features=True, colnames=None):\n",
        "        self.new_features = new_features\n",
        "        self.colnames = colnames\n",
        "\n",
        "    def fit(self, X, y=None):\n",
        "        return self\n",
        "\n",
        "    def get_feature_names_out(self):\n",
        "        return self.colnames.tolist()\n",
        "\n",
        "    def transform(self, X, y=None):\n",
        "        df = pd.DataFrame(X, columns=self.colnames)\n",
        "\n",
        "        # Remove white space in categorical features\n",
        "        df = df.apply(lambda row: row.str.strip() if row.dtype == \"object\" else row)\n",
        "\n",
        "        if self.new_features:\n",
        "            # Define mappings\n",
        "            mapping_dict = {\n",
        "                'basic 4y': 4,\n",
        "                'basic 6y': 6,\n",
        "                'basic 9y': 9,\n",
        "                'high school': 12,\n",
        "                'professional course': 19,\n",
        "                'university degree': 16,\n",
        "                'illiterate': 0,\n",
        "                'unknown': -1\n",
        "            }\n",
        "\n",
        "            month_map = {\n",
        "                'jan': 1, 'feb': 2, 'mar': 3, 'apr': 4,\n",
        "                'may': 5, 'jun': 6, 'jul': 7, 'aug': 8,\n",
        "                'sep': 9, 'oct': 10, 'nov': 11, 'dec': 12\n",
        "            }\n",
        "\n",
        "            weekday_map = {\n",
        "                'mon': 1, 'tue': 2, 'wed': 3,\n",
        "                'thu': 4, 'fri': 5, 'sat': 6, 'sun': 7\n",
        "            }\n",
        "\n",
        "            if 'education' in df.columns:\n",
        "                df['education'] = df['education'].replace(mapping_dict)\n",
        "\n",
        "            if 'month' in df.columns:\n",
        "                df['month'] = df['month'].replace(month_map)\n",
        "\n",
        "            if 'day_of_week' in df.columns:\n",
        "                df['day_of_week'] = df['day_of_week'].replace(weekday_map)\n",
        "\n",
        "        self.colnames = df.columns\n",
        "        return df\n",
        "\n",
        "\n",
        "# transform numerical features\n",
        "class NumericalTransformer(BaseEstimator, TransformerMixin):\n",
        "    # Class constructor method that takes a model parameter as its argument\n",
        "    # model 0: minmax\n",
        "    # model 1: standard\n",
        "    # model 2: without scaler\n",
        "    def __init__(self, model=0, colnames=None):\n",
        "        self.model = model\n",
        "        self.colnames = colnames\n",
        "        self.scaler = None\n",
        "\n",
        "    # Fit is used only to learn statistical about Scalers\n",
        "    def fit(self, X, y=None):\n",
        "        df = pd.DataFrame(X, columns=self.colnames)\n",
        "        # minmax\n",
        "        if self.model == 0:\n",
        "            self.scaler = MinMaxScaler()\n",
        "            self.scaler.fit(df)\n",
        "        # standard scaler\n",
        "        elif self.model == 1:\n",
        "            self.scaler = StandardScaler()\n",
        "            self.scaler.fit(df)\n",
        "        return self\n",
        "\n",
        "    # return columns names after transformation\n",
        "    def get_feature_names_out(self):\n",
        "        return self.colnames\n",
        "\n",
        "    # Transformer method we wrote for this transformer\n",
        "    # Use fitted scalers\n",
        "    def transform(self, X, y=None):\n",
        "        df = pd.DataFrame(X, columns=self.colnames)\n",
        "\n",
        "        # update columns name\n",
        "        self.colnames = df.columns.tolist()\n",
        "\n",
        "        # minmax\n",
        "        if self.model == 0:\n",
        "            # transform data\n",
        "            df = self.scaler.transform(df)\n",
        "        elif self.model == 1:\n",
        "            # transform data\n",
        "            df = self.scaler.transform(df)\n",
        "        else:\n",
        "            df = df.values\n",
        "\n",
        "        return df"
      ]
    },
    {
      "cell_type": "markdown",
      "metadata": {
        "id": "8N4nmtemhLLZ"
      },
      "source": [
        "### 1.3.2 Evaluation"
      ]
    },
    {
      "cell_type": "code",
      "execution_count": 5,
      "metadata": {
        "id": "E-2z7Fq7cdbX"
      },
      "outputs": [],
      "source": [
        "# global variables\n",
        "\n",
        "# name of the artifact related to test dataset\n",
        "artifact_test_name = \"Bank-Marketing/test.csv:latest\"\n",
        "\n",
        "# name of the model artifact\n",
        "artifact_model_name = \"Bank-Marketing/model_export:latest\"\n",
        "\n",
        "# name of the target encoder artifact\n",
        "artifact_encoder_name = \"Bank-Marketing/target_encoder:latest\""
      ]
    },
    {
      "cell_type": "code",
      "execution_count": 6,
      "metadata": {
        "id": "tOh7odFBdO88"
      },
      "outputs": [],
      "source": [
        "# configure logging\n",
        "logging.basicConfig(level=logging.INFO,\n",
        "                    format=\"%(asctime)s %(message)s\",\n",
        "                    datefmt='%d-%m-%Y %H:%M:%S')\n",
        "\n",
        "# reference for a logging obj\n",
        "logger = logging.getLogger()"
      ]
    },
    {
      "cell_type": "code",
      "execution_count": 7,
      "metadata": {
        "colab": {
          "base_uri": "https://localhost:8080/",
          "height": 87
        },
        "id": "O177vAixdW9i",
        "outputId": "57e227cb-d188-4c67-8fa4-fb20839affee"
      },
      "outputs": [
        {
          "data": {
            "text/html": [
              "wandb version 0.19.10 is available!  To upgrade, please run:\n",
              " $ pip install wandb --upgrade"
            ],
            "text/plain": [
              "<IPython.core.display.HTML object>"
            ]
          },
          "metadata": {},
          "output_type": "display_data"
        },
        {
          "data": {
            "text/html": [
              "Tracking run with wandb version 0.12.14"
            ],
            "text/plain": [
              "<IPython.core.display.HTML object>"
            ]
          },
          "metadata": {},
          "output_type": "display_data"
        },
        {
          "data": {
            "text/html": [
              "Run data is saved locally in <code>c:\\Mlops_Project_K64_v2\\notebook\\wandb\\run-20250508_010002-82ln28pp</code>"
            ],
            "text/plain": [
              "<IPython.core.display.HTML object>"
            ]
          },
          "metadata": {},
          "output_type": "display_data"
        },
        {
          "data": {
            "text/html": [
              "Syncing run <strong><a href=\"https://wandb.ai/hangtn13-ssc-national-economics-university/Bank-Marketing/runs/82ln28pp\" target=\"_blank\">dandy-cherry-67</a></strong> to <a href=\"https://wandb.ai/hangtn13-ssc-national-economics-university/Bank-Marketing\" target=\"_blank\">Weights & Biases</a> (<a href=\"https://wandb.me/run\" target=\"_blank\">docs</a>)<br/>"
            ],
            "text/plain": [
              "<IPython.core.display.HTML object>"
            ]
          },
          "metadata": {},
          "output_type": "display_data"
        }
      ],
      "source": [
        "# initiate the wandb project\n",
        "run = wandb.init(project=\"Bank-Marketing\",job_type=\"test\")"
      ]
    },
    {
      "cell_type": "code",
      "execution_count": 8,
      "metadata": {},
      "outputs": [],
      "source": [
        "import os"
      ]
    },
    {
      "cell_type": "code",
      "execution_count": 9,
      "metadata": {
        "colab": {
          "base_uri": "https://localhost:8080/"
        },
        "id": "siFQuqmvdiRO",
        "outputId": "8e40d8ec-63df-4e34-aac9-8ccc2ff3f318"
      },
      "outputs": [
        {
          "name": "stderr",
          "output_type": "stream",
          "text": [
            "08-05-2025 01:00:11 Downloading and reading test artifact\n",
            "08-05-2025 01:00:13 Extracting target from dataframe\n"
          ]
        }
      ],
      "source": [
        "logger.info(\"Downloading and reading test artifact\")\n",
        "artifact = run.use_artifact(artifact_test_name)\n",
        "artifact_dir = artifact.download()\n",
        "\n",
        "# Now access the file directly\n",
        "test_data_path = os.path.join(artifact_dir, \"test.csv\")\n",
        "df_test = pd.read_csv(test_data_path)\n",
        "\n",
        "# Extract the target from the features\n",
        "logger.info(\"Extracting target from dataframe\")\n",
        "x_test = df_test.copy()\n",
        "y_test = x_test.pop(\"y\")"
      ]
    },
    {
      "cell_type": "code",
      "execution_count": 10,
      "metadata": {
        "colab": {
          "base_uri": "https://localhost:8080/",
          "height": 357
        },
        "id": "pdXTWnBfdwbE",
        "outputId": "5979c251-9f2f-4469-9783-e1f3dcd021e9"
      },
      "outputs": [
        {
          "data": {
            "application/vnd.microsoft.datawrangler.viewer.v0+json": {
              "columns": [
                {
                  "name": "index",
                  "rawType": "int64",
                  "type": "integer"
                },
                {
                  "name": "age",
                  "rawType": "int64",
                  "type": "integer"
                },
                {
                  "name": "job",
                  "rawType": "object",
                  "type": "string"
                },
                {
                  "name": "marital",
                  "rawType": "object",
                  "type": "string"
                },
                {
                  "name": "education",
                  "rawType": "object",
                  "type": "string"
                },
                {
                  "name": "default",
                  "rawType": "object",
                  "type": "string"
                },
                {
                  "name": "housing",
                  "rawType": "object",
                  "type": "string"
                },
                {
                  "name": "loan",
                  "rawType": "object",
                  "type": "string"
                },
                {
                  "name": "contact",
                  "rawType": "object",
                  "type": "string"
                },
                {
                  "name": "month",
                  "rawType": "object",
                  "type": "string"
                },
                {
                  "name": "day_of_week",
                  "rawType": "object",
                  "type": "string"
                },
                {
                  "name": "campaign",
                  "rawType": "int64",
                  "type": "integer"
                },
                {
                  "name": "pdays",
                  "rawType": "float64",
                  "type": "float"
                },
                {
                  "name": "previous",
                  "rawType": "int64",
                  "type": "integer"
                },
                {
                  "name": "poutcome",
                  "rawType": "object",
                  "type": "string"
                },
                {
                  "name": "emp_var_rate",
                  "rawType": "float64",
                  "type": "float"
                },
                {
                  "name": "cons_price_idx",
                  "rawType": "float64",
                  "type": "float"
                },
                {
                  "name": "cons_conf_idx",
                  "rawType": "float64",
                  "type": "float"
                },
                {
                  "name": "euribor3m",
                  "rawType": "float64",
                  "type": "float"
                },
                {
                  "name": "nr_employed",
                  "rawType": "float64",
                  "type": "float"
                },
                {
                  "name": "pdays_contacted_status",
                  "rawType": "int64",
                  "type": "integer"
                }
              ],
              "conversionMethod": "pd.DataFrame",
              "ref": "b85eb236-4249-4ced-9dc7-970f19c419c1",
              "rows": [
                [
                  "0",
                  "51",
                  "self-employed",
                  "married",
                  "university degree",
                  "unknown",
                  "no",
                  "no",
                  "telephone",
                  "jun",
                  "fri",
                  "2",
                  null,
                  "0",
                  "nonexistent",
                  "1.4",
                  "94.465",
                  "-41.8",
                  "4.967",
                  "5228.1",
                  "0"
                ],
                [
                  "1",
                  "40",
                  "technician",
                  "single",
                  "high school",
                  "no",
                  "yes",
                  "no",
                  "cellular",
                  "aug",
                  "fri",
                  "1",
                  null,
                  "0",
                  "nonexistent",
                  "1.4",
                  "93.444",
                  "-36.1",
                  "4.964",
                  "5228.1",
                  "0"
                ],
                [
                  "2",
                  "34",
                  "admin",
                  "married",
                  "university degree",
                  "no",
                  "no",
                  "no",
                  "cellular",
                  "jul",
                  "wed",
                  "2",
                  null,
                  "0",
                  "nonexistent",
                  "1.4",
                  "93.918",
                  "-42.7",
                  "4.957",
                  "5228.1",
                  "0"
                ],
                [
                  "3",
                  "38",
                  "blue-collar",
                  "married",
                  "basic 9y",
                  "no",
                  "no",
                  "no",
                  "telephone",
                  "may",
                  "tue",
                  "1",
                  null,
                  "0",
                  "nonexistent",
                  "1.1",
                  "93.994",
                  "-36.4",
                  "4.857",
                  "5191.0",
                  "0"
                ],
                [
                  "4",
                  "31",
                  "blue-collar",
                  "married",
                  "basic 6y",
                  "no",
                  "no",
                  "no",
                  "cellular",
                  "may",
                  "tue",
                  "3",
                  null,
                  "1",
                  "failure",
                  "-1.8",
                  "92.893",
                  "-46.2",
                  "1.291",
                  "5099.1",
                  "0"
                ]
              ],
              "shape": {
                "columns": 20,
                "rows": 5
              }
            },
            "text/html": [
              "<div>\n",
              "<style scoped>\n",
              "    .dataframe tbody tr th:only-of-type {\n",
              "        vertical-align: middle;\n",
              "    }\n",
              "\n",
              "    .dataframe tbody tr th {\n",
              "        vertical-align: top;\n",
              "    }\n",
              "\n",
              "    .dataframe thead th {\n",
              "        text-align: right;\n",
              "    }\n",
              "</style>\n",
              "<table border=\"1\" class=\"dataframe\">\n",
              "  <thead>\n",
              "    <tr style=\"text-align: right;\">\n",
              "      <th></th>\n",
              "      <th>age</th>\n",
              "      <th>job</th>\n",
              "      <th>marital</th>\n",
              "      <th>education</th>\n",
              "      <th>default</th>\n",
              "      <th>housing</th>\n",
              "      <th>loan</th>\n",
              "      <th>contact</th>\n",
              "      <th>month</th>\n",
              "      <th>day_of_week</th>\n",
              "      <th>campaign</th>\n",
              "      <th>pdays</th>\n",
              "      <th>previous</th>\n",
              "      <th>poutcome</th>\n",
              "      <th>emp_var_rate</th>\n",
              "      <th>cons_price_idx</th>\n",
              "      <th>cons_conf_idx</th>\n",
              "      <th>euribor3m</th>\n",
              "      <th>nr_employed</th>\n",
              "      <th>pdays_contacted_status</th>\n",
              "    </tr>\n",
              "  </thead>\n",
              "  <tbody>\n",
              "    <tr>\n",
              "      <th>0</th>\n",
              "      <td>51</td>\n",
              "      <td>self-employed</td>\n",
              "      <td>married</td>\n",
              "      <td>university degree</td>\n",
              "      <td>unknown</td>\n",
              "      <td>no</td>\n",
              "      <td>no</td>\n",
              "      <td>telephone</td>\n",
              "      <td>jun</td>\n",
              "      <td>fri</td>\n",
              "      <td>2</td>\n",
              "      <td>NaN</td>\n",
              "      <td>0</td>\n",
              "      <td>nonexistent</td>\n",
              "      <td>1.4</td>\n",
              "      <td>94.465</td>\n",
              "      <td>-41.8</td>\n",
              "      <td>4.967</td>\n",
              "      <td>5228.1</td>\n",
              "      <td>0</td>\n",
              "    </tr>\n",
              "    <tr>\n",
              "      <th>1</th>\n",
              "      <td>40</td>\n",
              "      <td>technician</td>\n",
              "      <td>single</td>\n",
              "      <td>high school</td>\n",
              "      <td>no</td>\n",
              "      <td>yes</td>\n",
              "      <td>no</td>\n",
              "      <td>cellular</td>\n",
              "      <td>aug</td>\n",
              "      <td>fri</td>\n",
              "      <td>1</td>\n",
              "      <td>NaN</td>\n",
              "      <td>0</td>\n",
              "      <td>nonexistent</td>\n",
              "      <td>1.4</td>\n",
              "      <td>93.444</td>\n",
              "      <td>-36.1</td>\n",
              "      <td>4.964</td>\n",
              "      <td>5228.1</td>\n",
              "      <td>0</td>\n",
              "    </tr>\n",
              "    <tr>\n",
              "      <th>2</th>\n",
              "      <td>34</td>\n",
              "      <td>admin</td>\n",
              "      <td>married</td>\n",
              "      <td>university degree</td>\n",
              "      <td>no</td>\n",
              "      <td>no</td>\n",
              "      <td>no</td>\n",
              "      <td>cellular</td>\n",
              "      <td>jul</td>\n",
              "      <td>wed</td>\n",
              "      <td>2</td>\n",
              "      <td>NaN</td>\n",
              "      <td>0</td>\n",
              "      <td>nonexistent</td>\n",
              "      <td>1.4</td>\n",
              "      <td>93.918</td>\n",
              "      <td>-42.7</td>\n",
              "      <td>4.957</td>\n",
              "      <td>5228.1</td>\n",
              "      <td>0</td>\n",
              "    </tr>\n",
              "    <tr>\n",
              "      <th>3</th>\n",
              "      <td>38</td>\n",
              "      <td>blue-collar</td>\n",
              "      <td>married</td>\n",
              "      <td>basic 9y</td>\n",
              "      <td>no</td>\n",
              "      <td>no</td>\n",
              "      <td>no</td>\n",
              "      <td>telephone</td>\n",
              "      <td>may</td>\n",
              "      <td>tue</td>\n",
              "      <td>1</td>\n",
              "      <td>NaN</td>\n",
              "      <td>0</td>\n",
              "      <td>nonexistent</td>\n",
              "      <td>1.1</td>\n",
              "      <td>93.994</td>\n",
              "      <td>-36.4</td>\n",
              "      <td>4.857</td>\n",
              "      <td>5191.0</td>\n",
              "      <td>0</td>\n",
              "    </tr>\n",
              "    <tr>\n",
              "      <th>4</th>\n",
              "      <td>31</td>\n",
              "      <td>blue-collar</td>\n",
              "      <td>married</td>\n",
              "      <td>basic 6y</td>\n",
              "      <td>no</td>\n",
              "      <td>no</td>\n",
              "      <td>no</td>\n",
              "      <td>cellular</td>\n",
              "      <td>may</td>\n",
              "      <td>tue</td>\n",
              "      <td>3</td>\n",
              "      <td>NaN</td>\n",
              "      <td>1</td>\n",
              "      <td>failure</td>\n",
              "      <td>-1.8</td>\n",
              "      <td>92.893</td>\n",
              "      <td>-46.2</td>\n",
              "      <td>1.291</td>\n",
              "      <td>5099.1</td>\n",
              "      <td>0</td>\n",
              "    </tr>\n",
              "  </tbody>\n",
              "</table>\n",
              "</div>"
            ],
            "text/plain": [
              "   age            job  marital          education  default housing loan  \\\n",
              "0   51  self-employed  married  university degree  unknown      no   no   \n",
              "1   40     technician   single        high school       no     yes   no   \n",
              "2   34          admin  married  university degree       no      no   no   \n",
              "3   38    blue-collar  married           basic 9y       no      no   no   \n",
              "4   31    blue-collar  married           basic 6y       no      no   no   \n",
              "\n",
              "     contact month day_of_week  campaign  pdays  previous     poutcome  \\\n",
              "0  telephone   jun         fri         2    NaN         0  nonexistent   \n",
              "1   cellular   aug         fri         1    NaN         0  nonexistent   \n",
              "2   cellular   jul         wed         2    NaN         0  nonexistent   \n",
              "3  telephone   may         tue         1    NaN         0  nonexistent   \n",
              "4   cellular   may         tue         3    NaN         1      failure   \n",
              "\n",
              "   emp_var_rate  cons_price_idx  cons_conf_idx  euribor3m  nr_employed  \\\n",
              "0           1.4          94.465          -41.8      4.967       5228.1   \n",
              "1           1.4          93.444          -36.1      4.964       5228.1   \n",
              "2           1.4          93.918          -42.7      4.957       5228.1   \n",
              "3           1.1          93.994          -36.4      4.857       5191.0   \n",
              "4          -1.8          92.893          -46.2      1.291       5099.1   \n",
              "\n",
              "   pdays_contacted_status  \n",
              "0                       0  \n",
              "1                       0  \n",
              "2                       0  \n",
              "3                       0  \n",
              "4                       0  "
            ]
          },
          "execution_count": 10,
          "metadata": {},
          "output_type": "execute_result"
        }
      ],
      "source": [
        "# Takes a look at test set\n",
        "x_test.head()"
      ]
    },
    {
      "cell_type": "code",
      "execution_count": 11,
      "metadata": {
        "colab": {
          "base_uri": "https://localhost:8080/"
        },
        "id": "irBhj9UXdybG",
        "outputId": "2b0c9a08-a4ee-4643-8d5d-24273f1a0c90"
      },
      "outputs": [
        {
          "data": {
            "text/plain": [
              "0     no\n",
              "1     no\n",
              "2    yes\n",
              "3     no\n",
              "4     no\n",
              "Name: y, dtype: object"
            ]
          },
          "execution_count": 11,
          "metadata": {},
          "output_type": "execute_result"
        }
      ],
      "source": [
        "# Take a look at the target variable\n",
        "y_test.head()"
      ]
    },
    {
      "cell_type": "code",
      "execution_count": 12,
      "metadata": {
        "colab": {
          "base_uri": "https://localhost:8080/"
        },
        "id": "dwIVe_-GeBFz",
        "outputId": "e9ee292d-b0d8-4e91-af9b-f08080d62668"
      },
      "outputs": [
        {
          "name": "stderr",
          "output_type": "stream",
          "text": [
            "08-05-2025 01:00:14 Extracting the encoding of the target variable\n"
          ]
        }
      ],
      "source": [
        "# Extract the encoding of the target variable\n",
        "logger.info(\"Extracting the encoding of the target variable\")\n",
        "artifact = run.use_artifact(artifact_encoder_name)\n",
        "artifact_dir = artifact.download()  # downloads the artifact contents to a local directory\n",
        "\n",
        "encoder_path = os.path.join(artifact_dir, \"target_encoder\")  # update if the file has a different name\n",
        "le = joblib.load(encoder_path)"
      ]
    },
    {
      "cell_type": "code",
      "execution_count": 13,
      "metadata": {
        "colab": {
          "base_uri": "https://localhost:8080/"
        },
        "id": "GtdxHiF7e8oJ",
        "outputId": "94e49a87-7ea9-4878-9a06-503209d05453"
      },
      "outputs": [
        {
          "name": "stderr",
          "output_type": "stream",
          "text": [
            "08-05-2025 01:00:17 Classes [0, 1]: ['no' 'yes']\n"
          ]
        }
      ],
      "source": [
        "# transform y_train\n",
        "y_test = le.transform(y_test)\n",
        "logger.info(\"Classes [0, 1]: {}\".format(le.inverse_transform([0, 1])))"
      ]
    },
    {
      "cell_type": "code",
      "execution_count": 14,
      "metadata": {
        "colab": {
          "base_uri": "https://localhost:8080/"
        },
        "id": "QRJ_dDWNfD0Z",
        "outputId": "9e0d6048-fb78-4ce8-e87f-8036001751b9"
      },
      "outputs": [
        {
          "data": {
            "text/plain": [
              "array([0, 0, 1, ..., 0, 0, 1])"
            ]
          },
          "execution_count": 14,
          "metadata": {},
          "output_type": "execute_result"
        }
      ],
      "source": [
        "# target variable after the encoding\n",
        "y_test"
      ]
    },
    {
      "cell_type": "code",
      "execution_count": 15,
      "metadata": {
        "colab": {
          "base_uri": "https://localhost:8080/"
        },
        "id": "hubXniw5fGc_",
        "outputId": "1a810f2d-7fa6-4b84-9e2d-f9bd96e2ffe1"
      },
      "outputs": [
        {
          "name": "stderr",
          "output_type": "stream",
          "text": [
            "08-05-2025 01:00:17 Downloading and load the exported model\n"
          ]
        },
        {
          "name": "stdout",
          "output_type": "stream",
          "text": [
            ".\\artifacts\\model_export-v2\\model_export\n"
          ]
        }
      ],
      "source": [
        "# Download inference artifact\n",
        "logger.info(\"Downloading and load the exported model\")\n",
        "model_artifact = run.use_artifact(artifact_model_name)\n",
        "artifact_dir = model_artifact.download()\n",
        "# Inspect files in the artifact directory\n",
        "import os\n",
        "for root, dirs, files in os.walk(artifact_dir):\n",
        "    for file in files:\n",
        "        print(os.path.join(root, file))  # This will help you find the correct filename\n",
        "model_path = os.path.join(artifact_dir, \"model_export\")  # update if the file has a different name\n",
        "pipe = joblib.load(model_path)"
      ]
    },
    {
      "cell_type": "code",
      "execution_count": 16,
      "metadata": {
        "colab": {
          "base_uri": "https://localhost:8080/"
        },
        "id": "7AmX-6-Sf0v0",
        "outputId": "72480c4d-7eaa-4e92-ca44-0aa9597234f5"
      },
      "outputs": [
        {
          "name": "stderr",
          "output_type": "stream",
          "text": [
            "08-05-2025 01:00:20 Infering\n",
            "08-05-2025 01:00:20 Test Evaluation metrics\n",
            "08-05-2025 01:00:20 Test Accuracy: 0.8350463139195533\n",
            "08-05-2025 01:00:20 Test Precision: 0.30885311871227367\n",
            "08-05-2025 01:00:20 Test Recall: 0.33369565217391306\n",
            "08-05-2025 01:00:20 Test F1: 0.3207941483803553\n"
          ]
        }
      ],
      "source": [
        "# predict\n",
        "logger.info(\"Infering\")\n",
        "predict = pipe.predict(x_test)\n",
        "\n",
        "# Evaluation Metrics\n",
        "logger.info(\"Test Evaluation metrics\")\n",
        "fbeta = fbeta_score(y_test, predict, beta=1, zero_division=1)\n",
        "precision = precision_score(y_test, predict, zero_division=1)\n",
        "recall = recall_score(y_test, predict, zero_division=1)\n",
        "acc = accuracy_score(y_test, predict)\n",
        "\n",
        "logger.info(\"Test Accuracy: {}\".format(acc))\n",
        "logger.info(\"Test Precision: {}\".format(precision))\n",
        "logger.info(\"Test Recall: {}\".format(recall))\n",
        "logger.info(\"Test F1: {}\".format(fbeta))\n",
        "\n",
        "run.summary[\"Acc\"] = acc\n",
        "run.summary[\"Precision\"] = precision\n",
        "run.summary[\"Recall\"] = recall\n",
        "run.summary[\"F1\"] = fbeta"
      ]
    },
    {
      "cell_type": "code",
      "execution_count": 17,
      "metadata": {
        "colab": {
          "base_uri": "https://localhost:8080/",
          "height": 661
        },
        "id": "_BWDaALmUJ41",
        "outputId": "bc26d2a6-5fcf-4250-a900-6e0f7e40cd48"
      },
      "outputs": [
        {
          "data": {
            "application/vnd.microsoft.datawrangler.viewer.v0+json": {
              "columns": [
                {
                  "name": "index",
                  "rawType": "int64",
                  "type": "integer"
                },
                {
                  "name": "age",
                  "rawType": "int64",
                  "type": "integer"
                },
                {
                  "name": "job",
                  "rawType": "object",
                  "type": "string"
                },
                {
                  "name": "marital",
                  "rawType": "object",
                  "type": "string"
                },
                {
                  "name": "education",
                  "rawType": "object",
                  "type": "string"
                },
                {
                  "name": "default",
                  "rawType": "object",
                  "type": "string"
                },
                {
                  "name": "housing",
                  "rawType": "object",
                  "type": "string"
                },
                {
                  "name": "loan",
                  "rawType": "object",
                  "type": "string"
                },
                {
                  "name": "contact",
                  "rawType": "object",
                  "type": "string"
                },
                {
                  "name": "month",
                  "rawType": "object",
                  "type": "string"
                },
                {
                  "name": "day_of_week",
                  "rawType": "object",
                  "type": "string"
                },
                {
                  "name": "campaign",
                  "rawType": "int64",
                  "type": "integer"
                },
                {
                  "name": "pdays",
                  "rawType": "float64",
                  "type": "float"
                },
                {
                  "name": "previous",
                  "rawType": "int64",
                  "type": "integer"
                },
                {
                  "name": "poutcome",
                  "rawType": "object",
                  "type": "string"
                },
                {
                  "name": "emp_var_rate",
                  "rawType": "float64",
                  "type": "float"
                },
                {
                  "name": "cons_price_idx",
                  "rawType": "float64",
                  "type": "float"
                },
                {
                  "name": "cons_conf_idx",
                  "rawType": "float64",
                  "type": "float"
                },
                {
                  "name": "euribor3m",
                  "rawType": "float64",
                  "type": "float"
                },
                {
                  "name": "nr_employed",
                  "rawType": "float64",
                  "type": "float"
                },
                {
                  "name": "pdays_contacted_status",
                  "rawType": "int64",
                  "type": "integer"
                }
              ],
              "conversionMethod": "pd.DataFrame",
              "ref": "9f8eda2f-2f00-4734-9717-f00c2e64c2fa",
              "rows": [
                [
                  "0",
                  "51",
                  "self-employed",
                  "married",
                  "university degree",
                  "unknown",
                  "no",
                  "no",
                  "telephone",
                  "jun",
                  "fri",
                  "2",
                  null,
                  "0",
                  "nonexistent",
                  "1.4",
                  "94.465",
                  "-41.8",
                  "4.967",
                  "5228.1",
                  "0"
                ],
                [
                  "1",
                  "40",
                  "technician",
                  "single",
                  "high school",
                  "no",
                  "yes",
                  "no",
                  "cellular",
                  "aug",
                  "fri",
                  "1",
                  null,
                  "0",
                  "nonexistent",
                  "1.4",
                  "93.444",
                  "-36.1",
                  "4.964",
                  "5228.1",
                  "0"
                ],
                [
                  "2",
                  "34",
                  "admin",
                  "married",
                  "university degree",
                  "no",
                  "no",
                  "no",
                  "cellular",
                  "jul",
                  "wed",
                  "2",
                  null,
                  "0",
                  "nonexistent",
                  "1.4",
                  "93.918",
                  "-42.7",
                  "4.957",
                  "5228.1",
                  "0"
                ],
                [
                  "3",
                  "38",
                  "blue-collar",
                  "married",
                  "basic 9y",
                  "no",
                  "no",
                  "no",
                  "telephone",
                  "may",
                  "tue",
                  "1",
                  null,
                  "0",
                  "nonexistent",
                  "1.1",
                  "93.994",
                  "-36.4",
                  "4.857",
                  "5191.0",
                  "0"
                ],
                [
                  "4",
                  "31",
                  "blue-collar",
                  "married",
                  "basic 6y",
                  "no",
                  "no",
                  "no",
                  "cellular",
                  "may",
                  "tue",
                  "3",
                  null,
                  "1",
                  "failure",
                  "-1.8",
                  "92.893",
                  "-46.2",
                  "1.291",
                  "5099.1",
                  "0"
                ],
                [
                  "5",
                  "39",
                  "blue-collar",
                  "married",
                  "basic 9y",
                  "unknown",
                  "yes",
                  "no",
                  "telephone",
                  "may",
                  "wed",
                  "9",
                  null,
                  "0",
                  "nonexistent",
                  "1.1",
                  "93.994",
                  "-36.4",
                  "4.857",
                  "5191.0",
                  "0"
                ],
                [
                  "6",
                  "48",
                  "blue-collar",
                  "married",
                  "basic 4y",
                  "unknown",
                  "no",
                  "no",
                  "cellular",
                  "nov",
                  "fri",
                  "3",
                  null,
                  "0",
                  "nonexistent",
                  "-0.1",
                  "93.2",
                  "-42.0",
                  "4.021",
                  "5195.8",
                  "0"
                ],
                [
                  "7",
                  "37",
                  "services",
                  "divorced",
                  "basic 6y",
                  "no",
                  "yes",
                  "yes",
                  "cellular",
                  "jul",
                  "tue",
                  "2",
                  null,
                  "0",
                  "nonexistent",
                  "1.4",
                  "93.918",
                  "-42.7",
                  "4.962",
                  "5228.1",
                  "0"
                ],
                [
                  "8",
                  "33",
                  "blue-collar",
                  "single",
                  "high school",
                  "no",
                  "no",
                  "no",
                  "cellular",
                  "may",
                  "mon",
                  "2",
                  null,
                  "0",
                  "nonexistent",
                  "-1.8",
                  "92.893",
                  "-46.2",
                  "1.244",
                  "5099.1",
                  "0"
                ],
                [
                  "9",
                  "56",
                  "retired",
                  "married",
                  "university degree",
                  "no",
                  "yes",
                  "no",
                  "cellular",
                  "jun",
                  "wed",
                  "1",
                  null,
                  "2",
                  "failure",
                  "-2.9",
                  "92.963",
                  "-40.8",
                  "1.26",
                  "5076.2",
                  "0"
                ],
                [
                  "10",
                  "40",
                  "unemployed",
                  "divorced",
                  "high school",
                  "unknown",
                  "no",
                  "no",
                  "telephone",
                  "may",
                  "tue",
                  "3",
                  null,
                  "0",
                  "nonexistent",
                  "1.1",
                  "93.994",
                  "-36.4",
                  "4.857",
                  "5191.0",
                  "0"
                ],
                [
                  "11",
                  "41",
                  "services",
                  "single",
                  "university degree",
                  "no",
                  "yes",
                  "no",
                  "cellular",
                  "aug",
                  "fri",
                  "1",
                  null,
                  "0",
                  "nonexistent",
                  "-2.9",
                  "92.201",
                  "-31.4",
                  "0.881",
                  "5076.2",
                  "0"
                ],
                [
                  "12",
                  "42",
                  "services",
                  "married",
                  "unknown",
                  "no",
                  "yes",
                  "no",
                  "telephone",
                  "jun",
                  "thu",
                  "1",
                  null,
                  "0",
                  "nonexistent",
                  "1.4",
                  "94.465",
                  "-41.8",
                  "4.961",
                  "5228.1",
                  "0"
                ],
                [
                  "13",
                  "23",
                  "student",
                  "single",
                  "unknown",
                  "no",
                  "no",
                  "no",
                  "cellular",
                  "jul",
                  "tue",
                  "1",
                  null,
                  "2",
                  "failure",
                  "-1.7",
                  "94.215",
                  "-40.3",
                  "0.893",
                  "4991.6",
                  "0"
                ],
                [
                  "14",
                  "70",
                  "retired",
                  "married",
                  "high school",
                  "no",
                  "yes",
                  "no",
                  "cellular",
                  "oct",
                  "wed",
                  "3",
                  null,
                  "0",
                  "nonexistent",
                  "-3.4",
                  "92.431",
                  "-26.9",
                  "0.735",
                  "5017.5",
                  "0"
                ],
                [
                  "15",
                  "54",
                  "technician",
                  "married",
                  "professional course",
                  "no",
                  "no",
                  "yes",
                  "telephone",
                  "may",
                  "tue",
                  "1",
                  null,
                  "0",
                  "nonexistent",
                  "1.1",
                  "93.994",
                  "-36.4",
                  "4.856",
                  "5191.0",
                  "0"
                ],
                [
                  "16",
                  "33",
                  "technician",
                  "single",
                  "high school",
                  "no",
                  "no",
                  "no",
                  "cellular",
                  "apr",
                  "fri",
                  "1",
                  null,
                  "0",
                  "nonexistent",
                  "-1.8",
                  "93.075",
                  "-47.1",
                  "1.405",
                  "5099.1",
                  "0"
                ],
                [
                  "17",
                  "34",
                  "technician",
                  "divorced",
                  "university degree",
                  "no",
                  "yes",
                  "no",
                  "cellular",
                  "nov",
                  "fri",
                  "1",
                  null,
                  "0",
                  "nonexistent",
                  "-0.1",
                  "93.2",
                  "-42.0",
                  "4.021",
                  "5195.8",
                  "0"
                ],
                [
                  "18",
                  "64",
                  "retired",
                  "married",
                  "professional course",
                  "no",
                  "yes",
                  "no",
                  "cellular",
                  "sep",
                  "wed",
                  "2",
                  null,
                  "0",
                  "nonexistent",
                  "-1.1",
                  "94.199",
                  "-37.5",
                  "0.886",
                  "4963.6",
                  "0"
                ],
                [
                  "19",
                  "28",
                  "admin",
                  "single",
                  "high school",
                  "no",
                  "no",
                  "no",
                  "telephone",
                  "jul",
                  "thu",
                  "2",
                  null,
                  "0",
                  "nonexistent",
                  "1.4",
                  "93.918",
                  "-42.7",
                  "4.963",
                  "5228.1",
                  "0"
                ],
                [
                  "20",
                  "31",
                  "admin",
                  "married",
                  "high school",
                  "no",
                  "no",
                  "no",
                  "telephone",
                  "may",
                  "mon",
                  "3",
                  null,
                  "0",
                  "nonexistent",
                  "1.1",
                  "93.994",
                  "-36.4",
                  "4.857",
                  "5191.0",
                  "0"
                ],
                [
                  "21",
                  "44",
                  "technician",
                  "married",
                  "professional course",
                  "no",
                  "yes",
                  "no",
                  "cellular",
                  "aug",
                  "mon",
                  "6",
                  null,
                  "0",
                  "nonexistent",
                  "1.4",
                  "93.444",
                  "-36.1",
                  "4.965",
                  "5228.1",
                  "0"
                ],
                [
                  "22",
                  "51",
                  "management",
                  "divorced",
                  "university degree",
                  "no",
                  "no",
                  "no",
                  "cellular",
                  "may",
                  "wed",
                  "2",
                  null,
                  "0",
                  "nonexistent",
                  "-1.8",
                  "92.893",
                  "-46.2",
                  "1.334",
                  "5099.1",
                  "0"
                ],
                [
                  "23",
                  "57",
                  "admin",
                  "divorced",
                  "high school",
                  "no",
                  "no",
                  "no",
                  "cellular",
                  "sep",
                  "tue",
                  "1",
                  "3.0",
                  "5",
                  "success",
                  "-1.1",
                  "94.199",
                  "-37.5",
                  "0.877",
                  "4963.6",
                  "1"
                ],
                [
                  "24",
                  "51",
                  "technician",
                  "married",
                  "professional course",
                  "no",
                  "yes",
                  "no",
                  "cellular",
                  "apr",
                  "thu",
                  "1",
                  null,
                  "0",
                  "nonexistent",
                  "-1.8",
                  "93.075",
                  "-47.1",
                  "1.365",
                  "5099.1",
                  "0"
                ],
                [
                  "25",
                  "34",
                  "technician",
                  "single",
                  "professional course",
                  "no",
                  "yes",
                  "no",
                  "telephone",
                  "jul",
                  "tue",
                  "1",
                  null,
                  "0",
                  "nonexistent",
                  "1.4",
                  "93.918",
                  "-42.7",
                  "4.955",
                  "5228.1",
                  "0"
                ],
                [
                  "26",
                  "54",
                  "blue-collar",
                  "single",
                  "basic 9y",
                  "no",
                  "yes",
                  "no",
                  "cellular",
                  "apr",
                  "fri",
                  "1",
                  null,
                  "0",
                  "nonexistent",
                  "-1.8",
                  "93.075",
                  "-47.1",
                  "1.405",
                  "5099.1",
                  "0"
                ],
                [
                  "27",
                  "38",
                  "technician",
                  "single",
                  "university degree",
                  "no",
                  "yes",
                  "no",
                  "cellular",
                  "aug",
                  "fri",
                  "1",
                  null,
                  "0",
                  "nonexistent",
                  "1.4",
                  "93.444",
                  "-36.1",
                  "4.964",
                  "5228.1",
                  "0"
                ],
                [
                  "28",
                  "33",
                  "admin",
                  "single",
                  "professional course",
                  "no",
                  "no",
                  "no",
                  "telephone",
                  "jun",
                  "thu",
                  "1",
                  null,
                  "0",
                  "nonexistent",
                  "1.4",
                  "94.465",
                  "-41.8",
                  "4.961",
                  "5228.1",
                  "0"
                ],
                [
                  "29",
                  "55",
                  "blue-collar",
                  "married",
                  "basic 9y",
                  "no",
                  "no",
                  "no",
                  "telephone",
                  "may",
                  "thu",
                  "2",
                  null,
                  "0",
                  "nonexistent",
                  "1.1",
                  "93.994",
                  "-36.4",
                  "4.86",
                  "5191.0",
                  "0"
                ],
                [
                  "30",
                  "53",
                  "blue-collar",
                  "married",
                  "basic 4y",
                  "unknown",
                  "no",
                  "no",
                  "cellular",
                  "jul",
                  "thu",
                  "1",
                  null,
                  "0",
                  "nonexistent",
                  "1.4",
                  "93.918",
                  "-42.7",
                  "4.968",
                  "5228.1",
                  "0"
                ],
                [
                  "31",
                  "36",
                  "admin",
                  "divorced",
                  "high school",
                  "no",
                  "yes",
                  "no",
                  "cellular",
                  "nov",
                  "wed",
                  "1",
                  null,
                  "0",
                  "nonexistent",
                  "-0.1",
                  "93.2",
                  "-42.0",
                  "4.12",
                  "5195.8",
                  "0"
                ],
                [
                  "32",
                  "45",
                  "entrepreneur",
                  "married",
                  "high school",
                  "no",
                  "yes",
                  "no",
                  "telephone",
                  "jun",
                  "wed",
                  "2",
                  null,
                  "0",
                  "nonexistent",
                  "1.4",
                  "94.465",
                  "-41.8",
                  "4.959",
                  "5228.1",
                  "0"
                ],
                [
                  "33",
                  "41",
                  "technician",
                  "single",
                  "professional course",
                  "unknown",
                  "no",
                  "yes",
                  "cellular",
                  "aug",
                  "tue",
                  "3",
                  null,
                  "0",
                  "nonexistent",
                  "1.4",
                  "93.444",
                  "-36.1",
                  "4.963",
                  "5228.1",
                  "0"
                ],
                [
                  "34",
                  "30",
                  "blue-collar",
                  "single",
                  "basic 9y",
                  "no",
                  "yes",
                  "no",
                  "cellular",
                  "may",
                  "wed",
                  "2",
                  null,
                  "1",
                  "failure",
                  "-1.8",
                  "92.893",
                  "-46.2",
                  "1.281",
                  "5099.1",
                  "0"
                ],
                [
                  "35",
                  "51",
                  "admin",
                  "married",
                  "university degree",
                  "no",
                  "yes",
                  "no",
                  "cellular",
                  "jul",
                  "fri",
                  "5",
                  null,
                  "0",
                  "nonexistent",
                  "-2.9",
                  "92.469",
                  "-33.6",
                  "0.921",
                  "5076.2",
                  "0"
                ],
                [
                  "36",
                  "52",
                  "services",
                  "divorced",
                  "unknown",
                  "unknown",
                  "yes",
                  "yes",
                  "telephone",
                  "may",
                  "fri",
                  "1",
                  null,
                  "0",
                  "nonexistent",
                  "1.1",
                  "93.994",
                  "-36.4",
                  "4.859",
                  "5191.0",
                  "0"
                ],
                [
                  "37",
                  "42",
                  "blue-collar",
                  "married",
                  "basic 9y",
                  "no",
                  "no",
                  "no",
                  "telephone",
                  "jun",
                  "mon",
                  "2",
                  null,
                  "0",
                  "nonexistent",
                  "1.4",
                  "94.465",
                  "-41.8",
                  "4.961",
                  "5228.1",
                  "0"
                ],
                [
                  "38",
                  "35",
                  "technician",
                  "single",
                  "professional course",
                  "no",
                  "yes",
                  "no",
                  "cellular",
                  "jul",
                  "tue",
                  "1",
                  "6.0",
                  "1",
                  "success",
                  "-1.7",
                  "94.215",
                  "-40.3",
                  "0.835",
                  "4991.6",
                  "1"
                ],
                [
                  "39",
                  "34",
                  "technician",
                  "married",
                  "professional course",
                  "unknown",
                  "no",
                  "no",
                  "cellular",
                  "aug",
                  "mon",
                  "1",
                  null,
                  "0",
                  "nonexistent",
                  "1.4",
                  "93.444",
                  "-36.1",
                  "4.965",
                  "5228.1",
                  "0"
                ],
                [
                  "40",
                  "33",
                  "admin",
                  "single",
                  "university degree",
                  "no",
                  "yes",
                  "no",
                  "telephone",
                  "may",
                  "tue",
                  "5",
                  null,
                  "0",
                  "nonexistent",
                  "1.1",
                  "93.994",
                  "-36.4",
                  "4.857",
                  "5191.0",
                  "0"
                ],
                [
                  "41",
                  "32",
                  "admin",
                  "single",
                  "high school",
                  "no",
                  "no",
                  "no",
                  "telephone",
                  "may",
                  "mon",
                  "2",
                  null,
                  "0",
                  "nonexistent",
                  "1.1",
                  "93.994",
                  "-36.4",
                  "4.857",
                  "5191.0",
                  "0"
                ],
                [
                  "42",
                  "46",
                  "services",
                  "married",
                  "high school",
                  "no",
                  "yes",
                  "no",
                  "cellular",
                  "apr",
                  "wed",
                  "2",
                  null,
                  "2",
                  "failure",
                  "-1.8",
                  "93.075",
                  "-47.1",
                  "1.445",
                  "5099.1",
                  "0"
                ],
                [
                  "43",
                  "27",
                  "admin",
                  "single",
                  "university degree",
                  "no",
                  "no",
                  "no",
                  "cellular",
                  "aug",
                  "fri",
                  "2",
                  "3.0",
                  "3",
                  "success",
                  "-1.7",
                  "94.027",
                  "-38.3",
                  "0.905",
                  "4991.6",
                  "1"
                ],
                [
                  "44",
                  "30",
                  "blue-collar",
                  "married",
                  "basic 6y",
                  "no",
                  "no",
                  "no",
                  "telephone",
                  "jun",
                  "tue",
                  "1",
                  null,
                  "0",
                  "nonexistent",
                  "1.4",
                  "94.465",
                  "-41.8",
                  "4.961",
                  "5228.1",
                  "0"
                ],
                [
                  "45",
                  "57",
                  "blue-collar",
                  "married",
                  "unknown",
                  "no",
                  "yes",
                  "no",
                  "cellular",
                  "jul",
                  "thu",
                  "5",
                  null,
                  "0",
                  "nonexistent",
                  "1.4",
                  "93.918",
                  "-42.7",
                  "4.962",
                  "5228.1",
                  "0"
                ],
                [
                  "46",
                  "54",
                  "housemaid",
                  "married",
                  "unknown",
                  "no",
                  "yes",
                  "no",
                  "cellular",
                  "apr",
                  "fri",
                  "1",
                  null,
                  "1",
                  "failure",
                  "-1.8",
                  "93.075",
                  "-47.1",
                  "1.479",
                  "5099.1",
                  "0"
                ],
                [
                  "47",
                  "34",
                  "blue-collar",
                  "married",
                  "basic 9y",
                  "no",
                  "no",
                  "no",
                  "telephone",
                  "may",
                  "wed",
                  "1",
                  null,
                  "0",
                  "nonexistent",
                  "1.1",
                  "93.994",
                  "-36.4",
                  "4.859",
                  "5191.0",
                  "0"
                ],
                [
                  "48",
                  "47",
                  "technician",
                  "married",
                  "basic 9y",
                  "no",
                  "yes",
                  "no",
                  "cellular",
                  "apr",
                  "mon",
                  "2",
                  null,
                  "1",
                  "failure",
                  "-1.8",
                  "93.075",
                  "-47.1",
                  "1.405",
                  "5099.1",
                  "0"
                ],
                [
                  "49",
                  "32",
                  "admin",
                  "single",
                  "university degree",
                  "no",
                  "no",
                  "no",
                  "cellular",
                  "jul",
                  "mon",
                  "1",
                  null,
                  "0",
                  "nonexistent",
                  "1.4",
                  "93.918",
                  "-42.7",
                  "4.96",
                  "5228.1",
                  "0"
                ]
              ],
              "shape": {
                "columns": 20,
                "rows": 7881
              }
            },
            "text/html": [
              "<div>\n",
              "<style scoped>\n",
              "    .dataframe tbody tr th:only-of-type {\n",
              "        vertical-align: middle;\n",
              "    }\n",
              "\n",
              "    .dataframe tbody tr th {\n",
              "        vertical-align: top;\n",
              "    }\n",
              "\n",
              "    .dataframe thead th {\n",
              "        text-align: right;\n",
              "    }\n",
              "</style>\n",
              "<table border=\"1\" class=\"dataframe\">\n",
              "  <thead>\n",
              "    <tr style=\"text-align: right;\">\n",
              "      <th></th>\n",
              "      <th>age</th>\n",
              "      <th>job</th>\n",
              "      <th>marital</th>\n",
              "      <th>education</th>\n",
              "      <th>default</th>\n",
              "      <th>housing</th>\n",
              "      <th>loan</th>\n",
              "      <th>contact</th>\n",
              "      <th>month</th>\n",
              "      <th>day_of_week</th>\n",
              "      <th>campaign</th>\n",
              "      <th>pdays</th>\n",
              "      <th>previous</th>\n",
              "      <th>poutcome</th>\n",
              "      <th>emp_var_rate</th>\n",
              "      <th>cons_price_idx</th>\n",
              "      <th>cons_conf_idx</th>\n",
              "      <th>euribor3m</th>\n",
              "      <th>nr_employed</th>\n",
              "      <th>pdays_contacted_status</th>\n",
              "    </tr>\n",
              "  </thead>\n",
              "  <tbody>\n",
              "    <tr>\n",
              "      <th>0</th>\n",
              "      <td>51</td>\n",
              "      <td>self-employed</td>\n",
              "      <td>married</td>\n",
              "      <td>university degree</td>\n",
              "      <td>unknown</td>\n",
              "      <td>no</td>\n",
              "      <td>no</td>\n",
              "      <td>telephone</td>\n",
              "      <td>jun</td>\n",
              "      <td>fri</td>\n",
              "      <td>2</td>\n",
              "      <td>NaN</td>\n",
              "      <td>0</td>\n",
              "      <td>nonexistent</td>\n",
              "      <td>1.4</td>\n",
              "      <td>94.465</td>\n",
              "      <td>-41.8</td>\n",
              "      <td>4.967</td>\n",
              "      <td>5228.1</td>\n",
              "      <td>0</td>\n",
              "    </tr>\n",
              "    <tr>\n",
              "      <th>1</th>\n",
              "      <td>40</td>\n",
              "      <td>technician</td>\n",
              "      <td>single</td>\n",
              "      <td>high school</td>\n",
              "      <td>no</td>\n",
              "      <td>yes</td>\n",
              "      <td>no</td>\n",
              "      <td>cellular</td>\n",
              "      <td>aug</td>\n",
              "      <td>fri</td>\n",
              "      <td>1</td>\n",
              "      <td>NaN</td>\n",
              "      <td>0</td>\n",
              "      <td>nonexistent</td>\n",
              "      <td>1.4</td>\n",
              "      <td>93.444</td>\n",
              "      <td>-36.1</td>\n",
              "      <td>4.964</td>\n",
              "      <td>5228.1</td>\n",
              "      <td>0</td>\n",
              "    </tr>\n",
              "    <tr>\n",
              "      <th>2</th>\n",
              "      <td>34</td>\n",
              "      <td>admin</td>\n",
              "      <td>married</td>\n",
              "      <td>university degree</td>\n",
              "      <td>no</td>\n",
              "      <td>no</td>\n",
              "      <td>no</td>\n",
              "      <td>cellular</td>\n",
              "      <td>jul</td>\n",
              "      <td>wed</td>\n",
              "      <td>2</td>\n",
              "      <td>NaN</td>\n",
              "      <td>0</td>\n",
              "      <td>nonexistent</td>\n",
              "      <td>1.4</td>\n",
              "      <td>93.918</td>\n",
              "      <td>-42.7</td>\n",
              "      <td>4.957</td>\n",
              "      <td>5228.1</td>\n",
              "      <td>0</td>\n",
              "    </tr>\n",
              "    <tr>\n",
              "      <th>3</th>\n",
              "      <td>38</td>\n",
              "      <td>blue-collar</td>\n",
              "      <td>married</td>\n",
              "      <td>basic 9y</td>\n",
              "      <td>no</td>\n",
              "      <td>no</td>\n",
              "      <td>no</td>\n",
              "      <td>telephone</td>\n",
              "      <td>may</td>\n",
              "      <td>tue</td>\n",
              "      <td>1</td>\n",
              "      <td>NaN</td>\n",
              "      <td>0</td>\n",
              "      <td>nonexistent</td>\n",
              "      <td>1.1</td>\n",
              "      <td>93.994</td>\n",
              "      <td>-36.4</td>\n",
              "      <td>4.857</td>\n",
              "      <td>5191.0</td>\n",
              "      <td>0</td>\n",
              "    </tr>\n",
              "    <tr>\n",
              "      <th>4</th>\n",
              "      <td>31</td>\n",
              "      <td>blue-collar</td>\n",
              "      <td>married</td>\n",
              "      <td>basic 6y</td>\n",
              "      <td>no</td>\n",
              "      <td>no</td>\n",
              "      <td>no</td>\n",
              "      <td>cellular</td>\n",
              "      <td>may</td>\n",
              "      <td>tue</td>\n",
              "      <td>3</td>\n",
              "      <td>NaN</td>\n",
              "      <td>1</td>\n",
              "      <td>failure</td>\n",
              "      <td>-1.8</td>\n",
              "      <td>92.893</td>\n",
              "      <td>-46.2</td>\n",
              "      <td>1.291</td>\n",
              "      <td>5099.1</td>\n",
              "      <td>0</td>\n",
              "    </tr>\n",
              "    <tr>\n",
              "      <th>...</th>\n",
              "      <td>...</td>\n",
              "      <td>...</td>\n",
              "      <td>...</td>\n",
              "      <td>...</td>\n",
              "      <td>...</td>\n",
              "      <td>...</td>\n",
              "      <td>...</td>\n",
              "      <td>...</td>\n",
              "      <td>...</td>\n",
              "      <td>...</td>\n",
              "      <td>...</td>\n",
              "      <td>...</td>\n",
              "      <td>...</td>\n",
              "      <td>...</td>\n",
              "      <td>...</td>\n",
              "      <td>...</td>\n",
              "      <td>...</td>\n",
              "      <td>...</td>\n",
              "      <td>...</td>\n",
              "      <td>...</td>\n",
              "    </tr>\n",
              "    <tr>\n",
              "      <th>7876</th>\n",
              "      <td>46</td>\n",
              "      <td>technician</td>\n",
              "      <td>married</td>\n",
              "      <td>high school</td>\n",
              "      <td>no</td>\n",
              "      <td>unknown</td>\n",
              "      <td>unknown</td>\n",
              "      <td>telephone</td>\n",
              "      <td>jun</td>\n",
              "      <td>mon</td>\n",
              "      <td>1</td>\n",
              "      <td>NaN</td>\n",
              "      <td>0</td>\n",
              "      <td>nonexistent</td>\n",
              "      <td>1.4</td>\n",
              "      <td>94.465</td>\n",
              "      <td>-41.8</td>\n",
              "      <td>4.960</td>\n",
              "      <td>5228.1</td>\n",
              "      <td>0</td>\n",
              "    </tr>\n",
              "    <tr>\n",
              "      <th>7877</th>\n",
              "      <td>42</td>\n",
              "      <td>self-employed</td>\n",
              "      <td>married</td>\n",
              "      <td>unknown</td>\n",
              "      <td>no</td>\n",
              "      <td>yes</td>\n",
              "      <td>no</td>\n",
              "      <td>telephone</td>\n",
              "      <td>jun</td>\n",
              "      <td>tue</td>\n",
              "      <td>3</td>\n",
              "      <td>NaN</td>\n",
              "      <td>0</td>\n",
              "      <td>nonexistent</td>\n",
              "      <td>1.4</td>\n",
              "      <td>94.465</td>\n",
              "      <td>-41.8</td>\n",
              "      <td>4.961</td>\n",
              "      <td>5228.1</td>\n",
              "      <td>0</td>\n",
              "    </tr>\n",
              "    <tr>\n",
              "      <th>7878</th>\n",
              "      <td>45</td>\n",
              "      <td>services</td>\n",
              "      <td>divorced</td>\n",
              "      <td>basic 9y</td>\n",
              "      <td>no</td>\n",
              "      <td>no</td>\n",
              "      <td>no</td>\n",
              "      <td>cellular</td>\n",
              "      <td>apr</td>\n",
              "      <td>mon</td>\n",
              "      <td>1</td>\n",
              "      <td>NaN</td>\n",
              "      <td>0</td>\n",
              "      <td>nonexistent</td>\n",
              "      <td>-1.8</td>\n",
              "      <td>93.075</td>\n",
              "      <td>-47.1</td>\n",
              "      <td>1.405</td>\n",
              "      <td>5099.1</td>\n",
              "      <td>0</td>\n",
              "    </tr>\n",
              "    <tr>\n",
              "      <th>7879</th>\n",
              "      <td>42</td>\n",
              "      <td>technician</td>\n",
              "      <td>divorced</td>\n",
              "      <td>high school</td>\n",
              "      <td>no</td>\n",
              "      <td>no</td>\n",
              "      <td>no</td>\n",
              "      <td>telephone</td>\n",
              "      <td>may</td>\n",
              "      <td>tue</td>\n",
              "      <td>4</td>\n",
              "      <td>NaN</td>\n",
              "      <td>0</td>\n",
              "      <td>nonexistent</td>\n",
              "      <td>1.1</td>\n",
              "      <td>93.994</td>\n",
              "      <td>-36.4</td>\n",
              "      <td>4.857</td>\n",
              "      <td>5191.0</td>\n",
              "      <td>0</td>\n",
              "    </tr>\n",
              "    <tr>\n",
              "      <th>7880</th>\n",
              "      <td>43</td>\n",
              "      <td>unemployed</td>\n",
              "      <td>married</td>\n",
              "      <td>basic 9y</td>\n",
              "      <td>no</td>\n",
              "      <td>no</td>\n",
              "      <td>no</td>\n",
              "      <td>cellular</td>\n",
              "      <td>sep</td>\n",
              "      <td>fri</td>\n",
              "      <td>2</td>\n",
              "      <td>9.0</td>\n",
              "      <td>1</td>\n",
              "      <td>success</td>\n",
              "      <td>-1.1</td>\n",
              "      <td>94.199</td>\n",
              "      <td>-37.5</td>\n",
              "      <td>0.883</td>\n",
              "      <td>4963.6</td>\n",
              "      <td>1</td>\n",
              "    </tr>\n",
              "  </tbody>\n",
              "</table>\n",
              "<p>7881 rows × 20 columns</p>\n",
              "</div>"
            ],
            "text/plain": [
              "      age            job   marital          education  default  housing  \\\n",
              "0      51  self-employed   married  university degree  unknown       no   \n",
              "1      40     technician    single        high school       no      yes   \n",
              "2      34          admin   married  university degree       no       no   \n",
              "3      38    blue-collar   married           basic 9y       no       no   \n",
              "4      31    blue-collar   married           basic 6y       no       no   \n",
              "...   ...            ...       ...                ...      ...      ...   \n",
              "7876   46     technician   married        high school       no  unknown   \n",
              "7877   42  self-employed   married            unknown       no      yes   \n",
              "7878   45       services  divorced           basic 9y       no       no   \n",
              "7879   42     technician  divorced        high school       no       no   \n",
              "7880   43     unemployed   married           basic 9y       no       no   \n",
              "\n",
              "         loan    contact month day_of_week  campaign  pdays  previous  \\\n",
              "0          no  telephone   jun         fri         2    NaN         0   \n",
              "1          no   cellular   aug         fri         1    NaN         0   \n",
              "2          no   cellular   jul         wed         2    NaN         0   \n",
              "3          no  telephone   may         tue         1    NaN         0   \n",
              "4          no   cellular   may         tue         3    NaN         1   \n",
              "...       ...        ...   ...         ...       ...    ...       ...   \n",
              "7876  unknown  telephone   jun         mon         1    NaN         0   \n",
              "7877       no  telephone   jun         tue         3    NaN         0   \n",
              "7878       no   cellular   apr         mon         1    NaN         0   \n",
              "7879       no  telephone   may         tue         4    NaN         0   \n",
              "7880       no   cellular   sep         fri         2    9.0         1   \n",
              "\n",
              "         poutcome  emp_var_rate  cons_price_idx  cons_conf_idx  euribor3m  \\\n",
              "0     nonexistent           1.4          94.465          -41.8      4.967   \n",
              "1     nonexistent           1.4          93.444          -36.1      4.964   \n",
              "2     nonexistent           1.4          93.918          -42.7      4.957   \n",
              "3     nonexistent           1.1          93.994          -36.4      4.857   \n",
              "4         failure          -1.8          92.893          -46.2      1.291   \n",
              "...           ...           ...             ...            ...        ...   \n",
              "7876  nonexistent           1.4          94.465          -41.8      4.960   \n",
              "7877  nonexistent           1.4          94.465          -41.8      4.961   \n",
              "7878  nonexistent          -1.8          93.075          -47.1      1.405   \n",
              "7879  nonexistent           1.1          93.994          -36.4      4.857   \n",
              "7880      success          -1.1          94.199          -37.5      0.883   \n",
              "\n",
              "      nr_employed  pdays_contacted_status  \n",
              "0          5228.1                       0  \n",
              "1          5228.1                       0  \n",
              "2          5228.1                       0  \n",
              "3          5191.0                       0  \n",
              "4          5099.1                       0  \n",
              "...           ...                     ...  \n",
              "7876       5228.1                       0  \n",
              "7877       5228.1                       0  \n",
              "7878       5099.1                       0  \n",
              "7879       5191.0                       0  \n",
              "7880       4963.6                       1  \n",
              "\n",
              "[7881 rows x 20 columns]"
            ]
          },
          "execution_count": 17,
          "metadata": {},
          "output_type": "execute_result"
        }
      ],
      "source": [
        "x_test"
      ]
    },
    {
      "cell_type": "code",
      "execution_count": 20,
      "metadata": {
        "colab": {
          "base_uri": "https://localhost:8080/",
          "height": 162
        },
        "id": "6rT6Fy8VS0uF",
        "outputId": "baef930d-5722-4e29-b03b-f06cc42aa87d"
      },
      "outputs": [
        {
          "data": {
            "application/vnd.microsoft.datawrangler.viewer.v0+json": {
              "columns": [
                {
                  "name": "index",
                  "rawType": "int64",
                  "type": "integer"
                },
                {
                  "name": "age",
                  "rawType": "float64",
                  "type": "float"
                },
                {
                  "name": "job",
                  "rawType": "object",
                  "type": "string"
                },
                {
                  "name": "marital",
                  "rawType": "object",
                  "type": "string"
                },
                {
                  "name": "education",
                  "rawType": "object",
                  "type": "string"
                },
                {
                  "name": "default",
                  "rawType": "object",
                  "type": "string"
                },
                {
                  "name": "housing",
                  "rawType": "object",
                  "type": "string"
                },
                {
                  "name": "loan",
                  "rawType": "object",
                  "type": "string"
                },
                {
                  "name": "contact",
                  "rawType": "object",
                  "type": "string"
                },
                {
                  "name": "month",
                  "rawType": "object",
                  "type": "string"
                },
                {
                  "name": "day_of_week",
                  "rawType": "object",
                  "type": "string"
                },
                {
                  "name": "campaign",
                  "rawType": "float64",
                  "type": "float"
                },
                {
                  "name": "pdays",
                  "rawType": "float64",
                  "type": "float"
                },
                {
                  "name": "previous",
                  "rawType": "float64",
                  "type": "float"
                },
                {
                  "name": "poutcome",
                  "rawType": "object",
                  "type": "string"
                },
                {
                  "name": "emp_var_rate",
                  "rawType": "float64",
                  "type": "float"
                },
                {
                  "name": "cons_price_idx",
                  "rawType": "float64",
                  "type": "float"
                },
                {
                  "name": "cons_conf_idx",
                  "rawType": "float64",
                  "type": "float"
                },
                {
                  "name": "euribor3m",
                  "rawType": "float64",
                  "type": "float"
                },
                {
                  "name": "nr_employed",
                  "rawType": "float64",
                  "type": "float"
                },
                {
                  "name": "pdays_contacted_status",
                  "rawType": "float64",
                  "type": "float"
                }
              ],
              "conversionMethod": "pd.DataFrame",
              "ref": "61d8ca08-1f48-4009-9670-e95cdab3b3ed",
              "rows": [
                [
                  "0",
                  "25.0",
                  "doctor",
                  "married",
                  "unknown",
                  "no",
                  "no",
                  "no",
                  "cellular",
                  "nov",
                  "mon",
                  "1.0",
                  "6.0",
                  "0.0",
                  "nonexistent",
                  "-3.4",
                  "92.649",
                  "-30.1",
                  "0.714",
                  "5017.5",
                  "0.0"
                ]
              ],
              "shape": {
                "columns": 20,
                "rows": 1
              }
            },
            "text/html": [
              "<div>\n",
              "<style scoped>\n",
              "    .dataframe tbody tr th:only-of-type {\n",
              "        vertical-align: middle;\n",
              "    }\n",
              "\n",
              "    .dataframe tbody tr th {\n",
              "        vertical-align: top;\n",
              "    }\n",
              "\n",
              "    .dataframe thead th {\n",
              "        text-align: right;\n",
              "    }\n",
              "</style>\n",
              "<table border=\"1\" class=\"dataframe\">\n",
              "  <thead>\n",
              "    <tr style=\"text-align: right;\">\n",
              "      <th></th>\n",
              "      <th>age</th>\n",
              "      <th>job</th>\n",
              "      <th>marital</th>\n",
              "      <th>education</th>\n",
              "      <th>default</th>\n",
              "      <th>housing</th>\n",
              "      <th>loan</th>\n",
              "      <th>contact</th>\n",
              "      <th>month</th>\n",
              "      <th>day_of_week</th>\n",
              "      <th>campaign</th>\n",
              "      <th>pdays</th>\n",
              "      <th>previous</th>\n",
              "      <th>poutcome</th>\n",
              "      <th>emp_var_rate</th>\n",
              "      <th>cons_price_idx</th>\n",
              "      <th>cons_conf_idx</th>\n",
              "      <th>euribor3m</th>\n",
              "      <th>nr_employed</th>\n",
              "      <th>pdays_contacted_status</th>\n",
              "    </tr>\n",
              "  </thead>\n",
              "  <tbody>\n",
              "    <tr>\n",
              "      <th>0</th>\n",
              "      <td>25.0</td>\n",
              "      <td>doctor</td>\n",
              "      <td>married</td>\n",
              "      <td>unknown</td>\n",
              "      <td>no</td>\n",
              "      <td>no</td>\n",
              "      <td>no</td>\n",
              "      <td>cellular</td>\n",
              "      <td>nov</td>\n",
              "      <td>mon</td>\n",
              "      <td>1.0</td>\n",
              "      <td>6.0</td>\n",
              "      <td>0.0</td>\n",
              "      <td>nonexistent</td>\n",
              "      <td>-3.4</td>\n",
              "      <td>92.649</td>\n",
              "      <td>-30.1</td>\n",
              "      <td>0.714</td>\n",
              "      <td>5017.5</td>\n",
              "      <td>0.0</td>\n",
              "    </tr>\n",
              "  </tbody>\n",
              "</table>\n",
              "</div>"
            ],
            "text/plain": [
              "    age     job  marital education default housing loan   contact month  \\\n",
              "0  25.0  doctor  married   unknown      no      no   no  cellular   nov   \n",
              "\n",
              "  day_of_week  campaign  pdays  previous     poutcome  emp_var_rate  \\\n",
              "0         mon       1.0    6.0       0.0  nonexistent          -3.4   \n",
              "\n",
              "   cons_price_idx  cons_conf_idx  euribor3m  nr_employed  \\\n",
              "0          92.649          -30.1      0.714       5017.5   \n",
              "\n",
              "   pdays_contacted_status  \n",
              "0                     0.0  "
            ]
          },
          "execution_count": 20,
          "metadata": {},
          "output_type": "execute_result"
        }
      ],
      "source": [
        "person1 = pd.DataFrame([[25.0, 'doctor', 'married', 'unknown', 'no', 'no', 'no', 'cellular', 'nov', 'mon',\n",
        "                         1.0, 6.0, 0.0, 'nonexistent', -3.4, 92.649, -30.1, 0.714, 5017.5, 0.0]], columns=x_test.columns)\n",
        "person1"
      ]
    },
    {
      "cell_type": "code",
      "execution_count": 21,
      "metadata": {
        "colab": {
          "base_uri": "https://localhost:8080/"
        },
        "id": "q-yejsyIVPJn",
        "outputId": "792be236-bad8-4d6f-d121-437c22f3529f"
      },
      "outputs": [
        {
          "name": "stderr",
          "output_type": "stream",
          "text": [
            "c:\\Users\\HP\\anaconda3\\envs\\bankmkt\\lib\\site-packages\\sklearn\\preprocessing\\_encoders.py:170: UserWarning: Found unknown categories in columns [0] during transform. These unknown categories will be encoded as all zeros\n",
            "  warnings.warn(\n"
          ]
        },
        {
          "data": {
            "text/plain": [
              "1"
            ]
          },
          "execution_count": 21,
          "metadata": {},
          "output_type": "execute_result"
        }
      ],
      "source": [
        "predict = pipe.predict(person1)\n",
        "predict[0]"
      ]
    },
    {
      "cell_type": "code",
      "execution_count": 22,
      "metadata": {
        "colab": {
          "base_uri": "https://localhost:8080/"
        },
        "id": "cMnNqCx0Z679",
        "outputId": "5181d1d5-41c5-44e2-c168-8abec0af3e39"
      },
      "outputs": [
        {
          "name": "stdout",
          "output_type": "stream",
          "text": [
            "[1]\n"
          ]
        },
        {
          "name": "stderr",
          "output_type": "stream",
          "text": [
            "c:\\Users\\HP\\anaconda3\\envs\\bankmkt\\lib\\site-packages\\sklearn\\preprocessing\\_encoders.py:170: UserWarning: Found unknown categories in columns [0, 6] during transform. These unknown categories will be encoded as all zeros\n",
            "  warnings.warn(\n"
          ]
        }
      ],
      "source": [
        "person2 = pd.DataFrame([[36.0, 'teacher', 'married', 'unknown', 'no', 'no', 'no', 'laptop', 'nov', 'mon',\n",
        "                         1.0, 6.0, 0.0, 'nonexistent', -3.4, 92.649, -30.1, 0.714, 5017.5, 0.0]], columns=x_test.columns)\n",
        "print(pipe.predict(person2))"
      ]
    },
    {
      "cell_type": "code",
      "execution_count": 23,
      "metadata": {
        "colab": {
          "base_uri": "https://localhost:8080/"
        },
        "id": "HRdA8Djahueu",
        "outputId": "37cce055-e2b4-45c8-9194-e974efa1c24d"
      },
      "outputs": [
        {
          "name": "stdout",
          "output_type": "stream",
          "text": [
            "              precision    recall  f1-score   support\n",
            "\n",
            "           0       0.91      0.90      0.91      6961\n",
            "           1       0.31      0.33      0.32       920\n",
            "\n",
            "    accuracy                           0.84      7881\n",
            "   macro avg       0.61      0.62      0.61      7881\n",
            "weighted avg       0.84      0.84      0.84      7881\n",
            "\n"
          ]
        }
      ],
      "source": [
        "# Compare the accuracy, precision, recall with previous ones\n",
        "from sklearn.metrics import classification_report\n",
        "\n",
        "# Correct way\n",
        "y_pred = pipe.predict(x_test)  # Predict on the entire test set\n",
        "print(classification_report(y_test, y_pred))\n"
      ]
    },
    {
      "cell_type": "code",
      "execution_count": 24,
      "metadata": {
        "colab": {
          "base_uri": "https://localhost:8080/",
          "height": 279
        },
        "id": "DuM6sg3wh6k_",
        "outputId": "1282ae73-7e33-405a-ee76-7432dd116e1e"
      },
      "outputs": [
        {
          "data": {
            "text/plain": [
              "Text(0, 0.5, 'Predicted Label')"
            ]
          },
          "execution_count": 24,
          "metadata": {},
          "output_type": "execute_result"
        },
        {
          "data": {
            "image/png": "[encoded data removed]",
            "text/plain": [
              "<Figure size 700x400 with 2 Axes>"
            ]
          },
          "metadata": {},
          "output_type": "display_data"
        }
      ],
      "source": [
        "from sklearn.metrics import confusion_matrix, ConfusionMatrixDisplay\n",
        "\n",
        "\n",
        "# Generate the confusion matrix\n",
        "cm = confusion_matrix(y_test, y_pred, labels=[1, 0])\n",
        "\n",
        "# Plot the confusion matrix\n",
        "fig_confusion_matrix, ax = plt.subplots(1, 1, figsize=(7, 4))\n",
        "ConfusionMatrixDisplay(confusion_matrix=cm, display_labels=[\"1\", \"0\"]).plot(values_format=\".0f\", ax=ax)\n",
        "\n",
        "ax.set_xlabel(\"True Label\")\n",
        "ax.set_ylabel(\"Predicted Label\")\n"
      ]
    },
    {
      "cell_type": "code",
      "execution_count": 25,
      "metadata": {
        "colab": {
          "base_uri": "https://localhost:8080/"
        },
        "id": "QXis7klgiEWG",
        "outputId": "26715d6a-59e7-4c3f-df15-979e31ef33cb"
      },
      "outputs": [
        {
          "name": "stderr",
          "output_type": "stream",
          "text": [
            "08-05-2025 01:04:46 Uploading figures\n"
          ]
        }
      ],
      "source": [
        "# Uploading figures\n",
        "logger.info(\"Uploading figures\")\n",
        "run.log(\n",
        "    {\n",
        "        \"confusion_matrix\": wandb.Image(fig_confusion_matrix),\n",
        "        # \"other_figure\": wandb.Image(other_fig)\n",
        "    }\n",
        ")"
      ]
    },
    {
      "cell_type": "code",
      "execution_count": 26,
      "metadata": {
        "colab": {
          "base_uri": "https://localhost:8080/",
          "height": 270,
          "referenced_widgets": [
            "9fdaee1637b34cb592759863016e8cbf",
            "7a109845da9d431791586b614ca56e16",
            "30dab0b5f2f7443db5bcc9d01c7bcb50",
            "ba05e1136cda4ac5bff13e605d402e0e",
            "c39052768542496da86ed548b55ae6c4",
            "8744c26a06a34e62bf22ca9ec6818571",
            "e8fc5dfaaaef40c1a74fd061059deb43",
            "ef6b10bea0c14f609eb76e9847c7bdf7"
          ]
        },
        "id": "MFC4iWBmiTKe",
        "outputId": "31eb32a2-5525-43cb-8a7b-830ae9f693c1"
      },
      "outputs": [
        {
          "name": "stdout",
          "output_type": "stream",
          "text": [
            "\n"
          ]
        },
        {
          "data": {
            "text/html": [
              "Waiting for W&B process to finish... <strong style=\"color:green\">(success).</strong>"
            ],
            "text/plain": [
              "<IPython.core.display.HTML object>"
            ]
          },
          "metadata": {},
          "output_type": "display_data"
        },
        {
          "data": {
            "application/vnd.jupyter.widget-view+json": {
              "model_id": "165a5bfd1f6349fbb3f33be4f645f171",
              "version_major": 2,
              "version_minor": 0
            },
            "text/plain": [
              "VBox(children=(Label(value='0.001 MB of 0.017 MB uploaded (0.000 MB deduped)\\r'), FloatProgress(value=0.045350…"
            ]
          },
          "metadata": {},
          "output_type": "display_data"
        },
        {
          "data": {
            "text/html": [
              "<style>\n",
              "    table.wandb td:nth-child(1) { padding: 0 10px; text-align: right }\n",
              "    .wandb-row { display: flex; flex-direction: row; flex-wrap: wrap; width: 100% }\n",
              "    .wandb-col { display: flex; flex-direction: column; flex-basis: 100%; flex: 1; padding: 10px; }\n",
              "    </style>\n",
              "<div class=\"wandb-row\"><div class=\"wandb-col\"><h3>Run summary:</h3><br/><table class=\"wandb\"><tr><td>Acc</td><td>0.83505</td></tr><tr><td>F1</td><td>0.32079</td></tr><tr><td>Precision</td><td>0.30885</td></tr><tr><td>Recall</td><td>0.3337</td></tr></table><br/></div></div>"
            ],
            "text/plain": [
              "<IPython.core.display.HTML object>"
            ]
          },
          "metadata": {},
          "output_type": "display_data"
        },
        {
          "data": {
            "text/html": [
              "Synced <strong style=\"color:#cdcd00\">dandy-cherry-67</strong>: <a href=\"https://wandb.ai/hangtn13-ssc-national-economics-university/Bank-Marketing/runs/82ln28pp\" target=\"_blank\">https://wandb.ai/hangtn13-ssc-national-economics-university/Bank-Marketing/runs/82ln28pp</a><br/>Synced 6 W&B file(s), 1 media file(s), 0 artifact file(s) and 0 other file(s)"
            ],
            "text/plain": [
              "<IPython.core.display.HTML object>"
            ]
          },
          "metadata": {},
          "output_type": "display_data"
        },
        {
          "data": {
            "text/html": [
              "Find logs at: <code>.\\wandb\\run-20250508_010002-82ln28pp\\logs</code>"
            ],
            "text/plain": [
              "<IPython.core.display.HTML object>"
            ]
          },
          "metadata": {},
          "output_type": "display_data"
        }
      ],
      "source": [
        "run.finish()"
      ]
    }
  ],
  "metadata": {
    "colab": {
      "collapsed_sections": [],
      "name": "7 - test.ipynb",
      "provenance": []
    },
    "kernelspec": {
      "display_name": "bankmkt",
      "language": "python",
      "name": "python3"
    },
    "language_info": {
      "codemirror_mode": {
        "name": "ipython",
        "version": 3
      },
      "file_extension": ".py",
      "mimetype": "text/x-python",
      "name": "python",
      "nbconvert_exporter": "python",
      "pygments_lexer": "ipython3",
      "version": "3.8.20"
    },
    "widgets": {
      "application/vnd.jupyter.widget-state+json": {
        "30dab0b5f2f7443db5bcc9d01c7bcb50": {
          "model_module": "@jupyter-widgets/controls",
          "model_module_version": "1.5.0",
          "model_name": "FloatProgressModel",
          "state": {
            "_dom_classes": [],
            "_model_module": "@jupyter-widgets/controls",
            "_model_module_version": "1.5.0",
            "_model_name": "FloatProgressModel",
            "_view_count": null,
            "_view_module": "@jupyter-widgets/controls",
            "_view_module_version": "1.5.0",
            "_view_name": "ProgressView",
            "bar_style": "",
            "description": "",
            "description_tooltip": null,
            "layout": "IPY_MODEL_e8fc5dfaaaef40c1a74fd061059deb43",
            "max": 1,
            "min": 0,
            "orientation": "horizontal",
            "style": "IPY_MODEL_ef6b10bea0c14f609eb76e9847c7bdf7",
            "value": 1
          }
        },
        "7a109845da9d431791586b614ca56e16": {
          "model_module": "@jupyter-widgets/controls",
          "model_module_version": "1.5.0",
          "model_name": "LabelModel",
          "state": {
            "_dom_classes": [],
            "_model_module": "@jupyter-widgets/controls",
            "_model_module_version": "1.5.0",
            "_model_name": "LabelModel",
            "_view_count": null,
            "_view_module": "@jupyter-widgets/controls",
            "_view_module_version": "1.5.0",
            "_view_name": "LabelView",
            "description": "",
            "description_tooltip": null,
            "layout": "IPY_MODEL_c39052768542496da86ed548b55ae6c4",
            "placeholder": "​",
            "style": "IPY_MODEL_8744c26a06a34e62bf22ca9ec6818571",
            "value": "0.021 MB of 0.021 MB uploaded (0.000 MB deduped)\r"
          }
        },
        "8744c26a06a34e62bf22ca9ec6818571": {
          "model_module": "@jupyter-widgets/controls",
          "model_module_version": "1.5.0",
          "model_name": "DescriptionStyleModel",
          "state": {
            "_model_module": "@jupyter-widgets/controls",
            "_model_module_version": "1.5.0",
            "_model_name": "DescriptionStyleModel",
            "_view_count": null,
            "_view_module": "@jupyter-widgets/base",
            "_view_module_version": "1.2.0",
            "_view_name": "StyleView",
            "description_width": ""
          }
        },
        "9fdaee1637b34cb592759863016e8cbf": {
          "model_module": "@jupyter-widgets/controls",
          "model_module_version": "1.5.0",
          "model_name": "VBoxModel",
          "state": {
            "_dom_classes": [],
            "_model_module": "@jupyter-widgets/controls",
            "_model_module_version": "1.5.0",
            "_model_name": "VBoxModel",
            "_view_count": null,
            "_view_module": "@jupyter-widgets/controls",
            "_view_module_version": "1.5.0",
            "_view_name": "VBoxView",
            "box_style": "",
            "children": [
              "IPY_MODEL_7a109845da9d431791586b614ca56e16",
              "IPY_MODEL_30dab0b5f2f7443db5bcc9d01c7bcb50"
            ],
            "layout": "IPY_MODEL_ba05e1136cda4ac5bff13e605d402e0e"
          }
        },
        "ba05e1136cda4ac5bff13e605d402e0e": {
          "model_module": "@jupyter-widgets/base",
          "model_module_version": "1.2.0",
          "model_name": "LayoutModel",
          "state": {
            "_model_module": "@jupyter-widgets/base",
            "_model_module_version": "1.2.0",
            "_model_name": "LayoutModel",
            "_view_count": null,
            "_view_module": "@jupyter-widgets/base",
            "_view_module_version": "1.2.0",
            "_view_name": "LayoutView",
            "align_content": null,
            "align_items": null,
            "align_self": null,
            "border": null,
            "bottom": null,
            "display": null,
            "flex": null,
            "flex_flow": null,
            "grid_area": null,
            "grid_auto_columns": null,
            "grid_auto_flow": null,
            "grid_auto_rows": null,
            "grid_column": null,
            "grid_gap": null,
            "grid_row": null,
            "grid_template_areas": null,
            "grid_template_columns": null,
            "grid_template_rows": null,
            "height": null,
            "justify_content": null,
            "justify_items": null,
            "left": null,
            "margin": null,
            "max_height": null,
            "max_width": null,
            "min_height": null,
            "min_width": null,
            "object_fit": null,
            "object_position": null,
            "order": null,
            "overflow": null,
            "overflow_x": null,
            "overflow_y": null,
            "padding": null,
            "right": null,
            "top": null,
            "visibility": null,
            "width": null
          }
        },
        "c39052768542496da86ed548b55ae6c4": {
          "model_module": "@jupyter-widgets/base",
          "model_module_version": "1.2.0",
          "model_name": "LayoutModel",
          "state": {
            "_model_module": "@jupyter-widgets/base",
            "_model_module_version": "1.2.0",
            "_model_name": "LayoutModel",
            "_view_count": null,
            "_view_module": "@jupyter-widgets/base",
            "_view_module_version": "1.2.0",
            "_view_name": "LayoutView",
            "align_content": null,
            "align_items": null,
            "align_self": null,
            "border": null,
            "bottom": null,
            "display": null,
            "flex": null,
            "flex_flow": null,
            "grid_area": null,
            "grid_auto_columns": null,
            "grid_auto_flow": null,
            "grid_auto_rows": null,
            "grid_column": null,
            "grid_gap": null,
            "grid_row": null,
            "grid_template_areas": null,
            "grid_template_columns": null,
            "grid_template_rows": null,
            "height": null,
            "justify_content": null,
            "justify_items": null,
            "left": null,
            "margin": null,
            "max_height": null,
            "max_width": null,
            "min_height": null,
            "min_width": null,
            "object_fit": null,
            "object_position": null,
            "order": null,
            "overflow": null,
            "overflow_x": null,
            "overflow_y": null,
            "padding": null,
            "right": null,
            "top": null,
            "visibility": null,
            "width": null
          }
        },
        "e8fc5dfaaaef40c1a74fd061059deb43": {
          "model_module": "@jupyter-widgets/base",
          "model_module_version": "1.2.0",
          "model_name": "LayoutModel",
          "state": {
            "_model_module": "@jupyter-widgets/base",
            "_model_module_version": "1.2.0",
            "_model_name": "LayoutModel",
            "_view_count": null,
            "_view_module": "@jupyter-widgets/base",
            "_view_module_version": "1.2.0",
            "_view_name": "LayoutView",
            "align_content": null,
            "align_items": null,
            "align_self": null,
            "border": null,
            "bottom": null,
            "display": null,
            "flex": null,
            "flex_flow": null,
            "grid_area": null,
            "grid_auto_columns": null,
            "grid_auto_flow": null,
            "grid_auto_rows": null,
            "grid_column": null,
            "grid_gap": null,
            "grid_row": null,
            "grid_template_areas": null,
            "grid_template_columns": null,
            "grid_template_rows": null,
            "height": null,
            "justify_content": null,
            "justify_items": null,
            "left": null,
            "margin": null,
            "max_height": null,
            "max_width": null,
            "min_height": null,
            "min_width": null,
            "object_fit": null,
            "object_position": null,
            "order": null,
            "overflow": null,
            "overflow_x": null,
            "overflow_y": null,
            "padding": null,
            "right": null,
            "top": null,
            "visibility": null,
            "width": null
          }
        },
        "ef6b10bea0c14f609eb76e9847c7bdf7": {
          "model_module": "@jupyter-widgets/controls",
          "model_module_version": "1.5.0",
          "model_name": "ProgressStyleModel",
          "state": {
            "_model_module": "@jupyter-widgets/controls",
            "_model_module_version": "1.5.0",
            "_model_name": "ProgressStyleModel",
            "_view_count": null,
            "_view_module": "@jupyter-widgets/base",
            "_view_module_version": "1.2.0",
            "_view_name": "StyleView",
            "bar_color": null,
            "description_width": ""
          }
        }
      }
    }
  },
  "nbformat": 4,
  "nbformat_minor": 0
}
