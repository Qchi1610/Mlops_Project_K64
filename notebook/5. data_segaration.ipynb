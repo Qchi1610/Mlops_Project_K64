{
 "cells": [
  {
   "cell_type": "code",
   "execution_count": 6,
   "id": "d44eac92",
   "metadata": {},
   "outputs": [],
   "source": [
    "import logging\n",
    "import tempfile\n",
    "import pandas as pd\n",
    "import os\n",
    "import wandb\n",
    "from sklearn.model_selection import train_test_split"
   ]
  },
  {
   "cell_type": "code",
   "execution_count": 7,
   "id": "f364fa4c",
   "metadata": {},
   "outputs": [],
   "source": [
    "import os\n",
    "from dotenv import load_dotenv\n",
    "load_dotenv()\n",
    "\n",
    "WANDB_API_KEY=os.environ.get('WANDB_API_KEY')"
   ]
  },
  {
   "cell_type": "code",
   "execution_count": 8,
   "id": "84f15820",
   "metadata": {},
   "outputs": [
    {
     "name": "stderr",
     "output_type": "stream",
     "text": [
      "\u001b[34m\u001b[1mwandb\u001b[0m: \u001b[33mWARNING\u001b[0m Calling wandb.login() after wandb.init() has no effect.\n"
     ]
    },
    {
     "data": {
      "text/plain": [
       "True"
      ]
     },
     "execution_count": 8,
     "metadata": {},
     "output_type": "execute_result"
    }
   ],
   "source": [
    "wandb.login(key=WANDB_API_KEY)"
   ]
  },
  {
   "cell_type": "code",
   "execution_count": 13,
   "id": "1da64e33",
   "metadata": {},
   "outputs": [],
   "source": [
    "# global variables\n",
    "\n",
    "# ratio used to split train and test data\n",
    "test_size = 0.2\n",
    "\n",
    "# seed used to reproduce purposes\n",
    "seed = 41\n",
    "\n",
    "# reference (column) to stratify the data\n",
    "stratify = \"y\"\n",
    "\n",
    "# name of the input artifact\n",
    "artifact_input_name = \"hangtn13-ssc-national-economics-university/Bank-Marketing/preprocessed_data.csv:v1\"\n",
    "\n",
    "# type of the artifact\n",
    "artifact_type = \"segregated_data\""
   ]
  },
  {
   "cell_type": "code",
   "execution_count": 15,
   "id": "9af7290e",
   "metadata": {},
   "outputs": [
    {
     "data": {
      "text/html": [],
      "text/plain": [
       "<IPython.core.display.HTML object>"
      ]
     },
     "metadata": {},
     "output_type": "display_data"
    },
    {
     "data": {
      "text/html": [
       " View run <strong style=\"color:#cdcd00\">mythical-astromech-47</strong> at: <a href='https://wandb.ai/hangtn13-ssc-national-economics-university/Bank-Marketing/runs/m4fmfjyb' target=\"_blank\">https://wandb.ai/hangtn13-ssc-national-economics-university/Bank-Marketing/runs/m4fmfjyb</a><br> View project at: <a href='https://wandb.ai/hangtn13-ssc-national-economics-university/Bank-Marketing' target=\"_blank\">https://wandb.ai/hangtn13-ssc-national-economics-university/Bank-Marketing</a><br>Synced 5 W&B file(s), 0 media file(s), 0 artifact file(s) and 0 other file(s)"
      ],
      "text/plain": [
       "<IPython.core.display.HTML object>"
      ]
     },
     "metadata": {},
     "output_type": "display_data"
    },
    {
     "data": {
      "text/html": [
       "Find logs at: <code>.\\wandb\\run-20250504_131605-m4fmfjyb\\logs</code>"
      ],
      "text/plain": [
       "<IPython.core.display.HTML object>"
      ]
     },
     "metadata": {},
     "output_type": "display_data"
    },
    {
     "data": {
      "text/html": [
       "Tracking run with wandb version 0.19.9"
      ],
      "text/plain": [
       "<IPython.core.display.HTML object>"
      ]
     },
     "metadata": {},
     "output_type": "display_data"
    },
    {
     "data": {
      "text/html": [
       "Run data is saved locally in <code>d:\\DSEB\\DSEB_SEM_6\\MLOPS\\W2\\Mlops_Project_K64\\wandb\\run-20250504_131757-toe4ti27</code>"
      ],
      "text/plain": [
       "<IPython.core.display.HTML object>"
      ]
     },
     "metadata": {},
     "output_type": "display_data"
    },
    {
     "data": {
      "text/html": [
       "Syncing run <strong><a href='https://wandb.ai/hangtn13-ssc-national-economics-university/Bank-Marketing/runs/toe4ti27' target=\"_blank\">ancient-lightsaber-48</a></strong> to <a href='https://wandb.ai/hangtn13-ssc-national-economics-university/Bank-Marketing' target=\"_blank\">Weights & Biases</a> (<a href='https://wandb.me/developer-guide' target=\"_blank\">docs</a>)<br>"
      ],
      "text/plain": [
       "<IPython.core.display.HTML object>"
      ]
     },
     "metadata": {},
     "output_type": "display_data"
    },
    {
     "data": {
      "text/html": [
       " View project at <a href='https://wandb.ai/hangtn13-ssc-national-economics-university/Bank-Marketing' target=\"_blank\">https://wandb.ai/hangtn13-ssc-national-economics-university/Bank-Marketing</a>"
      ],
      "text/plain": [
       "<IPython.core.display.HTML object>"
      ]
     },
     "metadata": {},
     "output_type": "display_data"
    },
    {
     "data": {
      "text/html": [
       " View run at <a href='https://wandb.ai/hangtn13-ssc-national-economics-university/Bank-Marketing/runs/toe4ti27' target=\"_blank\">https://wandb.ai/hangtn13-ssc-national-economics-university/Bank-Marketing/runs/toe4ti27</a>"
      ],
      "text/plain": [
       "<IPython.core.display.HTML object>"
      ]
     },
     "metadata": {},
     "output_type": "display_data"
    },
    {
     "name": "stderr",
     "output_type": "stream",
     "text": [
      "04-05-2025 13:18:00 Downloading and reading artifact\n",
      "\u001b[34m\u001b[1mwandb\u001b[0m:   1 of 1 files downloaded.  \n",
      "04-05-2025 13:18:07 Artifact downloaded\n",
      "04-05-2025 13:18:07 Splitting data into train and test\n",
      "04-05-2025 13:18:07 Uploading the train dataset to train.csv\n",
      "04-05-2025 13:18:08 Logging artifact\n",
      "04-05-2025 13:18:17 Uploading the test dataset to test.csv\n",
      "04-05-2025 13:18:17 Logging artifact\n"
     ]
    }
   ],
   "source": [
    "# configure logging\n",
    "logging.basicConfig(level=logging.INFO,\n",
    "                    format=\"%(asctime)s %(message)s\",\n",
    "                    datefmt='%d-%m-%Y %H:%M:%S')\n",
    "\n",
    "# reference for a logging obj\n",
    "logger = logging.getLogger()\n",
    "\n",
    "# initiate wandb project\n",
    "run = wandb.init(project=\"Bank-Marketing\", job_type=\"split_data\")\n",
    "\n",
    "logger.info(\"Downloading and reading artifact\")\n",
    "artifact = run.use_artifact(artifact_input_name)\n",
    "artifact_dir = artifact.download()\n",
    "artifact_path = os.path.join(artifact_dir, \"preprocessed_data.csv\")\n",
    "df = pd.read_csv(artifact_path)\n",
    "logger.info(\"Artifact downloaded\")\n",
    "\n",
    "\n",
    "# Split firstly in train/test, then we further divide the dataset to train and validation\n",
    "logger.info(\"Splitting data into train and test\")\n",
    "splits = {}\n",
    "\n",
    "splits[\"train\"], splits[\"test\"] = train_test_split(df,\n",
    "                                                   test_size=test_size,\n",
    "                                                   random_state=seed,\n",
    "                                                   stratify=df[stratify])\n",
    "\n",
    "# Save the artifacts. We use a temporary directory so we do not leave any trace behind\n",
    "with tempfile.TemporaryDirectory() as tmp_dir:\n",
    "\n",
    "    for split, df in splits.items():\n",
    "\n",
    "        # Make the artifact name from the name of the split plus the provided root\n",
    "        artifact_name = f\"{split}.csv\"\n",
    "\n",
    "        # Get the path on disk within the temp directory\n",
    "        temp_path = os.path.join(tmp_dir, artifact_name)\n",
    "\n",
    "        logger.info(f\"Uploading the {split} dataset to {artifact_name}\")\n",
    "\n",
    "        # Save then upload to W&B\n",
    "        df.to_csv(temp_path,index=False)\n",
    "\n",
    "        artifact = wandb.Artifact(name=artifact_name,\n",
    "                                  type=artifact_type,\n",
    "                                  description=f\"{split} split of dataset {artifact_input_name}\",\n",
    "        )\n",
    "        artifact.add_file(temp_path)\n",
    "\n",
    "        logger.info(\"Logging artifact\")\n",
    "        run.log_artifact(artifact)\n",
    "\n",
    "        # This waits for the artifact to be uploaded to W&B. If you\n",
    "        # do not add this, the temp directory might be removed before\n",
    "        # W&B had a chance to upload the datasets, and the upload\n",
    "        # might fail\n",
    "        artifact.wait()"
   ]
  },
  {
   "cell_type": "code",
   "execution_count": 16,
   "id": "81891a54",
   "metadata": {},
   "outputs": [
    {
     "data": {
      "text/html": [],
      "text/plain": [
       "<IPython.core.display.HTML object>"
      ]
     },
     "metadata": {},
     "output_type": "display_data"
    },
    {
     "data": {
      "text/html": [
       " View run <strong style=\"color:#cdcd00\">ancient-lightsaber-48</strong> at: <a href='https://wandb.ai/hangtn13-ssc-national-economics-university/Bank-Marketing/runs/toe4ti27' target=\"_blank\">https://wandb.ai/hangtn13-ssc-national-economics-university/Bank-Marketing/runs/toe4ti27</a><br> View project at: <a href='https://wandb.ai/hangtn13-ssc-national-economics-university/Bank-Marketing' target=\"_blank\">https://wandb.ai/hangtn13-ssc-national-economics-university/Bank-Marketing</a><br>Synced 5 W&B file(s), 0 media file(s), 4 artifact file(s) and 0 other file(s)"
      ],
      "text/plain": [
       "<IPython.core.display.HTML object>"
      ]
     },
     "metadata": {},
     "output_type": "display_data"
    },
    {
     "data": {
      "text/html": [
       "Find logs at: <code>.\\wandb\\run-20250504_131757-toe4ti27\\logs</code>"
      ],
      "text/plain": [
       "<IPython.core.display.HTML object>"
      ]
     },
     "metadata": {},
     "output_type": "display_data"
    }
   ],
   "source": [
    "# close the run\n",
    "# waiting a while after run the previous cell before execute this\n",
    "run.finish()"
   ]
  },
  {
   "cell_type": "code",
   "execution_count": null,
   "id": "32da4c72",
   "metadata": {},
   "outputs": [
    {
     "name": "stdout",
     "output_type": "stream",
     "text": [
      "On branch main\n",
      "Your branch is ahead of 'origin/main' by 1 commit.\n",
      "  (use \"git push\" to publish your local commits)\n",
      "\n",
      "Untracked files:\n",
      "  (use \"git add <file>...\" to include in what will be committed)\n",
      "\tartifacts/\n",
      "\tdata_segaration.ipynb\n",
      "\ttest_data.py\n",
      "\twandb/run-20250418_214853-enlr4ppk/\n",
      "\twandb/run-20250418_215008-tcnywwd8/\n",
      "\twandb/run-20250418_215135-pmlfx63t/\n",
      "\twandb/run-20250418_215231-c6fm9c1q/\n",
      "\twandb/run-20250418_215340-bddnuqm3/\n",
      "\twandb/run-20250418_215434-xiuc812h/\n",
      "\twandb/run-20250418_215952-1anvs4ed/\n",
      "\twandb/run-20250418_220254-4j1rkppk/\n",
      "\twandb/run-20250418_221930-n4z6zqla/\n",
      "\twandb/run-20250418_222305-vdronr0d/\n",
      "\n",
      "nothing added to commit but untracked files present (use \"git add\" to track)\n"
     ]
    }
   ],
   "source": [
    "#!git status\n"
   ]
  },
  {
   "cell_type": "code",
   "execution_count": null,
   "id": "75b6f8ad",
   "metadata": {},
   "outputs": [
    {
     "name": "stderr",
     "output_type": "stream",
     "text": [
      "warning: LF will be replaced by CRLF in data_segaration.ipynb.\n",
      "The file will have its original line endings in your working directory\n"
     ]
    }
   ],
   "source": [
    "#!git add ."
   ]
  },
  {
   "cell_type": "code",
   "execution_count": null,
   "id": "bb78f20b",
   "metadata": {},
   "outputs": [
    {
     "name": "stdout",
     "output_type": "stream",
     "text": [
      "[main 31298c0] Added all untracked files\n",
      " 63 files changed, 45311 insertions(+)\n",
      " create mode 100644 artifacts/raw_data-v0/bank-additional-full.csv\n",
      " create mode 100644 data_segaration.ipynb\n",
      " create mode 100644 test_data.py\n",
      " create mode 100644 wandb/run-20250418_214853-enlr4ppk/files/conda-environment.yaml\n",
      " create mode 100644 wandb/run-20250418_214853-enlr4ppk/files/config.yaml\n",
      " create mode 100644 wandb/run-20250418_214853-enlr4ppk/files/requirements.txt\n",
      " create mode 100644 wandb/run-20250418_214853-enlr4ppk/files/wandb-metadata.json\n",
      " create mode 100644 wandb/run-20250418_214853-enlr4ppk/files/wandb-summary.json\n",
      " create mode 100644 wandb/run-20250418_214853-enlr4ppk/run-enlr4ppk.wandb\n",
      " create mode 100644 wandb/run-20250418_215008-tcnywwd8/files/conda-environment.yaml\n",
      " create mode 100644 wandb/run-20250418_215008-tcnywwd8/files/config.yaml\n",
      " create mode 100644 wandb/run-20250418_215008-tcnywwd8/files/requirements.txt\n",
      " create mode 100644 wandb/run-20250418_215008-tcnywwd8/files/wandb-metadata.json\n",
      " create mode 100644 wandb/run-20250418_215008-tcnywwd8/files/wandb-summary.json\n",
      " create mode 100644 wandb/run-20250418_215008-tcnywwd8/run-tcnywwd8.wandb\n",
      " create mode 100644 wandb/run-20250418_215135-pmlfx63t/files/conda-environment.yaml\n",
      " create mode 100644 wandb/run-20250418_215135-pmlfx63t/files/config.yaml\n",
      " create mode 100644 wandb/run-20250418_215135-pmlfx63t/files/requirements.txt\n",
      " create mode 100644 wandb/run-20250418_215135-pmlfx63t/files/wandb-metadata.json\n",
      " create mode 100644 wandb/run-20250418_215135-pmlfx63t/files/wandb-summary.json\n",
      " create mode 100644 wandb/run-20250418_215135-pmlfx63t/run-pmlfx63t.wandb\n",
      " create mode 100644 wandb/run-20250418_215231-c6fm9c1q/files/conda-environment.yaml\n",
      " create mode 100644 wandb/run-20250418_215231-c6fm9c1q/files/config.yaml\n",
      " create mode 100644 wandb/run-20250418_215231-c6fm9c1q/files/requirements.txt\n",
      " create mode 100644 wandb/run-20250418_215231-c6fm9c1q/files/wandb-metadata.json\n",
      " create mode 100644 wandb/run-20250418_215231-c6fm9c1q/files/wandb-summary.json\n",
      " create mode 100644 wandb/run-20250418_215231-c6fm9c1q/run-c6fm9c1q.wandb\n",
      " create mode 100644 wandb/run-20250418_215340-bddnuqm3/files/conda-environment.yaml\n",
      " create mode 100644 wandb/run-20250418_215340-bddnuqm3/files/config.yaml\n",
      " create mode 100644 wandb/run-20250418_215340-bddnuqm3/files/requirements.txt\n",
      " create mode 100644 wandb/run-20250418_215340-bddnuqm3/files/wandb-metadata.json\n",
      " create mode 100644 wandb/run-20250418_215340-bddnuqm3/files/wandb-summary.json\n",
      " create mode 100644 wandb/run-20250418_215340-bddnuqm3/run-bddnuqm3.wandb\n",
      " create mode 100644 wandb/run-20250418_215434-xiuc812h/files/conda-environment.yaml\n",
      " create mode 100644 wandb/run-20250418_215434-xiuc812h/files/config.yaml\n",
      " create mode 100644 wandb/run-20250418_215434-xiuc812h/files/requirements.txt\n",
      " create mode 100644 wandb/run-20250418_215434-xiuc812h/files/wandb-metadata.json\n",
      " create mode 100644 wandb/run-20250418_215434-xiuc812h/files/wandb-summary.json\n",
      " create mode 100644 wandb/run-20250418_215434-xiuc812h/run-xiuc812h.wandb\n",
      " create mode 100644 wandb/run-20250418_215952-1anvs4ed/files/conda-environment.yaml\n",
      " create mode 100644 wandb/run-20250418_215952-1anvs4ed/files/config.yaml\n",
      " create mode 100644 wandb/run-20250418_215952-1anvs4ed/files/requirements.txt\n",
      " create mode 100644 wandb/run-20250418_215952-1anvs4ed/files/wandb-metadata.json\n",
      " create mode 100644 wandb/run-20250418_215952-1anvs4ed/files/wandb-summary.json\n",
      " create mode 100644 wandb/run-20250418_215952-1anvs4ed/run-1anvs4ed.wandb\n",
      " create mode 100644 wandb/run-20250418_220254-4j1rkppk/files/conda-environment.yaml\n",
      " create mode 100644 wandb/run-20250418_220254-4j1rkppk/files/config.yaml\n",
      " create mode 100644 wandb/run-20250418_220254-4j1rkppk/files/requirements.txt\n",
      " create mode 100644 wandb/run-20250418_220254-4j1rkppk/files/wandb-metadata.json\n",
      " create mode 100644 wandb/run-20250418_220254-4j1rkppk/files/wandb-summary.json\n",
      " create mode 100644 wandb/run-20250418_220254-4j1rkppk/run-4j1rkppk.wandb\n",
      " create mode 100644 wandb/run-20250418_221930-n4z6zqla/files/conda-environment.yaml\n",
      " create mode 100644 wandb/run-20250418_221930-n4z6zqla/files/config.yaml\n",
      " create mode 100644 wandb/run-20250418_221930-n4z6zqla/files/requirements.txt\n",
      " create mode 100644 wandb/run-20250418_221930-n4z6zqla/files/wandb-metadata.json\n",
      " create mode 100644 wandb/run-20250418_221930-n4z6zqla/files/wandb-summary.json\n",
      " create mode 100644 wandb/run-20250418_221930-n4z6zqla/run-n4z6zqla.wandb\n",
      " create mode 100644 wandb/run-20250418_222305-vdronr0d/files/conda-environment.yaml\n",
      " create mode 100644 wandb/run-20250418_222305-vdronr0d/files/config.yaml\n",
      " create mode 100644 wandb/run-20250418_222305-vdronr0d/files/requirements.txt\n",
      " create mode 100644 wandb/run-20250418_222305-vdronr0d/files/wandb-metadata.json\n",
      " create mode 100644 wandb/run-20250418_222305-vdronr0d/files/wandb-summary.json\n",
      " create mode 100644 wandb/run-20250418_222305-vdronr0d/run-vdronr0d.wandb\n"
     ]
    }
   ],
   "source": [
    "#!git commit -m \"Added all untracked files\""
   ]
  }
 ],
 "metadata": {
  "kernelspec": {
   "display_name": "bankmkt",
   "language": "python",
   "name": "python3"
  },
  "language_info": {
   "codemirror_mode": {
    "name": "ipython",
    "version": 3
   },
   "file_extension": ".py",
   "mimetype": "text/x-python",
   "name": "python",
   "nbconvert_exporter": "python",
   "pygments_lexer": "ipython3",
   "version": "3.8.20"
  }
 },
 "nbformat": 4,
 "nbformat_minor": 5
}
