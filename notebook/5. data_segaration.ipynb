{
 "cells": [
  {
   "cell_type": "code",
   "execution_count": 1,
   "id": "d44eac92",
   "metadata": {},
   "outputs": [],
   "source": [
    "import logging\n",
    "import tempfile\n",
    "import pandas as pd\n",
    "import os\n",
    "import wandb\n",
    "from dotenv import load_dotenv\n",
    "from sklearn.model_selection import train_test_split"
   ]
  },
  {
   "cell_type": "code",
   "execution_count": 2,
   "id": "f364fa4c",
   "metadata": {},
   "outputs": [
    {
     "name": "stderr",
     "output_type": "stream",
     "text": [
      "Failed to detect the name of this notebook, you can set it manually with the WANDB_NOTEBOOK_NAME environment variable to enable code saving.\n",
      "\u001b[34m\u001b[1mwandb\u001b[0m: Currently logged in as: \u001b[33mhangtn13-ssc-national-economics-university\u001b[0m (use `wandb login --relogin` to force relogin)\n",
      "\u001b[34m\u001b[1mwandb\u001b[0m: \u001b[33mWARNING\u001b[0m If you're specifying your api key in code, ensure this code is not shared publicly.\n",
      "\u001b[34m\u001b[1mwandb\u001b[0m: \u001b[33mWARNING\u001b[0m Consider setting the WANDB_API_KEY environment variable, or running `wandb login` from the command line.\n",
      "\u001b[34m\u001b[1mwandb\u001b[0m: Appending key for api.wandb.ai to your netrc file: C:\\Users\\HP/.netrc\n"
     ]
    },
    {
     "data": {
      "text/plain": [
       "True"
      ]
     },
     "execution_count": 2,
     "metadata": {},
     "output_type": "execute_result"
    }
   ],
   "source": [
    "load_dotenv()\n",
    "\n",
    "WANDB_API_KEY=os.environ.get('WANDB_API_KEY')\n",
    "wandb.login(key=WANDB_API_KEY)"
   ]
  },
  {
   "cell_type": "code",
   "execution_count": 3,
   "id": "1da64e33",
   "metadata": {},
   "outputs": [],
   "source": [
    "# global variables\n",
    "\n",
    "# ratio used to split train and test data\n",
    "test_size = 0.2\n",
    "\n",
    "# seed used to reproduce purposes\n",
    "seed = 41\n",
    "\n",
    "# reference (column) to stratify the data\n",
    "stratify = \"y\"\n",
    "\n",
    "# name of the input artifact\n",
    "artifact_input_name = \"hangtn13-ssc-national-economics-university/Bank-Marketing/preprocessed_data.csv:latest\"\n",
    "\n",
    "# type of the artifact\n",
    "artifact_type = \"segregated_data\""
   ]
  },
  {
   "cell_type": "code",
   "execution_count": 4,
   "id": "9af7290e",
   "metadata": {},
   "outputs": [
    {
     "data": {
      "text/html": [
       "wandb version 0.19.11 is available!  To upgrade, please run:\n",
       " $ pip install wandb --upgrade"
      ],
      "text/plain": [
       "<IPython.core.display.HTML object>"
      ]
     },
     "metadata": {},
     "output_type": "display_data"
    },
    {
     "data": {
      "text/html": [
       "Tracking run with wandb version 0.12.14"
      ],
      "text/plain": [
       "<IPython.core.display.HTML object>"
      ]
     },
     "metadata": {},
     "output_type": "display_data"
    },
    {
     "data": {
      "text/html": [
       "Run data is saved locally in <code>c:\\Mlops_Project_K64_v2\\notebook\\wandb\\run-20250510_103006-ukgmjnmz</code>"
      ],
      "text/plain": [
       "<IPython.core.display.HTML object>"
      ]
     },
     "metadata": {},
     "output_type": "display_data"
    },
    {
     "data": {
      "text/html": [
       "Syncing run <strong><a href=\"https://wandb.ai/hangtn13-ssc-national-economics-university/Bank-Marketing/runs/ukgmjnmz\" target=\"_blank\">solar-bird-120</a></strong> to <a href=\"https://wandb.ai/hangtn13-ssc-national-economics-university/Bank-Marketing\" target=\"_blank\">Weights & Biases</a> (<a href=\"https://wandb.me/run\" target=\"_blank\">docs</a>)<br/>"
      ],
      "text/plain": [
       "<IPython.core.display.HTML object>"
      ]
     },
     "metadata": {},
     "output_type": "display_data"
    },
    {
     "name": "stderr",
     "output_type": "stream",
     "text": [
      "10-05-2025 10:30:16 Downloading and reading artifact\n",
      "10-05-2025 10:30:18 Artifact downloaded\n",
      "10-05-2025 10:30:18 Splitting data into train and test\n",
      "10-05-2025 10:30:18 Uploading the train dataset to train.csv\n",
      "10-05-2025 10:30:19 Logging artifact\n",
      "10-05-2025 10:30:35 Uploading the test dataset to test.csv\n",
      "10-05-2025 10:30:35 Logging artifact\n"
     ]
    }
   ],
   "source": [
    "# configure logging\n",
    "logging.basicConfig(level=logging.INFO,\n",
    "                    format=\"%(asctime)s %(message)s\",\n",
    "                    datefmt='%d-%m-%Y %H:%M:%S')\n",
    "\n",
    "# reference for a logging obj\n",
    "logger = logging.getLogger()\n",
    "\n",
    "# initiate wandb project\n",
    "run = wandb.init(project=\"Bank-Marketing\", job_type=\"split_data\")\n",
    "\n",
    "logger.info(\"Downloading and reading artifact\")\n",
    "artifact = run.use_artifact(artifact_input_name)\n",
    "artifact_dir = artifact.download()\n",
    "artifact_path = os.path.join(artifact_dir, \"preprocessed_data.csv\")\n",
    "df = pd.read_csv(artifact_path)\n",
    "logger.info(\"Artifact downloaded\")\n",
    "\n",
    "\n",
    "# Split firstly in train/test, then we further divide the dataset to train and validation\n",
    "logger.info(\"Splitting data into train and test\")\n",
    "splits = {}\n",
    "\n",
    "splits[\"train\"], splits[\"test\"] = train_test_split(df,\n",
    "                                                   test_size=test_size,\n",
    "                                                   random_state=seed,\n",
    "                                                   stratify=df[stratify])\n",
    "\n",
    "# Save the artifacts. We use a temporary directory so we do not leave any trace behind\n",
    "with tempfile.TemporaryDirectory() as tmp_dir:\n",
    "\n",
    "    for split, df in splits.items():\n",
    "\n",
    "        # Make the artifact name from the name of the split plus the provided root\n",
    "        artifact_name = f\"{split}.csv\"\n",
    "\n",
    "        # Get the path on disk within the temp directory\n",
    "        temp_path = os.path.join(tmp_dir, artifact_name)\n",
    "\n",
    "        logger.info(f\"Uploading the {split} dataset to {artifact_name}\")\n",
    "\n",
    "        # Save then upload to W&B\n",
    "        df.to_csv(temp_path,index=False)\n",
    "\n",
    "        artifact = wandb.Artifact(name=artifact_name,\n",
    "                                  type=artifact_type,\n",
    "                                  description=f\"{split} split of dataset {artifact_input_name}\",\n",
    "        )\n",
    "        artifact.add_file(temp_path)\n",
    "\n",
    "        logger.info(\"Logging artifact\")\n",
    "        run.log_artifact(artifact)\n",
    "\n",
    "        # This waits for the artifact to be uploaded to W&B. If you\n",
    "        # do not add this, the temp directory might be removed before\n",
    "        # W&B had a chance to upload the datasets, and the upload\n",
    "        # might fail\n",
    "        artifact.wait()"
   ]
  },
  {
   "cell_type": "code",
   "execution_count": 5,
   "id": "81891a54",
   "metadata": {},
   "outputs": [
    {
     "name": "stdout",
     "output_type": "stream",
     "text": [
      "\n"
     ]
    },
    {
     "data": {
      "text/html": [
       "Waiting for W&B process to finish... <strong style=\"color:green\">(success).</strong>"
      ],
      "text/plain": [
       "<IPython.core.display.HTML object>"
      ]
     },
     "metadata": {},
     "output_type": "display_data"
    },
    {
     "data": {
      "application/vnd.jupyter.widget-view+json": {
       "model_id": "7a822394cc2e4723a2f59f7d22df6ef3",
       "version_major": 2,
       "version_minor": 0
      },
      "text/plain": [
       "VBox(children=(Label(value='4.339 MB of 4.339 MB uploaded (0.000 MB deduped)\\r'), FloatProgress(value=1.0, max…"
      ]
     },
     "metadata": {},
     "output_type": "display_data"
    },
    {
     "data": {
      "text/html": [
       "Synced <strong style=\"color:#cdcd00\">solar-bird-120</strong>: <a href=\"https://wandb.ai/hangtn13-ssc-national-economics-university/Bank-Marketing/runs/ukgmjnmz\" target=\"_blank\">https://wandb.ai/hangtn13-ssc-national-economics-university/Bank-Marketing/runs/ukgmjnmz</a><br/>Synced 6 W&B file(s), 0 media file(s), 2 artifact file(s) and 0 other file(s)"
      ],
      "text/plain": [
       "<IPython.core.display.HTML object>"
      ]
     },
     "metadata": {},
     "output_type": "display_data"
    },
    {
     "data": {
      "text/html": [
       "Find logs at: <code>.\\wandb\\run-20250510_103006-ukgmjnmz\\logs</code>"
      ],
      "text/plain": [
       "<IPython.core.display.HTML object>"
      ]
     },
     "metadata": {},
     "output_type": "display_data"
    }
   ],
   "source": [
    "# close the run\n",
    "# waiting a while after run the previous cell before execute this\n",
    "run.finish()"
   ]
  }
 ],
 "metadata": {
  "kernelspec": {
   "display_name": "bankmkt",
   "language": "python",
   "name": "python3"
  },
  "language_info": {
   "codemirror_mode": {
    "name": "ipython",
    "version": 3
   },
   "file_extension": ".py",
   "mimetype": "text/x-python",
   "name": "python",
   "nbconvert_exporter": "python",
   "pygments_lexer": "ipython3",
   "version": "3.8.20"
  }
 },
 "nbformat": 4,
 "nbformat_minor": 5
}
