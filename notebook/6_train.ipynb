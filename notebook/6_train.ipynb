{
  "cells": [
    {
      "cell_type": "markdown",
      "metadata": {
        "id": "0I4pgzLVtBTP"
      },
      "source": [
        "# 1.0 An end-to-end classification problem (Training)\n",
        "\n"
      ]
    },
    {
      "cell_type": "markdown",
      "metadata": {
        "id": "Dh34gim6KPtT"
      },
      "source": [
        "## 1.1 Dataset description"
      ]
    },
    {
      "cell_type": "markdown",
      "metadata": {
        "id": "iE8OJoDZ5AFK"
      },
      "source": [
        "The notebooks focus on a borrower's **credit modeling problem**. The database was downloaded through a dataquest project and is available at link below. The data is from **Lending Club** and contains data from loans made in the period **2007 to 2011**. Lending Club is a marketplace for personal loans that matches borrowers who are seeking a loan with investors looking to lend money and make a return. The **target variable**, or what we are wanting to predict, is whether or not, given a person's history, they will repay the loan.\n",
        "\n",
        "You can download the data from the [Kaggle](https://www.kaggle.com/datasets/samaxtech/lending-club-20072011-data).\n",
        "\n",
        "Let's take the following steps:\n",
        "\n",
        "1. ETL (done)\n",
        "2. Data Checks (done)\n",
        "3. Data Segregation (done)\n",
        "4. Training\n",
        "\n",
        "<center><img width=\"600\" src=\"https://drive.google.com/uc?export=view&id=1fKGuR5U5ECf7On6Zo1UWzAIWZrMmZnGc\"></center>"
      ]
    },
    {
      "cell_type": "markdown",
      "metadata": {
        "id": "7UpxKxU1Ej7f"
      },
      "source": [
        "## 1.2 Install, load libraries"
      ]
    },
    {
      "cell_type": "code",
      "execution_count": 334,
      "metadata": {},
      "outputs": [],
      "source": [
        "#!pip install imblearn"
      ]
    },
    {
      "cell_type": "code",
      "execution_count": 335,
      "metadata": {
        "id": "NreRnbvI8lL5"
      },
      "outputs": [],
      "source": [
        "import logging\n",
        "import wandb\n",
        "import pandas as pd\n",
        "import numpy as np\n",
        "import joblib\n",
        "import matplotlib.pyplot as plt\n",
        "from sklearn.model_selection import train_test_split\n",
        "from sklearn.neighbors import LocalOutlierFactor\n",
        "from sklearn.preprocessing import LabelEncoder\n",
        "from sklearn.preprocessing import OneHotEncoder\n",
        "from sklearn.base import BaseEstimator, TransformerMixin\n",
        "from sklearn.preprocessing import MinMaxScaler\n",
        "from sklearn.preprocessing import StandardScaler\n",
        "from sklearn.preprocessing import OneHotEncoder\n",
        "from sklearn.pipeline import Pipeline, FeatureUnion\n",
        "from sklearn.tree import DecisionTreeClassifier\n",
        "from sklearn.impute import SimpleImputer\n",
        "from sklearn.metrics import fbeta_score, precision_score, recall_score, accuracy_score\n",
        "from sklearn.metrics import classification_report\n",
        "from sklearn.metrics import confusion_matrix\n",
        "from sklearn.metrics import ConfusionMatrixDisplay\n",
        "from imblearn.over_sampling import SMOTE\n",
        "import warnings\n",
        "warnings.filterwarnings(\"ignore\")"
      ]
    },
    {
      "cell_type": "code",
      "execution_count": 336,
      "metadata": {},
      "outputs": [],
      "source": [
        "import os"
      ]
    },
    {
      "cell_type": "code",
      "execution_count": 337,
      "metadata": {},
      "outputs": [
        {
          "data": {
            "text/plain": [
              "True"
            ]
          },
          "execution_count": 337,
          "metadata": {},
          "output_type": "execute_result"
        }
      ],
      "source": [
        "from dotenv import load_dotenv\n",
        "load_dotenv()\n",
        "\n",
        "WANDB_API_KEY=os.environ.get('WANDB_API_KEY')\n",
        "wandb.login(key=WANDB_API_KEY)"
      ]
    },
    {
      "cell_type": "markdown",
      "metadata": {
        "id": "BeMVUzr08AK8"
      },
      "source": [
        "## 1.3 Holdout Configuration"
      ]
    },
    {
      "cell_type": "code",
      "execution_count": 338,
      "metadata": {
        "id": "sZzaS0x8ZYUB"
      },
      "outputs": [],
      "source": [
        "# global variables\n",
        "\n",
        "# ratio used to split train and test data\n",
        "val_size = 0.2\n",
        "\n",
        "# seed used to reproduce purposes\n",
        "seed = 41\n",
        "\n",
        "# reference (column) to stratify the data\n",
        "stratify = \"y\"\n",
        "\n",
        "# name of the input artifact\n",
        "artifact_input_name = \"Bank-Marketing/train.csv:latest\"\n",
        "\n",
        "# type of the artifact\n",
        "artifact_type = \"Train\""
      ]
    },
    {
      "cell_type": "code",
      "execution_count": 339,
      "metadata": {
        "colab": {
          "base_uri": "https://localhost:8080/"
        },
        "id": "VILw-BwKY2Wn",
        "outputId": "1b4f2e48-d5f5-4fe9-c21d-121d19189214"
      },
      "outputs": [
        {
          "data": {
            "text/html": [
              "wandb version 0.19.11 is available!  To upgrade, please run:\n",
              " $ pip install wandb --upgrade"
            ],
            "text/plain": [
              "<IPython.core.display.HTML object>"
            ]
          },
          "metadata": {},
          "output_type": "display_data"
        },
        {
          "data": {
            "text/html": [
              "Tracking run with wandb version 0.12.14"
            ],
            "text/plain": [
              "<IPython.core.display.HTML object>"
            ]
          },
          "metadata": {},
          "output_type": "display_data"
        },
        {
          "data": {
            "text/html": [
              "Run data is saved locally in <code>e:\\DSEB DOCUMENTS\\6th Semester\\MLOps\\Water\\Mlops_Project_K64-experiment-1\\wandb\\run-20250508_212811-pexvis87</code>"
            ],
            "text/plain": [
              "<IPython.core.display.HTML object>"
            ]
          },
          "metadata": {},
          "output_type": "display_data"
        },
        {
          "data": {
            "text/html": [
              "Syncing run <strong><a href=\"https://wandb.ai/hangtn13-ssc-national-economics-university/Bank-Marketing/runs/pexvis87\" target=\"_blank\">iconic-glade-77</a></strong> to <a href=\"https://wandb.ai/hangtn13-ssc-national-economics-university/Bank-Marketing\" target=\"_blank\">Weights & Biases</a> (<a href=\"https://wandb.me/run\" target=\"_blank\">docs</a>)<br/>"
            ],
            "text/plain": [
              "<IPython.core.display.HTML object>"
            ]
          },
          "metadata": {},
          "output_type": "display_data"
        },
        {
          "name": "stderr",
          "output_type": "stream",
          "text": [
            "08-05-2025 21:28:25 Downloading and reading train artifact\n",
            "08-05-2025 21:28:27 Reading train.csv\n",
            "08-05-2025 21:28:27 Spliting data into train/val\n"
          ]
        }
      ],
      "source": [
        "# configure logging\n",
        "logging.basicConfig(level=logging.INFO,\n",
        "                    format=\"%(asctime)s %(message)s\",\n",
        "                    datefmt='%d-%m-%Y %H:%M:%S')\n",
        "\n",
        "# reference for a logging obj\n",
        "logger = logging.getLogger()\n",
        "\n",
        "# initiate the wandb project\n",
        "run = wandb.init(project=\"Bank-Marketing\",job_type=\"train\")\n",
        "\n",
        "logger.info(\"Downloading and reading train artifact\")\n",
        "artifact = run.use_artifact(artifact_input_name)\n",
        "artifact_dir = artifact.download()\n",
        "local_path = os.path.join(artifact_dir, \"train.csv\")\n",
        "df_train = pd.read_csv(local_path)\n",
        "logger.info(\"Reading train.csv\")\n",
        "\n",
        "# Spliting train.csv into train and validation dataset\n",
        "logger.info(\"Spliting data into train/val\")\n",
        "# split-out train/validation and test dataset\n",
        "x_train, x_val, y_train, y_val = train_test_split(df_train.drop(labels=stratify,axis=1),\n",
        "                                                  df_train[stratify],\n",
        "                                                  test_size=val_size,\n",
        "                                                  random_state=seed,\n",
        "                                                  shuffle=True,\n",
        "                                                  stratify=df_train[stratify])"
      ]
    },
    {
      "cell_type": "code",
      "execution_count": 340,
      "metadata": {
        "colab": {
          "base_uri": "https://localhost:8080/"
        },
        "id": "VOFF72bq9QoB",
        "outputId": "cce4de0e-8531-4068-ac0e-6d927bbba53a"
      },
      "outputs": [
        {
          "name": "stderr",
          "output_type": "stream",
          "text": [
            "08-05-2025 21:28:27 x train: (25218, 20)\n",
            "08-05-2025 21:28:27 y train: (25218,)\n",
            "08-05-2025 21:28:27 x val: (6305, 20)\n",
            "08-05-2025 21:28:27 y val: (6305,)\n"
          ]
        }
      ],
      "source": [
        "logger.info(\"x train: {}\".format(x_train.shape))\n",
        "logger.info(\"y train: {}\".format(y_train.shape))\n",
        "logger.info(\"x val: {}\".format(x_val.shape))\n",
        "logger.info(\"y val: {}\".format(y_val.shape))"
      ]
    },
    {
      "cell_type": "code",
      "execution_count": 341,
      "metadata": {},
      "outputs": [
        {
          "data": {
            "application/vnd.microsoft.datawrangler.viewer.v0+json": {
              "columns": [
                {
                  "name": "index",
                  "rawType": "int64",
                  "type": "integer"
                },
                {
                  "name": "age",
                  "rawType": "int64",
                  "type": "integer"
                },
                {
                  "name": "job",
                  "rawType": "object",
                  "type": "string"
                },
                {
                  "name": "marital",
                  "rawType": "object",
                  "type": "string"
                },
                {
                  "name": "education",
                  "rawType": "object",
                  "type": "string"
                },
                {
                  "name": "default",
                  "rawType": "object",
                  "type": "string"
                },
                {
                  "name": "housing",
                  "rawType": "object",
                  "type": "string"
                },
                {
                  "name": "loan",
                  "rawType": "object",
                  "type": "string"
                },
                {
                  "name": "contact",
                  "rawType": "object",
                  "type": "string"
                },
                {
                  "name": "month",
                  "rawType": "object",
                  "type": "string"
                },
                {
                  "name": "day_of_week",
                  "rawType": "object",
                  "type": "string"
                },
                {
                  "name": "campaign",
                  "rawType": "int64",
                  "type": "integer"
                },
                {
                  "name": "pdays",
                  "rawType": "float64",
                  "type": "float"
                },
                {
                  "name": "previous",
                  "rawType": "int64",
                  "type": "integer"
                },
                {
                  "name": "poutcome",
                  "rawType": "object",
                  "type": "string"
                },
                {
                  "name": "emp_var_rate",
                  "rawType": "float64",
                  "type": "float"
                },
                {
                  "name": "cons_price_idx",
                  "rawType": "float64",
                  "type": "float"
                },
                {
                  "name": "cons_conf_idx",
                  "rawType": "float64",
                  "type": "float"
                },
                {
                  "name": "euribor3m",
                  "rawType": "float64",
                  "type": "float"
                },
                {
                  "name": "nr_employed",
                  "rawType": "float64",
                  "type": "float"
                },
                {
                  "name": "pdays_contacted_status",
                  "rawType": "int64",
                  "type": "integer"
                }
              ],
              "conversionMethod": "pd.DataFrame",
              "ref": "b5eb6c76-2ff3-4175-9350-5a49e75ed31b",
              "rows": [
                [
                  "7234",
                  "25",
                  "admin",
                  "married",
                  "unknown",
                  "no",
                  "no",
                  "no",
                  "cellular",
                  "nov",
                  "thu",
                  "1",
                  null,
                  "0",
                  "nonexistent",
                  "-3.4",
                  "92.649",
                  "-30.1",
                  "0.714",
                  "5017.5",
                  "0"
                ],
                [
                  "19855",
                  "55",
                  "unemployed",
                  "married",
                  "basic 9y",
                  "no",
                  "yes",
                  "no",
                  "cellular",
                  "oct",
                  "tue",
                  "1",
                  null,
                  "0",
                  "nonexistent",
                  "-3.4",
                  "92.431",
                  "-26.9",
                  "0.728",
                  "5017.5",
                  "0"
                ],
                [
                  "19351",
                  "49",
                  "blue-collar",
                  "single",
                  "basic 6y",
                  "no",
                  "yes",
                  "no",
                  "telephone",
                  "may",
                  "wed",
                  "4",
                  null,
                  "0",
                  "nonexistent",
                  "1.1",
                  "93.994",
                  "-36.4",
                  "4.856",
                  "5191.0",
                  "0"
                ],
                [
                  "7106",
                  "30",
                  "blue-collar",
                  "married",
                  "basic 9y",
                  "no",
                  "no",
                  "no",
                  "cellular",
                  "nov",
                  "wed",
                  "5",
                  null,
                  "0",
                  "nonexistent",
                  "-0.1",
                  "93.2",
                  "-42.0",
                  "4.12",
                  "5195.8",
                  "0"
                ],
                [
                  "24031",
                  "37",
                  "student",
                  "divorced",
                  "university degree",
                  "no",
                  "yes",
                  "yes",
                  "cellular",
                  "may",
                  "thu",
                  "2",
                  null,
                  "0",
                  "nonexistent",
                  "-1.8",
                  "93.876",
                  "-40.0",
                  "0.699",
                  "5008.7",
                  "0"
                ]
              ],
              "shape": {
                "columns": 20,
                "rows": 5
              }
            },
            "text/html": [
              "<div>\n",
              "<style scoped>\n",
              "    .dataframe tbody tr th:only-of-type {\n",
              "        vertical-align: middle;\n",
              "    }\n",
              "\n",
              "    .dataframe tbody tr th {\n",
              "        vertical-align: top;\n",
              "    }\n",
              "\n",
              "    .dataframe thead th {\n",
              "        text-align: right;\n",
              "    }\n",
              "</style>\n",
              "<table border=\"1\" class=\"dataframe\">\n",
              "  <thead>\n",
              "    <tr style=\"text-align: right;\">\n",
              "      <th></th>\n",
              "      <th>age</th>\n",
              "      <th>job</th>\n",
              "      <th>marital</th>\n",
              "      <th>education</th>\n",
              "      <th>default</th>\n",
              "      <th>housing</th>\n",
              "      <th>loan</th>\n",
              "      <th>contact</th>\n",
              "      <th>month</th>\n",
              "      <th>day_of_week</th>\n",
              "      <th>campaign</th>\n",
              "      <th>pdays</th>\n",
              "      <th>previous</th>\n",
              "      <th>poutcome</th>\n",
              "      <th>emp_var_rate</th>\n",
              "      <th>cons_price_idx</th>\n",
              "      <th>cons_conf_idx</th>\n",
              "      <th>euribor3m</th>\n",
              "      <th>nr_employed</th>\n",
              "      <th>pdays_contacted_status</th>\n",
              "    </tr>\n",
              "  </thead>\n",
              "  <tbody>\n",
              "    <tr>\n",
              "      <th>7234</th>\n",
              "      <td>25</td>\n",
              "      <td>admin</td>\n",
              "      <td>married</td>\n",
              "      <td>unknown</td>\n",
              "      <td>no</td>\n",
              "      <td>no</td>\n",
              "      <td>no</td>\n",
              "      <td>cellular</td>\n",
              "      <td>nov</td>\n",
              "      <td>thu</td>\n",
              "      <td>1</td>\n",
              "      <td>NaN</td>\n",
              "      <td>0</td>\n",
              "      <td>nonexistent</td>\n",
              "      <td>-3.4</td>\n",
              "      <td>92.649</td>\n",
              "      <td>-30.1</td>\n",
              "      <td>0.714</td>\n",
              "      <td>5017.5</td>\n",
              "      <td>0</td>\n",
              "    </tr>\n",
              "    <tr>\n",
              "      <th>19855</th>\n",
              "      <td>55</td>\n",
              "      <td>unemployed</td>\n",
              "      <td>married</td>\n",
              "      <td>basic 9y</td>\n",
              "      <td>no</td>\n",
              "      <td>yes</td>\n",
              "      <td>no</td>\n",
              "      <td>cellular</td>\n",
              "      <td>oct</td>\n",
              "      <td>tue</td>\n",
              "      <td>1</td>\n",
              "      <td>NaN</td>\n",
              "      <td>0</td>\n",
              "      <td>nonexistent</td>\n",
              "      <td>-3.4</td>\n",
              "      <td>92.431</td>\n",
              "      <td>-26.9</td>\n",
              "      <td>0.728</td>\n",
              "      <td>5017.5</td>\n",
              "      <td>0</td>\n",
              "    </tr>\n",
              "    <tr>\n",
              "      <th>19351</th>\n",
              "      <td>49</td>\n",
              "      <td>blue-collar</td>\n",
              "      <td>single</td>\n",
              "      <td>basic 6y</td>\n",
              "      <td>no</td>\n",
              "      <td>yes</td>\n",
              "      <td>no</td>\n",
              "      <td>telephone</td>\n",
              "      <td>may</td>\n",
              "      <td>wed</td>\n",
              "      <td>4</td>\n",
              "      <td>NaN</td>\n",
              "      <td>0</td>\n",
              "      <td>nonexistent</td>\n",
              "      <td>1.1</td>\n",
              "      <td>93.994</td>\n",
              "      <td>-36.4</td>\n",
              "      <td>4.856</td>\n",
              "      <td>5191.0</td>\n",
              "      <td>0</td>\n",
              "    </tr>\n",
              "    <tr>\n",
              "      <th>7106</th>\n",
              "      <td>30</td>\n",
              "      <td>blue-collar</td>\n",
              "      <td>married</td>\n",
              "      <td>basic 9y</td>\n",
              "      <td>no</td>\n",
              "      <td>no</td>\n",
              "      <td>no</td>\n",
              "      <td>cellular</td>\n",
              "      <td>nov</td>\n",
              "      <td>wed</td>\n",
              "      <td>5</td>\n",
              "      <td>NaN</td>\n",
              "      <td>0</td>\n",
              "      <td>nonexistent</td>\n",
              "      <td>-0.1</td>\n",
              "      <td>93.200</td>\n",
              "      <td>-42.0</td>\n",
              "      <td>4.120</td>\n",
              "      <td>5195.8</td>\n",
              "      <td>0</td>\n",
              "    </tr>\n",
              "    <tr>\n",
              "      <th>24031</th>\n",
              "      <td>37</td>\n",
              "      <td>student</td>\n",
              "      <td>divorced</td>\n",
              "      <td>university degree</td>\n",
              "      <td>no</td>\n",
              "      <td>yes</td>\n",
              "      <td>yes</td>\n",
              "      <td>cellular</td>\n",
              "      <td>may</td>\n",
              "      <td>thu</td>\n",
              "      <td>2</td>\n",
              "      <td>NaN</td>\n",
              "      <td>0</td>\n",
              "      <td>nonexistent</td>\n",
              "      <td>-1.8</td>\n",
              "      <td>93.876</td>\n",
              "      <td>-40.0</td>\n",
              "      <td>0.699</td>\n",
              "      <td>5008.7</td>\n",
              "      <td>0</td>\n",
              "    </tr>\n",
              "  </tbody>\n",
              "</table>\n",
              "</div>"
            ],
            "text/plain": [
              "       age          job   marital          education default housing loan  \\\n",
              "7234    25        admin   married            unknown      no      no   no   \n",
              "19855   55   unemployed   married           basic 9y      no     yes   no   \n",
              "19351   49  blue-collar    single           basic 6y      no     yes   no   \n",
              "7106    30  blue-collar   married           basic 9y      no      no   no   \n",
              "24031   37      student  divorced  university degree      no     yes  yes   \n",
              "\n",
              "         contact month day_of_week  campaign  pdays  previous     poutcome  \\\n",
              "7234    cellular   nov         thu         1    NaN         0  nonexistent   \n",
              "19855   cellular   oct         tue         1    NaN         0  nonexistent   \n",
              "19351  telephone   may         wed         4    NaN         0  nonexistent   \n",
              "7106    cellular   nov         wed         5    NaN         0  nonexistent   \n",
              "24031   cellular   may         thu         2    NaN         0  nonexistent   \n",
              "\n",
              "       emp_var_rate  cons_price_idx  cons_conf_idx  euribor3m  nr_employed  \\\n",
              "7234           -3.4          92.649          -30.1      0.714       5017.5   \n",
              "19855          -3.4          92.431          -26.9      0.728       5017.5   \n",
              "19351           1.1          93.994          -36.4      4.856       5191.0   \n",
              "7106           -0.1          93.200          -42.0      4.120       5195.8   \n",
              "24031          -1.8          93.876          -40.0      0.699       5008.7   \n",
              "\n",
              "       pdays_contacted_status  \n",
              "7234                        0  \n",
              "19855                       0  \n",
              "19351                       0  \n",
              "7106                        0  \n",
              "24031                       0  "
            ]
          },
          "execution_count": 341,
          "metadata": {},
          "output_type": "execute_result"
        }
      ],
      "source": [
        "x_train.head()"
      ]
    },
    {
      "cell_type": "markdown",
      "metadata": {
        "id": "PcqOxTYQ4z3D"
      },
      "source": [
        "## 1.4 Data preparation"
      ]
    },
    {
      "cell_type": "markdown",
      "metadata": {
        "id": "tt9AnGT3922Q"
      },
      "source": [
        "### 1.4.1 Outlier Removal"
      ]
    },
    {
      "cell_type": "code",
      "execution_count": 342,
      "metadata": {},
      "outputs": [],
      "source": [
        "from sklearn.impute import SimpleImputer\n",
        "\n",
        "# Separate numeric columns\n",
        "numeric_columns = x_train.select_dtypes(include=['float64', 'int64']).columns\n",
        "\n",
        "# Create the imputer for numeric columns\n",
        "imputer = SimpleImputer(strategy='median')\n",
        "\n",
        "# Fit and transform the numeric columns only\n",
        "x_train[numeric_columns] = imputer.fit_transform(x_train[numeric_columns])\n",
        "x_val[numeric_columns] = imputer.transform(x_val[numeric_columns])\n"
      ]
    },
    {
      "cell_type": "code",
      "execution_count": 343,
      "metadata": {
        "colab": {
          "base_uri": "https://localhost:8080/"
        },
        "id": "KRvgo0Ol9sPL",
        "outputId": "ba05c584-f490-4708-dc61-2a5b8ef78d43"
      },
      "outputs": [
        {
          "name": "stderr",
          "output_type": "stream",
          "text": [
            "08-05-2025 21:28:29 Outlier Removal\n"
          ]
        }
      ],
      "source": [
        "logger.info(\"Outlier Removal\")\n",
        "# temporary variable\n",
        "x = x_train.select_dtypes('float64').copy()\n",
        "\n",
        "# identify outlier in the dataset\n",
        "lof = LocalOutlierFactor()\n",
        "outlier = lof.fit_predict(x)\n",
        "mask = outlier != -1"
      ]
    },
    {
      "cell_type": "code",
      "execution_count": 344,
      "metadata": {
        "colab": {
          "base_uri": "https://localhost:8080/"
        },
        "id": "A2Y4UgfA9-kn",
        "outputId": "ca9bce4d-efd1-4aee-b0e5-f3816a3988ea"
      },
      "outputs": [
        {
          "name": "stderr",
          "output_type": "stream",
          "text": [
            "08-05-2025 21:28:34 x_train shape [original]: (25218, 20)\n",
            "08-05-2025 21:28:34 x_train shape [outlier removal]: (20069, 20)\n"
          ]
        }
      ],
      "source": [
        "logger.info(\"x_train shape [original]: {}\".format(x_train.shape))\n",
        "logger.info(\"x_train shape [outlier removal]: {}\".format(x_train.loc[mask,:].shape))"
      ]
    },
    {
      "cell_type": "code",
      "execution_count": 345,
      "metadata": {
        "id": "TD1yG61E9_xK"
      },
      "outputs": [],
      "source": [
        "# AVOID data leakage and you should not do this procedure in the preprocessing stage\n",
        "# Note that we did not perform this procedure in the validation set\n",
        "x_train = x_train.loc[mask,:].copy()\n",
        "y_train = y_train[mask].copy()"
      ]
    },
    {
      "cell_type": "code",
      "execution_count": 346,
      "metadata": {},
      "outputs": [
        {
          "data": {
            "application/vnd.microsoft.datawrangler.viewer.v0+json": {
              "columns": [
                {
                  "name": "index",
                  "rawType": "int64",
                  "type": "integer"
                },
                {
                  "name": "age",
                  "rawType": "float64",
                  "type": "float"
                },
                {
                  "name": "job",
                  "rawType": "object",
                  "type": "string"
                },
                {
                  "name": "marital",
                  "rawType": "object",
                  "type": "string"
                },
                {
                  "name": "education",
                  "rawType": "object",
                  "type": "string"
                },
                {
                  "name": "default",
                  "rawType": "object",
                  "type": "string"
                },
                {
                  "name": "housing",
                  "rawType": "object",
                  "type": "string"
                },
                {
                  "name": "loan",
                  "rawType": "object",
                  "type": "string"
                },
                {
                  "name": "contact",
                  "rawType": "object",
                  "type": "string"
                },
                {
                  "name": "month",
                  "rawType": "object",
                  "type": "string"
                },
                {
                  "name": "day_of_week",
                  "rawType": "object",
                  "type": "string"
                },
                {
                  "name": "campaign",
                  "rawType": "float64",
                  "type": "float"
                },
                {
                  "name": "pdays",
                  "rawType": "float64",
                  "type": "float"
                },
                {
                  "name": "previous",
                  "rawType": "float64",
                  "type": "float"
                },
                {
                  "name": "poutcome",
                  "rawType": "object",
                  "type": "string"
                },
                {
                  "name": "emp_var_rate",
                  "rawType": "float64",
                  "type": "float"
                },
                {
                  "name": "cons_price_idx",
                  "rawType": "float64",
                  "type": "float"
                },
                {
                  "name": "cons_conf_idx",
                  "rawType": "float64",
                  "type": "float"
                },
                {
                  "name": "euribor3m",
                  "rawType": "float64",
                  "type": "float"
                },
                {
                  "name": "nr_employed",
                  "rawType": "float64",
                  "type": "float"
                },
                {
                  "name": "pdays_contacted_status",
                  "rawType": "float64",
                  "type": "float"
                }
              ],
              "conversionMethod": "pd.DataFrame",
              "ref": "d9404c1b-e045-44cc-879d-b75154782d30",
              "rows": [
                [
                  "7234",
                  "25.0",
                  "admin",
                  "married",
                  "unknown",
                  "no",
                  "no",
                  "no",
                  "cellular",
                  "nov",
                  "thu",
                  "1.0",
                  "6.0",
                  "0.0",
                  "nonexistent",
                  "-3.4",
                  "92.649",
                  "-30.1",
                  "0.714",
                  "5017.5",
                  "0.0"
                ],
                [
                  "19855",
                  "55.0",
                  "unemployed",
                  "married",
                  "basic 9y",
                  "no",
                  "yes",
                  "no",
                  "cellular",
                  "oct",
                  "tue",
                  "1.0",
                  "6.0",
                  "0.0",
                  "nonexistent",
                  "-3.4",
                  "92.431",
                  "-26.9",
                  "0.728",
                  "5017.5",
                  "0.0"
                ],
                [
                  "19351",
                  "49.0",
                  "blue-collar",
                  "single",
                  "basic 6y",
                  "no",
                  "yes",
                  "no",
                  "telephone",
                  "may",
                  "wed",
                  "4.0",
                  "6.0",
                  "0.0",
                  "nonexistent",
                  "1.1",
                  "93.994",
                  "-36.4",
                  "4.856",
                  "5191.0",
                  "0.0"
                ],
                [
                  "7106",
                  "30.0",
                  "blue-collar",
                  "married",
                  "basic 9y",
                  "no",
                  "no",
                  "no",
                  "cellular",
                  "nov",
                  "wed",
                  "5.0",
                  "6.0",
                  "0.0",
                  "nonexistent",
                  "-0.1",
                  "93.2",
                  "-42.0",
                  "4.12",
                  "5195.8",
                  "0.0"
                ],
                [
                  "24031",
                  "37.0",
                  "student",
                  "divorced",
                  "university degree",
                  "no",
                  "yes",
                  "yes",
                  "cellular",
                  "may",
                  "thu",
                  "2.0",
                  "6.0",
                  "0.0",
                  "nonexistent",
                  "-1.8",
                  "93.876",
                  "-40.0",
                  "0.699",
                  "5008.7",
                  "0.0"
                ],
                [
                  "6685",
                  "38.0",
                  "admin",
                  "single",
                  "university degree",
                  "no",
                  "yes",
                  "no",
                  "telephone",
                  "jul",
                  "mon",
                  "2.0",
                  "6.0",
                  "0.0",
                  "nonexistent",
                  "-2.9",
                  "92.469",
                  "-33.6",
                  "0.914",
                  "5076.2",
                  "0.0"
                ],
                [
                  "27059",
                  "36.0",
                  "technician",
                  "married",
                  "professional course",
                  "no",
                  "no",
                  "no",
                  "telephone",
                  "may",
                  "tue",
                  "1.0",
                  "6.0",
                  "0.0",
                  "nonexistent",
                  "1.1",
                  "93.994",
                  "-36.4",
                  "4.856",
                  "5191.0",
                  "0.0"
                ],
                [
                  "26261",
                  "29.0",
                  "admin",
                  "single",
                  "high school",
                  "no",
                  "yes",
                  "no",
                  "cellular",
                  "may",
                  "thu",
                  "2.0",
                  "6.0",
                  "0.0",
                  "nonexistent",
                  "-1.8",
                  "92.893",
                  "-46.2",
                  "1.266",
                  "5099.1",
                  "0.0"
                ],
                [
                  "14623",
                  "42.0",
                  "blue-collar",
                  "single",
                  "basic 9y",
                  "no",
                  "no",
                  "no",
                  "telephone",
                  "jun",
                  "mon",
                  "5.0",
                  "6.0",
                  "0.0",
                  "nonexistent",
                  "1.4",
                  "94.465",
                  "-41.8",
                  "4.961",
                  "5228.1",
                  "0.0"
                ],
                [
                  "13723",
                  "60.0",
                  "retired",
                  "married",
                  "high school",
                  "no",
                  "no",
                  "no",
                  "cellular",
                  "aug",
                  "tue",
                  "1.0",
                  "4.0",
                  "1.0",
                  "success",
                  "-2.9",
                  "92.201",
                  "-31.4",
                  "0.883",
                  "5076.2",
                  "1.0"
                ],
                [
                  "30265",
                  "44.0",
                  "blue-collar",
                  "married",
                  "high school",
                  "no",
                  "yes",
                  "no",
                  "cellular",
                  "may",
                  "fri",
                  "2.0",
                  "6.0",
                  "1.0",
                  "failure",
                  "-1.8",
                  "92.893",
                  "-46.2",
                  "1.25",
                  "5099.1",
                  "0.0"
                ],
                [
                  "7414",
                  "54.0",
                  "unemployed",
                  "married",
                  "basic 9y",
                  "no",
                  "yes",
                  "no",
                  "cellular",
                  "oct",
                  "wed",
                  "1.0",
                  "6.0",
                  "0.0",
                  "nonexistent",
                  "-3.4",
                  "92.431",
                  "-26.9",
                  "0.735",
                  "5017.5",
                  "0.0"
                ],
                [
                  "5363",
                  "45.0",
                  "admin",
                  "married",
                  "basic 6y",
                  "unknown",
                  "yes",
                  "no",
                  "telephone",
                  "may",
                  "thu",
                  "1.0",
                  "6.0",
                  "0.0",
                  "nonexistent",
                  "1.1",
                  "93.994",
                  "-36.4",
                  "4.86",
                  "5191.0",
                  "0.0"
                ],
                [
                  "26557",
                  "34.0",
                  "services",
                  "divorced",
                  "high school",
                  "no",
                  "yes",
                  "yes",
                  "cellular",
                  "may",
                  "fri",
                  "2.0",
                  "6.0",
                  "0.0",
                  "nonexistent",
                  "-1.8",
                  "92.893",
                  "-46.2",
                  "1.25",
                  "5099.1",
                  "0.0"
                ],
                [
                  "29475",
                  "31.0",
                  "blue-collar",
                  "married",
                  "basic 9y",
                  "no",
                  "yes",
                  "yes",
                  "cellular",
                  "jul",
                  "wed",
                  "1.0",
                  "6.0",
                  "0.0",
                  "nonexistent",
                  "1.4",
                  "93.918",
                  "-42.7",
                  "4.957",
                  "5228.1",
                  "0.0"
                ],
                [
                  "21357",
                  "32.0",
                  "admin",
                  "single",
                  "university degree",
                  "no",
                  "yes",
                  "no",
                  "cellular",
                  "oct",
                  "fri",
                  "1.0",
                  "6.0",
                  "3.0",
                  "failure",
                  "-1.1",
                  "94.601",
                  "-49.5",
                  "0.942",
                  "4963.6",
                  "0.0"
                ],
                [
                  "13512",
                  "31.0",
                  "admin",
                  "single",
                  "university degree",
                  "no",
                  "yes",
                  "no",
                  "cellular",
                  "aug",
                  "tue",
                  "1.0",
                  "6.0",
                  "0.0",
                  "nonexistent",
                  "1.4",
                  "93.444",
                  "-36.1",
                  "4.966",
                  "5228.1",
                  "0.0"
                ],
                [
                  "12788",
                  "46.0",
                  "admin",
                  "married",
                  "high school",
                  "no",
                  "yes",
                  "no",
                  "telephone",
                  "jun",
                  "fri",
                  "3.0",
                  "6.0",
                  "0.0",
                  "nonexistent",
                  "1.4",
                  "94.465",
                  "-41.8",
                  "4.959",
                  "5228.1",
                  "0.0"
                ],
                [
                  "10540",
                  "32.0",
                  "admin",
                  "married",
                  "high school",
                  "no",
                  "yes",
                  "no",
                  "cellular",
                  "may",
                  "mon",
                  "2.0",
                  "6.0",
                  "0.0",
                  "nonexistent",
                  "-1.8",
                  "92.893",
                  "-46.2",
                  "1.244",
                  "5099.1",
                  "0.0"
                ],
                [
                  "22259",
                  "27.0",
                  "blue-collar",
                  "married",
                  "basic 4y",
                  "unknown",
                  "no",
                  "no",
                  "telephone",
                  "may",
                  "thu",
                  "7.0",
                  "6.0",
                  "0.0",
                  "nonexistent",
                  "1.1",
                  "93.994",
                  "-36.4",
                  "4.86",
                  "5191.0",
                  "0.0"
                ],
                [
                  "7192",
                  "47.0",
                  "blue-collar",
                  "married",
                  "basic 4y",
                  "no",
                  "unknown",
                  "unknown",
                  "telephone",
                  "may",
                  "mon",
                  "8.0",
                  "6.0",
                  "0.0",
                  "nonexistent",
                  "1.1",
                  "93.994",
                  "-36.4",
                  "4.857",
                  "5191.0",
                  "0.0"
                ],
                [
                  "19618",
                  "64.0",
                  "technician",
                  "married",
                  "professional course",
                  "no",
                  "yes",
                  "no",
                  "cellular",
                  "apr",
                  "wed",
                  "1.0",
                  "6.0",
                  "0.0",
                  "nonexistent",
                  "-1.8",
                  "93.075",
                  "-47.1",
                  "1.445",
                  "5099.1",
                  "0.0"
                ],
                [
                  "17434",
                  "51.0",
                  "blue-collar",
                  "married",
                  "unknown",
                  "unknown",
                  "yes",
                  "no",
                  "telephone",
                  "may",
                  "mon",
                  "1.0",
                  "6.0",
                  "0.0",
                  "nonexistent",
                  "1.1",
                  "93.994",
                  "-36.4",
                  "4.857",
                  "5191.0",
                  "0.0"
                ],
                [
                  "7961",
                  "38.0",
                  "self-employed",
                  "married",
                  "basic 9y",
                  "no",
                  "yes",
                  "no",
                  "telephone",
                  "may",
                  "fri",
                  "5.0",
                  "6.0",
                  "0.0",
                  "nonexistent",
                  "1.1",
                  "93.994",
                  "-36.4",
                  "4.864",
                  "5191.0",
                  "0.0"
                ],
                [
                  "25041",
                  "23.0",
                  "blue-collar",
                  "single",
                  "basic 4y",
                  "no",
                  "yes",
                  "no",
                  "cellular",
                  "may",
                  "fri",
                  "2.0",
                  "6.0",
                  "0.0",
                  "nonexistent",
                  "-1.8",
                  "92.893",
                  "-46.2",
                  "1.25",
                  "5099.1",
                  "0.0"
                ],
                [
                  "14664",
                  "29.0",
                  "admin",
                  "single",
                  "university degree",
                  "no",
                  "yes",
                  "yes",
                  "cellular",
                  "aug",
                  "wed",
                  "1.0",
                  "6.0",
                  "0.0",
                  "nonexistent",
                  "1.4",
                  "93.444",
                  "-36.1",
                  "4.964",
                  "5228.1",
                  "0.0"
                ],
                [
                  "29911",
                  "52.0",
                  "services",
                  "married",
                  "high school",
                  "no",
                  "yes",
                  "no",
                  "telephone",
                  "may",
                  "tue",
                  "4.0",
                  "6.0",
                  "0.0",
                  "nonexistent",
                  "-1.8",
                  "92.893",
                  "-46.2",
                  "1.266",
                  "5099.1",
                  "0.0"
                ],
                [
                  "14518",
                  "42.0",
                  "blue-collar",
                  "married",
                  "basic 6y",
                  "no",
                  "no",
                  "no",
                  "telephone",
                  "may",
                  "mon",
                  "3.0",
                  "6.0",
                  "0.0",
                  "nonexistent",
                  "1.1",
                  "93.994",
                  "-36.4",
                  "4.857",
                  "5191.0",
                  "0.0"
                ],
                [
                  "31145",
                  "34.0",
                  "unemployed",
                  "single",
                  "university degree",
                  "no",
                  "no",
                  "no",
                  "cellular",
                  "jun",
                  "tue",
                  "1.0",
                  "6.0",
                  "0.0",
                  "nonexistent",
                  "-1.7",
                  "94.055",
                  "-39.8",
                  "0.761",
                  "4991.6",
                  "0.0"
                ],
                [
                  "4972",
                  "43.0",
                  "admin",
                  "single",
                  "university degree",
                  "no",
                  "yes",
                  "no",
                  "cellular",
                  "aug",
                  "tue",
                  "2.0",
                  "6.0",
                  "0.0",
                  "nonexistent",
                  "1.4",
                  "93.444",
                  "-36.1",
                  "4.968",
                  "5228.1",
                  "0.0"
                ],
                [
                  "27083",
                  "51.0",
                  "services",
                  "divorced",
                  "high school",
                  "no",
                  "no",
                  "no",
                  "telephone",
                  "nov",
                  "tue",
                  "1.0",
                  "6.0",
                  "0.0",
                  "nonexistent",
                  "-0.1",
                  "93.2",
                  "-42.0",
                  "4.153",
                  "5195.8",
                  "0.0"
                ],
                [
                  "9439",
                  "40.0",
                  "services",
                  "married",
                  "professional course",
                  "no",
                  "yes",
                  "no",
                  "cellular",
                  "oct",
                  "thu",
                  "1.0",
                  "3.0",
                  "1.0",
                  "success",
                  "-3.4",
                  "92.431",
                  "-26.9",
                  "0.74",
                  "5017.5",
                  "1.0"
                ],
                [
                  "27410",
                  "35.0",
                  "technician",
                  "single",
                  "professional course",
                  "no",
                  "yes",
                  "no",
                  "cellular",
                  "may",
                  "mon",
                  "4.0",
                  "6.0",
                  "0.0",
                  "nonexistent",
                  "-1.8",
                  "92.893",
                  "-46.2",
                  "1.244",
                  "5099.1",
                  "0.0"
                ],
                [
                  "27659",
                  "29.0",
                  "unemployed",
                  "single",
                  "university degree",
                  "no",
                  "no",
                  "no",
                  "telephone",
                  "may",
                  "thu",
                  "1.0",
                  "6.0",
                  "0.0",
                  "nonexistent",
                  "1.1",
                  "93.994",
                  "-36.4",
                  "4.86",
                  "5191.0",
                  "0.0"
                ],
                [
                  "21205",
                  "25.0",
                  "admin",
                  "married",
                  "high school",
                  "no",
                  "no",
                  "yes",
                  "cellular",
                  "jul",
                  "mon",
                  "1.0",
                  "6.0",
                  "0.0",
                  "nonexistent",
                  "1.4",
                  "93.918",
                  "-42.7",
                  "4.96",
                  "5228.1",
                  "0.0"
                ],
                [
                  "2565",
                  "53.0",
                  "technician",
                  "married",
                  "professional course",
                  "unknown",
                  "yes",
                  "no",
                  "telephone",
                  "may",
                  "tue",
                  "1.0",
                  "6.0",
                  "0.0",
                  "nonexistent",
                  "1.1",
                  "93.994",
                  "-36.4",
                  "4.856",
                  "5191.0",
                  "0.0"
                ],
                [
                  "27341",
                  "54.0",
                  "housemaid",
                  "divorced",
                  "basic 4y",
                  "unknown",
                  "yes",
                  "no",
                  "telephone",
                  "jun",
                  "fri",
                  "3.0",
                  "6.0",
                  "0.0",
                  "nonexistent",
                  "1.4",
                  "94.465",
                  "-41.8",
                  "4.959",
                  "5228.1",
                  "0.0"
                ],
                [
                  "20762",
                  "36.0",
                  "admin",
                  "single",
                  "university degree",
                  "no",
                  "yes",
                  "yes",
                  "telephone",
                  "jun",
                  "tue",
                  "3.0",
                  "6.0",
                  "0.0",
                  "nonexistent",
                  "1.4",
                  "94.465",
                  "-41.8",
                  "4.864",
                  "5228.1",
                  "0.0"
                ],
                [
                  "27587",
                  "34.0",
                  "admin",
                  "married",
                  "university degree",
                  "no",
                  "yes",
                  "no",
                  "telephone",
                  "aug",
                  "thu",
                  "1.0",
                  "6.0",
                  "0.0",
                  "nonexistent",
                  "1.4",
                  "93.444",
                  "-36.1",
                  "4.964",
                  "5228.1",
                  "0.0"
                ],
                [
                  "6682",
                  "34.0",
                  "services",
                  "married",
                  "basic 4y",
                  "no",
                  "yes",
                  "no",
                  "cellular",
                  "nov",
                  "thu",
                  "1.0",
                  "6.0",
                  "0.0",
                  "nonexistent",
                  "-0.1",
                  "93.2",
                  "-42.0",
                  "4.076",
                  "5195.8",
                  "0.0"
                ],
                [
                  "20029",
                  "76.0",
                  "retired",
                  "married",
                  "basic 4y",
                  "no",
                  "yes",
                  "no",
                  "cellular",
                  "aug",
                  "thu",
                  "1.0",
                  "6.0",
                  "0.0",
                  "nonexistent",
                  "-2.9",
                  "92.201",
                  "-31.4",
                  "0.883",
                  "5076.2",
                  "0.0"
                ],
                [
                  "8075",
                  "33.0",
                  "technician",
                  "married",
                  "university degree",
                  "no",
                  "yes",
                  "no",
                  "telephone",
                  "sep",
                  "wed",
                  "1.0",
                  "6.0",
                  "1.0",
                  "failure",
                  "-1.1",
                  "94.199",
                  "-37.5",
                  "0.876",
                  "4963.6",
                  "0.0"
                ],
                [
                  "16239",
                  "59.0",
                  "management",
                  "married",
                  "university degree",
                  "no",
                  "no",
                  "no",
                  "cellular",
                  "dec",
                  "thu",
                  "4.0",
                  "6.0",
                  "1.0",
                  "failure",
                  "-3.0",
                  "92.713",
                  "-33.0",
                  "0.7",
                  "5023.5",
                  "0.0"
                ],
                [
                  "21679",
                  "38.0",
                  "blue-collar",
                  "married",
                  "high school",
                  "no",
                  "no",
                  "no",
                  "telephone",
                  "jun",
                  "thu",
                  "2.0",
                  "6.0",
                  "0.0",
                  "nonexistent",
                  "1.4",
                  "94.465",
                  "-41.8",
                  "4.866",
                  "5228.1",
                  "0.0"
                ],
                [
                  "18038",
                  "33.0",
                  "admin",
                  "married",
                  "university degree",
                  "no",
                  "yes",
                  "no",
                  "telephone",
                  "jun",
                  "wed",
                  "1.0",
                  "6.0",
                  "0.0",
                  "nonexistent",
                  "1.4",
                  "94.465",
                  "-41.8",
                  "4.864",
                  "5228.1",
                  "0.0"
                ],
                [
                  "17464",
                  "37.0",
                  "technician",
                  "single",
                  "high school",
                  "no",
                  "yes",
                  "no",
                  "cellular",
                  "aug",
                  "wed",
                  "1.0",
                  "6.0",
                  "0.0",
                  "nonexistent",
                  "1.4",
                  "93.444",
                  "-36.1",
                  "4.967",
                  "5228.1",
                  "0.0"
                ],
                [
                  "15457",
                  "36.0",
                  "entrepreneur",
                  "single",
                  "university degree",
                  "no",
                  "yes",
                  "no",
                  "cellular",
                  "nov",
                  "wed",
                  "1.0",
                  "6.0",
                  "0.0",
                  "nonexistent",
                  "-0.1",
                  "93.2",
                  "-42.0",
                  "4.12",
                  "5195.8",
                  "0.0"
                ],
                [
                  "17017",
                  "37.0",
                  "blue-collar",
                  "married",
                  "basic 6y",
                  "unknown",
                  "no",
                  "yes",
                  "telephone",
                  "may",
                  "fri",
                  "5.0",
                  "6.0",
                  "0.0",
                  "nonexistent",
                  "1.1",
                  "93.994",
                  "-36.4",
                  "4.857",
                  "5191.0",
                  "0.0"
                ],
                [
                  "21230",
                  "32.0",
                  "services",
                  "married",
                  "high school",
                  "no",
                  "yes",
                  "yes",
                  "cellular",
                  "apr",
                  "mon",
                  "6.0",
                  "6.0",
                  "1.0",
                  "failure",
                  "-1.8",
                  "93.075",
                  "-47.1",
                  "1.405",
                  "5099.1",
                  "0.0"
                ],
                [
                  "27134",
                  "39.0",
                  "technician",
                  "married",
                  "professional course",
                  "no",
                  "no",
                  "no",
                  "cellular",
                  "may",
                  "thu",
                  "8.0",
                  "6.0",
                  "0.0",
                  "nonexistent",
                  "-1.8",
                  "92.893",
                  "-46.2",
                  "1.327",
                  "5099.1",
                  "0.0"
                ]
              ],
              "shape": {
                "columns": 20,
                "rows": 20069
              }
            },
            "text/html": [
              "<div>\n",
              "<style scoped>\n",
              "    .dataframe tbody tr th:only-of-type {\n",
              "        vertical-align: middle;\n",
              "    }\n",
              "\n",
              "    .dataframe tbody tr th {\n",
              "        vertical-align: top;\n",
              "    }\n",
              "\n",
              "    .dataframe thead th {\n",
              "        text-align: right;\n",
              "    }\n",
              "</style>\n",
              "<table border=\"1\" class=\"dataframe\">\n",
              "  <thead>\n",
              "    <tr style=\"text-align: right;\">\n",
              "      <th></th>\n",
              "      <th>age</th>\n",
              "      <th>job</th>\n",
              "      <th>marital</th>\n",
              "      <th>education</th>\n",
              "      <th>default</th>\n",
              "      <th>housing</th>\n",
              "      <th>loan</th>\n",
              "      <th>contact</th>\n",
              "      <th>month</th>\n",
              "      <th>day_of_week</th>\n",
              "      <th>campaign</th>\n",
              "      <th>pdays</th>\n",
              "      <th>previous</th>\n",
              "      <th>poutcome</th>\n",
              "      <th>emp_var_rate</th>\n",
              "      <th>cons_price_idx</th>\n",
              "      <th>cons_conf_idx</th>\n",
              "      <th>euribor3m</th>\n",
              "      <th>nr_employed</th>\n",
              "      <th>pdays_contacted_status</th>\n",
              "    </tr>\n",
              "  </thead>\n",
              "  <tbody>\n",
              "    <tr>\n",
              "      <th>7234</th>\n",
              "      <td>25.0</td>\n",
              "      <td>admin</td>\n",
              "      <td>married</td>\n",
              "      <td>unknown</td>\n",
              "      <td>no</td>\n",
              "      <td>no</td>\n",
              "      <td>no</td>\n",
              "      <td>cellular</td>\n",
              "      <td>nov</td>\n",
              "      <td>thu</td>\n",
              "      <td>1.0</td>\n",
              "      <td>6.0</td>\n",
              "      <td>0.0</td>\n",
              "      <td>nonexistent</td>\n",
              "      <td>-3.4</td>\n",
              "      <td>92.649</td>\n",
              "      <td>-30.1</td>\n",
              "      <td>0.714</td>\n",
              "      <td>5017.5</td>\n",
              "      <td>0.0</td>\n",
              "    </tr>\n",
              "    <tr>\n",
              "      <th>19855</th>\n",
              "      <td>55.0</td>\n",
              "      <td>unemployed</td>\n",
              "      <td>married</td>\n",
              "      <td>basic 9y</td>\n",
              "      <td>no</td>\n",
              "      <td>yes</td>\n",
              "      <td>no</td>\n",
              "      <td>cellular</td>\n",
              "      <td>oct</td>\n",
              "      <td>tue</td>\n",
              "      <td>1.0</td>\n",
              "      <td>6.0</td>\n",
              "      <td>0.0</td>\n",
              "      <td>nonexistent</td>\n",
              "      <td>-3.4</td>\n",
              "      <td>92.431</td>\n",
              "      <td>-26.9</td>\n",
              "      <td>0.728</td>\n",
              "      <td>5017.5</td>\n",
              "      <td>0.0</td>\n",
              "    </tr>\n",
              "    <tr>\n",
              "      <th>19351</th>\n",
              "      <td>49.0</td>\n",
              "      <td>blue-collar</td>\n",
              "      <td>single</td>\n",
              "      <td>basic 6y</td>\n",
              "      <td>no</td>\n",
              "      <td>yes</td>\n",
              "      <td>no</td>\n",
              "      <td>telephone</td>\n",
              "      <td>may</td>\n",
              "      <td>wed</td>\n",
              "      <td>4.0</td>\n",
              "      <td>6.0</td>\n",
              "      <td>0.0</td>\n",
              "      <td>nonexistent</td>\n",
              "      <td>1.1</td>\n",
              "      <td>93.994</td>\n",
              "      <td>-36.4</td>\n",
              "      <td>4.856</td>\n",
              "      <td>5191.0</td>\n",
              "      <td>0.0</td>\n",
              "    </tr>\n",
              "    <tr>\n",
              "      <th>7106</th>\n",
              "      <td>30.0</td>\n",
              "      <td>blue-collar</td>\n",
              "      <td>married</td>\n",
              "      <td>basic 9y</td>\n",
              "      <td>no</td>\n",
              "      <td>no</td>\n",
              "      <td>no</td>\n",
              "      <td>cellular</td>\n",
              "      <td>nov</td>\n",
              "      <td>wed</td>\n",
              "      <td>5.0</td>\n",
              "      <td>6.0</td>\n",
              "      <td>0.0</td>\n",
              "      <td>nonexistent</td>\n",
              "      <td>-0.1</td>\n",
              "      <td>93.200</td>\n",
              "      <td>-42.0</td>\n",
              "      <td>4.120</td>\n",
              "      <td>5195.8</td>\n",
              "      <td>0.0</td>\n",
              "    </tr>\n",
              "    <tr>\n",
              "      <th>24031</th>\n",
              "      <td>37.0</td>\n",
              "      <td>student</td>\n",
              "      <td>divorced</td>\n",
              "      <td>university degree</td>\n",
              "      <td>no</td>\n",
              "      <td>yes</td>\n",
              "      <td>yes</td>\n",
              "      <td>cellular</td>\n",
              "      <td>may</td>\n",
              "      <td>thu</td>\n",
              "      <td>2.0</td>\n",
              "      <td>6.0</td>\n",
              "      <td>0.0</td>\n",
              "      <td>nonexistent</td>\n",
              "      <td>-1.8</td>\n",
              "      <td>93.876</td>\n",
              "      <td>-40.0</td>\n",
              "      <td>0.699</td>\n",
              "      <td>5008.7</td>\n",
              "      <td>0.0</td>\n",
              "    </tr>\n",
              "    <tr>\n",
              "      <th>...</th>\n",
              "      <td>...</td>\n",
              "      <td>...</td>\n",
              "      <td>...</td>\n",
              "      <td>...</td>\n",
              "      <td>...</td>\n",
              "      <td>...</td>\n",
              "      <td>...</td>\n",
              "      <td>...</td>\n",
              "      <td>...</td>\n",
              "      <td>...</td>\n",
              "      <td>...</td>\n",
              "      <td>...</td>\n",
              "      <td>...</td>\n",
              "      <td>...</td>\n",
              "      <td>...</td>\n",
              "      <td>...</td>\n",
              "      <td>...</td>\n",
              "      <td>...</td>\n",
              "      <td>...</td>\n",
              "      <td>...</td>\n",
              "    </tr>\n",
              "    <tr>\n",
              "      <th>17441</th>\n",
              "      <td>49.0</td>\n",
              "      <td>technician</td>\n",
              "      <td>married</td>\n",
              "      <td>professional course</td>\n",
              "      <td>unknown</td>\n",
              "      <td>yes</td>\n",
              "      <td>no</td>\n",
              "      <td>telephone</td>\n",
              "      <td>jun</td>\n",
              "      <td>wed</td>\n",
              "      <td>13.0</td>\n",
              "      <td>6.0</td>\n",
              "      <td>0.0</td>\n",
              "      <td>nonexistent</td>\n",
              "      <td>1.4</td>\n",
              "      <td>94.465</td>\n",
              "      <td>-41.8</td>\n",
              "      <td>4.962</td>\n",
              "      <td>5228.1</td>\n",
              "      <td>0.0</td>\n",
              "    </tr>\n",
              "    <tr>\n",
              "      <th>9591</th>\n",
              "      <td>47.0</td>\n",
              "      <td>blue-collar</td>\n",
              "      <td>married</td>\n",
              "      <td>basic 4y</td>\n",
              "      <td>unknown</td>\n",
              "      <td>unknown</td>\n",
              "      <td>unknown</td>\n",
              "      <td>telephone</td>\n",
              "      <td>may</td>\n",
              "      <td>tue</td>\n",
              "      <td>2.0</td>\n",
              "      <td>6.0</td>\n",
              "      <td>0.0</td>\n",
              "      <td>nonexistent</td>\n",
              "      <td>1.1</td>\n",
              "      <td>93.994</td>\n",
              "      <td>-36.4</td>\n",
              "      <td>4.857</td>\n",
              "      <td>5191.0</td>\n",
              "      <td>0.0</td>\n",
              "    </tr>\n",
              "    <tr>\n",
              "      <th>20180</th>\n",
              "      <td>46.0</td>\n",
              "      <td>admin</td>\n",
              "      <td>single</td>\n",
              "      <td>university degree</td>\n",
              "      <td>no</td>\n",
              "      <td>yes</td>\n",
              "      <td>no</td>\n",
              "      <td>cellular</td>\n",
              "      <td>jul</td>\n",
              "      <td>thu</td>\n",
              "      <td>1.0</td>\n",
              "      <td>6.0</td>\n",
              "      <td>0.0</td>\n",
              "      <td>nonexistent</td>\n",
              "      <td>-2.9</td>\n",
              "      <td>92.469</td>\n",
              "      <td>-33.6</td>\n",
              "      <td>1.072</td>\n",
              "      <td>5076.2</td>\n",
              "      <td>0.0</td>\n",
              "    </tr>\n",
              "    <tr>\n",
              "      <th>17132</th>\n",
              "      <td>35.0</td>\n",
              "      <td>unemployed</td>\n",
              "      <td>married</td>\n",
              "      <td>university degree</td>\n",
              "      <td>no</td>\n",
              "      <td>no</td>\n",
              "      <td>no</td>\n",
              "      <td>telephone</td>\n",
              "      <td>jun</td>\n",
              "      <td>fri</td>\n",
              "      <td>2.0</td>\n",
              "      <td>6.0</td>\n",
              "      <td>0.0</td>\n",
              "      <td>nonexistent</td>\n",
              "      <td>1.4</td>\n",
              "      <td>94.465</td>\n",
              "      <td>-41.8</td>\n",
              "      <td>4.967</td>\n",
              "      <td>5228.1</td>\n",
              "      <td>0.0</td>\n",
              "    </tr>\n",
              "    <tr>\n",
              "      <th>29885</th>\n",
              "      <td>49.0</td>\n",
              "      <td>blue-collar</td>\n",
              "      <td>married</td>\n",
              "      <td>basic 9y</td>\n",
              "      <td>unknown</td>\n",
              "      <td>no</td>\n",
              "      <td>no</td>\n",
              "      <td>cellular</td>\n",
              "      <td>aug</td>\n",
              "      <td>mon</td>\n",
              "      <td>5.0</td>\n",
              "      <td>6.0</td>\n",
              "      <td>0.0</td>\n",
              "      <td>nonexistent</td>\n",
              "      <td>1.4</td>\n",
              "      <td>93.444</td>\n",
              "      <td>-36.1</td>\n",
              "      <td>4.963</td>\n",
              "      <td>5228.1</td>\n",
              "      <td>0.0</td>\n",
              "    </tr>\n",
              "  </tbody>\n",
              "</table>\n",
              "<p>20069 rows × 20 columns</p>\n",
              "</div>"
            ],
            "text/plain": [
              "        age          job   marital            education  default  housing  \\\n",
              "7234   25.0        admin   married              unknown       no       no   \n",
              "19855  55.0   unemployed   married             basic 9y       no      yes   \n",
              "19351  49.0  blue-collar    single             basic 6y       no      yes   \n",
              "7106   30.0  blue-collar   married             basic 9y       no       no   \n",
              "24031  37.0      student  divorced    university degree       no      yes   \n",
              "...     ...          ...       ...                  ...      ...      ...   \n",
              "17441  49.0   technician   married  professional course  unknown      yes   \n",
              "9591   47.0  blue-collar   married             basic 4y  unknown  unknown   \n",
              "20180  46.0        admin    single    university degree       no      yes   \n",
              "17132  35.0   unemployed   married    university degree       no       no   \n",
              "29885  49.0  blue-collar   married             basic 9y  unknown       no   \n",
              "\n",
              "          loan    contact month day_of_week  campaign  pdays  previous  \\\n",
              "7234        no   cellular   nov         thu       1.0    6.0       0.0   \n",
              "19855       no   cellular   oct         tue       1.0    6.0       0.0   \n",
              "19351       no  telephone   may         wed       4.0    6.0       0.0   \n",
              "7106        no   cellular   nov         wed       5.0    6.0       0.0   \n",
              "24031      yes   cellular   may         thu       2.0    6.0       0.0   \n",
              "...        ...        ...   ...         ...       ...    ...       ...   \n",
              "17441       no  telephone   jun         wed      13.0    6.0       0.0   \n",
              "9591   unknown  telephone   may         tue       2.0    6.0       0.0   \n",
              "20180       no   cellular   jul         thu       1.0    6.0       0.0   \n",
              "17132       no  telephone   jun         fri       2.0    6.0       0.0   \n",
              "29885       no   cellular   aug         mon       5.0    6.0       0.0   \n",
              "\n",
              "          poutcome  emp_var_rate  cons_price_idx  cons_conf_idx  euribor3m  \\\n",
              "7234   nonexistent          -3.4          92.649          -30.1      0.714   \n",
              "19855  nonexistent          -3.4          92.431          -26.9      0.728   \n",
              "19351  nonexistent           1.1          93.994          -36.4      4.856   \n",
              "7106   nonexistent          -0.1          93.200          -42.0      4.120   \n",
              "24031  nonexistent          -1.8          93.876          -40.0      0.699   \n",
              "...            ...           ...             ...            ...        ...   \n",
              "17441  nonexistent           1.4          94.465          -41.8      4.962   \n",
              "9591   nonexistent           1.1          93.994          -36.4      4.857   \n",
              "20180  nonexistent          -2.9          92.469          -33.6      1.072   \n",
              "17132  nonexistent           1.4          94.465          -41.8      4.967   \n",
              "29885  nonexistent           1.4          93.444          -36.1      4.963   \n",
              "\n",
              "       nr_employed  pdays_contacted_status  \n",
              "7234        5017.5                     0.0  \n",
              "19855       5017.5                     0.0  \n",
              "19351       5191.0                     0.0  \n",
              "7106        5195.8                     0.0  \n",
              "24031       5008.7                     0.0  \n",
              "...            ...                     ...  \n",
              "17441       5228.1                     0.0  \n",
              "9591        5191.0                     0.0  \n",
              "20180       5076.2                     0.0  \n",
              "17132       5228.1                     0.0  \n",
              "29885       5228.1                     0.0  \n",
              "\n",
              "[20069 rows x 20 columns]"
            ]
          },
          "execution_count": 346,
          "metadata": {},
          "output_type": "execute_result"
        }
      ],
      "source": [
        "x_train"
      ]
    },
    {
      "cell_type": "markdown",
      "metadata": {
        "id": "EEKvM3qL_3Hb"
      },
      "source": [
        "### 1.4.2 Encoding Target Variable"
      ]
    },
    {
      "cell_type": "code",
      "execution_count": 347,
      "metadata": {
        "colab": {
          "base_uri": "https://localhost:8080/"
        },
        "id": "coxDBYZ5Dv4_",
        "outputId": "08b91749-4616-4189-87ba-9319065b317f"
      },
      "outputs": [
        {
          "data": {
            "text/plain": [
              "7234     yes\n",
              "19855     no\n",
              "19351     no\n",
              "7106      no\n",
              "24031    yes\n",
              "6685      no\n",
              "27059     no\n",
              "26261    yes\n",
              "14623     no\n",
              "13723     no\n",
              "Name: y, dtype: object"
            ]
          },
          "execution_count": 347,
          "metadata": {},
          "output_type": "execute_result"
        }
      ],
      "source": [
        "y_train.head(10)"
      ]
    },
    {
      "cell_type": "code",
      "execution_count": 348,
      "metadata": {
        "colab": {
          "base_uri": "https://localhost:8080/"
        },
        "id": "hGToiv4198vq",
        "outputId": "3392f959-6ea6-414a-95f5-270771c1a38e"
      },
      "outputs": [
        {
          "name": "stderr",
          "output_type": "stream",
          "text": [
            "08-05-2025 21:28:36 Encoding Target Variable\n",
            "08-05-2025 21:28:36 Classes [0, 1]: ['no' 'yes']\n"
          ]
        }
      ],
      "source": [
        "logger.info(\"Encoding Target Variable\")\n",
        "# define a categorical encoding for target variable\n",
        "le = LabelEncoder()\n",
        "\n",
        "# fit and transform y_train\n",
        "y_train = le.fit_transform(y_train)\n",
        "\n",
        "# transform y_test (avoiding data leakage)\n",
        "y_val = le.transform(y_val)\n",
        "\n",
        "logger.info(\"Classes [0, 1]: {}\".format(le.inverse_transform([0, 1])))"
      ]
    },
    {
      "cell_type": "code",
      "execution_count": 349,
      "metadata": {
        "colab": {
          "base_uri": "https://localhost:8080/"
        },
        "id": "KjZA7Fa2ENJH",
        "outputId": "7ea671a2-48fe-4229-97cf-64dcb61eabd2"
      },
      "outputs": [
        {
          "data": {
            "text/plain": [
              "array([1, 0, 0, ..., 1, 0, 0])"
            ]
          },
          "execution_count": 349,
          "metadata": {},
          "output_type": "execute_result"
        }
      ],
      "source": [
        "y_train"
      ]
    },
    {
      "cell_type": "code",
      "execution_count": 350,
      "metadata": {
        "colab": {
          "base_uri": "https://localhost:8080/"
        },
        "id": "vHSpkzzdEYpC",
        "outputId": "9e512a34-ac32-43de-e6b6-1a5338a107e5"
      },
      "outputs": [
        {
          "data": {
            "text/plain": [
              "array([0, 0, 0, ..., 0, 0, 0])"
            ]
          },
          "execution_count": 350,
          "metadata": {},
          "output_type": "execute_result"
        }
      ],
      "source": [
        "y_val"
      ]
    },
    {
      "cell_type": "markdown",
      "metadata": {
        "id": "7qcpCDX0gce4"
      },
      "source": [
        "### 1.4.3 Using a full-pipeline"
      ]
    },
    {
      "cell_type": "markdown",
      "metadata": {
        "id": "rNRBHjI-ZscT"
      },
      "source": [
        "```\n",
        "A reproducible pipeline is all you need\n",
        "```"
      ]
    },
    {
      "cell_type": "markdown",
      "metadata": {
        "id": "gF_ZLoVjjPUg"
      },
      "source": [
        "#### 1.4.3.1 Feature Extractor"
      ]
    },
    {
      "cell_type": "code",
      "execution_count": 351,
      "metadata": {
        "id": "0yn1GUbCdFmj"
      },
      "outputs": [],
      "source": [
        "class FeatureSelector(BaseEstimator, TransformerMixin):\n",
        "    # Class Constructor\n",
        "    def __init__(self, feature_names):\n",
        "        self.feature_names = feature_names\n",
        "\n",
        "    # Return self nothing else to do here\n",
        "    def fit(self, X, y=None):\n",
        "        return self\n",
        "\n",
        "    # Method that describes what this custom transformer need to do\n",
        "    def transform(self, X, y=None):\n",
        "        return X[self.feature_names]"
      ]
    },
    {
      "cell_type": "code",
      "execution_count": 352,
      "metadata": {
        "colab": {
          "base_uri": "https://localhost:8080/"
        },
        "id": "DEa9qLnVirdY",
        "outputId": "f90312d1-ffc8-4935-f16b-1d82def14abf"
      },
      "outputs": [
        {
          "data": {
            "application/vnd.microsoft.datawrangler.viewer.v0+json": {
              "columns": [
                {
                  "name": "index",
                  "rawType": "int64",
                  "type": "integer"
                },
                {
                  "name": "job",
                  "rawType": "object",
                  "type": "string"
                },
                {
                  "name": "marital",
                  "rawType": "object",
                  "type": "string"
                },
                {
                  "name": "education",
                  "rawType": "object",
                  "type": "string"
                },
                {
                  "name": "default",
                  "rawType": "object",
                  "type": "string"
                },
                {
                  "name": "housing",
                  "rawType": "object",
                  "type": "string"
                },
                {
                  "name": "loan",
                  "rawType": "object",
                  "type": "string"
                },
                {
                  "name": "contact",
                  "rawType": "object",
                  "type": "string"
                },
                {
                  "name": "month",
                  "rawType": "object",
                  "type": "string"
                },
                {
                  "name": "day_of_week",
                  "rawType": "object",
                  "type": "string"
                },
                {
                  "name": "poutcome",
                  "rawType": "object",
                  "type": "string"
                }
              ],
              "conversionMethod": "pd.DataFrame",
              "ref": "255ab79f-2772-43b1-811f-f8f0ef38ac83",
              "rows": [
                [
                  "7234",
                  "admin",
                  "married",
                  "unknown",
                  "no",
                  "no",
                  "no",
                  "cellular",
                  "nov",
                  "thu",
                  "nonexistent"
                ],
                [
                  "19855",
                  "unemployed",
                  "married",
                  "basic 9y",
                  "no",
                  "yes",
                  "no",
                  "cellular",
                  "oct",
                  "tue",
                  "nonexistent"
                ],
                [
                  "19351",
                  "blue-collar",
                  "single",
                  "basic 6y",
                  "no",
                  "yes",
                  "no",
                  "telephone",
                  "may",
                  "wed",
                  "nonexistent"
                ],
                [
                  "7106",
                  "blue-collar",
                  "married",
                  "basic 9y",
                  "no",
                  "no",
                  "no",
                  "cellular",
                  "nov",
                  "wed",
                  "nonexistent"
                ],
                [
                  "24031",
                  "student",
                  "divorced",
                  "university degree",
                  "no",
                  "yes",
                  "yes",
                  "cellular",
                  "may",
                  "thu",
                  "nonexistent"
                ]
              ],
              "shape": {
                "columns": 10,
                "rows": 5
              }
            },
            "text/html": [
              "<div>\n",
              "<style scoped>\n",
              "    .dataframe tbody tr th:only-of-type {\n",
              "        vertical-align: middle;\n",
              "    }\n",
              "\n",
              "    .dataframe tbody tr th {\n",
              "        vertical-align: top;\n",
              "    }\n",
              "\n",
              "    .dataframe thead th {\n",
              "        text-align: right;\n",
              "    }\n",
              "</style>\n",
              "<table border=\"1\" class=\"dataframe\">\n",
              "  <thead>\n",
              "    <tr style=\"text-align: right;\">\n",
              "      <th></th>\n",
              "      <th>job</th>\n",
              "      <th>marital</th>\n",
              "      <th>education</th>\n",
              "      <th>default</th>\n",
              "      <th>housing</th>\n",
              "      <th>loan</th>\n",
              "      <th>contact</th>\n",
              "      <th>month</th>\n",
              "      <th>day_of_week</th>\n",
              "      <th>poutcome</th>\n",
              "    </tr>\n",
              "  </thead>\n",
              "  <tbody>\n",
              "    <tr>\n",
              "      <th>7234</th>\n",
              "      <td>admin</td>\n",
              "      <td>married</td>\n",
              "      <td>unknown</td>\n",
              "      <td>no</td>\n",
              "      <td>no</td>\n",
              "      <td>no</td>\n",
              "      <td>cellular</td>\n",
              "      <td>nov</td>\n",
              "      <td>thu</td>\n",
              "      <td>nonexistent</td>\n",
              "    </tr>\n",
              "    <tr>\n",
              "      <th>19855</th>\n",
              "      <td>unemployed</td>\n",
              "      <td>married</td>\n",
              "      <td>basic 9y</td>\n",
              "      <td>no</td>\n",
              "      <td>yes</td>\n",
              "      <td>no</td>\n",
              "      <td>cellular</td>\n",
              "      <td>oct</td>\n",
              "      <td>tue</td>\n",
              "      <td>nonexistent</td>\n",
              "    </tr>\n",
              "    <tr>\n",
              "      <th>19351</th>\n",
              "      <td>blue-collar</td>\n",
              "      <td>single</td>\n",
              "      <td>basic 6y</td>\n",
              "      <td>no</td>\n",
              "      <td>yes</td>\n",
              "      <td>no</td>\n",
              "      <td>telephone</td>\n",
              "      <td>may</td>\n",
              "      <td>wed</td>\n",
              "      <td>nonexistent</td>\n",
              "    </tr>\n",
              "    <tr>\n",
              "      <th>7106</th>\n",
              "      <td>blue-collar</td>\n",
              "      <td>married</td>\n",
              "      <td>basic 9y</td>\n",
              "      <td>no</td>\n",
              "      <td>no</td>\n",
              "      <td>no</td>\n",
              "      <td>cellular</td>\n",
              "      <td>nov</td>\n",
              "      <td>wed</td>\n",
              "      <td>nonexistent</td>\n",
              "    </tr>\n",
              "    <tr>\n",
              "      <th>24031</th>\n",
              "      <td>student</td>\n",
              "      <td>divorced</td>\n",
              "      <td>university degree</td>\n",
              "      <td>no</td>\n",
              "      <td>yes</td>\n",
              "      <td>yes</td>\n",
              "      <td>cellular</td>\n",
              "      <td>may</td>\n",
              "      <td>thu</td>\n",
              "      <td>nonexistent</td>\n",
              "    </tr>\n",
              "  </tbody>\n",
              "</table>\n",
              "</div>"
            ],
            "text/plain": [
              "               job   marital          education default housing loan  \\\n",
              "7234         admin   married            unknown      no      no   no   \n",
              "19855   unemployed   married           basic 9y      no     yes   no   \n",
              "19351  blue-collar    single           basic 6y      no     yes   no   \n",
              "7106   blue-collar   married           basic 9y      no      no   no   \n",
              "24031      student  divorced  university degree      no     yes  yes   \n",
              "\n",
              "         contact month day_of_week     poutcome  \n",
              "7234    cellular   nov         thu  nonexistent  \n",
              "19855   cellular   oct         tue  nonexistent  \n",
              "19351  telephone   may         wed  nonexistent  \n",
              "7106    cellular   nov         wed  nonexistent  \n",
              "24031   cellular   may         thu  nonexistent  "
            ]
          },
          "execution_count": 352,
          "metadata": {},
          "output_type": "execute_result"
        }
      ],
      "source": [
        "# for validation purposes\n",
        "fs = FeatureSelector(x_train.select_dtypes(\"object\").columns.to_list())\n",
        "df = fs.fit_transform(x_train)\n",
        "df.head()"
      ]
    },
    {
      "cell_type": "code",
      "execution_count": 353,
      "metadata": {
        "colab": {
          "base_uri": "https://localhost:8080/"
        },
        "id": "zbMWlomUbK5w",
        "outputId": "e0a8dbaf-868c-49eb-c22e-6f10633eabd0"
      },
      "outputs": [
        {
          "data": {
            "application/vnd.microsoft.datawrangler.viewer.v0+json": {
              "columns": [
                {
                  "name": "index",
                  "rawType": "int64",
                  "type": "integer"
                },
                {
                  "name": "age",
                  "rawType": "float64",
                  "type": "float"
                },
                {
                  "name": "campaign",
                  "rawType": "float64",
                  "type": "float"
                },
                {
                  "name": "pdays",
                  "rawType": "float64",
                  "type": "float"
                },
                {
                  "name": "previous",
                  "rawType": "float64",
                  "type": "float"
                },
                {
                  "name": "emp_var_rate",
                  "rawType": "float64",
                  "type": "float"
                },
                {
                  "name": "cons_price_idx",
                  "rawType": "float64",
                  "type": "float"
                },
                {
                  "name": "cons_conf_idx",
                  "rawType": "float64",
                  "type": "float"
                },
                {
                  "name": "euribor3m",
                  "rawType": "float64",
                  "type": "float"
                },
                {
                  "name": "nr_employed",
                  "rawType": "float64",
                  "type": "float"
                },
                {
                  "name": "pdays_contacted_status",
                  "rawType": "float64",
                  "type": "float"
                }
              ],
              "conversionMethod": "pd.DataFrame",
              "ref": "01fab514-6f26-4af9-b224-a4467e80aa0b",
              "rows": [
                [
                  "7234",
                  "25.0",
                  "1.0",
                  "6.0",
                  "0.0",
                  "-3.4",
                  "92.649",
                  "-30.1",
                  "0.714",
                  "5017.5",
                  "0.0"
                ],
                [
                  "19855",
                  "55.0",
                  "1.0",
                  "6.0",
                  "0.0",
                  "-3.4",
                  "92.431",
                  "-26.9",
                  "0.728",
                  "5017.5",
                  "0.0"
                ],
                [
                  "19351",
                  "49.0",
                  "4.0",
                  "6.0",
                  "0.0",
                  "1.1",
                  "93.994",
                  "-36.4",
                  "4.856",
                  "5191.0",
                  "0.0"
                ],
                [
                  "7106",
                  "30.0",
                  "5.0",
                  "6.0",
                  "0.0",
                  "-0.1",
                  "93.2",
                  "-42.0",
                  "4.12",
                  "5195.8",
                  "0.0"
                ],
                [
                  "24031",
                  "37.0",
                  "2.0",
                  "6.0",
                  "0.0",
                  "-1.8",
                  "93.876",
                  "-40.0",
                  "0.699",
                  "5008.7",
                  "0.0"
                ]
              ],
              "shape": {
                "columns": 10,
                "rows": 5
              }
            },
            "text/html": [
              "<div>\n",
              "<style scoped>\n",
              "    .dataframe tbody tr th:only-of-type {\n",
              "        vertical-align: middle;\n",
              "    }\n",
              "\n",
              "    .dataframe tbody tr th {\n",
              "        vertical-align: top;\n",
              "    }\n",
              "\n",
              "    .dataframe thead th {\n",
              "        text-align: right;\n",
              "    }\n",
              "</style>\n",
              "<table border=\"1\" class=\"dataframe\">\n",
              "  <thead>\n",
              "    <tr style=\"text-align: right;\">\n",
              "      <th></th>\n",
              "      <th>age</th>\n",
              "      <th>campaign</th>\n",
              "      <th>pdays</th>\n",
              "      <th>previous</th>\n",
              "      <th>emp_var_rate</th>\n",
              "      <th>cons_price_idx</th>\n",
              "      <th>cons_conf_idx</th>\n",
              "      <th>euribor3m</th>\n",
              "      <th>nr_employed</th>\n",
              "      <th>pdays_contacted_status</th>\n",
              "    </tr>\n",
              "  </thead>\n",
              "  <tbody>\n",
              "    <tr>\n",
              "      <th>7234</th>\n",
              "      <td>25.0</td>\n",
              "      <td>1.0</td>\n",
              "      <td>6.0</td>\n",
              "      <td>0.0</td>\n",
              "      <td>-3.4</td>\n",
              "      <td>92.649</td>\n",
              "      <td>-30.1</td>\n",
              "      <td>0.714</td>\n",
              "      <td>5017.5</td>\n",
              "      <td>0.0</td>\n",
              "    </tr>\n",
              "    <tr>\n",
              "      <th>19855</th>\n",
              "      <td>55.0</td>\n",
              "      <td>1.0</td>\n",
              "      <td>6.0</td>\n",
              "      <td>0.0</td>\n",
              "      <td>-3.4</td>\n",
              "      <td>92.431</td>\n",
              "      <td>-26.9</td>\n",
              "      <td>0.728</td>\n",
              "      <td>5017.5</td>\n",
              "      <td>0.0</td>\n",
              "    </tr>\n",
              "    <tr>\n",
              "      <th>19351</th>\n",
              "      <td>49.0</td>\n",
              "      <td>4.0</td>\n",
              "      <td>6.0</td>\n",
              "      <td>0.0</td>\n",
              "      <td>1.1</td>\n",
              "      <td>93.994</td>\n",
              "      <td>-36.4</td>\n",
              "      <td>4.856</td>\n",
              "      <td>5191.0</td>\n",
              "      <td>0.0</td>\n",
              "    </tr>\n",
              "    <tr>\n",
              "      <th>7106</th>\n",
              "      <td>30.0</td>\n",
              "      <td>5.0</td>\n",
              "      <td>6.0</td>\n",
              "      <td>0.0</td>\n",
              "      <td>-0.1</td>\n",
              "      <td>93.200</td>\n",
              "      <td>-42.0</td>\n",
              "      <td>4.120</td>\n",
              "      <td>5195.8</td>\n",
              "      <td>0.0</td>\n",
              "    </tr>\n",
              "    <tr>\n",
              "      <th>24031</th>\n",
              "      <td>37.0</td>\n",
              "      <td>2.0</td>\n",
              "      <td>6.0</td>\n",
              "      <td>0.0</td>\n",
              "      <td>-1.8</td>\n",
              "      <td>93.876</td>\n",
              "      <td>-40.0</td>\n",
              "      <td>0.699</td>\n",
              "      <td>5008.7</td>\n",
              "      <td>0.0</td>\n",
              "    </tr>\n",
              "  </tbody>\n",
              "</table>\n",
              "</div>"
            ],
            "text/plain": [
              "        age  campaign  pdays  previous  emp_var_rate  cons_price_idx  \\\n",
              "7234   25.0       1.0    6.0       0.0          -3.4          92.649   \n",
              "19855  55.0       1.0    6.0       0.0          -3.4          92.431   \n",
              "19351  49.0       4.0    6.0       0.0           1.1          93.994   \n",
              "7106   30.0       5.0    6.0       0.0          -0.1          93.200   \n",
              "24031  37.0       2.0    6.0       0.0          -1.8          93.876   \n",
              "\n",
              "       cons_conf_idx  euribor3m  nr_employed  pdays_contacted_status  \n",
              "7234           -30.1      0.714       5017.5                     0.0  \n",
              "19855          -26.9      0.728       5017.5                     0.0  \n",
              "19351          -36.4      4.856       5191.0                     0.0  \n",
              "7106           -42.0      4.120       5195.8                     0.0  \n",
              "24031          -40.0      0.699       5008.7                     0.0  "
            ]
          },
          "execution_count": 353,
          "metadata": {},
          "output_type": "execute_result"
        }
      ],
      "source": [
        "# for validation purposes\n",
        "fs = FeatureSelector(x_train.select_dtypes(\"float64\").columns.to_list())\n",
        "df = fs.fit_transform(x_train)\n",
        "df.head()"
      ]
    },
    {
      "cell_type": "markdown",
      "metadata": {
        "id": "_ofrw3WLjVay"
      },
      "source": [
        "#### 1.4.3.2 Handling Categorical Features"
      ]
    },
    {
      "cell_type": "code",
      "execution_count": 354,
      "metadata": {
        "id": "Od5QTxwdhqgL"
      },
      "outputs": [],
      "source": [
        "from sklearn.base import BaseEstimator, TransformerMixin\n",
        "import pandas as pd\n",
        "\n",
        "class CategoricalTransformer(BaseEstimator, TransformerMixin):\n",
        "    def __init__(self, new_features=True, colnames=None):\n",
        "        self.new_features = new_features\n",
        "        self.colnames = colnames\n",
        "\n",
        "    def fit(self, X, y=None):\n",
        "        return self\n",
        "\n",
        "    def get_feature_names_out(self):\n",
        "        return self.colnames.tolist()\n",
        "\n",
        "    def transform(self, X, y=None):\n",
        "        df = pd.DataFrame(X, columns=self.colnames)\n",
        "\n",
        "        # Remove white space in categorical features\n",
        "        df = df.apply(lambda row: row.str.strip() if row.dtype == \"object\" else row)\n",
        "\n",
        "        if self.new_features:\n",
        "            # Define mappings\n",
        "            mapping_dict = {\n",
        "                'basic 4y': 4,\n",
        "                'basic 6y': 6,\n",
        "                'basic 9y': 9,\n",
        "                'high school': 12,\n",
        "                'professional course': 19,\n",
        "                'university degree': 16,\n",
        "                'illiterate': 0,\n",
        "                'unknown': -1\n",
        "            }\n",
        "\n",
        "            month_map = {\n",
        "                'jan': 1, 'feb': 2, 'mar': 3, 'apr': 4,\n",
        "                'may': 5, 'jun': 6, 'jul': 7, 'aug': 8,\n",
        "                'sep': 9, 'oct': 10, 'nov': 11, 'dec': 12\n",
        "            }\n",
        "\n",
        "            weekday_map = {\n",
        "                'mon': 1, 'tue': 2, 'wed': 3,\n",
        "                'thu': 4, 'fri': 5, 'sat': 6, 'sun': 7\n",
        "            }\n",
        "\n",
        "            if 'education' in df.columns:\n",
        "                df['education'] = df['education'].replace(mapping_dict)\n",
        "\n",
        "            if 'month' in df.columns:\n",
        "                df['month'] = df['month'].replace(month_map)\n",
        "\n",
        "            if 'day_of_week' in df.columns:\n",
        "                df['day_of_week'] = df['day_of_week'].replace(weekday_map)\n",
        "\n",
        "        self.colnames = df.columns\n",
        "        return df\n"
      ]
    },
    {
      "cell_type": "code",
      "execution_count": 355,
      "metadata": {
        "colab": {
          "base_uri": "https://localhost:8080/"
        },
        "id": "j6BYQho9mQHU",
        "outputId": "cd66d4d8-1744-471a-b686-7b29e4ae5a72"
      },
      "outputs": [
        {
          "data": {
            "application/vnd.microsoft.datawrangler.viewer.v0+json": {
              "columns": [
                {
                  "name": "index",
                  "rawType": "int64",
                  "type": "integer"
                },
                {
                  "name": "job",
                  "rawType": "object",
                  "type": "string"
                },
                {
                  "name": "marital",
                  "rawType": "object",
                  "type": "string"
                },
                {
                  "name": "education",
                  "rawType": "object",
                  "type": "string"
                },
                {
                  "name": "default",
                  "rawType": "object",
                  "type": "string"
                },
                {
                  "name": "housing",
                  "rawType": "object",
                  "type": "string"
                },
                {
                  "name": "loan",
                  "rawType": "object",
                  "type": "string"
                },
                {
                  "name": "contact",
                  "rawType": "object",
                  "type": "string"
                },
                {
                  "name": "month",
                  "rawType": "object",
                  "type": "string"
                },
                {
                  "name": "day_of_week",
                  "rawType": "object",
                  "type": "string"
                },
                {
                  "name": "poutcome",
                  "rawType": "object",
                  "type": "string"
                }
              ],
              "conversionMethod": "pd.DataFrame",
              "ref": "7e09c440-1977-4836-a868-a06c42838ada",
              "rows": [
                [
                  "7234",
                  "admin",
                  "married",
                  "unknown",
                  "no",
                  "no",
                  "no",
                  "cellular",
                  "nov",
                  "thu",
                  "nonexistent"
                ],
                [
                  "19855",
                  "unemployed",
                  "married",
                  "basic 9y",
                  "no",
                  "yes",
                  "no",
                  "cellular",
                  "oct",
                  "tue",
                  "nonexistent"
                ],
                [
                  "19351",
                  "blue-collar",
                  "single",
                  "basic 6y",
                  "no",
                  "yes",
                  "no",
                  "telephone",
                  "may",
                  "wed",
                  "nonexistent"
                ],
                [
                  "7106",
                  "blue-collar",
                  "married",
                  "basic 9y",
                  "no",
                  "no",
                  "no",
                  "cellular",
                  "nov",
                  "wed",
                  "nonexistent"
                ],
                [
                  "24031",
                  "student",
                  "divorced",
                  "university degree",
                  "no",
                  "yes",
                  "yes",
                  "cellular",
                  "may",
                  "thu",
                  "nonexistent"
                ]
              ],
              "shape": {
                "columns": 10,
                "rows": 5
              }
            },
            "text/html": [
              "<div>\n",
              "<style scoped>\n",
              "    .dataframe tbody tr th:only-of-type {\n",
              "        vertical-align: middle;\n",
              "    }\n",
              "\n",
              "    .dataframe tbody tr th {\n",
              "        vertical-align: top;\n",
              "    }\n",
              "\n",
              "    .dataframe thead th {\n",
              "        text-align: right;\n",
              "    }\n",
              "</style>\n",
              "<table border=\"1\" class=\"dataframe\">\n",
              "  <thead>\n",
              "    <tr style=\"text-align: right;\">\n",
              "      <th></th>\n",
              "      <th>job</th>\n",
              "      <th>marital</th>\n",
              "      <th>education</th>\n",
              "      <th>default</th>\n",
              "      <th>housing</th>\n",
              "      <th>loan</th>\n",
              "      <th>contact</th>\n",
              "      <th>month</th>\n",
              "      <th>day_of_week</th>\n",
              "      <th>poutcome</th>\n",
              "    </tr>\n",
              "  </thead>\n",
              "  <tbody>\n",
              "    <tr>\n",
              "      <th>7234</th>\n",
              "      <td>admin</td>\n",
              "      <td>married</td>\n",
              "      <td>unknown</td>\n",
              "      <td>no</td>\n",
              "      <td>no</td>\n",
              "      <td>no</td>\n",
              "      <td>cellular</td>\n",
              "      <td>nov</td>\n",
              "      <td>thu</td>\n",
              "      <td>nonexistent</td>\n",
              "    </tr>\n",
              "    <tr>\n",
              "      <th>19855</th>\n",
              "      <td>unemployed</td>\n",
              "      <td>married</td>\n",
              "      <td>basic 9y</td>\n",
              "      <td>no</td>\n",
              "      <td>yes</td>\n",
              "      <td>no</td>\n",
              "      <td>cellular</td>\n",
              "      <td>oct</td>\n",
              "      <td>tue</td>\n",
              "      <td>nonexistent</td>\n",
              "    </tr>\n",
              "    <tr>\n",
              "      <th>19351</th>\n",
              "      <td>blue-collar</td>\n",
              "      <td>single</td>\n",
              "      <td>basic 6y</td>\n",
              "      <td>no</td>\n",
              "      <td>yes</td>\n",
              "      <td>no</td>\n",
              "      <td>telephone</td>\n",
              "      <td>may</td>\n",
              "      <td>wed</td>\n",
              "      <td>nonexistent</td>\n",
              "    </tr>\n",
              "    <tr>\n",
              "      <th>7106</th>\n",
              "      <td>blue-collar</td>\n",
              "      <td>married</td>\n",
              "      <td>basic 9y</td>\n",
              "      <td>no</td>\n",
              "      <td>no</td>\n",
              "      <td>no</td>\n",
              "      <td>cellular</td>\n",
              "      <td>nov</td>\n",
              "      <td>wed</td>\n",
              "      <td>nonexistent</td>\n",
              "    </tr>\n",
              "    <tr>\n",
              "      <th>24031</th>\n",
              "      <td>student</td>\n",
              "      <td>divorced</td>\n",
              "      <td>university degree</td>\n",
              "      <td>no</td>\n",
              "      <td>yes</td>\n",
              "      <td>yes</td>\n",
              "      <td>cellular</td>\n",
              "      <td>may</td>\n",
              "      <td>thu</td>\n",
              "      <td>nonexistent</td>\n",
              "    </tr>\n",
              "  </tbody>\n",
              "</table>\n",
              "</div>"
            ],
            "text/plain": [
              "               job   marital          education default housing loan  \\\n",
              "7234         admin   married            unknown      no      no   no   \n",
              "19855   unemployed   married           basic 9y      no     yes   no   \n",
              "19351  blue-collar    single           basic 6y      no     yes   no   \n",
              "7106   blue-collar   married           basic 9y      no      no   no   \n",
              "24031      student  divorced  university degree      no     yes  yes   \n",
              "\n",
              "         contact month day_of_week     poutcome  \n",
              "7234    cellular   nov         thu  nonexistent  \n",
              "19855   cellular   oct         tue  nonexistent  \n",
              "19351  telephone   may         wed  nonexistent  \n",
              "7106    cellular   nov         wed  nonexistent  \n",
              "24031   cellular   may         thu  nonexistent  "
            ]
          },
          "execution_count": 355,
          "metadata": {},
          "output_type": "execute_result"
        }
      ],
      "source": [
        "# for validation purposes\n",
        "fs = FeatureSelector(x_train.select_dtypes(\"object\").columns.to_list())\n",
        "df = fs.fit_transform(x_train)\n",
        "df.head()"
      ]
    },
    {
      "cell_type": "code",
      "execution_count": 356,
      "metadata": {
        "colab": {
          "base_uri": "https://localhost:8080/"
        },
        "id": "41xrQMJqmfEW",
        "outputId": "951501d3-6742-4e79-b003-159a362295ed"
      },
      "outputs": [
        {
          "data": {
            "application/vnd.microsoft.datawrangler.viewer.v0+json": {
              "columns": [
                {
                  "name": "index",
                  "rawType": "int64",
                  "type": "integer"
                },
                {
                  "name": "job",
                  "rawType": "object",
                  "type": "string"
                },
                {
                  "name": "marital",
                  "rawType": "object",
                  "type": "string"
                },
                {
                  "name": "education",
                  "rawType": "int64",
                  "type": "integer"
                },
                {
                  "name": "default",
                  "rawType": "object",
                  "type": "string"
                },
                {
                  "name": "housing",
                  "rawType": "object",
                  "type": "string"
                },
                {
                  "name": "loan",
                  "rawType": "object",
                  "type": "string"
                },
                {
                  "name": "contact",
                  "rawType": "object",
                  "type": "string"
                },
                {
                  "name": "month",
                  "rawType": "int64",
                  "type": "integer"
                },
                {
                  "name": "day_of_week",
                  "rawType": "int64",
                  "type": "integer"
                },
                {
                  "name": "poutcome",
                  "rawType": "object",
                  "type": "string"
                }
              ],
              "conversionMethod": "pd.DataFrame",
              "ref": "5a17ae41-b625-4410-8133-e15fb3259e82",
              "rows": [
                [
                  "7234",
                  "admin",
                  "married",
                  "-1",
                  "no",
                  "no",
                  "no",
                  "cellular",
                  "11",
                  "4",
                  "nonexistent"
                ],
                [
                  "19855",
                  "unemployed",
                  "married",
                  "9",
                  "no",
                  "yes",
                  "no",
                  "cellular",
                  "10",
                  "2",
                  "nonexistent"
                ],
                [
                  "19351",
                  "blue-collar",
                  "single",
                  "6",
                  "no",
                  "yes",
                  "no",
                  "telephone",
                  "5",
                  "3",
                  "nonexistent"
                ],
                [
                  "7106",
                  "blue-collar",
                  "married",
                  "9",
                  "no",
                  "no",
                  "no",
                  "cellular",
                  "11",
                  "3",
                  "nonexistent"
                ],
                [
                  "24031",
                  "student",
                  "divorced",
                  "16",
                  "no",
                  "yes",
                  "yes",
                  "cellular",
                  "5",
                  "4",
                  "nonexistent"
                ]
              ],
              "shape": {
                "columns": 10,
                "rows": 5
              }
            },
            "text/html": [
              "<div>\n",
              "<style scoped>\n",
              "    .dataframe tbody tr th:only-of-type {\n",
              "        vertical-align: middle;\n",
              "    }\n",
              "\n",
              "    .dataframe tbody tr th {\n",
              "        vertical-align: top;\n",
              "    }\n",
              "\n",
              "    .dataframe thead th {\n",
              "        text-align: right;\n",
              "    }\n",
              "</style>\n",
              "<table border=\"1\" class=\"dataframe\">\n",
              "  <thead>\n",
              "    <tr style=\"text-align: right;\">\n",
              "      <th></th>\n",
              "      <th>job</th>\n",
              "      <th>marital</th>\n",
              "      <th>education</th>\n",
              "      <th>default</th>\n",
              "      <th>housing</th>\n",
              "      <th>loan</th>\n",
              "      <th>contact</th>\n",
              "      <th>month</th>\n",
              "      <th>day_of_week</th>\n",
              "      <th>poutcome</th>\n",
              "    </tr>\n",
              "  </thead>\n",
              "  <tbody>\n",
              "    <tr>\n",
              "      <th>7234</th>\n",
              "      <td>admin</td>\n",
              "      <td>married</td>\n",
              "      <td>-1</td>\n",
              "      <td>no</td>\n",
              "      <td>no</td>\n",
              "      <td>no</td>\n",
              "      <td>cellular</td>\n",
              "      <td>11</td>\n",
              "      <td>4</td>\n",
              "      <td>nonexistent</td>\n",
              "    </tr>\n",
              "    <tr>\n",
              "      <th>19855</th>\n",
              "      <td>unemployed</td>\n",
              "      <td>married</td>\n",
              "      <td>9</td>\n",
              "      <td>no</td>\n",
              "      <td>yes</td>\n",
              "      <td>no</td>\n",
              "      <td>cellular</td>\n",
              "      <td>10</td>\n",
              "      <td>2</td>\n",
              "      <td>nonexistent</td>\n",
              "    </tr>\n",
              "    <tr>\n",
              "      <th>19351</th>\n",
              "      <td>blue-collar</td>\n",
              "      <td>single</td>\n",
              "      <td>6</td>\n",
              "      <td>no</td>\n",
              "      <td>yes</td>\n",
              "      <td>no</td>\n",
              "      <td>telephone</td>\n",
              "      <td>5</td>\n",
              "      <td>3</td>\n",
              "      <td>nonexistent</td>\n",
              "    </tr>\n",
              "    <tr>\n",
              "      <th>7106</th>\n",
              "      <td>blue-collar</td>\n",
              "      <td>married</td>\n",
              "      <td>9</td>\n",
              "      <td>no</td>\n",
              "      <td>no</td>\n",
              "      <td>no</td>\n",
              "      <td>cellular</td>\n",
              "      <td>11</td>\n",
              "      <td>3</td>\n",
              "      <td>nonexistent</td>\n",
              "    </tr>\n",
              "    <tr>\n",
              "      <th>24031</th>\n",
              "      <td>student</td>\n",
              "      <td>divorced</td>\n",
              "      <td>16</td>\n",
              "      <td>no</td>\n",
              "      <td>yes</td>\n",
              "      <td>yes</td>\n",
              "      <td>cellular</td>\n",
              "      <td>5</td>\n",
              "      <td>4</td>\n",
              "      <td>nonexistent</td>\n",
              "    </tr>\n",
              "  </tbody>\n",
              "</table>\n",
              "</div>"
            ],
            "text/plain": [
              "               job   marital  education default housing loan    contact  \\\n",
              "7234         admin   married         -1      no      no   no   cellular   \n",
              "19855   unemployed   married          9      no     yes   no   cellular   \n",
              "19351  blue-collar    single          6      no     yes   no  telephone   \n",
              "7106   blue-collar   married          9      no      no   no   cellular   \n",
              "24031      student  divorced         16      no     yes  yes   cellular   \n",
              "\n",
              "       month  day_of_week     poutcome  \n",
              "7234      11            4  nonexistent  \n",
              "19855     10            2  nonexistent  \n",
              "19351      5            3  nonexistent  \n",
              "7106      11            3  nonexistent  \n",
              "24031      5            4  nonexistent  "
            ]
          },
          "execution_count": 356,
          "metadata": {},
          "output_type": "execute_result"
        }
      ],
      "source": [
        "# for validation purposes\n",
        "ct = CategoricalTransformer(new_features=True,colnames=df.columns.tolist())\n",
        "df_cat = ct.fit_transform(df)\n",
        "df_cat.head()"
      ]
    },
    {
      "cell_type": "markdown",
      "metadata": {
        "id": "ldfU54n7njja"
      },
      "source": [
        "#### 1.4.3.3 Handling Numerical Features"
      ]
    },
    {
      "cell_type": "code",
      "execution_count": 357,
      "metadata": {
        "id": "2RWfY7ctjxW2"
      },
      "outputs": [],
      "source": [
        "# transform numerical features\n",
        "class NumericalTransformer(BaseEstimator, TransformerMixin):\n",
        "    # Class constructor method that takes a model parameter as its argument\n",
        "    # model 0: minmax\n",
        "    # model 1: standard\n",
        "    # model 2: without scaler\n",
        "    def __init__(self, model=0, colnames=None):\n",
        "        self.model = model\n",
        "        self.colnames = colnames\n",
        "        self.scaler = None\n",
        "\n",
        "    # Fit is used only to learn statistical about Scalers\n",
        "    def fit(self, X, y=None):\n",
        "        df = pd.DataFrame(X, columns=self.colnames)\n",
        "        # minmax\n",
        "        if self.model == 0:\n",
        "            self.scaler = MinMaxScaler()\n",
        "            self.scaler.fit(df)\n",
        "        # standard scaler\n",
        "        elif self.model == 1:\n",
        "            self.scaler = StandardScaler()\n",
        "            self.scaler.fit(df)\n",
        "        return self\n",
        "\n",
        "    # return columns names after transformation\n",
        "    def get_feature_names_out(self):\n",
        "        return self.colnames\n",
        "\n",
        "    # Transformer method we wrote for this transformer\n",
        "    # Use fitted scalers\n",
        "    def transform(self, X, y=None):\n",
        "        df = pd.DataFrame(X, columns=self.colnames)\n",
        "\n",
        "        # update columns name\n",
        "        self.colnames = df.columns.tolist()\n",
        "\n",
        "        # minmax\n",
        "        if self.model == 0:\n",
        "            # transform data\n",
        "            df = self.scaler.transform(df)\n",
        "        elif self.model == 1:\n",
        "            # transform data\n",
        "            df = self.scaler.transform(df)\n",
        "        else:\n",
        "            df = df.values\n",
        "\n",
        "        return df"
      ]
    },
    {
      "cell_type": "code",
      "execution_count": 358,
      "metadata": {
        "colab": {
          "base_uri": "https://localhost:8080/"
        },
        "id": "05vfbEtjo4RQ",
        "outputId": "a201a96f-53db-489c-b70f-c32784e022c4"
      },
      "outputs": [
        {
          "data": {
            "application/vnd.microsoft.datawrangler.viewer.v0+json": {
              "columns": [
                {
                  "name": "index",
                  "rawType": "int64",
                  "type": "integer"
                },
                {
                  "name": "age",
                  "rawType": "float64",
                  "type": "float"
                },
                {
                  "name": "campaign",
                  "rawType": "float64",
                  "type": "float"
                },
                {
                  "name": "pdays",
                  "rawType": "float64",
                  "type": "float"
                },
                {
                  "name": "previous",
                  "rawType": "float64",
                  "type": "float"
                },
                {
                  "name": "emp_var_rate",
                  "rawType": "float64",
                  "type": "float"
                },
                {
                  "name": "cons_price_idx",
                  "rawType": "float64",
                  "type": "float"
                },
                {
                  "name": "cons_conf_idx",
                  "rawType": "float64",
                  "type": "float"
                },
                {
                  "name": "euribor3m",
                  "rawType": "float64",
                  "type": "float"
                },
                {
                  "name": "nr_employed",
                  "rawType": "float64",
                  "type": "float"
                },
                {
                  "name": "pdays_contacted_status",
                  "rawType": "float64",
                  "type": "float"
                }
              ],
              "conversionMethod": "pd.DataFrame",
              "ref": "0147fbb3-aba3-49b3-825b-c7d3153f38fe",
              "rows": [
                [
                  "7234",
                  "25.0",
                  "1.0",
                  "6.0",
                  "0.0",
                  "-3.4",
                  "92.649",
                  "-30.1",
                  "0.714",
                  "5017.5",
                  "0.0"
                ],
                [
                  "19855",
                  "55.0",
                  "1.0",
                  "6.0",
                  "0.0",
                  "-3.4",
                  "92.431",
                  "-26.9",
                  "0.728",
                  "5017.5",
                  "0.0"
                ],
                [
                  "19351",
                  "49.0",
                  "4.0",
                  "6.0",
                  "0.0",
                  "1.1",
                  "93.994",
                  "-36.4",
                  "4.856",
                  "5191.0",
                  "0.0"
                ],
                [
                  "7106",
                  "30.0",
                  "5.0",
                  "6.0",
                  "0.0",
                  "-0.1",
                  "93.2",
                  "-42.0",
                  "4.12",
                  "5195.8",
                  "0.0"
                ],
                [
                  "24031",
                  "37.0",
                  "2.0",
                  "6.0",
                  "0.0",
                  "-1.8",
                  "93.876",
                  "-40.0",
                  "0.699",
                  "5008.7",
                  "0.0"
                ]
              ],
              "shape": {
                "columns": 10,
                "rows": 5
              }
            },
            "text/html": [
              "<div>\n",
              "<style scoped>\n",
              "    .dataframe tbody tr th:only-of-type {\n",
              "        vertical-align: middle;\n",
              "    }\n",
              "\n",
              "    .dataframe tbody tr th {\n",
              "        vertical-align: top;\n",
              "    }\n",
              "\n",
              "    .dataframe thead th {\n",
              "        text-align: right;\n",
              "    }\n",
              "</style>\n",
              "<table border=\"1\" class=\"dataframe\">\n",
              "  <thead>\n",
              "    <tr style=\"text-align: right;\">\n",
              "      <th></th>\n",
              "      <th>age</th>\n",
              "      <th>campaign</th>\n",
              "      <th>pdays</th>\n",
              "      <th>previous</th>\n",
              "      <th>emp_var_rate</th>\n",
              "      <th>cons_price_idx</th>\n",
              "      <th>cons_conf_idx</th>\n",
              "      <th>euribor3m</th>\n",
              "      <th>nr_employed</th>\n",
              "      <th>pdays_contacted_status</th>\n",
              "    </tr>\n",
              "  </thead>\n",
              "  <tbody>\n",
              "    <tr>\n",
              "      <th>7234</th>\n",
              "      <td>25.0</td>\n",
              "      <td>1.0</td>\n",
              "      <td>6.0</td>\n",
              "      <td>0.0</td>\n",
              "      <td>-3.4</td>\n",
              "      <td>92.649</td>\n",
              "      <td>-30.1</td>\n",
              "      <td>0.714</td>\n",
              "      <td>5017.5</td>\n",
              "      <td>0.0</td>\n",
              "    </tr>\n",
              "    <tr>\n",
              "      <th>19855</th>\n",
              "      <td>55.0</td>\n",
              "      <td>1.0</td>\n",
              "      <td>6.0</td>\n",
              "      <td>0.0</td>\n",
              "      <td>-3.4</td>\n",
              "      <td>92.431</td>\n",
              "      <td>-26.9</td>\n",
              "      <td>0.728</td>\n",
              "      <td>5017.5</td>\n",
              "      <td>0.0</td>\n",
              "    </tr>\n",
              "    <tr>\n",
              "      <th>19351</th>\n",
              "      <td>49.0</td>\n",
              "      <td>4.0</td>\n",
              "      <td>6.0</td>\n",
              "      <td>0.0</td>\n",
              "      <td>1.1</td>\n",
              "      <td>93.994</td>\n",
              "      <td>-36.4</td>\n",
              "      <td>4.856</td>\n",
              "      <td>5191.0</td>\n",
              "      <td>0.0</td>\n",
              "    </tr>\n",
              "    <tr>\n",
              "      <th>7106</th>\n",
              "      <td>30.0</td>\n",
              "      <td>5.0</td>\n",
              "      <td>6.0</td>\n",
              "      <td>0.0</td>\n",
              "      <td>-0.1</td>\n",
              "      <td>93.200</td>\n",
              "      <td>-42.0</td>\n",
              "      <td>4.120</td>\n",
              "      <td>5195.8</td>\n",
              "      <td>0.0</td>\n",
              "    </tr>\n",
              "    <tr>\n",
              "      <th>24031</th>\n",
              "      <td>37.0</td>\n",
              "      <td>2.0</td>\n",
              "      <td>6.0</td>\n",
              "      <td>0.0</td>\n",
              "      <td>-1.8</td>\n",
              "      <td>93.876</td>\n",
              "      <td>-40.0</td>\n",
              "      <td>0.699</td>\n",
              "      <td>5008.7</td>\n",
              "      <td>0.0</td>\n",
              "    </tr>\n",
              "  </tbody>\n",
              "</table>\n",
              "</div>"
            ],
            "text/plain": [
              "        age  campaign  pdays  previous  emp_var_rate  cons_price_idx  \\\n",
              "7234   25.0       1.0    6.0       0.0          -3.4          92.649   \n",
              "19855  55.0       1.0    6.0       0.0          -3.4          92.431   \n",
              "19351  49.0       4.0    6.0       0.0           1.1          93.994   \n",
              "7106   30.0       5.0    6.0       0.0          -0.1          93.200   \n",
              "24031  37.0       2.0    6.0       0.0          -1.8          93.876   \n",
              "\n",
              "       cons_conf_idx  euribor3m  nr_employed  pdays_contacted_status  \n",
              "7234           -30.1      0.714       5017.5                     0.0  \n",
              "19855          -26.9      0.728       5017.5                     0.0  \n",
              "19351          -36.4      4.856       5191.0                     0.0  \n",
              "7106           -42.0      4.120       5195.8                     0.0  \n",
              "24031          -40.0      0.699       5008.7                     0.0  "
            ]
          },
          "execution_count": 358,
          "metadata": {},
          "output_type": "execute_result"
        }
      ],
      "source": [
        "# for validation purposes\n",
        "fs = FeatureSelector(x_train.select_dtypes(\"float64\").columns.to_list())\n",
        "df = fs.fit_transform(x_train)\n",
        "df.head()"
      ]
    },
    {
      "cell_type": "code",
      "execution_count": 359,
      "metadata": {
        "colab": {
          "base_uri": "https://localhost:8080/"
        },
        "id": "22lgbdTqpXqD",
        "outputId": "fab6b2ad-4377-45a7-a186-3d0fa855f2cc"
      },
      "outputs": [
        {
          "data": {
            "text/plain": [
              "array([[-1.42637692, -0.59086593,  0.05904921, ..., -1.55563312,\n",
              "        -1.90430103, -0.18002521],\n",
              "       [ 1.36491082, -0.59086593,  0.05904921, ..., -1.54780055,\n",
              "        -1.90430103, -0.18002521],\n",
              "       [ 0.80665327,  0.41479543,  0.05904921, ...,  0.76168769,\n",
              "         0.38711564, -0.18002521],\n",
              "       ...,\n",
              "       [ 0.5275245 , -0.59086593,  0.05904921, ..., -1.3553432 ,\n",
              "        -1.12904939, -0.18002521],\n",
              "       [-0.49594767, -0.25564547,  0.05904921, ...,  0.82378875,\n",
              "         0.8770958 , -0.18002521],\n",
              "       [ 0.80665327,  0.75001588,  0.05904921, ...,  0.82155088,\n",
              "         0.8770958 , -0.18002521]])"
            ]
          },
          "execution_count": 359,
          "metadata": {},
          "output_type": "execute_result"
        }
      ],
      "source": [
        "# for validation purposes\n",
        "nt = NumericalTransformer(model=1)\n",
        "df_num = nt.fit_transform(df)\n",
        "df_num"
      ]
    },
    {
      "cell_type": "code",
      "execution_count": 360,
      "metadata": {
        "colab": {
          "base_uri": "https://localhost:8080/"
        },
        "id": "GgJK5Bnspo8A",
        "outputId": "5b349d09-8c31-4b6e-dae0-87b531f039bb"
      },
      "outputs": [
        {
          "data": {
            "text/plain": [
              "['age',\n",
              " 'campaign',\n",
              " 'pdays',\n",
              " 'previous',\n",
              " 'emp_var_rate',\n",
              " 'cons_price_idx',\n",
              " 'cons_conf_idx',\n",
              " 'euribor3m',\n",
              " 'nr_employed',\n",
              " 'pdays_contacted_status']"
            ]
          },
          "execution_count": 360,
          "metadata": {},
          "output_type": "execute_result"
        }
      ],
      "source": [
        "# return columns name\n",
        "nt.get_feature_names_out()"
      ]
    },
    {
      "cell_type": "markdown",
      "metadata": {
        "id": "_HjGtsdP2xb9"
      },
      "source": [
        "#### 1.4.3.4 Data Preparation Pipeline"
      ]
    },
    {
      "cell_type": "code",
      "execution_count": 361,
      "metadata": {
        "id": "dOn6aApB212h"
      },
      "outputs": [],
      "source": [
        "# model = 0 (min-max), 1 (z-score), 2 (without normalization)\n",
        "numerical_model = 1\n",
        "\n",
        "# Categrical features to pass down the categorical pipeline\n",
        "categorical_features = x_train.select_dtypes(\"object\").columns.to_list()\n",
        "\n",
        "# Numerical features to pass down the numerical pipeline\n",
        "numerical_features = x_train.select_dtypes(\"float64\").columns.to_list()\n",
        "\n",
        "# Defining the steps for the categorical pipeline\n",
        "categorical_pipeline = Pipeline(steps=[('cat_selector', FeatureSelector(categorical_features)),\n",
        "                                       ('imputer_cat', SimpleImputer(strategy=\"most_frequent\")),\n",
        "                                       ('cat_transformer', CategoricalTransformer(colnames=categorical_features)),\n",
        "                                       ('cat_encoder', OneHotEncoder(handle_unknown=\"ignore\",sparse=False, drop=\"first\"))\n",
        "                                       ]\n",
        "                                )\n",
        "\n",
        "# Defining the steps in the numerical pipeline\n",
        "numerical_pipeline = Pipeline(steps=[('num_selector', FeatureSelector(numerical_features)),\n",
        "                                     ('imputer_num', SimpleImputer(strategy=\"median\")),\n",
        "                                     ('num_transformer', NumericalTransformer(numerical_model, \n",
        "                                                                              colnames=numerical_features))])\n",
        "\n",
        "# Combine numerical and categorical pipelines into one full big pipeline horizontally\n",
        "full_pipeline_preprocessing = FeatureUnion(transformer_list=[('cat_pipeline', categorical_pipeline),\n",
        "                                                             ('num_pipeline', numerical_pipeline)]\n",
        "                              )"
      ]
    },
    {
      "cell_type": "code",
      "execution_count": 362,
      "metadata": {
        "colab": {
          "base_uri": "https://localhost:8080/"
        },
        "id": "eKOidk7l4PXz",
        "outputId": "1e196b41-b599-47c7-a602-96263b410601"
      },
      "outputs": [
        {
          "data": {
            "application/vnd.microsoft.datawrangler.viewer.v0+json": {
              "columns": [
                {
                  "name": "index",
                  "rawType": "int64",
                  "type": "integer"
                },
                {
                  "name": "job_blue-collar",
                  "rawType": "float64",
                  "type": "float"
                },
                {
                  "name": "job_entrepreneur",
                  "rawType": "float64",
                  "type": "float"
                },
                {
                  "name": "job_housemaid",
                  "rawType": "float64",
                  "type": "float"
                },
                {
                  "name": "job_management",
                  "rawType": "float64",
                  "type": "float"
                },
                {
                  "name": "job_retired",
                  "rawType": "float64",
                  "type": "float"
                },
                {
                  "name": "job_self-employed",
                  "rawType": "float64",
                  "type": "float"
                },
                {
                  "name": "job_services",
                  "rawType": "float64",
                  "type": "float"
                },
                {
                  "name": "job_student",
                  "rawType": "float64",
                  "type": "float"
                },
                {
                  "name": "job_technician",
                  "rawType": "float64",
                  "type": "float"
                },
                {
                  "name": "job_unemployed",
                  "rawType": "float64",
                  "type": "float"
                },
                {
                  "name": "job_unknown",
                  "rawType": "float64",
                  "type": "float"
                },
                {
                  "name": "marital_married",
                  "rawType": "float64",
                  "type": "float"
                },
                {
                  "name": "marital_single",
                  "rawType": "float64",
                  "type": "float"
                },
                {
                  "name": "marital_unknown",
                  "rawType": "float64",
                  "type": "float"
                },
                {
                  "name": "education_0",
                  "rawType": "float64",
                  "type": "float"
                },
                {
                  "name": "education_4",
                  "rawType": "float64",
                  "type": "float"
                },
                {
                  "name": "education_6",
                  "rawType": "float64",
                  "type": "float"
                },
                {
                  "name": "education_9",
                  "rawType": "float64",
                  "type": "float"
                },
                {
                  "name": "education_12",
                  "rawType": "float64",
                  "type": "float"
                },
                {
                  "name": "education_16",
                  "rawType": "float64",
                  "type": "float"
                },
                {
                  "name": "education_19",
                  "rawType": "float64",
                  "type": "float"
                },
                {
                  "name": "default_unknown",
                  "rawType": "float64",
                  "type": "float"
                },
                {
                  "name": "default_yes",
                  "rawType": "float64",
                  "type": "float"
                },
                {
                  "name": "housing_unknown",
                  "rawType": "float64",
                  "type": "float"
                },
                {
                  "name": "housing_yes",
                  "rawType": "float64",
                  "type": "float"
                },
                {
                  "name": "loan_unknown",
                  "rawType": "float64",
                  "type": "float"
                },
                {
                  "name": "loan_yes",
                  "rawType": "float64",
                  "type": "float"
                },
                {
                  "name": "contact_telephone",
                  "rawType": "float64",
                  "type": "float"
                },
                {
                  "name": "month_4",
                  "rawType": "float64",
                  "type": "float"
                },
                {
                  "name": "month_5",
                  "rawType": "float64",
                  "type": "float"
                },
                {
                  "name": "month_6",
                  "rawType": "float64",
                  "type": "float"
                },
                {
                  "name": "month_7",
                  "rawType": "float64",
                  "type": "float"
                },
                {
                  "name": "month_8",
                  "rawType": "float64",
                  "type": "float"
                },
                {
                  "name": "month_9",
                  "rawType": "float64",
                  "type": "float"
                },
                {
                  "name": "month_10",
                  "rawType": "float64",
                  "type": "float"
                },
                {
                  "name": "month_11",
                  "rawType": "float64",
                  "type": "float"
                },
                {
                  "name": "month_12",
                  "rawType": "float64",
                  "type": "float"
                },
                {
                  "name": "day_of_week_2",
                  "rawType": "float64",
                  "type": "float"
                },
                {
                  "name": "day_of_week_3",
                  "rawType": "float64",
                  "type": "float"
                },
                {
                  "name": "day_of_week_4",
                  "rawType": "float64",
                  "type": "float"
                },
                {
                  "name": "day_of_week_5",
                  "rawType": "float64",
                  "type": "float"
                },
                {
                  "name": "poutcome_nonexistent",
                  "rawType": "float64",
                  "type": "float"
                },
                {
                  "name": "poutcome_success",
                  "rawType": "float64",
                  "type": "float"
                },
                {
                  "name": "age",
                  "rawType": "float64",
                  "type": "float"
                },
                {
                  "name": "campaign",
                  "rawType": "float64",
                  "type": "float"
                },
                {
                  "name": "pdays",
                  "rawType": "float64",
                  "type": "float"
                },
                {
                  "name": "previous",
                  "rawType": "float64",
                  "type": "float"
                },
                {
                  "name": "emp_var_rate",
                  "rawType": "float64",
                  "type": "float"
                },
                {
                  "name": "cons_price_idx",
                  "rawType": "float64",
                  "type": "float"
                },
                {
                  "name": "cons_conf_idx",
                  "rawType": "float64",
                  "type": "float"
                },
                {
                  "name": "euribor3m",
                  "rawType": "float64",
                  "type": "float"
                },
                {
                  "name": "nr_employed",
                  "rawType": "float64",
                  "type": "float"
                },
                {
                  "name": "pdays_contacted_status",
                  "rawType": "float64",
                  "type": "float"
                }
              ],
              "conversionMethod": "pd.DataFrame",
              "ref": "dbb00483-04cd-49ec-8f00-6e8556db9eae",
              "rows": [
                [
                  "0",
                  "0.0",
                  "0.0",
                  "0.0",
                  "0.0",
                  "0.0",
                  "0.0",
                  "0.0",
                  "0.0",
                  "0.0",
                  "0.0",
                  "0.0",
                  "1.0",
                  "0.0",
                  "0.0",
                  "0.0",
                  "0.0",
                  "0.0",
                  "0.0",
                  "0.0",
                  "0.0",
                  "0.0",
                  "0.0",
                  "0.0",
                  "0.0",
                  "0.0",
                  "0.0",
                  "0.0",
                  "0.0",
                  "0.0",
                  "0.0",
                  "0.0",
                  "0.0",
                  "0.0",
                  "0.0",
                  "0.0",
                  "1.0",
                  "0.0",
                  "0.0",
                  "0.0",
                  "1.0",
                  "0.0",
                  "1.0",
                  "0.0",
                  "-1.4263769174913241",
                  "-0.5908659272299916",
                  "0.059049211271495566",
                  "-0.3505067120325178",
                  "-2.0885613113562846",
                  "-1.5236147341573893",
                  "2.1810114449305953",
                  "-1.5556331214375985",
                  "-1.9043010275534464",
                  "-0.18002520529323507"
                ],
                [
                  "1",
                  "0.0",
                  "0.0",
                  "0.0",
                  "0.0",
                  "0.0",
                  "0.0",
                  "0.0",
                  "0.0",
                  "0.0",
                  "1.0",
                  "0.0",
                  "1.0",
                  "0.0",
                  "0.0",
                  "0.0",
                  "0.0",
                  "0.0",
                  "1.0",
                  "0.0",
                  "0.0",
                  "0.0",
                  "0.0",
                  "0.0",
                  "0.0",
                  "1.0",
                  "0.0",
                  "0.0",
                  "0.0",
                  "0.0",
                  "0.0",
                  "0.0",
                  "0.0",
                  "0.0",
                  "0.0",
                  "1.0",
                  "0.0",
                  "0.0",
                  "1.0",
                  "0.0",
                  "0.0",
                  "0.0",
                  "1.0",
                  "0.0",
                  "1.3649108208011038",
                  "-0.5908659272299916",
                  "0.059049211271495566",
                  "-0.3505067120325178",
                  "-2.0885613113562846",
                  "-1.8892122501198017",
                  "2.852133690451771",
                  "-1.5478005547202385",
                  "-1.9043010275534464",
                  "-0.18002520529323507"
                ],
                [
                  "2",
                  "1.0",
                  "0.0",
                  "0.0",
                  "0.0",
                  "0.0",
                  "0.0",
                  "0.0",
                  "0.0",
                  "0.0",
                  "0.0",
                  "0.0",
                  "0.0",
                  "1.0",
                  "0.0",
                  "0.0",
                  "0.0",
                  "1.0",
                  "0.0",
                  "0.0",
                  "0.0",
                  "0.0",
                  "0.0",
                  "0.0",
                  "0.0",
                  "1.0",
                  "0.0",
                  "0.0",
                  "1.0",
                  "0.0",
                  "1.0",
                  "0.0",
                  "0.0",
                  "0.0",
                  "0.0",
                  "0.0",
                  "0.0",
                  "0.0",
                  "0.0",
                  "1.0",
                  "0.0",
                  "0.0",
                  "1.0",
                  "0.0",
                  "0.8066532731426181",
                  "0.4147954308504094",
                  "0.059049211271495566",
                  "-0.3505067120325178",
                  "0.6899794434768245",
                  "0.7320213161611253",
                  "0.8597395240607818",
                  "0.7616876887984851",
                  "0.38711563995243287",
                  "-0.18002520529323507"
                ],
                [
                  "3",
                  "1.0",
                  "0.0",
                  "0.0",
                  "0.0",
                  "0.0",
                  "0.0",
                  "0.0",
                  "0.0",
                  "0.0",
                  "0.0",
                  "0.0",
                  "1.0",
                  "0.0",
                  "0.0",
                  "0.0",
                  "0.0",
                  "0.0",
                  "1.0",
                  "0.0",
                  "0.0",
                  "0.0",
                  "0.0",
                  "0.0",
                  "0.0",
                  "0.0",
                  "0.0",
                  "0.0",
                  "0.0",
                  "0.0",
                  "0.0",
                  "0.0",
                  "0.0",
                  "0.0",
                  "0.0",
                  "0.0",
                  "1.0",
                  "0.0",
                  "0.0",
                  "1.0",
                  "0.0",
                  "0.0",
                  "1.0",
                  "0.0",
                  "-0.9611622944425862",
                  "0.7500158835438764",
                  "0.059049211271495566",
                  "-0.3505067120325178",
                  "-0.05096475781200463",
                  "-0.5995586272982764",
                  "-0.3147244056012754",
                  "0.3499184670858446",
                  "0.4505092999180158",
                  "-0.18002520529323507"
                ],
                [
                  "4",
                  "0.0",
                  "0.0",
                  "0.0",
                  "0.0",
                  "0.0",
                  "0.0",
                  "0.0",
                  "1.0",
                  "0.0",
                  "0.0",
                  "0.0",
                  "0.0",
                  "0.0",
                  "0.0",
                  "0.0",
                  "0.0",
                  "0.0",
                  "0.0",
                  "0.0",
                  "1.0",
                  "0.0",
                  "0.0",
                  "0.0",
                  "0.0",
                  "1.0",
                  "0.0",
                  "1.0",
                  "0.0",
                  "0.0",
                  "1.0",
                  "0.0",
                  "0.0",
                  "0.0",
                  "0.0",
                  "0.0",
                  "0.0",
                  "0.0",
                  "0.0",
                  "0.0",
                  "1.0",
                  "0.0",
                  "1.0",
                  "0.0",
                  "-0.30986182217435304",
                  "-0.25564547453652464",
                  "0.059049211271495566",
                  "-0.3505067120325178",
                  "-1.1006357096378458",
                  "0.5341290827502898",
                  "0.1047269978494592",
                  "-1.5640251572061985",
                  "-2.0205227374903463",
                  "-0.18002520529323507"
                ]
              ],
              "shape": {
                "columns": 53,
                "rows": 5
              }
            },
            "text/html": [
              "<div>\n",
              "<style scoped>\n",
              "    .dataframe tbody tr th:only-of-type {\n",
              "        vertical-align: middle;\n",
              "    }\n",
              "\n",
              "    .dataframe tbody tr th {\n",
              "        vertical-align: top;\n",
              "    }\n",
              "\n",
              "    .dataframe thead th {\n",
              "        text-align: right;\n",
              "    }\n",
              "</style>\n",
              "<table border=\"1\" class=\"dataframe\">\n",
              "  <thead>\n",
              "    <tr style=\"text-align: right;\">\n",
              "      <th></th>\n",
              "      <th>job_blue-collar</th>\n",
              "      <th>job_entrepreneur</th>\n",
              "      <th>job_housemaid</th>\n",
              "      <th>job_management</th>\n",
              "      <th>job_retired</th>\n",
              "      <th>job_self-employed</th>\n",
              "      <th>job_services</th>\n",
              "      <th>job_student</th>\n",
              "      <th>job_technician</th>\n",
              "      <th>job_unemployed</th>\n",
              "      <th>...</th>\n",
              "      <th>age</th>\n",
              "      <th>campaign</th>\n",
              "      <th>pdays</th>\n",
              "      <th>previous</th>\n",
              "      <th>emp_var_rate</th>\n",
              "      <th>cons_price_idx</th>\n",
              "      <th>cons_conf_idx</th>\n",
              "      <th>euribor3m</th>\n",
              "      <th>nr_employed</th>\n",
              "      <th>pdays_contacted_status</th>\n",
              "    </tr>\n",
              "  </thead>\n",
              "  <tbody>\n",
              "    <tr>\n",
              "      <th>0</th>\n",
              "      <td>0.0</td>\n",
              "      <td>0.0</td>\n",
              "      <td>0.0</td>\n",
              "      <td>0.0</td>\n",
              "      <td>0.0</td>\n",
              "      <td>0.0</td>\n",
              "      <td>0.0</td>\n",
              "      <td>0.0</td>\n",
              "      <td>0.0</td>\n",
              "      <td>0.0</td>\n",
              "      <td>...</td>\n",
              "      <td>-1.426377</td>\n",
              "      <td>-0.590866</td>\n",
              "      <td>0.059049</td>\n",
              "      <td>-0.350507</td>\n",
              "      <td>-2.088561</td>\n",
              "      <td>-1.523615</td>\n",
              "      <td>2.181011</td>\n",
              "      <td>-1.555633</td>\n",
              "      <td>-1.904301</td>\n",
              "      <td>-0.180025</td>\n",
              "    </tr>\n",
              "    <tr>\n",
              "      <th>1</th>\n",
              "      <td>0.0</td>\n",
              "      <td>0.0</td>\n",
              "      <td>0.0</td>\n",
              "      <td>0.0</td>\n",
              "      <td>0.0</td>\n",
              "      <td>0.0</td>\n",
              "      <td>0.0</td>\n",
              "      <td>0.0</td>\n",
              "      <td>0.0</td>\n",
              "      <td>1.0</td>\n",
              "      <td>...</td>\n",
              "      <td>1.364911</td>\n",
              "      <td>-0.590866</td>\n",
              "      <td>0.059049</td>\n",
              "      <td>-0.350507</td>\n",
              "      <td>-2.088561</td>\n",
              "      <td>-1.889212</td>\n",
              "      <td>2.852134</td>\n",
              "      <td>-1.547801</td>\n",
              "      <td>-1.904301</td>\n",
              "      <td>-0.180025</td>\n",
              "    </tr>\n",
              "    <tr>\n",
              "      <th>2</th>\n",
              "      <td>1.0</td>\n",
              "      <td>0.0</td>\n",
              "      <td>0.0</td>\n",
              "      <td>0.0</td>\n",
              "      <td>0.0</td>\n",
              "      <td>0.0</td>\n",
              "      <td>0.0</td>\n",
              "      <td>0.0</td>\n",
              "      <td>0.0</td>\n",
              "      <td>0.0</td>\n",
              "      <td>...</td>\n",
              "      <td>0.806653</td>\n",
              "      <td>0.414795</td>\n",
              "      <td>0.059049</td>\n",
              "      <td>-0.350507</td>\n",
              "      <td>0.689979</td>\n",
              "      <td>0.732021</td>\n",
              "      <td>0.859740</td>\n",
              "      <td>0.761688</td>\n",
              "      <td>0.387116</td>\n",
              "      <td>-0.180025</td>\n",
              "    </tr>\n",
              "    <tr>\n",
              "      <th>3</th>\n",
              "      <td>1.0</td>\n",
              "      <td>0.0</td>\n",
              "      <td>0.0</td>\n",
              "      <td>0.0</td>\n",
              "      <td>0.0</td>\n",
              "      <td>0.0</td>\n",
              "      <td>0.0</td>\n",
              "      <td>0.0</td>\n",
              "      <td>0.0</td>\n",
              "      <td>0.0</td>\n",
              "      <td>...</td>\n",
              "      <td>-0.961162</td>\n",
              "      <td>0.750016</td>\n",
              "      <td>0.059049</td>\n",
              "      <td>-0.350507</td>\n",
              "      <td>-0.050965</td>\n",
              "      <td>-0.599559</td>\n",
              "      <td>-0.314724</td>\n",
              "      <td>0.349918</td>\n",
              "      <td>0.450509</td>\n",
              "      <td>-0.180025</td>\n",
              "    </tr>\n",
              "    <tr>\n",
              "      <th>4</th>\n",
              "      <td>0.0</td>\n",
              "      <td>0.0</td>\n",
              "      <td>0.0</td>\n",
              "      <td>0.0</td>\n",
              "      <td>0.0</td>\n",
              "      <td>0.0</td>\n",
              "      <td>0.0</td>\n",
              "      <td>1.0</td>\n",
              "      <td>0.0</td>\n",
              "      <td>0.0</td>\n",
              "      <td>...</td>\n",
              "      <td>-0.309862</td>\n",
              "      <td>-0.255645</td>\n",
              "      <td>0.059049</td>\n",
              "      <td>-0.350507</td>\n",
              "      <td>-1.100636</td>\n",
              "      <td>0.534129</td>\n",
              "      <td>0.104727</td>\n",
              "      <td>-1.564025</td>\n",
              "      <td>-2.020523</td>\n",
              "      <td>-0.180025</td>\n",
              "    </tr>\n",
              "  </tbody>\n",
              "</table>\n",
              "<p>5 rows × 53 columns</p>\n",
              "</div>"
            ],
            "text/plain": [
              "   job_blue-collar  job_entrepreneur  job_housemaid  job_management  \\\n",
              "0              0.0               0.0            0.0             0.0   \n",
              "1              0.0               0.0            0.0             0.0   \n",
              "2              1.0               0.0            0.0             0.0   \n",
              "3              1.0               0.0            0.0             0.0   \n",
              "4              0.0               0.0            0.0             0.0   \n",
              "\n",
              "   job_retired  job_self-employed  job_services  job_student  job_technician  \\\n",
              "0          0.0                0.0           0.0          0.0             0.0   \n",
              "1          0.0                0.0           0.0          0.0             0.0   \n",
              "2          0.0                0.0           0.0          0.0             0.0   \n",
              "3          0.0                0.0           0.0          0.0             0.0   \n",
              "4          0.0                0.0           0.0          1.0             0.0   \n",
              "\n",
              "   job_unemployed  ...       age  campaign     pdays  previous  emp_var_rate  \\\n",
              "0             0.0  ... -1.426377 -0.590866  0.059049 -0.350507     -2.088561   \n",
              "1             1.0  ...  1.364911 -0.590866  0.059049 -0.350507     -2.088561   \n",
              "2             0.0  ...  0.806653  0.414795  0.059049 -0.350507      0.689979   \n",
              "3             0.0  ... -0.961162  0.750016  0.059049 -0.350507     -0.050965   \n",
              "4             0.0  ... -0.309862 -0.255645  0.059049 -0.350507     -1.100636   \n",
              "\n",
              "   cons_price_idx  cons_conf_idx  euribor3m  nr_employed  \\\n",
              "0       -1.523615       2.181011  -1.555633    -1.904301   \n",
              "1       -1.889212       2.852134  -1.547801    -1.904301   \n",
              "2        0.732021       0.859740   0.761688     0.387116   \n",
              "3       -0.599559      -0.314724   0.349918     0.450509   \n",
              "4        0.534129       0.104727  -1.564025    -2.020523   \n",
              "\n",
              "   pdays_contacted_status  \n",
              "0               -0.180025  \n",
              "1               -0.180025  \n",
              "2               -0.180025  \n",
              "3               -0.180025  \n",
              "4               -0.180025  \n",
              "\n",
              "[5 rows x 53 columns]"
            ]
          },
          "execution_count": 362,
          "metadata": {},
          "output_type": "execute_result"
        }
      ],
      "source": [
        "# for validation purposes\n",
        "new_data = full_pipeline_preprocessing.fit_transform(x_train)\n",
        "# cat_names is a numpy array\n",
        "cat_names = full_pipeline_preprocessing.get_params()[\"cat_pipeline\"][3].get_feature_names_out().tolist()\n",
        "# num_names is a list\n",
        "num_names = full_pipeline_preprocessing.get_params()[\"num_pipeline\"][2].get_feature_names_out()\n",
        "df = pd.DataFrame(new_data,columns = cat_names + num_names)\n",
        "df.head()"
      ]
    },
    {
      "cell_type": "code",
      "execution_count": 363,
      "metadata": {
        "colab": {
          "base_uri": "https://localhost:8080/"
        },
        "id": "Y33lLBHjgLys",
        "outputId": "cacdaae9-1cd4-4cfa-d700-62ddbecdfe19"
      },
      "outputs": [
        {
          "data": {
            "text/plain": [
              "(20069, 53)"
            ]
          },
          "execution_count": 363,
          "metadata": {},
          "output_type": "execute_result"
        }
      ],
      "source": [
        "df.shape"
      ]
    },
    {
      "cell_type": "code",
      "execution_count": 364,
      "metadata": {
        "colab": {
          "base_uri": "https://localhost:8080/"
        },
        "id": "8Efr1QcjgQR8",
        "outputId": "01c4ca1a-0aba-4a08-e4c6-a7ca0ebb6c2e"
      },
      "outputs": [
        {
          "data": {
            "application/vnd.microsoft.datawrangler.viewer.v0+json": {
              "columns": [
                {
                  "name": "index",
                  "rawType": "int64",
                  "type": "integer"
                },
                {
                  "name": "age",
                  "rawType": "float64",
                  "type": "float"
                },
                {
                  "name": "job",
                  "rawType": "object",
                  "type": "string"
                },
                {
                  "name": "marital",
                  "rawType": "object",
                  "type": "string"
                },
                {
                  "name": "education",
                  "rawType": "object",
                  "type": "string"
                },
                {
                  "name": "default",
                  "rawType": "object",
                  "type": "string"
                },
                {
                  "name": "housing",
                  "rawType": "object",
                  "type": "string"
                },
                {
                  "name": "loan",
                  "rawType": "object",
                  "type": "string"
                },
                {
                  "name": "contact",
                  "rawType": "object",
                  "type": "string"
                },
                {
                  "name": "month",
                  "rawType": "object",
                  "type": "string"
                },
                {
                  "name": "day_of_week",
                  "rawType": "object",
                  "type": "string"
                },
                {
                  "name": "campaign",
                  "rawType": "float64",
                  "type": "float"
                },
                {
                  "name": "pdays",
                  "rawType": "float64",
                  "type": "float"
                },
                {
                  "name": "previous",
                  "rawType": "float64",
                  "type": "float"
                },
                {
                  "name": "poutcome",
                  "rawType": "object",
                  "type": "string"
                },
                {
                  "name": "emp_var_rate",
                  "rawType": "float64",
                  "type": "float"
                },
                {
                  "name": "cons_price_idx",
                  "rawType": "float64",
                  "type": "float"
                },
                {
                  "name": "cons_conf_idx",
                  "rawType": "float64",
                  "type": "float"
                },
                {
                  "name": "euribor3m",
                  "rawType": "float64",
                  "type": "float"
                },
                {
                  "name": "nr_employed",
                  "rawType": "float64",
                  "type": "float"
                },
                {
                  "name": "pdays_contacted_status",
                  "rawType": "float64",
                  "type": "float"
                }
              ],
              "conversionMethod": "pd.DataFrame",
              "ref": "1aa14aec-9143-47dc-9546-43f7d88fe2dc",
              "rows": [
                [
                  "7234",
                  "25.0",
                  "admin",
                  "married",
                  "unknown",
                  "no",
                  "no",
                  "no",
                  "cellular",
                  "nov",
                  "thu",
                  "1.0",
                  "6.0",
                  "0.0",
                  "nonexistent",
                  "-3.4",
                  "92.649",
                  "-30.1",
                  "0.714",
                  "5017.5",
                  "0.0"
                ],
                [
                  "19855",
                  "55.0",
                  "unemployed",
                  "married",
                  "basic 9y",
                  "no",
                  "yes",
                  "no",
                  "cellular",
                  "oct",
                  "tue",
                  "1.0",
                  "6.0",
                  "0.0",
                  "nonexistent",
                  "-3.4",
                  "92.431",
                  "-26.9",
                  "0.728",
                  "5017.5",
                  "0.0"
                ],
                [
                  "19351",
                  "49.0",
                  "blue-collar",
                  "single",
                  "basic 6y",
                  "no",
                  "yes",
                  "no",
                  "telephone",
                  "may",
                  "wed",
                  "4.0",
                  "6.0",
                  "0.0",
                  "nonexistent",
                  "1.1",
                  "93.994",
                  "-36.4",
                  "4.856",
                  "5191.0",
                  "0.0"
                ],
                [
                  "7106",
                  "30.0",
                  "blue-collar",
                  "married",
                  "basic 9y",
                  "no",
                  "no",
                  "no",
                  "cellular",
                  "nov",
                  "wed",
                  "5.0",
                  "6.0",
                  "0.0",
                  "nonexistent",
                  "-0.1",
                  "93.2",
                  "-42.0",
                  "4.12",
                  "5195.8",
                  "0.0"
                ],
                [
                  "24031",
                  "37.0",
                  "student",
                  "divorced",
                  "university degree",
                  "no",
                  "yes",
                  "yes",
                  "cellular",
                  "may",
                  "thu",
                  "2.0",
                  "6.0",
                  "0.0",
                  "nonexistent",
                  "-1.8",
                  "93.876",
                  "-40.0",
                  "0.699",
                  "5008.7",
                  "0.0"
                ],
                [
                  "6685",
                  "38.0",
                  "admin",
                  "single",
                  "university degree",
                  "no",
                  "yes",
                  "no",
                  "telephone",
                  "jul",
                  "mon",
                  "2.0",
                  "6.0",
                  "0.0",
                  "nonexistent",
                  "-2.9",
                  "92.469",
                  "-33.6",
                  "0.914",
                  "5076.2",
                  "0.0"
                ],
                [
                  "27059",
                  "36.0",
                  "technician",
                  "married",
                  "professional course",
                  "no",
                  "no",
                  "no",
                  "telephone",
                  "may",
                  "tue",
                  "1.0",
                  "6.0",
                  "0.0",
                  "nonexistent",
                  "1.1",
                  "93.994",
                  "-36.4",
                  "4.856",
                  "5191.0",
                  "0.0"
                ],
                [
                  "26261",
                  "29.0",
                  "admin",
                  "single",
                  "high school",
                  "no",
                  "yes",
                  "no",
                  "cellular",
                  "may",
                  "thu",
                  "2.0",
                  "6.0",
                  "0.0",
                  "nonexistent",
                  "-1.8",
                  "92.893",
                  "-46.2",
                  "1.266",
                  "5099.1",
                  "0.0"
                ],
                [
                  "14623",
                  "42.0",
                  "blue-collar",
                  "single",
                  "basic 9y",
                  "no",
                  "no",
                  "no",
                  "telephone",
                  "jun",
                  "mon",
                  "5.0",
                  "6.0",
                  "0.0",
                  "nonexistent",
                  "1.4",
                  "94.465",
                  "-41.8",
                  "4.961",
                  "5228.1",
                  "0.0"
                ],
                [
                  "13723",
                  "60.0",
                  "retired",
                  "married",
                  "high school",
                  "no",
                  "no",
                  "no",
                  "cellular",
                  "aug",
                  "tue",
                  "1.0",
                  "4.0",
                  "1.0",
                  "success",
                  "-2.9",
                  "92.201",
                  "-31.4",
                  "0.883",
                  "5076.2",
                  "1.0"
                ],
                [
                  "30265",
                  "44.0",
                  "blue-collar",
                  "married",
                  "high school",
                  "no",
                  "yes",
                  "no",
                  "cellular",
                  "may",
                  "fri",
                  "2.0",
                  "6.0",
                  "1.0",
                  "failure",
                  "-1.8",
                  "92.893",
                  "-46.2",
                  "1.25",
                  "5099.1",
                  "0.0"
                ],
                [
                  "7414",
                  "54.0",
                  "unemployed",
                  "married",
                  "basic 9y",
                  "no",
                  "yes",
                  "no",
                  "cellular",
                  "oct",
                  "wed",
                  "1.0",
                  "6.0",
                  "0.0",
                  "nonexistent",
                  "-3.4",
                  "92.431",
                  "-26.9",
                  "0.735",
                  "5017.5",
                  "0.0"
                ],
                [
                  "5363",
                  "45.0",
                  "admin",
                  "married",
                  "basic 6y",
                  "unknown",
                  "yes",
                  "no",
                  "telephone",
                  "may",
                  "thu",
                  "1.0",
                  "6.0",
                  "0.0",
                  "nonexistent",
                  "1.1",
                  "93.994",
                  "-36.4",
                  "4.86",
                  "5191.0",
                  "0.0"
                ],
                [
                  "26557",
                  "34.0",
                  "services",
                  "divorced",
                  "high school",
                  "no",
                  "yes",
                  "yes",
                  "cellular",
                  "may",
                  "fri",
                  "2.0",
                  "6.0",
                  "0.0",
                  "nonexistent",
                  "-1.8",
                  "92.893",
                  "-46.2",
                  "1.25",
                  "5099.1",
                  "0.0"
                ],
                [
                  "29475",
                  "31.0",
                  "blue-collar",
                  "married",
                  "basic 9y",
                  "no",
                  "yes",
                  "yes",
                  "cellular",
                  "jul",
                  "wed",
                  "1.0",
                  "6.0",
                  "0.0",
                  "nonexistent",
                  "1.4",
                  "93.918",
                  "-42.7",
                  "4.957",
                  "5228.1",
                  "0.0"
                ],
                [
                  "21357",
                  "32.0",
                  "admin",
                  "single",
                  "university degree",
                  "no",
                  "yes",
                  "no",
                  "cellular",
                  "oct",
                  "fri",
                  "1.0",
                  "6.0",
                  "3.0",
                  "failure",
                  "-1.1",
                  "94.601",
                  "-49.5",
                  "0.942",
                  "4963.6",
                  "0.0"
                ],
                [
                  "13512",
                  "31.0",
                  "admin",
                  "single",
                  "university degree",
                  "no",
                  "yes",
                  "no",
                  "cellular",
                  "aug",
                  "tue",
                  "1.0",
                  "6.0",
                  "0.0",
                  "nonexistent",
                  "1.4",
                  "93.444",
                  "-36.1",
                  "4.966",
                  "5228.1",
                  "0.0"
                ],
                [
                  "12788",
                  "46.0",
                  "admin",
                  "married",
                  "high school",
                  "no",
                  "yes",
                  "no",
                  "telephone",
                  "jun",
                  "fri",
                  "3.0",
                  "6.0",
                  "0.0",
                  "nonexistent",
                  "1.4",
                  "94.465",
                  "-41.8",
                  "4.959",
                  "5228.1",
                  "0.0"
                ],
                [
                  "10540",
                  "32.0",
                  "admin",
                  "married",
                  "high school",
                  "no",
                  "yes",
                  "no",
                  "cellular",
                  "may",
                  "mon",
                  "2.0",
                  "6.0",
                  "0.0",
                  "nonexistent",
                  "-1.8",
                  "92.893",
                  "-46.2",
                  "1.244",
                  "5099.1",
                  "0.0"
                ],
                [
                  "22259",
                  "27.0",
                  "blue-collar",
                  "married",
                  "basic 4y",
                  "unknown",
                  "no",
                  "no",
                  "telephone",
                  "may",
                  "thu",
                  "7.0",
                  "6.0",
                  "0.0",
                  "nonexistent",
                  "1.1",
                  "93.994",
                  "-36.4",
                  "4.86",
                  "5191.0",
                  "0.0"
                ],
                [
                  "7192",
                  "47.0",
                  "blue-collar",
                  "married",
                  "basic 4y",
                  "no",
                  "unknown",
                  "unknown",
                  "telephone",
                  "may",
                  "mon",
                  "8.0",
                  "6.0",
                  "0.0",
                  "nonexistent",
                  "1.1",
                  "93.994",
                  "-36.4",
                  "4.857",
                  "5191.0",
                  "0.0"
                ],
                [
                  "19618",
                  "64.0",
                  "technician",
                  "married",
                  "professional course",
                  "no",
                  "yes",
                  "no",
                  "cellular",
                  "apr",
                  "wed",
                  "1.0",
                  "6.0",
                  "0.0",
                  "nonexistent",
                  "-1.8",
                  "93.075",
                  "-47.1",
                  "1.445",
                  "5099.1",
                  "0.0"
                ],
                [
                  "17434",
                  "51.0",
                  "blue-collar",
                  "married",
                  "unknown",
                  "unknown",
                  "yes",
                  "no",
                  "telephone",
                  "may",
                  "mon",
                  "1.0",
                  "6.0",
                  "0.0",
                  "nonexistent",
                  "1.1",
                  "93.994",
                  "-36.4",
                  "4.857",
                  "5191.0",
                  "0.0"
                ],
                [
                  "7961",
                  "38.0",
                  "self-employed",
                  "married",
                  "basic 9y",
                  "no",
                  "yes",
                  "no",
                  "telephone",
                  "may",
                  "fri",
                  "5.0",
                  "6.0",
                  "0.0",
                  "nonexistent",
                  "1.1",
                  "93.994",
                  "-36.4",
                  "4.864",
                  "5191.0",
                  "0.0"
                ],
                [
                  "25041",
                  "23.0",
                  "blue-collar",
                  "single",
                  "basic 4y",
                  "no",
                  "yes",
                  "no",
                  "cellular",
                  "may",
                  "fri",
                  "2.0",
                  "6.0",
                  "0.0",
                  "nonexistent",
                  "-1.8",
                  "92.893",
                  "-46.2",
                  "1.25",
                  "5099.1",
                  "0.0"
                ],
                [
                  "14664",
                  "29.0",
                  "admin",
                  "single",
                  "university degree",
                  "no",
                  "yes",
                  "yes",
                  "cellular",
                  "aug",
                  "wed",
                  "1.0",
                  "6.0",
                  "0.0",
                  "nonexistent",
                  "1.4",
                  "93.444",
                  "-36.1",
                  "4.964",
                  "5228.1",
                  "0.0"
                ],
                [
                  "29911",
                  "52.0",
                  "services",
                  "married",
                  "high school",
                  "no",
                  "yes",
                  "no",
                  "telephone",
                  "may",
                  "tue",
                  "4.0",
                  "6.0",
                  "0.0",
                  "nonexistent",
                  "-1.8",
                  "92.893",
                  "-46.2",
                  "1.266",
                  "5099.1",
                  "0.0"
                ],
                [
                  "14518",
                  "42.0",
                  "blue-collar",
                  "married",
                  "basic 6y",
                  "no",
                  "no",
                  "no",
                  "telephone",
                  "may",
                  "mon",
                  "3.0",
                  "6.0",
                  "0.0",
                  "nonexistent",
                  "1.1",
                  "93.994",
                  "-36.4",
                  "4.857",
                  "5191.0",
                  "0.0"
                ],
                [
                  "31145",
                  "34.0",
                  "unemployed",
                  "single",
                  "university degree",
                  "no",
                  "no",
                  "no",
                  "cellular",
                  "jun",
                  "tue",
                  "1.0",
                  "6.0",
                  "0.0",
                  "nonexistent",
                  "-1.7",
                  "94.055",
                  "-39.8",
                  "0.761",
                  "4991.6",
                  "0.0"
                ],
                [
                  "4972",
                  "43.0",
                  "admin",
                  "single",
                  "university degree",
                  "no",
                  "yes",
                  "no",
                  "cellular",
                  "aug",
                  "tue",
                  "2.0",
                  "6.0",
                  "0.0",
                  "nonexistent",
                  "1.4",
                  "93.444",
                  "-36.1",
                  "4.968",
                  "5228.1",
                  "0.0"
                ],
                [
                  "27083",
                  "51.0",
                  "services",
                  "divorced",
                  "high school",
                  "no",
                  "no",
                  "no",
                  "telephone",
                  "nov",
                  "tue",
                  "1.0",
                  "6.0",
                  "0.0",
                  "nonexistent",
                  "-0.1",
                  "93.2",
                  "-42.0",
                  "4.153",
                  "5195.8",
                  "0.0"
                ],
                [
                  "9439",
                  "40.0",
                  "services",
                  "married",
                  "professional course",
                  "no",
                  "yes",
                  "no",
                  "cellular",
                  "oct",
                  "thu",
                  "1.0",
                  "3.0",
                  "1.0",
                  "success",
                  "-3.4",
                  "92.431",
                  "-26.9",
                  "0.74",
                  "5017.5",
                  "1.0"
                ],
                [
                  "27410",
                  "35.0",
                  "technician",
                  "single",
                  "professional course",
                  "no",
                  "yes",
                  "no",
                  "cellular",
                  "may",
                  "mon",
                  "4.0",
                  "6.0",
                  "0.0",
                  "nonexistent",
                  "-1.8",
                  "92.893",
                  "-46.2",
                  "1.244",
                  "5099.1",
                  "0.0"
                ],
                [
                  "27659",
                  "29.0",
                  "unemployed",
                  "single",
                  "university degree",
                  "no",
                  "no",
                  "no",
                  "telephone",
                  "may",
                  "thu",
                  "1.0",
                  "6.0",
                  "0.0",
                  "nonexistent",
                  "1.1",
                  "93.994",
                  "-36.4",
                  "4.86",
                  "5191.0",
                  "0.0"
                ],
                [
                  "21205",
                  "25.0",
                  "admin",
                  "married",
                  "high school",
                  "no",
                  "no",
                  "yes",
                  "cellular",
                  "jul",
                  "mon",
                  "1.0",
                  "6.0",
                  "0.0",
                  "nonexistent",
                  "1.4",
                  "93.918",
                  "-42.7",
                  "4.96",
                  "5228.1",
                  "0.0"
                ],
                [
                  "2565",
                  "53.0",
                  "technician",
                  "married",
                  "professional course",
                  "unknown",
                  "yes",
                  "no",
                  "telephone",
                  "may",
                  "tue",
                  "1.0",
                  "6.0",
                  "0.0",
                  "nonexistent",
                  "1.1",
                  "93.994",
                  "-36.4",
                  "4.856",
                  "5191.0",
                  "0.0"
                ],
                [
                  "27341",
                  "54.0",
                  "housemaid",
                  "divorced",
                  "basic 4y",
                  "unknown",
                  "yes",
                  "no",
                  "telephone",
                  "jun",
                  "fri",
                  "3.0",
                  "6.0",
                  "0.0",
                  "nonexistent",
                  "1.4",
                  "94.465",
                  "-41.8",
                  "4.959",
                  "5228.1",
                  "0.0"
                ],
                [
                  "20762",
                  "36.0",
                  "admin",
                  "single",
                  "university degree",
                  "no",
                  "yes",
                  "yes",
                  "telephone",
                  "jun",
                  "tue",
                  "3.0",
                  "6.0",
                  "0.0",
                  "nonexistent",
                  "1.4",
                  "94.465",
                  "-41.8",
                  "4.864",
                  "5228.1",
                  "0.0"
                ],
                [
                  "27587",
                  "34.0",
                  "admin",
                  "married",
                  "university degree",
                  "no",
                  "yes",
                  "no",
                  "telephone",
                  "aug",
                  "thu",
                  "1.0",
                  "6.0",
                  "0.0",
                  "nonexistent",
                  "1.4",
                  "93.444",
                  "-36.1",
                  "4.964",
                  "5228.1",
                  "0.0"
                ],
                [
                  "6682",
                  "34.0",
                  "services",
                  "married",
                  "basic 4y",
                  "no",
                  "yes",
                  "no",
                  "cellular",
                  "nov",
                  "thu",
                  "1.0",
                  "6.0",
                  "0.0",
                  "nonexistent",
                  "-0.1",
                  "93.2",
                  "-42.0",
                  "4.076",
                  "5195.8",
                  "0.0"
                ],
                [
                  "20029",
                  "76.0",
                  "retired",
                  "married",
                  "basic 4y",
                  "no",
                  "yes",
                  "no",
                  "cellular",
                  "aug",
                  "thu",
                  "1.0",
                  "6.0",
                  "0.0",
                  "nonexistent",
                  "-2.9",
                  "92.201",
                  "-31.4",
                  "0.883",
                  "5076.2",
                  "0.0"
                ],
                [
                  "8075",
                  "33.0",
                  "technician",
                  "married",
                  "university degree",
                  "no",
                  "yes",
                  "no",
                  "telephone",
                  "sep",
                  "wed",
                  "1.0",
                  "6.0",
                  "1.0",
                  "failure",
                  "-1.1",
                  "94.199",
                  "-37.5",
                  "0.876",
                  "4963.6",
                  "0.0"
                ],
                [
                  "16239",
                  "59.0",
                  "management",
                  "married",
                  "university degree",
                  "no",
                  "no",
                  "no",
                  "cellular",
                  "dec",
                  "thu",
                  "4.0",
                  "6.0",
                  "1.0",
                  "failure",
                  "-3.0",
                  "92.713",
                  "-33.0",
                  "0.7",
                  "5023.5",
                  "0.0"
                ],
                [
                  "21679",
                  "38.0",
                  "blue-collar",
                  "married",
                  "high school",
                  "no",
                  "no",
                  "no",
                  "telephone",
                  "jun",
                  "thu",
                  "2.0",
                  "6.0",
                  "0.0",
                  "nonexistent",
                  "1.4",
                  "94.465",
                  "-41.8",
                  "4.866",
                  "5228.1",
                  "0.0"
                ],
                [
                  "18038",
                  "33.0",
                  "admin",
                  "married",
                  "university degree",
                  "no",
                  "yes",
                  "no",
                  "telephone",
                  "jun",
                  "wed",
                  "1.0",
                  "6.0",
                  "0.0",
                  "nonexistent",
                  "1.4",
                  "94.465",
                  "-41.8",
                  "4.864",
                  "5228.1",
                  "0.0"
                ],
                [
                  "17464",
                  "37.0",
                  "technician",
                  "single",
                  "high school",
                  "no",
                  "yes",
                  "no",
                  "cellular",
                  "aug",
                  "wed",
                  "1.0",
                  "6.0",
                  "0.0",
                  "nonexistent",
                  "1.4",
                  "93.444",
                  "-36.1",
                  "4.967",
                  "5228.1",
                  "0.0"
                ],
                [
                  "15457",
                  "36.0",
                  "entrepreneur",
                  "single",
                  "university degree",
                  "no",
                  "yes",
                  "no",
                  "cellular",
                  "nov",
                  "wed",
                  "1.0",
                  "6.0",
                  "0.0",
                  "nonexistent",
                  "-0.1",
                  "93.2",
                  "-42.0",
                  "4.12",
                  "5195.8",
                  "0.0"
                ],
                [
                  "17017",
                  "37.0",
                  "blue-collar",
                  "married",
                  "basic 6y",
                  "unknown",
                  "no",
                  "yes",
                  "telephone",
                  "may",
                  "fri",
                  "5.0",
                  "6.0",
                  "0.0",
                  "nonexistent",
                  "1.1",
                  "93.994",
                  "-36.4",
                  "4.857",
                  "5191.0",
                  "0.0"
                ],
                [
                  "21230",
                  "32.0",
                  "services",
                  "married",
                  "high school",
                  "no",
                  "yes",
                  "yes",
                  "cellular",
                  "apr",
                  "mon",
                  "6.0",
                  "6.0",
                  "1.0",
                  "failure",
                  "-1.8",
                  "93.075",
                  "-47.1",
                  "1.405",
                  "5099.1",
                  "0.0"
                ],
                [
                  "27134",
                  "39.0",
                  "technician",
                  "married",
                  "professional course",
                  "no",
                  "no",
                  "no",
                  "cellular",
                  "may",
                  "thu",
                  "8.0",
                  "6.0",
                  "0.0",
                  "nonexistent",
                  "-1.8",
                  "92.893",
                  "-46.2",
                  "1.327",
                  "5099.1",
                  "0.0"
                ]
              ],
              "shape": {
                "columns": 20,
                "rows": 20069
              }
            },
            "text/html": [
              "<div>\n",
              "<style scoped>\n",
              "    .dataframe tbody tr th:only-of-type {\n",
              "        vertical-align: middle;\n",
              "    }\n",
              "\n",
              "    .dataframe tbody tr th {\n",
              "        vertical-align: top;\n",
              "    }\n",
              "\n",
              "    .dataframe thead th {\n",
              "        text-align: right;\n",
              "    }\n",
              "</style>\n",
              "<table border=\"1\" class=\"dataframe\">\n",
              "  <thead>\n",
              "    <tr style=\"text-align: right;\">\n",
              "      <th></th>\n",
              "      <th>age</th>\n",
              "      <th>job</th>\n",
              "      <th>marital</th>\n",
              "      <th>education</th>\n",
              "      <th>default</th>\n",
              "      <th>housing</th>\n",
              "      <th>loan</th>\n",
              "      <th>contact</th>\n",
              "      <th>month</th>\n",
              "      <th>day_of_week</th>\n",
              "      <th>campaign</th>\n",
              "      <th>pdays</th>\n",
              "      <th>previous</th>\n",
              "      <th>poutcome</th>\n",
              "      <th>emp_var_rate</th>\n",
              "      <th>cons_price_idx</th>\n",
              "      <th>cons_conf_idx</th>\n",
              "      <th>euribor3m</th>\n",
              "      <th>nr_employed</th>\n",
              "      <th>pdays_contacted_status</th>\n",
              "    </tr>\n",
              "  </thead>\n",
              "  <tbody>\n",
              "    <tr>\n",
              "      <th>7234</th>\n",
              "      <td>25.0</td>\n",
              "      <td>admin</td>\n",
              "      <td>married</td>\n",
              "      <td>unknown</td>\n",
              "      <td>no</td>\n",
              "      <td>no</td>\n",
              "      <td>no</td>\n",
              "      <td>cellular</td>\n",
              "      <td>nov</td>\n",
              "      <td>thu</td>\n",
              "      <td>1.0</td>\n",
              "      <td>6.0</td>\n",
              "      <td>0.0</td>\n",
              "      <td>nonexistent</td>\n",
              "      <td>-3.4</td>\n",
              "      <td>92.649</td>\n",
              "      <td>-30.1</td>\n",
              "      <td>0.714</td>\n",
              "      <td>5017.5</td>\n",
              "      <td>0.0</td>\n",
              "    </tr>\n",
              "    <tr>\n",
              "      <th>19855</th>\n",
              "      <td>55.0</td>\n",
              "      <td>unemployed</td>\n",
              "      <td>married</td>\n",
              "      <td>basic 9y</td>\n",
              "      <td>no</td>\n",
              "      <td>yes</td>\n",
              "      <td>no</td>\n",
              "      <td>cellular</td>\n",
              "      <td>oct</td>\n",
              "      <td>tue</td>\n",
              "      <td>1.0</td>\n",
              "      <td>6.0</td>\n",
              "      <td>0.0</td>\n",
              "      <td>nonexistent</td>\n",
              "      <td>-3.4</td>\n",
              "      <td>92.431</td>\n",
              "      <td>-26.9</td>\n",
              "      <td>0.728</td>\n",
              "      <td>5017.5</td>\n",
              "      <td>0.0</td>\n",
              "    </tr>\n",
              "    <tr>\n",
              "      <th>19351</th>\n",
              "      <td>49.0</td>\n",
              "      <td>blue-collar</td>\n",
              "      <td>single</td>\n",
              "      <td>basic 6y</td>\n",
              "      <td>no</td>\n",
              "      <td>yes</td>\n",
              "      <td>no</td>\n",
              "      <td>telephone</td>\n",
              "      <td>may</td>\n",
              "      <td>wed</td>\n",
              "      <td>4.0</td>\n",
              "      <td>6.0</td>\n",
              "      <td>0.0</td>\n",
              "      <td>nonexistent</td>\n",
              "      <td>1.1</td>\n",
              "      <td>93.994</td>\n",
              "      <td>-36.4</td>\n",
              "      <td>4.856</td>\n",
              "      <td>5191.0</td>\n",
              "      <td>0.0</td>\n",
              "    </tr>\n",
              "    <tr>\n",
              "      <th>7106</th>\n",
              "      <td>30.0</td>\n",
              "      <td>blue-collar</td>\n",
              "      <td>married</td>\n",
              "      <td>basic 9y</td>\n",
              "      <td>no</td>\n",
              "      <td>no</td>\n",
              "      <td>no</td>\n",
              "      <td>cellular</td>\n",
              "      <td>nov</td>\n",
              "      <td>wed</td>\n",
              "      <td>5.0</td>\n",
              "      <td>6.0</td>\n",
              "      <td>0.0</td>\n",
              "      <td>nonexistent</td>\n",
              "      <td>-0.1</td>\n",
              "      <td>93.200</td>\n",
              "      <td>-42.0</td>\n",
              "      <td>4.120</td>\n",
              "      <td>5195.8</td>\n",
              "      <td>0.0</td>\n",
              "    </tr>\n",
              "    <tr>\n",
              "      <th>24031</th>\n",
              "      <td>37.0</td>\n",
              "      <td>student</td>\n",
              "      <td>divorced</td>\n",
              "      <td>university degree</td>\n",
              "      <td>no</td>\n",
              "      <td>yes</td>\n",
              "      <td>yes</td>\n",
              "      <td>cellular</td>\n",
              "      <td>may</td>\n",
              "      <td>thu</td>\n",
              "      <td>2.0</td>\n",
              "      <td>6.0</td>\n",
              "      <td>0.0</td>\n",
              "      <td>nonexistent</td>\n",
              "      <td>-1.8</td>\n",
              "      <td>93.876</td>\n",
              "      <td>-40.0</td>\n",
              "      <td>0.699</td>\n",
              "      <td>5008.7</td>\n",
              "      <td>0.0</td>\n",
              "    </tr>\n",
              "    <tr>\n",
              "      <th>...</th>\n",
              "      <td>...</td>\n",
              "      <td>...</td>\n",
              "      <td>...</td>\n",
              "      <td>...</td>\n",
              "      <td>...</td>\n",
              "      <td>...</td>\n",
              "      <td>...</td>\n",
              "      <td>...</td>\n",
              "      <td>...</td>\n",
              "      <td>...</td>\n",
              "      <td>...</td>\n",
              "      <td>...</td>\n",
              "      <td>...</td>\n",
              "      <td>...</td>\n",
              "      <td>...</td>\n",
              "      <td>...</td>\n",
              "      <td>...</td>\n",
              "      <td>...</td>\n",
              "      <td>...</td>\n",
              "      <td>...</td>\n",
              "    </tr>\n",
              "    <tr>\n",
              "      <th>17441</th>\n",
              "      <td>49.0</td>\n",
              "      <td>technician</td>\n",
              "      <td>married</td>\n",
              "      <td>professional course</td>\n",
              "      <td>unknown</td>\n",
              "      <td>yes</td>\n",
              "      <td>no</td>\n",
              "      <td>telephone</td>\n",
              "      <td>jun</td>\n",
              "      <td>wed</td>\n",
              "      <td>13.0</td>\n",
              "      <td>6.0</td>\n",
              "      <td>0.0</td>\n",
              "      <td>nonexistent</td>\n",
              "      <td>1.4</td>\n",
              "      <td>94.465</td>\n",
              "      <td>-41.8</td>\n",
              "      <td>4.962</td>\n",
              "      <td>5228.1</td>\n",
              "      <td>0.0</td>\n",
              "    </tr>\n",
              "    <tr>\n",
              "      <th>9591</th>\n",
              "      <td>47.0</td>\n",
              "      <td>blue-collar</td>\n",
              "      <td>married</td>\n",
              "      <td>basic 4y</td>\n",
              "      <td>unknown</td>\n",
              "      <td>unknown</td>\n",
              "      <td>unknown</td>\n",
              "      <td>telephone</td>\n",
              "      <td>may</td>\n",
              "      <td>tue</td>\n",
              "      <td>2.0</td>\n",
              "      <td>6.0</td>\n",
              "      <td>0.0</td>\n",
              "      <td>nonexistent</td>\n",
              "      <td>1.1</td>\n",
              "      <td>93.994</td>\n",
              "      <td>-36.4</td>\n",
              "      <td>4.857</td>\n",
              "      <td>5191.0</td>\n",
              "      <td>0.0</td>\n",
              "    </tr>\n",
              "    <tr>\n",
              "      <th>20180</th>\n",
              "      <td>46.0</td>\n",
              "      <td>admin</td>\n",
              "      <td>single</td>\n",
              "      <td>university degree</td>\n",
              "      <td>no</td>\n",
              "      <td>yes</td>\n",
              "      <td>no</td>\n",
              "      <td>cellular</td>\n",
              "      <td>jul</td>\n",
              "      <td>thu</td>\n",
              "      <td>1.0</td>\n",
              "      <td>6.0</td>\n",
              "      <td>0.0</td>\n",
              "      <td>nonexistent</td>\n",
              "      <td>-2.9</td>\n",
              "      <td>92.469</td>\n",
              "      <td>-33.6</td>\n",
              "      <td>1.072</td>\n",
              "      <td>5076.2</td>\n",
              "      <td>0.0</td>\n",
              "    </tr>\n",
              "    <tr>\n",
              "      <th>17132</th>\n",
              "      <td>35.0</td>\n",
              "      <td>unemployed</td>\n",
              "      <td>married</td>\n",
              "      <td>university degree</td>\n",
              "      <td>no</td>\n",
              "      <td>no</td>\n",
              "      <td>no</td>\n",
              "      <td>telephone</td>\n",
              "      <td>jun</td>\n",
              "      <td>fri</td>\n",
              "      <td>2.0</td>\n",
              "      <td>6.0</td>\n",
              "      <td>0.0</td>\n",
              "      <td>nonexistent</td>\n",
              "      <td>1.4</td>\n",
              "      <td>94.465</td>\n",
              "      <td>-41.8</td>\n",
              "      <td>4.967</td>\n",
              "      <td>5228.1</td>\n",
              "      <td>0.0</td>\n",
              "    </tr>\n",
              "    <tr>\n",
              "      <th>29885</th>\n",
              "      <td>49.0</td>\n",
              "      <td>blue-collar</td>\n",
              "      <td>married</td>\n",
              "      <td>basic 9y</td>\n",
              "      <td>unknown</td>\n",
              "      <td>no</td>\n",
              "      <td>no</td>\n",
              "      <td>cellular</td>\n",
              "      <td>aug</td>\n",
              "      <td>mon</td>\n",
              "      <td>5.0</td>\n",
              "      <td>6.0</td>\n",
              "      <td>0.0</td>\n",
              "      <td>nonexistent</td>\n",
              "      <td>1.4</td>\n",
              "      <td>93.444</td>\n",
              "      <td>-36.1</td>\n",
              "      <td>4.963</td>\n",
              "      <td>5228.1</td>\n",
              "      <td>0.0</td>\n",
              "    </tr>\n",
              "  </tbody>\n",
              "</table>\n",
              "<p>20069 rows × 20 columns</p>\n",
              "</div>"
            ],
            "text/plain": [
              "        age          job   marital            education  default  housing  \\\n",
              "7234   25.0        admin   married              unknown       no       no   \n",
              "19855  55.0   unemployed   married             basic 9y       no      yes   \n",
              "19351  49.0  blue-collar    single             basic 6y       no      yes   \n",
              "7106   30.0  blue-collar   married             basic 9y       no       no   \n",
              "24031  37.0      student  divorced    university degree       no      yes   \n",
              "...     ...          ...       ...                  ...      ...      ...   \n",
              "17441  49.0   technician   married  professional course  unknown      yes   \n",
              "9591   47.0  blue-collar   married             basic 4y  unknown  unknown   \n",
              "20180  46.0        admin    single    university degree       no      yes   \n",
              "17132  35.0   unemployed   married    university degree       no       no   \n",
              "29885  49.0  blue-collar   married             basic 9y  unknown       no   \n",
              "\n",
              "          loan    contact month day_of_week  campaign  pdays  previous  \\\n",
              "7234        no   cellular   nov         thu       1.0    6.0       0.0   \n",
              "19855       no   cellular   oct         tue       1.0    6.0       0.0   \n",
              "19351       no  telephone   may         wed       4.0    6.0       0.0   \n",
              "7106        no   cellular   nov         wed       5.0    6.0       0.0   \n",
              "24031      yes   cellular   may         thu       2.0    6.0       0.0   \n",
              "...        ...        ...   ...         ...       ...    ...       ...   \n",
              "17441       no  telephone   jun         wed      13.0    6.0       0.0   \n",
              "9591   unknown  telephone   may         tue       2.0    6.0       0.0   \n",
              "20180       no   cellular   jul         thu       1.0    6.0       0.0   \n",
              "17132       no  telephone   jun         fri       2.0    6.0       0.0   \n",
              "29885       no   cellular   aug         mon       5.0    6.0       0.0   \n",
              "\n",
              "          poutcome  emp_var_rate  cons_price_idx  cons_conf_idx  euribor3m  \\\n",
              "7234   nonexistent          -3.4          92.649          -30.1      0.714   \n",
              "19855  nonexistent          -3.4          92.431          -26.9      0.728   \n",
              "19351  nonexistent           1.1          93.994          -36.4      4.856   \n",
              "7106   nonexistent          -0.1          93.200          -42.0      4.120   \n",
              "24031  nonexistent          -1.8          93.876          -40.0      0.699   \n",
              "...            ...           ...             ...            ...        ...   \n",
              "17441  nonexistent           1.4          94.465          -41.8      4.962   \n",
              "9591   nonexistent           1.1          93.994          -36.4      4.857   \n",
              "20180  nonexistent          -2.9          92.469          -33.6      1.072   \n",
              "17132  nonexistent           1.4          94.465          -41.8      4.967   \n",
              "29885  nonexistent           1.4          93.444          -36.1      4.963   \n",
              "\n",
              "       nr_employed  pdays_contacted_status  \n",
              "7234        5017.5                     0.0  \n",
              "19855       5017.5                     0.0  \n",
              "19351       5191.0                     0.0  \n",
              "7106        5195.8                     0.0  \n",
              "24031       5008.7                     0.0  \n",
              "...            ...                     ...  \n",
              "17441       5228.1                     0.0  \n",
              "9591        5191.0                     0.0  \n",
              "20180       5076.2                     0.0  \n",
              "17132       5228.1                     0.0  \n",
              "29885       5228.1                     0.0  \n",
              "\n",
              "[20069 rows x 20 columns]"
            ]
          },
          "execution_count": 364,
          "metadata": {},
          "output_type": "execute_result"
        }
      ],
      "source": [
        "x_train"
      ]
    },
    {
      "cell_type": "markdown",
      "metadata": {
        "id": "3JBkxykTp2HF"
      },
      "source": [
        "## 1.5 Holdout Training"
      ]
    },
    {
      "cell_type": "markdown",
      "metadata": {
        "id": "_toW-9SWAZv7"
      },
      "source": [
        "In this example the inference artifacts are:\n",
        "- pipe (contains trained model and the preprocesing pipeline)\n",
        "- le (label encoder object used to encode the target variable)"
      ]
    },
    {
      "cell_type": "markdown",
      "metadata": {},
      "source": [
        "### 1.5.1 Model Selection"
      ]
    },
    {
      "cell_type": "code",
      "execution_count": 365,
      "metadata": {},
      "outputs": [],
      "source": [
        "from sklearn.ensemble import RandomForestClassifier\n",
        "from sklearn.model_selection import cross_val_score, KFold\n",
        "from sklearn.linear_model import LogisticRegression\n",
        "from sklearn.tree import DecisionTreeClassifier\n",
        "from sklearn.svm import SVC\n",
        "from sklearn.neighbors import KNeighborsClassifier\n",
        "from sklearn.ensemble import GradientBoostingClassifier, AdaBoostClassifier, ExtraTreesClassifier\n",
        "from sklearn.naive_bayes import GaussianNB, BernoulliNB\n",
        "from xgboost import XGBClassifier\n",
        "from lightgbm import LGBMClassifier"
      ]
    },
    {
      "cell_type": "code",
      "execution_count": 366,
      "metadata": {},
      "outputs": [
        {
          "name": "stderr",
          "output_type": "stream",
          "text": [
            "08-05-2025 21:28:47 Full features preprocessing\n"
          ]
        }
      ],
      "source": [
        "logger.info(\"Full features preprocessing\")\n",
        "x_train_processed= full_pipeline_preprocessing.fit_transform(x_train)\n",
        "x_val_processed= full_pipeline_preprocessing.transform(x_val)\n",
        "#resampling\n",
        "#logger.info(\"Resampling\")\n",
        "#x_train_resampled, y_train_resampled = SMOTE(random_state=seed, sampling_strategy=\"auto\").fit_resample(x_train_processed, y_train)"
      ]
    },
    {
      "cell_type": "code",
      "execution_count": 367,
      "metadata": {},
      "outputs": [
        {
          "data": {
            "text/plain": [
              "((20069, 53), (6305, 53))"
            ]
          },
          "execution_count": 367,
          "metadata": {},
          "output_type": "execute_result"
        }
      ],
      "source": [
        "x_train_processed.shape, x_val_processed.shape"
      ]
    },
    {
      "cell_type": "code",
      "execution_count": 368,
      "metadata": {},
      "outputs": [],
      "source": [
        "from sklearn.metrics import f1_score, precision_score, recall_score, accuracy_score, roc_curve, roc_auc_score, auc, classification_report, confusion_matrix, average_precision_score, precision_recall_curve"
      ]
    },
    {
      "cell_type": "code",
      "execution_count": 369,
      "metadata": {},
      "outputs": [
        {
          "name": "stderr",
          "output_type": "stream",
          "text": [
            "08-05-2025 21:28:49 Preparing models\n",
            "08-05-2025 21:28:49 Evaluating models\n",
            "08-05-2025 21:28:51 LR: roc-auc: 0.7966889692162358, auc-pr: 0.4554227481322954\n",
            "08-05-2025 21:29:23 KNN: roc-auc: 0.7187187712258075, auc-pr: 0.34650053384528967\n",
            "08-05-2025 21:29:24 DT: roc-auc: 0.6078317374128521, auc-pr: 0.3411843644997047\n",
            "08-05-2025 21:29:32 RF: roc-auc: 0.7754385203026068, auc-pr: 0.4110267820176988\n",
            "08-05-2025 21:29:40 GB: roc-auc: 0.7915845284845457, auc-pr: 0.4542052017583402\n",
            "08-05-2025 21:29:44 AB: roc-auc: 0.7912991999578411, auc-pr: 0.44324657182731714\n",
            "08-05-2025 21:29:44 NB: roc-auc: 0.7649551671910498, auc-pr: 0.4357862113901845\n",
            "08-05-2025 21:29:52 EXT: roc-auc: 0.7506127427061295, auc-pr: 0.3413250321474359\n",
            "08-05-2025 21:29:53 XGB: roc-auc: 0.7831367791032657, auc-pr: 0.43940298311177567\n",
            "08-05-2025 21:29:53 LGBM: roc-auc: 0.789124042642891, auc-pr: 0.45003494008364414\n"
          ]
        }
      ],
      "source": [
        "###prepare models\n",
        "logger.info(\"Preparing models\")\n",
        "models = [] \n",
        "models.append(('LR',LogisticRegression( class_weight='balanced')))\n",
        "models.append(('KNN',KNeighborsClassifier(weights='distance')))\n",
        "models.append(('DT',DecisionTreeClassifier(class_weight='balanced')))\n",
        "#models.append(('SVM',SVC(class_weight='balanced', probability=True)))\n",
        "models.append(('RF',RandomForestClassifier(class_weight='balanced')))\n",
        "models.append(('GB', GradientBoostingClassifier(subsample=0.5)))\n",
        "models.append(('AB', AdaBoostClassifier()))\n",
        "models.append(('NB', GaussianNB()))\n",
        "models.append(('EXT', ExtraTreesClassifier()))\n",
        "models.append(('XGB', XGBClassifier(class_weight='balanced')))\n",
        "models.append(('LGBM', LGBMClassifier(class_weight='balanced')))\n",
        "###evaluate each model\n",
        "\n",
        "logger.info(\"Evaluating models\")\n",
        "for name, model in models:\n",
        "    model.fit(x_train_processed, y_train)\n",
        "    pred_prob = model.predict_proba(x_val_processed)[:,1]\n",
        "    # evaluate predictions\n",
        "    rauc= roc_auc_score(y_val, pred_prob)\n",
        "    # Tính Precision-Recall Curve\n",
        "    precision, recall, _ = precision_recall_curve(y_val, pred_prob)\n",
        "    # Tính AUC-PR\n",
        "    auc_pr = auc(recall, precision)  \n",
        "    \n",
        "    logger.info(f\"{name}: roc-auc: {rauc}, auc-pr: {auc_pr}\")"
      ]
    },
    {
      "cell_type": "markdown",
      "metadata": {},
      "source": [
        "Based on the ROC-AUC scores and AUC-PR scores we obtained from training on basic model, we will take models with higher score into further consideration. \n",
        "\n",
        "They are Logistic Regression, Boosting (GB, AdaBoost, XGBoost and LightGBM). We use more metrics to assess model performance."
      ]
    },
    {
      "cell_type": "code",
      "execution_count": 370,
      "metadata": {
        "colab": {
          "base_uri": "https://localhost:8080/"
        },
        "id": "v-CIUlIE2aVU",
        "outputId": "9dcb5178-5976-4509-9477-f63178e0fd1d"
      },
      "outputs": [
        {
          "name": "stderr",
          "output_type": "stream",
          "text": [
            "08-05-2025 21:29:53 Training LR\n",
            "08-05-2025 21:29:54 Infering LR\n",
            "08-05-2025 21:29:54 Evaluation metrics LR\n",
            "08-05-2025 21:29:54 ROC-AUC: 0.7966889692162358\n",
            "08-05-2025 21:29:54 AUC-PR: 0.4554227481322954\n",
            "08-05-2025 21:29:54 Precision: 0.36213668499607227\n",
            "08-05-2025 21:29:54 Recall: 0.626358695652174\n",
            "08-05-2025 21:29:54 F1: 0.45893479342956695\n",
            "08-05-2025 21:29:54 Training GB\n",
            "08-05-2025 21:29:59 Infering GB\n",
            "08-05-2025 21:29:59 Evaluation metrics GB\n",
            "08-05-2025 21:29:59 ROC-AUC: 0.7905606882431473\n",
            "08-05-2025 21:29:59 AUC-PR: 0.45193214679015153\n",
            "08-05-2025 21:29:59 Precision: 0.6507352941176471\n",
            "08-05-2025 21:29:59 Recall: 0.24048913043478262\n",
            "08-05-2025 21:29:59 F1: 0.3511904761904762\n",
            "08-05-2025 21:29:59 Training AB\n",
            "08-05-2025 21:30:02 Infering AB\n",
            "08-05-2025 21:30:03 Evaluation metrics AB\n",
            "08-05-2025 21:30:03 ROC-AUC: 0.7912991999578411\n",
            "08-05-2025 21:30:03 AUC-PR: 0.44324657182731714\n",
            "08-05-2025 21:30:03 Precision: 0.6333333333333333\n",
            "08-05-2025 21:30:03 Recall: 0.25815217391304346\n",
            "08-05-2025 21:30:03 F1: 0.3667953667953668\n",
            "08-05-2025 21:30:03 Training XGB\n",
            "08-05-2025 21:30:05 Infering XGB\n",
            "08-05-2025 21:30:05 Evaluation metrics XGB\n",
            "08-05-2025 21:30:05 ROC-AUC: 0.7831367791032657\n",
            "08-05-2025 21:30:05 AUC-PR: 0.43940298311177567\n",
            "08-05-2025 21:30:05 Precision: 0.5751445086705202\n",
            "08-05-2025 21:30:05 Recall: 0.2703804347826087\n",
            "08-05-2025 21:30:05 F1: 0.3678373382624769\n",
            "08-05-2025 21:30:05 Training LGBM\n",
            "08-05-2025 21:30:07 Infering LGBM\n",
            "08-05-2025 21:30:07 Evaluation metrics LGBM\n",
            "08-05-2025 21:30:07 ROC-AUC: 0.789124042642891\n",
            "08-05-2025 21:30:07 AUC-PR: 0.45003494008364414\n",
            "08-05-2025 21:30:07 Precision: 0.38047138047138046\n",
            "08-05-2025 21:30:07 Recall: 0.6141304347826086\n",
            "08-05-2025 21:30:07 F1: 0.4698544698544698\n"
          ]
        }
      ],
      "source": [
        "models= [('LR',LogisticRegression( class_weight='balanced')),\n",
        "         ('GB', GradientBoostingClassifier(subsample=0.5)),\n",
        "         ('AB', AdaBoostClassifier()),\n",
        "         ('XGB', XGBClassifier(class_weight='balanced')),\n",
        "         ('LGBM', LGBMClassifier(class_weight='balanced'))]\n",
        "\n",
        "results = {}\n",
        "# training\n",
        "for name, model in models:\n",
        "    logger.info(\"Training {}\".format(name))\n",
        "    model.fit(x_train_processed, y_train)\n",
        "\n",
        "    # save model\n",
        "    joblib.dump(model, name + \".joblib\")\n",
        "\n",
        "    # predict\n",
        "    logger.info(\"Infering {}\".format(name))\n",
        "    predict = model.predict(x_val_processed)\n",
        "    predict_proba = model.predict_proba(x_val_processed)[:,1]\n",
        "\n",
        "    # Evaluation Metrics\n",
        "    logger.info(\"Evaluation metrics {}\".format(name))\n",
        "\n",
        "    fbeta = fbeta_score(y_val, predict, beta=1, zero_division=1)\n",
        "    precision = precision_score(y_val, predict, zero_division=1)\n",
        "    recall = recall_score(y_val, predict, zero_division=1)\n",
        "    roc_auc = roc_auc_score(y_val, predict_proba)\n",
        "    p1, r1, _ = precision_recall_curve(y_val, predict_proba)\n",
        "    auc_pr = auc(r1, p1) #compute AUC-PR\n",
        "\n",
        "    results[name] = {\n",
        "        \"roc_auc\": roc_auc,\n",
        "        \"auc_pr\": auc_pr,\n",
        "        \"precision\": precision,\n",
        "        \"recall\": recall,\n",
        "        \"fbeta\": fbeta}\n",
        "\n",
        "    logger.info(\"ROC-AUC: {}\".format(roc_auc))\n",
        "    logger.info(\"AUC-PR: {}\".format(auc_pr))\n",
        "    logger.info(\"Precision: {}\".format(precision))\n",
        "    logger.info(\"Recall: {}\".format(recall))\n",
        "    logger.info(\"F1: {}\".format(fbeta))"
      ]
    },
    {
      "cell_type": "markdown",
      "metadata": {},
      "source": [
        "Gradient Boosting, AdaBoost and XGBoost have high precision but low recall -> they miss a lot of potential customers. \n",
        "We will use Logistic Regression and LightGBM for hyperparameter tuning."
      ]
    },
    {
      "cell_type": "code",
      "execution_count": 371,
      "metadata": {},
      "outputs": [
        {
          "data": {
            "text/plain": [
              "{'LR': {'roc_auc': 0.7966889692162358,\n",
              "  'auc_pr': 0.4554227481322954,\n",
              "  'precision': 0.36213668499607227,\n",
              "  'recall': 0.626358695652174,\n",
              "  'fbeta': 0.45893479342956695},\n",
              " 'GB': {'roc_auc': 0.7905606882431473,\n",
              "  'auc_pr': 0.45193214679015153,\n",
              "  'precision': 0.6507352941176471,\n",
              "  'recall': 0.24048913043478262,\n",
              "  'fbeta': 0.3511904761904762},\n",
              " 'AB': {'roc_auc': 0.7912991999578411,\n",
              "  'auc_pr': 0.44324657182731714,\n",
              "  'precision': 0.6333333333333333,\n",
              "  'recall': 0.25815217391304346,\n",
              "  'fbeta': 0.3667953667953668},\n",
              " 'XGB': {'roc_auc': 0.7831367791032657,\n",
              "  'auc_pr': 0.43940298311177567,\n",
              "  'precision': 0.5751445086705202,\n",
              "  'recall': 0.2703804347826087,\n",
              "  'fbeta': 0.3678373382624769},\n",
              " 'LGBM': {'roc_auc': 0.789124042642891,\n",
              "  'auc_pr': 0.45003494008364414,\n",
              "  'precision': 0.38047138047138046,\n",
              "  'recall': 0.6141304347826086,\n",
              "  'fbeta': 0.4698544698544698}}"
            ]
          },
          "execution_count": 371,
          "metadata": {},
          "output_type": "execute_result"
        }
      ],
      "source": [
        "results"
      ]
    },
    {
      "cell_type": "code",
      "execution_count": 372,
      "metadata": {
        "id": "kw1kSZf37-yw"
      },
      "outputs": [],
      "source": [
        "run.summary[\"ROC-AUC\"] = [results['LR']['roc_auc'], results['LGBM']['roc_auc']] \n",
        "run.summary[\"AUC-PR\"] = [results['LR']['auc_pr'], results['LGBM']['auc_pr']]\n",
        "run.summary[\"Precision\"] = [results['LR']['precision'],results['LGBM']['precision']]\n",
        "run.summary[\"Recall\"] = [results['LR']['recall'],results['LGBM']['recall']]\n",
        "run.summary[\"F1\"] = [results['LR']['fbeta'],results['LGBM']['fbeta']]"
      ]
    },
    {
      "cell_type": "code",
      "execution_count": 373,
      "metadata": {},
      "outputs": [
        {
          "data": {
            "text/plain": [
              "LGBMClassifier(class_weight='balanced')"
            ]
          },
          "execution_count": 373,
          "metadata": {},
          "output_type": "execute_result"
        }
      ],
      "source": [
        "lg = LogisticRegression(class_weight='balanced')\n",
        "lgbm= LGBMClassifier(class_weight='balanced')\n",
        "lg.fit(x_train_processed, y_train)\n",
        "lgbm.fit(x_train_processed, y_train)"
      ]
    },
    {
      "cell_type": "code",
      "execution_count": 374,
      "metadata": {},
      "outputs": [
        {
          "data": {
            "text/plain": [
              "((20069, 53), (6305, 53))"
            ]
          },
          "execution_count": 374,
          "metadata": {},
          "output_type": "execute_result"
        }
      ],
      "source": [
        "x_train_processed.shape, x_val_processed.shape"
      ]
    },
    {
      "cell_type": "code",
      "execution_count": 375,
      "metadata": {},
      "outputs": [
        {
          "data": {
            "text/plain": [
              "((20069,), (6305,))"
            ]
          },
          "execution_count": 375,
          "metadata": {},
          "output_type": "execute_result"
        }
      ],
      "source": [
        "y_train.shape, y_val.shape"
      ]
    },
    {
      "cell_type": "code",
      "execution_count": 376,
      "metadata": {
        "colab": {
          "base_uri": "https://localhost:8080/"
        },
        "id": "wcIO140lO-xc",
        "outputId": "4f9926f7-9ef7-4f3f-ce38-0504a95e21bf"
      },
      "outputs": [
        {
          "name": "stderr",
          "output_type": "stream",
          "text": [
            "08-05-2025 21:30:11 Infering Bias by Logistic Regression\n",
            "08-05-2025 21:30:11 Bias Evaluation metrics by Logistic Regression\n",
            "08-05-2025 21:30:11 ROC-AUC: 0.802684601657337\n",
            "08-05-2025 21:30:11 AUC-PR: 0.46642824720386133\n",
            "08-05-2025 21:30:11 Precision: 0.35290086797624487\n",
            "08-05-2025 21:30:11 Recall: 0.6368507831821929\n",
            "08-05-2025 21:30:11 F1: 0.4541446208112875\n"
          ]
        }
      ],
      "source": [
        "# predict bias\n",
        "logger.info(\"Infering Bias by Logistic Regression\")\n",
        "predict_bias = lg.predict(x_train_processed)\n",
        "predict_bias_proba = lg.predict_proba(x_train_processed)[:,1]\n",
        "\n",
        "# Evaluation Metrics\n",
        "logger.info(\"Bias Evaluation metrics by Logistic Regression\")\n",
        "fbeta1 = fbeta_score(y_train, predict_bias, beta=1, zero_division=1)\n",
        "precision1 = precision_score(y_train, predict_bias, zero_division=1)\n",
        "recall1 = recall_score(y_train, predict_bias, zero_division=1)\n",
        "roc_auc1 = roc_auc_score(y_train, predict_bias_proba)\n",
        "p2, r2, _ = precision_recall_curve(y_train, predict_bias_proba)\n",
        "auc_pr1 = auc(r2, p2) #compute AUC-PR\n",
        "\n",
        "logger.info(\"ROC-AUC: {}\".format(roc_auc1))\n",
        "logger.info(\"AUC-PR: {}\".format(auc_pr1))\n",
        "logger.info(\"Precision: {}\".format(precision1))\n",
        "logger.info(\"Recall: {}\".format(recall1))\n",
        "logger.info(\"F1: {}\".format(fbeta1))"
      ]
    },
    {
      "cell_type": "code",
      "execution_count": 377,
      "metadata": {},
      "outputs": [
        {
          "name": "stderr",
          "output_type": "stream",
          "text": [
            "08-05-2025 21:30:12 Infering Bias by LightGBM\n",
            "08-05-2025 21:30:13 Bias Evaluation metrics by LightGBM\n",
            "08-05-2025 21:30:13 ROC-AUC: 0.898670966100164\n",
            "08-05-2025 21:30:13 AUC-PR: 0.6248466874468973\n",
            "08-05-2025 21:30:13 Precision: 0.42302158273381296\n",
            "08-05-2025 21:30:13 Recall: 0.7271228359439407\n",
            "08-05-2025 21:30:13 F1: 0.5348696179502729\n"
          ]
        }
      ],
      "source": [
        "# predict bias\n",
        "logger.info(\"Infering Bias by LightGBM\")\n",
        "predict_bias = lgbm.predict(x_train_processed)\n",
        "predict_bias_proba = lgbm.predict_proba(x_train_processed)[:,1]\n",
        "\n",
        "# Evaluation Metrics\n",
        "logger.info(\"Bias Evaluation metrics by LightGBM\")\n",
        "fbeta1 = fbeta_score(y_train, predict_bias, beta=1, zero_division=1)\n",
        "precision1 = precision_score(y_train, predict_bias, zero_division=1)\n",
        "recall1 = recall_score(y_train, predict_bias, zero_division=1)\n",
        "roc_auc1 = roc_auc_score(y_train, predict_bias_proba)\n",
        "p2, r2, _ = precision_recall_curve(y_train, predict_bias_proba)\n",
        "auc_pr1 = auc(r2, p2) #compute AUC-PR\n",
        "\n",
        "logger.info(\"ROC-AUC: {}\".format(roc_auc1))\n",
        "logger.info(\"AUC-PR: {}\".format(auc_pr1))\n",
        "logger.info(\"Precision: {}\".format(precision1))\n",
        "logger.info(\"Recall: {}\".format(recall1))\n",
        "logger.info(\"F1: {}\".format(fbeta1))"
      ]
    },
    {
      "cell_type": "code",
      "execution_count": 378,
      "metadata": {
        "colab": {
          "base_uri": "https://localhost:8080/"
        },
        "id": "RR7x-wAM94VS",
        "outputId": "e7ab6ff8-7661-477a-bf10-5f07262d2d43"
      },
      "outputs": [
        {
          "name": "stdout",
          "output_type": "stream",
          "text": [
            "Logistic Regression \n",
            "               precision    recall  f1-score   support\n",
            "\n",
            "           0       0.95      0.85      0.90      5569\n",
            "           1       0.36      0.63      0.46       736\n",
            "\n",
            "    accuracy                           0.83      6305\n",
            "   macro avg       0.65      0.74      0.68      6305\n",
            "weighted avg       0.88      0.83      0.85      6305\n",
            "\n",
            "LightGBM \n",
            "               precision    recall  f1-score   support\n",
            "\n",
            "           0       0.94      0.87      0.90      5569\n",
            "           1       0.38      0.61      0.47       736\n",
            "\n",
            "    accuracy                           0.84      6305\n",
            "   macro avg       0.66      0.74      0.69      6305\n",
            "weighted avg       0.88      0.84      0.85      6305\n",
            "\n"
          ]
        }
      ],
      "source": [
        "# Compare the accuracy, precision, recall with previous ones\n",
        "lg_predict = lg.predict(x_val_processed)\n",
        "lgbm_predict = lgbm.predict(x_val_processed)\n",
        "print('Logistic Regression \\n', classification_report(y_val,lg_predict))\n",
        "print('LightGBM \\n', classification_report(y_val,lgbm_predict))"
      ]
    },
    {
      "cell_type": "code",
      "execution_count": 379,
      "metadata": {
        "colab": {
          "base_uri": "https://localhost:8080/",
          "height": 279
        },
        "id": "9f5FubtsA8yw",
        "outputId": "d5be26d3-38a8-464d-f14b-1e4b1fb1027e"
      },
      "outputs": [
        {
          "data": {
            "image/png": "[encoded data removed]",
            "text/plain": [
              "<Figure size 700x400 with 2 Axes>"
            ]
          },
          "metadata": {},
          "output_type": "display_data"
        }
      ],
      "source": [
        "lgbm_fig_confusion_matrix, ax = plt.subplots(1,1,figsize=(7,4))\n",
        "ConfusionMatrixDisplay(confusion_matrix(lgbm_predict,y_val,labels=[1,0]),\n",
        "                       display_labels=[\"1\",\"0\"]).plot(values_format=\".0f\",ax=ax)\n",
        "\n",
        "ax.set_title(\"Confusion Matrix for LightGBM\")\n",
        "ax.set_xlabel(\"True Label\")\n",
        "ax.set_ylabel(\"Predicted Label\")\n",
        "plt.show()"
      ]
    },
    {
      "cell_type": "code",
      "execution_count": 380,
      "metadata": {},
      "outputs": [
        {
          "data": {
            "image/png": "[encoded data removed]",
            "text/plain": [
              "<Figure size 700x400 with 2 Axes>"
            ]
          },
          "metadata": {},
          "output_type": "display_data"
        }
      ],
      "source": [
        "lg_fig_confusion_matrix, ax = plt.subplots(1,1,figsize=(7,4))\n",
        "ConfusionMatrixDisplay(confusion_matrix(lg_predict,y_val,labels=[1,0]),\n",
        "                       display_labels=[\"1\",\"0\"]).plot(values_format=\".0f\",ax=ax)\n",
        "\n",
        "ax.set_title(\"Confusion Matrix for Logistic Regression\")\n",
        "ax.set_xlabel(\"True Label\")\n",
        "ax.set_ylabel(\"Predicted Label\")\n",
        "plt.show()"
      ]
    },
    {
      "cell_type": "code",
      "execution_count": 381,
      "metadata": {
        "colab": {
          "base_uri": "https://localhost:8080/"
        },
        "id": "7NODonon9kHO",
        "outputId": "be6e564d-820b-4473-bb99-8bb916f6ec46"
      },
      "outputs": [
        {
          "name": "stderr",
          "output_type": "stream",
          "text": [
            "08-05-2025 21:30:17 Uploading figures\n"
          ]
        }
      ],
      "source": [
        "# Uploading figures\n",
        "logger.info(\"Uploading figures\")\n",
        "run.log(\n",
        "    {\n",
        "        \"confusion_matrix_lgbm\": wandb.Image(lgbm_fig_confusion_matrix),\n",
        "        \"confusion_matrix_lg\": wandb.Image(lg_fig_confusion_matrix),\n",
        "    }\n",
        ")"
      ]
    },
    {
      "cell_type": "markdown",
      "metadata": {},
      "source": [
        "### 1.5.2 Feature Importance"
      ]
    },
    {
      "cell_type": "code",
      "execution_count": 382,
      "metadata": {
        "colab": {
          "base_uri": "https://localhost:8080/"
        },
        "id": "k1XylahaKaCW",
        "outputId": "45742edb-24b8-4f55-e029-5a0f112e38f1"
      },
      "outputs": [
        {
          "name": "stderr",
          "output_type": "stream",
          "text": [
            "08-05-2025 21:30:18 Feature importance\n",
            "08-05-2025 21:30:19 Saving LGBM feature importance figure\n"
          ]
        },
        {
          "data": {
            "image/png": "[encoded data removed]",
            "text/plain": [
              "<Figure size 1500x1000 with 1 Axes>"
            ]
          },
          "metadata": {},
          "output_type": "display_data"
        }
      ],
      "source": [
        "# Feature importance\n",
        "logger.info(\"Feature importance\")\n",
        "# Get feature importances from the model\n",
        "importances = lgbm.feature_importances_\n",
        "# Get feature names from the pipeline\n",
        "feature_names = df.columns.tolist()\n",
        "# Create a DataFrame for feature importances\n",
        "importances_df = pd.DataFrame({'Feature': feature_names, 'Importance': importances})\n",
        "# Sort the DataFrame by importance\n",
        "importances_df = importances_df.sort_values(by='Importance', ascending=False)\n",
        "# Plot feature importances\n",
        "plt.figure(figsize=(15, 10))\n",
        "plt.barh(importances_df['Feature'], importances_df['Importance'])\n",
        "plt.xlabel('Importance')\n",
        "plt.title('Feature Importances for LightGBM')\n",
        "\n",
        "#save figure\n",
        "logger.info(\"Saving LGBM feature importance figure\")\n",
        "plt.savefig(\"LGBM_feature_importance.png\")"
      ]
    },
    {
      "cell_type": "code",
      "execution_count": 383,
      "metadata": {},
      "outputs": [
        {
          "name": "stderr",
          "output_type": "stream",
          "text": [
            "08-05-2025 21:30:27 Feature importance\n",
            "08-05-2025 21:30:28 Saving Logistic Regression feature importance figure\n"
          ]
        },
        {
          "data": {
            "image/png": "[encoded data removed]",
            "text/plain": [
              "<Figure size 1500x1000 with 1 Axes>"
            ]
          },
          "metadata": {},
          "output_type": "display_data"
        }
      ],
      "source": [
        "# Feature importance\n",
        "logger.info(\"Feature importance\")\n",
        "# Get feature importances from the model\n",
        "importances = lg.coef_[0]\n",
        "# Get feature names from the pipeline\n",
        "feature_names = df.columns.tolist()\n",
        "# Create a DataFrame for feature importances\n",
        "importances_df = pd.DataFrame({'Feature': feature_names, 'Importance': importances})\n",
        "# Sort the DataFrame by importance\n",
        "importances_df = importances_df.sort_values(by='Importance', ascending=False)\n",
        "# Plot feature importances\n",
        "plt.figure(figsize=(15, 10))\n",
        "plt.barh(importances_df['Feature'], importances_df['Importance'])\n",
        "plt.xlabel('Importance')\n",
        "plt.title('Feature Importances for Logistic Regression')\n",
        "\n",
        "#save figure\n",
        "logger.info(\"Saving Logistic Regression feature importance figure\")\n",
        "plt.savefig(\"LG_feature_importance.png\")"
      ]
    },
    {
      "cell_type": "code",
      "execution_count": 384,
      "metadata": {},
      "outputs": [
        {
          "data": {
            "text/plain": [
              "['job_blue-collar',\n",
              " 'job_entrepreneur',\n",
              " 'job_housemaid',\n",
              " 'job_management',\n",
              " 'job_retired',\n",
              " 'job_self-employed',\n",
              " 'job_services',\n",
              " 'job_student',\n",
              " 'job_technician',\n",
              " 'job_unemployed',\n",
              " 'job_unknown',\n",
              " 'marital_married',\n",
              " 'marital_single',\n",
              " 'marital_unknown',\n",
              " 'education_0',\n",
              " 'education_4',\n",
              " 'education_6',\n",
              " 'education_9',\n",
              " 'education_12',\n",
              " 'education_16',\n",
              " 'education_19',\n",
              " 'default_unknown',\n",
              " 'default_yes',\n",
              " 'housing_unknown',\n",
              " 'housing_yes',\n",
              " 'loan_unknown',\n",
              " 'loan_yes',\n",
              " 'contact_telephone',\n",
              " 'month_4',\n",
              " 'month_5',\n",
              " 'month_6',\n",
              " 'month_7',\n",
              " 'month_8',\n",
              " 'month_9',\n",
              " 'month_10',\n",
              " 'month_11',\n",
              " 'month_12',\n",
              " 'day_of_week_2',\n",
              " 'day_of_week_3',\n",
              " 'day_of_week_4',\n",
              " 'day_of_week_5',\n",
              " 'poutcome_nonexistent',\n",
              " 'poutcome_success',\n",
              " 'age',\n",
              " 'campaign',\n",
              " 'pdays',\n",
              " 'previous',\n",
              " 'emp_var_rate',\n",
              " 'cons_price_idx',\n",
              " 'cons_conf_idx',\n",
              " 'euribor3m',\n",
              " 'nr_employed',\n",
              " 'pdays_contacted_status']"
            ]
          },
          "execution_count": 384,
          "metadata": {},
          "output_type": "execute_result"
        }
      ],
      "source": [
        "feature_names"
      ]
    },
    {
      "cell_type": "code",
      "execution_count": 385,
      "metadata": {
        "colab": {
          "base_uri": "https://localhost:8080/"
        },
        "id": "wo0jKHj0FlIq",
        "outputId": "7d1be8d9-c5aa-4f6f-9d16-52e214072adb"
      },
      "outputs": [
        {
          "name": "stderr",
          "output_type": "stream",
          "text": [
            "\u001b[34m\u001b[1mwandb\u001b[0m: \n",
            "\u001b[34m\u001b[1mwandb\u001b[0m: Plotting LR.\n"
          ]
        },
        {
          "name": "stderr",
          "output_type": "stream",
          "text": [
            "\u001b[34m\u001b[1mwandb\u001b[0m: Logged feature importances.\n",
            "\u001b[34m\u001b[1mwandb\u001b[0m: Logged confusion matrix.\n",
            "\u001b[34m\u001b[1mwandb\u001b[0m: Logged summary metrics.\n",
            "\u001b[34m\u001b[1mwandb\u001b[0m: Logged class proportions.\n",
            "\u001b[34m\u001b[1mwandb\u001b[0m: Logged calibration curve.\n",
            "\u001b[34m\u001b[1mwandb\u001b[0m: Logged roc curve.\n",
            "\u001b[34m\u001b[1mwandb\u001b[0m: Logged precision-recall curve.\n"
          ]
        }
      ],
      "source": [
        "# Visualize all classifier plots\n",
        "# For a complete documentation please see: https://docs.wandb.ai/guides/integrations/scikit\n",
        "wandb.sklearn.plot_classifier(lg,\n",
        "                              x_train_processed,\n",
        "                              x_val_processed,\n",
        "                              y_train,\n",
        "                              y_val,\n",
        "                              lg_predict,\n",
        "                              lg.predict_proba(x_val_processed),\n",
        "                              [0,1],\n",
        "                              model_name='LR', feature_names=feature_names)"
      ]
    },
    {
      "cell_type": "code",
      "execution_count": 386,
      "metadata": {},
      "outputs": [
        {
          "name": "stderr",
          "output_type": "stream",
          "text": [
            "\u001b[34m\u001b[1mwandb\u001b[0m: \n",
            "\u001b[34m\u001b[1mwandb\u001b[0m: Plotting LGBM.\n",
            "\u001b[34m\u001b[1mwandb\u001b[0m: Logged feature importances.\n",
            "\u001b[34m\u001b[1mwandb\u001b[0m: Logged confusion matrix.\n",
            "\u001b[34m\u001b[1mwandb\u001b[0m: Logged summary metrics.\n",
            "\u001b[34m\u001b[1mwandb\u001b[0m: Logged class proportions.\n",
            "\u001b[34m\u001b[1mwandb\u001b[0m: Logged calibration curve.\n",
            "\u001b[34m\u001b[1mwandb\u001b[0m: Logged roc curve.\n",
            "\u001b[34m\u001b[1mwandb\u001b[0m: Logged precision-recall curve.\n"
          ]
        }
      ],
      "source": [
        "wandb.sklearn.plot_classifier(lgbm,\n",
        "                              x_train_processed,\n",
        "                              x_val_processed,\n",
        "                              y_train,\n",
        "                              y_val,\n",
        "                              lgbm_predict,\n",
        "                              lgbm.predict_proba(x_val_processed),\n",
        "                              [0,1],\n",
        "                              model_name='LGBM', feature_names=feature_names)"
      ]
    },
    {
      "cell_type": "code",
      "execution_count": 387,
      "metadata": {
        "id": "ZZa7WZFCD9KE"
      },
      "outputs": [],
      "source": [
        "# Visualize single plot\n",
        "wandb.sklearn.plot_confusion_matrix(y_val, lg_predict, [0,1])\n",
        "wandb.sklearn.plot_confusion_matrix(y_val, lgbm_predict, [0,1])"
      ]
    },
    {
      "cell_type": "code",
      "execution_count": 388,
      "metadata": {
        "id": "cd9LLU0sFw5Q"
      },
      "outputs": [],
      "source": [
        "# Catch up the class proportions between train and validation\n",
        "wandb.sklearn.plot_class_proportions(y_train, y_val, [0,1])"
      ]
    },
    {
      "cell_type": "code",
      "execution_count": 389,
      "metadata": {
        "id": "Wd16dY-3Mn2e"
      },
      "outputs": [],
      "source": [
        "# Plot the importance of columns\n",
        "wandb.sklearn.plot_feature_importances(lgbm, feature_names=feature_names)\n",
        "wandb.sklearn.plot_feature_importances(lg, feature_names=feature_names)"
      ]
    },
    {
      "cell_type": "code",
      "execution_count": 390,
      "metadata": {
        "id": "CGX5BdLpMwKw"
      },
      "outputs": [],
      "source": [
        "# Plot a brief summary of the weighted avg results (recall, precision, f1, acc)\n",
        "wandb.sklearn.plot_summary_metrics(lg,\n",
        "                                x_train_processed,\n",
        "                                y_train,\n",
        "                                x_val_processed,\n",
        "                                y_val)\n",
        "\n",
        "wandb.sklearn.plot_summary_metrics(lgbm,\n",
        "                                x_train_processed,\n",
        "                                y_train,\n",
        "                                x_val_processed,\n",
        "                                y_val)"
      ]
    },
    {
      "cell_type": "code",
      "execution_count": 391,
      "metadata": {
        "id": "D7Sl-7TbOZqD"
      },
      "outputs": [],
      "source": [
        "# ROC curve\n",
        "lg_predict_proba = lg.predict_proba(x_val_processed)\n",
        "lgbm_predict_proba = lgbm.predict_proba(x_val_processed)\n",
        "wandb.sklearn.plot_roc(y_val, lg_predict_proba, [0,1])\n",
        "wandb.sklearn.plot_roc(y_val, lgbm_predict_proba, [0,1])"
      ]
    },
    {
      "cell_type": "code",
      "execution_count": 392,
      "metadata": {},
      "outputs": [
        {
          "data": {
            "text/plain": [
              "Index(['age', 'job', 'marital', 'education', 'default', 'housing', 'loan',\n",
              "       'contact', 'month', 'day_of_week', 'campaign', 'pdays', 'previous',\n",
              "       'poutcome', 'emp_var_rate', 'cons_price_idx', 'cons_conf_idx',\n",
              "       'euribor3m', 'nr_employed', 'pdays_contacted_status'],\n",
              "      dtype='object')"
            ]
          },
          "execution_count": 392,
          "metadata": {},
          "output_type": "execute_result"
        }
      ],
      "source": [
        "x_train.columns"
      ]
    },
    {
      "cell_type": "code",
      "execution_count": 393,
      "metadata": {},
      "outputs": [
        {
          "data": {
            "application/vnd.microsoft.datawrangler.viewer.v0+json": {
              "columns": [
                {
                  "name": "index",
                  "rawType": "int64",
                  "type": "integer"
                },
                {
                  "name": "age",
                  "rawType": "float64",
                  "type": "float"
                },
                {
                  "name": "job",
                  "rawType": "object",
                  "type": "string"
                },
                {
                  "name": "marital",
                  "rawType": "object",
                  "type": "string"
                },
                {
                  "name": "education",
                  "rawType": "object",
                  "type": "string"
                },
                {
                  "name": "default",
                  "rawType": "object",
                  "type": "string"
                },
                {
                  "name": "housing",
                  "rawType": "object",
                  "type": "string"
                },
                {
                  "name": "loan",
                  "rawType": "object",
                  "type": "string"
                },
                {
                  "name": "contact",
                  "rawType": "object",
                  "type": "string"
                },
                {
                  "name": "month",
                  "rawType": "object",
                  "type": "string"
                },
                {
                  "name": "day_of_week",
                  "rawType": "object",
                  "type": "string"
                },
                {
                  "name": "campaign",
                  "rawType": "float64",
                  "type": "float"
                },
                {
                  "name": "pdays",
                  "rawType": "float64",
                  "type": "float"
                },
                {
                  "name": "previous",
                  "rawType": "float64",
                  "type": "float"
                },
                {
                  "name": "poutcome",
                  "rawType": "object",
                  "type": "string"
                },
                {
                  "name": "emp_var_rate",
                  "rawType": "float64",
                  "type": "float"
                },
                {
                  "name": "cons_price_idx",
                  "rawType": "float64",
                  "type": "float"
                },
                {
                  "name": "cons_conf_idx",
                  "rawType": "float64",
                  "type": "float"
                },
                {
                  "name": "euribor3m",
                  "rawType": "float64",
                  "type": "float"
                },
                {
                  "name": "nr_employed",
                  "rawType": "float64",
                  "type": "float"
                },
                {
                  "name": "pdays_contacted_status",
                  "rawType": "float64",
                  "type": "float"
                }
              ],
              "conversionMethod": "pd.DataFrame",
              "ref": "55598689-323c-4210-bb80-c7bf2a0ffa23",
              "rows": [
                [
                  "7234",
                  "25.0",
                  "admin",
                  "married",
                  "unknown",
                  "no",
                  "no",
                  "no",
                  "cellular",
                  "nov",
                  "thu",
                  "1.0",
                  "6.0",
                  "0.0",
                  "nonexistent",
                  "-3.4",
                  "92.649",
                  "-30.1",
                  "0.714",
                  "5017.5",
                  "0.0"
                ]
              ],
              "shape": {
                "columns": 20,
                "rows": 1
              }
            },
            "text/html": [
              "<div>\n",
              "<style scoped>\n",
              "    .dataframe tbody tr th:only-of-type {\n",
              "        vertical-align: middle;\n",
              "    }\n",
              "\n",
              "    .dataframe tbody tr th {\n",
              "        vertical-align: top;\n",
              "    }\n",
              "\n",
              "    .dataframe thead th {\n",
              "        text-align: right;\n",
              "    }\n",
              "</style>\n",
              "<table border=\"1\" class=\"dataframe\">\n",
              "  <thead>\n",
              "    <tr style=\"text-align: right;\">\n",
              "      <th></th>\n",
              "      <th>age</th>\n",
              "      <th>job</th>\n",
              "      <th>marital</th>\n",
              "      <th>education</th>\n",
              "      <th>default</th>\n",
              "      <th>housing</th>\n",
              "      <th>loan</th>\n",
              "      <th>contact</th>\n",
              "      <th>month</th>\n",
              "      <th>day_of_week</th>\n",
              "      <th>campaign</th>\n",
              "      <th>pdays</th>\n",
              "      <th>previous</th>\n",
              "      <th>poutcome</th>\n",
              "      <th>emp_var_rate</th>\n",
              "      <th>cons_price_idx</th>\n",
              "      <th>cons_conf_idx</th>\n",
              "      <th>euribor3m</th>\n",
              "      <th>nr_employed</th>\n",
              "      <th>pdays_contacted_status</th>\n",
              "    </tr>\n",
              "  </thead>\n",
              "  <tbody>\n",
              "    <tr>\n",
              "      <th>7234</th>\n",
              "      <td>25.0</td>\n",
              "      <td>admin</td>\n",
              "      <td>married</td>\n",
              "      <td>unknown</td>\n",
              "      <td>no</td>\n",
              "      <td>no</td>\n",
              "      <td>no</td>\n",
              "      <td>cellular</td>\n",
              "      <td>nov</td>\n",
              "      <td>thu</td>\n",
              "      <td>1.0</td>\n",
              "      <td>6.0</td>\n",
              "      <td>0.0</td>\n",
              "      <td>nonexistent</td>\n",
              "      <td>-3.4</td>\n",
              "      <td>92.649</td>\n",
              "      <td>-30.1</td>\n",
              "      <td>0.714</td>\n",
              "      <td>5017.5</td>\n",
              "      <td>0.0</td>\n",
              "    </tr>\n",
              "  </tbody>\n",
              "</table>\n",
              "</div>"
            ],
            "text/plain": [
              "       age    job  marital education default housing loan   contact month  \\\n",
              "7234  25.0  admin  married   unknown      no      no   no  cellular   nov   \n",
              "\n",
              "     day_of_week  campaign  pdays  previous     poutcome  emp_var_rate  \\\n",
              "7234         thu       1.0    6.0       0.0  nonexistent          -3.4   \n",
              "\n",
              "      cons_price_idx  cons_conf_idx  euribor3m  nr_employed  \\\n",
              "7234          92.649          -30.1      0.714       5017.5   \n",
              "\n",
              "      pdays_contacted_status  \n",
              "7234                     0.0  "
            ]
          },
          "execution_count": 393,
          "metadata": {},
          "output_type": "execute_result"
        }
      ],
      "source": [
        "x_train.head(1)"
      ]
    },
    {
      "cell_type": "code",
      "execution_count": 394,
      "metadata": {},
      "outputs": [
        {
          "data": {
            "text/plain": [
              "1"
            ]
          },
          "execution_count": 394,
          "metadata": {},
          "output_type": "execute_result"
        }
      ],
      "source": [
        "y_train[0]"
      ]
    },
    {
      "cell_type": "code",
      "execution_count": 395,
      "metadata": {
        "colab": {
          "base_uri": "https://localhost:8080/"
        },
        "id": "aExy-Wb23YSP",
        "outputId": "91e6d687-304c-41e5-bdd4-b24b1accf683"
      },
      "outputs": [
        {
          "name": "stdout",
          "output_type": "stream",
          "text": [
            "1 1\n"
          ]
        }
      ],
      "source": [
        "# Recreate person1 from the first row of the CSV\n",
        "person1 = pd.DataFrame([[25.0, 'admin', 'married', 'unknown', 'no', 'no', 'no', 'cellular', 'nov', 'fri',\n",
        "                         1.0, 6.0, 0.0, 'nonexistent', -3.4, 92.649, -30.1, 0.714, 5017.5, 0.0]],\n",
        "                       columns=x_train.columns)\n",
        "\n",
        "# Prediction (assuming pipe is already fitted)\n",
        "pipe1 = Pipeline(steps=[('preprocessor', full_pipeline_preprocessing),\n",
        "                       ('classifier', lgbm)])\n",
        "pipe2 = Pipeline(steps=[('preprocessor', full_pipeline_preprocessing),\n",
        "                        ('classifier', lg)])\n",
        "\n",
        "pred = pipe1.predict(person1)\n",
        "pred2 = pipe2.predict(person1)\n",
        "print(pred[0], pred2[0])"
      ]
    },
    {
      "cell_type": "code",
      "execution_count": 396,
      "metadata": {
        "colab": {
          "base_uri": "https://localhost:8080/"
        },
        "id": "qzTtTosC3s7c",
        "outputId": "63474a94-64fc-4571-e2e7-1d741a2c0350"
      },
      "outputs": [
        {
          "name": "stdout",
          "output_type": "stream",
          "text": [
            "[1] [1]\n"
          ]
        }
      ],
      "source": [
        "person2 = pd.DataFrame([[55.0, 'unemployed', 'married', 'basic 9y', 'no', 'yes', 'no', 'cellular', 'oct', 'mon',\n",
        "                         1.0, 6.0, 0.0, 'nonexistent', -3.4, 92.431, -26.9, 0.728, 5017.5, 0.0]], columns=x_train.columns)\n",
        "print(pipe1.predict(person2), pipe2.predict(person2))"
      ]
    },
    {
      "cell_type": "code",
      "execution_count": 397,
      "metadata": {
        "colab": {
          "base_uri": "https://localhost:8080/",
          "height": 270,
          "referenced_widgets": [
            "b33588a583a74b0ca704326da92a26ba",
            "ebd0cae92b844bc5b85c6ca43146b939",
            "d0a7f9c1ca234cfcbf80dde01b6469a6",
            "b53f9d1b87644c17a87da9e7df964c0c",
            "0c88b95b46ce418f9a065ffa977d5df5",
            "e01a27661e7b40dabe5476019a4354a7",
            "edba6df8dde94f4abb03fcf9f8630fc9",
            "9fe9f462c7254798b47382a56719dfe4"
          ]
        },
        "id": "v7WQb9yaReCA",
        "outputId": "77a480ae-80dd-47ed-e0ad-023654a22c81"
      },
      "outputs": [
        {
          "name": "stdout",
          "output_type": "stream",
          "text": [
            "\n"
          ]
        },
        {
          "data": {
            "text/html": [
              "Waiting for W&B process to finish... <strong style=\"color:green\">(success).</strong>"
            ],
            "text/plain": [
              "<IPython.core.display.HTML object>"
            ]
          },
          "metadata": {},
          "output_type": "display_data"
        },
        {
          "data": {
            "application/vnd.jupyter.widget-view+json": {
              "model_id": "d68a625c086647ceb87c86e2371258b2",
              "version_major": 2,
              "version_minor": 0
            },
            "text/plain": [
              "VBox(children=(Label(value='0.286 MB of 0.286 MB uploaded (0.000 MB deduped)\\r'), FloatProgress(value=1.0, max…"
            ]
          },
          "metadata": {},
          "output_type": "display_data"
        },
        {
          "data": {
            "text/html": [
              "Synced <strong style=\"color:#cdcd00\">iconic-glade-77</strong>: <a href=\"https://wandb.ai/hangtn13-ssc-national-economics-university/Bank-Marketing/runs/pexvis87\" target=\"_blank\">https://wandb.ai/hangtn13-ssc-national-economics-university/Bank-Marketing/runs/pexvis87</a><br/>Synced 6 W&B file(s), 25 media file(s), 13 artifact file(s) and 0 other file(s)"
            ],
            "text/plain": [
              "<IPython.core.display.HTML object>"
            ]
          },
          "metadata": {},
          "output_type": "display_data"
        },
        {
          "data": {
            "text/html": [
              "Find logs at: <code>.\\wandb\\run-20250508_212811-pexvis87\\logs</code>"
            ],
            "text/plain": [
              "<IPython.core.display.HTML object>"
            ]
          },
          "metadata": {},
          "output_type": "display_data"
        }
      ],
      "source": [
        "# close the current run before to execute the next section\n",
        "run.finish()"
      ]
    },
    {
      "cell_type": "markdown",
      "metadata": {
        "id": "G8tKLeBIa44E"
      },
      "source": [
        "## 1.6 Hyperparameter Tuning"
      ]
    },
    {
      "cell_type": "code",
      "execution_count": 398,
      "metadata": {
        "id": "eBVoapcIkc6X"
      },
      "outputs": [],
      "source": [
        "# To see all parameters of a specific step of the pipeline\n",
        "# pipe.named_steps['classifier'].get_params() #or\n",
        "# pipe.named_steps['full_pipeline'].get_params()"
      ]
    },
    {
      "cell_type": "code",
      "execution_count": 399,
      "metadata": {
        "id": "jPy291-mwumB"
      },
      "outputs": [],
      "source": [
        "# global seed\n",
        "#seed = 99"
      ]
    },
    {
      "cell_type": "markdown",
      "metadata": {},
      "source": [
        "### Tuning for Logistic Regression"
      ]
    },
    {
      "cell_type": "code",
      "execution_count": 400,
      "metadata": {},
      "outputs": [],
      "source": [
        "import optuna\n",
        "from optuna.samplers import TPESampler\n",
        "from optuna.visualization import plot_optimization_history, plot_param_importances, plot_slice"
      ]
    },
    {
      "cell_type": "code",
      "execution_count": null,
      "metadata": {},
      "outputs": [],
      "source": [
        "run = wandb.init(project=\"Bank-Marketing\",job_type=\"hyperparameters tuning\")"
      ]
    },
    {
      "cell_type": "code",
      "execution_count": 401,
      "metadata": {},
      "outputs": [
        {
          "name": "stderr",
          "output_type": "stream",
          "text": [
            "08-05-2025 21:32:06 Starting Optuna study for Logistic Regression\n",
            "[I 2025-05-08 21:32:06,169] A new study created in memory with name: no-name-a0e58f69-54db-4495-9554-222be66f3cbd\n",
            "08-05-2025 21:32:06 Optimizing hyperparameters\n",
            "[I 2025-05-08 21:32:08,211] Trial 0 finished with value: 0.6684782608695652 and parameters: {'C': 0.004413258204409404, 0: 1.0, 1: 8.5}. Best is trial 0 with value: 0.6684782608695652.\n",
            "[I 2025-05-08 21:32:08,681] Trial 1 finished with value: 0.6385869565217391 and parameters: {'C': 0.005175050628070949, 0: 1.3, 1: 9.4}. Best is trial 0 with value: 0.6684782608695652.\n",
            "[I 2025-05-08 21:32:09,073] Trial 2 finished with value: 0.6141304347826086 and parameters: {'C': 0.005641431683002108, 0: 1.4, 1: 8.9}. Best is trial 0 with value: 0.6684782608695652.\n",
            "[I 2025-05-08 21:32:09,305] Trial 3 finished with value: 0.6100543478260869 and parameters: {'C': 0.003630181727430914, 0: 1.7, 1: 9.5}. Best is trial 0 with value: 0.6684782608695652.\n",
            "[I 2025-05-08 21:32:09,491] Trial 4 finished with value: 0.6480978260869565 and parameters: {'C': 0.003945349398618275, 0: 1.1, 1: 8.6}. Best is trial 0 with value: 0.6684782608695652.\n",
            "[I 2025-05-08 21:32:09,708] Trial 5 finished with value: 0.6711956521739131 and parameters: {'C': 0.004404926543839449, 0: 1.0, 1: 8.9}. Best is trial 5 with value: 0.6711956521739131.\n",
            "[I 2025-05-08 21:32:09,987] Trial 6 finished with value: 0.65625 and parameters: {'C': 0.005045200623375594, 0: 1.1, 1: 9.0}. Best is trial 5 with value: 0.6711956521739131.\n",
            "[I 2025-05-08 21:32:10,263] Trial 7 finished with value: 0.6141304347826086 and parameters: {'C': 0.0038020595899982937, 0: 1.4, 1: 8.8}. Best is trial 5 with value: 0.6711956521739131.\n",
            "[I 2025-05-08 21:32:10,573] Trial 8 finished with value: 0.6114130434782609 and parameters: {'C': 0.009481768763348067, 0: 1.5, 1: 8.8}. Best is trial 5 with value: 0.6711956521739131.\n",
            "[I 2025-05-08 21:32:10,856] Trial 9 finished with value: 0.6073369565217391 and parameters: {'C': 0.007103540379075665, 0: 1.7, 1: 9.2}. Best is trial 5 with value: 0.6711956521739131.\n",
            "[I 2025-05-08 21:32:11,106] Trial 10 finished with value: 0.6467391304347826 and parameters: {'C': 0.003200144547742569, 0: 1.2, 1: 9.2}. Best is trial 5 with value: 0.6711956521739131.\n",
            "[I 2025-05-08 21:32:11,373] Trial 11 finished with value: 0.6684782608695652 and parameters: {'C': 0.004525876706100862, 0: 1.0, 1: 8.5}. Best is trial 5 with value: 0.6711956521739131.\n",
            "[I 2025-05-08 21:32:11,653] Trial 12 finished with value: 0.6671195652173914 and parameters: {'C': 0.007088208080038201, 0: 1.0, 1: 8.6}. Best is trial 5 with value: 0.6711956521739131.\n",
            "[I 2025-05-08 21:32:11,890] Trial 13 finished with value: 0.6399456521739131 and parameters: {'C': 0.0030526308100115368, 0: 1.2, 1: 8.7}. Best is trial 5 with value: 0.6711956521739131.\n",
            "[I 2025-05-08 21:32:12,289] Trial 14 finished with value: 0.6752717391304348 and parameters: {'C': 0.006358454511287841, 0: 1.0, 1: 9.2}. Best is trial 14 with value: 0.6752717391304348.\n",
            "[I 2025-05-08 21:32:12,641] Trial 15 finished with value: 0.657608695652174 and parameters: {'C': 0.00683078687855592, 0: 1.1, 1: 9.2}. Best is trial 14 with value: 0.6752717391304348.\n",
            "[I 2025-05-08 21:32:13,093] Trial 16 finished with value: 0.6453804347826086 and parameters: {'C': 0.005878275126116309, 0: 1.2, 1: 9.1}. Best is trial 14 with value: 0.6752717391304348.\n",
            "[I 2025-05-08 21:32:13,493] Trial 17 finished with value: 0.6725543478260869 and parameters: {'C': 0.009408538397714905, 0: 1.0, 1: 9.0}. Best is trial 14 with value: 0.6752717391304348.\n",
            "[I 2025-05-08 21:32:13,757] Trial 18 finished with value: 0.6100543478260869 and parameters: {'C': 0.009806637031804424, 0: 1.6, 1: 9.3}. Best is trial 14 with value: 0.6752717391304348.\n",
            "[I 2025-05-08 21:32:14,035] Trial 19 finished with value: 0.623641304347826 and parameters: {'C': 0.008341914918006958, 0: 1.3, 1: 9.0}. Best is trial 14 with value: 0.6752717391304348.\n",
            "[I 2025-05-08 21:32:14,286] Trial 20 finished with value: 0.6644021739130435 and parameters: {'C': 0.008347186528256195, 0: 1.1, 1: 9.4}. Best is trial 14 with value: 0.6752717391304348.\n",
            "[I 2025-05-08 21:32:14,530] Trial 21 finished with value: 0.6739130434782609 and parameters: {'C': 0.006569237177885806, 0: 1.0, 1: 9.0}. Best is trial 14 with value: 0.6752717391304348.\n",
            "[I 2025-05-08 21:32:14,814] Trial 22 finished with value: 0.6752717391304348 and parameters: {'C': 0.00636425740123525, 0: 1.0, 1: 9.1}. Best is trial 14 with value: 0.6752717391304348.\n",
            "[I 2025-05-08 21:32:15,061] Trial 23 finished with value: 0.65625 and parameters: {'C': 0.00632447769338661, 0: 1.1, 1: 9.1}. Best is trial 14 with value: 0.6752717391304348.\n",
            "[I 2025-05-08 21:32:15,339] Trial 24 finished with value: 0.6453804347826086 and parameters: {'C': 0.006397208509296522, 0: 1.2, 1: 9.1}. Best is trial 14 with value: 0.6752717391304348.\n",
            "[I 2025-05-08 21:32:15,593] Trial 25 finished with value: 0.6752717391304348 and parameters: {'C': 0.007878022194589225, 0: 1.0, 1: 9.3}. Best is trial 14 with value: 0.6752717391304348.\n",
            "[I 2025-05-08 21:32:15,842] Trial 26 finished with value: 0.6589673913043478 and parameters: {'C': 0.007823441511569848, 0: 1.1, 1: 9.3}. Best is trial 14 with value: 0.6752717391304348.\n",
            "[I 2025-05-08 21:32:16,107] Trial 27 finished with value: 0.6752717391304348 and parameters: {'C': 0.007459497327979142, 0: 1.0, 1: 9.3}. Best is trial 14 with value: 0.6752717391304348.\n",
            "[I 2025-05-08 21:32:16,556] Trial 28 finished with value: 0.6372282608695652 and parameters: {'C': 0.008505714988514594, 0: 1.3, 1: 9.5}. Best is trial 14 with value: 0.6752717391304348.\n",
            "[I 2025-05-08 21:32:16,804] Trial 29 finished with value: 0.6779891304347826 and parameters: {'C': 0.0058895971022582035, 0: 1.0, 1: 9.4}. Best is trial 29 with value: 0.6779891304347826.\n",
            "08-05-2025 21:32:16 Best parameters: {'C': 0.0058895971022582035, 0: 1.0, 1: 9.4}\n",
            "08-05-2025 21:32:16 Best Recall score: 0.6779891304347826\n"
          ]
        }
      ],
      "source": [
        "def objective(trial):\n",
        "    # Define model with hyperparameters to optimize\n",
        "\n",
        "    #tol = trial.suggest_float('tol', 1e-5, 1e-4, log=True)\n",
        "    C = trial.suggest_float('C', 0.003, 0.01, log=True)\n",
        "    class_weight = {\n",
        "            0: trial.suggest_float(0, 1, 1.7, step=0.1),\n",
        "            1: trial.suggest_float(1, 8.5, 9.5, step=0.1)\n",
        "        }          \n",
        "    model = LogisticRegression(\n",
        "        #tol=tol, \n",
        "        C=C,\n",
        "        class_weight=class_weight,\n",
        "        max_iter= 1000\n",
        "        )\n",
        "    model.fit(x_train_processed, y_train)\n",
        "    y_pred = model.predict(x_val_processed)\n",
        "    y_pred_proba = model.predict_proba(x_val_processed)[:, 1]\n",
        "    precision, recall, _ = precision_recall_curve(y_val, y_pred_proba)\n",
        "    recall_s = recall_score(y_val, y_pred, zero_division=1)\n",
        "    auc_pr = auc(recall, precision)  # compute AUC-PR\n",
        "    f1_score = fbeta_score(y_val, y_pred, beta=1, zero_division=1)\n",
        "    roc_auc = roc_auc_score(y_val, y_pred_proba)\n",
        "    acc = accuracy_score(y_val, y_pred)\n",
        "\n",
        "    return recall_s\n",
        "    \n",
        "    # Create and run Optuna study\n",
        "logger.info(\"Starting Optuna study for Logistic Regression\")\n",
        "study = optuna.create_study(direction='maximize', sampler=TPESampler())\n",
        "logger.info(\"Optimizing hyperparameters\")\n",
        "study.optimize(objective, n_trials=30)\n",
        "    \n",
        "    # Get best parameters\n",
        "best_trial = study.best_trial\n",
        "best_params = best_trial.params\n",
        "best_value = best_trial.value\n",
        "    \n",
        "logger.info(\"Best parameters: {}\".format(best_params))\n",
        "logger.info(\"Best Recall score: {}\".format(best_value))"
      ]
    },
    {
      "cell_type": "code",
      "execution_count": 402,
      "metadata": {},
      "outputs": [
        {
          "name": "stdout",
          "output_type": "stream",
          "text": [
            "              precision    recall  f1-score   support\n",
            "\n",
            "           0       0.95      0.78      0.86      5569\n",
            "           1       0.29      0.68      0.41       736\n",
            "\n",
            "    accuracy                           0.77      6305\n",
            "   macro avg       0.62      0.73      0.63      6305\n",
            "weighted avg       0.87      0.77      0.81      6305\n",
            "\n"
          ]
        }
      ],
      "source": [
        "m = LogisticRegression(**{ 'C': 0.00312260516665413, 'class_weight':{0: 1, 1:  9.5}, 'max_iter': 1000})\n",
        "m.fit(x_train_processed, y_train)\n",
        "mpredprob= m.predict_proba(x_val_processed)\n",
        "threshold = 0.5\n",
        "mpred = np.where(mpredprob[:, 1] > threshold, 1, 0)\n",
        "print(classification_report(y_val,mpred))"
      ]
    },
    {
      "cell_type": "code",
      "execution_count": 403,
      "metadata": {},
      "outputs": [
        {
          "data": {
            "text/plain": [
              "0.7921015110823112"
            ]
          },
          "execution_count": 403,
          "metadata": {},
          "output_type": "execute_result"
        }
      ],
      "source": [
        "roc_auc_score(y_val, mpredprob[:,1])"
      ]
    },
    {
      "cell_type": "code",
      "execution_count": 404,
      "metadata": {},
      "outputs": [
        {
          "data": {
            "text/plain": [
              "0.6820652173913043"
            ]
          },
          "execution_count": 404,
          "metadata": {},
          "output_type": "execute_result"
        }
      ],
      "source": [
        "recall_score(y_val, mpred, zero_division=1)"
      ]
    },
    {
      "cell_type": "code",
      "execution_count": 405,
      "metadata": {},
      "outputs": [
        {
          "data": {
            "image/png": "[encoded data removed]",
            "text/plain": [
              "<Figure size 700x400 with 2 Axes>"
            ]
          },
          "metadata": {},
          "output_type": "display_data"
        }
      ],
      "source": [
        "fig_confusion_matrix, ax = plt.subplots(1,1,figsize=(7,4))\n",
        "ConfusionMatrixDisplay(confusion_matrix(mpred,y_val,labels=[1,0]),\n",
        "                       display_labels=[\"1\",\"0\"]).plot(values_format=\".0f\",ax=ax)\n",
        "                       \n",
        "ax.set_title(\"Confusion Matrix for Logistic Regression\")\n",
        "ax.set_xlabel(\"True Label\")\n",
        "ax.set_ylabel(\"Predicted Label\")\n",
        "plt.show()"
      ]
    },
    {
      "cell_type": "markdown",
      "metadata": {},
      "source": [
        "### Tuning for LightGBM"
      ]
    },
    {
      "cell_type": "code",
      "execution_count": 406,
      "metadata": {},
      "outputs": [],
      "source": [
        "#!pip install optuna-integration[lightgbm]"
      ]
    },
    {
      "cell_type": "code",
      "execution_count": 408,
      "metadata": {},
      "outputs": [
        {
          "data": {
            "text/plain": [
              "{'boosting_type': 'gbdt',\n",
              " 'class_weight': 'balanced',\n",
              " 'colsample_bytree': 1.0,\n",
              " 'importance_type': 'split',\n",
              " 'learning_rate': 0.1,\n",
              " 'max_depth': -1,\n",
              " 'min_child_samples': 20,\n",
              " 'min_child_weight': 0.001,\n",
              " 'min_split_gain': 0.0,\n",
              " 'n_estimators': 100,\n",
              " 'n_jobs': None,\n",
              " 'num_leaves': 31,\n",
              " 'objective': None,\n",
              " 'random_state': None,\n",
              " 'reg_alpha': 0.0,\n",
              " 'reg_lambda': 0.0,\n",
              " 'subsample': 1.0,\n",
              " 'subsample_for_bin': 200000,\n",
              " 'subsample_freq': 0}"
            ]
          },
          "execution_count": 408,
          "metadata": {},
          "output_type": "execute_result"
        }
      ],
      "source": [
        "lgbm.get_params()"
      ]
    },
    {
      "cell_type": "code",
      "execution_count": null,
      "metadata": {},
      "outputs": [
        {
          "name": "stderr",
          "output_type": "stream",
          "text": [
            "08-05-2025 21:48:58 Starting Optuna study for LightGBM\n",
            "[I 2025-05-08 21:48:58,972] A new study created in memory with name: no-name-efa34ed1-b874-46aa-a8ef-ed83455971e1\n",
            "08-05-2025 21:48:58 Optimizing hyperparameters\n",
            "[I 2025-05-08 21:49:01,729] Trial 0 finished with value: 0.5801630434782609 and parameters: {'class_weight_0': 1.5, 'class_weight_1': 9.5, 'max_depth': 15, 'reg_alpha': 8.107986020415399e-07, 'reg_lambda': 2.528676581823165e-08, 'num_leaves': 146, 'feature_fraction': 0.8763503419146573, 'bagging_fraction': 0.8434462168544168, 'bagging_freq': 5, 'min_child_samples': 72}. Best is trial 0 with value: 0.5801630434782609.\n",
            "[I 2025-05-08 21:49:02,840] Trial 1 finished with value: 0.595108695652174 and parameters: {'class_weight_0': 1.5, 'class_weight_1': 9.0, 'max_depth': 10, 'reg_alpha': 1.5541977078335218e-06, 'reg_lambda': 0.00045951337303580346, 'num_leaves': 95, 'feature_fraction': 0.49054850260015437, 'bagging_fraction': 0.819736740765937, 'bagging_freq': 7, 'min_child_samples': 58}. Best is trial 1 with value: 0.595108695652174.\n",
            "[I 2025-05-08 21:49:04,876] Trial 2 finished with value: 0.5883152173913043 and parameters: {'class_weight_0': 1.0, 'class_weight_1': 9.4, 'max_depth': 10, 'reg_alpha': 2.9657256230125383e-08, 'reg_lambda': 0.3164464214946338, 'num_leaves': 185, 'feature_fraction': 0.5603927088730487, 'bagging_fraction': 0.9084899753620646, 'bagging_freq': 4, 'min_child_samples': 13}. Best is trial 1 with value: 0.595108695652174.\n",
            "[I 2025-05-08 21:49:06,131] Trial 3 finished with value: 0.6290760869565217 and parameters: {'class_weight_0': 1.2, 'class_weight_1': 9.3, 'max_depth': 13, 'reg_alpha': 0.007304661781966799, 'reg_lambda': 5.401828424478741e-07, 'num_leaves': 173, 'feature_fraction': 0.5519555023150595, 'bagging_fraction': 0.735626318368219, 'bagging_freq': 4, 'min_child_samples': 68}. Best is trial 3 with value: 0.6290760869565217.\n",
            "[I 2025-05-08 21:49:07,773] Trial 4 finished with value: 0.5747282608695652 and parameters: {'class_weight_0': 1.3, 'class_weight_1': 9.4, 'max_depth': 12, 'reg_alpha': 9.774656667757741e-07, 'reg_lambda': 0.1254319279070541, 'num_leaves': 197, 'feature_fraction': 0.6150542876243237, 'bagging_fraction': 0.6664705885674873, 'bagging_freq': 3, 'min_child_samples': 35}. Best is trial 3 with value: 0.6290760869565217.\n",
            "[I 2025-05-08 21:49:08,589] Trial 5 finished with value: 0.5896739130434783 and parameters: {'class_weight_0': 1.4, 'class_weight_1': 9.0, 'max_depth': 13, 'reg_alpha': 0.08831831761880266, 'reg_lambda': 0.6940739135326115, 'num_leaves': 66, 'feature_fraction': 0.9147400107011578, 'bagging_fraction': 0.797335307125606, 'bagging_freq': 3, 'min_child_samples': 30}. Best is trial 3 with value: 0.6290760869565217.\n",
            "[I 2025-05-08 21:49:09,597] Trial 6 finished with value: 0.657608695652174 and parameters: {'class_weight_0': 1.1, 'class_weight_1': 9.4, 'max_depth': 13, 'reg_alpha': 2.538846358789642e-06, 'reg_lambda': 2.1592887255093263e-06, 'num_leaves': 147, 'feature_fraction': 0.9617864971302255, 'bagging_fraction': 0.5743121865127221, 'bagging_freq': 5, 'min_child_samples': 91}. Best is trial 6 with value: 0.657608695652174.\n",
            "[I 2025-05-08 21:49:11,091] Trial 7 finished with value: 0.5448369565217391 and parameters: {'class_weight_0': 1.5, 'class_weight_1': 9.2, 'max_depth': 10, 'reg_alpha': 0.000194993421853706, 'reg_lambda': 1.2018854163448295e-08, 'num_leaves': 189, 'feature_fraction': 0.992937349157881, 'bagging_fraction': 0.6785253103787372, 'bagging_freq': 6, 'min_child_samples': 25}. Best is trial 6 with value: 0.657608695652174.\n",
            "[I 2025-05-08 21:49:11,750] Trial 8 finished with value: 0.6182065217391305 and parameters: {'class_weight_0': 1.4, 'class_weight_1': 9.4, 'max_depth': 14, 'reg_alpha': 1.1332499612630329e-05, 'reg_lambda': 4.1605564153540334e-08, 'num_leaves': 29, 'feature_fraction': 0.5603070348424513, 'bagging_fraction': 0.4216611436335115, 'bagging_freq': 6, 'min_child_samples': 10}. Best is trial 6 with value: 0.657608695652174.\n",
            "[I 2025-05-08 21:49:13,742] Trial 9 finished with value: 0.6019021739130435 and parameters: {'class_weight_0': 1.3, 'class_weight_1': 9.3, 'max_depth': 15, 'reg_alpha': 9.946830495252412e-06, 'reg_lambda': 0.9422431462613933, 'num_leaves': 95, 'feature_fraction': 0.46933504811904797, 'bagging_fraction': 0.9008678917970756, 'bagging_freq': 4, 'min_child_samples': 23}. Best is trial 6 with value: 0.657608695652174.\n",
            "[I 2025-05-08 21:49:15,033] Trial 10 finished with value: 0.65625 and parameters: {'class_weight_0': 1.0, 'class_weight_1': 9.2, 'max_depth': 12, 'reg_alpha': 2.2162618799062704e-08, 'reg_lambda': 1.6932734029047776e-05, 'num_leaves': 138, 'feature_fraction': 0.8042433541569045, 'bagging_fraction': 0.5142220066532581, 'bagging_freq': 2, 'min_child_samples': 99}. Best is trial 6 with value: 0.657608695652174.\n",
            "[I 2025-05-08 21:49:16,046] Trial 11 finished with value: 0.6630434782608695 and parameters: {'class_weight_0': 1.0, 'class_weight_1': 9.2, 'max_depth': 12, 'reg_alpha': 1.00825052049558e-08, 'reg_lambda': 1.4121942597310661e-05, 'num_leaves': 136, 'feature_fraction': 0.7707614022772715, 'bagging_fraction': 0.5307056964315466, 'bagging_freq': 1, 'min_child_samples': 99}. Best is trial 11 with value: 0.6630434782608695.\n",
            "[I 2025-05-08 21:49:17,053] Trial 12 finished with value: 0.6508152173913043 and parameters: {'class_weight_0': 1.1, 'class_weight_1': 9.1, 'max_depth': 11, 'reg_alpha': 1.2815041531134472e-08, 'reg_lambda': 2.2329607513979094e-05, 'num_leaves': 135, 'feature_fraction': 0.732092435777366, 'bagging_fraction': 0.5609729317255019, 'bagging_freq': 1, 'min_child_samples': 100}. Best is trial 11 with value: 0.6630434782608695.\n",
            "[I 2025-05-08 21:49:18,082] Trial 13 finished with value: 0.6385869565217391 and parameters: {'class_weight_0': 1.1, 'class_weight_1': 9.5, 'max_depth': 14, 'reg_alpha': 0.0006470556432515091, 'reg_lambda': 0.0007345217915188991, 'num_leaves': 156, 'feature_fraction': 0.7243613168690678, 'bagging_fraction': 0.5563665579691924, 'bagging_freq': 1, 'min_child_samples': 84}. Best is trial 11 with value: 0.6630434782608695.\n",
            "[I 2025-05-08 21:49:19,142] Trial 14 finished with value: 0.6657608695652174 and parameters: {'class_weight_0': 1.1, 'class_weight_1': 9.1, 'max_depth': 12, 'reg_alpha': 1.6214446509105365e-07, 'reg_lambda': 1.3765071910430397e-06, 'num_leaves': 115, 'feature_fraction': 0.9899274489644531, 'bagging_fraction': 0.4069588673171593, 'bagging_freq': 5, 'min_child_samples': 85}. Best is trial 14 with value: 0.6657608695652174.\n",
            "[I 2025-05-08 21:49:20,273] Trial 15 finished with value: 0.6671195652173914 and parameters: {'class_weight_0': 1.0, 'class_weight_1': 9.1, 'max_depth': 11, 'reg_alpha': 1.4184900763123867e-07, 'reg_lambda': 0.005197846520161704, 'num_leaves': 115, 'feature_fraction': 0.824065793857517, 'bagging_fraction': 0.41528100471192003, 'bagging_freq': 2, 'min_child_samples': 80}. Best is trial 15 with value: 0.6671195652173914.\n",
            "[I 2025-05-08 21:49:21,252] Trial 16 finished with value: 0.623641304347826 and parameters: {'class_weight_0': 1.2, 'class_weight_1': 9.1, 'max_depth': 11, 'reg_alpha': 2.6045034687951726e-07, 'reg_lambda': 0.005814649162203971, 'num_leaves': 108, 'feature_fraction': 0.863188067331486, 'bagging_fraction': 0.4006116138556092, 'bagging_freq': 3, 'min_child_samples': 47}. Best is trial 15 with value: 0.6671195652173914.\n",
            "[I 2025-05-08 21:49:22,044] Trial 17 finished with value: 0.6385869565217391 and parameters: {'class_weight_0': 1.1, 'class_weight_1': 9.1, 'max_depth': 11, 'reg_alpha': 1.4453918750082915e-07, 'reg_lambda': 0.008855665743385406, 'num_leaves': 65, 'feature_fraction': 0.8349773546481396, 'bagging_fraction': 0.48163409933512136, 'bagging_freq': 2, 'min_child_samples': 78}. Best is trial 15 with value: 0.6671195652173914.\n",
            "[I 2025-05-08 21:49:22,994] Trial 18 finished with value: 0.6385869565217391 and parameters: {'class_weight_0': 1.0, 'class_weight_1': 9.0, 'max_depth': 11, 'reg_alpha': 1.7109716935464658e-05, 'reg_lambda': 3.0652377564884937e-07, 'num_leaves': 69, 'feature_fraction': 0.6496739549902606, 'bagging_fraction': 0.9956978517146364, 'bagging_freq': 5, 'min_child_samples': 62}. Best is trial 15 with value: 0.6671195652173914.\n",
            "[I 2025-05-08 21:49:24,330] Trial 19 finished with value: 0.6209239130434783 and parameters: {'class_weight_0': 1.2, 'class_weight_1': 9.1, 'max_depth': 12, 'reg_alpha': 1.5716238417324662e-07, 'reg_lambda': 0.034410849494015065, 'num_leaves': 121, 'feature_fraction': 0.9084667859252247, 'bagging_fraction': 0.44392268381368905, 'bagging_freq': 2, 'min_child_samples': 86}. Best is trial 15 with value: 0.6671195652173914.\n",
            "[I 2025-05-08 21:49:25,987] Trial 20 finished with value: 0.6331521739130435 and parameters: {'class_weight_0': 1.1, 'class_weight_1': 9.1, 'max_depth': 11, 'reg_alpha': 0.48523451726449995, 'reg_lambda': 0.00018408756266676522, 'num_leaves': 88, 'feature_fraction': 0.9502478696005414, 'bagging_fraction': 0.6194662687313796, 'bagging_freq': 7, 'min_child_samples': 47}. Best is trial 15 with value: 0.6671195652173914.\n",
            "[I 2025-05-08 21:49:26,928] Trial 21 finished with value: 0.6413043478260869 and parameters: {'class_weight_0': 1.0, 'class_weight_1': 9.2, 'max_depth': 12, 'reg_alpha': 8.899349632874955e-08, 'reg_lambda': 1.3644287358531029e-05, 'num_leaves': 119, 'feature_fraction': 0.7998786430036465, 'bagging_fraction': 0.4912187433281797, 'bagging_freq': 1, 'min_child_samples': 90}. Best is trial 15 with value: 0.6671195652173914.\n",
            "[I 2025-05-08 21:49:28,224] Trial 22 finished with value: 0.6453804347826086 and parameters: {'class_weight_0': 1.0, 'class_weight_1': 9.2, 'max_depth': 12, 'reg_alpha': 1.22713133788585e-08, 'reg_lambda': 3.298983440453276e-06, 'num_leaves': 164, 'feature_fraction': 0.7680061219789843, 'bagging_fraction': 0.45623695341574, 'bagging_freq': 2, 'min_child_samples': 77}. Best is trial 15 with value: 0.6671195652173914.\n",
            "[I 2025-05-08 21:49:29,114] Trial 23 finished with value: 0.65625 and parameters: {'class_weight_0': 1.0, 'class_weight_1': 9.3, 'max_depth': 13, 'reg_alpha': 7.133147615028965e-08, 'reg_lambda': 0.004241309897375736, 'num_leaves': 116, 'feature_fraction': 0.6589263178086632, 'bagging_fraction': 0.4919831792154412, 'bagging_freq': 1, 'min_child_samples': 95}. Best is trial 15 with value: 0.6671195652173914.\n",
            "[I 2025-05-08 21:49:30,092] Trial 24 finished with value: 0.6426630434782609 and parameters: {'class_weight_0': 1.1, 'class_weight_1': 9.1, 'max_depth': 11, 'reg_alpha': 3.251905269762569e-07, 'reg_lambda': 6.953895871498165e-05, 'num_leaves': 128, 'feature_fraction': 0.7649708321686548, 'bagging_fraction': 0.5323881233389273, 'bagging_freq': 3, 'min_child_samples': 83}. Best is trial 15 with value: 0.6671195652173914.\n",
            "[I 2025-05-08 21:49:31,419] Trial 25 finished with value: 0.6535326086956522 and parameters: {'class_weight_0': 1.0, 'class_weight_1': 9.2, 'max_depth': 12, 'reg_alpha': 5.2128184528528044e-05, 'reg_lambda': 1.953850157207451e-07, 'num_leaves': 102, 'feature_fraction': 0.6891002705126261, 'bagging_fraction': 0.6087733156575406, 'bagging_freq': 6, 'min_child_samples': 66}. Best is trial 15 with value: 0.6671195652173914.\n",
            "[I 2025-05-08 21:49:33,336] Trial 26 finished with value: 0.6480978260869565 and parameters: {'class_weight_0': 1.1, 'class_weight_1': 9.0, 'max_depth': 14, 'reg_alpha': 3.672683058652484e-06, 'reg_lambda': 3.8273666106769654e-06, 'num_leaves': 81, 'feature_fraction': 0.8388506558251505, 'bagging_fraction': 0.4274714141153954, 'bagging_freq': 2, 'min_child_samples': 76}. Best is trial 15 with value: 0.6671195652173914.\n",
            "[I 2025-05-08 21:49:34,346] Trial 27 finished with value: 0.6331521739130435 and parameters: {'class_weight_0': 1.2, 'class_weight_1': 9.1, 'max_depth': 10, 'reg_alpha': 0.0019464874069440225, 'reg_lambda': 0.001699595217094903, 'num_leaves': 128, 'feature_fraction': 0.9933306138553295, 'bagging_fraction': 0.4607810475708433, 'bagging_freq': 1, 'min_child_samples': 91}. Best is trial 15 with value: 0.6671195652173914.\n",
            "[I 2025-05-08 21:49:35,106] Trial 28 finished with value: 0.6875 and parameters: {'class_weight_0': 1.0, 'class_weight_1': 9.2, 'max_depth': 11, 'reg_alpha': 4.590574379411927e-08, 'reg_lambda': 5.364165602574015e-05, 'num_leaves': 41, 'feature_fraction': 0.41903934093830536, 'bagging_fraction': 0.40251337723690406, 'bagging_freq': 5, 'min_child_samples': 82}. Best is trial 28 with value: 0.6875.\n",
            "[I 2025-05-08 21:49:35,896] Trial 29 finished with value: 0.6711956521739131 and parameters: {'class_weight_0': 1.1, 'class_weight_1': 9.3, 'max_depth': 11, 'reg_alpha': 5.734031366290893e-07, 'reg_lambda': 9.132100608793247e-05, 'num_leaves': 20, 'feature_fraction': 0.4152317515479405, 'bagging_fraction': 0.4086860235609936, 'bagging_freq': 5, 'min_child_samples': 70}. Best is trial 28 with value: 0.6875.\n",
            "[I 2025-05-08 21:49:36,574] Trial 30 finished with value: 0.6725543478260869 and parameters: {'class_weight_0': 1.0, 'class_weight_1': 9.3, 'max_depth': 10, 'reg_alpha': 6.11062249179142e-07, 'reg_lambda': 0.00012938429319022283, 'num_leaves': 20, 'feature_fraction': 0.41806239120170774, 'bagging_fraction': 0.6250322219541171, 'bagging_freq': 6, 'min_child_samples': 71}. Best is trial 28 with value: 0.6875.\n",
            "[I 2025-05-08 21:49:37,544] Trial 31 finished with value: 0.6711956521739131 and parameters: {'class_weight_0': 1.0, 'class_weight_1': 9.3, 'max_depth': 10, 'reg_alpha': 5.856501346819185e-07, 'reg_lambda': 9.242242819327317e-05, 'num_leaves': 26, 'feature_fraction': 0.40298662198919766, 'bagging_fraction': 0.7175462559724386, 'bagging_freq': 6, 'min_child_samples': 70}. Best is trial 28 with value: 0.6875.\n",
            "[I 2025-05-08 21:49:38,128] Trial 32 finished with value: 0.6671195652173914 and parameters: {'class_weight_0': 1.0, 'class_weight_1': 9.3, 'max_depth': 10, 'reg_alpha': 7.91695230749135e-07, 'reg_lambda': 0.00010883437718308691, 'num_leaves': 21, 'feature_fraction': 0.4053393101819447, 'bagging_fraction': 0.7398154040065918, 'bagging_freq': 6, 'min_child_samples': 55}. Best is trial 28 with value: 0.6875.\n",
            "[I 2025-05-08 21:49:38,824] Trial 33 finished with value: 0.6807065217391305 and parameters: {'class_weight_0': 1.0, 'class_weight_1': 9.3, 'max_depth': 10, 'reg_alpha': 5.653522662519912e-07, 'reg_lambda': 0.0003220470443714306, 'num_leaves': 42, 'feature_fraction': 0.4004147425987138, 'bagging_fraction': 0.7809101760617236, 'bagging_freq': 7, 'min_child_samples': 72}. Best is trial 28 with value: 0.6875.\n",
            "[I 2025-05-08 21:49:39,922] Trial 34 finished with value: 0.6616847826086957 and parameters: {'class_weight_0': 1.1, 'class_weight_1': 9.3, 'max_depth': 10, 'reg_alpha': 4.3877081509021246e-08, 'reg_lambda': 0.00031581655124407004, 'num_leaves': 42, 'feature_fraction': 0.4516329348570181, 'bagging_fraction': 0.7870207400400057, 'bagging_freq': 7, 'min_child_samples': 60}. Best is trial 28 with value: 0.6875.\n",
            "[I 2025-05-08 21:49:41,958] Trial 35 finished with value: 0.6752717391304348 and parameters: {'class_weight_0': 1.0, 'class_weight_1': 9.5, 'max_depth': 10, 'reg_alpha': 2.4008545442271937e-06, 'reg_lambda': 0.0008060564573300183, 'num_leaves': 41, 'feature_fraction': 0.5144706215571285, 'bagging_fraction': 0.8552680971000717, 'bagging_freq': 7, 'min_child_samples': 72}. Best is trial 28 with value: 0.6875.\n",
            "[I 2025-05-08 21:49:42,823] Trial 36 finished with value: 0.6793478260869565 and parameters: {'class_weight_0': 1.0, 'class_weight_1': 9.5, 'max_depth': 10, 'reg_alpha': 2.7162054587780333e-06, 'reg_lambda': 0.0008591290785391109, 'num_leaves': 44, 'feature_fraction': 0.5214206113193085, 'bagging_fraction': 0.9072260640964558, 'bagging_freq': 7, 'min_child_samples': 64}. Best is trial 28 with value: 0.6875.\n",
            "[I 2025-05-08 21:49:43,705] Trial 37 finished with value: 0.6589673913043478 and parameters: {'class_weight_0': 1.0, 'class_weight_1': 9.5, 'max_depth': 10, 'reg_alpha': 2.779046575640355e-06, 'reg_lambda': 0.0009850720635367664, 'num_leaves': 48, 'feature_fraction': 0.5095474804398319, 'bagging_fraction': 0.8686962460998404, 'bagging_freq': 7, 'min_child_samples': 51}. Best is trial 28 with value: 0.6875.\n",
            "[I 2025-05-08 21:49:44,458] Trial 38 finished with value: 0.6467391304347826 and parameters: {'class_weight_0': 1.2, 'class_weight_1': 9.5, 'max_depth': 10, 'reg_alpha': 5.6187844380874726e-05, 'reg_lambda': 0.024807128327662218, 'num_leaves': 44, 'feature_fraction': 0.517051041082154, 'bagging_fraction': 0.8401128738877377, 'bagging_freq': 7, 'min_child_samples': 62}. Best is trial 28 with value: 0.6875.\n",
            "[I 2025-05-08 21:49:45,485] Trial 39 finished with value: 0.623641304347826 and parameters: {'class_weight_0': 1.3, 'class_weight_1': 9.4, 'max_depth': 10, 'reg_alpha': 1.8917238566497352e-06, 'reg_lambda': 0.0019196991145898736, 'num_leaves': 57, 'feature_fraction': 0.6095575850256132, 'bagging_fraction': 0.9561773072816406, 'bagging_freq': 7, 'min_child_samples': 65}. Best is trial 28 with value: 0.6875.\n",
            "[I 2025-05-08 21:49:46,241] Trial 40 finished with value: 0.6100543478260869 and parameters: {'class_weight_0': 1.5, 'class_weight_1': 9.5, 'max_depth': 10, 'reg_alpha': 6.523937562481048e-06, 'reg_lambda': 0.00034708758267204824, 'num_leaves': 35, 'feature_fraction': 0.4540367488036265, 'bagging_fraction': 0.7748569320109505, 'bagging_freq': 7, 'min_child_samples': 38}. Best is trial 28 with value: 0.6875.\n",
            "[I 2025-05-08 21:49:47,600] Trial 41 finished with value: 0.6752717391304348 and parameters: {'class_weight_0': 1.0, 'class_weight_1': 9.4, 'max_depth': 10, 'reg_alpha': 1.2487614555734858e-06, 'reg_lambda': 3.48727966823189e-05, 'num_leaves': 52, 'feature_fraction': 0.4332570527987339, 'bagging_fraction': 0.9007936374976456, 'bagging_freq': 6, 'min_child_samples': 73}. Best is trial 28 with value: 0.6875.\n",
            "[I 2025-05-08 21:49:48,593] Trial 42 finished with value: 0.6752717391304348 and parameters: {'class_weight_0': 1.0, 'class_weight_1': 9.4, 'max_depth': 10, 'reg_alpha': 3.304269571391273e-05, 'reg_lambda': 4.656005638356253e-05, 'num_leaves': 53, 'feature_fraction': 0.488472276904925, 'bagging_fraction': 0.9022942399313484, 'bagging_freq': 6, 'min_child_samples': 74}. Best is trial 28 with value: 0.6875.\n",
            "[I 2025-05-08 21:49:49,480] Trial 43 finished with value: 0.6644021739130435 and parameters: {'class_weight_0': 1.0, 'class_weight_1': 9.4, 'max_depth': 10, 'reg_alpha': 0.0001456318466089456, 'reg_lambda': 3.081530217845427e-05, 'num_leaves': 34, 'feature_fraction': 0.5227122750988814, 'bagging_fraction': 0.9365744176817359, 'bagging_freq': 5, 'min_child_samples': 56}. Best is trial 28 with value: 0.6875.\n",
            "[I 2025-05-08 21:49:51,608] Trial 44 finished with value: 0.6725543478260869 and parameters: {'class_weight_0': 1.0, 'class_weight_1': 9.5, 'max_depth': 11, 'reg_alpha': 1.3086140219051146e-06, 'reg_lambda': 7.59714251332464e-06, 'num_leaves': 76, 'feature_fraction': 0.4407124020398515, 'bagging_fraction': 0.8770850664004128, 'bagging_freq': 6, 'min_child_samples': 66}. Best is trial 28 with value: 0.6875.\n",
            "[I 2025-05-08 21:49:52,659] Trial 45 finished with value: 0.6589673913043478 and parameters: {'class_weight_0': 1.1, 'class_weight_1': 9.4, 'max_depth': 10, 'reg_alpha': 4.0180038105754695e-06, 'reg_lambda': 0.0004678324262835114, 'num_leaves': 58, 'feature_fraction': 0.5814914637564975, 'bagging_fraction': 0.816475198567501, 'bagging_freq': 7, 'min_child_samples': 81}. Best is trial 28 with value: 0.6875.\n",
            "[I 2025-05-08 21:49:53,542] Trial 46 finished with value: 0.6820652173913043 and parameters: {'class_weight_0': 1.0, 'class_weight_1': 9.5, 'max_depth': 11, 'reg_alpha': 1.750277102513839e-05, 'reg_lambda': 0.000915952717497148, 'num_leaves': 41, 'feature_fraction': 0.47873210670959443, 'bagging_fraction': 0.7604211559460938, 'bagging_freq': 6, 'min_child_samples': 74}. Best is trial 28 with value: 0.6875.\n",
            "[I 2025-05-08 21:49:54,819] Trial 47 finished with value: 0.6752717391304348 and parameters: {'class_weight_0': 1.0, 'class_weight_1': 9.5, 'max_depth': 11, 'reg_alpha': 3.445743537987215e-08, 'reg_lambda': 0.014915899221256058, 'num_leaves': 38, 'feature_fraction': 0.48503486234975446, 'bagging_fraction': 0.7527299833905006, 'bagging_freq': 7, 'min_child_samples': 75}. Best is trial 28 with value: 0.6875.\n",
            "[I 2025-05-08 21:49:55,491] Trial 48 finished with value: 0.626358695652174 and parameters: {'class_weight_0': 1.4, 'class_weight_1': 9.5, 'max_depth': 11, 'reg_alpha': 1.916466187319517e-05, 'reg_lambda': 0.002345642069226667, 'num_leaves': 30, 'feature_fraction': 0.5414902567621621, 'bagging_fraction': 0.823301547330682, 'bagging_freq': 5, 'min_child_samples': 88}. Best is trial 28 with value: 0.6875.\n",
            "[I 2025-05-08 21:49:56,283] Trial 49 finished with value: 0.6467391304347826 and parameters: {'class_weight_0': 1.1, 'class_weight_1': 9.5, 'max_depth': 11, 'reg_alpha': 0.0003080008296165184, 'reg_lambda': 0.07452208632663129, 'num_leaves': 63, 'feature_fraction': 0.5849781880741682, 'bagging_fraction': 0.8600899331306292, 'bagging_freq': 7, 'min_child_samples': 51}. Best is trial 28 with value: 0.6875.\n",
            "[I 2025-05-08 21:49:57,373] Trial 50 finished with value: 0.6331521739130435 and parameters: {'class_weight_0': 1.0, 'class_weight_1': 9.5, 'max_depth': 15, 'reg_alpha': 8.930437066082452e-06, 'reg_lambda': 0.0010859529131946016, 'num_leaves': 75, 'feature_fraction': 0.46571044191505334, 'bagging_fraction': 0.6981729109279605, 'bagging_freq': 4, 'min_child_samples': 6}. Best is trial 28 with value: 0.6875.\n",
            "[I 2025-05-08 21:49:58,196] Trial 51 finished with value: 0.6644021739130435 and parameters: {'class_weight_0': 1.0, 'class_weight_1': 9.4, 'max_depth': 10, 'reg_alpha': 1.4956134303209289e-06, 'reg_lambda': 0.00037808323324399674, 'num_leaves': 45, 'feature_fraction': 0.4340217467622052, 'bagging_fraction': 0.9328995481452895, 'bagging_freq': 6, 'min_child_samples': 71}. Best is trial 28 with value: 0.6875.\n",
            "[I 2025-05-08 21:49:59,092] Trial 52 finished with value: 0.6657608695652174 and parameters: {'class_weight_0': 1.0, 'class_weight_1': 9.4, 'max_depth': 10, 'reg_alpha': 5.363489559836569e-06, 'reg_lambda': 0.00024275522136818853, 'num_leaves': 54, 'feature_fraction': 0.4797382447611044, 'bagging_fraction': 0.8086959811262526, 'bagging_freq': 6, 'min_child_samples': 80}. Best is trial 28 with value: 0.6875.\n",
            "[I 2025-05-08 21:49:59,867] Trial 53 finished with value: 0.6684782608695652 and parameters: {'class_weight_0': 1.0, 'class_weight_1': 9.5, 'max_depth': 10, 'reg_alpha': 2.946164108344793e-07, 'reg_lambda': 0.0006867710282190007, 'num_leaves': 51, 'feature_fraction': 0.4316649806555741, 'bagging_fraction': 0.7645521734184303, 'bagging_freq': 7, 'min_child_samples': 73}. Best is trial 28 with value: 0.6875.\n",
            "[I 2025-05-08 21:50:00,741] Trial 54 finished with value: 0.6494565217391305 and parameters: {'class_weight_0': 1.1, 'class_weight_1': 9.4, 'max_depth': 11, 'reg_alpha': 1.5360627999419155e-05, 'reg_lambda': 3.1737334829570324e-05, 'num_leaves': 39, 'feature_fraction': 0.505199712400972, 'bagging_fraction': 0.8388803595510285, 'bagging_freq': 6, 'min_child_samples': 65}. Best is trial 28 with value: 0.6875.\n",
            "[I 2025-05-08 21:50:01,753] Trial 55 finished with value: 0.65625 and parameters: {'class_weight_0': 1.0, 'class_weight_1': 9.5, 'max_depth': 10, 'reg_alpha': 1.3116781864551762e-06, 'reg_lambda': 0.0032437404905333164, 'num_leaves': 61, 'feature_fraction': 0.5519558232993294, 'bagging_fraction': 0.9795691241147823, 'bagging_freq': 4, 'min_child_samples': 59}. Best is trial 28 with value: 0.6875.\n",
            "[I 2025-05-08 21:50:02,572] Trial 56 finished with value: 0.6711956521739131 and parameters: {'class_weight_0': 1.0, 'class_weight_1': 9.4, 'max_depth': 11, 'reg_alpha': 2.9898968177864168e-05, 'reg_lambda': 1.030575581225813e-06, 'num_leaves': 32, 'feature_fraction': 0.46552356272225814, 'bagging_fraction': 0.8825170258622688, 'bagging_freq': 5, 'min_child_samples': 78}. Best is trial 28 with value: 0.6875.\n",
            "[I 2025-05-08 21:50:03,594] Trial 57 finished with value: 0.6589673913043478 and parameters: {'class_weight_0': 1.1, 'class_weight_1': 9.2, 'max_depth': 10, 'reg_alpha': 7.043447060315967e-08, 'reg_lambda': 0.0012358467741311165, 'num_leaves': 49, 'feature_fraction': 0.4285362225443791, 'bagging_fraction': 0.6605850507018572, 'bagging_freq': 7, 'min_child_samples': 83}. Best is trial 28 with value: 0.6875.\n",
            "[I 2025-05-08 21:50:04,197] Trial 58 finished with value: 0.6711956521739131 and parameters: {'class_weight_0': 1.0, 'class_weight_1': 9.5, 'max_depth': 13, 'reg_alpha': 0.03717592445921877, 'reg_lambda': 0.0001727083476354561, 'num_leaves': 26, 'feature_fraction': 0.4973839769812419, 'bagging_fraction': 0.9233494225651125, 'bagging_freq': 6, 'min_child_samples': 74}. Best is trial 28 with value: 0.6875.\n",
            "[I 2025-05-08 21:50:05,164] Trial 59 finished with value: 0.6630434782608695 and parameters: {'class_weight_0': 1.1, 'class_weight_1': 9.5, 'max_depth': 11, 'reg_alpha': 3.4727547243243876e-07, 'reg_lambda': 0.007798741765227424, 'num_leaves': 73, 'feature_fraction': 0.5441030745358538, 'bagging_fraction': 0.7871107738846455, 'bagging_freq': 6, 'min_child_samples': 96}. Best is trial 28 with value: 0.6875.\n",
            "[I 2025-05-08 21:50:06,089] Trial 60 finished with value: 0.6589673913043478 and parameters: {'class_weight_0': 1.0, 'class_weight_1': 9.2, 'max_depth': 10, 'reg_alpha': 3.1901118013696576e-06, 'reg_lambda': 1.0920436460413224e-05, 'num_leaves': 85, 'feature_fraction': 0.5277019435945676, 'bagging_fraction': 0.8538058380727847, 'bagging_freq': 7, 'min_child_samples': 62}. Best is trial 28 with value: 0.6875.\n",
            "[I 2025-05-08 21:50:06,785] Trial 61 finished with value: 0.6711956521739131 and parameters: {'class_weight_0': 1.0, 'class_weight_1': 9.4, 'max_depth': 10, 'reg_alpha': 4.6348010578520763e-05, 'reg_lambda': 5.267835497318793e-05, 'num_leaves': 40, 'feature_fraction': 0.48633296511683444, 'bagging_fraction': 0.8973044675345356, 'bagging_freq': 6, 'min_child_samples': 68}. Best is trial 28 with value: 0.6875.\n",
            "[I 2025-05-08 21:50:07,779] Trial 62 finished with value: 0.654891304347826 and parameters: {'class_weight_0': 1.0, 'class_weight_1': 9.4, 'max_depth': 10, 'reg_alpha': 7.4745328183196546e-06, 'reg_lambda': 5.1702064508188756e-05, 'num_leaves': 52, 'feature_fraction': 0.45899461274502557, 'bagging_fraction': 0.9111400361359556, 'bagging_freq': 5, 'min_child_samples': 75}. Best is trial 28 with value: 0.6875.\n",
            "[I 2025-05-08 21:50:08,990] Trial 63 finished with value: 0.6793478260869565 and parameters: {'class_weight_0': 1.0, 'class_weight_1': 9.4, 'max_depth': 10, 'reg_alpha': 0.0004073587585470248, 'reg_lambda': 3.2616946584878244e-05, 'num_leaves': 66, 'feature_fraction': 0.4457443045964379, 'bagging_fraction': 0.8855245497313026, 'bagging_freq': 6, 'min_child_samples': 87}. Best is trial 28 with value: 0.6875.\n",
            "[I 2025-05-08 21:50:10,848] Trial 64 finished with value: 0.6657608695652174 and parameters: {'class_weight_0': 1.0, 'class_weight_1': 9.5, 'max_depth': 11, 'reg_alpha': 9.978396358667484e-05, 'reg_lambda': 7.223986360660893e-06, 'num_leaves': 68, 'feature_fraction': 0.4442833379932519, 'bagging_fraction': 0.954405565750582, 'bagging_freq': 5, 'min_child_samples': 86}. Best is trial 28 with value: 0.6875.\n",
            "[I 2025-05-08 21:50:11,668] Trial 65 finished with value: 0.6684782608695652 and parameters: {'class_weight_0': 1.0, 'class_weight_1': 9.3, 'max_depth': 10, 'reg_alpha': 0.002666684516065201, 'reg_lambda': 0.000604509281878751, 'num_leaves': 45, 'feature_fraction': 0.4025293712943242, 'bagging_fraction': 0.7196139324584804, 'bagging_freq': 7, 'min_child_samples': 80}. Best is trial 28 with value: 0.6875.\n",
            "[I 2025-05-08 21:50:12,871] Trial 66 finished with value: 0.6494565217391305 and parameters: {'class_weight_0': 1.1, 'class_weight_1': 9.4, 'max_depth': 10, 'reg_alpha': 9.181752464632978e-07, 'reg_lambda': 0.00022427581172061514, 'num_leaves': 28, 'feature_fraction': 0.571236852495089, 'bagging_fraction': 0.833636187053485, 'bagging_freq': 6, 'min_child_samples': 93}. Best is trial 28 with value: 0.6875.\n",
            "[I 2025-05-08 21:50:13,878] Trial 67 finished with value: 0.6779891304347826 and parameters: {'class_weight_0': 1.0, 'class_weight_1': 9.2, 'max_depth': 11, 'reg_alpha': 0.0007947495191967193, 'reg_lambda': 2.194004406315115e-05, 'num_leaves': 60, 'feature_fraction': 0.43025928087717197, 'bagging_fraction': 0.8013180317012877, 'bagging_freq': 7, 'min_child_samples': 88}. Best is trial 28 with value: 0.6875.\n",
            "[I 2025-05-08 21:50:15,774] Trial 68 finished with value: 0.65625 and parameters: {'class_weight_0': 1.1, 'class_weight_1': 9.2, 'max_depth': 12, 'reg_alpha': 0.0006424948791970953, 'reg_lambda': 2.235830909594804e-05, 'num_leaves': 94, 'feature_fraction': 0.42461840220389774, 'bagging_fraction': 0.8036712633180562, 'bagging_freq': 7, 'min_child_samples': 87}. Best is trial 28 with value: 0.6875.\n",
            "[I 2025-05-08 21:50:16,761] Trial 69 finished with value: 0.6644021739130435 and parameters: {'class_weight_0': 1.0, 'class_weight_1': 9.2, 'max_depth': 11, 'reg_alpha': 0.0020380316514733857, 'reg_lambda': 3.8014058697856507e-06, 'num_leaves': 60, 'feature_fraction': 0.4654758522695172, 'bagging_fraction': 0.7594717924961708, 'bagging_freq': 7, 'min_child_samples': 82}. Best is trial 28 with value: 0.6875.\n",
            "[I 2025-05-08 21:50:17,897] Trial 70 finished with value: 0.6630434782608695 and parameters: {'class_weight_0': 1.0, 'class_weight_1': 9.3, 'max_depth': 12, 'reg_alpha': 0.0003768426917386001, 'reg_lambda': 0.00015277152603142277, 'num_leaves': 180, 'feature_fraction': 0.6065278973483413, 'bagging_fraction': 0.686444116727587, 'bagging_freq': 7, 'min_child_samples': 90}. Best is trial 28 with value: 0.6875.\n",
            "[I 2025-05-08 21:50:18,800] Trial 71 finished with value: 0.6698369565217391 and parameters: {'class_weight_0': 1.0, 'class_weight_1': 9.2, 'max_depth': 11, 'reg_alpha': 0.0013484416546355527, 'reg_lambda': 1.8372069919252e-05, 'num_leaves': 37, 'feature_fraction': 0.4398827666454569, 'bagging_fraction': 0.8873022831591215, 'bagging_freq': 6, 'min_child_samples': 78}. Best is trial 28 with value: 0.6875.\n",
            "[I 2025-05-08 21:50:19,833] Trial 72 finished with value: 0.6698369565217391 and parameters: {'class_weight_0': 1.0, 'class_weight_1': 9.2, 'max_depth': 10, 'reg_alpha': 0.008335911447911907, 'reg_lambda': 7.0759773895379605e-06, 'num_leaves': 68, 'feature_fraction': 0.41840709075053056, 'bagging_fraction': 0.8559177529394515, 'bagging_freq': 7, 'min_child_samples': 69}. Best is trial 28 with value: 0.6875.\n",
            "[I 2025-05-08 21:50:20,671] Trial 73 finished with value: 0.6766304347826086 and parameters: {'class_weight_0': 1.0, 'class_weight_1': 9.3, 'max_depth': 11, 'reg_alpha': 0.0008667230565809849, 'reg_lambda': 7.16321915371119e-05, 'num_leaves': 47, 'feature_fraction': 0.47634421808326843, 'bagging_fraction': 0.7946072910212446, 'bagging_freq': 7, 'min_child_samples': 84}. Best is trial 28 with value: 0.6875.\n",
            "[I 2025-05-08 21:50:21,497] Trial 74 finished with value: 0.6752717391304348 and parameters: {'class_weight_0': 1.0, 'class_weight_1': 9.3, 'max_depth': 11, 'reg_alpha': 0.0039897917875819375, 'reg_lambda': 6.898365862893665e-05, 'num_leaves': 43, 'feature_fraction': 0.4759728092737379, 'bagging_fraction': 0.7889471649932321, 'bagging_freq': 7, 'min_child_samples': 96}. Best is trial 28 with value: 0.6875.\n",
            "[I 2025-05-08 21:50:22,383] Trial 75 finished with value: 0.6752717391304348 and parameters: {'class_weight_0': 1.0, 'class_weight_1': 9.3, 'max_depth': 11, 'reg_alpha': 0.011553663266469595, 'reg_lambda': 0.00011182985613937247, 'num_leaves': 48, 'feature_fraction': 0.5016647393611882, 'bagging_fraction': 0.7394390267321763, 'bagging_freq': 7, 'min_child_samples': 84}. Best is trial 28 with value: 0.6875.\n",
            "[I 2025-05-08 21:50:23,130] Trial 76 finished with value: 0.6711956521739131 and parameters: {'class_weight_0': 1.0, 'class_weight_1': 9.2, 'max_depth': 12, 'reg_alpha': 0.000853661742309681, 'reg_lambda': 0.0005555868926542464, 'num_leaves': 25, 'feature_fraction': 0.5301670379779523, 'bagging_fraction': 0.7192980278265826, 'bagging_freq': 7, 'min_child_samples': 89}. Best is trial 28 with value: 0.6875.\n",
            "[I 2025-05-08 21:50:24,578] Trial 77 finished with value: 0.6195652173913043 and parameters: {'class_weight_0': 1.4, 'class_weight_1': 9.3, 'max_depth': 11, 'reg_alpha': 9.976337935388381e-05, 'reg_lambda': 0.00155409435868912, 'num_leaves': 57, 'feature_fraction': 0.4522420263171311, 'bagging_fraction': 0.7748518114475591, 'bagging_freq': 7, 'min_child_samples': 93}. Best is trial 28 with value: 0.6875.\n",
            "[I 2025-05-08 21:50:26,869] Trial 78 finished with value: 0.6494565217391305 and parameters: {'class_weight_0': 1.1, 'class_weight_1': 9.3, 'max_depth': 11, 'reg_alpha': 0.00033852737198226675, 'reg_lambda': 0.0008082387959086832, 'num_leaves': 200, 'feature_fraction': 0.4003865815474975, 'bagging_fraction': 0.8227652193055456, 'bagging_freq': 4, 'min_child_samples': 84}. Best is trial 28 with value: 0.6875.\n",
            "[I 2025-05-08 21:50:28,156] Trial 79 finished with value: 0.6290760869565217 and parameters: {'class_weight_0': 1.3, 'class_weight_1': 9.5, 'max_depth': 13, 'reg_alpha': 0.00019522404850181723, 'reg_lambda': 0.0025633868568239767, 'num_leaves': 41, 'feature_fraction': 0.6395051784725465, 'bagging_fraction': 0.6584251549650508, 'bagging_freq': 7, 'min_child_samples': 79}. Best is trial 28 with value: 0.6875.\n",
            "[I 2025-05-08 21:50:29,114] Trial 80 finished with value: 0.6698369565217391 and parameters: {'class_weight_0': 1.0, 'class_weight_1': 9.2, 'max_depth': 11, 'reg_alpha': 2.1047927442020005e-08, 'reg_lambda': 0.0002539869156544121, 'num_leaves': 33, 'feature_fraction': 0.4755759437947005, 'bagging_fraction': 0.7982532996030948, 'bagging_freq': 6, 'min_child_samples': 77}. Best is trial 28 with value: 0.6875.\n",
            "[I 2025-05-08 21:50:30,270] Trial 81 finished with value: 0.6671195652173914 and parameters: {'class_weight_0': 1.0, 'class_weight_1': 9.5, 'max_depth': 10, 'reg_alpha': 0.0009467378739687877, 'reg_lambda': 3.3696895285637845e-05, 'num_leaves': 53, 'feature_fraction': 0.413319748319266, 'bagging_fraction': 0.8727941116397138, 'bagging_freq': 6, 'min_child_samples': 67}. Best is trial 28 with value: 0.6875.\n",
            "[I 2025-05-08 21:50:32,674] Trial 82 finished with value: 0.6535326086956522 and parameters: {'class_weight_0': 1.0, 'class_weight_1': 9.4, 'max_depth': 10, 'reg_alpha': 2.179590245327515e-06, 'reg_lambda': 7.429967974202684e-05, 'num_leaves': 64, 'feature_fraction': 0.4496572649745893, 'bagging_fraction': 0.9208689774751564, 'bagging_freq': 7, 'min_child_samples': 72}. Best is trial 28 with value: 0.6875.\n",
            "[I 2025-05-08 21:50:33,877] Trial 83 finished with value: 0.654891304347826 and parameters: {'class_weight_0': 1.0, 'class_weight_1': 9.3, 'max_depth': 10, 'reg_alpha': 2.337853694077469e-07, 'reg_lambda': 1.0264259611960065e-05, 'num_leaves': 47, 'feature_fraction': 0.425814907720442, 'bagging_fraction': 0.8470866162891199, 'bagging_freq': 6, 'min_child_samples': 21}. Best is trial 28 with value: 0.6875.\n",
            "[I 2025-05-08 21:50:35,216] Trial 84 finished with value: 0.6711956521739131 and parameters: {'class_weight_0': 1.0, 'class_weight_1': 9.5, 'max_depth': 10, 'reg_alpha': 1.3945386087074515e-05, 'reg_lambda': 3.645073523799885e-05, 'num_leaves': 56, 'feature_fraction': 0.5086226710636904, 'bagging_fraction': 0.8947256273558518, 'bagging_freq': 5, 'min_child_samples': 86}. Best is trial 28 with value: 0.6875.\n",
            "[I 2025-05-08 21:50:36,210] Trial 85 finished with value: 0.6616847826086957 and parameters: {'class_weight_0': 1.0, 'class_weight_1': 9.4, 'max_depth': 10, 'reg_alpha': 4.6832898619063735e-07, 'reg_lambda': 2.096098244266484e-05, 'num_leaves': 36, 'feature_fraction': 0.43210136170200364, 'bagging_fraction': 0.9587346330370974, 'bagging_freq': 6, 'min_child_samples': 92}. Best is trial 28 with value: 0.6875.\n",
            "[I 2025-05-08 21:50:37,188] Trial 86 finished with value: 0.6630434782608695 and parameters: {'class_weight_0': 1.0, 'class_weight_1': 9.2, 'max_depth': 11, 'reg_alpha': 0.004610591336762638, 'reg_lambda': 0.00015593961411939812, 'num_leaves': 71, 'feature_fraction': 0.4967897424052514, 'bagging_fraction': 0.8279483987633208, 'bagging_freq': 7, 'min_child_samples': 73}. Best is trial 28 with value: 0.6875.\n",
            "[I 2025-05-08 21:50:38,182] Trial 87 finished with value: 0.654891304347826 and parameters: {'class_weight_0': 1.1, 'class_weight_1': 9.5, 'max_depth': 11, 'reg_alpha': 9.766665477193397e-08, 'reg_lambda': 0.0004170025553450055, 'num_leaves': 78, 'feature_fraction': 0.46794108616356056, 'bagging_fraction': 0.8692937352913215, 'bagging_freq': 6, 'min_child_samples': 63}. Best is trial 28 with value: 0.6875.\n",
            "[I 2025-05-08 21:50:38,926] Trial 88 finished with value: 0.6671195652173914 and parameters: {'class_weight_0': 1.0, 'class_weight_1': 9.3, 'max_depth': 10, 'reg_alpha': 4.503712316044288e-06, 'reg_lambda': 0.003997852194705605, 'num_leaves': 31, 'feature_fraction': 0.41495162621851517, 'bagging_fraction': 0.7716108639327358, 'bagging_freq': 7, 'min_child_samples': 82}. Best is trial 28 with value: 0.6875.\n",
            "[I 2025-05-08 21:50:39,824] Trial 89 finished with value: 0.6779891304347826 and parameters: {'class_weight_0': 1.0, 'class_weight_1': 9.5, 'max_depth': 12, 'reg_alpha': 7.214020945568007e-05, 'reg_lambda': 1.9300083734883267e-06, 'num_leaves': 62, 'feature_fraction': 0.4417088711578041, 'bagging_fraction': 0.7479239465114221, 'bagging_freq': 5, 'min_child_samples': 70}. Best is trial 28 with value: 0.6875.\n",
            "[I 2025-05-08 21:50:40,944] Trial 90 finished with value: 0.6766304347826086 and parameters: {'class_weight_0': 1.0, 'class_weight_1': 9.5, 'max_depth': 12, 'reg_alpha': 0.00019715504596183605, 'reg_lambda': 2.909704641889607e-08, 'num_leaves': 61, 'feature_fraction': 0.4483911831101138, 'bagging_fraction': 0.7508528269042475, 'bagging_freq': 4, 'min_child_samples': 76}. Best is trial 28 with value: 0.6875.\n",
            "[I 2025-05-08 21:50:42,390] Trial 91 finished with value: 0.6725543478260869 and parameters: {'class_weight_0': 1.0, 'class_weight_1': 9.5, 'max_depth': 12, 'reg_alpha': 0.00018078075867584872, 'reg_lambda': 4.994657905867314e-08, 'num_leaves': 61, 'feature_fraction': 0.44974288559136855, 'bagging_fraction': 0.8090036669663035, 'bagging_freq': 4, 'min_child_samples': 76}. Best is trial 28 with value: 0.6875.\n",
            "[I 2025-05-08 21:50:43,530] Trial 92 finished with value: 0.6711956521739131 and parameters: {'class_weight_0': 1.0, 'class_weight_1': 9.5, 'max_depth': 12, 'reg_alpha': 7.802126929510429e-05, 'reg_lambda': 8.765168572346995e-07, 'num_leaves': 65, 'feature_fraction': 0.4813314888468043, 'bagging_fraction': 0.751934373525626, 'bagging_freq': 3, 'min_child_samples': 71}. Best is trial 28 with value: 0.6875.\n",
            "[I 2025-05-08 21:50:44,774] Trial 93 finished with value: 0.6630434782608695 and parameters: {'class_weight_0': 1.0, 'class_weight_1': 9.5, 'max_depth': 13, 'reg_alpha': 3.337706986312153e-05, 'reg_lambda': 1.1823735814864087e-08, 'num_leaves': 81, 'feature_fraction': 0.5162400519509002, 'bagging_fraction': 0.740942161085765, 'bagging_freq': 4, 'min_child_samples': 81}. Best is trial 28 with value: 0.6875.\n",
            "[I 2025-05-08 21:50:45,694] Trial 94 finished with value: 0.6779891304347826 and parameters: {'class_weight_0': 1.0, 'class_weight_1': 9.5, 'max_depth': 12, 'reg_alpha': 0.0003712642607850477, 'reg_lambda': 9.273159444603292e-08, 'num_leaves': 48, 'feature_fraction': 0.4599590306530428, 'bagging_fraction': 0.7252282936113703, 'bagging_freq': 4, 'min_child_samples': 76}. Best is trial 28 with value: 0.6875.\n",
            "[I 2025-05-08 21:50:46,639] Trial 95 finished with value: 0.6657608695652174 and parameters: {'class_weight_0': 1.0, 'class_weight_1': 9.5, 'max_depth': 12, 'reg_alpha': 0.00026082677658423255, 'reg_lambda': 9.816647106770261e-08, 'num_leaves': 49, 'feature_fraction': 0.45867798672007865, 'bagging_fraction': 0.7087339511351577, 'bagging_freq': 4, 'min_child_samples': 68}. Best is trial 28 with value: 0.6875.\n",
            "[I 2025-05-08 21:50:47,689] Trial 96 finished with value: 0.6657608695652174 and parameters: {'class_weight_0': 1.0, 'class_weight_1': 9.5, 'max_depth': 12, 'reg_alpha': 0.0007919577703784348, 'reg_lambda': 1.8265527205719082e-07, 'num_leaves': 56, 'feature_fraction': 0.44210048362411114, 'bagging_fraction': 0.7299287401553987, 'bagging_freq': 4, 'min_child_samples': 76}. Best is trial 28 with value: 0.6875.\n",
            "[I 2025-05-08 21:50:48,936] Trial 97 finished with value: 0.6752717391304348 and parameters: {'class_weight_0': 1.0, 'class_weight_1': 9.5, 'max_depth': 12, 'reg_alpha': 0.00014466261284099008, 'reg_lambda': 2.1037861705988e-08, 'num_leaves': 44, 'feature_fraction': 0.7008283101288793, 'bagging_fraction': 0.675797109473637, 'bagging_freq': 4, 'min_child_samples': 88}. Best is trial 28 with value: 0.6875.\n",
            "[I 2025-05-08 21:50:49,871] Trial 98 finished with value: 0.6644021739130435 and parameters: {'class_weight_0': 1.0, 'class_weight_1': 9.5, 'max_depth': 13, 'reg_alpha': 0.0004442584329493773, 'reg_lambda': 5.690374953810953e-07, 'num_leaves': 59, 'feature_fraction': 0.49008797383348923, 'bagging_fraction': 0.5843901626572274, 'bagging_freq': 3, 'min_child_samples': 64}. Best is trial 28 with value: 0.6875.\n",
            "[I 2025-05-08 21:50:50,791] Trial 99 finished with value: 0.6508152173913043 and parameters: {'class_weight_0': 1.1, 'class_weight_1': 9.5, 'max_depth': 12, 'reg_alpha': 0.00045658990982206635, 'reg_lambda': 7.473799741349219e-08, 'num_leaves': 71, 'feature_fraction': 0.41238876812772884, 'bagging_fraction': 0.64613761168878, 'bagging_freq': 5, 'min_child_samples': 45}. Best is trial 28 with value: 0.6875.\n",
            "08-05-2025 21:50:50 Best Recall value: 0.6875\n",
            "08-05-2025 21:50:50 Best Params: \n"
          ]
        },
        {
          "name": "stdout",
          "output_type": "stream",
          "text": [
            "Number of finished trials: 100\n",
            "Best trial:\n",
            "    class_weight_0: 1.0\n",
            "    class_weight_1: 9.2\n",
            "    max_depth: 11\n",
            "    reg_alpha: 4.590574379411927e-08\n",
            "    reg_lambda: 5.364165602574015e-05\n",
            "    num_leaves: 41\n",
            "    feature_fraction: 0.41903934093830536\n",
            "    bagging_fraction: 0.40251337723690406\n",
            "    bagging_freq: 5\n",
            "    min_child_samples: 82\n"
          ]
        }
      ],
      "source": [
        "import numpy as np\n",
        "import lightgbm\n",
        "\n",
        "def objective(trial):\n",
        "    data, target = x_train_processed, y_train\n",
        "    train_x, valid_x, train_y, valid_y = x_train_processed, x_val_processed, y_train, y_val\n",
        "\n",
        "    # Giả sử y_train là mảng numpy hoặc pandas Series chứa nhãn 0/1\n",
        "    weight_0 = trial.suggest_float(\"class_weight_0\", 1, 1.5, step=0.1)\n",
        "    weight_1 = trial.suggest_float(\"class_weight_1\", 9.0, 9.5, step=0.1)\n",
        "\n",
        "    sample_weight = np.where(y_train == 0, weight_0, weight_1)\n",
        "\n",
        "    dtrain = lightgbm.Dataset(train_x, label=train_y, weight=sample_weight)\n",
        "\n",
        "    param = {\n",
        "        \"objective\": \"binary\",\n",
        "        \"metric\": \"binary_logloss\",\n",
        "        \"verbosity\": -1,\n",
        "        'max_depth': trial.suggest_int('max_depth', 10, 15),\n",
        "        \"reg_alpha\": trial.suggest_float(\"reg_alpha\", 1e-8, 1, log=True),\n",
        "        \"reg_lambda\": trial.suggest_float(\"reg_lambda\", 1e-8, 1, log=True),\n",
        "        \"num_leaves\": trial.suggest_int(\"num_leaves\", 20, 200),\n",
        "        \"feature_fraction\": trial.suggest_float(\"feature_fraction\", 0.4, 1.0),\n",
        "        \"bagging_fraction\": trial.suggest_float(\"bagging_fraction\", 0.4, 1.0),\n",
        "        \"bagging_freq\": trial.suggest_int(\"bagging_freq\", 1, 7),\n",
        "        \"min_child_samples\": trial.suggest_int(\"min_child_samples\", 5, 100)\n",
        "    }\n",
        "    gbm = lightgbm.train(param, dtrain)\n",
        "    preds = gbm.predict(valid_x)\n",
        "    pred_labels = np.rint(preds)\n",
        "    r = recall_score(valid_y, pred_labels, zero_division=1)\n",
        "    return r\n",
        "\n",
        "\n",
        "if __name__ == \"__main__\":\n",
        "    logger.info(\"Starting Optuna study for LightGBM\")\n",
        "    study = optuna.create_study(direction=\"maximize\")\n",
        "    logger.info(\"Optimizing hyperparameters\")\n",
        "    study.optimize(objective, n_trials=100)\n",
        "\n",
        "    print(\"Number of finished trials: {}\".format(len(study.trials)))\n",
        "\n",
        "    print(\"Best trial:\")\n",
        "    trial = study.best_trial\n",
        "\n",
        "    logger.info(\"Best Recall value: {}\".format(trial.value))\n",
        "\n",
        "    logger.info(\"Best Params: \")\n",
        "    for key, value in trial.params.items():\n",
        "        print(\"    {}: {}\".format(key, value))    "
      ]
    },
    {
      "cell_type": "code",
      "execution_count": null,
      "metadata": {},
      "outputs": [
        {
          "data": {
            "text/plain": [
              "{'class_weight_0': 1.0,\n",
              " 'class_weight_1': 9.2,\n",
              " 'max_depth': 11,\n",
              " 'reg_alpha': 4.590574379411927e-08,\n",
              " 'reg_lambda': 5.364165602574015e-05,\n",
              " 'num_leaves': 41,\n",
              " 'feature_fraction': 0.41903934093830536,\n",
              " 'bagging_fraction': 0.40251337723690406,\n",
              " 'bagging_freq': 5,\n",
              " 'min_child_samples': 82,\n",
              " 'verbosity': -1,\n",
              " 'objective': 'binary',\n",
              " 'metric': 'binary_logloss'}"
            ]
          },
          "execution_count": 477,
          "metadata": {},
          "output_type": "execute_result"
        }
      ],
      "source": [
        "best_params= study.best_params\n",
        "best_params['verbosity'] = -1\n",
        "best_params['objective']= 'binary'\n",
        "best_params['metric']='binary_logloss'"
      ]
    },
    {
      "cell_type": "markdown",
      "metadata": {},
      "source": [
        "another try: {'class_weight_0': 1.0,\n",
        " 'class_weight_1': 9.3,\n",
        " 'reg_alpha': 0.0038399569534804346,\n",
        " 'reg_lambda': 0.02050593804828291,\n",
        " 'num_leaves': 162,\n",
        " 'feature_fraction': 0.40033389181425705,\n",
        " 'bagging_fraction': 0.4548821848901073,\n",
        " 'bagging_freq': 5,\n",
        " 'min_child_samples': 98,\n",
        " 'verbosity': -1}"
      ]
    },
    {
      "cell_type": "code",
      "execution_count": 478,
      "metadata": {},
      "outputs": [
        {
          "name": "stdout",
          "output_type": "stream",
          "text": [
            "              precision    recall  f1-score   support\n",
            "\n",
            "           0       0.95      0.80      0.87      5569\n",
            "           1       0.31      0.69      0.43       736\n",
            "\n",
            "    accuracy                           0.79      6305\n",
            "   macro avg       0.63      0.74      0.65      6305\n",
            "weighted avg       0.88      0.79      0.82      6305\n",
            "\n"
          ]
        }
      ],
      "source": [
        "n = LGBMClassifier(**best_params, class_weight={0:1, 1:9.2})\n",
        "n.fit(x_train_processed, y_train)\n",
        "npred = n.predict(x_val_processed)\n",
        "npredprob= n.predict_proba(x_val_processed)\n",
        "#threshold = 0.5\n",
        "#npred = np.where(npredprob[:, 1] > threshold, 1, 0)\n",
        "print(classification_report(y_val,npred))"
      ]
    },
    {
      "cell_type": "code",
      "execution_count": 479,
      "metadata": {},
      "outputs": [
        {
          "data": {
            "text/plain": [
              "0.800694669443425"
            ]
          },
          "execution_count": 479,
          "metadata": {},
          "output_type": "execute_result"
        }
      ],
      "source": [
        "roc_auc_score(y_val, npredprob[:,1])"
      ]
    },
    {
      "cell_type": "code",
      "execution_count": 463,
      "metadata": {},
      "outputs": [
        {
          "data": {
            "text/plain": [
              "0.6875"
            ]
          },
          "execution_count": 463,
          "metadata": {},
          "output_type": "execute_result"
        }
      ],
      "source": [
        "recall_score(y_val, npred, zero_division=1)"
      ]
    },
    {
      "cell_type": "code",
      "execution_count": 464,
      "metadata": {},
      "outputs": [
        {
          "data": {
            "image/png": "[encoded data removed]",
            "text/plain": [
              "<Figure size 700x400 with 2 Axes>"
            ]
          },
          "metadata": {},
          "output_type": "display_data"
        }
      ],
      "source": [
        "fig_confusion_matrix, ax = plt.subplots(1,1,figsize=(7,4))\n",
        "ConfusionMatrixDisplay(confusion_matrix(npred,y_val,labels=[1,0]),\n",
        "                       display_labels=[\"1\",\"0\"]).plot(values_format=\".0f\",ax=ax)\n",
        "                       \n",
        "ax.set_title(\"Confusion Matrix for Logistic Regression\")\n",
        "ax.set_xlabel(\"True Label\")\n",
        "ax.set_ylabel(\"Predicted Label\")\n",
        "plt.show()"
      ]
    },
    {
      "cell_type": "code",
      "execution_count": 1,
      "metadata": {},
      "outputs": [
        {
          "ename": "NameError",
          "evalue": "name 'run' is not defined",
          "output_type": "error",
          "traceback": [
            "\u001b[1;31m---------------------------------------------------------------------------\u001b[0m",
            "\u001b[1;31mNameError\u001b[0m                                 Traceback (most recent call last)",
            "Cell \u001b[1;32mIn[1], line 1\u001b[0m\n\u001b[1;32m----> 1\u001b[0m \u001b[43mrun\u001b[49m\u001b[38;5;241m.\u001b[39mfinish()\n",
            "\u001b[1;31mNameError\u001b[0m: name 'run' is not defined"
          ]
        }
      ],
      "source": [
        "run.finish()"
      ]
    },
    {
      "cell_type": "markdown",
      "metadata": {
        "id": "HKRubLTMopvR"
      },
      "source": [
        "## 1.7 Configure and train the best model"
      ]
    },
    {
      "cell_type": "code",
      "execution_count": 465,
      "metadata": {
        "id": "IGYp599tSSfO"
      },
      "outputs": [
        {
          "data": {
            "text/html": [
              "wandb version 0.19.11 is available!  To upgrade, please run:\n",
              " $ pip install wandb --upgrade"
            ],
            "text/plain": [
              "<IPython.core.display.HTML object>"
            ]
          },
          "metadata": {},
          "output_type": "display_data"
        },
        {
          "data": {
            "text/html": [
              "Tracking run with wandb version 0.12.14"
            ],
            "text/plain": [
              "<IPython.core.display.HTML object>"
            ]
          },
          "metadata": {},
          "output_type": "display_data"
        },
        {
          "data": {
            "text/html": [
              "Run data is saved locally in <code>e:\\DSEB DOCUMENTS\\6th Semester\\MLOps\\Water\\Mlops_Project_K64-experiment-1\\wandb\\run-20250508_222545-razeq8rt</code>"
            ],
            "text/plain": [
              "<IPython.core.display.HTML object>"
            ]
          },
          "metadata": {},
          "output_type": "display_data"
        },
        {
          "data": {
            "text/html": [
              "Syncing run <strong><a href=\"https://wandb.ai/hangtn13-ssc-national-economics-university/Bank-Marketing/runs/razeq8rt\" target=\"_blank\">exalted-pond-84</a></strong> to <a href=\"https://wandb.ai/hangtn13-ssc-national-economics-university/Bank-Marketing\" target=\"_blank\">Weights & Biases</a> (<a href=\"https://wandb.me/run\" target=\"_blank\">docs</a>)<br/>"
            ],
            "text/plain": [
              "<IPython.core.display.HTML object>"
            ]
          },
          "metadata": {},
          "output_type": "display_data"
        }
      ],
      "source": [
        "#Note that a new run is yet synced to last sweep run \n",
        "# Just to check\n",
        "run = wandb.init(project=\"Bank-Marketing\", job_type=\"Save best model\" )"
      ]
    },
    {
      "cell_type": "code",
      "execution_count": 1,
      "metadata": {},
      "outputs": [],
      "source": [
        "best_params={\n",
        " 'max_depth': 11,\n",
        " 'reg_alpha': 4.590574379411927e-08,\n",
        " 'reg_lambda': 5.364165602574015e-05,\n",
        " 'num_leaves': 41,\n",
        " 'feature_fraction': 0.41903934093830536,\n",
        " 'bagging_fraction': 0.40251337723690406,\n",
        " 'bagging_freq': 5,\n",
        " 'min_child_samples': 82,\n",
        " 'verbosity': -1,\n",
        " 'objective': 'binary',\n",
        " 'metric': 'binary_logloss'}"
      ]
    },
    {
      "cell_type": "code",
      "execution_count": 466,
      "metadata": {
        "colab": {
          "base_uri": "https://localhost:8080/"
        },
        "id": "suQFb9M5HM1t",
        "outputId": "e531bd5c-fe8e-43e4-df46-8ff294de4bac"
      },
      "outputs": [
        {
          "name": "stderr",
          "output_type": "stream",
          "text": [
            "08-05-2025 22:26:04 Training\n",
            "08-05-2025 22:26:08 Infering\n",
            "08-05-2025 22:26:09 Evaluation metrics\n",
            "08-05-2025 22:26:09 Accuracy: 0.780650277557494\n",
            "08-05-2025 22:26:09 Precision: 0.3042952208106473\n",
            "08-05-2025 22:26:09 Recall: 0.6834239130434783\n",
            "08-05-2025 22:26:09 F1: 0.4210966931770615\n",
            "08-05-2025 22:26:09 ROC_AUC: 0.7999632329978842\n"
          ]
        }
      ],
      "source": [
        "# The full pipeline \n",
        "pipe = Pipeline(steps = [('full_pipeline', full_pipeline_preprocessing),\n",
        "                         (\"classifier\", LGBMClassifier(**best_params, class_weight={0:1, 1:9.3}))\n",
        "                         ]\n",
        "                )\n",
        "\n",
        "# update the parameters of the pipeline that we would like to tuning\n",
        "#pipe.set_params(**{\"full_pipeline__num_pipeline__num_transformer__model\": 2})\n",
        "\n",
        "# training\n",
        "logger.info(\"Training\")\n",
        "pipe.fit(x_train, y_train)\n",
        "\n",
        "# predict\n",
        "logger.info(\"Infering\")\n",
        "predict = pipe.predict(x_val)\n",
        "predict_proba = pipe.predict_proba(x_val)[:,1]\n",
        "\n",
        "# Evaluation Metrics\n",
        "logger.info(\"Evaluation metrics\")\n",
        "fbeta = fbeta_score(y_val, predict, beta=1, zero_division=1)\n",
        "precision = precision_score(y_val, predict, zero_division=1)\n",
        "recall = recall_score(y_val, predict, zero_division=1)\n",
        "acc = accuracy_score(y_val, predict)\n",
        "roc_auc = roc_auc_score(y_val, predict_proba)\n",
        "\n",
        "logger.info(\"Accuracy: {}\".format(acc))\n",
        "logger.info(\"Precision: {}\".format(precision))\n",
        "logger.info(\"Recall: {}\".format(recall))\n",
        "logger.info(\"F1: {}\".format(fbeta))\n",
        "logger.info(\"ROC_AUC: {}\".format(roc_auc))\n",
        "\n",
        "run.summary[\"Acc\"] = acc\n",
        "run.summary[\"Precision\"] = precision\n",
        "run.summary[\"Recall\"] = recall\n",
        "run.summary[\"F1\"] = fbeta\n",
        "run.summary['ROC_AUC']= roc_auc"
      ]
    },
    {
      "cell_type": "code",
      "execution_count": 467,
      "metadata": {
        "colab": {
          "base_uri": "https://localhost:8080/"
        },
        "id": "CD_vARrbIXv9",
        "outputId": "4c7d1e7c-979b-49b9-915d-2307787c9872"
      },
      "outputs": [
        {
          "data": {
            "text/plain": [
              "['job_blue-collar',\n",
              " 'job_entrepreneur',\n",
              " 'job_housemaid',\n",
              " 'job_management',\n",
              " 'job_retired',\n",
              " 'job_self-employed',\n",
              " 'job_services',\n",
              " 'job_student',\n",
              " 'job_technician',\n",
              " 'job_unemployed',\n",
              " 'job_unknown',\n",
              " 'marital_married',\n",
              " 'marital_single',\n",
              " 'marital_unknown',\n",
              " 'education_0',\n",
              " 'education_4',\n",
              " 'education_6',\n",
              " 'education_9',\n",
              " 'education_12',\n",
              " 'education_16',\n",
              " 'education_19',\n",
              " 'default_unknown',\n",
              " 'default_yes',\n",
              " 'housing_unknown',\n",
              " 'housing_yes',\n",
              " 'loan_unknown',\n",
              " 'loan_yes',\n",
              " 'contact_telephone',\n",
              " 'month_4',\n",
              " 'month_5',\n",
              " 'month_6',\n",
              " 'month_7',\n",
              " 'month_8',\n",
              " 'month_9',\n",
              " 'month_10',\n",
              " 'month_11',\n",
              " 'month_12',\n",
              " 'day_of_week_2',\n",
              " 'day_of_week_3',\n",
              " 'day_of_week_4',\n",
              " 'day_of_week_5',\n",
              " 'poutcome_nonexistent',\n",
              " 'poutcome_success']"
            ]
          },
          "execution_count": 467,
          "metadata": {},
          "output_type": "execute_result"
        }
      ],
      "source": [
        "# Get categorical column names\n",
        "cat_names = pipe.named_steps['full_pipeline'].get_params()[\"cat_pipeline\"][3].get_feature_names_out().tolist()\n",
        "cat_names"
      ]
    },
    {
      "cell_type": "code",
      "execution_count": 468,
      "metadata": {
        "colab": {
          "base_uri": "https://localhost:8080/"
        },
        "id": "g1SkdIXBIXv-",
        "outputId": "12911cef-9ca6-4602-89ff-7ab4d1e82640"
      },
      "outputs": [
        {
          "data": {
            "text/plain": [
              "['age',\n",
              " 'campaign',\n",
              " 'pdays',\n",
              " 'previous',\n",
              " 'emp_var_rate',\n",
              " 'cons_price_idx',\n",
              " 'cons_conf_idx',\n",
              " 'euribor3m',\n",
              " 'nr_employed',\n",
              " 'pdays_contacted_status']"
            ]
          },
          "execution_count": 468,
          "metadata": {},
          "output_type": "execute_result"
        }
      ],
      "source": [
        "# Get numerical column names\n",
        "num_names = pipe.named_steps['full_pipeline'].get_params()[\"num_pipeline\"][2].get_feature_names_out()\n",
        "num_names"
      ]
    },
    {
      "cell_type": "code",
      "execution_count": 469,
      "metadata": {
        "colab": {
          "base_uri": "https://localhost:8080/"
        },
        "id": "PYhk1nW4IXv-",
        "outputId": "743b281e-0291-47cb-c994-b3c56e3952c3"
      },
      "outputs": [
        {
          "data": {
            "text/plain": [
              "['job_blue-collar',\n",
              " 'job_entrepreneur',\n",
              " 'job_housemaid',\n",
              " 'job_management',\n",
              " 'job_retired',\n",
              " 'job_self-employed',\n",
              " 'job_services',\n",
              " 'job_student',\n",
              " 'job_technician',\n",
              " 'job_unemployed',\n",
              " 'job_unknown',\n",
              " 'marital_married',\n",
              " 'marital_single',\n",
              " 'marital_unknown',\n",
              " 'education_0',\n",
              " 'education_4',\n",
              " 'education_6',\n",
              " 'education_9',\n",
              " 'education_12',\n",
              " 'education_16',\n",
              " 'education_19',\n",
              " 'default_unknown',\n",
              " 'default_yes',\n",
              " 'housing_unknown',\n",
              " 'housing_yes',\n",
              " 'loan_unknown',\n",
              " 'loan_yes',\n",
              " 'contact_telephone',\n",
              " 'month_4',\n",
              " 'month_5',\n",
              " 'month_6',\n",
              " 'month_7',\n",
              " 'month_8',\n",
              " 'month_9',\n",
              " 'month_10',\n",
              " 'month_11',\n",
              " 'month_12',\n",
              " 'day_of_week_2',\n",
              " 'day_of_week_3',\n",
              " 'day_of_week_4',\n",
              " 'day_of_week_5',\n",
              " 'poutcome_nonexistent',\n",
              " 'poutcome_success',\n",
              " 'age',\n",
              " 'campaign',\n",
              " 'pdays',\n",
              " 'previous',\n",
              " 'emp_var_rate',\n",
              " 'cons_price_idx',\n",
              " 'cons_conf_idx',\n",
              " 'euribor3m',\n",
              " 'nr_employed',\n",
              " 'pdays_contacted_status']"
            ]
          },
          "execution_count": 469,
          "metadata": {},
          "output_type": "execute_result"
        }
      ],
      "source": [
        "# merge all column names together\n",
        "all_names = cat_names + num_names\n",
        "all_names"
      ]
    },
    {
      "cell_type": "code",
      "execution_count": 470,
      "metadata": {
        "colab": {
          "base_uri": "https://localhost:8080/"
        },
        "id": "nJwRFzuaIXv-",
        "outputId": "8da45cec-a60f-447f-e6a3-a4cf0d6bf263"
      },
      "outputs": [
        {
          "name": "stderr",
          "output_type": "stream",
          "text": [
            "\u001b[34m\u001b[1mwandb\u001b[0m: \n",
            "\u001b[34m\u001b[1mwandb\u001b[0m: Plotting BestModel.\n",
            "\u001b[34m\u001b[1mwandb\u001b[0m: Logged feature importances.\n",
            "\u001b[34m\u001b[1mwandb\u001b[0m: Logged confusion matrix.\n",
            "\u001b[34m\u001b[1mwandb\u001b[0m: Logged summary metrics.\n",
            "\u001b[34m\u001b[1mwandb\u001b[0m: Logged class proportions.\n",
            "\u001b[34m\u001b[1mwandb\u001b[0m: Logged calibration curve.\n",
            "\u001b[34m\u001b[1mwandb\u001b[0m: Logged roc curve.\n",
            "\u001b[34m\u001b[1mwandb\u001b[0m: Logged precision-recall curve.\n"
          ]
        }
      ],
      "source": [
        "# Visualize all classifier plots\n",
        "# For a complete documentation please see: https://docs.wandb.ai/guides/integrations/scikit\n",
        "wandb.sklearn.plot_classifier(pipe.get_params()[\"classifier\"],\n",
        "                              full_pipeline_preprocessing.transform(x_train),\n",
        "                              full_pipeline_preprocessing.transform(x_val),\n",
        "                              y_train,\n",
        "                              y_val,\n",
        "                              predict,\n",
        "                              pipe.predict_proba(x_val),\n",
        "                              [0,1],\n",
        "                              model_name='BestModel', feature_names=all_names)"
      ]
    },
    {
      "cell_type": "markdown",
      "metadata": {
        "id": "zdJlBFpQy60F"
      },
      "source": [
        "## 1.8 Export the best model"
      ]
    },
    {
      "cell_type": "code",
      "execution_count": 471,
      "metadata": {
        "id": "-5KDt6Pu0Xo8"
      },
      "outputs": [],
      "source": [
        "# types and names of the artifacts\n",
        "artifact_type = \"inference_artifact\"\n",
        "artifact_encoder = \"target_encoder\"\n",
        "artifact_model = \"model_export\""
      ]
    },
    {
      "cell_type": "code",
      "execution_count": 472,
      "metadata": {
        "colab": {
          "base_uri": "https://localhost:8080/"
        },
        "id": "BEIC9zC55mP5",
        "outputId": "a620db27-6c9e-4a9a-e54a-befb49eccc90"
      },
      "outputs": [
        {
          "name": "stderr",
          "output_type": "stream",
          "text": [
            "08-05-2025 22:26:23 Dumping the artifacts to disk\n"
          ]
        },
        {
          "data": {
            "text/plain": [
              "['target_encoder']"
            ]
          },
          "execution_count": 472,
          "metadata": {},
          "output_type": "execute_result"
        }
      ],
      "source": [
        "logger.info(\"Dumping the artifacts to disk\")\n",
        "# Save the model using joblib\n",
        "joblib.dump(pipe, artifact_model)\n",
        "\n",
        "# Save the target encoder using joblib\n",
        "joblib.dump(le, artifact_encoder)"
      ]
    },
    {
      "cell_type": "code",
      "execution_count": 473,
      "metadata": {
        "colab": {
          "base_uri": "https://localhost:8080/"
        },
        "id": "5ncI2WnK5iZ9",
        "outputId": "2a4326d0-e104-4ee6-b012-939dec7e46cc"
      },
      "outputs": [
        {
          "name": "stderr",
          "output_type": "stream",
          "text": [
            "08-05-2025 22:26:23 Logging model artifact\n"
          ]
        },
        {
          "data": {
            "text/plain": [
              "<wandb.sdk.wandb_artifacts.Artifact at 0x2c6e6439400>"
            ]
          },
          "execution_count": 473,
          "metadata": {},
          "output_type": "execute_result"
        }
      ],
      "source": [
        "# Model artifact\n",
        "artifact = wandb.Artifact(artifact_model,\n",
        "                          type=artifact_type,\n",
        "                          description=\"A full pipeline composed of a Preprocessing Stage and a LightGBM model\"\n",
        "                          )\n",
        "\n",
        "logger.info(\"Logging model artifact\")\n",
        "artifact.add_file(artifact_model)\n",
        "run.log_artifact(artifact)"
      ]
    },
    {
      "cell_type": "code",
      "execution_count": 474,
      "metadata": {
        "colab": {
          "base_uri": "https://localhost:8080/"
        },
        "id": "ydqNDU3BVm5t",
        "outputId": "1369aeda-8d85-4f7c-f9d0-32c9cf477220"
      },
      "outputs": [
        {
          "name": "stderr",
          "output_type": "stream",
          "text": [
            "08-05-2025 22:26:23 Logging target enconder artifact\n"
          ]
        },
        {
          "data": {
            "text/plain": [
              "<wandb.sdk.wandb_artifacts.Artifact at 0x2c6e3193280>"
            ]
          },
          "execution_count": 474,
          "metadata": {},
          "output_type": "execute_result"
        }
      ],
      "source": [
        "# Target encoder artifact\n",
        "artifact = wandb.Artifact(artifact_encoder,\n",
        "                          type=artifact_type,\n",
        "                          description=\"The encoder used to encode the target variable\"\n",
        "                          )\n",
        "\n",
        "logger.info(\"Logging target enconder artifact\")\n",
        "artifact.add_file(artifact_encoder)\n",
        "run.log_artifact(artifact)"
      ]
    },
    {
      "cell_type": "code",
      "execution_count": 475,
      "metadata": {
        "colab": {
          "base_uri": "https://localhost:8080/",
          "height": 270,
          "referenced_widgets": [
            "04d61367495149c48ef33d556af340a6",
            "7ea447db634942e2a4c7575b5db2e75e",
            "360b00a21db0426f806abe0102acb29c",
            "466ed2ebbd37483f8da76deaab339d05",
            "f489472bf08149b9afa7ed1fc3c95591",
            "83824852e6be466db356b9ac06f10479",
            "c63c208eead64e2c9a24413793c6aba4",
            "f6868c2e369146bd94d7c939ac01c016"
          ]
        },
        "id": "6OqCWx5q7fqf",
        "outputId": "44937c38-2da8-4121-cdd7-211b139c40f6"
      },
      "outputs": [
        {
          "name": "stdout",
          "output_type": "stream",
          "text": [
            "\n"
          ]
        },
        {
          "data": {
            "text/html": [
              "Waiting for W&B process to finish... <strong style=\"color:green\">(success).</strong>"
            ],
            "text/plain": [
              "<IPython.core.display.HTML object>"
            ]
          },
          "metadata": {},
          "output_type": "display_data"
        },
        {
          "data": {
            "application/vnd.jupyter.widget-view+json": {
              "model_id": "6043d7bb61e542ec9109a3a0d0b2fef5",
              "version_major": 2,
              "version_minor": 0
            },
            "text/plain": [
              "VBox(children=(Label(value='0.530 MB of 0.530 MB uploaded (0.000 MB deduped)\\r'), FloatProgress(value=1.0, max…"
            ]
          },
          "metadata": {},
          "output_type": "display_data"
        },
        {
          "data": {
            "text/html": [
              "<style>\n",
              "    table.wandb td:nth-child(1) { padding: 0 10px; text-align: right }\n",
              "    .wandb-row { display: flex; flex-direction: row; flex-wrap: wrap; width: 100% }\n",
              "    .wandb-col { display: flex; flex-direction: column; flex-basis: 100%; flex: 1; padding: 10px; }\n",
              "    </style>\n",
              "<div class=\"wandb-row\"><div class=\"wandb-col\"><h3>Run summary:</h3><br/><table class=\"wandb\"><tr><td>Acc</td><td>0.78065</td></tr><tr><td>F1</td><td>0.4211</td></tr><tr><td>Precision</td><td>0.3043</td></tr><tr><td>ROC_AUC</td><td>0.79996</td></tr><tr><td>Recall</td><td>0.68342</td></tr></table><br/></div></div>"
            ],
            "text/plain": [
              "<IPython.core.display.HTML object>"
            ]
          },
          "metadata": {},
          "output_type": "display_data"
        },
        {
          "data": {
            "text/html": [
              "Synced <strong style=\"color:#cdcd00\">exalted-pond-84</strong>: <a href=\"https://wandb.ai/hangtn13-ssc-national-economics-university/Bank-Marketing/runs/razeq8rt\" target=\"_blank\">https://wandb.ai/hangtn13-ssc-national-economics-university/Bank-Marketing/runs/razeq8rt</a><br/>Synced 6 W&B file(s), 7 media file(s), 8 artifact file(s) and 0 other file(s)"
            ],
            "text/plain": [
              "<IPython.core.display.HTML object>"
            ]
          },
          "metadata": {},
          "output_type": "display_data"
        },
        {
          "data": {
            "text/html": [
              "Find logs at: <code>.\\wandb\\run-20250508_222545-razeq8rt\\logs</code>"
            ],
            "text/plain": [
              "<IPython.core.display.HTML object>"
            ]
          },
          "metadata": {},
          "output_type": "display_data"
        }
      ],
      "source": [
        "run.finish()"
      ]
    }
  ],
  "metadata": {
    "colab": {
      "collapsed_sections": [
        "BeMVUzr08AK8",
        "tt9AnGT3922Q",
        "EEKvM3qL_3Hb",
        "7c_W3F0IGN15",
        "TuoN4_opKXzp",
        "gF_ZLoVjjPUg",
        "ldfU54n7njja",
        "3JBkxykTp2HF",
        "G8tKLeBIa44E"
      ],
      "name": "6 - train.ipynb",
      "provenance": []
    },
    "kernelspec": {
      "display_name": "bankmkt",
      "language": "python",
      "name": "python3"
    },
    "language_info": {
      "codemirror_mode": {
        "name": "ipython",
        "version": 3
      },
      "file_extension": ".py",
      "mimetype": "text/x-python",
      "name": "python",
      "nbconvert_exporter": "python",
      "pygments_lexer": "ipython3",
      "version": "3.8.20"
    },
    "widgets": {
      "application/vnd.jupyter.widget-state+json": {
        "00217f46375e4534bcdd9654ca763886": {
          "model_module": "@jupyter-widgets/controls",
          "model_module_version": "1.5.0",
          "model_name": "FloatProgressModel",
          "state": {
            "_dom_classes": [],
            "_model_module": "@jupyter-widgets/controls",
            "_model_module_version": "1.5.0",
            "_model_name": "FloatProgressModel",
            "_view_count": null,
            "_view_module": "@jupyter-widgets/controls",
            "_view_module_version": "1.5.0",
            "_view_name": "ProgressView",
            "bar_style": "",
            "description": "",
            "description_tooltip": null,
            "layout": "IPY_MODEL_48a8816a4fd944a2983867072b18281b",
            "max": 1,
            "min": 0,
            "orientation": "horizontal",
            "style": "IPY_MODEL_1ef4066db49b491dacd1e36f0e3f3b3a",
            "value": 1
          }
        },
        "04d61367495149c48ef33d556af340a6": {
          "model_module": "@jupyter-widgets/controls",
          "model_module_version": "1.5.0",
          "model_name": "VBoxModel",
          "state": {
            "_dom_classes": [],
            "_model_module": "@jupyter-widgets/controls",
            "_model_module_version": "1.5.0",
            "_model_name": "VBoxModel",
            "_view_count": null,
            "_view_module": "@jupyter-widgets/controls",
            "_view_module_version": "1.5.0",
            "_view_name": "VBoxView",
            "box_style": "",
            "children": [
              "IPY_MODEL_7ea447db634942e2a4c7575b5db2e75e",
              "IPY_MODEL_360b00a21db0426f806abe0102acb29c"
            ],
            "layout": "IPY_MODEL_466ed2ebbd37483f8da76deaab339d05"
          }
        },
        "0613c7cb0f514b22a4e6528e40e2e156": {
          "model_module": "@jupyter-widgets/controls",
          "model_module_version": "1.5.0",
          "model_name": "VBoxModel",
          "state": {
            "_dom_classes": [],
            "_model_module": "@jupyter-widgets/controls",
            "_model_module_version": "1.5.0",
            "_model_name": "VBoxModel",
            "_view_count": null,
            "_view_module": "@jupyter-widgets/controls",
            "_view_module_version": "1.5.0",
            "_view_name": "VBoxView",
            "box_style": "",
            "children": [
              "IPY_MODEL_5bd958e1e2bc4b1ea1f586e2afa89499",
              "IPY_MODEL_c75b56bef9f946508d8db9a716432df4"
            ],
            "layout": "IPY_MODEL_4dc52778c02542ad94a5f7d45b7a5a98"
          }
        },
        "07be9fb8d14944cc855b289d695fe00b": {
          "model_module": "@jupyter-widgets/controls",
          "model_module_version": "1.5.0",
          "model_name": "DescriptionStyleModel",
          "state": {
            "_model_module": "@jupyter-widgets/controls",
            "_model_module_version": "1.5.0",
            "_model_name": "DescriptionStyleModel",
            "_view_count": null,
            "_view_module": "@jupyter-widgets/base",
            "_view_module_version": "1.2.0",
            "_view_name": "StyleView",
            "description_width": ""
          }
        },
        "0a9328d22f424f759a4cb7b68a7de40c": {
          "model_module": "@jupyter-widgets/base",
          "model_module_version": "1.2.0",
          "model_name": "LayoutModel",
          "state": {
            "_model_module": "@jupyter-widgets/base",
            "_model_module_version": "1.2.0",
            "_model_name": "LayoutModel",
            "_view_count": null,
            "_view_module": "@jupyter-widgets/base",
            "_view_module_version": "1.2.0",
            "_view_name": "LayoutView",
            "align_content": null,
            "align_items": null,
            "align_self": null,
            "border": null,
            "bottom": null,
            "display": null,
            "flex": null,
            "flex_flow": null,
            "grid_area": null,
            "grid_auto_columns": null,
            "grid_auto_flow": null,
            "grid_auto_rows": null,
            "grid_column": null,
            "grid_gap": null,
            "grid_row": null,
            "grid_template_areas": null,
            "grid_template_columns": null,
            "grid_template_rows": null,
            "height": null,
            "justify_content": null,
            "justify_items": null,
            "left": null,
            "margin": null,
            "max_height": null,
            "max_width": null,
            "min_height": null,
            "min_width": null,
            "object_fit": null,
            "object_position": null,
            "order": null,
            "overflow": null,
            "overflow_x": null,
            "overflow_y": null,
            "padding": null,
            "right": null,
            "top": null,
            "visibility": null,
            "width": null
          }
        },
        "0c88b95b46ce418f9a065ffa977d5df5": {
          "model_module": "@jupyter-widgets/base",
          "model_module_version": "1.2.0",
          "model_name": "LayoutModel",
          "state": {
            "_model_module": "@jupyter-widgets/base",
            "_model_module_version": "1.2.0",
            "_model_name": "LayoutModel",
            "_view_count": null,
            "_view_module": "@jupyter-widgets/base",
            "_view_module_version": "1.2.0",
            "_view_name": "LayoutView",
            "align_content": null,
            "align_items": null,
            "align_self": null,
            "border": null,
            "bottom": null,
            "display": null,
            "flex": null,
            "flex_flow": null,
            "grid_area": null,
            "grid_auto_columns": null,
            "grid_auto_flow": null,
            "grid_auto_rows": null,
            "grid_column": null,
            "grid_gap": null,
            "grid_row": null,
            "grid_template_areas": null,
            "grid_template_columns": null,
            "grid_template_rows": null,
            "height": null,
            "justify_content": null,
            "justify_items": null,
            "left": null,
            "margin": null,
            "max_height": null,
            "max_width": null,
            "min_height": null,
            "min_width": null,
            "object_fit": null,
            "object_position": null,
            "order": null,
            "overflow": null,
            "overflow_x": null,
            "overflow_y": null,
            "padding": null,
            "right": null,
            "top": null,
            "visibility": null,
            "width": null
          }
        },
        "11e7c611da6149d3a970a59207dbcae9": {
          "model_module": "@jupyter-widgets/base",
          "model_module_version": "1.2.0",
          "model_name": "LayoutModel",
          "state": {
            "_model_module": "@jupyter-widgets/base",
            "_model_module_version": "1.2.0",
            "_model_name": "LayoutModel",
            "_view_count": null,
            "_view_module": "@jupyter-widgets/base",
            "_view_module_version": "1.2.0",
            "_view_name": "LayoutView",
            "align_content": null,
            "align_items": null,
            "align_self": null,
            "border": null,
            "bottom": null,
            "display": null,
            "flex": null,
            "flex_flow": null,
            "grid_area": null,
            "grid_auto_columns": null,
            "grid_auto_flow": null,
            "grid_auto_rows": null,
            "grid_column": null,
            "grid_gap": null,
            "grid_row": null,
            "grid_template_areas": null,
            "grid_template_columns": null,
            "grid_template_rows": null,
            "height": null,
            "justify_content": null,
            "justify_items": null,
            "left": null,
            "margin": null,
            "max_height": null,
            "max_width": null,
            "min_height": null,
            "min_width": null,
            "object_fit": null,
            "object_position": null,
            "order": null,
            "overflow": null,
            "overflow_x": null,
            "overflow_y": null,
            "padding": null,
            "right": null,
            "top": null,
            "visibility": null,
            "width": null
          }
        },
        "1ef4066db49b491dacd1e36f0e3f3b3a": {
          "model_module": "@jupyter-widgets/controls",
          "model_module_version": "1.5.0",
          "model_name": "ProgressStyleModel",
          "state": {
            "_model_module": "@jupyter-widgets/controls",
            "_model_module_version": "1.5.0",
            "_model_name": "ProgressStyleModel",
            "_view_count": null,
            "_view_module": "@jupyter-widgets/base",
            "_view_module_version": "1.2.0",
            "_view_name": "StyleView",
            "bar_color": null,
            "description_width": ""
          }
        },
        "21b5c781e9c2442a96f6ab630b98a2aa": {
          "model_module": "@jupyter-widgets/controls",
          "model_module_version": "1.5.0",
          "model_name": "ProgressStyleModel",
          "state": {
            "_model_module": "@jupyter-widgets/controls",
            "_model_module_version": "1.5.0",
            "_model_name": "ProgressStyleModel",
            "_view_count": null,
            "_view_module": "@jupyter-widgets/base",
            "_view_module_version": "1.2.0",
            "_view_name": "StyleView",
            "bar_color": null,
            "description_width": ""
          }
        },
        "24674bfe30014b018d205b781b4ea5b8": {
          "model_module": "@jupyter-widgets/base",
          "model_module_version": "1.2.0",
          "model_name": "LayoutModel",
          "state": {
            "_model_module": "@jupyter-widgets/base",
            "_model_module_version": "1.2.0",
            "_model_name": "LayoutModel",
            "_view_count": null,
            "_view_module": "@jupyter-widgets/base",
            "_view_module_version": "1.2.0",
            "_view_name": "LayoutView",
            "align_content": null,
            "align_items": null,
            "align_self": null,
            "border": null,
            "bottom": null,
            "display": null,
            "flex": null,
            "flex_flow": null,
            "grid_area": null,
            "grid_auto_columns": null,
            "grid_auto_flow": null,
            "grid_auto_rows": null,
            "grid_column": null,
            "grid_gap": null,
            "grid_row": null,
            "grid_template_areas": null,
            "grid_template_columns": null,
            "grid_template_rows": null,
            "height": null,
            "justify_content": null,
            "justify_items": null,
            "left": null,
            "margin": null,
            "max_height": null,
            "max_width": null,
            "min_height": null,
            "min_width": null,
            "object_fit": null,
            "object_position": null,
            "order": null,
            "overflow": null,
            "overflow_x": null,
            "overflow_y": null,
            "padding": null,
            "right": null,
            "top": null,
            "visibility": null,
            "width": null
          }
        },
        "27dd8676102f4a34adc321360ad7c16e": {
          "model_module": "@jupyter-widgets/base",
          "model_module_version": "1.2.0",
          "model_name": "LayoutModel",
          "state": {
            "_model_module": "@jupyter-widgets/base",
            "_model_module_version": "1.2.0",
            "_model_name": "LayoutModel",
            "_view_count": null,
            "_view_module": "@jupyter-widgets/base",
            "_view_module_version": "1.2.0",
            "_view_name": "LayoutView",
            "align_content": null,
            "align_items": null,
            "align_self": null,
            "border": null,
            "bottom": null,
            "display": null,
            "flex": null,
            "flex_flow": null,
            "grid_area": null,
            "grid_auto_columns": null,
            "grid_auto_flow": null,
            "grid_auto_rows": null,
            "grid_column": null,
            "grid_gap": null,
            "grid_row": null,
            "grid_template_areas": null,
            "grid_template_columns": null,
            "grid_template_rows": null,
            "height": null,
            "justify_content": null,
            "justify_items": null,
            "left": null,
            "margin": null,
            "max_height": null,
            "max_width": null,
            "min_height": null,
            "min_width": null,
            "object_fit": null,
            "object_position": null,
            "order": null,
            "overflow": null,
            "overflow_x": null,
            "overflow_y": null,
            "padding": null,
            "right": null,
            "top": null,
            "visibility": null,
            "width": null
          }
        },
        "28dc085cf9c84a259b9aa20dfc307928": {
          "model_module": "@jupyter-widgets/base",
          "model_module_version": "1.2.0",
          "model_name": "LayoutModel",
          "state": {
            "_model_module": "@jupyter-widgets/base",
            "_model_module_version": "1.2.0",
            "_model_name": "LayoutModel",
            "_view_count": null,
            "_view_module": "@jupyter-widgets/base",
            "_view_module_version": "1.2.0",
            "_view_name": "LayoutView",
            "align_content": null,
            "align_items": null,
            "align_self": null,
            "border": null,
            "bottom": null,
            "display": null,
            "flex": null,
            "flex_flow": null,
            "grid_area": null,
            "grid_auto_columns": null,
            "grid_auto_flow": null,
            "grid_auto_rows": null,
            "grid_column": null,
            "grid_gap": null,
            "grid_row": null,
            "grid_template_areas": null,
            "grid_template_columns": null,
            "grid_template_rows": null,
            "height": null,
            "justify_content": null,
            "justify_items": null,
            "left": null,
            "margin": null,
            "max_height": null,
            "max_width": null,
            "min_height": null,
            "min_width": null,
            "object_fit": null,
            "object_position": null,
            "order": null,
            "overflow": null,
            "overflow_x": null,
            "overflow_y": null,
            "padding": null,
            "right": null,
            "top": null,
            "visibility": null,
            "width": null
          }
        },
        "2dc7c807794f4ffd9a144938fe4abdda": {
          "model_module": "@jupyter-widgets/controls",
          "model_module_version": "1.5.0",
          "model_name": "DescriptionStyleModel",
          "state": {
            "_model_module": "@jupyter-widgets/controls",
            "_model_module_version": "1.5.0",
            "_model_name": "DescriptionStyleModel",
            "_view_count": null,
            "_view_module": "@jupyter-widgets/base",
            "_view_module_version": "1.2.0",
            "_view_name": "StyleView",
            "description_width": ""
          }
        },
        "2e3788cccf2a4b84bd7d5a59c03c42a5": {
          "model_module": "@jupyter-widgets/base",
          "model_module_version": "1.2.0",
          "model_name": "LayoutModel",
          "state": {
            "_model_module": "@jupyter-widgets/base",
            "_model_module_version": "1.2.0",
            "_model_name": "LayoutModel",
            "_view_count": null,
            "_view_module": "@jupyter-widgets/base",
            "_view_module_version": "1.2.0",
            "_view_name": "LayoutView",
            "align_content": null,
            "align_items": null,
            "align_self": null,
            "border": null,
            "bottom": null,
            "display": null,
            "flex": null,
            "flex_flow": null,
            "grid_area": null,
            "grid_auto_columns": null,
            "grid_auto_flow": null,
            "grid_auto_rows": null,
            "grid_column": null,
            "grid_gap": null,
            "grid_row": null,
            "grid_template_areas": null,
            "grid_template_columns": null,
            "grid_template_rows": null,
            "height": null,
            "justify_content": null,
            "justify_items": null,
            "left": null,
            "margin": null,
            "max_height": null,
            "max_width": null,
            "min_height": null,
            "min_width": null,
            "object_fit": null,
            "object_position": null,
            "order": null,
            "overflow": null,
            "overflow_x": null,
            "overflow_y": null,
            "padding": null,
            "right": null,
            "top": null,
            "visibility": null,
            "width": null
          }
        },
        "30d5335d53814da2b4244ea3e7d511fb": {
          "model_module": "@jupyter-widgets/controls",
          "model_module_version": "1.5.0",
          "model_name": "LabelModel",
          "state": {
            "_dom_classes": [],
            "_model_module": "@jupyter-widgets/controls",
            "_model_module_version": "1.5.0",
            "_model_name": "LabelModel",
            "_view_count": null,
            "_view_module": "@jupyter-widgets/controls",
            "_view_module_version": "1.5.0",
            "_view_name": "LabelView",
            "description": "",
            "description_tooltip": null,
            "layout": "IPY_MODEL_685ee2fe32fb4ae08aefa144f8738f16",
            "placeholder": "​",
            "style": "IPY_MODEL_07be9fb8d14944cc855b289d695fe00b",
            "value": "0.008 MB of 0.008 MB uploaded (0.000 MB deduped)\r"
          }
        },
        "3166e54e4f994c848e76435a1962f441": {
          "model_module": "@jupyter-widgets/controls",
          "model_module_version": "1.5.0",
          "model_name": "ProgressStyleModel",
          "state": {
            "_model_module": "@jupyter-widgets/controls",
            "_model_module_version": "1.5.0",
            "_model_name": "ProgressStyleModel",
            "_view_count": null,
            "_view_module": "@jupyter-widgets/base",
            "_view_module_version": "1.2.0",
            "_view_name": "StyleView",
            "bar_color": null,
            "description_width": ""
          }
        },
        "360b00a21db0426f806abe0102acb29c": {
          "model_module": "@jupyter-widgets/controls",
          "model_module_version": "1.5.0",
          "model_name": "FloatProgressModel",
          "state": {
            "_dom_classes": [],
            "_model_module": "@jupyter-widgets/controls",
            "_model_module_version": "1.5.0",
            "_model_name": "FloatProgressModel",
            "_view_count": null,
            "_view_module": "@jupyter-widgets/controls",
            "_view_module_version": "1.5.0",
            "_view_name": "ProgressView",
            "bar_style": "",
            "description": "",
            "description_tooltip": null,
            "layout": "IPY_MODEL_c63c208eead64e2c9a24413793c6aba4",
            "max": 1,
            "min": 0,
            "orientation": "horizontal",
            "style": "IPY_MODEL_f6868c2e369146bd94d7c939ac01c016",
            "value": 1
          }
        },
        "36c291b5b8cb4de5a90f52223becea31": {
          "model_module": "@jupyter-widgets/base",
          "model_module_version": "1.2.0",
          "model_name": "LayoutModel",
          "state": {
            "_model_module": "@jupyter-widgets/base",
            "_model_module_version": "1.2.0",
            "_model_name": "LayoutModel",
            "_view_count": null,
            "_view_module": "@jupyter-widgets/base",
            "_view_module_version": "1.2.0",
            "_view_name": "LayoutView",
            "align_content": null,
            "align_items": null,
            "align_self": null,
            "border": null,
            "bottom": null,
            "display": null,
            "flex": null,
            "flex_flow": null,
            "grid_area": null,
            "grid_auto_columns": null,
            "grid_auto_flow": null,
            "grid_auto_rows": null,
            "grid_column": null,
            "grid_gap": null,
            "grid_row": null,
            "grid_template_areas": null,
            "grid_template_columns": null,
            "grid_template_rows": null,
            "height": null,
            "justify_content": null,
            "justify_items": null,
            "left": null,
            "margin": null,
            "max_height": null,
            "max_width": null,
            "min_height": null,
            "min_width": null,
            "object_fit": null,
            "object_position": null,
            "order": null,
            "overflow": null,
            "overflow_x": null,
            "overflow_y": null,
            "padding": null,
            "right": null,
            "top": null,
            "visibility": null,
            "width": null
          }
        },
        "372061e7f44c46d98144f9fb4bc193ac": {
          "model_module": "@jupyter-widgets/controls",
          "model_module_version": "1.5.0",
          "model_name": "FloatProgressModel",
          "state": {
            "_dom_classes": [],
            "_model_module": "@jupyter-widgets/controls",
            "_model_module_version": "1.5.0",
            "_model_name": "FloatProgressModel",
            "_view_count": null,
            "_view_module": "@jupyter-widgets/controls",
            "_view_module_version": "1.5.0",
            "_view_name": "ProgressView",
            "bar_style": "",
            "description": "",
            "description_tooltip": null,
            "layout": "IPY_MODEL_36c291b5b8cb4de5a90f52223becea31",
            "max": 1,
            "min": 0,
            "orientation": "horizontal",
            "style": "IPY_MODEL_409659c3ae114173bcea7cdd74211846",
            "value": 1
          }
        },
        "3b622de75449459188763c85adbd36ad": {
          "model_module": "@jupyter-widgets/controls",
          "model_module_version": "1.5.0",
          "model_name": "ProgressStyleModel",
          "state": {
            "_model_module": "@jupyter-widgets/controls",
            "_model_module_version": "1.5.0",
            "_model_name": "ProgressStyleModel",
            "_view_count": null,
            "_view_module": "@jupyter-widgets/base",
            "_view_module_version": "1.2.0",
            "_view_name": "StyleView",
            "bar_color": null,
            "description_width": ""
          }
        },
        "3ef2cddcc21a43249ca25213cb480d1d": {
          "model_module": "@jupyter-widgets/controls",
          "model_module_version": "1.5.0",
          "model_name": "VBoxModel",
          "state": {
            "_dom_classes": [],
            "_model_module": "@jupyter-widgets/controls",
            "_model_module_version": "1.5.0",
            "_model_name": "VBoxModel",
            "_view_count": null,
            "_view_module": "@jupyter-widgets/controls",
            "_view_module_version": "1.5.0",
            "_view_name": "VBoxView",
            "box_style": "",
            "children": [
              "IPY_MODEL_f216ca5fa31f4e8bb1b3d49c18c88a42",
              "IPY_MODEL_8a7f76ee1dbf419687535970bade573b"
            ],
            "layout": "IPY_MODEL_4123fc15d9c14b1c9b134f4f9e1e0f2d"
          }
        },
        "3f1500527dc04bcbaa7f1ace440d3897": {
          "model_module": "@jupyter-widgets/controls",
          "model_module_version": "1.5.0",
          "model_name": "LabelModel",
          "state": {
            "_dom_classes": [],
            "_model_module": "@jupyter-widgets/controls",
            "_model_module_version": "1.5.0",
            "_model_name": "LabelModel",
            "_view_count": null,
            "_view_module": "@jupyter-widgets/controls",
            "_view_module_version": "1.5.0",
            "_view_name": "LabelView",
            "description": "",
            "description_tooltip": null,
            "layout": "IPY_MODEL_8a010640585e45ea8cab901ba1dc0c18",
            "placeholder": "​",
            "style": "IPY_MODEL_e28eaca3569046d89907b619ed4b9c3f",
            "value": "0.008 MB of 0.008 MB uploaded (0.000 MB deduped)\r"
          }
        },
        "409659c3ae114173bcea7cdd74211846": {
          "model_module": "@jupyter-widgets/controls",
          "model_module_version": "1.5.0",
          "model_name": "ProgressStyleModel",
          "state": {
            "_model_module": "@jupyter-widgets/controls",
            "_model_module_version": "1.5.0",
            "_model_name": "ProgressStyleModel",
            "_view_count": null,
            "_view_module": "@jupyter-widgets/base",
            "_view_module_version": "1.2.0",
            "_view_name": "StyleView",
            "bar_color": null,
            "description_width": ""
          }
        },
        "4123fc15d9c14b1c9b134f4f9e1e0f2d": {
          "model_module": "@jupyter-widgets/base",
          "model_module_version": "1.2.0",
          "model_name": "LayoutModel",
          "state": {
            "_model_module": "@jupyter-widgets/base",
            "_model_module_version": "1.2.0",
            "_model_name": "LayoutModel",
            "_view_count": null,
            "_view_module": "@jupyter-widgets/base",
            "_view_module_version": "1.2.0",
            "_view_name": "LayoutView",
            "align_content": null,
            "align_items": null,
            "align_self": null,
            "border": null,
            "bottom": null,
            "display": null,
            "flex": null,
            "flex_flow": null,
            "grid_area": null,
            "grid_auto_columns": null,
            "grid_auto_flow": null,
            "grid_auto_rows": null,
            "grid_column": null,
            "grid_gap": null,
            "grid_row": null,
            "grid_template_areas": null,
            "grid_template_columns": null,
            "grid_template_rows": null,
            "height": null,
            "justify_content": null,
            "justify_items": null,
            "left": null,
            "margin": null,
            "max_height": null,
            "max_width": null,
            "min_height": null,
            "min_width": null,
            "object_fit": null,
            "object_position": null,
            "order": null,
            "overflow": null,
            "overflow_x": null,
            "overflow_y": null,
            "padding": null,
            "right": null,
            "top": null,
            "visibility": null,
            "width": null
          }
        },
        "455e69ec3bb64becaed1dec637e1b2bc": {
          "model_module": "@jupyter-widgets/controls",
          "model_module_version": "1.5.0",
          "model_name": "DescriptionStyleModel",
          "state": {
            "_model_module": "@jupyter-widgets/controls",
            "_model_module_version": "1.5.0",
            "_model_name": "DescriptionStyleModel",
            "_view_count": null,
            "_view_module": "@jupyter-widgets/base",
            "_view_module_version": "1.2.0",
            "_view_name": "StyleView",
            "description_width": ""
          }
        },
        "466ed2ebbd37483f8da76deaab339d05": {
          "model_module": "@jupyter-widgets/base",
          "model_module_version": "1.2.0",
          "model_name": "LayoutModel",
          "state": {
            "_model_module": "@jupyter-widgets/base",
            "_model_module_version": "1.2.0",
            "_model_name": "LayoutModel",
            "_view_count": null,
            "_view_module": "@jupyter-widgets/base",
            "_view_module_version": "1.2.0",
            "_view_name": "LayoutView",
            "align_content": null,
            "align_items": null,
            "align_self": null,
            "border": null,
            "bottom": null,
            "display": null,
            "flex": null,
            "flex_flow": null,
            "grid_area": null,
            "grid_auto_columns": null,
            "grid_auto_flow": null,
            "grid_auto_rows": null,
            "grid_column": null,
            "grid_gap": null,
            "grid_row": null,
            "grid_template_areas": null,
            "grid_template_columns": null,
            "grid_template_rows": null,
            "height": null,
            "justify_content": null,
            "justify_items": null,
            "left": null,
            "margin": null,
            "max_height": null,
            "max_width": null,
            "min_height": null,
            "min_width": null,
            "object_fit": null,
            "object_position": null,
            "order": null,
            "overflow": null,
            "overflow_x": null,
            "overflow_y": null,
            "padding": null,
            "right": null,
            "top": null,
            "visibility": null,
            "width": null
          }
        },
        "48a8816a4fd944a2983867072b18281b": {
          "model_module": "@jupyter-widgets/base",
          "model_module_version": "1.2.0",
          "model_name": "LayoutModel",
          "state": {
            "_model_module": "@jupyter-widgets/base",
            "_model_module_version": "1.2.0",
            "_model_name": "LayoutModel",
            "_view_count": null,
            "_view_module": "@jupyter-widgets/base",
            "_view_module_version": "1.2.0",
            "_view_name": "LayoutView",
            "align_content": null,
            "align_items": null,
            "align_self": null,
            "border": null,
            "bottom": null,
            "display": null,
            "flex": null,
            "flex_flow": null,
            "grid_area": null,
            "grid_auto_columns": null,
            "grid_auto_flow": null,
            "grid_auto_rows": null,
            "grid_column": null,
            "grid_gap": null,
            "grid_row": null,
            "grid_template_areas": null,
            "grid_template_columns": null,
            "grid_template_rows": null,
            "height": null,
            "justify_content": null,
            "justify_items": null,
            "left": null,
            "margin": null,
            "max_height": null,
            "max_width": null,
            "min_height": null,
            "min_width": null,
            "object_fit": null,
            "object_position": null,
            "order": null,
            "overflow": null,
            "overflow_x": null,
            "overflow_y": null,
            "padding": null,
            "right": null,
            "top": null,
            "visibility": null,
            "width": null
          }
        },
        "4dc52778c02542ad94a5f7d45b7a5a98": {
          "model_module": "@jupyter-widgets/base",
          "model_module_version": "1.2.0",
          "model_name": "LayoutModel",
          "state": {
            "_model_module": "@jupyter-widgets/base",
            "_model_module_version": "1.2.0",
            "_model_name": "LayoutModel",
            "_view_count": null,
            "_view_module": "@jupyter-widgets/base",
            "_view_module_version": "1.2.0",
            "_view_name": "LayoutView",
            "align_content": null,
            "align_items": null,
            "align_self": null,
            "border": null,
            "bottom": null,
            "display": null,
            "flex": null,
            "flex_flow": null,
            "grid_area": null,
            "grid_auto_columns": null,
            "grid_auto_flow": null,
            "grid_auto_rows": null,
            "grid_column": null,
            "grid_gap": null,
            "grid_row": null,
            "grid_template_areas": null,
            "grid_template_columns": null,
            "grid_template_rows": null,
            "height": null,
            "justify_content": null,
            "justify_items": null,
            "left": null,
            "margin": null,
            "max_height": null,
            "max_width": null,
            "min_height": null,
            "min_width": null,
            "object_fit": null,
            "object_position": null,
            "order": null,
            "overflow": null,
            "overflow_x": null,
            "overflow_y": null,
            "padding": null,
            "right": null,
            "top": null,
            "visibility": null,
            "width": null
          }
        },
        "521f77db070641e7a0097f0b4c0793ef": {
          "model_module": "@jupyter-widgets/base",
          "model_module_version": "1.2.0",
          "model_name": "LayoutModel",
          "state": {
            "_model_module": "@jupyter-widgets/base",
            "_model_module_version": "1.2.0",
            "_model_name": "LayoutModel",
            "_view_count": null,
            "_view_module": "@jupyter-widgets/base",
            "_view_module_version": "1.2.0",
            "_view_name": "LayoutView",
            "align_content": null,
            "align_items": null,
            "align_self": null,
            "border": null,
            "bottom": null,
            "display": null,
            "flex": null,
            "flex_flow": null,
            "grid_area": null,
            "grid_auto_columns": null,
            "grid_auto_flow": null,
            "grid_auto_rows": null,
            "grid_column": null,
            "grid_gap": null,
            "grid_row": null,
            "grid_template_areas": null,
            "grid_template_columns": null,
            "grid_template_rows": null,
            "height": null,
            "justify_content": null,
            "justify_items": null,
            "left": null,
            "margin": null,
            "max_height": null,
            "max_width": null,
            "min_height": null,
            "min_width": null,
            "object_fit": null,
            "object_position": null,
            "order": null,
            "overflow": null,
            "overflow_x": null,
            "overflow_y": null,
            "padding": null,
            "right": null,
            "top": null,
            "visibility": null,
            "width": null
          }
        },
        "56009f45f7ce4372b14f86d8273236e6": {
          "model_module": "@jupyter-widgets/controls",
          "model_module_version": "1.5.0",
          "model_name": "DescriptionStyleModel",
          "state": {
            "_model_module": "@jupyter-widgets/controls",
            "_model_module_version": "1.5.0",
            "_model_name": "DescriptionStyleModel",
            "_view_count": null,
            "_view_module": "@jupyter-widgets/base",
            "_view_module_version": "1.2.0",
            "_view_name": "StyleView",
            "description_width": ""
          }
        },
        "5bd958e1e2bc4b1ea1f586e2afa89499": {
          "model_module": "@jupyter-widgets/controls",
          "model_module_version": "1.5.0",
          "model_name": "LabelModel",
          "state": {
            "_dom_classes": [],
            "_model_module": "@jupyter-widgets/controls",
            "_model_module_version": "1.5.0",
            "_model_name": "LabelModel",
            "_view_count": null,
            "_view_module": "@jupyter-widgets/controls",
            "_view_module_version": "1.5.0",
            "_view_name": "LabelView",
            "description": "",
            "description_tooltip": null,
            "layout": "IPY_MODEL_521f77db070641e7a0097f0b4c0793ef",
            "placeholder": "​",
            "style": "IPY_MODEL_c2576f2a4b3e4d77882585ea581e3c07",
            "value": "0.008 MB of 0.008 MB uploaded (0.000 MB deduped)\r"
          }
        },
        "5dad7e56bbc24479b083a9ed7dc2ebe6": {
          "model_module": "@jupyter-widgets/controls",
          "model_module_version": "1.5.0",
          "model_name": "DescriptionStyleModel",
          "state": {
            "_model_module": "@jupyter-widgets/controls",
            "_model_module_version": "1.5.0",
            "_model_name": "DescriptionStyleModel",
            "_view_count": null,
            "_view_module": "@jupyter-widgets/base",
            "_view_module_version": "1.2.0",
            "_view_name": "StyleView",
            "description_width": ""
          }
        },
        "5dde59adcbf244aba363806ffaf74607": {
          "model_module": "@jupyter-widgets/base",
          "model_module_version": "1.2.0",
          "model_name": "LayoutModel",
          "state": {
            "_model_module": "@jupyter-widgets/base",
            "_model_module_version": "1.2.0",
            "_model_name": "LayoutModel",
            "_view_count": null,
            "_view_module": "@jupyter-widgets/base",
            "_view_module_version": "1.2.0",
            "_view_name": "LayoutView",
            "align_content": null,
            "align_items": null,
            "align_self": null,
            "border": null,
            "bottom": null,
            "display": null,
            "flex": null,
            "flex_flow": null,
            "grid_area": null,
            "grid_auto_columns": null,
            "grid_auto_flow": null,
            "grid_auto_rows": null,
            "grid_column": null,
            "grid_gap": null,
            "grid_row": null,
            "grid_template_areas": null,
            "grid_template_columns": null,
            "grid_template_rows": null,
            "height": null,
            "justify_content": null,
            "justify_items": null,
            "left": null,
            "margin": null,
            "max_height": null,
            "max_width": null,
            "min_height": null,
            "min_width": null,
            "object_fit": null,
            "object_position": null,
            "order": null,
            "overflow": null,
            "overflow_x": null,
            "overflow_y": null,
            "padding": null,
            "right": null,
            "top": null,
            "visibility": null,
            "width": null
          }
        },
        "642acd73d99c470a99c17d685f0b7704": {
          "model_module": "@jupyter-widgets/controls",
          "model_module_version": "1.5.0",
          "model_name": "LabelModel",
          "state": {
            "_dom_classes": [],
            "_model_module": "@jupyter-widgets/controls",
            "_model_module_version": "1.5.0",
            "_model_name": "LabelModel",
            "_view_count": null,
            "_view_module": "@jupyter-widgets/controls",
            "_view_module_version": "1.5.0",
            "_view_name": "LabelView",
            "description": "",
            "description_tooltip": null,
            "layout": "IPY_MODEL_ea37187ae765457eb09295a54c5e7365",
            "placeholder": "​",
            "style": "IPY_MODEL_455e69ec3bb64becaed1dec637e1b2bc",
            "value": "0.008 MB of 0.008 MB uploaded (0.000 MB deduped)\r"
          }
        },
        "685ee2fe32fb4ae08aefa144f8738f16": {
          "model_module": "@jupyter-widgets/base",
          "model_module_version": "1.2.0",
          "model_name": "LayoutModel",
          "state": {
            "_model_module": "@jupyter-widgets/base",
            "_model_module_version": "1.2.0",
            "_model_name": "LayoutModel",
            "_view_count": null,
            "_view_module": "@jupyter-widgets/base",
            "_view_module_version": "1.2.0",
            "_view_name": "LayoutView",
            "align_content": null,
            "align_items": null,
            "align_self": null,
            "border": null,
            "bottom": null,
            "display": null,
            "flex": null,
            "flex_flow": null,
            "grid_area": null,
            "grid_auto_columns": null,
            "grid_auto_flow": null,
            "grid_auto_rows": null,
            "grid_column": null,
            "grid_gap": null,
            "grid_row": null,
            "grid_template_areas": null,
            "grid_template_columns": null,
            "grid_template_rows": null,
            "height": null,
            "justify_content": null,
            "justify_items": null,
            "left": null,
            "margin": null,
            "max_height": null,
            "max_width": null,
            "min_height": null,
            "min_width": null,
            "object_fit": null,
            "object_position": null,
            "order": null,
            "overflow": null,
            "overflow_x": null,
            "overflow_y": null,
            "padding": null,
            "right": null,
            "top": null,
            "visibility": null,
            "width": null
          }
        },
        "6bc474b778ed4e448c7962c9b3da06fa": {
          "model_module": "@jupyter-widgets/controls",
          "model_module_version": "1.5.0",
          "model_name": "LabelModel",
          "state": {
            "_dom_classes": [],
            "_model_module": "@jupyter-widgets/controls",
            "_model_module_version": "1.5.0",
            "_model_name": "LabelModel",
            "_view_count": null,
            "_view_module": "@jupyter-widgets/controls",
            "_view_module_version": "1.5.0",
            "_view_name": "LabelView",
            "description": "",
            "description_tooltip": null,
            "layout": "IPY_MODEL_d77025115a81456dade5d139892d942e",
            "placeholder": "​",
            "style": "IPY_MODEL_c134c8bbd52b41da88dcf49f7421099c",
            "value": "0.008 MB of 0.008 MB uploaded (0.000 MB deduped)\r"
          }
        },
        "6e9eff32ca164a51b3fb183ecdd5cae0": {
          "model_module": "@jupyter-widgets/controls",
          "model_module_version": "1.5.0",
          "model_name": "VBoxModel",
          "state": {
            "_dom_classes": [],
            "_model_module": "@jupyter-widgets/controls",
            "_model_module_version": "1.5.0",
            "_model_name": "VBoxModel",
            "_view_count": null,
            "_view_module": "@jupyter-widgets/controls",
            "_view_module_version": "1.5.0",
            "_view_name": "VBoxView",
            "box_style": "",
            "children": [
              "IPY_MODEL_3f1500527dc04bcbaa7f1ace440d3897",
              "IPY_MODEL_372061e7f44c46d98144f9fb4bc193ac"
            ],
            "layout": "IPY_MODEL_11e7c611da6149d3a970a59207dbcae9"
          }
        },
        "789ca682cc164fe9be5a63f1226bf47a": {
          "model_module": "@jupyter-widgets/controls",
          "model_module_version": "1.5.0",
          "model_name": "VBoxModel",
          "state": {
            "_dom_classes": [],
            "_model_module": "@jupyter-widgets/controls",
            "_model_module_version": "1.5.0",
            "_model_name": "VBoxModel",
            "_view_count": null,
            "_view_module": "@jupyter-widgets/controls",
            "_view_module_version": "1.5.0",
            "_view_name": "VBoxView",
            "box_style": "",
            "children": [
              "IPY_MODEL_30d5335d53814da2b4244ea3e7d511fb",
              "IPY_MODEL_8c6d9a0e02d9403b9bbb63ec6ce9e513"
            ],
            "layout": "IPY_MODEL_2e3788cccf2a4b84bd7d5a59c03c42a5"
          }
        },
        "7b2be86d62944910bfd8e9de3fd21512": {
          "model_module": "@jupyter-widgets/controls",
          "model_module_version": "1.5.0",
          "model_name": "ProgressStyleModel",
          "state": {
            "_model_module": "@jupyter-widgets/controls",
            "_model_module_version": "1.5.0",
            "_model_name": "ProgressStyleModel",
            "_view_count": null,
            "_view_module": "@jupyter-widgets/base",
            "_view_module_version": "1.2.0",
            "_view_name": "StyleView",
            "bar_color": null,
            "description_width": ""
          }
        },
        "7ea447db634942e2a4c7575b5db2e75e": {
          "model_module": "@jupyter-widgets/controls",
          "model_module_version": "1.5.0",
          "model_name": "LabelModel",
          "state": {
            "_dom_classes": [],
            "_model_module": "@jupyter-widgets/controls",
            "_model_module_version": "1.5.0",
            "_model_name": "LabelModel",
            "_view_count": null,
            "_view_module": "@jupyter-widgets/controls",
            "_view_module_version": "1.5.0",
            "_view_name": "LabelView",
            "description": "",
            "description_tooltip": null,
            "layout": "IPY_MODEL_f489472bf08149b9afa7ed1fc3c95591",
            "placeholder": "​",
            "style": "IPY_MODEL_83824852e6be466db356b9ac06f10479",
            "value": "0.026 MB of 0.026 MB uploaded (0.000 MB deduped)\r"
          }
        },
        "81fba16a494f4223a8d217f28019d369": {
          "model_module": "@jupyter-widgets/controls",
          "model_module_version": "1.5.0",
          "model_name": "LabelModel",
          "state": {
            "_dom_classes": [],
            "_model_module": "@jupyter-widgets/controls",
            "_model_module_version": "1.5.0",
            "_model_name": "LabelModel",
            "_view_count": null,
            "_view_module": "@jupyter-widgets/controls",
            "_view_module_version": "1.5.0",
            "_view_name": "LabelView",
            "description": "",
            "description_tooltip": null,
            "layout": "IPY_MODEL_24674bfe30014b018d205b781b4ea5b8",
            "placeholder": "​",
            "style": "IPY_MODEL_56009f45f7ce4372b14f86d8273236e6",
            "value": "0.008 MB of 0.008 MB uploaded (0.000 MB deduped)\r"
          }
        },
        "82f5b3b2a66c4bd9a977a41dca5a2fcb": {
          "model_module": "@jupyter-widgets/controls",
          "model_module_version": "1.5.0",
          "model_name": "ProgressStyleModel",
          "state": {
            "_model_module": "@jupyter-widgets/controls",
            "_model_module_version": "1.5.0",
            "_model_name": "ProgressStyleModel",
            "_view_count": null,
            "_view_module": "@jupyter-widgets/base",
            "_view_module_version": "1.2.0",
            "_view_name": "StyleView",
            "bar_color": null,
            "description_width": ""
          }
        },
        "83824852e6be466db356b9ac06f10479": {
          "model_module": "@jupyter-widgets/controls",
          "model_module_version": "1.5.0",
          "model_name": "DescriptionStyleModel",
          "state": {
            "_model_module": "@jupyter-widgets/controls",
            "_model_module_version": "1.5.0",
            "_model_name": "DescriptionStyleModel",
            "_view_count": null,
            "_view_module": "@jupyter-widgets/base",
            "_view_module_version": "1.2.0",
            "_view_name": "StyleView",
            "description_width": ""
          }
        },
        "8a010640585e45ea8cab901ba1dc0c18": {
          "model_module": "@jupyter-widgets/base",
          "model_module_version": "1.2.0",
          "model_name": "LayoutModel",
          "state": {
            "_model_module": "@jupyter-widgets/base",
            "_model_module_version": "1.2.0",
            "_model_name": "LayoutModel",
            "_view_count": null,
            "_view_module": "@jupyter-widgets/base",
            "_view_module_version": "1.2.0",
            "_view_name": "LayoutView",
            "align_content": null,
            "align_items": null,
            "align_self": null,
            "border": null,
            "bottom": null,
            "display": null,
            "flex": null,
            "flex_flow": null,
            "grid_area": null,
            "grid_auto_columns": null,
            "grid_auto_flow": null,
            "grid_auto_rows": null,
            "grid_column": null,
            "grid_gap": null,
            "grid_row": null,
            "grid_template_areas": null,
            "grid_template_columns": null,
            "grid_template_rows": null,
            "height": null,
            "justify_content": null,
            "justify_items": null,
            "left": null,
            "margin": null,
            "max_height": null,
            "max_width": null,
            "min_height": null,
            "min_width": null,
            "object_fit": null,
            "object_position": null,
            "order": null,
            "overflow": null,
            "overflow_x": null,
            "overflow_y": null,
            "padding": null,
            "right": null,
            "top": null,
            "visibility": null,
            "width": null
          }
        },
        "8a7f76ee1dbf419687535970bade573b": {
          "model_module": "@jupyter-widgets/controls",
          "model_module_version": "1.5.0",
          "model_name": "FloatProgressModel",
          "state": {
            "_dom_classes": [],
            "_model_module": "@jupyter-widgets/controls",
            "_model_module_version": "1.5.0",
            "_model_name": "FloatProgressModel",
            "_view_count": null,
            "_view_module": "@jupyter-widgets/controls",
            "_view_module_version": "1.5.0",
            "_view_name": "ProgressView",
            "bar_style": "",
            "description": "",
            "description_tooltip": null,
            "layout": "IPY_MODEL_aa05254699df452c97dd970e874d855f",
            "max": 1,
            "min": 0,
            "orientation": "horizontal",
            "style": "IPY_MODEL_acf104d7b145494ebdecdcd77ee36449",
            "value": 1
          }
        },
        "8c6d9a0e02d9403b9bbb63ec6ce9e513": {
          "model_module": "@jupyter-widgets/controls",
          "model_module_version": "1.5.0",
          "model_name": "FloatProgressModel",
          "state": {
            "_dom_classes": [],
            "_model_module": "@jupyter-widgets/controls",
            "_model_module_version": "1.5.0",
            "_model_name": "FloatProgressModel",
            "_view_count": null,
            "_view_module": "@jupyter-widgets/controls",
            "_view_module_version": "1.5.0",
            "_view_name": "ProgressView",
            "bar_style": "",
            "description": "",
            "description_tooltip": null,
            "layout": "IPY_MODEL_27dd8676102f4a34adc321360ad7c16e",
            "max": 1,
            "min": 0,
            "orientation": "horizontal",
            "style": "IPY_MODEL_3166e54e4f994c848e76435a1962f441",
            "value": 1
          }
        },
        "99db2784438e4525aa6f63a7327f21e9": {
          "model_module": "@jupyter-widgets/base",
          "model_module_version": "1.2.0",
          "model_name": "LayoutModel",
          "state": {
            "_model_module": "@jupyter-widgets/base",
            "_model_module_version": "1.2.0",
            "_model_name": "LayoutModel",
            "_view_count": null,
            "_view_module": "@jupyter-widgets/base",
            "_view_module_version": "1.2.0",
            "_view_name": "LayoutView",
            "align_content": null,
            "align_items": null,
            "align_self": null,
            "border": null,
            "bottom": null,
            "display": null,
            "flex": null,
            "flex_flow": null,
            "grid_area": null,
            "grid_auto_columns": null,
            "grid_auto_flow": null,
            "grid_auto_rows": null,
            "grid_column": null,
            "grid_gap": null,
            "grid_row": null,
            "grid_template_areas": null,
            "grid_template_columns": null,
            "grid_template_rows": null,
            "height": null,
            "justify_content": null,
            "justify_items": null,
            "left": null,
            "margin": null,
            "max_height": null,
            "max_width": null,
            "min_height": null,
            "min_width": null,
            "object_fit": null,
            "object_position": null,
            "order": null,
            "overflow": null,
            "overflow_x": null,
            "overflow_y": null,
            "padding": null,
            "right": null,
            "top": null,
            "visibility": null,
            "width": null
          }
        },
        "9abdeaf7387b413bbe83d0507a16c419": {
          "model_module": "@jupyter-widgets/base",
          "model_module_version": "1.2.0",
          "model_name": "LayoutModel",
          "state": {
            "_model_module": "@jupyter-widgets/base",
            "_model_module_version": "1.2.0",
            "_model_name": "LayoutModel",
            "_view_count": null,
            "_view_module": "@jupyter-widgets/base",
            "_view_module_version": "1.2.0",
            "_view_name": "LayoutView",
            "align_content": null,
            "align_items": null,
            "align_self": null,
            "border": null,
            "bottom": null,
            "display": null,
            "flex": null,
            "flex_flow": null,
            "grid_area": null,
            "grid_auto_columns": null,
            "grid_auto_flow": null,
            "grid_auto_rows": null,
            "grid_column": null,
            "grid_gap": null,
            "grid_row": null,
            "grid_template_areas": null,
            "grid_template_columns": null,
            "grid_template_rows": null,
            "height": null,
            "justify_content": null,
            "justify_items": null,
            "left": null,
            "margin": null,
            "max_height": null,
            "max_width": null,
            "min_height": null,
            "min_width": null,
            "object_fit": null,
            "object_position": null,
            "order": null,
            "overflow": null,
            "overflow_x": null,
            "overflow_y": null,
            "padding": null,
            "right": null,
            "top": null,
            "visibility": null,
            "width": null
          }
        },
        "9c447133b9144bc1905bab6fbddb8060": {
          "model_module": "@jupyter-widgets/controls",
          "model_module_version": "1.5.0",
          "model_name": "FloatProgressModel",
          "state": {
            "_dom_classes": [],
            "_model_module": "@jupyter-widgets/controls",
            "_model_module_version": "1.5.0",
            "_model_name": "FloatProgressModel",
            "_view_count": null,
            "_view_module": "@jupyter-widgets/controls",
            "_view_module_version": "1.5.0",
            "_view_name": "ProgressView",
            "bar_style": "",
            "description": "",
            "description_tooltip": null,
            "layout": "IPY_MODEL_fd2b0ee41f094cecb350286406b33dd5",
            "max": 1,
            "min": 0,
            "orientation": "horizontal",
            "style": "IPY_MODEL_7b2be86d62944910bfd8e9de3fd21512",
            "value": 1
          }
        },
        "9fe9f462c7254798b47382a56719dfe4": {
          "model_module": "@jupyter-widgets/controls",
          "model_module_version": "1.5.0",
          "model_name": "ProgressStyleModel",
          "state": {
            "_model_module": "@jupyter-widgets/controls",
            "_model_module_version": "1.5.0",
            "_model_name": "ProgressStyleModel",
            "_view_count": null,
            "_view_module": "@jupyter-widgets/base",
            "_view_module_version": "1.2.0",
            "_view_name": "StyleView",
            "bar_color": null,
            "description_width": ""
          }
        },
        "aa05254699df452c97dd970e874d855f": {
          "model_module": "@jupyter-widgets/base",
          "model_module_version": "1.2.0",
          "model_name": "LayoutModel",
          "state": {
            "_model_module": "@jupyter-widgets/base",
            "_model_module_version": "1.2.0",
            "_model_name": "LayoutModel",
            "_view_count": null,
            "_view_module": "@jupyter-widgets/base",
            "_view_module_version": "1.2.0",
            "_view_name": "LayoutView",
            "align_content": null,
            "align_items": null,
            "align_self": null,
            "border": null,
            "bottom": null,
            "display": null,
            "flex": null,
            "flex_flow": null,
            "grid_area": null,
            "grid_auto_columns": null,
            "grid_auto_flow": null,
            "grid_auto_rows": null,
            "grid_column": null,
            "grid_gap": null,
            "grid_row": null,
            "grid_template_areas": null,
            "grid_template_columns": null,
            "grid_template_rows": null,
            "height": null,
            "justify_content": null,
            "justify_items": null,
            "left": null,
            "margin": null,
            "max_height": null,
            "max_width": null,
            "min_height": null,
            "min_width": null,
            "object_fit": null,
            "object_position": null,
            "order": null,
            "overflow": null,
            "overflow_x": null,
            "overflow_y": null,
            "padding": null,
            "right": null,
            "top": null,
            "visibility": null,
            "width": null
          }
        },
        "ac72ba6a977342fca73b3b0e61439cab": {
          "model_module": "@jupyter-widgets/base",
          "model_module_version": "1.2.0",
          "model_name": "LayoutModel",
          "state": {
            "_model_module": "@jupyter-widgets/base",
            "_model_module_version": "1.2.0",
            "_model_name": "LayoutModel",
            "_view_count": null,
            "_view_module": "@jupyter-widgets/base",
            "_view_module_version": "1.2.0",
            "_view_name": "LayoutView",
            "align_content": null,
            "align_items": null,
            "align_self": null,
            "border": null,
            "bottom": null,
            "display": null,
            "flex": null,
            "flex_flow": null,
            "grid_area": null,
            "grid_auto_columns": null,
            "grid_auto_flow": null,
            "grid_auto_rows": null,
            "grid_column": null,
            "grid_gap": null,
            "grid_row": null,
            "grid_template_areas": null,
            "grid_template_columns": null,
            "grid_template_rows": null,
            "height": null,
            "justify_content": null,
            "justify_items": null,
            "left": null,
            "margin": null,
            "max_height": null,
            "max_width": null,
            "min_height": null,
            "min_width": null,
            "object_fit": null,
            "object_position": null,
            "order": null,
            "overflow": null,
            "overflow_x": null,
            "overflow_y": null,
            "padding": null,
            "right": null,
            "top": null,
            "visibility": null,
            "width": null
          }
        },
        "acf104d7b145494ebdecdcd77ee36449": {
          "model_module": "@jupyter-widgets/controls",
          "model_module_version": "1.5.0",
          "model_name": "ProgressStyleModel",
          "state": {
            "_model_module": "@jupyter-widgets/controls",
            "_model_module_version": "1.5.0",
            "_model_name": "ProgressStyleModel",
            "_view_count": null,
            "_view_module": "@jupyter-widgets/base",
            "_view_module_version": "1.2.0",
            "_view_name": "StyleView",
            "bar_color": null,
            "description_width": ""
          }
        },
        "b33588a583a74b0ca704326da92a26ba": {
          "model_module": "@jupyter-widgets/controls",
          "model_module_version": "1.5.0",
          "model_name": "VBoxModel",
          "state": {
            "_dom_classes": [],
            "_model_module": "@jupyter-widgets/controls",
            "_model_module_version": "1.5.0",
            "_model_name": "VBoxModel",
            "_view_count": null,
            "_view_module": "@jupyter-widgets/controls",
            "_view_module_version": "1.5.0",
            "_view_name": "VBoxView",
            "box_style": "",
            "children": [
              "IPY_MODEL_ebd0cae92b844bc5b85c6ca43146b939",
              "IPY_MODEL_d0a7f9c1ca234cfcbf80dde01b6469a6"
            ],
            "layout": "IPY_MODEL_b53f9d1b87644c17a87da9e7df964c0c"
          }
        },
        "b53f9d1b87644c17a87da9e7df964c0c": {
          "model_module": "@jupyter-widgets/base",
          "model_module_version": "1.2.0",
          "model_name": "LayoutModel",
          "state": {
            "_model_module": "@jupyter-widgets/base",
            "_model_module_version": "1.2.0",
            "_model_name": "LayoutModel",
            "_view_count": null,
            "_view_module": "@jupyter-widgets/base",
            "_view_module_version": "1.2.0",
            "_view_name": "LayoutView",
            "align_content": null,
            "align_items": null,
            "align_self": null,
            "border": null,
            "bottom": null,
            "display": null,
            "flex": null,
            "flex_flow": null,
            "grid_area": null,
            "grid_auto_columns": null,
            "grid_auto_flow": null,
            "grid_auto_rows": null,
            "grid_column": null,
            "grid_gap": null,
            "grid_row": null,
            "grid_template_areas": null,
            "grid_template_columns": null,
            "grid_template_rows": null,
            "height": null,
            "justify_content": null,
            "justify_items": null,
            "left": null,
            "margin": null,
            "max_height": null,
            "max_width": null,
            "min_height": null,
            "min_width": null,
            "object_fit": null,
            "object_position": null,
            "order": null,
            "overflow": null,
            "overflow_x": null,
            "overflow_y": null,
            "padding": null,
            "right": null,
            "top": null,
            "visibility": null,
            "width": null
          }
        },
        "b816211e808140ef92b41e8aa91406a0": {
          "model_module": "@jupyter-widgets/controls",
          "model_module_version": "1.5.0",
          "model_name": "LabelModel",
          "state": {
            "_dom_classes": [],
            "_model_module": "@jupyter-widgets/controls",
            "_model_module_version": "1.5.0",
            "_model_name": "LabelModel",
            "_view_count": null,
            "_view_module": "@jupyter-widgets/controls",
            "_view_module_version": "1.5.0",
            "_view_name": "LabelView",
            "description": "",
            "description_tooltip": null,
            "layout": "IPY_MODEL_ac72ba6a977342fca73b3b0e61439cab",
            "placeholder": "​",
            "style": "IPY_MODEL_5dad7e56bbc24479b083a9ed7dc2ebe6",
            "value": "0.008 MB of 0.008 MB uploaded (0.000 MB deduped)\r"
          }
        },
        "bc255094fc244b6bb5ebbcc5b180ab74": {
          "model_module": "@jupyter-widgets/base",
          "model_module_version": "1.2.0",
          "model_name": "LayoutModel",
          "state": {
            "_model_module": "@jupyter-widgets/base",
            "_model_module_version": "1.2.0",
            "_model_name": "LayoutModel",
            "_view_count": null,
            "_view_module": "@jupyter-widgets/base",
            "_view_module_version": "1.2.0",
            "_view_name": "LayoutView",
            "align_content": null,
            "align_items": null,
            "align_self": null,
            "border": null,
            "bottom": null,
            "display": null,
            "flex": null,
            "flex_flow": null,
            "grid_area": null,
            "grid_auto_columns": null,
            "grid_auto_flow": null,
            "grid_auto_rows": null,
            "grid_column": null,
            "grid_gap": null,
            "grid_row": null,
            "grid_template_areas": null,
            "grid_template_columns": null,
            "grid_template_rows": null,
            "height": null,
            "justify_content": null,
            "justify_items": null,
            "left": null,
            "margin": null,
            "max_height": null,
            "max_width": null,
            "min_height": null,
            "min_width": null,
            "object_fit": null,
            "object_position": null,
            "order": null,
            "overflow": null,
            "overflow_x": null,
            "overflow_y": null,
            "padding": null,
            "right": null,
            "top": null,
            "visibility": null,
            "width": null
          }
        },
        "c134c8bbd52b41da88dcf49f7421099c": {
          "model_module": "@jupyter-widgets/controls",
          "model_module_version": "1.5.0",
          "model_name": "DescriptionStyleModel",
          "state": {
            "_model_module": "@jupyter-widgets/controls",
            "_model_module_version": "1.5.0",
            "_model_name": "DescriptionStyleModel",
            "_view_count": null,
            "_view_module": "@jupyter-widgets/base",
            "_view_module_version": "1.2.0",
            "_view_name": "StyleView",
            "description_width": ""
          }
        },
        "c2576f2a4b3e4d77882585ea581e3c07": {
          "model_module": "@jupyter-widgets/controls",
          "model_module_version": "1.5.0",
          "model_name": "DescriptionStyleModel",
          "state": {
            "_model_module": "@jupyter-widgets/controls",
            "_model_module_version": "1.5.0",
            "_model_name": "DescriptionStyleModel",
            "_view_count": null,
            "_view_module": "@jupyter-widgets/base",
            "_view_module_version": "1.2.0",
            "_view_name": "StyleView",
            "description_width": ""
          }
        },
        "c63c208eead64e2c9a24413793c6aba4": {
          "model_module": "@jupyter-widgets/base",
          "model_module_version": "1.2.0",
          "model_name": "LayoutModel",
          "state": {
            "_model_module": "@jupyter-widgets/base",
            "_model_module_version": "1.2.0",
            "_model_name": "LayoutModel",
            "_view_count": null,
            "_view_module": "@jupyter-widgets/base",
            "_view_module_version": "1.2.0",
            "_view_name": "LayoutView",
            "align_content": null,
            "align_items": null,
            "align_self": null,
            "border": null,
            "bottom": null,
            "display": null,
            "flex": null,
            "flex_flow": null,
            "grid_area": null,
            "grid_auto_columns": null,
            "grid_auto_flow": null,
            "grid_auto_rows": null,
            "grid_column": null,
            "grid_gap": null,
            "grid_row": null,
            "grid_template_areas": null,
            "grid_template_columns": null,
            "grid_template_rows": null,
            "height": null,
            "justify_content": null,
            "justify_items": null,
            "left": null,
            "margin": null,
            "max_height": null,
            "max_width": null,
            "min_height": null,
            "min_width": null,
            "object_fit": null,
            "object_position": null,
            "order": null,
            "overflow": null,
            "overflow_x": null,
            "overflow_y": null,
            "padding": null,
            "right": null,
            "top": null,
            "visibility": null,
            "width": null
          }
        },
        "c75b56bef9f946508d8db9a716432df4": {
          "model_module": "@jupyter-widgets/controls",
          "model_module_version": "1.5.0",
          "model_name": "FloatProgressModel",
          "state": {
            "_dom_classes": [],
            "_model_module": "@jupyter-widgets/controls",
            "_model_module_version": "1.5.0",
            "_model_name": "FloatProgressModel",
            "_view_count": null,
            "_view_module": "@jupyter-widgets/controls",
            "_view_module_version": "1.5.0",
            "_view_name": "ProgressView",
            "bar_style": "",
            "description": "",
            "description_tooltip": null,
            "layout": "IPY_MODEL_0a9328d22f424f759a4cb7b68a7de40c",
            "max": 1,
            "min": 0,
            "orientation": "horizontal",
            "style": "IPY_MODEL_21b5c781e9c2442a96f6ab630b98a2aa",
            "value": 1
          }
        },
        "d0a7f9c1ca234cfcbf80dde01b6469a6": {
          "model_module": "@jupyter-widgets/controls",
          "model_module_version": "1.5.0",
          "model_name": "FloatProgressModel",
          "state": {
            "_dom_classes": [],
            "_model_module": "@jupyter-widgets/controls",
            "_model_module_version": "1.5.0",
            "_model_name": "FloatProgressModel",
            "_view_count": null,
            "_view_module": "@jupyter-widgets/controls",
            "_view_module_version": "1.5.0",
            "_view_name": "ProgressView",
            "bar_style": "",
            "description": "",
            "description_tooltip": null,
            "layout": "IPY_MODEL_edba6df8dde94f4abb03fcf9f8630fc9",
            "max": 1,
            "min": 0,
            "orientation": "horizontal",
            "style": "IPY_MODEL_9fe9f462c7254798b47382a56719dfe4",
            "value": 1
          }
        },
        "d66272ef259e414fa0aeff26c17833e5": {
          "model_module": "@jupyter-widgets/controls",
          "model_module_version": "1.5.0",
          "model_name": "VBoxModel",
          "state": {
            "_dom_classes": [],
            "_model_module": "@jupyter-widgets/controls",
            "_model_module_version": "1.5.0",
            "_model_name": "VBoxModel",
            "_view_count": null,
            "_view_module": "@jupyter-widgets/controls",
            "_view_module_version": "1.5.0",
            "_view_name": "VBoxView",
            "box_style": "",
            "children": [
              "IPY_MODEL_b816211e808140ef92b41e8aa91406a0",
              "IPY_MODEL_9c447133b9144bc1905bab6fbddb8060"
            ],
            "layout": "IPY_MODEL_9abdeaf7387b413bbe83d0507a16c419"
          }
        },
        "d77025115a81456dade5d139892d942e": {
          "model_module": "@jupyter-widgets/base",
          "model_module_version": "1.2.0",
          "model_name": "LayoutModel",
          "state": {
            "_model_module": "@jupyter-widgets/base",
            "_model_module_version": "1.2.0",
            "_model_name": "LayoutModel",
            "_view_count": null,
            "_view_module": "@jupyter-widgets/base",
            "_view_module_version": "1.2.0",
            "_view_name": "LayoutView",
            "align_content": null,
            "align_items": null,
            "align_self": null,
            "border": null,
            "bottom": null,
            "display": null,
            "flex": null,
            "flex_flow": null,
            "grid_area": null,
            "grid_auto_columns": null,
            "grid_auto_flow": null,
            "grid_auto_rows": null,
            "grid_column": null,
            "grid_gap": null,
            "grid_row": null,
            "grid_template_areas": null,
            "grid_template_columns": null,
            "grid_template_rows": null,
            "height": null,
            "justify_content": null,
            "justify_items": null,
            "left": null,
            "margin": null,
            "max_height": null,
            "max_width": null,
            "min_height": null,
            "min_width": null,
            "object_fit": null,
            "object_position": null,
            "order": null,
            "overflow": null,
            "overflow_x": null,
            "overflow_y": null,
            "padding": null,
            "right": null,
            "top": null,
            "visibility": null,
            "width": null
          }
        },
        "dfac957f3d4b43b3beeee89bc16b7081": {
          "model_module": "@jupyter-widgets/controls",
          "model_module_version": "1.5.0",
          "model_name": "FloatProgressModel",
          "state": {
            "_dom_classes": [],
            "_model_module": "@jupyter-widgets/controls",
            "_model_module_version": "1.5.0",
            "_model_name": "FloatProgressModel",
            "_view_count": null,
            "_view_module": "@jupyter-widgets/controls",
            "_view_module_version": "1.5.0",
            "_view_name": "ProgressView",
            "bar_style": "",
            "description": "",
            "description_tooltip": null,
            "layout": "IPY_MODEL_5dde59adcbf244aba363806ffaf74607",
            "max": 1,
            "min": 0,
            "orientation": "horizontal",
            "style": "IPY_MODEL_3b622de75449459188763c85adbd36ad",
            "value": 1
          }
        },
        "e01a27661e7b40dabe5476019a4354a7": {
          "model_module": "@jupyter-widgets/controls",
          "model_module_version": "1.5.0",
          "model_name": "DescriptionStyleModel",
          "state": {
            "_model_module": "@jupyter-widgets/controls",
            "_model_module_version": "1.5.0",
            "_model_name": "DescriptionStyleModel",
            "_view_count": null,
            "_view_module": "@jupyter-widgets/base",
            "_view_module_version": "1.2.0",
            "_view_name": "StyleView",
            "description_width": ""
          }
        },
        "e110d8881e4d466387c288d116624ac1": {
          "model_module": "@jupyter-widgets/base",
          "model_module_version": "1.2.0",
          "model_name": "LayoutModel",
          "state": {
            "_model_module": "@jupyter-widgets/base",
            "_model_module_version": "1.2.0",
            "_model_name": "LayoutModel",
            "_view_count": null,
            "_view_module": "@jupyter-widgets/base",
            "_view_module_version": "1.2.0",
            "_view_name": "LayoutView",
            "align_content": null,
            "align_items": null,
            "align_self": null,
            "border": null,
            "bottom": null,
            "display": null,
            "flex": null,
            "flex_flow": null,
            "grid_area": null,
            "grid_auto_columns": null,
            "grid_auto_flow": null,
            "grid_auto_rows": null,
            "grid_column": null,
            "grid_gap": null,
            "grid_row": null,
            "grid_template_areas": null,
            "grid_template_columns": null,
            "grid_template_rows": null,
            "height": null,
            "justify_content": null,
            "justify_items": null,
            "left": null,
            "margin": null,
            "max_height": null,
            "max_width": null,
            "min_height": null,
            "min_width": null,
            "object_fit": null,
            "object_position": null,
            "order": null,
            "overflow": null,
            "overflow_x": null,
            "overflow_y": null,
            "padding": null,
            "right": null,
            "top": null,
            "visibility": null,
            "width": null
          }
        },
        "e28eaca3569046d89907b619ed4b9c3f": {
          "model_module": "@jupyter-widgets/controls",
          "model_module_version": "1.5.0",
          "model_name": "DescriptionStyleModel",
          "state": {
            "_model_module": "@jupyter-widgets/controls",
            "_model_module_version": "1.5.0",
            "_model_name": "DescriptionStyleModel",
            "_view_count": null,
            "_view_module": "@jupyter-widgets/base",
            "_view_module_version": "1.2.0",
            "_view_name": "StyleView",
            "description_width": ""
          }
        },
        "e34f38da777d4eed844352c69287c5d0": {
          "model_module": "@jupyter-widgets/controls",
          "model_module_version": "1.5.0",
          "model_name": "FloatProgressModel",
          "state": {
            "_dom_classes": [],
            "_model_module": "@jupyter-widgets/controls",
            "_model_module_version": "1.5.0",
            "_model_name": "FloatProgressModel",
            "_view_count": null,
            "_view_module": "@jupyter-widgets/controls",
            "_view_module_version": "1.5.0",
            "_view_name": "ProgressView",
            "bar_style": "",
            "description": "",
            "description_tooltip": null,
            "layout": "IPY_MODEL_bc255094fc244b6bb5ebbcc5b180ab74",
            "max": 1,
            "min": 0,
            "orientation": "horizontal",
            "style": "IPY_MODEL_82f5b3b2a66c4bd9a977a41dca5a2fcb",
            "value": 1
          }
        },
        "e54f33b16fec4a5f8bac961fc4fb532a": {
          "model_module": "@jupyter-widgets/controls",
          "model_module_version": "1.5.0",
          "model_name": "VBoxModel",
          "state": {
            "_dom_classes": [],
            "_model_module": "@jupyter-widgets/controls",
            "_model_module_version": "1.5.0",
            "_model_name": "VBoxModel",
            "_view_count": null,
            "_view_module": "@jupyter-widgets/controls",
            "_view_module_version": "1.5.0",
            "_view_name": "VBoxView",
            "box_style": "",
            "children": [
              "IPY_MODEL_6bc474b778ed4e448c7962c9b3da06fa",
              "IPY_MODEL_00217f46375e4534bcdd9654ca763886"
            ],
            "layout": "IPY_MODEL_28dc085cf9c84a259b9aa20dfc307928"
          }
        },
        "e9b68bd74eb94512afa2fc9e052004ce": {
          "model_module": "@jupyter-widgets/controls",
          "model_module_version": "1.5.0",
          "model_name": "VBoxModel",
          "state": {
            "_dom_classes": [],
            "_model_module": "@jupyter-widgets/controls",
            "_model_module_version": "1.5.0",
            "_model_name": "VBoxModel",
            "_view_count": null,
            "_view_module": "@jupyter-widgets/controls",
            "_view_module_version": "1.5.0",
            "_view_name": "VBoxView",
            "box_style": "",
            "children": [
              "IPY_MODEL_642acd73d99c470a99c17d685f0b7704",
              "IPY_MODEL_e34f38da777d4eed844352c69287c5d0"
            ],
            "layout": "IPY_MODEL_99db2784438e4525aa6f63a7327f21e9"
          }
        },
        "ea37187ae765457eb09295a54c5e7365": {
          "model_module": "@jupyter-widgets/base",
          "model_module_version": "1.2.0",
          "model_name": "LayoutModel",
          "state": {
            "_model_module": "@jupyter-widgets/base",
            "_model_module_version": "1.2.0",
            "_model_name": "LayoutModel",
            "_view_count": null,
            "_view_module": "@jupyter-widgets/base",
            "_view_module_version": "1.2.0",
            "_view_name": "LayoutView",
            "align_content": null,
            "align_items": null,
            "align_self": null,
            "border": null,
            "bottom": null,
            "display": null,
            "flex": null,
            "flex_flow": null,
            "grid_area": null,
            "grid_auto_columns": null,
            "grid_auto_flow": null,
            "grid_auto_rows": null,
            "grid_column": null,
            "grid_gap": null,
            "grid_row": null,
            "grid_template_areas": null,
            "grid_template_columns": null,
            "grid_template_rows": null,
            "height": null,
            "justify_content": null,
            "justify_items": null,
            "left": null,
            "margin": null,
            "max_height": null,
            "max_width": null,
            "min_height": null,
            "min_width": null,
            "object_fit": null,
            "object_position": null,
            "order": null,
            "overflow": null,
            "overflow_x": null,
            "overflow_y": null,
            "padding": null,
            "right": null,
            "top": null,
            "visibility": null,
            "width": null
          }
        },
        "ebd0cae92b844bc5b85c6ca43146b939": {
          "model_module": "@jupyter-widgets/controls",
          "model_module_version": "1.5.0",
          "model_name": "LabelModel",
          "state": {
            "_dom_classes": [],
            "_model_module": "@jupyter-widgets/controls",
            "_model_module_version": "1.5.0",
            "_model_name": "LabelModel",
            "_view_count": null,
            "_view_module": "@jupyter-widgets/controls",
            "_view_module_version": "1.5.0",
            "_view_name": "LabelView",
            "description": "",
            "description_tooltip": null,
            "layout": "IPY_MODEL_0c88b95b46ce418f9a065ffa977d5df5",
            "placeholder": "​",
            "style": "IPY_MODEL_e01a27661e7b40dabe5476019a4354a7",
            "value": "0.038 MB of 0.038 MB uploaded (0.000 MB deduped)\r"
          }
        },
        "edba6df8dde94f4abb03fcf9f8630fc9": {
          "model_module": "@jupyter-widgets/base",
          "model_module_version": "1.2.0",
          "model_name": "LayoutModel",
          "state": {
            "_model_module": "@jupyter-widgets/base",
            "_model_module_version": "1.2.0",
            "_model_name": "LayoutModel",
            "_view_count": null,
            "_view_module": "@jupyter-widgets/base",
            "_view_module_version": "1.2.0",
            "_view_name": "LayoutView",
            "align_content": null,
            "align_items": null,
            "align_self": null,
            "border": null,
            "bottom": null,
            "display": null,
            "flex": null,
            "flex_flow": null,
            "grid_area": null,
            "grid_auto_columns": null,
            "grid_auto_flow": null,
            "grid_auto_rows": null,
            "grid_column": null,
            "grid_gap": null,
            "grid_row": null,
            "grid_template_areas": null,
            "grid_template_columns": null,
            "grid_template_rows": null,
            "height": null,
            "justify_content": null,
            "justify_items": null,
            "left": null,
            "margin": null,
            "max_height": null,
            "max_width": null,
            "min_height": null,
            "min_width": null,
            "object_fit": null,
            "object_position": null,
            "order": null,
            "overflow": null,
            "overflow_x": null,
            "overflow_y": null,
            "padding": null,
            "right": null,
            "top": null,
            "visibility": null,
            "width": null
          }
        },
        "f216ca5fa31f4e8bb1b3d49c18c88a42": {
          "model_module": "@jupyter-widgets/controls",
          "model_module_version": "1.5.0",
          "model_name": "LabelModel",
          "state": {
            "_dom_classes": [],
            "_model_module": "@jupyter-widgets/controls",
            "_model_module_version": "1.5.0",
            "_model_name": "LabelModel",
            "_view_count": null,
            "_view_module": "@jupyter-widgets/controls",
            "_view_module_version": "1.5.0",
            "_view_name": "LabelView",
            "description": "",
            "description_tooltip": null,
            "layout": "IPY_MODEL_f38cf56dc8244bf0857c0276819f5b4a",
            "placeholder": "​",
            "style": "IPY_MODEL_2dc7c807794f4ffd9a144938fe4abdda",
            "value": "0.008 MB of 0.008 MB uploaded (0.000 MB deduped)\r"
          }
        },
        "f38cf56dc8244bf0857c0276819f5b4a": {
          "model_module": "@jupyter-widgets/base",
          "model_module_version": "1.2.0",
          "model_name": "LayoutModel",
          "state": {
            "_model_module": "@jupyter-widgets/base",
            "_model_module_version": "1.2.0",
            "_model_name": "LayoutModel",
            "_view_count": null,
            "_view_module": "@jupyter-widgets/base",
            "_view_module_version": "1.2.0",
            "_view_name": "LayoutView",
            "align_content": null,
            "align_items": null,
            "align_self": null,
            "border": null,
            "bottom": null,
            "display": null,
            "flex": null,
            "flex_flow": null,
            "grid_area": null,
            "grid_auto_columns": null,
            "grid_auto_flow": null,
            "grid_auto_rows": null,
            "grid_column": null,
            "grid_gap": null,
            "grid_row": null,
            "grid_template_areas": null,
            "grid_template_columns": null,
            "grid_template_rows": null,
            "height": null,
            "justify_content": null,
            "justify_items": null,
            "left": null,
            "margin": null,
            "max_height": null,
            "max_width": null,
            "min_height": null,
            "min_width": null,
            "object_fit": null,
            "object_position": null,
            "order": null,
            "overflow": null,
            "overflow_x": null,
            "overflow_y": null,
            "padding": null,
            "right": null,
            "top": null,
            "visibility": null,
            "width": null
          }
        },
        "f489472bf08149b9afa7ed1fc3c95591": {
          "model_module": "@jupyter-widgets/base",
          "model_module_version": "1.2.0",
          "model_name": "LayoutModel",
          "state": {
            "_model_module": "@jupyter-widgets/base",
            "_model_module_version": "1.2.0",
            "_model_name": "LayoutModel",
            "_view_count": null,
            "_view_module": "@jupyter-widgets/base",
            "_view_module_version": "1.2.0",
            "_view_name": "LayoutView",
            "align_content": null,
            "align_items": null,
            "align_self": null,
            "border": null,
            "bottom": null,
            "display": null,
            "flex": null,
            "flex_flow": null,
            "grid_area": null,
            "grid_auto_columns": null,
            "grid_auto_flow": null,
            "grid_auto_rows": null,
            "grid_column": null,
            "grid_gap": null,
            "grid_row": null,
            "grid_template_areas": null,
            "grid_template_columns": null,
            "grid_template_rows": null,
            "height": null,
            "justify_content": null,
            "justify_items": null,
            "left": null,
            "margin": null,
            "max_height": null,
            "max_width": null,
            "min_height": null,
            "min_width": null,
            "object_fit": null,
            "object_position": null,
            "order": null,
            "overflow": null,
            "overflow_x": null,
            "overflow_y": null,
            "padding": null,
            "right": null,
            "top": null,
            "visibility": null,
            "width": null
          }
        },
        "f6868c2e369146bd94d7c939ac01c016": {
          "model_module": "@jupyter-widgets/controls",
          "model_module_version": "1.5.0",
          "model_name": "ProgressStyleModel",
          "state": {
            "_model_module": "@jupyter-widgets/controls",
            "_model_module_version": "1.5.0",
            "_model_name": "ProgressStyleModel",
            "_view_count": null,
            "_view_module": "@jupyter-widgets/base",
            "_view_module_version": "1.2.0",
            "_view_name": "StyleView",
            "bar_color": null,
            "description_width": ""
          }
        },
        "f947014ebe80475787758607be1392fc": {
          "model_module": "@jupyter-widgets/controls",
          "model_module_version": "1.5.0",
          "model_name": "VBoxModel",
          "state": {
            "_dom_classes": [],
            "_model_module": "@jupyter-widgets/controls",
            "_model_module_version": "1.5.0",
            "_model_name": "VBoxModel",
            "_view_count": null,
            "_view_module": "@jupyter-widgets/controls",
            "_view_module_version": "1.5.0",
            "_view_name": "VBoxView",
            "box_style": "",
            "children": [
              "IPY_MODEL_81fba16a494f4223a8d217f28019d369",
              "IPY_MODEL_dfac957f3d4b43b3beeee89bc16b7081"
            ],
            "layout": "IPY_MODEL_e110d8881e4d466387c288d116624ac1"
          }
        },
        "fd2b0ee41f094cecb350286406b33dd5": {
          "model_module": "@jupyter-widgets/base",
          "model_module_version": "1.2.0",
          "model_name": "LayoutModel",
          "state": {
            "_model_module": "@jupyter-widgets/base",
            "_model_module_version": "1.2.0",
            "_model_name": "LayoutModel",
            "_view_count": null,
            "_view_module": "@jupyter-widgets/base",
            "_view_module_version": "1.2.0",
            "_view_name": "LayoutView",
            "align_content": null,
            "align_items": null,
            "align_self": null,
            "border": null,
            "bottom": null,
            "display": null,
            "flex": null,
            "flex_flow": null,
            "grid_area": null,
            "grid_auto_columns": null,
            "grid_auto_flow": null,
            "grid_auto_rows": null,
            "grid_column": null,
            "grid_gap": null,
            "grid_row": null,
            "grid_template_areas": null,
            "grid_template_columns": null,
            "grid_template_rows": null,
            "height": null,
            "justify_content": null,
            "justify_items": null,
            "left": null,
            "margin": null,
            "max_height": null,
            "max_width": null,
            "min_height": null,
            "min_width": null,
            "object_fit": null,
            "object_position": null,
            "order": null,
            "overflow": null,
            "overflow_x": null,
            "overflow_y": null,
            "padding": null,
            "right": null,
            "top": null,
            "visibility": null,
            "width": null
          }
        }
      }
    }
  },
  "nbformat": 4,
  "nbformat_minor": 0
}
