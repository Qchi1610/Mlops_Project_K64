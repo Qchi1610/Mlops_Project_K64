{
  "cells": [
    {
      "cell_type": "markdown",
      "metadata": {
        "id": "0I4pgzLVtBTP"
      },
      "source": [
        "# 1.0 An end-to-end classification problem (Training)\n",
        "\n"
      ]
    },
    {
      "cell_type": "markdown",
      "metadata": {
        "id": "Dh34gim6KPtT"
      },
      "source": [
        "## 1.1 Dataset description"
      ]
    },
    {
      "cell_type": "markdown",
      "metadata": {
        "id": "iE8OJoDZ5AFK"
      },
      "source": [
        "The notebooks focus on a borrower's **credit modeling problem**. The database was downloaded through a dataquest project and is available at link below. The data is from **Lending Club** and contains data from loans made in the period **2007 to 2011**. Lending Club is a marketplace for personal loans that matches borrowers who are seeking a loan with investors looking to lend money and make a return. The **target variable**, or what we are wanting to predict, is whether or not, given a person's history, they will repay the loan.\n",
        "\n",
        "You can download the data from the [Kaggle](https://www.kaggle.com/datasets/samaxtech/lending-club-20072011-data).\n",
        "\n",
        "Let's take the following steps:\n",
        "\n",
        "1. ETL (done)\n",
        "2. Data Checks (done)\n",
        "3. Data Segregation (done)\n",
        "4. Training\n",
        "\n",
        "<center><img width=\"600\" src=\"https://drive.google.com/uc?export=view&id=1fKGuR5U5ECf7On6Zo1UWzAIWZrMmZnGc\"></center>"
      ]
    },
    {
      "cell_type": "markdown",
      "metadata": {
        "id": "7UpxKxU1Ej7f"
      },
      "source": [
        "## 1.2 Install, load libraries"
      ]
    },
    {
      "cell_type": "code",
      "execution_count": 68,
      "metadata": {
        "id": "NreRnbvI8lL5"
      },
      "outputs": [],
      "source": [
        "import logging\n",
        "import wandb\n",
        "import pandas as pd\n",
        "import numpy as np\n",
        "import joblib\n",
        "import matplotlib.pyplot as plt\n",
        "from sklearn.model_selection import train_test_split\n",
        "from sklearn.neighbors import LocalOutlierFactor\n",
        "from sklearn.preprocessing import LabelEncoder\n",
        "from sklearn.preprocessing import OneHotEncoder\n",
        "from sklearn.base import BaseEstimator, TransformerMixin\n",
        "from sklearn.preprocessing import MinMaxScaler\n",
        "from sklearn.preprocessing import StandardScaler\n",
        "from sklearn.preprocessing import OneHotEncoder\n",
        "from sklearn.pipeline import Pipeline, FeatureUnion\n",
        "from sklearn.tree import DecisionTreeClassifier\n",
        "from sklearn.impute import SimpleImputer\n",
        "from sklearn.metrics import fbeta_score, precision_score, recall_score, accuracy_score\n",
        "from sklearn.metrics import classification_report\n",
        "from sklearn.metrics import confusion_matrix\n",
        "from sklearn.metrics import ConfusionMatrixDisplay"
      ]
    },
    {
      "cell_type": "code",
      "execution_count": 69,
      "metadata": {},
      "outputs": [],
      "source": [
        "import os"
      ]
    },
    {
      "cell_type": "code",
      "execution_count": 70,
      "metadata": {
        "colab": {
          "base_uri": "https://localhost:8080/"
        },
        "id": "QZXcN54GkP25",
        "outputId": "d1b1a6be-2d68-4b51-8cb9-90cf2bb978ae"
      },
      "outputs": [
        {
          "data": {
            "text/plain": [
              "True"
            ]
          },
          "execution_count": 70,
          "metadata": {},
          "output_type": "execute_result"
        }
      ],
      "source": [
        "# Login to Weights & Biases\n",
        "wandb.login()"
      ]
    },
    {
      "cell_type": "markdown",
      "metadata": {
        "id": "BeMVUzr08AK8"
      },
      "source": [
        "## 1.3 Holdout Configuration"
      ]
    },
    {
      "cell_type": "code",
      "execution_count": 71,
      "metadata": {
        "id": "sZzaS0x8ZYUB"
      },
      "outputs": [],
      "source": [
        "# global variables\n",
        "\n",
        "# ratio used to split train and test data\n",
        "val_size = 0.2\n",
        "\n",
        "# seed used to reproduce purposes\n",
        "seed = 41\n",
        "\n",
        "# reference (column) to stratify the data\n",
        "stratify = \"y\"\n",
        "\n",
        "# name of the input artifact\n",
        "artifact_input_name = \"Bank-Marketing/train.csv:latest\"\n",
        "\n",
        "# type of the artifact\n",
        "artifact_type = \"Train\""
      ]
    },
    {
      "cell_type": "code",
      "execution_count": 72,
      "metadata": {
        "colab": {
          "base_uri": "https://localhost:8080/"
        },
        "id": "VILw-BwKY2Wn",
        "outputId": "1b4f2e48-d5f5-4fe9-c21d-121d19189214"
      },
      "outputs": [
        {
          "data": {
            "text/html": [
              "Changes to your `wandb` environment variables will be ignored because your `wandb` session has already started. For more information on how to modify your settings with `wandb.init()` arguments, please refer to <a href='https://wandb.me/wandb-init' target=\"_blank\">the W&B docs</a>."
            ],
            "text/plain": [
              "<IPython.core.display.HTML object>"
            ]
          },
          "metadata": {},
          "output_type": "display_data"
        },
        {
          "data": {
            "text/html": [
              "Ignoring project 'Bank-Marketing' when running a sweep."
            ],
            "text/plain": [
              "<IPython.core.display.HTML object>"
            ]
          },
          "metadata": {},
          "output_type": "display_data"
        },
        {
          "data": {
            "text/html": [
              "Waiting for wandb.init()..."
            ],
            "text/plain": [
              "<IPython.core.display.HTML object>"
            ]
          },
          "metadata": {},
          "output_type": "display_data"
        },
        {
          "data": {
            "text/html": [
              "Tracking run with wandb version 0.19.9"
            ],
            "text/plain": [
              "<IPython.core.display.HTML object>"
            ]
          },
          "metadata": {},
          "output_type": "display_data"
        },
        {
          "data": {
            "text/html": [
              "Run data is saved locally in <code>d:\\DSEB\\DSEB_SEM_6\\MLOPS\\W2\\Mlops_Project_K64\\wandb\\run-20250507_212750-0oxjx3h1</code>"
            ],
            "text/plain": [
              "<IPython.core.display.HTML object>"
            ]
          },
          "metadata": {},
          "output_type": "display_data"
        },
        {
          "data": {
            "text/html": [
              "Syncing run <strong><a href='https://wandb.ai/hangtn13-ssc-national-economics-university/Bank-Marketing/runs/0oxjx3h1' target=\"_blank\">woven-sweep-8</a></strong> to <a href='https://wandb.ai/hangtn13-ssc-national-economics-university/Bank-Marketing' target=\"_blank\">Weights & Biases</a> (<a href='https://wandb.me/developer-guide' target=\"_blank\">docs</a>)<br>Sweep page: <a href='https://wandb.ai/hangtn13-ssc-national-economics-university/Bank-Marketing/sweeps/1ftiwr70' target=\"_blank\">https://wandb.ai/hangtn13-ssc-national-economics-university/Bank-Marketing/sweeps/1ftiwr70</a>"
            ],
            "text/plain": [
              "<IPython.core.display.HTML object>"
            ]
          },
          "metadata": {},
          "output_type": "display_data"
        },
        {
          "data": {
            "text/html": [
              " View project at <a href='https://wandb.ai/hangtn13-ssc-national-economics-university/Bank-Marketing' target=\"_blank\">https://wandb.ai/hangtn13-ssc-national-economics-university/Bank-Marketing</a>"
            ],
            "text/plain": [
              "<IPython.core.display.HTML object>"
            ]
          },
          "metadata": {},
          "output_type": "display_data"
        },
        {
          "data": {
            "text/html": [
              " View sweep at <a href='https://wandb.ai/hangtn13-ssc-national-economics-university/Bank-Marketing/sweeps/1ftiwr70' target=\"_blank\">https://wandb.ai/hangtn13-ssc-national-economics-university/Bank-Marketing/sweeps/1ftiwr70</a>"
            ],
            "text/plain": [
              "<IPython.core.display.HTML object>"
            ]
          },
          "metadata": {},
          "output_type": "display_data"
        },
        {
          "data": {
            "text/html": [
              " View run at <a href='https://wandb.ai/hangtn13-ssc-national-economics-university/Bank-Marketing/runs/0oxjx3h1' target=\"_blank\">https://wandb.ai/hangtn13-ssc-national-economics-university/Bank-Marketing/runs/0oxjx3h1</a>"
            ],
            "text/plain": [
              "<IPython.core.display.HTML object>"
            ]
          },
          "metadata": {},
          "output_type": "display_data"
        },
        {
          "name": "stderr",
          "output_type": "stream",
          "text": [
            "07-05-2025 21:27:54 Downloading and reading train artifact\n",
            "\u001b[34m\u001b[1mwandb\u001b[0m:   1 of 1 files downloaded.  \n",
            "07-05-2025 21:27:57 Reading train.csv\n",
            "07-05-2025 21:27:57 Spliting data into train/val\n"
          ]
        }
      ],
      "source": [
        "# configure logging\n",
        "logging.basicConfig(level=logging.INFO,\n",
        "                    format=\"%(asctime)s %(message)s\",\n",
        "                    datefmt='%d-%m-%Y %H:%M:%S')\n",
        "\n",
        "# reference for a logging obj\n",
        "logger = logging.getLogger()\n",
        "\n",
        "# initiate the wandb project\n",
        "run = wandb.init(project=\"Bank-Marketing\",job_type=\"train\")\n",
        "\n",
        "logger.info(\"Downloading and reading train artifact\")\n",
        "artifact = run.use_artifact(artifact_input_name)\n",
        "artifact_dir = artifact.download()\n",
        "local_path = os.path.join(artifact_dir, \"train.csv\")\n",
        "df_train = pd.read_csv(local_path)\n",
        "logger.info(\"Reading train.csv\")\n",
        "\n",
        "# Spliting train.csv into train and validation dataset\n",
        "logger.info(\"Spliting data into train/val\")\n",
        "# split-out train/validation and test dataset\n",
        "x_train, x_val, y_train, y_val = train_test_split(df_train.drop(labels=stratify,axis=1),\n",
        "                                                  df_train[stratify],\n",
        "                                                  test_size=val_size,\n",
        "                                                  random_state=seed,\n",
        "                                                  shuffle=True,\n",
        "                                                  stratify=df_train[stratify])"
      ]
    },
    {
      "cell_type": "code",
      "execution_count": 73,
      "metadata": {
        "colab": {
          "base_uri": "https://localhost:8080/"
        },
        "id": "VOFF72bq9QoB",
        "outputId": "cce4de0e-8531-4068-ac0e-6d927bbba53a"
      },
      "outputs": [
        {
          "name": "stderr",
          "output_type": "stream",
          "text": [
            "07-05-2025 21:27:57 x train: (25218, 20)\n",
            "07-05-2025 21:27:57 y train: (25218,)\n",
            "07-05-2025 21:27:57 x val: (6305, 20)\n",
            "07-05-2025 21:27:57 y val: (6305,)\n"
          ]
        }
      ],
      "source": [
        "logger.info(\"x train: {}\".format(x_train.shape))\n",
        "logger.info(\"y train: {}\".format(y_train.shape))\n",
        "logger.info(\"x val: {}\".format(x_val.shape))\n",
        "logger.info(\"y val: {}\".format(y_val.shape))"
      ]
    },
    {
      "cell_type": "markdown",
      "metadata": {
        "id": "PcqOxTYQ4z3D"
      },
      "source": [
        "## 1.4 Data preparation"
      ]
    },
    {
      "cell_type": "markdown",
      "metadata": {
        "id": "tt9AnGT3922Q"
      },
      "source": [
        "### 1.4.1 Outlier Removal"
      ]
    },
    {
      "cell_type": "code",
      "execution_count": 74,
      "metadata": {},
      "outputs": [],
      "source": [
        "from sklearn.impute import SimpleImputer\n",
        "\n",
        "# Separate numeric columns\n",
        "numeric_columns = x_train.select_dtypes(include=['float64', 'int64']).columns\n",
        "\n",
        "# Create the imputer for numeric columns\n",
        "imputer = SimpleImputer(strategy='median')\n",
        "\n",
        "# Fit and transform the numeric columns only\n",
        "x_train[numeric_columns] = imputer.fit_transform(x_train[numeric_columns])\n",
        "x_val[numeric_columns] = imputer.transform(x_val[numeric_columns])\n"
      ]
    },
    {
      "cell_type": "code",
      "execution_count": 75,
      "metadata": {
        "colab": {
          "base_uri": "https://localhost:8080/"
        },
        "id": "KRvgo0Ol9sPL",
        "outputId": "ba05c584-f490-4708-dc61-2a5b8ef78d43"
      },
      "outputs": [
        {
          "name": "stderr",
          "output_type": "stream",
          "text": [
            "07-05-2025 21:27:58 Outlier Removal\n"
          ]
        }
      ],
      "source": [
        "logger.info(\"Outlier Removal\")\n",
        "# temporary variable\n",
        "x = x_train.select_dtypes('float64').copy()\n",
        "\n",
        "# identify outlier in the dataset\n",
        "lof = LocalOutlierFactor()\n",
        "outlier = lof.fit_predict(x)\n",
        "mask = outlier != -1"
      ]
    },
    {
      "cell_type": "code",
      "execution_count": 76,
      "metadata": {
        "colab": {
          "base_uri": "https://localhost:8080/"
        },
        "id": "A2Y4UgfA9-kn",
        "outputId": "ca9bce4d-efd1-4aee-b0e5-f3816a3988ea"
      },
      "outputs": [
        {
          "name": "stderr",
          "output_type": "stream",
          "text": [
            "07-05-2025 21:28:03 x_train shape [original]: (25218, 20)\n",
            "07-05-2025 21:28:03 x_train shape [outlier removal]: (24165, 20)\n"
          ]
        }
      ],
      "source": [
        "logger.info(\"x_train shape [original]: {}\".format(x_train.shape))\n",
        "logger.info(\"x_train shape [outlier removal]: {}\".format(x_train.loc[mask,:].shape))"
      ]
    },
    {
      "cell_type": "code",
      "execution_count": 77,
      "metadata": {
        "id": "TD1yG61E9_xK"
      },
      "outputs": [],
      "source": [
        "# AVOID data leakage and you should not do this procedure in the preprocessing stage\n",
        "# Note that we did not perform this procedure in the validation set\n",
        "x_train = x_train.loc[mask,:].copy()\n",
        "y_train = y_train[mask].copy()"
      ]
    },
    {
      "cell_type": "markdown",
      "metadata": {
        "id": "EEKvM3qL_3Hb"
      },
      "source": [
        "### 1.4.2 Encoding Target Variable"
      ]
    },
    {
      "cell_type": "code",
      "execution_count": 78,
      "metadata": {
        "colab": {
          "base_uri": "https://localhost:8080/"
        },
        "id": "coxDBYZ5Dv4_",
        "outputId": "08b91749-4616-4189-87ba-9319065b317f"
      },
      "outputs": [
        {
          "data": {
            "text/plain": [
              "7234     yes\n",
              "19855     no\n",
              "19351     no\n",
              "7106      no\n",
              "24031    yes\n",
              "6685      no\n",
              "27059     no\n",
              "26261    yes\n",
              "14623     no\n",
              "3711      no\n",
              "Name: y, dtype: object"
            ]
          },
          "execution_count": 78,
          "metadata": {},
          "output_type": "execute_result"
        }
      ],
      "source": [
        "y_train.head(10)"
      ]
    },
    {
      "cell_type": "code",
      "execution_count": 79,
      "metadata": {
        "colab": {
          "base_uri": "https://localhost:8080/"
        },
        "id": "hGToiv4198vq",
        "outputId": "3392f959-6ea6-414a-95f5-270771c1a38e"
      },
      "outputs": [
        {
          "name": "stderr",
          "output_type": "stream",
          "text": [
            "07-05-2025 21:28:03 Encoding Target Variable\n",
            "07-05-2025 21:28:03 Classes [0, 1]: ['no' 'yes']\n"
          ]
        }
      ],
      "source": [
        "logger.info(\"Encoding Target Variable\")\n",
        "# define a categorical encoding for target variable\n",
        "le = LabelEncoder()\n",
        "\n",
        "# fit and transform y_train\n",
        "y_train = le.fit_transform(y_train)\n",
        "\n",
        "# transform y_test (avoiding data leakage)\n",
        "y_val = le.transform(y_val)\n",
        "\n",
        "logger.info(\"Classes [0, 1]: {}\".format(le.inverse_transform([0, 1])))"
      ]
    },
    {
      "cell_type": "code",
      "execution_count": 80,
      "metadata": {
        "colab": {
          "base_uri": "https://localhost:8080/"
        },
        "id": "KjZA7Fa2ENJH",
        "outputId": "7ea671a2-48fe-4229-97cf-64dcb61eabd2"
      },
      "outputs": [
        {
          "data": {
            "text/plain": [
              "array([1, 0, 0, ..., 0, 0, 0])"
            ]
          },
          "execution_count": 80,
          "metadata": {},
          "output_type": "execute_result"
        }
      ],
      "source": [
        "y_train"
      ]
    },
    {
      "cell_type": "code",
      "execution_count": 81,
      "metadata": {
        "colab": {
          "base_uri": "https://localhost:8080/"
        },
        "id": "vHSpkzzdEYpC",
        "outputId": "9e512a34-ac32-43de-e6b6-1a5338a107e5"
      },
      "outputs": [
        {
          "data": {
            "text/plain": [
              "array([0, 0, 0, ..., 0, 0, 0])"
            ]
          },
          "execution_count": 81,
          "metadata": {},
          "output_type": "execute_result"
        }
      ],
      "source": [
        "y_val"
      ]
    },
    {
      "cell_type": "markdown",
      "metadata": {
        "id": "7qcpCDX0gce4"
      },
      "source": [
        "### 1.4.3 Using a full-pipeline"
      ]
    },
    {
      "cell_type": "markdown",
      "metadata": {
        "id": "rNRBHjI-ZscT"
      },
      "source": [
        "```\n",
        "A reproducible pipeline is all you need\n",
        "```"
      ]
    },
    {
      "cell_type": "markdown",
      "metadata": {
        "id": "gF_ZLoVjjPUg"
      },
      "source": [
        "#### 1.4.3.1 Feature Extractor"
      ]
    },
    {
      "cell_type": "code",
      "execution_count": 82,
      "metadata": {
        "id": "0yn1GUbCdFmj"
      },
      "outputs": [],
      "source": [
        "class FeatureSelector(BaseEstimator, TransformerMixin):\n",
        "    # Class Constructor\n",
        "    def __init__(self, feature_names):\n",
        "        self.feature_names = feature_names\n",
        "\n",
        "    # Return self nothing else to do here\n",
        "    def fit(self, X, y=None):\n",
        "        return self\n",
        "\n",
        "    # Method that describes what this custom transformer need to do\n",
        "    def transform(self, X, y=None):\n",
        "        return X[self.feature_names]"
      ]
    },
    {
      "cell_type": "code",
      "execution_count": 83,
      "metadata": {
        "colab": {
          "base_uri": "https://localhost:8080/"
        },
        "id": "DEa9qLnVirdY",
        "outputId": "f90312d1-ffc8-4935-f16b-1d82def14abf"
      },
      "outputs": [
        {
          "data": {
            "application/vnd.microsoft.datawrangler.viewer.v0+json": {
              "columns": [
                {
                  "name": "index",
                  "rawType": "int64",
                  "type": "integer"
                },
                {
                  "name": "job",
                  "rawType": "object",
                  "type": "string"
                },
                {
                  "name": "marital",
                  "rawType": "object",
                  "type": "string"
                },
                {
                  "name": "education",
                  "rawType": "object",
                  "type": "string"
                },
                {
                  "name": "default",
                  "rawType": "object",
                  "type": "string"
                },
                {
                  "name": "housing",
                  "rawType": "object",
                  "type": "string"
                },
                {
                  "name": "loan",
                  "rawType": "object",
                  "type": "string"
                },
                {
                  "name": "contact",
                  "rawType": "object",
                  "type": "string"
                },
                {
                  "name": "poutcome",
                  "rawType": "object",
                  "type": "string"
                }
              ],
              "conversionMethod": "pd.DataFrame",
              "ref": "f6ef5b26-b33c-4dd0-840e-c4ad329595aa",
              "rows": [
                [
                  "7234",
                  "admin",
                  "married",
                  "unknown",
                  "no",
                  "no",
                  "no",
                  "cellular",
                  "nonexistent"
                ],
                [
                  "19855",
                  "unemployed",
                  "married",
                  "basic 9y",
                  "no",
                  "yes",
                  "no",
                  "cellular",
                  "nonexistent"
                ],
                [
                  "19351",
                  "blue-collar",
                  "single",
                  "basic 6y",
                  "no",
                  "yes",
                  "no",
                  "telephone",
                  "nonexistent"
                ],
                [
                  "7106",
                  "blue-collar",
                  "married",
                  "basic 9y",
                  "no",
                  "no",
                  "no",
                  "cellular",
                  "nonexistent"
                ],
                [
                  "24031",
                  "student",
                  "divorced",
                  "university degree",
                  "no",
                  "yes",
                  "yes",
                  "cellular",
                  "nonexistent"
                ]
              ],
              "shape": {
                "columns": 8,
                "rows": 5
              }
            },
            "text/html": [
              "<div>\n",
              "<style scoped>\n",
              "    .dataframe tbody tr th:only-of-type {\n",
              "        vertical-align: middle;\n",
              "    }\n",
              "\n",
              "    .dataframe tbody tr th {\n",
              "        vertical-align: top;\n",
              "    }\n",
              "\n",
              "    .dataframe thead th {\n",
              "        text-align: right;\n",
              "    }\n",
              "</style>\n",
              "<table border=\"1\" class=\"dataframe\">\n",
              "  <thead>\n",
              "    <tr style=\"text-align: right;\">\n",
              "      <th></th>\n",
              "      <th>job</th>\n",
              "      <th>marital</th>\n",
              "      <th>education</th>\n",
              "      <th>default</th>\n",
              "      <th>housing</th>\n",
              "      <th>loan</th>\n",
              "      <th>contact</th>\n",
              "      <th>poutcome</th>\n",
              "    </tr>\n",
              "  </thead>\n",
              "  <tbody>\n",
              "    <tr>\n",
              "      <th>7234</th>\n",
              "      <td>admin</td>\n",
              "      <td>married</td>\n",
              "      <td>unknown</td>\n",
              "      <td>no</td>\n",
              "      <td>no</td>\n",
              "      <td>no</td>\n",
              "      <td>cellular</td>\n",
              "      <td>nonexistent</td>\n",
              "    </tr>\n",
              "    <tr>\n",
              "      <th>19855</th>\n",
              "      <td>unemployed</td>\n",
              "      <td>married</td>\n",
              "      <td>basic 9y</td>\n",
              "      <td>no</td>\n",
              "      <td>yes</td>\n",
              "      <td>no</td>\n",
              "      <td>cellular</td>\n",
              "      <td>nonexistent</td>\n",
              "    </tr>\n",
              "    <tr>\n",
              "      <th>19351</th>\n",
              "      <td>blue-collar</td>\n",
              "      <td>single</td>\n",
              "      <td>basic 6y</td>\n",
              "      <td>no</td>\n",
              "      <td>yes</td>\n",
              "      <td>no</td>\n",
              "      <td>telephone</td>\n",
              "      <td>nonexistent</td>\n",
              "    </tr>\n",
              "    <tr>\n",
              "      <th>7106</th>\n",
              "      <td>blue-collar</td>\n",
              "      <td>married</td>\n",
              "      <td>basic 9y</td>\n",
              "      <td>no</td>\n",
              "      <td>no</td>\n",
              "      <td>no</td>\n",
              "      <td>cellular</td>\n",
              "      <td>nonexistent</td>\n",
              "    </tr>\n",
              "    <tr>\n",
              "      <th>24031</th>\n",
              "      <td>student</td>\n",
              "      <td>divorced</td>\n",
              "      <td>university degree</td>\n",
              "      <td>no</td>\n",
              "      <td>yes</td>\n",
              "      <td>yes</td>\n",
              "      <td>cellular</td>\n",
              "      <td>nonexistent</td>\n",
              "    </tr>\n",
              "  </tbody>\n",
              "</table>\n",
              "</div>"
            ],
            "text/plain": [
              "               job   marital          education default housing loan  \\\n",
              "7234         admin   married            unknown      no      no   no   \n",
              "19855   unemployed   married           basic 9y      no     yes   no   \n",
              "19351  blue-collar    single           basic 6y      no     yes   no   \n",
              "7106   blue-collar   married           basic 9y      no      no   no   \n",
              "24031      student  divorced  university degree      no     yes  yes   \n",
              "\n",
              "         contact     poutcome  \n",
              "7234    cellular  nonexistent  \n",
              "19855   cellular  nonexistent  \n",
              "19351  telephone  nonexistent  \n",
              "7106    cellular  nonexistent  \n",
              "24031   cellular  nonexistent  "
            ]
          },
          "execution_count": 83,
          "metadata": {},
          "output_type": "execute_result"
        }
      ],
      "source": [
        "# for validation purposes\n",
        "fs = FeatureSelector(x_train.select_dtypes(\"object\").columns.to_list())\n",
        "df = fs.fit_transform(x_train)\n",
        "df.head()"
      ]
    },
    {
      "cell_type": "code",
      "execution_count": 84,
      "metadata": {
        "colab": {
          "base_uri": "https://localhost:8080/"
        },
        "id": "zbMWlomUbK5w",
        "outputId": "e0a8dbaf-868c-49eb-c22e-6f10633eabd0"
      },
      "outputs": [
        {
          "data": {
            "application/vnd.microsoft.datawrangler.viewer.v0+json": {
              "columns": [
                {
                  "name": "index",
                  "rawType": "int64",
                  "type": "integer"
                },
                {
                  "name": "age",
                  "rawType": "float64",
                  "type": "float"
                },
                {
                  "name": "month",
                  "rawType": "float64",
                  "type": "float"
                },
                {
                  "name": "day_of_week",
                  "rawType": "float64",
                  "type": "float"
                },
                {
                  "name": "campaign",
                  "rawType": "float64",
                  "type": "float"
                },
                {
                  "name": "pdays",
                  "rawType": "float64",
                  "type": "float"
                },
                {
                  "name": "previous",
                  "rawType": "float64",
                  "type": "float"
                },
                {
                  "name": "emp_var_rate",
                  "rawType": "float64",
                  "type": "float"
                },
                {
                  "name": "cons_price_idx",
                  "rawType": "float64",
                  "type": "float"
                },
                {
                  "name": "cons_conf_idx",
                  "rawType": "float64",
                  "type": "float"
                },
                {
                  "name": "euribor3m",
                  "rawType": "float64",
                  "type": "float"
                },
                {
                  "name": "nr_employed",
                  "rawType": "float64",
                  "type": "float"
                },
                {
                  "name": "pdays_contacted_status",
                  "rawType": "float64",
                  "type": "float"
                }
              ],
              "conversionMethod": "pd.DataFrame",
              "ref": "dbe647f4-0961-46ad-8e29-9c3a9a791f64",
              "rows": [
                [
                  "7234",
                  "25.0",
                  "11.0",
                  "5.0",
                  "1.0",
                  "6.0",
                  "0.0",
                  "-3.4",
                  "92.649",
                  "-30.1",
                  "0.714",
                  "5017.5",
                  "0.0"
                ],
                [
                  "19855",
                  "55.0",
                  "10.0",
                  "3.0",
                  "1.0",
                  "6.0",
                  "0.0",
                  "-3.4",
                  "92.431",
                  "-26.9",
                  "0.728",
                  "5017.5",
                  "0.0"
                ],
                [
                  "19351",
                  "49.0",
                  "5.0",
                  "4.0",
                  "4.0",
                  "6.0",
                  "0.0",
                  "1.1",
                  "93.994",
                  "-36.4",
                  "4.856",
                  "5191.0",
                  "0.0"
                ],
                [
                  "7106",
                  "30.0",
                  "11.0",
                  "4.0",
                  "5.0",
                  "6.0",
                  "0.0",
                  "-0.1",
                  "93.2",
                  "-42.0",
                  "4.12",
                  "5195.8",
                  "0.0"
                ],
                [
                  "24031",
                  "37.0",
                  "5.0",
                  "5.0",
                  "2.0",
                  "6.0",
                  "0.0",
                  "-1.8",
                  "93.876",
                  "-40.0",
                  "0.699",
                  "5008.7",
                  "0.0"
                ]
              ],
              "shape": {
                "columns": 12,
                "rows": 5
              }
            },
            "text/html": [
              "<div>\n",
              "<style scoped>\n",
              "    .dataframe tbody tr th:only-of-type {\n",
              "        vertical-align: middle;\n",
              "    }\n",
              "\n",
              "    .dataframe tbody tr th {\n",
              "        vertical-align: top;\n",
              "    }\n",
              "\n",
              "    .dataframe thead th {\n",
              "        text-align: right;\n",
              "    }\n",
              "</style>\n",
              "<table border=\"1\" class=\"dataframe\">\n",
              "  <thead>\n",
              "    <tr style=\"text-align: right;\">\n",
              "      <th></th>\n",
              "      <th>age</th>\n",
              "      <th>month</th>\n",
              "      <th>day_of_week</th>\n",
              "      <th>campaign</th>\n",
              "      <th>pdays</th>\n",
              "      <th>previous</th>\n",
              "      <th>emp_var_rate</th>\n",
              "      <th>cons_price_idx</th>\n",
              "      <th>cons_conf_idx</th>\n",
              "      <th>euribor3m</th>\n",
              "      <th>nr_employed</th>\n",
              "      <th>pdays_contacted_status</th>\n",
              "    </tr>\n",
              "  </thead>\n",
              "  <tbody>\n",
              "    <tr>\n",
              "      <th>7234</th>\n",
              "      <td>25.0</td>\n",
              "      <td>11.0</td>\n",
              "      <td>5.0</td>\n",
              "      <td>1.0</td>\n",
              "      <td>6.0</td>\n",
              "      <td>0.0</td>\n",
              "      <td>-3.4</td>\n",
              "      <td>92.649</td>\n",
              "      <td>-30.1</td>\n",
              "      <td>0.714</td>\n",
              "      <td>5017.5</td>\n",
              "      <td>0.0</td>\n",
              "    </tr>\n",
              "    <tr>\n",
              "      <th>19855</th>\n",
              "      <td>55.0</td>\n",
              "      <td>10.0</td>\n",
              "      <td>3.0</td>\n",
              "      <td>1.0</td>\n",
              "      <td>6.0</td>\n",
              "      <td>0.0</td>\n",
              "      <td>-3.4</td>\n",
              "      <td>92.431</td>\n",
              "      <td>-26.9</td>\n",
              "      <td>0.728</td>\n",
              "      <td>5017.5</td>\n",
              "      <td>0.0</td>\n",
              "    </tr>\n",
              "    <tr>\n",
              "      <th>19351</th>\n",
              "      <td>49.0</td>\n",
              "      <td>5.0</td>\n",
              "      <td>4.0</td>\n",
              "      <td>4.0</td>\n",
              "      <td>6.0</td>\n",
              "      <td>0.0</td>\n",
              "      <td>1.1</td>\n",
              "      <td>93.994</td>\n",
              "      <td>-36.4</td>\n",
              "      <td>4.856</td>\n",
              "      <td>5191.0</td>\n",
              "      <td>0.0</td>\n",
              "    </tr>\n",
              "    <tr>\n",
              "      <th>7106</th>\n",
              "      <td>30.0</td>\n",
              "      <td>11.0</td>\n",
              "      <td>4.0</td>\n",
              "      <td>5.0</td>\n",
              "      <td>6.0</td>\n",
              "      <td>0.0</td>\n",
              "      <td>-0.1</td>\n",
              "      <td>93.200</td>\n",
              "      <td>-42.0</td>\n",
              "      <td>4.120</td>\n",
              "      <td>5195.8</td>\n",
              "      <td>0.0</td>\n",
              "    </tr>\n",
              "    <tr>\n",
              "      <th>24031</th>\n",
              "      <td>37.0</td>\n",
              "      <td>5.0</td>\n",
              "      <td>5.0</td>\n",
              "      <td>2.0</td>\n",
              "      <td>6.0</td>\n",
              "      <td>0.0</td>\n",
              "      <td>-1.8</td>\n",
              "      <td>93.876</td>\n",
              "      <td>-40.0</td>\n",
              "      <td>0.699</td>\n",
              "      <td>5008.7</td>\n",
              "      <td>0.0</td>\n",
              "    </tr>\n",
              "  </tbody>\n",
              "</table>\n",
              "</div>"
            ],
            "text/plain": [
              "        age  month  day_of_week  campaign  pdays  previous  emp_var_rate  \\\n",
              "7234   25.0   11.0          5.0       1.0    6.0       0.0          -3.4   \n",
              "19855  55.0   10.0          3.0       1.0    6.0       0.0          -3.4   \n",
              "19351  49.0    5.0          4.0       4.0    6.0       0.0           1.1   \n",
              "7106   30.0   11.0          4.0       5.0    6.0       0.0          -0.1   \n",
              "24031  37.0    5.0          5.0       2.0    6.0       0.0          -1.8   \n",
              "\n",
              "       cons_price_idx  cons_conf_idx  euribor3m  nr_employed  \\\n",
              "7234           92.649          -30.1      0.714       5017.5   \n",
              "19855          92.431          -26.9      0.728       5017.5   \n",
              "19351          93.994          -36.4      4.856       5191.0   \n",
              "7106           93.200          -42.0      4.120       5195.8   \n",
              "24031          93.876          -40.0      0.699       5008.7   \n",
              "\n",
              "       pdays_contacted_status  \n",
              "7234                      0.0  \n",
              "19855                     0.0  \n",
              "19351                     0.0  \n",
              "7106                      0.0  \n",
              "24031                     0.0  "
            ]
          },
          "execution_count": 84,
          "metadata": {},
          "output_type": "execute_result"
        }
      ],
      "source": [
        "# for validation purposes\n",
        "fs = FeatureSelector(x_train.select_dtypes(\"float64\").columns.to_list())\n",
        "df = fs.fit_transform(x_train)\n",
        "df.head()"
      ]
    },
    {
      "cell_type": "markdown",
      "metadata": {
        "id": "_ofrw3WLjVay"
      },
      "source": [
        "#### 1.4.3.2 Handling Categorical Features"
      ]
    },
    {
      "cell_type": "code",
      "execution_count": 85,
      "metadata": {
        "id": "Od5QTxwdhqgL"
      },
      "outputs": [],
      "source": [
        "from sklearn.base import BaseEstimator, TransformerMixin\n",
        "import pandas as pd\n",
        "\n",
        "class CategoricalTransformer(BaseEstimator, TransformerMixin):\n",
        "    def __init__(self, new_features=True, colnames=None):\n",
        "        self.new_features = new_features\n",
        "        self.colnames = colnames\n",
        "\n",
        "    def fit(self, X, y=None):\n",
        "        return self\n",
        "\n",
        "    def get_feature_names_out(self):\n",
        "        return self.colnames.tolist()\n",
        "\n",
        "    def transform(self, X, y=None):\n",
        "        df = pd.DataFrame(X, columns=self.colnames)\n",
        "\n",
        "        # Remove white space in categorical features\n",
        "        df = df.apply(lambda row: row.str.strip() if row.dtype == \"object\" else row)\n",
        "\n",
        "        if self.new_features:\n",
        "            # Define mappings\n",
        "            mapping_dict = {\n",
        "                'basic 4y': 4,\n",
        "                'basic 6y': 6,\n",
        "                'basic 9y': 9,\n",
        "                'high school': 12,\n",
        "                'professional course': 19,\n",
        "                'university degree': 16,\n",
        "                'illiterate': 0,\n",
        "                'unknown': -1\n",
        "            }\n",
        "\n",
        "            month_map = {\n",
        "                'jan': 1, 'feb': 2, 'mar': 3, 'apr': 4,\n",
        "                'may': 5, 'jun': 6, 'jul': 7, 'aug': 8,\n",
        "                'sep': 9, 'oct': 10, 'nov': 11, 'dec': 12\n",
        "            }\n",
        "\n",
        "            weekday_map = {\n",
        "                'mon': 1, 'tue': 2, 'wed': 3,\n",
        "                'thu': 4, 'fri': 5, 'sat': 6, 'sun': 7\n",
        "            }\n",
        "\n",
        "            if 'education' in df.columns:\n",
        "                df['education'] = df['education'].replace(mapping_dict)\n",
        "\n",
        "            if 'month' in df.columns:\n",
        "                df['month'] = df['month'].replace(month_map)\n",
        "\n",
        "            if 'day_of_week' in df.columns:\n",
        "                df['day_of_week'] = df['day_of_week'].replace(weekday_map)\n",
        "\n",
        "        self.colnames = df.columns\n",
        "        return df\n"
      ]
    },
    {
      "cell_type": "code",
      "execution_count": 86,
      "metadata": {
        "colab": {
          "base_uri": "https://localhost:8080/"
        },
        "id": "j6BYQho9mQHU",
        "outputId": "cd66d4d8-1744-471a-b686-7b29e4ae5a72"
      },
      "outputs": [
        {
          "data": {
            "application/vnd.microsoft.datawrangler.viewer.v0+json": {
              "columns": [
                {
                  "name": "index",
                  "rawType": "int64",
                  "type": "integer"
                },
                {
                  "name": "job",
                  "rawType": "object",
                  "type": "string"
                },
                {
                  "name": "marital",
                  "rawType": "object",
                  "type": "string"
                },
                {
                  "name": "education",
                  "rawType": "object",
                  "type": "string"
                },
                {
                  "name": "default",
                  "rawType": "object",
                  "type": "string"
                },
                {
                  "name": "housing",
                  "rawType": "object",
                  "type": "string"
                },
                {
                  "name": "loan",
                  "rawType": "object",
                  "type": "string"
                },
                {
                  "name": "contact",
                  "rawType": "object",
                  "type": "string"
                },
                {
                  "name": "poutcome",
                  "rawType": "object",
                  "type": "string"
                }
              ],
              "conversionMethod": "pd.DataFrame",
              "ref": "b734b3fe-1d51-4440-ad23-bcceb80d9a82",
              "rows": [
                [
                  "7234",
                  "admin",
                  "married",
                  "unknown",
                  "no",
                  "no",
                  "no",
                  "cellular",
                  "nonexistent"
                ],
                [
                  "19855",
                  "unemployed",
                  "married",
                  "basic 9y",
                  "no",
                  "yes",
                  "no",
                  "cellular",
                  "nonexistent"
                ],
                [
                  "19351",
                  "blue-collar",
                  "single",
                  "basic 6y",
                  "no",
                  "yes",
                  "no",
                  "telephone",
                  "nonexistent"
                ],
                [
                  "7106",
                  "blue-collar",
                  "married",
                  "basic 9y",
                  "no",
                  "no",
                  "no",
                  "cellular",
                  "nonexistent"
                ],
                [
                  "24031",
                  "student",
                  "divorced",
                  "university degree",
                  "no",
                  "yes",
                  "yes",
                  "cellular",
                  "nonexistent"
                ]
              ],
              "shape": {
                "columns": 8,
                "rows": 5
              }
            },
            "text/html": [
              "<div>\n",
              "<style scoped>\n",
              "    .dataframe tbody tr th:only-of-type {\n",
              "        vertical-align: middle;\n",
              "    }\n",
              "\n",
              "    .dataframe tbody tr th {\n",
              "        vertical-align: top;\n",
              "    }\n",
              "\n",
              "    .dataframe thead th {\n",
              "        text-align: right;\n",
              "    }\n",
              "</style>\n",
              "<table border=\"1\" class=\"dataframe\">\n",
              "  <thead>\n",
              "    <tr style=\"text-align: right;\">\n",
              "      <th></th>\n",
              "      <th>job</th>\n",
              "      <th>marital</th>\n",
              "      <th>education</th>\n",
              "      <th>default</th>\n",
              "      <th>housing</th>\n",
              "      <th>loan</th>\n",
              "      <th>contact</th>\n",
              "      <th>poutcome</th>\n",
              "    </tr>\n",
              "  </thead>\n",
              "  <tbody>\n",
              "    <tr>\n",
              "      <th>7234</th>\n",
              "      <td>admin</td>\n",
              "      <td>married</td>\n",
              "      <td>unknown</td>\n",
              "      <td>no</td>\n",
              "      <td>no</td>\n",
              "      <td>no</td>\n",
              "      <td>cellular</td>\n",
              "      <td>nonexistent</td>\n",
              "    </tr>\n",
              "    <tr>\n",
              "      <th>19855</th>\n",
              "      <td>unemployed</td>\n",
              "      <td>married</td>\n",
              "      <td>basic 9y</td>\n",
              "      <td>no</td>\n",
              "      <td>yes</td>\n",
              "      <td>no</td>\n",
              "      <td>cellular</td>\n",
              "      <td>nonexistent</td>\n",
              "    </tr>\n",
              "    <tr>\n",
              "      <th>19351</th>\n",
              "      <td>blue-collar</td>\n",
              "      <td>single</td>\n",
              "      <td>basic 6y</td>\n",
              "      <td>no</td>\n",
              "      <td>yes</td>\n",
              "      <td>no</td>\n",
              "      <td>telephone</td>\n",
              "      <td>nonexistent</td>\n",
              "    </tr>\n",
              "    <tr>\n",
              "      <th>7106</th>\n",
              "      <td>blue-collar</td>\n",
              "      <td>married</td>\n",
              "      <td>basic 9y</td>\n",
              "      <td>no</td>\n",
              "      <td>no</td>\n",
              "      <td>no</td>\n",
              "      <td>cellular</td>\n",
              "      <td>nonexistent</td>\n",
              "    </tr>\n",
              "    <tr>\n",
              "      <th>24031</th>\n",
              "      <td>student</td>\n",
              "      <td>divorced</td>\n",
              "      <td>university degree</td>\n",
              "      <td>no</td>\n",
              "      <td>yes</td>\n",
              "      <td>yes</td>\n",
              "      <td>cellular</td>\n",
              "      <td>nonexistent</td>\n",
              "    </tr>\n",
              "  </tbody>\n",
              "</table>\n",
              "</div>"
            ],
            "text/plain": [
              "               job   marital          education default housing loan  \\\n",
              "7234         admin   married            unknown      no      no   no   \n",
              "19855   unemployed   married           basic 9y      no     yes   no   \n",
              "19351  blue-collar    single           basic 6y      no     yes   no   \n",
              "7106   blue-collar   married           basic 9y      no      no   no   \n",
              "24031      student  divorced  university degree      no     yes  yes   \n",
              "\n",
              "         contact     poutcome  \n",
              "7234    cellular  nonexistent  \n",
              "19855   cellular  nonexistent  \n",
              "19351  telephone  nonexistent  \n",
              "7106    cellular  nonexistent  \n",
              "24031   cellular  nonexistent  "
            ]
          },
          "execution_count": 86,
          "metadata": {},
          "output_type": "execute_result"
        }
      ],
      "source": [
        "# for validation purposes\n",
        "fs = FeatureSelector(x_train.select_dtypes(\"object\").columns.to_list())\n",
        "df = fs.fit_transform(x_train)\n",
        "df.head()"
      ]
    },
    {
      "cell_type": "code",
      "execution_count": 87,
      "metadata": {
        "colab": {
          "base_uri": "https://localhost:8080/"
        },
        "id": "41xrQMJqmfEW",
        "outputId": "951501d3-6742-4e79-b003-159a362295ed"
      },
      "outputs": [
        {
          "data": {
            "application/vnd.microsoft.datawrangler.viewer.v0+json": {
              "columns": [
                {
                  "name": "index",
                  "rawType": "int64",
                  "type": "integer"
                },
                {
                  "name": "job",
                  "rawType": "object",
                  "type": "string"
                },
                {
                  "name": "marital",
                  "rawType": "object",
                  "type": "string"
                },
                {
                  "name": "education",
                  "rawType": "int64",
                  "type": "integer"
                },
                {
                  "name": "default",
                  "rawType": "object",
                  "type": "string"
                },
                {
                  "name": "housing",
                  "rawType": "object",
                  "type": "string"
                },
                {
                  "name": "loan",
                  "rawType": "object",
                  "type": "string"
                },
                {
                  "name": "contact",
                  "rawType": "object",
                  "type": "string"
                },
                {
                  "name": "poutcome",
                  "rawType": "object",
                  "type": "string"
                }
              ],
              "conversionMethod": "pd.DataFrame",
              "ref": "c328368b-c7b1-4f8c-b5e3-cd22a52080c5",
              "rows": [
                [
                  "7234",
                  "admin",
                  "married",
                  "-1",
                  "no",
                  "no",
                  "no",
                  "cellular",
                  "nonexistent"
                ],
                [
                  "19855",
                  "unemployed",
                  "married",
                  "9",
                  "no",
                  "yes",
                  "no",
                  "cellular",
                  "nonexistent"
                ],
                [
                  "19351",
                  "blue-collar",
                  "single",
                  "6",
                  "no",
                  "yes",
                  "no",
                  "telephone",
                  "nonexistent"
                ],
                [
                  "7106",
                  "blue-collar",
                  "married",
                  "9",
                  "no",
                  "no",
                  "no",
                  "cellular",
                  "nonexistent"
                ],
                [
                  "24031",
                  "student",
                  "divorced",
                  "16",
                  "no",
                  "yes",
                  "yes",
                  "cellular",
                  "nonexistent"
                ]
              ],
              "shape": {
                "columns": 8,
                "rows": 5
              }
            },
            "text/html": [
              "<div>\n",
              "<style scoped>\n",
              "    .dataframe tbody tr th:only-of-type {\n",
              "        vertical-align: middle;\n",
              "    }\n",
              "\n",
              "    .dataframe tbody tr th {\n",
              "        vertical-align: top;\n",
              "    }\n",
              "\n",
              "    .dataframe thead th {\n",
              "        text-align: right;\n",
              "    }\n",
              "</style>\n",
              "<table border=\"1\" class=\"dataframe\">\n",
              "  <thead>\n",
              "    <tr style=\"text-align: right;\">\n",
              "      <th></th>\n",
              "      <th>job</th>\n",
              "      <th>marital</th>\n",
              "      <th>education</th>\n",
              "      <th>default</th>\n",
              "      <th>housing</th>\n",
              "      <th>loan</th>\n",
              "      <th>contact</th>\n",
              "      <th>poutcome</th>\n",
              "    </tr>\n",
              "  </thead>\n",
              "  <tbody>\n",
              "    <tr>\n",
              "      <th>7234</th>\n",
              "      <td>admin</td>\n",
              "      <td>married</td>\n",
              "      <td>-1</td>\n",
              "      <td>no</td>\n",
              "      <td>no</td>\n",
              "      <td>no</td>\n",
              "      <td>cellular</td>\n",
              "      <td>nonexistent</td>\n",
              "    </tr>\n",
              "    <tr>\n",
              "      <th>19855</th>\n",
              "      <td>unemployed</td>\n",
              "      <td>married</td>\n",
              "      <td>9</td>\n",
              "      <td>no</td>\n",
              "      <td>yes</td>\n",
              "      <td>no</td>\n",
              "      <td>cellular</td>\n",
              "      <td>nonexistent</td>\n",
              "    </tr>\n",
              "    <tr>\n",
              "      <th>19351</th>\n",
              "      <td>blue-collar</td>\n",
              "      <td>single</td>\n",
              "      <td>6</td>\n",
              "      <td>no</td>\n",
              "      <td>yes</td>\n",
              "      <td>no</td>\n",
              "      <td>telephone</td>\n",
              "      <td>nonexistent</td>\n",
              "    </tr>\n",
              "    <tr>\n",
              "      <th>7106</th>\n",
              "      <td>blue-collar</td>\n",
              "      <td>married</td>\n",
              "      <td>9</td>\n",
              "      <td>no</td>\n",
              "      <td>no</td>\n",
              "      <td>no</td>\n",
              "      <td>cellular</td>\n",
              "      <td>nonexistent</td>\n",
              "    </tr>\n",
              "    <tr>\n",
              "      <th>24031</th>\n",
              "      <td>student</td>\n",
              "      <td>divorced</td>\n",
              "      <td>16</td>\n",
              "      <td>no</td>\n",
              "      <td>yes</td>\n",
              "      <td>yes</td>\n",
              "      <td>cellular</td>\n",
              "      <td>nonexistent</td>\n",
              "    </tr>\n",
              "  </tbody>\n",
              "</table>\n",
              "</div>"
            ],
            "text/plain": [
              "               job   marital  education default housing loan    contact  \\\n",
              "7234         admin   married         -1      no      no   no   cellular   \n",
              "19855   unemployed   married          9      no     yes   no   cellular   \n",
              "19351  blue-collar    single          6      no     yes   no  telephone   \n",
              "7106   blue-collar   married          9      no      no   no   cellular   \n",
              "24031      student  divorced         16      no     yes  yes   cellular   \n",
              "\n",
              "          poutcome  \n",
              "7234   nonexistent  \n",
              "19855  nonexistent  \n",
              "19351  nonexistent  \n",
              "7106   nonexistent  \n",
              "24031  nonexistent  "
            ]
          },
          "execution_count": 87,
          "metadata": {},
          "output_type": "execute_result"
        }
      ],
      "source": [
        "# for validation purposes\n",
        "ct = CategoricalTransformer(new_features=True,colnames=df.columns.tolist())\n",
        "df_cat = ct.fit_transform(df)\n",
        "df_cat.head()"
      ]
    },
    {
      "cell_type": "markdown",
      "metadata": {
        "id": "ldfU54n7njja"
      },
      "source": [
        "#### 1.4.3.3 Handling Numerical Features"
      ]
    },
    {
      "cell_type": "code",
      "execution_count": 88,
      "metadata": {
        "id": "2RWfY7ctjxW2"
      },
      "outputs": [],
      "source": [
        "# transform numerical features\n",
        "class NumericalTransformer(BaseEstimator, TransformerMixin):\n",
        "    # Class constructor method that takes a model parameter as its argument\n",
        "    # model 0: minmax\n",
        "    # model 1: standard\n",
        "    # model 2: without scaler\n",
        "    def __init__(self, model=0, colnames=None):\n",
        "        self.model = model\n",
        "        self.colnames = colnames\n",
        "        self.scaler = None\n",
        "\n",
        "    # Fit is used only to learn statistical about Scalers\n",
        "    def fit(self, X, y=None):\n",
        "        df = pd.DataFrame(X, columns=self.colnames)\n",
        "        # minmax\n",
        "        if self.model == 0:\n",
        "            self.scaler = MinMaxScaler()\n",
        "            self.scaler.fit(df)\n",
        "        # standard scaler\n",
        "        elif self.model == 1:\n",
        "            self.scaler = StandardScaler()\n",
        "            self.scaler.fit(df)\n",
        "        return self\n",
        "\n",
        "    # return columns names after transformation\n",
        "    def get_feature_names_out(self):\n",
        "        return self.colnames\n",
        "\n",
        "    # Transformer method we wrote for this transformer\n",
        "    # Use fitted scalers\n",
        "    def transform(self, X, y=None):\n",
        "        df = pd.DataFrame(X, columns=self.colnames)\n",
        "\n",
        "        # update columns name\n",
        "        self.colnames = df.columns.tolist()\n",
        "\n",
        "        # minmax\n",
        "        if self.model == 0:\n",
        "            # transform data\n",
        "            df = self.scaler.transform(df)\n",
        "        elif self.model == 1:\n",
        "            # transform data\n",
        "            df = self.scaler.transform(df)\n",
        "        else:\n",
        "            df = df.values\n",
        "\n",
        "        return df"
      ]
    },
    {
      "cell_type": "code",
      "execution_count": 89,
      "metadata": {
        "colab": {
          "base_uri": "https://localhost:8080/"
        },
        "id": "05vfbEtjo4RQ",
        "outputId": "a201a96f-53db-489c-b70f-c32784e022c4"
      },
      "outputs": [
        {
          "data": {
            "application/vnd.microsoft.datawrangler.viewer.v0+json": {
              "columns": [
                {
                  "name": "index",
                  "rawType": "int64",
                  "type": "integer"
                },
                {
                  "name": "age",
                  "rawType": "float64",
                  "type": "float"
                },
                {
                  "name": "month",
                  "rawType": "float64",
                  "type": "float"
                },
                {
                  "name": "day_of_week",
                  "rawType": "float64",
                  "type": "float"
                },
                {
                  "name": "campaign",
                  "rawType": "float64",
                  "type": "float"
                },
                {
                  "name": "pdays",
                  "rawType": "float64",
                  "type": "float"
                },
                {
                  "name": "previous",
                  "rawType": "float64",
                  "type": "float"
                },
                {
                  "name": "emp_var_rate",
                  "rawType": "float64",
                  "type": "float"
                },
                {
                  "name": "cons_price_idx",
                  "rawType": "float64",
                  "type": "float"
                },
                {
                  "name": "cons_conf_idx",
                  "rawType": "float64",
                  "type": "float"
                },
                {
                  "name": "euribor3m",
                  "rawType": "float64",
                  "type": "float"
                },
                {
                  "name": "nr_employed",
                  "rawType": "float64",
                  "type": "float"
                },
                {
                  "name": "pdays_contacted_status",
                  "rawType": "float64",
                  "type": "float"
                }
              ],
              "conversionMethod": "pd.DataFrame",
              "ref": "459ae50e-f7a9-41df-8bfb-34ba86c3c04a",
              "rows": [
                [
                  "7234",
                  "25.0",
                  "11.0",
                  "5.0",
                  "1.0",
                  "6.0",
                  "0.0",
                  "-3.4",
                  "92.649",
                  "-30.1",
                  "0.714",
                  "5017.5",
                  "0.0"
                ],
                [
                  "19855",
                  "55.0",
                  "10.0",
                  "3.0",
                  "1.0",
                  "6.0",
                  "0.0",
                  "-3.4",
                  "92.431",
                  "-26.9",
                  "0.728",
                  "5017.5",
                  "0.0"
                ],
                [
                  "19351",
                  "49.0",
                  "5.0",
                  "4.0",
                  "4.0",
                  "6.0",
                  "0.0",
                  "1.1",
                  "93.994",
                  "-36.4",
                  "4.856",
                  "5191.0",
                  "0.0"
                ],
                [
                  "7106",
                  "30.0",
                  "11.0",
                  "4.0",
                  "5.0",
                  "6.0",
                  "0.0",
                  "-0.1",
                  "93.2",
                  "-42.0",
                  "4.12",
                  "5195.8",
                  "0.0"
                ],
                [
                  "24031",
                  "37.0",
                  "5.0",
                  "5.0",
                  "2.0",
                  "6.0",
                  "0.0",
                  "-1.8",
                  "93.876",
                  "-40.0",
                  "0.699",
                  "5008.7",
                  "0.0"
                ]
              ],
              "shape": {
                "columns": 12,
                "rows": 5
              }
            },
            "text/html": [
              "<div>\n",
              "<style scoped>\n",
              "    .dataframe tbody tr th:only-of-type {\n",
              "        vertical-align: middle;\n",
              "    }\n",
              "\n",
              "    .dataframe tbody tr th {\n",
              "        vertical-align: top;\n",
              "    }\n",
              "\n",
              "    .dataframe thead th {\n",
              "        text-align: right;\n",
              "    }\n",
              "</style>\n",
              "<table border=\"1\" class=\"dataframe\">\n",
              "  <thead>\n",
              "    <tr style=\"text-align: right;\">\n",
              "      <th></th>\n",
              "      <th>age</th>\n",
              "      <th>month</th>\n",
              "      <th>day_of_week</th>\n",
              "      <th>campaign</th>\n",
              "      <th>pdays</th>\n",
              "      <th>previous</th>\n",
              "      <th>emp_var_rate</th>\n",
              "      <th>cons_price_idx</th>\n",
              "      <th>cons_conf_idx</th>\n",
              "      <th>euribor3m</th>\n",
              "      <th>nr_employed</th>\n",
              "      <th>pdays_contacted_status</th>\n",
              "    </tr>\n",
              "  </thead>\n",
              "  <tbody>\n",
              "    <tr>\n",
              "      <th>7234</th>\n",
              "      <td>25.0</td>\n",
              "      <td>11.0</td>\n",
              "      <td>5.0</td>\n",
              "      <td>1.0</td>\n",
              "      <td>6.0</td>\n",
              "      <td>0.0</td>\n",
              "      <td>-3.4</td>\n",
              "      <td>92.649</td>\n",
              "      <td>-30.1</td>\n",
              "      <td>0.714</td>\n",
              "      <td>5017.5</td>\n",
              "      <td>0.0</td>\n",
              "    </tr>\n",
              "    <tr>\n",
              "      <th>19855</th>\n",
              "      <td>55.0</td>\n",
              "      <td>10.0</td>\n",
              "      <td>3.0</td>\n",
              "      <td>1.0</td>\n",
              "      <td>6.0</td>\n",
              "      <td>0.0</td>\n",
              "      <td>-3.4</td>\n",
              "      <td>92.431</td>\n",
              "      <td>-26.9</td>\n",
              "      <td>0.728</td>\n",
              "      <td>5017.5</td>\n",
              "      <td>0.0</td>\n",
              "    </tr>\n",
              "    <tr>\n",
              "      <th>19351</th>\n",
              "      <td>49.0</td>\n",
              "      <td>5.0</td>\n",
              "      <td>4.0</td>\n",
              "      <td>4.0</td>\n",
              "      <td>6.0</td>\n",
              "      <td>0.0</td>\n",
              "      <td>1.1</td>\n",
              "      <td>93.994</td>\n",
              "      <td>-36.4</td>\n",
              "      <td>4.856</td>\n",
              "      <td>5191.0</td>\n",
              "      <td>0.0</td>\n",
              "    </tr>\n",
              "    <tr>\n",
              "      <th>7106</th>\n",
              "      <td>30.0</td>\n",
              "      <td>11.0</td>\n",
              "      <td>4.0</td>\n",
              "      <td>5.0</td>\n",
              "      <td>6.0</td>\n",
              "      <td>0.0</td>\n",
              "      <td>-0.1</td>\n",
              "      <td>93.200</td>\n",
              "      <td>-42.0</td>\n",
              "      <td>4.120</td>\n",
              "      <td>5195.8</td>\n",
              "      <td>0.0</td>\n",
              "    </tr>\n",
              "    <tr>\n",
              "      <th>24031</th>\n",
              "      <td>37.0</td>\n",
              "      <td>5.0</td>\n",
              "      <td>5.0</td>\n",
              "      <td>2.0</td>\n",
              "      <td>6.0</td>\n",
              "      <td>0.0</td>\n",
              "      <td>-1.8</td>\n",
              "      <td>93.876</td>\n",
              "      <td>-40.0</td>\n",
              "      <td>0.699</td>\n",
              "      <td>5008.7</td>\n",
              "      <td>0.0</td>\n",
              "    </tr>\n",
              "  </tbody>\n",
              "</table>\n",
              "</div>"
            ],
            "text/plain": [
              "        age  month  day_of_week  campaign  pdays  previous  emp_var_rate  \\\n",
              "7234   25.0   11.0          5.0       1.0    6.0       0.0          -3.4   \n",
              "19855  55.0   10.0          3.0       1.0    6.0       0.0          -3.4   \n",
              "19351  49.0    5.0          4.0       4.0    6.0       0.0           1.1   \n",
              "7106   30.0   11.0          4.0       5.0    6.0       0.0          -0.1   \n",
              "24031  37.0    5.0          5.0       2.0    6.0       0.0          -1.8   \n",
              "\n",
              "       cons_price_idx  cons_conf_idx  euribor3m  nr_employed  \\\n",
              "7234           92.649          -30.1      0.714       5017.5   \n",
              "19855          92.431          -26.9      0.728       5017.5   \n",
              "19351          93.994          -36.4      4.856       5191.0   \n",
              "7106           93.200          -42.0      4.120       5195.8   \n",
              "24031          93.876          -40.0      0.699       5008.7   \n",
              "\n",
              "       pdays_contacted_status  \n",
              "7234                      0.0  \n",
              "19855                     0.0  \n",
              "19351                     0.0  \n",
              "7106                      0.0  \n",
              "24031                     0.0  "
            ]
          },
          "execution_count": 89,
          "metadata": {},
          "output_type": "execute_result"
        }
      ],
      "source": [
        "# for validation purposes\n",
        "fs = FeatureSelector(x_train.select_dtypes(\"float64\").columns.to_list())\n",
        "df = fs.fit_transform(x_train)\n",
        "df.head()"
      ]
    },
    {
      "cell_type": "code",
      "execution_count": 90,
      "metadata": {
        "colab": {
          "base_uri": "https://localhost:8080/"
        },
        "id": "22lgbdTqpXqD",
        "outputId": "fab6b2ad-4377-45a7-a186-3d0fa855f2cc"
      },
      "outputs": [
        {
          "data": {
            "text/plain": [
              "array([[-1.45430803,  2.1680247 ,  0.72456037, ..., -1.65176573,\n",
              "        -2.0362385 , -0.1743632 ],\n",
              "       [ 1.3966556 ,  1.67564376, -0.68711433, ..., -1.643742  ,\n",
              "        -2.0362385 , -0.1743632 ],\n",
              "       [ 0.82646288, -0.78626095,  0.01872302, ...,  0.72210982,\n",
              "         0.34067396, -0.1743632 ],\n",
              "       ...,\n",
              "       [-0.50398682, -0.29388   ,  1.43039772, ...,  0.78572647,\n",
              "         0.84893594, -0.1743632 ],\n",
              "       [ 0.82646288,  0.69088188, -1.39295168, ...,  0.78343398,\n",
              "         0.84893594, -0.1743632 ],\n",
              "       [-1.26424379, -1.27864189,  1.43039772, ..., -1.25573772,\n",
              "        -0.91833616, -0.1743632 ]])"
            ]
          },
          "execution_count": 90,
          "metadata": {},
          "output_type": "execute_result"
        }
      ],
      "source": [
        "# for validation purposes\n",
        "nt = NumericalTransformer(model=1)\n",
        "df_num = nt.fit_transform(df)\n",
        "df_num"
      ]
    },
    {
      "cell_type": "code",
      "execution_count": 91,
      "metadata": {
        "colab": {
          "base_uri": "https://localhost:8080/"
        },
        "id": "GgJK5Bnspo8A",
        "outputId": "5b349d09-8c31-4b6e-dae0-87b531f039bb"
      },
      "outputs": [
        {
          "data": {
            "text/plain": [
              "['age',\n",
              " 'month',\n",
              " 'day_of_week',\n",
              " 'campaign',\n",
              " 'pdays',\n",
              " 'previous',\n",
              " 'emp_var_rate',\n",
              " 'cons_price_idx',\n",
              " 'cons_conf_idx',\n",
              " 'euribor3m',\n",
              " 'nr_employed',\n",
              " 'pdays_contacted_status']"
            ]
          },
          "execution_count": 91,
          "metadata": {},
          "output_type": "execute_result"
        }
      ],
      "source": [
        "# return columns name\n",
        "nt.get_feature_names_out()"
      ]
    },
    {
      "cell_type": "markdown",
      "metadata": {
        "id": "_HjGtsdP2xb9"
      },
      "source": [
        "#### 1.4.3.4 Data Preparation Pipeline"
      ]
    },
    {
      "cell_type": "code",
      "execution_count": 92,
      "metadata": {
        "id": "dOn6aApB212h"
      },
      "outputs": [],
      "source": [
        "# model = 0 (min-max), 1 (z-score), 2 (without normalization)\n",
        "numerical_model = 0\n",
        "\n",
        "# Categrical features to pass down the categorical pipeline\n",
        "categorical_features = x_train.select_dtypes(\"object\").columns.to_list()\n",
        "\n",
        "# Numerical features to pass down the numerical pipeline\n",
        "numerical_features = x_train.select_dtypes(\"float64\").columns.to_list()\n",
        "\n",
        "# Defining the steps for the categorical pipeline\n",
        "categorical_pipeline = Pipeline(steps=[('cat_selector', FeatureSelector(categorical_features)),\n",
        "                                       ('imputer_cat', SimpleImputer(strategy=\"most_frequent\")),\n",
        "                                       ('cat_transformer', CategoricalTransformer(colnames=categorical_features)),\n",
        "                                       ('cat_encoder', OneHotEncoder(handle_unknown=\"ignore\",sparse=False, drop=\"first\"))\n",
        "                                       ]\n",
        "                                )\n",
        "\n",
        "# Defining the steps in the numerical pipeline\n",
        "numerical_pipeline = Pipeline(steps=[('num_selector', FeatureSelector(numerical_features)),\n",
        "                                     ('imputer_num', SimpleImputer(strategy=\"median\")),\n",
        "                                     ('num_transformer', NumericalTransformer(numerical_model, \n",
        "                                                                              colnames=numerical_features))])\n",
        "\n",
        "# Combine numerical and categorical pipelines into one full big pipeline horizontally\n",
        "full_pipeline_preprocessing = FeatureUnion(transformer_list=[('cat_pipeline', categorical_pipeline),\n",
        "                                                             ('num_pipeline', numerical_pipeline)]\n",
        "                              )"
      ]
    },
    {
      "cell_type": "code",
      "execution_count": 93,
      "metadata": {
        "colab": {
          "base_uri": "https://localhost:8080/"
        },
        "id": "eKOidk7l4PXz",
        "outputId": "1e196b41-b599-47c7-a602-96263b410601"
      },
      "outputs": [
        {
          "data": {
            "application/vnd.microsoft.datawrangler.viewer.v0+json": {
              "columns": [
                {
                  "name": "index",
                  "rawType": "int64",
                  "type": "integer"
                },
                {
                  "name": "job_blue-collar",
                  "rawType": "float64",
                  "type": "float"
                },
                {
                  "name": "job_entrepreneur",
                  "rawType": "float64",
                  "type": "float"
                },
                {
                  "name": "job_housemaid",
                  "rawType": "float64",
                  "type": "float"
                },
                {
                  "name": "job_management",
                  "rawType": "float64",
                  "type": "float"
                },
                {
                  "name": "job_retired",
                  "rawType": "float64",
                  "type": "float"
                },
                {
                  "name": "job_self-employed",
                  "rawType": "float64",
                  "type": "float"
                },
                {
                  "name": "job_services",
                  "rawType": "float64",
                  "type": "float"
                },
                {
                  "name": "job_student",
                  "rawType": "float64",
                  "type": "float"
                },
                {
                  "name": "job_technician",
                  "rawType": "float64",
                  "type": "float"
                },
                {
                  "name": "job_unemployed",
                  "rawType": "float64",
                  "type": "float"
                },
                {
                  "name": "job_unknown",
                  "rawType": "float64",
                  "type": "float"
                },
                {
                  "name": "marital_married",
                  "rawType": "float64",
                  "type": "float"
                },
                {
                  "name": "marital_single",
                  "rawType": "float64",
                  "type": "float"
                },
                {
                  "name": "marital_unknown",
                  "rawType": "float64",
                  "type": "float"
                },
                {
                  "name": "education_0",
                  "rawType": "float64",
                  "type": "float"
                },
                {
                  "name": "education_4",
                  "rawType": "float64",
                  "type": "float"
                },
                {
                  "name": "education_6",
                  "rawType": "float64",
                  "type": "float"
                },
                {
                  "name": "education_9",
                  "rawType": "float64",
                  "type": "float"
                },
                {
                  "name": "education_12",
                  "rawType": "float64",
                  "type": "float"
                },
                {
                  "name": "education_16",
                  "rawType": "float64",
                  "type": "float"
                },
                {
                  "name": "education_19",
                  "rawType": "float64",
                  "type": "float"
                },
                {
                  "name": "default_unknown",
                  "rawType": "float64",
                  "type": "float"
                },
                {
                  "name": "default_yes",
                  "rawType": "float64",
                  "type": "float"
                },
                {
                  "name": "housing_unknown",
                  "rawType": "float64",
                  "type": "float"
                },
                {
                  "name": "housing_yes",
                  "rawType": "float64",
                  "type": "float"
                },
                {
                  "name": "loan_unknown",
                  "rawType": "float64",
                  "type": "float"
                },
                {
                  "name": "loan_yes",
                  "rawType": "float64",
                  "type": "float"
                },
                {
                  "name": "contact_telephone",
                  "rawType": "float64",
                  "type": "float"
                },
                {
                  "name": "poutcome_nonexistent",
                  "rawType": "float64",
                  "type": "float"
                },
                {
                  "name": "poutcome_success",
                  "rawType": "float64",
                  "type": "float"
                },
                {
                  "name": "age",
                  "rawType": "float64",
                  "type": "float"
                },
                {
                  "name": "month",
                  "rawType": "float64",
                  "type": "float"
                },
                {
                  "name": "day_of_week",
                  "rawType": "float64",
                  "type": "float"
                },
                {
                  "name": "campaign",
                  "rawType": "float64",
                  "type": "float"
                },
                {
                  "name": "pdays",
                  "rawType": "float64",
                  "type": "float"
                },
                {
                  "name": "previous",
                  "rawType": "float64",
                  "type": "float"
                },
                {
                  "name": "emp_var_rate",
                  "rawType": "float64",
                  "type": "float"
                },
                {
                  "name": "cons_price_idx",
                  "rawType": "float64",
                  "type": "float"
                },
                {
                  "name": "cons_conf_idx",
                  "rawType": "float64",
                  "type": "float"
                },
                {
                  "name": "euribor3m",
                  "rawType": "float64",
                  "type": "float"
                },
                {
                  "name": "nr_employed",
                  "rawType": "float64",
                  "type": "float"
                },
                {
                  "name": "pdays_contacted_status",
                  "rawType": "float64",
                  "type": "float"
                }
              ],
              "conversionMethod": "pd.DataFrame",
              "ref": "d590448e-cfb3-408a-b7c7-0c47c60da526",
              "rows": [
                [
                  "0",
                  "0.0",
                  "0.0",
                  "0.0",
                  "0.0",
                  "0.0",
                  "0.0",
                  "0.0",
                  "0.0",
                  "0.0",
                  "0.0",
                  "0.0",
                  "1.0",
                  "0.0",
                  "0.0",
                  "0.0",
                  "0.0",
                  "0.0",
                  "0.0",
                  "0.0",
                  "0.0",
                  "0.0",
                  "0.0",
                  "0.0",
                  "0.0",
                  "0.0",
                  "0.0",
                  "0.0",
                  "0.0",
                  "1.0",
                  "0.0",
                  "0.10666666666666669",
                  "0.8888888888888888",
                  "0.75",
                  "0.0",
                  "0.375",
                  "0.0",
                  "0.0",
                  "0.17459080280592332",
                  "0.8661087866108785",
                  "0.01845018450184502",
                  "0.20378071833648193",
                  "0.0"
                ],
                [
                  "1",
                  "0.0",
                  "0.0",
                  "0.0",
                  "0.0",
                  "0.0",
                  "0.0",
                  "0.0",
                  "0.0",
                  "0.0",
                  "1.0",
                  "0.0",
                  "1.0",
                  "0.0",
                  "0.0",
                  "0.0",
                  "0.0",
                  "0.0",
                  "1.0",
                  "0.0",
                  "0.0",
                  "0.0",
                  "0.0",
                  "0.0",
                  "0.0",
                  "1.0",
                  "0.0",
                  "0.0",
                  "0.0",
                  "1.0",
                  "0.0",
                  "0.5066666666666667",
                  "0.7777777777777779",
                  "0.25",
                  "0.0",
                  "0.375",
                  "0.0",
                  "0.0",
                  "0.08963367108339781",
                  "1.0",
                  "0.02167896678966791",
                  "0.20378071833648193",
                  "0.0"
                ],
                [
                  "2",
                  "1.0",
                  "0.0",
                  "0.0",
                  "0.0",
                  "0.0",
                  "0.0",
                  "0.0",
                  "0.0",
                  "0.0",
                  "0.0",
                  "0.0",
                  "0.0",
                  "1.0",
                  "0.0",
                  "0.0",
                  "0.0",
                  "1.0",
                  "0.0",
                  "0.0",
                  "0.0",
                  "0.0",
                  "0.0",
                  "0.0",
                  "0.0",
                  "1.0",
                  "0.0",
                  "0.0",
                  "1.0",
                  "1.0",
                  "0.0",
                  "0.42666666666666664",
                  "0.22222222222222227",
                  "0.5",
                  "0.07692307692307693",
                  "0.375",
                  "0.0",
                  "0.9375",
                  "0.6987529228371017",
                  "0.6025104602510458",
                  "0.9737084870848711",
                  "0.8597353497164448",
                  "0.0"
                ],
                [
                  "3",
                  "1.0",
                  "0.0",
                  "0.0",
                  "0.0",
                  "0.0",
                  "0.0",
                  "0.0",
                  "0.0",
                  "0.0",
                  "0.0",
                  "0.0",
                  "1.0",
                  "0.0",
                  "0.0",
                  "0.0",
                  "0.0",
                  "0.0",
                  "1.0",
                  "0.0",
                  "0.0",
                  "0.0",
                  "0.0",
                  "0.0",
                  "0.0",
                  "0.0",
                  "0.0",
                  "0.0",
                  "0.0",
                  "1.0",
                  "0.0",
                  "0.17333333333333334",
                  "0.8888888888888888",
                  "0.5",
                  "0.10256410256410256",
                  "0.375",
                  "0.0",
                  "0.6875",
                  "0.3893219017926768",
                  "0.36820083682008353",
                  "0.8039667896678969",
                  "0.8778827977315693",
                  "0.0"
                ],
                [
                  "4",
                  "0.0",
                  "0.0",
                  "0.0",
                  "0.0",
                  "0.0",
                  "0.0",
                  "0.0",
                  "1.0",
                  "0.0",
                  "0.0",
                  "0.0",
                  "0.0",
                  "0.0",
                  "0.0",
                  "0.0",
                  "0.0",
                  "0.0",
                  "0.0",
                  "0.0",
                  "1.0",
                  "0.0",
                  "0.0",
                  "0.0",
                  "0.0",
                  "1.0",
                  "0.0",
                  "1.0",
                  "0.0",
                  "1.0",
                  "0.0",
                  "0.26666666666666666",
                  "0.22222222222222227",
                  "0.75",
                  "0.02564102564102564",
                  "0.375",
                  "0.0",
                  "0.33333333333333337",
                  "0.6527669524551882",
                  "0.45188284518828437",
                  "0.014990774907749083",
                  "0.17051039697542336",
                  "0.0"
                ]
              ],
              "shape": {
                "columns": 42,
                "rows": 5
              }
            },
            "text/html": [
              "<div>\n",
              "<style scoped>\n",
              "    .dataframe tbody tr th:only-of-type {\n",
              "        vertical-align: middle;\n",
              "    }\n",
              "\n",
              "    .dataframe tbody tr th {\n",
              "        vertical-align: top;\n",
              "    }\n",
              "\n",
              "    .dataframe thead th {\n",
              "        text-align: right;\n",
              "    }\n",
              "</style>\n",
              "<table border=\"1\" class=\"dataframe\">\n",
              "  <thead>\n",
              "    <tr style=\"text-align: right;\">\n",
              "      <th></th>\n",
              "      <th>job_blue-collar</th>\n",
              "      <th>job_entrepreneur</th>\n",
              "      <th>job_housemaid</th>\n",
              "      <th>job_management</th>\n",
              "      <th>job_retired</th>\n",
              "      <th>job_self-employed</th>\n",
              "      <th>job_services</th>\n",
              "      <th>job_student</th>\n",
              "      <th>job_technician</th>\n",
              "      <th>job_unemployed</th>\n",
              "      <th>...</th>\n",
              "      <th>day_of_week</th>\n",
              "      <th>campaign</th>\n",
              "      <th>pdays</th>\n",
              "      <th>previous</th>\n",
              "      <th>emp_var_rate</th>\n",
              "      <th>cons_price_idx</th>\n",
              "      <th>cons_conf_idx</th>\n",
              "      <th>euribor3m</th>\n",
              "      <th>nr_employed</th>\n",
              "      <th>pdays_contacted_status</th>\n",
              "    </tr>\n",
              "  </thead>\n",
              "  <tbody>\n",
              "    <tr>\n",
              "      <th>0</th>\n",
              "      <td>0.0</td>\n",
              "      <td>0.0</td>\n",
              "      <td>0.0</td>\n",
              "      <td>0.0</td>\n",
              "      <td>0.0</td>\n",
              "      <td>0.0</td>\n",
              "      <td>0.0</td>\n",
              "      <td>0.0</td>\n",
              "      <td>0.0</td>\n",
              "      <td>0.0</td>\n",
              "      <td>...</td>\n",
              "      <td>0.75</td>\n",
              "      <td>0.000000</td>\n",
              "      <td>0.375</td>\n",
              "      <td>0.0</td>\n",
              "      <td>0.000000</td>\n",
              "      <td>0.174591</td>\n",
              "      <td>0.866109</td>\n",
              "      <td>0.018450</td>\n",
              "      <td>0.203781</td>\n",
              "      <td>0.0</td>\n",
              "    </tr>\n",
              "    <tr>\n",
              "      <th>1</th>\n",
              "      <td>0.0</td>\n",
              "      <td>0.0</td>\n",
              "      <td>0.0</td>\n",
              "      <td>0.0</td>\n",
              "      <td>0.0</td>\n",
              "      <td>0.0</td>\n",
              "      <td>0.0</td>\n",
              "      <td>0.0</td>\n",
              "      <td>0.0</td>\n",
              "      <td>1.0</td>\n",
              "      <td>...</td>\n",
              "      <td>0.25</td>\n",
              "      <td>0.000000</td>\n",
              "      <td>0.375</td>\n",
              "      <td>0.0</td>\n",
              "      <td>0.000000</td>\n",
              "      <td>0.089634</td>\n",
              "      <td>1.000000</td>\n",
              "      <td>0.021679</td>\n",
              "      <td>0.203781</td>\n",
              "      <td>0.0</td>\n",
              "    </tr>\n",
              "    <tr>\n",
              "      <th>2</th>\n",
              "      <td>1.0</td>\n",
              "      <td>0.0</td>\n",
              "      <td>0.0</td>\n",
              "      <td>0.0</td>\n",
              "      <td>0.0</td>\n",
              "      <td>0.0</td>\n",
              "      <td>0.0</td>\n",
              "      <td>0.0</td>\n",
              "      <td>0.0</td>\n",
              "      <td>0.0</td>\n",
              "      <td>...</td>\n",
              "      <td>0.50</td>\n",
              "      <td>0.076923</td>\n",
              "      <td>0.375</td>\n",
              "      <td>0.0</td>\n",
              "      <td>0.937500</td>\n",
              "      <td>0.698753</td>\n",
              "      <td>0.602510</td>\n",
              "      <td>0.973708</td>\n",
              "      <td>0.859735</td>\n",
              "      <td>0.0</td>\n",
              "    </tr>\n",
              "    <tr>\n",
              "      <th>3</th>\n",
              "      <td>1.0</td>\n",
              "      <td>0.0</td>\n",
              "      <td>0.0</td>\n",
              "      <td>0.0</td>\n",
              "      <td>0.0</td>\n",
              "      <td>0.0</td>\n",
              "      <td>0.0</td>\n",
              "      <td>0.0</td>\n",
              "      <td>0.0</td>\n",
              "      <td>0.0</td>\n",
              "      <td>...</td>\n",
              "      <td>0.50</td>\n",
              "      <td>0.102564</td>\n",
              "      <td>0.375</td>\n",
              "      <td>0.0</td>\n",
              "      <td>0.687500</td>\n",
              "      <td>0.389322</td>\n",
              "      <td>0.368201</td>\n",
              "      <td>0.803967</td>\n",
              "      <td>0.877883</td>\n",
              "      <td>0.0</td>\n",
              "    </tr>\n",
              "    <tr>\n",
              "      <th>4</th>\n",
              "      <td>0.0</td>\n",
              "      <td>0.0</td>\n",
              "      <td>0.0</td>\n",
              "      <td>0.0</td>\n",
              "      <td>0.0</td>\n",
              "      <td>0.0</td>\n",
              "      <td>0.0</td>\n",
              "      <td>1.0</td>\n",
              "      <td>0.0</td>\n",
              "      <td>0.0</td>\n",
              "      <td>...</td>\n",
              "      <td>0.75</td>\n",
              "      <td>0.025641</td>\n",
              "      <td>0.375</td>\n",
              "      <td>0.0</td>\n",
              "      <td>0.333333</td>\n",
              "      <td>0.652767</td>\n",
              "      <td>0.451883</td>\n",
              "      <td>0.014991</td>\n",
              "      <td>0.170510</td>\n",
              "      <td>0.0</td>\n",
              "    </tr>\n",
              "  </tbody>\n",
              "</table>\n",
              "<p>5 rows × 42 columns</p>\n",
              "</div>"
            ],
            "text/plain": [
              "   job_blue-collar  job_entrepreneur  job_housemaid  job_management  \\\n",
              "0              0.0               0.0            0.0             0.0   \n",
              "1              0.0               0.0            0.0             0.0   \n",
              "2              1.0               0.0            0.0             0.0   \n",
              "3              1.0               0.0            0.0             0.0   \n",
              "4              0.0               0.0            0.0             0.0   \n",
              "\n",
              "   job_retired  job_self-employed  job_services  job_student  job_technician  \\\n",
              "0          0.0                0.0           0.0          0.0             0.0   \n",
              "1          0.0                0.0           0.0          0.0             0.0   \n",
              "2          0.0                0.0           0.0          0.0             0.0   \n",
              "3          0.0                0.0           0.0          0.0             0.0   \n",
              "4          0.0                0.0           0.0          1.0             0.0   \n",
              "\n",
              "   job_unemployed  ...  day_of_week  campaign  pdays  previous  emp_var_rate  \\\n",
              "0             0.0  ...         0.75  0.000000  0.375       0.0      0.000000   \n",
              "1             1.0  ...         0.25  0.000000  0.375       0.0      0.000000   \n",
              "2             0.0  ...         0.50  0.076923  0.375       0.0      0.937500   \n",
              "3             0.0  ...         0.50  0.102564  0.375       0.0      0.687500   \n",
              "4             0.0  ...         0.75  0.025641  0.375       0.0      0.333333   \n",
              "\n",
              "   cons_price_idx  cons_conf_idx  euribor3m  nr_employed  \\\n",
              "0        0.174591       0.866109   0.018450     0.203781   \n",
              "1        0.089634       1.000000   0.021679     0.203781   \n",
              "2        0.698753       0.602510   0.973708     0.859735   \n",
              "3        0.389322       0.368201   0.803967     0.877883   \n",
              "4        0.652767       0.451883   0.014991     0.170510   \n",
              "\n",
              "   pdays_contacted_status  \n",
              "0                     0.0  \n",
              "1                     0.0  \n",
              "2                     0.0  \n",
              "3                     0.0  \n",
              "4                     0.0  \n",
              "\n",
              "[5 rows x 42 columns]"
            ]
          },
          "execution_count": 93,
          "metadata": {},
          "output_type": "execute_result"
        }
      ],
      "source": [
        "# for validation purposes\n",
        "new_data = full_pipeline_preprocessing.fit_transform(x_train)\n",
        "# cat_names is a numpy array\n",
        "cat_names = full_pipeline_preprocessing.get_params()[\"cat_pipeline\"][3].get_feature_names_out().tolist()\n",
        "# num_names is a list\n",
        "num_names = full_pipeline_preprocessing.get_params()[\"num_pipeline\"][2].get_feature_names_out()\n",
        "df = pd.DataFrame(new_data,columns = cat_names + num_names)\n",
        "df.head()"
      ]
    },
    {
      "cell_type": "code",
      "execution_count": 94,
      "metadata": {
        "colab": {
          "base_uri": "https://localhost:8080/"
        },
        "id": "Y33lLBHjgLys",
        "outputId": "cacdaae9-1cd4-4cfa-d700-62ddbecdfe19"
      },
      "outputs": [
        {
          "data": {
            "text/plain": [
              "(24165, 42)"
            ]
          },
          "execution_count": 94,
          "metadata": {},
          "output_type": "execute_result"
        }
      ],
      "source": [
        "df.shape"
      ]
    },
    {
      "cell_type": "code",
      "execution_count": 95,
      "metadata": {
        "colab": {
          "base_uri": "https://localhost:8080/"
        },
        "id": "8Efr1QcjgQR8",
        "outputId": "01c4ca1a-0aba-4a08-e4c6-a7ca0ebb6c2e"
      },
      "outputs": [
        {
          "data": {
            "text/plain": [
              "(24165, 20)"
            ]
          },
          "execution_count": 95,
          "metadata": {},
          "output_type": "execute_result"
        }
      ],
      "source": [
        "x_train.shape"
      ]
    },
    {
      "cell_type": "code",
      "execution_count": 96,
      "metadata": {
        "colab": {
          "base_uri": "https://localhost:8080/"
        },
        "id": "DOep6zFQgWvp",
        "outputId": "eb053f06-1405-4055-fded-86ec46ff7187"
      },
      "outputs": [
        {
          "data": {
            "text/plain": [
              "(24165,)"
            ]
          },
          "execution_count": 96,
          "metadata": {},
          "output_type": "execute_result"
        }
      ],
      "source": [
        "y_train.shape"
      ]
    },
    {
      "cell_type": "markdown",
      "metadata": {
        "id": "3JBkxykTp2HF"
      },
      "source": [
        "## 1.5 Holdout Training"
      ]
    },
    {
      "cell_type": "markdown",
      "metadata": {
        "id": "_toW-9SWAZv7"
      },
      "source": [
        "In this example the inference artifacts are:\n",
        "- pipe (contains trained model and the preprocesing pipeline)\n",
        "- le (label encoder object used to encode the target variable)"
      ]
    },
    {
      "cell_type": "code",
      "execution_count": 97,
      "metadata": {
        "colab": {
          "base_uri": "https://localhost:8080/"
        },
        "id": "v-CIUlIE2aVU",
        "outputId": "9dcb5178-5976-4509-9477-f63178e0fd1d"
      },
      "outputs": [
        {
          "name": "stderr",
          "output_type": "stream",
          "text": [
            "07-05-2025 21:28:07 Training\n",
            "07-05-2025 21:28:08 Infering\n",
            "07-05-2025 21:28:08 Evaluation metrics\n",
            "07-05-2025 21:28:08 Accuracy: 0.8293417922283902\n",
            "07-05-2025 21:28:08 Precision: 0.29418886198547217\n",
            "07-05-2025 21:28:08 Recall: 0.33016304347826086\n",
            "07-05-2025 21:28:08 F1: 0.3111395646606914\n"
          ]
        }
      ],
      "source": [
        "# The full pipeline \n",
        "pipe = Pipeline(steps = [('full_pipeline', full_pipeline_preprocessing),\n",
        "                         (\"classifier\",DecisionTreeClassifier())\n",
        "                         ]\n",
        "                )\n",
        "\n",
        "# training\n",
        "logger.info(\"Training\")\n",
        "pipe.fit(x_train, y_train)\n",
        "\n",
        "# predict\n",
        "logger.info(\"Infering\")\n",
        "predict = pipe.predict(x_val)\n",
        "\n",
        "# Evaluation Metrics\n",
        "logger.info(\"Evaluation metrics\")\n",
        "fbeta = fbeta_score(y_val, predict, beta=1, zero_division=1)\n",
        "precision = precision_score(y_val, predict, zero_division=1)\n",
        "recall = recall_score(y_val, predict, zero_division=1)\n",
        "acc = accuracy_score(y_val, predict)\n",
        "\n",
        "logger.info(\"Accuracy: {}\".format(acc))\n",
        "logger.info(\"Precision: {}\".format(precision))\n",
        "logger.info(\"Recall: {}\".format(recall))\n",
        "logger.info(\"F1: {}\".format(fbeta))"
      ]
    },
    {
      "cell_type": "code",
      "execution_count": 98,
      "metadata": {
        "id": "kw1kSZf37-yw"
      },
      "outputs": [],
      "source": [
        "run.summary[\"Acc\"] = acc\n",
        "run.summary[\"Precision\"] = precision\n",
        "run.summary[\"Recall\"] = recall\n",
        "run.summary[\"F1\"] = fbeta"
      ]
    },
    {
      "cell_type": "code",
      "execution_count": 99,
      "metadata": {
        "colab": {
          "base_uri": "https://localhost:8080/"
        },
        "id": "wcIO140lO-xc",
        "outputId": "4f9926f7-9ef7-4f3f-ce38-0504a95e21bf"
      },
      "outputs": [
        {
          "name": "stderr",
          "output_type": "stream",
          "text": [
            "07-05-2025 21:28:08 Infering Bias\n",
            "07-05-2025 21:28:09 Bias Evaluation metrics\n",
            "07-05-2025 21:28:09 Bias Accuracy: 0.9966894268570247\n",
            "07-05-2025 21:28:09 Bias Precision: 1.0\n",
            "07-05-2025 21:28:09 Bias Recall: 0.9708242159008024\n",
            "07-05-2025 21:28:09 Bias F1: 0.9851961509992597\n"
          ]
        }
      ],
      "source": [
        "# predict bias\n",
        "logger.info(\"Infering Bias\")\n",
        "predict_bias = pipe.predict(x_train)\n",
        "\n",
        "# Evaluation Metrics\n",
        "logger.info(\"Bias Evaluation metrics\")\n",
        "fbeta = fbeta_score(y_train, predict_bias, beta=1, zero_division=1)\n",
        "precision = precision_score(y_train, predict_bias, zero_division=1)\n",
        "recall = recall_score(y_train, predict_bias, zero_division=1)\n",
        "acc = accuracy_score(y_train, predict_bias)\n",
        "\n",
        "logger.info(\"Bias Accuracy: {}\".format(acc))\n",
        "logger.info(\"Bias Precision: {}\".format(precision))\n",
        "logger.info(\"Bias Recall: {}\".format(recall))\n",
        "logger.info(\"Bias F1: {}\".format(fbeta))"
      ]
    },
    {
      "cell_type": "code",
      "execution_count": 100,
      "metadata": {
        "colab": {
          "base_uri": "https://localhost:8080/"
        },
        "id": "RR7x-wAM94VS",
        "outputId": "e7ab6ff8-7661-477a-bf10-5f07262d2d43"
      },
      "outputs": [
        {
          "name": "stdout",
          "output_type": "stream",
          "text": [
            "              precision    recall  f1-score   support\n",
            "\n",
            "           0       0.91      0.90      0.90      5569\n",
            "           1       0.29      0.33      0.31       736\n",
            "\n",
            "    accuracy                           0.83      6305\n",
            "   macro avg       0.60      0.61      0.61      6305\n",
            "weighted avg       0.84      0.83      0.83      6305\n",
            "\n"
          ]
        }
      ],
      "source": [
        "# Compare the accuracy, precision, recall with previous ones\n",
        "print(classification_report(y_val,predict))"
      ]
    },
    {
      "cell_type": "code",
      "execution_count": 101,
      "metadata": {
        "colab": {
          "base_uri": "https://localhost:8080/",
          "height": 279
        },
        "id": "9f5FubtsA8yw",
        "outputId": "d5be26d3-38a8-464d-f14b-1e4b1fb1027e"
      },
      "outputs": [
        {
          "data": {
            "image/png": "[encoded data removed]",
            "text/plain": [
              "<Figure size 700x400 with 2 Axes>"
            ]
          },
          "metadata": {},
          "output_type": "display_data"
        }
      ],
      "source": [
        "fig_confusion_matrix, ax = plt.subplots(1,1,figsize=(7,4))\n",
        "ConfusionMatrixDisplay(confusion_matrix(predict,y_val,labels=[1,0]),\n",
        "                       display_labels=[\"1\",\"0\"]).plot(values_format=\".0f\",ax=ax)\n",
        "\n",
        "ax.set_xlabel(\"True Label\")\n",
        "ax.set_ylabel(\"Predicted Label\")\n",
        "plt.show()"
      ]
    },
    {
      "cell_type": "code",
      "execution_count": 102,
      "metadata": {
        "colab": {
          "base_uri": "https://localhost:8080/"
        },
        "id": "7NODonon9kHO",
        "outputId": "be6e564d-820b-4473-bb99-8bb916f6ec46"
      },
      "outputs": [
        {
          "name": "stderr",
          "output_type": "stream",
          "text": [
            "07-05-2025 21:28:10 Uploading figures\n"
          ]
        }
      ],
      "source": [
        "# Uploading figures\n",
        "logger.info(\"Uploading figures\")\n",
        "run.log(\n",
        "    {\n",
        "        \"confusion_matrix\": wandb.Image(fig_confusion_matrix),\n",
        "        # \"other_figure\": wandb.Image(other_fig)\n",
        "    }\n",
        ")"
      ]
    },
    {
      "cell_type": "code",
      "execution_count": 103,
      "metadata": {
        "colab": {
          "base_uri": "https://localhost:8080/"
        },
        "id": "k1XylahaKaCW",
        "outputId": "45742edb-24b8-4f55-e029-5a0f112e38f1"
      },
      "outputs": [
        {
          "data": {
            "text/plain": [
              "array([1.42662210e-02, 6.54897775e-03, 4.90289598e-03, 1.49463599e-02,\n",
              "       5.34005539e-03, 6.15566370e-03, 9.07651477e-03, 5.21254752e-03,\n",
              "       1.89836998e-02, 5.68593710e-03, 2.39400104e-03, 2.19513256e-02,\n",
              "       2.02881834e-02, 8.62812526e-04, 1.63394628e-04, 1.05573151e-02,\n",
              "       6.80225758e-03, 1.02871855e-02, 1.85743187e-02, 1.89945862e-02,\n",
              "       1.32923775e-02, 1.67971110e-02, 0.00000000e+00, 2.86684156e-03,\n",
              "       4.75017696e-02, 2.30557161e-03, 3.04835605e-02, 9.12876985e-03,\n",
              "       7.40368359e-03, 1.17551204e-03, 1.87944872e-01, 8.17251961e-03,\n",
              "       6.24866350e-02, 7.80843065e-02, 3.39943033e-03, 1.54245351e-02,\n",
              "       3.67256964e-03, 8.76331918e-03, 1.69066910e-02, 9.48555375e-02,\n",
              "       1.56858760e-01, 3.04813740e-02])"
            ]
          },
          "execution_count": 103,
          "metadata": {},
          "output_type": "execute_result"
        }
      ],
      "source": [
        "# Feature importance\n",
        "pipe.get_params()[\"classifier\"].feature_importances_"
      ]
    },
    {
      "cell_type": "code",
      "execution_count": 104,
      "metadata": {
        "colab": {
          "base_uri": "https://localhost:8080/"
        },
        "id": "TCp9zEgGMJD0",
        "outputId": "aeeff8db-097e-4cfd-b83f-8515739e68c7"
      },
      "outputs": [
        {
          "data": {
            "text/plain": [
              "['job_blue-collar',\n",
              " 'job_entrepreneur',\n",
              " 'job_housemaid',\n",
              " 'job_management',\n",
              " 'job_retired',\n",
              " 'job_self-employed',\n",
              " 'job_services',\n",
              " 'job_student',\n",
              " 'job_technician',\n",
              " 'job_unemployed',\n",
              " 'job_unknown',\n",
              " 'marital_married',\n",
              " 'marital_single',\n",
              " 'marital_unknown',\n",
              " 'education_0',\n",
              " 'education_4',\n",
              " 'education_6',\n",
              " 'education_9',\n",
              " 'education_12',\n",
              " 'education_16',\n",
              " 'education_19',\n",
              " 'default_unknown',\n",
              " 'default_yes',\n",
              " 'housing_unknown',\n",
              " 'housing_yes',\n",
              " 'loan_unknown',\n",
              " 'loan_yes',\n",
              " 'contact_telephone',\n",
              " 'poutcome_nonexistent',\n",
              " 'poutcome_success']"
            ]
          },
          "execution_count": 104,
          "metadata": {},
          "output_type": "execute_result"
        }
      ],
      "source": [
        "# Get categorical column names\n",
        "cat_names = pipe.named_steps['full_pipeline'].get_params()[\"cat_pipeline\"][3].get_feature_names_out().tolist()\n",
        "cat_names"
      ]
    },
    {
      "cell_type": "code",
      "execution_count": 105,
      "metadata": {
        "colab": {
          "base_uri": "https://localhost:8080/"
        },
        "id": "6Ob7S9N2L82x",
        "outputId": "c49e9a45-f03d-4bc9-8149-2cb8a58f1be6"
      },
      "outputs": [
        {
          "data": {
            "text/plain": [
              "['age',\n",
              " 'month',\n",
              " 'day_of_week',\n",
              " 'campaign',\n",
              " 'pdays',\n",
              " 'previous',\n",
              " 'emp_var_rate',\n",
              " 'cons_price_idx',\n",
              " 'cons_conf_idx',\n",
              " 'euribor3m',\n",
              " 'nr_employed',\n",
              " 'pdays_contacted_status']"
            ]
          },
          "execution_count": 105,
          "metadata": {},
          "output_type": "execute_result"
        }
      ],
      "source": [
        "# Get numerical column names\n",
        "num_names = pipe.named_steps['full_pipeline'].get_params()[\"num_pipeline\"][2].get_feature_names_out()\n",
        "num_names"
      ]
    },
    {
      "cell_type": "code",
      "execution_count": 106,
      "metadata": {
        "colab": {
          "base_uri": "https://localhost:8080/"
        },
        "id": "USlqpKBUMV64",
        "outputId": "924e10ae-ed4c-4a79-bafd-a1b12118251d"
      },
      "outputs": [
        {
          "data": {
            "text/plain": [
              "['job_blue-collar',\n",
              " 'job_entrepreneur',\n",
              " 'job_housemaid',\n",
              " 'job_management',\n",
              " 'job_retired',\n",
              " 'job_self-employed',\n",
              " 'job_services',\n",
              " 'job_student',\n",
              " 'job_technician',\n",
              " 'job_unemployed',\n",
              " 'job_unknown',\n",
              " 'marital_married',\n",
              " 'marital_single',\n",
              " 'marital_unknown',\n",
              " 'education_0',\n",
              " 'education_4',\n",
              " 'education_6',\n",
              " 'education_9',\n",
              " 'education_12',\n",
              " 'education_16',\n",
              " 'education_19',\n",
              " 'default_unknown',\n",
              " 'default_yes',\n",
              " 'housing_unknown',\n",
              " 'housing_yes',\n",
              " 'loan_unknown',\n",
              " 'loan_yes',\n",
              " 'contact_telephone',\n",
              " 'poutcome_nonexistent',\n",
              " 'poutcome_success',\n",
              " 'age',\n",
              " 'month',\n",
              " 'day_of_week',\n",
              " 'campaign',\n",
              " 'pdays',\n",
              " 'previous',\n",
              " 'emp_var_rate',\n",
              " 'cons_price_idx',\n",
              " 'cons_conf_idx',\n",
              " 'euribor3m',\n",
              " 'nr_employed',\n",
              " 'pdays_contacted_status']"
            ]
          },
          "execution_count": 106,
          "metadata": {},
          "output_type": "execute_result"
        }
      ],
      "source": [
        "# merge all column names together\n",
        "all_names = cat_names + num_names\n",
        "all_names"
      ]
    },
    {
      "cell_type": "code",
      "execution_count": 107,
      "metadata": {
        "colab": {
          "base_uri": "https://localhost:8080/"
        },
        "id": "wo0jKHj0FlIq",
        "outputId": "7d1be8d9-c5aa-4f6f-9d16-52e214072adb"
      },
      "outputs": [
        {
          "name": "stderr",
          "output_type": "stream",
          "text": [
            "\u001b[34m\u001b[1mwandb\u001b[0m: \n",
            "\u001b[34m\u001b[1mwandb\u001b[0m: Plotting DT.\n",
            "\u001b[34m\u001b[1mwandb\u001b[0m: Logged feature importances.\n",
            "\u001b[34m\u001b[1mwandb\u001b[0m: Logged confusion matrix.\n",
            "\u001b[34m\u001b[1mwandb\u001b[0m: Logged summary metrics.\n",
            "\u001b[34m\u001b[1mwandb\u001b[0m: Logged class proportions.\n",
            "\u001b[34m\u001b[1mwandb\u001b[0m: Logged calibration curve.\n",
            "\u001b[34m\u001b[1mwandb\u001b[0m: Logged roc curve.\n",
            "\u001b[34m\u001b[1mwandb\u001b[0m: Logged precision-recall curve.\n"
          ]
        }
      ],
      "source": [
        "# Visualize all classifier plots\n",
        "# For a complete documentation please see: https://docs.wandb.ai/guides/integrations/scikit\n",
        "wandb.sklearn.plot_classifier(pipe.get_params()[\"classifier\"],\n",
        "                              full_pipeline_preprocessing.transform(x_train),\n",
        "                              full_pipeline_preprocessing.transform(x_val),\n",
        "                              y_train,\n",
        "                              y_val,\n",
        "                              predict,\n",
        "                              pipe.predict_proba(x_val),\n",
        "                              [0,1],\n",
        "                              model_name='DT', feature_names=all_names)"
      ]
    },
    {
      "cell_type": "code",
      "execution_count": 108,
      "metadata": {
        "id": "ZZa7WZFCD9KE"
      },
      "outputs": [],
      "source": [
        "# Visualize single plot\n",
        "wandb.sklearn.plot_confusion_matrix(y_val, predict, [0,1])"
      ]
    },
    {
      "cell_type": "code",
      "execution_count": 109,
      "metadata": {
        "id": "cd9LLU0sFw5Q"
      },
      "outputs": [],
      "source": [
        "# Catch up the class proportions between train and validation\n",
        "wandb.sklearn.plot_class_proportions(y_train, y_val, [0,1])"
      ]
    },
    {
      "cell_type": "code",
      "execution_count": 110,
      "metadata": {
        "id": "Wd16dY-3Mn2e"
      },
      "outputs": [],
      "source": [
        "# Plot the importance of columns\n",
        "wandb.sklearn.plot_feature_importances(pipe.get_params()[\"classifier\"],all_names)"
      ]
    },
    {
      "cell_type": "code",
      "execution_count": 111,
      "metadata": {
        "id": "CGX5BdLpMwKw"
      },
      "outputs": [],
      "source": [
        "# Plot a brief summary of the weighted avg results (recall, precision, f1, acc)\n",
        "wandb.sklearn.plot_summary_metrics(pipe.get_params()[\"classifier\"],\n",
        "                                    full_pipeline_preprocessing.transform(x_train),\n",
        "                                    y_train,\n",
        "                                    full_pipeline_preprocessing.transform(x_val),\n",
        "                                    y_val)"
      ]
    },
    {
      "cell_type": "code",
      "execution_count": 112,
      "metadata": {
        "id": "D7Sl-7TbOZqD"
      },
      "outputs": [],
      "source": [
        "# ROC curve\n",
        "predict_proba = pipe.predict_proba(x_val)\n",
        "wandb.sklearn.plot_roc(y_val, predict_proba, [0,1])"
      ]
    },
    {
      "cell_type": "code",
      "execution_count": 113,
      "metadata": {},
      "outputs": [
        {
          "data": {
            "text/plain": [
              "Index(['age', 'job', 'marital', 'education', 'default', 'housing', 'loan',\n",
              "       'contact', 'month', 'day_of_week', 'campaign', 'pdays', 'previous',\n",
              "       'poutcome', 'emp_var_rate', 'cons_price_idx', 'cons_conf_idx',\n",
              "       'euribor3m', 'nr_employed', 'pdays_contacted_status'],\n",
              "      dtype='object')"
            ]
          },
          "execution_count": 113,
          "metadata": {},
          "output_type": "execute_result"
        }
      ],
      "source": [
        "x_train.columns"
      ]
    },
    {
      "cell_type": "code",
      "execution_count": 114,
      "metadata": {},
      "outputs": [
        {
          "data": {
            "application/vnd.microsoft.datawrangler.viewer.v0+json": {
              "columns": [
                {
                  "name": "index",
                  "rawType": "int64",
                  "type": "integer"
                },
                {
                  "name": "age",
                  "rawType": "float64",
                  "type": "float"
                },
                {
                  "name": "job",
                  "rawType": "object",
                  "type": "string"
                },
                {
                  "name": "marital",
                  "rawType": "object",
                  "type": "string"
                },
                {
                  "name": "education",
                  "rawType": "object",
                  "type": "string"
                },
                {
                  "name": "default",
                  "rawType": "object",
                  "type": "string"
                },
                {
                  "name": "housing",
                  "rawType": "object",
                  "type": "string"
                },
                {
                  "name": "loan",
                  "rawType": "object",
                  "type": "string"
                },
                {
                  "name": "contact",
                  "rawType": "object",
                  "type": "string"
                },
                {
                  "name": "month",
                  "rawType": "float64",
                  "type": "float"
                },
                {
                  "name": "day_of_week",
                  "rawType": "float64",
                  "type": "float"
                },
                {
                  "name": "campaign",
                  "rawType": "float64",
                  "type": "float"
                },
                {
                  "name": "pdays",
                  "rawType": "float64",
                  "type": "float"
                },
                {
                  "name": "previous",
                  "rawType": "float64",
                  "type": "float"
                },
                {
                  "name": "poutcome",
                  "rawType": "object",
                  "type": "string"
                },
                {
                  "name": "emp_var_rate",
                  "rawType": "float64",
                  "type": "float"
                },
                {
                  "name": "cons_price_idx",
                  "rawType": "float64",
                  "type": "float"
                },
                {
                  "name": "cons_conf_idx",
                  "rawType": "float64",
                  "type": "float"
                },
                {
                  "name": "euribor3m",
                  "rawType": "float64",
                  "type": "float"
                },
                {
                  "name": "nr_employed",
                  "rawType": "float64",
                  "type": "float"
                },
                {
                  "name": "pdays_contacted_status",
                  "rawType": "float64",
                  "type": "float"
                }
              ],
              "conversionMethod": "pd.DataFrame",
              "ref": "8de67edb-0dba-4c35-a76d-c6134d0faf9b",
              "rows": [
                [
                  "7234",
                  "25.0",
                  "admin",
                  "married",
                  "unknown",
                  "no",
                  "no",
                  "no",
                  "cellular",
                  "11.0",
                  "5.0",
                  "1.0",
                  "6.0",
                  "0.0",
                  "nonexistent",
                  "-3.4",
                  "92.649",
                  "-30.1",
                  "0.714",
                  "5017.5",
                  "0.0"
                ]
              ],
              "shape": {
                "columns": 20,
                "rows": 1
              }
            },
            "text/html": [
              "<div>\n",
              "<style scoped>\n",
              "    .dataframe tbody tr th:only-of-type {\n",
              "        vertical-align: middle;\n",
              "    }\n",
              "\n",
              "    .dataframe tbody tr th {\n",
              "        vertical-align: top;\n",
              "    }\n",
              "\n",
              "    .dataframe thead th {\n",
              "        text-align: right;\n",
              "    }\n",
              "</style>\n",
              "<table border=\"1\" class=\"dataframe\">\n",
              "  <thead>\n",
              "    <tr style=\"text-align: right;\">\n",
              "      <th></th>\n",
              "      <th>age</th>\n",
              "      <th>job</th>\n",
              "      <th>marital</th>\n",
              "      <th>education</th>\n",
              "      <th>default</th>\n",
              "      <th>housing</th>\n",
              "      <th>loan</th>\n",
              "      <th>contact</th>\n",
              "      <th>month</th>\n",
              "      <th>day_of_week</th>\n",
              "      <th>campaign</th>\n",
              "      <th>pdays</th>\n",
              "      <th>previous</th>\n",
              "      <th>poutcome</th>\n",
              "      <th>emp_var_rate</th>\n",
              "      <th>cons_price_idx</th>\n",
              "      <th>cons_conf_idx</th>\n",
              "      <th>euribor3m</th>\n",
              "      <th>nr_employed</th>\n",
              "      <th>pdays_contacted_status</th>\n",
              "    </tr>\n",
              "  </thead>\n",
              "  <tbody>\n",
              "    <tr>\n",
              "      <th>7234</th>\n",
              "      <td>25.0</td>\n",
              "      <td>admin</td>\n",
              "      <td>married</td>\n",
              "      <td>unknown</td>\n",
              "      <td>no</td>\n",
              "      <td>no</td>\n",
              "      <td>no</td>\n",
              "      <td>cellular</td>\n",
              "      <td>11.0</td>\n",
              "      <td>5.0</td>\n",
              "      <td>1.0</td>\n",
              "      <td>6.0</td>\n",
              "      <td>0.0</td>\n",
              "      <td>nonexistent</td>\n",
              "      <td>-3.4</td>\n",
              "      <td>92.649</td>\n",
              "      <td>-30.1</td>\n",
              "      <td>0.714</td>\n",
              "      <td>5017.5</td>\n",
              "      <td>0.0</td>\n",
              "    </tr>\n",
              "  </tbody>\n",
              "</table>\n",
              "</div>"
            ],
            "text/plain": [
              "       age    job  marital education default housing loan   contact  month  \\\n",
              "7234  25.0  admin  married   unknown      no      no   no  cellular   11.0   \n",
              "\n",
              "      day_of_week  campaign  pdays  previous     poutcome  emp_var_rate  \\\n",
              "7234          5.0       1.0    6.0       0.0  nonexistent          -3.4   \n",
              "\n",
              "      cons_price_idx  cons_conf_idx  euribor3m  nr_employed  \\\n",
              "7234          92.649          -30.1      0.714       5017.5   \n",
              "\n",
              "      pdays_contacted_status  \n",
              "7234                     0.0  "
            ]
          },
          "execution_count": 114,
          "metadata": {},
          "output_type": "execute_result"
        }
      ],
      "source": [
        "x_train.head(1)"
      ]
    },
    {
      "cell_type": "code",
      "execution_count": 115,
      "metadata": {
        "colab": {
          "base_uri": "https://localhost:8080/"
        },
        "id": "aExy-Wb23YSP",
        "outputId": "91e6d687-304c-41e5-bdd4-b24b1accf683"
      },
      "outputs": [
        {
          "name": "stdout",
          "output_type": "stream",
          "text": [
            "0\n"
          ]
        }
      ],
      "source": [
        "# Recreate person1 from the first row of the CSV\n",
        "person1 = pd.DataFrame([[25.0, 'admin', 'married', 'unknown', 'no', 'no', 'no', 'cellular', 11.0, 6,\n",
        "                         1.0, 6.0, 0.0, 'nonexistent', -3.4, 92.649, -30.1, 0.714, 5017.5, 0.0]],\n",
        "                       columns=x_train.columns)\n",
        "\n",
        "# Prediction (assuming pipe is already fitted)\n",
        "pred = pipe.predict(person1)\n",
        "print(pred[0])"
      ]
    },
    {
      "cell_type": "code",
      "execution_count": 116,
      "metadata": {
        "colab": {
          "base_uri": "https://localhost:8080/"
        },
        "id": "qzTtTosC3s7c",
        "outputId": "63474a94-64fc-4571-e2e7-1d741a2c0350"
      },
      "outputs": [
        {
          "name": "stdout",
          "output_type": "stream",
          "text": [
            "[0]\n"
          ]
        }
      ],
      "source": [
        "person2 = pd.DataFrame([[55.0, 'unemployed', 'married', 'basic 9y', 'no', 'yes', 'no', 'cellular', 10.0, 2,\n",
        "                         1.0, 6.0, 0.0, 'nonexistent', -3.4, 92.431, -26.9, 0.728, 5017.5, 0.0]], columns=x_train.columns)\n",
        "print(pipe.predict(person2))"
      ]
    },
    {
      "cell_type": "code",
      "execution_count": 117,
      "metadata": {
        "colab": {
          "base_uri": "https://localhost:8080/",
          "height": 270,
          "referenced_widgets": [
            "b33588a583a74b0ca704326da92a26ba",
            "ebd0cae92b844bc5b85c6ca43146b939",
            "d0a7f9c1ca234cfcbf80dde01b6469a6",
            "b53f9d1b87644c17a87da9e7df964c0c",
            "0c88b95b46ce418f9a065ffa977d5df5",
            "e01a27661e7b40dabe5476019a4354a7",
            "edba6df8dde94f4abb03fcf9f8630fc9",
            "9fe9f462c7254798b47382a56719dfe4"
          ]
        },
        "id": "v7WQb9yaReCA",
        "outputId": "77a480ae-80dd-47ed-e0ad-023654a22c81"
      },
      "outputs": [
        {
          "data": {
            "text/html": [],
            "text/plain": [
              "<IPython.core.display.HTML object>"
            ]
          },
          "metadata": {},
          "output_type": "display_data"
        },
        {
          "data": {
            "text/html": [
              "<br>    <style><br>        .wandb-row {<br>            display: flex;<br>            flex-direction: row;<br>            flex-wrap: wrap;<br>            justify-content: flex-start;<br>            width: 100%;<br>        }<br>        .wandb-col {<br>            display: flex;<br>            flex-direction: column;<br>            flex-basis: 100%;<br>            flex: 1;<br>            padding: 10px;<br>        }<br>    </style><br><div class=\"wandb-row\"><div class=\"wandb-col\"><h3>Run summary:</h3><br/><table class=\"wandb\"><tr><td>Acc</td><td>0.82934</td></tr><tr><td>F1</td><td>0.31114</td></tr><tr><td>Precision</td><td>0.29419</td></tr><tr><td>Recall</td><td>0.33016</td></tr></table><br/></div></div>"
            ],
            "text/plain": [
              "<IPython.core.display.HTML object>"
            ]
          },
          "metadata": {},
          "output_type": "display_data"
        },
        {
          "data": {
            "text/html": [
              " View run <strong style=\"color:#cdcd00\">woven-sweep-8</strong> at: <a href='https://wandb.ai/hangtn13-ssc-national-economics-university/Bank-Marketing/runs/0oxjx3h1' target=\"_blank\">https://wandb.ai/hangtn13-ssc-national-economics-university/Bank-Marketing/runs/0oxjx3h1</a><br> View project at: <a href='https://wandb.ai/hangtn13-ssc-national-economics-university/Bank-Marketing' target=\"_blank\">https://wandb.ai/hangtn13-ssc-national-economics-university/Bank-Marketing</a><br>Synced 5 W&B file(s), 13 media file(s), 12 artifact file(s) and 0 other file(s)"
            ],
            "text/plain": [
              "<IPython.core.display.HTML object>"
            ]
          },
          "metadata": {},
          "output_type": "display_data"
        },
        {
          "data": {
            "text/html": [
              "Find logs at: <code>.\\wandb\\run-20250507_212750-0oxjx3h1\\logs</code>"
            ],
            "text/plain": [
              "<IPython.core.display.HTML object>"
            ]
          },
          "metadata": {},
          "output_type": "display_data"
        }
      ],
      "source": [
        "# close the current run before to execute the next section\n",
        "run.finish()"
      ]
    },
    {
      "cell_type": "markdown",
      "metadata": {
        "id": "G8tKLeBIa44E"
      },
      "source": [
        "## 1.6 Hyperparameter Tuning"
      ]
    },
    {
      "cell_type": "code",
      "execution_count": 118,
      "metadata": {
        "id": "eBVoapcIkc6X"
      },
      "outputs": [],
      "source": [
        "# To see all parameters of a specific step of the pipeline\n",
        "# pipe.named_steps['classifier'].get_params() #or\n",
        "# pipe.named_steps['full_pipeline'].get_params()"
      ]
    },
    {
      "cell_type": "code",
      "execution_count": 119,
      "metadata": {
        "id": "jPy291-mwumB"
      },
      "outputs": [],
      "source": [
        "# global seed\n",
        "seed = 41"
      ]
    },
    {
      "cell_type": "code",
      "execution_count": 120,
      "metadata": {
        "colab": {
          "base_uri": "https://localhost:8080/"
        },
        "id": "fMuG1XSTnXVk",
        "outputId": "2a6f2a62-7a69-463f-a93d-c1d222280cdd"
      },
      "outputs": [
        {
          "name": "stderr",
          "output_type": "stream",
          "text": [
            "07-05-2025 21:28:29 Sweep ID: g0ipig6b\n"
          ]
        },
        {
          "name": "stdout",
          "output_type": "stream",
          "text": [
            "Create sweep with ID: g0ipig6b\n",
            "Sweep URL: https://wandb.ai/hangtn13-ssc-national-economics-university/Bank-Marketing/sweeps/g0ipig6b\n"
          ]
        }
      ],
      "source": [
        "sweep_config = {\n",
        "    \"name\": \"decisiontree\",  # <-- Naming the sweep\n",
        "    \"method\": \"random\",\n",
        "    \"metric\": {\n",
        "        \"name\": \"Accuracy\",\n",
        "        \"goal\": \"maximize\"\n",
        "    },\n",
        "    \"parameters\": {\n",
        "        \"criterion\": {\n",
        "            \"values\": [\"gini\", \"entropy\"]\n",
        "        },\n",
        "        \"splitter\": {\n",
        "            \"values\": [\"random\", \"best\"]\n",
        "        },\n",
        "        \"model\": {\n",
        "            \"values\": [0, 1, 2]\n",
        "        },\n",
        "        \"random_state\": {\n",
        "            \"values\": [seed]\n",
        "        }\n",
        "    }\n",
        "}\n",
        "\n",
        "sweep_id = wandb.sweep(sweep_config, project=\"Bank-Marketing\")\n",
        "logger.info(\"Sweep ID: {}\".format(sweep_id))\n"
      ]
    },
    {
      "cell_type": "code",
      "execution_count": 121,
      "metadata": {
        "id": "uvnUejepa_FY"
      },
      "outputs": [],
      "source": [
        "def train():\n",
        "    with wandb.init() as run:\n",
        "\n",
        "        # The full pipeline \n",
        "        pipe = Pipeline(steps = [('full_pipeline', full_pipeline_preprocessing),\n",
        "                                    (\"classifier\",DecisionTreeClassifier())\n",
        "                                    ]\n",
        "                        )\n",
        "\n",
        "        # update the parameters of the pipeline that we would like to tuning\n",
        "        pipe.set_params(**{\"full_pipeline__num_pipeline__num_transformer__model\": run.config.model})\n",
        "        pipe.set_params(**{\"classifier__criterion\": run.config.criterion})\n",
        "        pipe.set_params(**{\"classifier__splitter\": run.config.splitter})\n",
        "        pipe.set_params(**{\"classifier__random_state\": run.config.random_state})\n",
        "\n",
        "        # training\n",
        "        logger.info(\"Training\")\n",
        "        pipe.fit(x_train, y_train)\n",
        "\n",
        "        # predict\n",
        "        logger.info(\"Infering\")\n",
        "        predict = pipe.predict(x_val)\n",
        "\n",
        "        # Evaluation Metrics\n",
        "        logger.info(\"Evaluation metrics\")\n",
        "        fbeta = fbeta_score(y_val, predict, beta=1, zero_division=1)\n",
        "        precision = precision_score(y_val, predict, zero_division=1)\n",
        "        recall = recall_score(y_val, predict, zero_division=1)\n",
        "        acc = accuracy_score(y_val, predict)\n",
        "\n",
        "        logger.info(\"Accuracy: {}\".format(acc))\n",
        "        logger.info(\"Precision: {}\".format(precision))\n",
        "        logger.info(\"Recall: {}\".format(recall))\n",
        "        logger.info(\"F1: {}\".format(fbeta))\n",
        "\n",
        "        run.summary[\"Accuracy\"] = acc\n",
        "        run.summary[\"Precision\"] = precision\n",
        "        run.summary[\"Recall\"] = recall\n",
        "        run.summary[\"F1\"] = fbeta"
      ]
    },
    {
      "cell_type": "code",
      "execution_count": 122,
      "metadata": {
        "colab": {
          "base_uri": "https://localhost:8080/",
          "height": 1000,
          "referenced_widgets": [
            "d66272ef259e414fa0aeff26c17833e5",
            "b816211e808140ef92b41e8aa91406a0",
            "9c447133b9144bc1905bab6fbddb8060",
            "9abdeaf7387b413bbe83d0507a16c419",
            "ac72ba6a977342fca73b3b0e61439cab",
            "5dad7e56bbc24479b083a9ed7dc2ebe6",
            "fd2b0ee41f094cecb350286406b33dd5",
            "7b2be86d62944910bfd8e9de3fd21512",
            "0613c7cb0f514b22a4e6528e40e2e156",
            "5bd958e1e2bc4b1ea1f586e2afa89499",
            "c75b56bef9f946508d8db9a716432df4",
            "4dc52778c02542ad94a5f7d45b7a5a98",
            "521f77db070641e7a0097f0b4c0793ef",
            "c2576f2a4b3e4d77882585ea581e3c07",
            "0a9328d22f424f759a4cb7b68a7de40c",
            "21b5c781e9c2442a96f6ab630b98a2aa",
            "6e9eff32ca164a51b3fb183ecdd5cae0",
            "3f1500527dc04bcbaa7f1ace440d3897",
            "372061e7f44c46d98144f9fb4bc193ac",
            "11e7c611da6149d3a970a59207dbcae9",
            "8a010640585e45ea8cab901ba1dc0c18",
            "e28eaca3569046d89907b619ed4b9c3f",
            "36c291b5b8cb4de5a90f52223becea31",
            "409659c3ae114173bcea7cdd74211846",
            "e54f33b16fec4a5f8bac961fc4fb532a",
            "6bc474b778ed4e448c7962c9b3da06fa",
            "00217f46375e4534bcdd9654ca763886",
            "28dc085cf9c84a259b9aa20dfc307928",
            "d77025115a81456dade5d139892d942e",
            "c134c8bbd52b41da88dcf49f7421099c",
            "48a8816a4fd944a2983867072b18281b",
            "1ef4066db49b491dacd1e36f0e3f3b3a",
            "3ef2cddcc21a43249ca25213cb480d1d",
            "f216ca5fa31f4e8bb1b3d49c18c88a42",
            "8a7f76ee1dbf419687535970bade573b",
            "4123fc15d9c14b1c9b134f4f9e1e0f2d",
            "f38cf56dc8244bf0857c0276819f5b4a",
            "2dc7c807794f4ffd9a144938fe4abdda",
            "aa05254699df452c97dd970e874d855f",
            "acf104d7b145494ebdecdcd77ee36449",
            "f947014ebe80475787758607be1392fc",
            "81fba16a494f4223a8d217f28019d369",
            "dfac957f3d4b43b3beeee89bc16b7081",
            "e110d8881e4d466387c288d116624ac1",
            "24674bfe30014b018d205b781b4ea5b8",
            "56009f45f7ce4372b14f86d8273236e6",
            "5dde59adcbf244aba363806ffaf74607",
            "3b622de75449459188763c85adbd36ad",
            "e9b68bd74eb94512afa2fc9e052004ce",
            "642acd73d99c470a99c17d685f0b7704",
            "e34f38da777d4eed844352c69287c5d0",
            "99db2784438e4525aa6f63a7327f21e9",
            "ea37187ae765457eb09295a54c5e7365",
            "455e69ec3bb64becaed1dec637e1b2bc",
            "bc255094fc244b6bb5ebbcc5b180ab74",
            "82f5b3b2a66c4bd9a977a41dca5a2fcb",
            "789ca682cc164fe9be5a63f1226bf47a",
            "30d5335d53814da2b4244ea3e7d511fb",
            "8c6d9a0e02d9403b9bbb63ec6ce9e513",
            "2e3788cccf2a4b84bd7d5a59c03c42a5",
            "685ee2fe32fb4ae08aefa144f8738f16",
            "07be9fb8d14944cc855b289d695fe00b",
            "27dd8676102f4a34adc321360ad7c16e",
            "3166e54e4f994c848e76435a1962f441"
          ]
        },
        "id": "W1hb9Y4ncZel",
        "outputId": "9e064a2b-2f5a-4199-a6b5-08eb132c9cc1"
      },
      "outputs": [
        {
          "name": "stderr",
          "output_type": "stream",
          "text": [
            "\u001b[34m\u001b[1mwandb\u001b[0m: Agent Starting Run: 2waiosyy with config:\n",
            "\u001b[34m\u001b[1mwandb\u001b[0m: \tcriterion: gini\n",
            "\u001b[34m\u001b[1mwandb\u001b[0m: \tmodel: 2\n",
            "\u001b[34m\u001b[1mwandb\u001b[0m: \trandom_state: 41\n",
            "\u001b[34m\u001b[1mwandb\u001b[0m: \tsplitter: random\n"
          ]
        },
        {
          "data": {
            "text/html": [
              "creating run (0.0s)"
            ],
            "text/plain": [
              "<IPython.core.display.HTML object>"
            ]
          },
          "metadata": {},
          "output_type": "display_data"
        },
        {
          "data": {
            "text/html": [
              "Tracking run with wandb version 0.19.9"
            ],
            "text/plain": [
              "<IPython.core.display.HTML object>"
            ]
          },
          "metadata": {},
          "output_type": "display_data"
        },
        {
          "data": {
            "text/html": [
              "Run data is saved locally in <code>d:\\DSEB\\DSEB_SEM_6\\MLOPS\\W2\\Mlops_Project_K64\\wandb\\run-20250507_212834-2waiosyy</code>"
            ],
            "text/plain": [
              "<IPython.core.display.HTML object>"
            ]
          },
          "metadata": {},
          "output_type": "display_data"
        },
        {
          "data": {
            "text/html": [
              "Syncing run <strong><a href='https://wandb.ai/hangtn13-ssc-national-economics-university/Bank-Marketing/runs/2waiosyy' target=\"_blank\">worldly-sweep-1</a></strong> to <a href='https://wandb.ai/hangtn13-ssc-national-economics-university/Bank-Marketing' target=\"_blank\">Weights & Biases</a> (<a href='https://wandb.me/developer-guide' target=\"_blank\">docs</a>)<br>Sweep page: <a href='https://wandb.ai/hangtn13-ssc-national-economics-university/Bank-Marketing/sweeps/g0ipig6b' target=\"_blank\">https://wandb.ai/hangtn13-ssc-national-economics-university/Bank-Marketing/sweeps/g0ipig6b</a>"
            ],
            "text/plain": [
              "<IPython.core.display.HTML object>"
            ]
          },
          "metadata": {},
          "output_type": "display_data"
        },
        {
          "data": {
            "text/html": [
              " View project at <a href='https://wandb.ai/hangtn13-ssc-national-economics-university/Bank-Marketing' target=\"_blank\">https://wandb.ai/hangtn13-ssc-national-economics-university/Bank-Marketing</a>"
            ],
            "text/plain": [
              "<IPython.core.display.HTML object>"
            ]
          },
          "metadata": {},
          "output_type": "display_data"
        },
        {
          "data": {
            "text/html": [
              " View sweep at <a href='https://wandb.ai/hangtn13-ssc-national-economics-university/Bank-Marketing/sweeps/g0ipig6b' target=\"_blank\">https://wandb.ai/hangtn13-ssc-national-economics-university/Bank-Marketing/sweeps/g0ipig6b</a>"
            ],
            "text/plain": [
              "<IPython.core.display.HTML object>"
            ]
          },
          "metadata": {},
          "output_type": "display_data"
        },
        {
          "data": {
            "text/html": [
              " View run at <a href='https://wandb.ai/hangtn13-ssc-national-economics-university/Bank-Marketing/runs/2waiosyy' target=\"_blank\">https://wandb.ai/hangtn13-ssc-national-economics-university/Bank-Marketing/runs/2waiosyy</a>"
            ],
            "text/plain": [
              "<IPython.core.display.HTML object>"
            ]
          },
          "metadata": {},
          "output_type": "display_data"
        },
        {
          "name": "stderr",
          "output_type": "stream",
          "text": [
            "07-05-2025 21:28:37 Training\n",
            "07-05-2025 21:28:38 Infering\n",
            "07-05-2025 21:28:38 Evaluation metrics\n",
            "07-05-2025 21:28:38 Accuracy: 0.8249008723235527\n",
            "07-05-2025 21:28:38 Precision: 0.284037558685446\n",
            "07-05-2025 21:28:38 Recall: 0.328804347826087\n",
            "07-05-2025 21:28:38 F1: 0.3047858942065491\n"
          ]
        },
        {
          "data": {
            "text/html": [],
            "text/plain": [
              "<IPython.core.display.HTML object>"
            ]
          },
          "metadata": {},
          "output_type": "display_data"
        },
        {
          "data": {
            "text/html": [
              "<br>    <style><br>        .wandb-row {<br>            display: flex;<br>            flex-direction: row;<br>            flex-wrap: wrap;<br>            justify-content: flex-start;<br>            width: 100%;<br>        }<br>        .wandb-col {<br>            display: flex;<br>            flex-direction: column;<br>            flex-basis: 100%;<br>            flex: 1;<br>            padding: 10px;<br>        }<br>    </style><br><div class=\"wandb-row\"><div class=\"wandb-col\"><h3>Run summary:</h3><br/><table class=\"wandb\"><tr><td>Accuracy</td><td>0.8249</td></tr><tr><td>F1</td><td>0.30479</td></tr><tr><td>Precision</td><td>0.28404</td></tr><tr><td>Recall</td><td>0.3288</td></tr></table><br/></div></div>"
            ],
            "text/plain": [
              "<IPython.core.display.HTML object>"
            ]
          },
          "metadata": {},
          "output_type": "display_data"
        },
        {
          "data": {
            "text/html": [
              " View run <strong style=\"color:#cdcd00\">worldly-sweep-1</strong> at: <a href='https://wandb.ai/hangtn13-ssc-national-economics-university/Bank-Marketing/runs/2waiosyy' target=\"_blank\">https://wandb.ai/hangtn13-ssc-national-economics-university/Bank-Marketing/runs/2waiosyy</a><br> View project at: <a href='https://wandb.ai/hangtn13-ssc-national-economics-university/Bank-Marketing' target=\"_blank\">https://wandb.ai/hangtn13-ssc-national-economics-university/Bank-Marketing</a><br>Synced 5 W&B file(s), 0 media file(s), 0 artifact file(s) and 0 other file(s)"
            ],
            "text/plain": [
              "<IPython.core.display.HTML object>"
            ]
          },
          "metadata": {},
          "output_type": "display_data"
        },
        {
          "data": {
            "text/html": [
              "Find logs at: <code>.\\wandb\\run-20250507_212834-2waiosyy\\logs</code>"
            ],
            "text/plain": [
              "<IPython.core.display.HTML object>"
            ]
          },
          "metadata": {},
          "output_type": "display_data"
        },
        {
          "name": "stderr",
          "output_type": "stream",
          "text": [
            "\u001b[34m\u001b[1mwandb\u001b[0m: Agent Starting Run: fr68q5zg with config:\n",
            "\u001b[34m\u001b[1mwandb\u001b[0m: \tcriterion: entropy\n",
            "\u001b[34m\u001b[1mwandb\u001b[0m: \tmodel: 0\n",
            "\u001b[34m\u001b[1mwandb\u001b[0m: \trandom_state: 41\n",
            "\u001b[34m\u001b[1mwandb\u001b[0m: \tsplitter: best\n"
          ]
        },
        {
          "data": {
            "text/html": [
              "creating run (0.0s)"
            ],
            "text/plain": [
              "<IPython.core.display.HTML object>"
            ]
          },
          "metadata": {},
          "output_type": "display_data"
        },
        {
          "data": {
            "text/html": [
              "Tracking run with wandb version 0.19.9"
            ],
            "text/plain": [
              "<IPython.core.display.HTML object>"
            ]
          },
          "metadata": {},
          "output_type": "display_data"
        },
        {
          "data": {
            "text/html": [
              "Run data is saved locally in <code>d:\\DSEB\\DSEB_SEM_6\\MLOPS\\W2\\Mlops_Project_K64\\wandb\\run-20250507_212845-fr68q5zg</code>"
            ],
            "text/plain": [
              "<IPython.core.display.HTML object>"
            ]
          },
          "metadata": {},
          "output_type": "display_data"
        },
        {
          "data": {
            "text/html": [
              "Syncing run <strong><a href='https://wandb.ai/hangtn13-ssc-national-economics-university/Bank-Marketing/runs/fr68q5zg' target=\"_blank\">lively-sweep-2</a></strong> to <a href='https://wandb.ai/hangtn13-ssc-national-economics-university/Bank-Marketing' target=\"_blank\">Weights & Biases</a> (<a href='https://wandb.me/developer-guide' target=\"_blank\">docs</a>)<br>Sweep page: <a href='https://wandb.ai/hangtn13-ssc-national-economics-university/Bank-Marketing/sweeps/g0ipig6b' target=\"_blank\">https://wandb.ai/hangtn13-ssc-national-economics-university/Bank-Marketing/sweeps/g0ipig6b</a>"
            ],
            "text/plain": [
              "<IPython.core.display.HTML object>"
            ]
          },
          "metadata": {},
          "output_type": "display_data"
        },
        {
          "data": {
            "text/html": [
              " View project at <a href='https://wandb.ai/hangtn13-ssc-national-economics-university/Bank-Marketing' target=\"_blank\">https://wandb.ai/hangtn13-ssc-national-economics-university/Bank-Marketing</a>"
            ],
            "text/plain": [
              "<IPython.core.display.HTML object>"
            ]
          },
          "metadata": {},
          "output_type": "display_data"
        },
        {
          "data": {
            "text/html": [
              " View sweep at <a href='https://wandb.ai/hangtn13-ssc-national-economics-university/Bank-Marketing/sweeps/g0ipig6b' target=\"_blank\">https://wandb.ai/hangtn13-ssc-national-economics-university/Bank-Marketing/sweeps/g0ipig6b</a>"
            ],
            "text/plain": [
              "<IPython.core.display.HTML object>"
            ]
          },
          "metadata": {},
          "output_type": "display_data"
        },
        {
          "data": {
            "text/html": [
              " View run at <a href='https://wandb.ai/hangtn13-ssc-national-economics-university/Bank-Marketing/runs/fr68q5zg' target=\"_blank\">https://wandb.ai/hangtn13-ssc-national-economics-university/Bank-Marketing/runs/fr68q5zg</a>"
            ],
            "text/plain": [
              "<IPython.core.display.HTML object>"
            ]
          },
          "metadata": {},
          "output_type": "display_data"
        },
        {
          "name": "stderr",
          "output_type": "stream",
          "text": [
            "07-05-2025 21:28:48 Training\n",
            "07-05-2025 21:28:49 Infering\n",
            "07-05-2025 21:28:49 Evaluation metrics\n",
            "07-05-2025 21:28:49 Accuracy: 0.8363203806502776\n",
            "07-05-2025 21:28:49 Precision: 0.31265822784810127\n",
            "07-05-2025 21:28:49 Recall: 0.33559782608695654\n",
            "07-05-2025 21:28:49 F1: 0.3237221494102228\n"
          ]
        },
        {
          "data": {
            "text/html": [],
            "text/plain": [
              "<IPython.core.display.HTML object>"
            ]
          },
          "metadata": {},
          "output_type": "display_data"
        },
        {
          "data": {
            "text/html": [
              "<br>    <style><br>        .wandb-row {<br>            display: flex;<br>            flex-direction: row;<br>            flex-wrap: wrap;<br>            justify-content: flex-start;<br>            width: 100%;<br>        }<br>        .wandb-col {<br>            display: flex;<br>            flex-direction: column;<br>            flex-basis: 100%;<br>            flex: 1;<br>            padding: 10px;<br>        }<br>    </style><br><div class=\"wandb-row\"><div class=\"wandb-col\"><h3>Run summary:</h3><br/><table class=\"wandb\"><tr><td>Accuracy</td><td>0.83632</td></tr><tr><td>F1</td><td>0.32372</td></tr><tr><td>Precision</td><td>0.31266</td></tr><tr><td>Recall</td><td>0.3356</td></tr></table><br/></div></div>"
            ],
            "text/plain": [
              "<IPython.core.display.HTML object>"
            ]
          },
          "metadata": {},
          "output_type": "display_data"
        },
        {
          "data": {
            "text/html": [
              " View run <strong style=\"color:#cdcd00\">lively-sweep-2</strong> at: <a href='https://wandb.ai/hangtn13-ssc-national-economics-university/Bank-Marketing/runs/fr68q5zg' target=\"_blank\">https://wandb.ai/hangtn13-ssc-national-economics-university/Bank-Marketing/runs/fr68q5zg</a><br> View project at: <a href='https://wandb.ai/hangtn13-ssc-national-economics-university/Bank-Marketing' target=\"_blank\">https://wandb.ai/hangtn13-ssc-national-economics-university/Bank-Marketing</a><br>Synced 5 W&B file(s), 0 media file(s), 0 artifact file(s) and 0 other file(s)"
            ],
            "text/plain": [
              "<IPython.core.display.HTML object>"
            ]
          },
          "metadata": {},
          "output_type": "display_data"
        },
        {
          "data": {
            "text/html": [
              "Find logs at: <code>.\\wandb\\run-20250507_212845-fr68q5zg\\logs</code>"
            ],
            "text/plain": [
              "<IPython.core.display.HTML object>"
            ]
          },
          "metadata": {},
          "output_type": "display_data"
        },
        {
          "name": "stderr",
          "output_type": "stream",
          "text": [
            "\u001b[34m\u001b[1mwandb\u001b[0m: Agent Starting Run: dk9pukg2 with config:\n",
            "\u001b[34m\u001b[1mwandb\u001b[0m: \tcriterion: gini\n",
            "\u001b[34m\u001b[1mwandb\u001b[0m: \tmodel: 0\n",
            "\u001b[34m\u001b[1mwandb\u001b[0m: \trandom_state: 41\n",
            "\u001b[34m\u001b[1mwandb\u001b[0m: \tsplitter: random\n"
          ]
        },
        {
          "data": {
            "text/html": [
              "creating run (0.0s)"
            ],
            "text/plain": [
              "<IPython.core.display.HTML object>"
            ]
          },
          "metadata": {},
          "output_type": "display_data"
        },
        {
          "data": {
            "text/html": [
              "Tracking run with wandb version 0.19.9"
            ],
            "text/plain": [
              "<IPython.core.display.HTML object>"
            ]
          },
          "metadata": {},
          "output_type": "display_data"
        },
        {
          "data": {
            "text/html": [
              "Run data is saved locally in <code>d:\\DSEB\\DSEB_SEM_6\\MLOPS\\W2\\Mlops_Project_K64\\wandb\\run-20250507_212856-dk9pukg2</code>"
            ],
            "text/plain": [
              "<IPython.core.display.HTML object>"
            ]
          },
          "metadata": {},
          "output_type": "display_data"
        },
        {
          "data": {
            "text/html": [
              "Syncing run <strong><a href='https://wandb.ai/hangtn13-ssc-national-economics-university/Bank-Marketing/runs/dk9pukg2' target=\"_blank\">misunderstood-sweep-3</a></strong> to <a href='https://wandb.ai/hangtn13-ssc-national-economics-university/Bank-Marketing' target=\"_blank\">Weights & Biases</a> (<a href='https://wandb.me/developer-guide' target=\"_blank\">docs</a>)<br>Sweep page: <a href='https://wandb.ai/hangtn13-ssc-national-economics-university/Bank-Marketing/sweeps/g0ipig6b' target=\"_blank\">https://wandb.ai/hangtn13-ssc-national-economics-university/Bank-Marketing/sweeps/g0ipig6b</a>"
            ],
            "text/plain": [
              "<IPython.core.display.HTML object>"
            ]
          },
          "metadata": {},
          "output_type": "display_data"
        },
        {
          "data": {
            "text/html": [
              " View project at <a href='https://wandb.ai/hangtn13-ssc-national-economics-university/Bank-Marketing' target=\"_blank\">https://wandb.ai/hangtn13-ssc-national-economics-university/Bank-Marketing</a>"
            ],
            "text/plain": [
              "<IPython.core.display.HTML object>"
            ]
          },
          "metadata": {},
          "output_type": "display_data"
        },
        {
          "data": {
            "text/html": [
              " View sweep at <a href='https://wandb.ai/hangtn13-ssc-national-economics-university/Bank-Marketing/sweeps/g0ipig6b' target=\"_blank\">https://wandb.ai/hangtn13-ssc-national-economics-university/Bank-Marketing/sweeps/g0ipig6b</a>"
            ],
            "text/plain": [
              "<IPython.core.display.HTML object>"
            ]
          },
          "metadata": {},
          "output_type": "display_data"
        },
        {
          "data": {
            "text/html": [
              " View run at <a href='https://wandb.ai/hangtn13-ssc-national-economics-university/Bank-Marketing/runs/dk9pukg2' target=\"_blank\">https://wandb.ai/hangtn13-ssc-national-economics-university/Bank-Marketing/runs/dk9pukg2</a>"
            ],
            "text/plain": [
              "<IPython.core.display.HTML object>"
            ]
          },
          "metadata": {},
          "output_type": "display_data"
        },
        {
          "name": "stderr",
          "output_type": "stream",
          "text": [
            "07-05-2025 21:29:00 Training\n",
            "07-05-2025 21:29:00 Infering\n",
            "07-05-2025 21:29:01 Evaluation metrics\n",
            "07-05-2025 21:29:01 Accuracy: 0.8249008723235527\n",
            "07-05-2025 21:29:01 Precision: 0.284037558685446\n",
            "07-05-2025 21:29:01 Recall: 0.328804347826087\n",
            "07-05-2025 21:29:01 F1: 0.3047858942065491\n"
          ]
        },
        {
          "data": {
            "text/html": [],
            "text/plain": [
              "<IPython.core.display.HTML object>"
            ]
          },
          "metadata": {},
          "output_type": "display_data"
        },
        {
          "data": {
            "text/html": [
              "<br>    <style><br>        .wandb-row {<br>            display: flex;<br>            flex-direction: row;<br>            flex-wrap: wrap;<br>            justify-content: flex-start;<br>            width: 100%;<br>        }<br>        .wandb-col {<br>            display: flex;<br>            flex-direction: column;<br>            flex-basis: 100%;<br>            flex: 1;<br>            padding: 10px;<br>        }<br>    </style><br><div class=\"wandb-row\"><div class=\"wandb-col\"><h3>Run summary:</h3><br/><table class=\"wandb\"><tr><td>Accuracy</td><td>0.8249</td></tr><tr><td>F1</td><td>0.30479</td></tr><tr><td>Precision</td><td>0.28404</td></tr><tr><td>Recall</td><td>0.3288</td></tr></table><br/></div></div>"
            ],
            "text/plain": [
              "<IPython.core.display.HTML object>"
            ]
          },
          "metadata": {},
          "output_type": "display_data"
        },
        {
          "data": {
            "text/html": [
              " View run <strong style=\"color:#cdcd00\">misunderstood-sweep-3</strong> at: <a href='https://wandb.ai/hangtn13-ssc-national-economics-university/Bank-Marketing/runs/dk9pukg2' target=\"_blank\">https://wandb.ai/hangtn13-ssc-national-economics-university/Bank-Marketing/runs/dk9pukg2</a><br> View project at: <a href='https://wandb.ai/hangtn13-ssc-national-economics-university/Bank-Marketing' target=\"_blank\">https://wandb.ai/hangtn13-ssc-national-economics-university/Bank-Marketing</a><br>Synced 5 W&B file(s), 0 media file(s), 0 artifact file(s) and 0 other file(s)"
            ],
            "text/plain": [
              "<IPython.core.display.HTML object>"
            ]
          },
          "metadata": {},
          "output_type": "display_data"
        },
        {
          "data": {
            "text/html": [
              "Find logs at: <code>.\\wandb\\run-20250507_212856-dk9pukg2\\logs</code>"
            ],
            "text/plain": [
              "<IPython.core.display.HTML object>"
            ]
          },
          "metadata": {},
          "output_type": "display_data"
        },
        {
          "name": "stderr",
          "output_type": "stream",
          "text": [
            "\u001b[34m\u001b[1mwandb\u001b[0m: Sweep Agent: Waiting for job.\n",
            "\u001b[34m\u001b[1mwandb\u001b[0m: Job received.\n",
            "\u001b[34m\u001b[1mwandb\u001b[0m: Agent Starting Run: cfjnn9rg with config:\n",
            "\u001b[34m\u001b[1mwandb\u001b[0m: \tcriterion: entropy\n",
            "\u001b[34m\u001b[1mwandb\u001b[0m: \tmodel: 2\n",
            "\u001b[34m\u001b[1mwandb\u001b[0m: \trandom_state: 41\n",
            "\u001b[34m\u001b[1mwandb\u001b[0m: \tsplitter: best\n"
          ]
        },
        {
          "data": {
            "text/html": [
              "creating run (0.0s)"
            ],
            "text/plain": [
              "<IPython.core.display.HTML object>"
            ]
          },
          "metadata": {},
          "output_type": "display_data"
        },
        {
          "data": {
            "text/html": [
              "Tracking run with wandb version 0.19.9"
            ],
            "text/plain": [
              "<IPython.core.display.HTML object>"
            ]
          },
          "metadata": {},
          "output_type": "display_data"
        },
        {
          "data": {
            "text/html": [
              "Run data is saved locally in <code>d:\\DSEB\\DSEB_SEM_6\\MLOPS\\W2\\Mlops_Project_K64\\wandb\\run-20250507_212916-cfjnn9rg</code>"
            ],
            "text/plain": [
              "<IPython.core.display.HTML object>"
            ]
          },
          "metadata": {},
          "output_type": "display_data"
        },
        {
          "data": {
            "text/html": [
              "Syncing run <strong><a href='https://wandb.ai/hangtn13-ssc-national-economics-university/Bank-Marketing/runs/cfjnn9rg' target=\"_blank\">blooming-sweep-4</a></strong> to <a href='https://wandb.ai/hangtn13-ssc-national-economics-university/Bank-Marketing' target=\"_blank\">Weights & Biases</a> (<a href='https://wandb.me/developer-guide' target=\"_blank\">docs</a>)<br>Sweep page: <a href='https://wandb.ai/hangtn13-ssc-national-economics-university/Bank-Marketing/sweeps/g0ipig6b' target=\"_blank\">https://wandb.ai/hangtn13-ssc-national-economics-university/Bank-Marketing/sweeps/g0ipig6b</a>"
            ],
            "text/plain": [
              "<IPython.core.display.HTML object>"
            ]
          },
          "metadata": {},
          "output_type": "display_data"
        },
        {
          "data": {
            "text/html": [
              " View project at <a href='https://wandb.ai/hangtn13-ssc-national-economics-university/Bank-Marketing' target=\"_blank\">https://wandb.ai/hangtn13-ssc-national-economics-university/Bank-Marketing</a>"
            ],
            "text/plain": [
              "<IPython.core.display.HTML object>"
            ]
          },
          "metadata": {},
          "output_type": "display_data"
        },
        {
          "data": {
            "text/html": [
              " View sweep at <a href='https://wandb.ai/hangtn13-ssc-national-economics-university/Bank-Marketing/sweeps/g0ipig6b' target=\"_blank\">https://wandb.ai/hangtn13-ssc-national-economics-university/Bank-Marketing/sweeps/g0ipig6b</a>"
            ],
            "text/plain": [
              "<IPython.core.display.HTML object>"
            ]
          },
          "metadata": {},
          "output_type": "display_data"
        },
        {
          "data": {
            "text/html": [
              " View run at <a href='https://wandb.ai/hangtn13-ssc-national-economics-university/Bank-Marketing/runs/cfjnn9rg' target=\"_blank\">https://wandb.ai/hangtn13-ssc-national-economics-university/Bank-Marketing/runs/cfjnn9rg</a>"
            ],
            "text/plain": [
              "<IPython.core.display.HTML object>"
            ]
          },
          "metadata": {},
          "output_type": "display_data"
        },
        {
          "name": "stderr",
          "output_type": "stream",
          "text": [
            "07-05-2025 21:29:19 Training\n",
            "07-05-2025 21:29:20 Infering\n",
            "07-05-2025 21:29:20 Evaluation metrics\n",
            "07-05-2025 21:29:20 Accuracy: 0.8367961934972244\n",
            "07-05-2025 21:29:20 Precision: 0.3138500635324015\n",
            "07-05-2025 21:29:20 Recall: 0.33559782608695654\n",
            "07-05-2025 21:29:20 F1: 0.32435981615233095\n"
          ]
        },
        {
          "data": {
            "text/html": [],
            "text/plain": [
              "<IPython.core.display.HTML object>"
            ]
          },
          "metadata": {},
          "output_type": "display_data"
        },
        {
          "data": {
            "text/html": [
              "<br>    <style><br>        .wandb-row {<br>            display: flex;<br>            flex-direction: row;<br>            flex-wrap: wrap;<br>            justify-content: flex-start;<br>            width: 100%;<br>        }<br>        .wandb-col {<br>            display: flex;<br>            flex-direction: column;<br>            flex-basis: 100%;<br>            flex: 1;<br>            padding: 10px;<br>        }<br>    </style><br><div class=\"wandb-row\"><div class=\"wandb-col\"><h3>Run summary:</h3><br/><table class=\"wandb\"><tr><td>Accuracy</td><td>0.8368</td></tr><tr><td>F1</td><td>0.32436</td></tr><tr><td>Precision</td><td>0.31385</td></tr><tr><td>Recall</td><td>0.3356</td></tr></table><br/></div></div>"
            ],
            "text/plain": [
              "<IPython.core.display.HTML object>"
            ]
          },
          "metadata": {},
          "output_type": "display_data"
        },
        {
          "data": {
            "text/html": [
              " View run <strong style=\"color:#cdcd00\">blooming-sweep-4</strong> at: <a href='https://wandb.ai/hangtn13-ssc-national-economics-university/Bank-Marketing/runs/cfjnn9rg' target=\"_blank\">https://wandb.ai/hangtn13-ssc-national-economics-university/Bank-Marketing/runs/cfjnn9rg</a><br> View project at: <a href='https://wandb.ai/hangtn13-ssc-national-economics-university/Bank-Marketing' target=\"_blank\">https://wandb.ai/hangtn13-ssc-national-economics-university/Bank-Marketing</a><br>Synced 5 W&B file(s), 0 media file(s), 0 artifact file(s) and 0 other file(s)"
            ],
            "text/plain": [
              "<IPython.core.display.HTML object>"
            ]
          },
          "metadata": {},
          "output_type": "display_data"
        },
        {
          "data": {
            "text/html": [
              "Find logs at: <code>.\\wandb\\run-20250507_212916-cfjnn9rg\\logs</code>"
            ],
            "text/plain": [
              "<IPython.core.display.HTML object>"
            ]
          },
          "metadata": {},
          "output_type": "display_data"
        },
        {
          "name": "stderr",
          "output_type": "stream",
          "text": [
            "\u001b[34m\u001b[1mwandb\u001b[0m: Agent Starting Run: o5tgz4f4 with config:\n",
            "\u001b[34m\u001b[1mwandb\u001b[0m: \tcriterion: entropy\n",
            "\u001b[34m\u001b[1mwandb\u001b[0m: \tmodel: 1\n",
            "\u001b[34m\u001b[1mwandb\u001b[0m: \trandom_state: 41\n",
            "\u001b[34m\u001b[1mwandb\u001b[0m: \tsplitter: random\n"
          ]
        },
        {
          "data": {
            "text/html": [
              "creating run (0.0s)"
            ],
            "text/plain": [
              "<IPython.core.display.HTML object>"
            ]
          },
          "metadata": {},
          "output_type": "display_data"
        },
        {
          "data": {
            "text/html": [
              "Tracking run with wandb version 0.19.9"
            ],
            "text/plain": [
              "<IPython.core.display.HTML object>"
            ]
          },
          "metadata": {},
          "output_type": "display_data"
        },
        {
          "data": {
            "text/html": [
              "Run data is saved locally in <code>d:\\DSEB\\DSEB_SEM_6\\MLOPS\\W2\\Mlops_Project_K64\\wandb\\run-20250507_212928-o5tgz4f4</code>"
            ],
            "text/plain": [
              "<IPython.core.display.HTML object>"
            ]
          },
          "metadata": {},
          "output_type": "display_data"
        },
        {
          "data": {
            "text/html": [
              "Syncing run <strong><a href='https://wandb.ai/hangtn13-ssc-national-economics-university/Bank-Marketing/runs/o5tgz4f4' target=\"_blank\">rosy-sweep-5</a></strong> to <a href='https://wandb.ai/hangtn13-ssc-national-economics-university/Bank-Marketing' target=\"_blank\">Weights & Biases</a> (<a href='https://wandb.me/developer-guide' target=\"_blank\">docs</a>)<br>Sweep page: <a href='https://wandb.ai/hangtn13-ssc-national-economics-university/Bank-Marketing/sweeps/g0ipig6b' target=\"_blank\">https://wandb.ai/hangtn13-ssc-national-economics-university/Bank-Marketing/sweeps/g0ipig6b</a>"
            ],
            "text/plain": [
              "<IPython.core.display.HTML object>"
            ]
          },
          "metadata": {},
          "output_type": "display_data"
        },
        {
          "data": {
            "text/html": [
              " View project at <a href='https://wandb.ai/hangtn13-ssc-national-economics-university/Bank-Marketing' target=\"_blank\">https://wandb.ai/hangtn13-ssc-national-economics-university/Bank-Marketing</a>"
            ],
            "text/plain": [
              "<IPython.core.display.HTML object>"
            ]
          },
          "metadata": {},
          "output_type": "display_data"
        },
        {
          "data": {
            "text/html": [
              " View sweep at <a href='https://wandb.ai/hangtn13-ssc-national-economics-university/Bank-Marketing/sweeps/g0ipig6b' target=\"_blank\">https://wandb.ai/hangtn13-ssc-national-economics-university/Bank-Marketing/sweeps/g0ipig6b</a>"
            ],
            "text/plain": [
              "<IPython.core.display.HTML object>"
            ]
          },
          "metadata": {},
          "output_type": "display_data"
        },
        {
          "data": {
            "text/html": [
              " View run at <a href='https://wandb.ai/hangtn13-ssc-national-economics-university/Bank-Marketing/runs/o5tgz4f4' target=\"_blank\">https://wandb.ai/hangtn13-ssc-national-economics-university/Bank-Marketing/runs/o5tgz4f4</a>"
            ],
            "text/plain": [
              "<IPython.core.display.HTML object>"
            ]
          },
          "metadata": {},
          "output_type": "display_data"
        },
        {
          "name": "stderr",
          "output_type": "stream",
          "text": [
            "07-05-2025 21:29:32 Training\n",
            "07-05-2025 21:29:33 Infering\n",
            "07-05-2025 21:29:33 Evaluation metrics\n",
            "07-05-2025 21:29:33 Accuracy: 0.8367961934972244\n",
            "07-05-2025 21:29:33 Precision: 0.317103620474407\n",
            "07-05-2025 21:29:33 Recall: 0.3451086956521739\n",
            "07-05-2025 21:29:33 F1: 0.33051398828887435\n"
          ]
        },
        {
          "data": {
            "text/html": [],
            "text/plain": [
              "<IPython.core.display.HTML object>"
            ]
          },
          "metadata": {},
          "output_type": "display_data"
        },
        {
          "data": {
            "text/html": [
              "<br>    <style><br>        .wandb-row {<br>            display: flex;<br>            flex-direction: row;<br>            flex-wrap: wrap;<br>            justify-content: flex-start;<br>            width: 100%;<br>        }<br>        .wandb-col {<br>            display: flex;<br>            flex-direction: column;<br>            flex-basis: 100%;<br>            flex: 1;<br>            padding: 10px;<br>        }<br>    </style><br><div class=\"wandb-row\"><div class=\"wandb-col\"><h3>Run summary:</h3><br/><table class=\"wandb\"><tr><td>Accuracy</td><td>0.8368</td></tr><tr><td>F1</td><td>0.33051</td></tr><tr><td>Precision</td><td>0.3171</td></tr><tr><td>Recall</td><td>0.34511</td></tr></table><br/></div></div>"
            ],
            "text/plain": [
              "<IPython.core.display.HTML object>"
            ]
          },
          "metadata": {},
          "output_type": "display_data"
        },
        {
          "data": {
            "text/html": [
              " View run <strong style=\"color:#cdcd00\">rosy-sweep-5</strong> at: <a href='https://wandb.ai/hangtn13-ssc-national-economics-university/Bank-Marketing/runs/o5tgz4f4' target=\"_blank\">https://wandb.ai/hangtn13-ssc-national-economics-university/Bank-Marketing/runs/o5tgz4f4</a><br> View project at: <a href='https://wandb.ai/hangtn13-ssc-national-economics-university/Bank-Marketing' target=\"_blank\">https://wandb.ai/hangtn13-ssc-national-economics-university/Bank-Marketing</a><br>Synced 5 W&B file(s), 0 media file(s), 0 artifact file(s) and 0 other file(s)"
            ],
            "text/plain": [
              "<IPython.core.display.HTML object>"
            ]
          },
          "metadata": {},
          "output_type": "display_data"
        },
        {
          "data": {
            "text/html": [
              "Find logs at: <code>.\\wandb\\run-20250507_212928-o5tgz4f4\\logs</code>"
            ],
            "text/plain": [
              "<IPython.core.display.HTML object>"
            ]
          },
          "metadata": {},
          "output_type": "display_data"
        },
        {
          "name": "stderr",
          "output_type": "stream",
          "text": [
            "\u001b[34m\u001b[1mwandb\u001b[0m: Sweep Agent: Waiting for job.\n",
            "\u001b[34m\u001b[1mwandb\u001b[0m: Job received.\n",
            "\u001b[34m\u001b[1mwandb\u001b[0m: Agent Starting Run: pn1uns64 with config:\n",
            "\u001b[34m\u001b[1mwandb\u001b[0m: \tcriterion: gini\n",
            "\u001b[34m\u001b[1mwandb\u001b[0m: \tmodel: 1\n",
            "\u001b[34m\u001b[1mwandb\u001b[0m: \trandom_state: 41\n",
            "\u001b[34m\u001b[1mwandb\u001b[0m: \tsplitter: best\n"
          ]
        },
        {
          "data": {
            "text/html": [
              "creating run (0.0s)"
            ],
            "text/plain": [
              "<IPython.core.display.HTML object>"
            ]
          },
          "metadata": {},
          "output_type": "display_data"
        },
        {
          "data": {
            "text/html": [
              "Tracking run with wandb version 0.19.9"
            ],
            "text/plain": [
              "<IPython.core.display.HTML object>"
            ]
          },
          "metadata": {},
          "output_type": "display_data"
        },
        {
          "data": {
            "text/html": [
              "Run data is saved locally in <code>d:\\DSEB\\DSEB_SEM_6\\MLOPS\\W2\\Mlops_Project_K64\\wandb\\run-20250507_212949-pn1uns64</code>"
            ],
            "text/plain": [
              "<IPython.core.display.HTML object>"
            ]
          },
          "metadata": {},
          "output_type": "display_data"
        },
        {
          "data": {
            "text/html": [
              "Syncing run <strong><a href='https://wandb.ai/hangtn13-ssc-national-economics-university/Bank-Marketing/runs/pn1uns64' target=\"_blank\">magic-sweep-6</a></strong> to <a href='https://wandb.ai/hangtn13-ssc-national-economics-university/Bank-Marketing' target=\"_blank\">Weights & Biases</a> (<a href='https://wandb.me/developer-guide' target=\"_blank\">docs</a>)<br>Sweep page: <a href='https://wandb.ai/hangtn13-ssc-national-economics-university/Bank-Marketing/sweeps/g0ipig6b' target=\"_blank\">https://wandb.ai/hangtn13-ssc-national-economics-university/Bank-Marketing/sweeps/g0ipig6b</a>"
            ],
            "text/plain": [
              "<IPython.core.display.HTML object>"
            ]
          },
          "metadata": {},
          "output_type": "display_data"
        },
        {
          "data": {
            "text/html": [
              " View project at <a href='https://wandb.ai/hangtn13-ssc-national-economics-university/Bank-Marketing' target=\"_blank\">https://wandb.ai/hangtn13-ssc-national-economics-university/Bank-Marketing</a>"
            ],
            "text/plain": [
              "<IPython.core.display.HTML object>"
            ]
          },
          "metadata": {},
          "output_type": "display_data"
        },
        {
          "data": {
            "text/html": [
              " View sweep at <a href='https://wandb.ai/hangtn13-ssc-national-economics-university/Bank-Marketing/sweeps/g0ipig6b' target=\"_blank\">https://wandb.ai/hangtn13-ssc-national-economics-university/Bank-Marketing/sweeps/g0ipig6b</a>"
            ],
            "text/plain": [
              "<IPython.core.display.HTML object>"
            ]
          },
          "metadata": {},
          "output_type": "display_data"
        },
        {
          "data": {
            "text/html": [
              " View run at <a href='https://wandb.ai/hangtn13-ssc-national-economics-university/Bank-Marketing/runs/pn1uns64' target=\"_blank\">https://wandb.ai/hangtn13-ssc-national-economics-university/Bank-Marketing/runs/pn1uns64</a>"
            ],
            "text/plain": [
              "<IPython.core.display.HTML object>"
            ]
          },
          "metadata": {},
          "output_type": "display_data"
        },
        {
          "name": "stderr",
          "output_type": "stream",
          "text": [
            "07-05-2025 21:29:53 Training\n",
            "07-05-2025 21:29:54 Infering\n",
            "07-05-2025 21:29:54 Evaluation metrics\n",
            "07-05-2025 21:29:54 Accuracy: 0.8301348136399683\n",
            "07-05-2025 21:29:54 Precision: 0.300357568533969\n",
            "07-05-2025 21:29:54 Recall: 0.3423913043478261\n",
            "07-05-2025 21:29:54 F1: 0.31999999999999995\n"
          ]
        },
        {
          "data": {
            "text/html": [],
            "text/plain": [
              "<IPython.core.display.HTML object>"
            ]
          },
          "metadata": {},
          "output_type": "display_data"
        },
        {
          "data": {
            "text/html": [
              "<br>    <style><br>        .wandb-row {<br>            display: flex;<br>            flex-direction: row;<br>            flex-wrap: wrap;<br>            justify-content: flex-start;<br>            width: 100%;<br>        }<br>        .wandb-col {<br>            display: flex;<br>            flex-direction: column;<br>            flex-basis: 100%;<br>            flex: 1;<br>            padding: 10px;<br>        }<br>    </style><br><div class=\"wandb-row\"><div class=\"wandb-col\"><h3>Run summary:</h3><br/><table class=\"wandb\"><tr><td>Accuracy</td><td>0.83013</td></tr><tr><td>F1</td><td>0.32</td></tr><tr><td>Precision</td><td>0.30036</td></tr><tr><td>Recall</td><td>0.34239</td></tr></table><br/></div></div>"
            ],
            "text/plain": [
              "<IPython.core.display.HTML object>"
            ]
          },
          "metadata": {},
          "output_type": "display_data"
        },
        {
          "data": {
            "text/html": [
              " View run <strong style=\"color:#cdcd00\">magic-sweep-6</strong> at: <a href='https://wandb.ai/hangtn13-ssc-national-economics-university/Bank-Marketing/runs/pn1uns64' target=\"_blank\">https://wandb.ai/hangtn13-ssc-national-economics-university/Bank-Marketing/runs/pn1uns64</a><br> View project at: <a href='https://wandb.ai/hangtn13-ssc-national-economics-university/Bank-Marketing' target=\"_blank\">https://wandb.ai/hangtn13-ssc-national-economics-university/Bank-Marketing</a><br>Synced 5 W&B file(s), 0 media file(s), 0 artifact file(s) and 0 other file(s)"
            ],
            "text/plain": [
              "<IPython.core.display.HTML object>"
            ]
          },
          "metadata": {},
          "output_type": "display_data"
        },
        {
          "data": {
            "text/html": [
              "Find logs at: <code>.\\wandb\\run-20250507_212949-pn1uns64\\logs</code>"
            ],
            "text/plain": [
              "<IPython.core.display.HTML object>"
            ]
          },
          "metadata": {},
          "output_type": "display_data"
        },
        {
          "name": "stderr",
          "output_type": "stream",
          "text": [
            "\u001b[34m\u001b[1mwandb\u001b[0m: Agent Starting Run: 26zfo8vv with config:\n",
            "\u001b[34m\u001b[1mwandb\u001b[0m: \tcriterion: entropy\n",
            "\u001b[34m\u001b[1mwandb\u001b[0m: \tmodel: 0\n",
            "\u001b[34m\u001b[1mwandb\u001b[0m: \trandom_state: 41\n",
            "\u001b[34m\u001b[1mwandb\u001b[0m: \tsplitter: best\n"
          ]
        },
        {
          "data": {
            "text/html": [
              "creating run (0.0s)"
            ],
            "text/plain": [
              "<IPython.core.display.HTML object>"
            ]
          },
          "metadata": {},
          "output_type": "display_data"
        },
        {
          "data": {
            "text/html": [
              "Tracking run with wandb version 0.19.9"
            ],
            "text/plain": [
              "<IPython.core.display.HTML object>"
            ]
          },
          "metadata": {},
          "output_type": "display_data"
        },
        {
          "data": {
            "text/html": [
              "Run data is saved locally in <code>d:\\DSEB\\DSEB_SEM_6\\MLOPS\\W2\\Mlops_Project_K64\\wandb\\run-20250507_213000-26zfo8vv</code>"
            ],
            "text/plain": [
              "<IPython.core.display.HTML object>"
            ]
          },
          "metadata": {},
          "output_type": "display_data"
        },
        {
          "data": {
            "text/html": [
              "Syncing run <strong><a href='https://wandb.ai/hangtn13-ssc-national-economics-university/Bank-Marketing/runs/26zfo8vv' target=\"_blank\">electric-sweep-7</a></strong> to <a href='https://wandb.ai/hangtn13-ssc-national-economics-university/Bank-Marketing' target=\"_blank\">Weights & Biases</a> (<a href='https://wandb.me/developer-guide' target=\"_blank\">docs</a>)<br>Sweep page: <a href='https://wandb.ai/hangtn13-ssc-national-economics-university/Bank-Marketing/sweeps/g0ipig6b' target=\"_blank\">https://wandb.ai/hangtn13-ssc-national-economics-university/Bank-Marketing/sweeps/g0ipig6b</a>"
            ],
            "text/plain": [
              "<IPython.core.display.HTML object>"
            ]
          },
          "metadata": {},
          "output_type": "display_data"
        },
        {
          "data": {
            "text/html": [
              " View project at <a href='https://wandb.ai/hangtn13-ssc-national-economics-university/Bank-Marketing' target=\"_blank\">https://wandb.ai/hangtn13-ssc-national-economics-university/Bank-Marketing</a>"
            ],
            "text/plain": [
              "<IPython.core.display.HTML object>"
            ]
          },
          "metadata": {},
          "output_type": "display_data"
        },
        {
          "data": {
            "text/html": [
              " View sweep at <a href='https://wandb.ai/hangtn13-ssc-national-economics-university/Bank-Marketing/sweeps/g0ipig6b' target=\"_blank\">https://wandb.ai/hangtn13-ssc-national-economics-university/Bank-Marketing/sweeps/g0ipig6b</a>"
            ],
            "text/plain": [
              "<IPython.core.display.HTML object>"
            ]
          },
          "metadata": {},
          "output_type": "display_data"
        },
        {
          "data": {
            "text/html": [
              " View run at <a href='https://wandb.ai/hangtn13-ssc-national-economics-university/Bank-Marketing/runs/26zfo8vv' target=\"_blank\">https://wandb.ai/hangtn13-ssc-national-economics-university/Bank-Marketing/runs/26zfo8vv</a>"
            ],
            "text/plain": [
              "<IPython.core.display.HTML object>"
            ]
          },
          "metadata": {},
          "output_type": "display_data"
        },
        {
          "name": "stderr",
          "output_type": "stream",
          "text": [
            "07-05-2025 21:30:04 Training\n",
            "07-05-2025 21:30:05 Infering\n",
            "07-05-2025 21:30:05 Evaluation metrics\n",
            "07-05-2025 21:30:05 Accuracy: 0.8363203806502776\n",
            "07-05-2025 21:30:05 Precision: 0.31265822784810127\n",
            "07-05-2025 21:30:05 Recall: 0.33559782608695654\n",
            "07-05-2025 21:30:05 F1: 0.3237221494102228\n"
          ]
        },
        {
          "data": {
            "text/html": [],
            "text/plain": [
              "<IPython.core.display.HTML object>"
            ]
          },
          "metadata": {},
          "output_type": "display_data"
        },
        {
          "data": {
            "text/html": [
              "<br>    <style><br>        .wandb-row {<br>            display: flex;<br>            flex-direction: row;<br>            flex-wrap: wrap;<br>            justify-content: flex-start;<br>            width: 100%;<br>        }<br>        .wandb-col {<br>            display: flex;<br>            flex-direction: column;<br>            flex-basis: 100%;<br>            flex: 1;<br>            padding: 10px;<br>        }<br>    </style><br><div class=\"wandb-row\"><div class=\"wandb-col\"><h3>Run summary:</h3><br/><table class=\"wandb\"><tr><td>Accuracy</td><td>0.83632</td></tr><tr><td>F1</td><td>0.32372</td></tr><tr><td>Precision</td><td>0.31266</td></tr><tr><td>Recall</td><td>0.3356</td></tr></table><br/></div></div>"
            ],
            "text/plain": [
              "<IPython.core.display.HTML object>"
            ]
          },
          "metadata": {},
          "output_type": "display_data"
        },
        {
          "data": {
            "text/html": [
              " View run <strong style=\"color:#cdcd00\">electric-sweep-7</strong> at: <a href='https://wandb.ai/hangtn13-ssc-national-economics-university/Bank-Marketing/runs/26zfo8vv' target=\"_blank\">https://wandb.ai/hangtn13-ssc-national-economics-university/Bank-Marketing/runs/26zfo8vv</a><br> View project at: <a href='https://wandb.ai/hangtn13-ssc-national-economics-university/Bank-Marketing' target=\"_blank\">https://wandb.ai/hangtn13-ssc-national-economics-university/Bank-Marketing</a><br>Synced 5 W&B file(s), 0 media file(s), 0 artifact file(s) and 0 other file(s)"
            ],
            "text/plain": [
              "<IPython.core.display.HTML object>"
            ]
          },
          "metadata": {},
          "output_type": "display_data"
        },
        {
          "data": {
            "text/html": [
              "Find logs at: <code>.\\wandb\\run-20250507_213000-26zfo8vv\\logs</code>"
            ],
            "text/plain": [
              "<IPython.core.display.HTML object>"
            ]
          },
          "metadata": {},
          "output_type": "display_data"
        },
        {
          "name": "stderr",
          "output_type": "stream",
          "text": [
            "\u001b[34m\u001b[1mwandb\u001b[0m: Agent Starting Run: 2lwwoxh0 with config:\n",
            "\u001b[34m\u001b[1mwandb\u001b[0m: \tcriterion: entropy\n",
            "\u001b[34m\u001b[1mwandb\u001b[0m: \tmodel: 2\n",
            "\u001b[34m\u001b[1mwandb\u001b[0m: \trandom_state: 41\n",
            "\u001b[34m\u001b[1mwandb\u001b[0m: \tsplitter: best\n"
          ]
        },
        {
          "data": {
            "text/html": [
              "creating run (0.5s)"
            ],
            "text/plain": [
              "<IPython.core.display.HTML object>"
            ]
          },
          "metadata": {},
          "output_type": "display_data"
        },
        {
          "data": {
            "text/html": [
              "Tracking run with wandb version 0.19.9"
            ],
            "text/plain": [
              "<IPython.core.display.HTML object>"
            ]
          },
          "metadata": {},
          "output_type": "display_data"
        },
        {
          "data": {
            "text/html": [
              "Run data is saved locally in <code>d:\\DSEB\\DSEB_SEM_6\\MLOPS\\W2\\Mlops_Project_K64\\wandb\\run-20250507_213011-2lwwoxh0</code>"
            ],
            "text/plain": [
              "<IPython.core.display.HTML object>"
            ]
          },
          "metadata": {},
          "output_type": "display_data"
        },
        {
          "data": {
            "text/html": [
              "Syncing run <strong><a href='https://wandb.ai/hangtn13-ssc-national-economics-university/Bank-Marketing/runs/2lwwoxh0' target=\"_blank\">clear-sweep-8</a></strong> to <a href='https://wandb.ai/hangtn13-ssc-national-economics-university/Bank-Marketing' target=\"_blank\">Weights & Biases</a> (<a href='https://wandb.me/developer-guide' target=\"_blank\">docs</a>)<br>Sweep page: <a href='https://wandb.ai/hangtn13-ssc-national-economics-university/Bank-Marketing/sweeps/g0ipig6b' target=\"_blank\">https://wandb.ai/hangtn13-ssc-national-economics-university/Bank-Marketing/sweeps/g0ipig6b</a>"
            ],
            "text/plain": [
              "<IPython.core.display.HTML object>"
            ]
          },
          "metadata": {},
          "output_type": "display_data"
        },
        {
          "data": {
            "text/html": [
              " View project at <a href='https://wandb.ai/hangtn13-ssc-national-economics-university/Bank-Marketing' target=\"_blank\">https://wandb.ai/hangtn13-ssc-national-economics-university/Bank-Marketing</a>"
            ],
            "text/plain": [
              "<IPython.core.display.HTML object>"
            ]
          },
          "metadata": {},
          "output_type": "display_data"
        },
        {
          "data": {
            "text/html": [
              " View sweep at <a href='https://wandb.ai/hangtn13-ssc-national-economics-university/Bank-Marketing/sweeps/g0ipig6b' target=\"_blank\">https://wandb.ai/hangtn13-ssc-national-economics-university/Bank-Marketing/sweeps/g0ipig6b</a>"
            ],
            "text/plain": [
              "<IPython.core.display.HTML object>"
            ]
          },
          "metadata": {},
          "output_type": "display_data"
        },
        {
          "data": {
            "text/html": [
              " View run at <a href='https://wandb.ai/hangtn13-ssc-national-economics-university/Bank-Marketing/runs/2lwwoxh0' target=\"_blank\">https://wandb.ai/hangtn13-ssc-national-economics-university/Bank-Marketing/runs/2lwwoxh0</a>"
            ],
            "text/plain": [
              "<IPython.core.display.HTML object>"
            ]
          },
          "metadata": {},
          "output_type": "display_data"
        },
        {
          "name": "stderr",
          "output_type": "stream",
          "text": [
            "07-05-2025 21:30:15 Training\n",
            "07-05-2025 21:30:16 Infering\n",
            "07-05-2025 21:30:16 Evaluation metrics\n",
            "07-05-2025 21:30:16 Accuracy: 0.8367961934972244\n",
            "07-05-2025 21:30:16 Precision: 0.3138500635324015\n",
            "07-05-2025 21:30:16 Recall: 0.33559782608695654\n",
            "07-05-2025 21:30:16 F1: 0.32435981615233095\n"
          ]
        },
        {
          "data": {
            "text/html": [],
            "text/plain": [
              "<IPython.core.display.HTML object>"
            ]
          },
          "metadata": {},
          "output_type": "display_data"
        },
        {
          "data": {
            "text/html": [
              "<br>    <style><br>        .wandb-row {<br>            display: flex;<br>            flex-direction: row;<br>            flex-wrap: wrap;<br>            justify-content: flex-start;<br>            width: 100%;<br>        }<br>        .wandb-col {<br>            display: flex;<br>            flex-direction: column;<br>            flex-basis: 100%;<br>            flex: 1;<br>            padding: 10px;<br>        }<br>    </style><br><div class=\"wandb-row\"><div class=\"wandb-col\"><h3>Run summary:</h3><br/><table class=\"wandb\"><tr><td>Accuracy</td><td>0.8368</td></tr><tr><td>F1</td><td>0.32436</td></tr><tr><td>Precision</td><td>0.31385</td></tr><tr><td>Recall</td><td>0.3356</td></tr></table><br/></div></div>"
            ],
            "text/plain": [
              "<IPython.core.display.HTML object>"
            ]
          },
          "metadata": {},
          "output_type": "display_data"
        },
        {
          "data": {
            "text/html": [
              " View run <strong style=\"color:#cdcd00\">clear-sweep-8</strong> at: <a href='https://wandb.ai/hangtn13-ssc-national-economics-university/Bank-Marketing/runs/2lwwoxh0' target=\"_blank\">https://wandb.ai/hangtn13-ssc-national-economics-university/Bank-Marketing/runs/2lwwoxh0</a><br> View project at: <a href='https://wandb.ai/hangtn13-ssc-national-economics-university/Bank-Marketing' target=\"_blank\">https://wandb.ai/hangtn13-ssc-national-economics-university/Bank-Marketing</a><br>Synced 5 W&B file(s), 0 media file(s), 0 artifact file(s) and 0 other file(s)"
            ],
            "text/plain": [
              "<IPython.core.display.HTML object>"
            ]
          },
          "metadata": {},
          "output_type": "display_data"
        },
        {
          "data": {
            "text/html": [
              "Find logs at: <code>.\\wandb\\run-20250507_213011-2lwwoxh0\\logs</code>"
            ],
            "text/plain": [
              "<IPython.core.display.HTML object>"
            ]
          },
          "metadata": {},
          "output_type": "display_data"
        }
      ],
      "source": [
        "wandb.agent(sweep_id, train, count=8)"
      ]
    },
    {
      "cell_type": "markdown",
      "metadata": {
        "id": "HKRubLTMopvR"
      },
      "source": [
        "## 1.7 Configure and train the best model"
      ]
    },
    {
      "cell_type": "code",
      "execution_count": 123,
      "metadata": {
        "id": "IGYp599tSSfO"
      },
      "outputs": [
        {
          "data": {
            "text/html": [
              "Changes to your `wandb` environment variables will be ignored because your `wandb` session has already started. For more information on how to modify your settings with `wandb.init()` arguments, please refer to <a href='https://wandb.me/wandb-init' target=\"_blank\">the W&B docs</a>."
            ],
            "text/plain": [
              "<IPython.core.display.HTML object>"
            ]
          },
          "metadata": {},
          "output_type": "display_data"
        },
        {
          "data": {
            "text/html": [
              "Ignoring project 'Bank-Marketing' when running a sweep."
            ],
            "text/plain": [
              "<IPython.core.display.HTML object>"
            ]
          },
          "metadata": {},
          "output_type": "display_data"
        },
        {
          "data": {
            "text/html": [
              "Tracking run with wandb version 0.19.9"
            ],
            "text/plain": [
              "<IPython.core.display.HTML object>"
            ]
          },
          "metadata": {},
          "output_type": "display_data"
        },
        {
          "data": {
            "text/html": [
              "Run data is saved locally in <code>d:\\DSEB\\DSEB_SEM_6\\MLOPS\\W2\\Mlops_Project_K64\\wandb\\run-20250507_213018-2lwwoxh0</code>"
            ],
            "text/plain": [
              "<IPython.core.display.HTML object>"
            ]
          },
          "metadata": {},
          "output_type": "display_data"
        },
        {
          "data": {
            "text/html": [
              "Syncing run <strong><a href='https://wandb.ai/hangtn13-ssc-national-economics-university/Bank-Marketing/runs/2lwwoxh0' target=\"_blank\">clear-sweep-8</a></strong> to <a href='https://wandb.ai/hangtn13-ssc-national-economics-university/Bank-Marketing' target=\"_blank\">Weights & Biases</a> (<a href='https://wandb.me/developer-guide' target=\"_blank\">docs</a>)<br>Sweep page: <a href='https://wandb.ai/hangtn13-ssc-national-economics-university/Bank-Marketing/sweeps/g0ipig6b' target=\"_blank\">https://wandb.ai/hangtn13-ssc-national-economics-university/Bank-Marketing/sweeps/g0ipig6b</a>"
            ],
            "text/plain": [
              "<IPython.core.display.HTML object>"
            ]
          },
          "metadata": {},
          "output_type": "display_data"
        },
        {
          "data": {
            "text/html": [
              " View project at <a href='https://wandb.ai/hangtn13-ssc-national-economics-university/Bank-Marketing' target=\"_blank\">https://wandb.ai/hangtn13-ssc-national-economics-university/Bank-Marketing</a>"
            ],
            "text/plain": [
              "<IPython.core.display.HTML object>"
            ]
          },
          "metadata": {},
          "output_type": "display_data"
        },
        {
          "data": {
            "text/html": [
              " View sweep at <a href='https://wandb.ai/hangtn13-ssc-national-economics-university/Bank-Marketing/sweeps/g0ipig6b' target=\"_blank\">https://wandb.ai/hangtn13-ssc-national-economics-university/Bank-Marketing/sweeps/g0ipig6b</a>"
            ],
            "text/plain": [
              "<IPython.core.display.HTML object>"
            ]
          },
          "metadata": {},
          "output_type": "display_data"
        },
        {
          "data": {
            "text/html": [
              " View run at <a href='https://wandb.ai/hangtn13-ssc-national-economics-university/Bank-Marketing/runs/2lwwoxh0' target=\"_blank\">https://wandb.ai/hangtn13-ssc-national-economics-university/Bank-Marketing/runs/2lwwoxh0</a>"
            ],
            "text/plain": [
              "<IPython.core.display.HTML object>"
            ]
          },
          "metadata": {},
          "output_type": "display_data"
        }
      ],
      "source": [
        "#Note that a new run is yet synced to last sweep run \n",
        "# Just to check\n",
        "run = wandb.init(project=\"Bank-Marketing\")"
      ]
    },
    {
      "cell_type": "markdown",
      "metadata": {
        "id": "WlDpHMw8SBJ5"
      },
      "source": [
        "<font color=\"red\">Important</font> to restart the colab to unlink a new experiment (run) with the last ```sweep``` experiment. \n",
        "\n",
        "```\n",
        "Runtime >> Factory reset runtime\n",
        "```\n",
        "> Re-run all cells except for: ```1.5``` and ```1.6```. "
      ]
    },
    {
      "cell_type": "code",
      "execution_count": 124,
      "metadata": {
        "id": "UV3uATIHHxsR"
      },
      "outputs": [],
      "source": [
        "# initiate the wandb project\n",
        "#run = wandb.init(project=\"risk_credit\",job_type=\"train\")"
      ]
    },
    {
      "cell_type": "code",
      "execution_count": 125,
      "metadata": {
        "colab": {
          "base_uri": "https://localhost:8080/"
        },
        "id": "suQFb9M5HM1t",
        "outputId": "e531bd5c-fe8e-43e4-df46-8ff294de4bac"
      },
      "outputs": [
        {
          "name": "stderr",
          "output_type": "stream",
          "text": [
            "07-05-2025 21:30:20 Training\n"
          ]
        },
        {
          "name": "stderr",
          "output_type": "stream",
          "text": [
            "07-05-2025 21:30:21 Infering\n",
            "07-05-2025 21:30:21 Evaluation metrics\n",
            "07-05-2025 21:30:21 Accuracy: 0.8367961934972244\n",
            "07-05-2025 21:30:21 Precision: 0.317103620474407\n",
            "07-05-2025 21:30:21 Recall: 0.3451086956521739\n",
            "07-05-2025 21:30:21 F1: 0.33051398828887435\n"
          ]
        }
      ],
      "source": [
        "# The full pipeline \n",
        "pipe = Pipeline(steps = [('full_pipeline', full_pipeline_preprocessing),\n",
        "                         (\"classifier\",DecisionTreeClassifier())\n",
        "                         ]\n",
        "                )\n",
        "\n",
        "# update the parameters of the pipeline that we would like to tuning\n",
        "pipe.set_params(**{\"full_pipeline__num_pipeline__num_transformer__model\": 2})\n",
        "pipe.set_params(**{\"classifier__criterion\": 'entropy'})\n",
        "pipe.set_params(**{\"classifier__splitter\": 'random'})\n",
        "pipe.set_params(**{\"classifier__random_state\": 41})\n",
        "\n",
        "\n",
        "\n",
        "# training\n",
        "logger.info(\"Training\")\n",
        "pipe.fit(x_train, y_train)\n",
        "\n",
        "# predict\n",
        "logger.info(\"Infering\")\n",
        "predict = pipe.predict(x_val)\n",
        "\n",
        "# Evaluation Metrics\n",
        "logger.info(\"Evaluation metrics\")\n",
        "fbeta = fbeta_score(y_val, predict, beta=1, zero_division=1)\n",
        "precision = precision_score(y_val, predict, zero_division=1)\n",
        "recall = recall_score(y_val, predict, zero_division=1)\n",
        "acc = accuracy_score(y_val, predict)\n",
        "\n",
        "logger.info(\"Accuracy: {}\".format(acc))\n",
        "logger.info(\"Precision: {}\".format(precision))\n",
        "logger.info(\"Recall: {}\".format(recall))\n",
        "logger.info(\"F1: {}\".format(fbeta))\n",
        "\n",
        "run.summary[\"Acc\"] = acc\n",
        "run.summary[\"Precision\"] = precision\n",
        "run.summary[\"Recall\"] = recall\n",
        "run.summary[\"F1\"] = fbeta"
      ]
    },
    {
      "cell_type": "code",
      "execution_count": 126,
      "metadata": {
        "colab": {
          "base_uri": "https://localhost:8080/"
        },
        "id": "CD_vARrbIXv9",
        "outputId": "4c7d1e7c-979b-49b9-915d-2307787c9872"
      },
      "outputs": [
        {
          "data": {
            "text/plain": [
              "['job_blue-collar',\n",
              " 'job_entrepreneur',\n",
              " 'job_housemaid',\n",
              " 'job_management',\n",
              " 'job_retired',\n",
              " 'job_self-employed',\n",
              " 'job_services',\n",
              " 'job_student',\n",
              " 'job_technician',\n",
              " 'job_unemployed',\n",
              " 'job_unknown',\n",
              " 'marital_married',\n",
              " 'marital_single',\n",
              " 'marital_unknown',\n",
              " 'education_0',\n",
              " 'education_4',\n",
              " 'education_6',\n",
              " 'education_9',\n",
              " 'education_12',\n",
              " 'education_16',\n",
              " 'education_19',\n",
              " 'default_unknown',\n",
              " 'default_yes',\n",
              " 'housing_unknown',\n",
              " 'housing_yes',\n",
              " 'loan_unknown',\n",
              " 'loan_yes',\n",
              " 'contact_telephone',\n",
              " 'poutcome_nonexistent',\n",
              " 'poutcome_success']"
            ]
          },
          "execution_count": 126,
          "metadata": {},
          "output_type": "execute_result"
        }
      ],
      "source": [
        "# Get categorical column names\n",
        "cat_names = pipe.named_steps['full_pipeline'].get_params()[\"cat_pipeline\"][3].get_feature_names_out().tolist()\n",
        "cat_names"
      ]
    },
    {
      "cell_type": "code",
      "execution_count": 127,
      "metadata": {
        "colab": {
          "base_uri": "https://localhost:8080/"
        },
        "id": "g1SkdIXBIXv-",
        "outputId": "12911cef-9ca6-4602-89ff-7ab4d1e82640"
      },
      "outputs": [
        {
          "data": {
            "text/plain": [
              "['age',\n",
              " 'month',\n",
              " 'day_of_week',\n",
              " 'campaign',\n",
              " 'pdays',\n",
              " 'previous',\n",
              " 'emp_var_rate',\n",
              " 'cons_price_idx',\n",
              " 'cons_conf_idx',\n",
              " 'euribor3m',\n",
              " 'nr_employed',\n",
              " 'pdays_contacted_status']"
            ]
          },
          "execution_count": 127,
          "metadata": {},
          "output_type": "execute_result"
        }
      ],
      "source": [
        "# Get numerical column names\n",
        "num_names = pipe.named_steps['full_pipeline'].get_params()[\"num_pipeline\"][2].get_feature_names_out()\n",
        "num_names"
      ]
    },
    {
      "cell_type": "code",
      "execution_count": 128,
      "metadata": {
        "colab": {
          "base_uri": "https://localhost:8080/"
        },
        "id": "PYhk1nW4IXv-",
        "outputId": "743b281e-0291-47cb-c994-b3c56e3952c3"
      },
      "outputs": [
        {
          "data": {
            "text/plain": [
              "['job_blue-collar',\n",
              " 'job_entrepreneur',\n",
              " 'job_housemaid',\n",
              " 'job_management',\n",
              " 'job_retired',\n",
              " 'job_self-employed',\n",
              " 'job_services',\n",
              " 'job_student',\n",
              " 'job_technician',\n",
              " 'job_unemployed',\n",
              " 'job_unknown',\n",
              " 'marital_married',\n",
              " 'marital_single',\n",
              " 'marital_unknown',\n",
              " 'education_0',\n",
              " 'education_4',\n",
              " 'education_6',\n",
              " 'education_9',\n",
              " 'education_12',\n",
              " 'education_16',\n",
              " 'education_19',\n",
              " 'default_unknown',\n",
              " 'default_yes',\n",
              " 'housing_unknown',\n",
              " 'housing_yes',\n",
              " 'loan_unknown',\n",
              " 'loan_yes',\n",
              " 'contact_telephone',\n",
              " 'poutcome_nonexistent',\n",
              " 'poutcome_success',\n",
              " 'age',\n",
              " 'month',\n",
              " 'day_of_week',\n",
              " 'campaign',\n",
              " 'pdays',\n",
              " 'previous',\n",
              " 'emp_var_rate',\n",
              " 'cons_price_idx',\n",
              " 'cons_conf_idx',\n",
              " 'euribor3m',\n",
              " 'nr_employed',\n",
              " 'pdays_contacted_status']"
            ]
          },
          "execution_count": 128,
          "metadata": {},
          "output_type": "execute_result"
        }
      ],
      "source": [
        "# merge all column names together\n",
        "all_names = cat_names + num_names\n",
        "all_names"
      ]
    },
    {
      "cell_type": "code",
      "execution_count": 129,
      "metadata": {
        "colab": {
          "base_uri": "https://localhost:8080/"
        },
        "id": "nJwRFzuaIXv-",
        "outputId": "8da45cec-a60f-447f-e6a3-a4cf0d6bf263"
      },
      "outputs": [
        {
          "name": "stderr",
          "output_type": "stream",
          "text": [
            "\u001b[34m\u001b[1mwandb\u001b[0m: \n",
            "\u001b[34m\u001b[1mwandb\u001b[0m: Plotting BestModel.\n",
            "\u001b[34m\u001b[1mwandb\u001b[0m: Logged feature importances.\n",
            "\u001b[34m\u001b[1mwandb\u001b[0m: Logged confusion matrix.\n",
            "\u001b[34m\u001b[1mwandb\u001b[0m: Logged summary metrics.\n",
            "\u001b[34m\u001b[1mwandb\u001b[0m: Logged class proportions.\n",
            "c:\\Users\\Admin\\miniconda3\\envs\\bankmkt\\lib\\site-packages\\sklearn\\linear_model\\_logistic.py:814: ConvergenceWarning: lbfgs failed to converge (status=1):\n",
            "STOP: TOTAL NO. of ITERATIONS REACHED LIMIT.\n",
            "\n",
            "Increase the number of iterations (max_iter) or scale the data as shown in:\n",
            "    https://scikit-learn.org/stable/modules/preprocessing.html\n",
            "Please also refer to the documentation for alternative solver options:\n",
            "    https://scikit-learn.org/stable/modules/linear_model.html#logistic-regression\n",
            "  n_iter_i = _check_optimize_result(\n",
            "\u001b[34m\u001b[1mwandb\u001b[0m: Logged calibration curve.\n",
            "\u001b[34m\u001b[1mwandb\u001b[0m: Logged roc curve.\n",
            "\u001b[34m\u001b[1mwandb\u001b[0m: Logged precision-recall curve.\n"
          ]
        }
      ],
      "source": [
        "# Visualize all classifier plots\n",
        "# For a complete documentation please see: https://docs.wandb.ai/guides/integrations/scikit\n",
        "wandb.sklearn.plot_classifier(pipe.get_params()[\"classifier\"],\n",
        "                              full_pipeline_preprocessing.transform(x_train),\n",
        "                              full_pipeline_preprocessing.transform(x_val),\n",
        "                              y_train,\n",
        "                              y_val,\n",
        "                              predict,\n",
        "                              pipe.predict_proba(x_val),\n",
        "                              [0,1],\n",
        "                              model_name='BestModel', feature_names=all_names)"
      ]
    },
    {
      "cell_type": "markdown",
      "metadata": {
        "id": "zdJlBFpQy60F"
      },
      "source": [
        "## 1.8 Export the best model"
      ]
    },
    {
      "cell_type": "code",
      "execution_count": 130,
      "metadata": {
        "id": "-5KDt6Pu0Xo8"
      },
      "outputs": [],
      "source": [
        "# types and names of the artifacts\n",
        "artifact_type = \"inference_artifact\"\n",
        "artifact_encoder = \"target_encoder\"\n",
        "artifact_model = \"model_export\""
      ]
    },
    {
      "cell_type": "code",
      "execution_count": 131,
      "metadata": {
        "colab": {
          "base_uri": "https://localhost:8080/"
        },
        "id": "BEIC9zC55mP5",
        "outputId": "a620db27-6c9e-4a9a-e54a-befb49eccc90"
      },
      "outputs": [
        {
          "name": "stderr",
          "output_type": "stream",
          "text": [
            "07-05-2025 21:30:31 Dumping the artifacts to disk\n"
          ]
        },
        {
          "data": {
            "text/plain": [
              "['target_encoder']"
            ]
          },
          "execution_count": 131,
          "metadata": {},
          "output_type": "execute_result"
        }
      ],
      "source": [
        "logger.info(\"Dumping the artifacts to disk\")\n",
        "# Save the model using joblib\n",
        "joblib.dump(pipe, artifact_model)\n",
        "\n",
        "# Save the target encoder using joblib\n",
        "joblib.dump(le, artifact_encoder)"
      ]
    },
    {
      "cell_type": "code",
      "execution_count": 132,
      "metadata": {
        "colab": {
          "base_uri": "https://localhost:8080/"
        },
        "id": "5ncI2WnK5iZ9",
        "outputId": "2a4326d0-e104-4ee6-b012-939dec7e46cc"
      },
      "outputs": [
        {
          "name": "stderr",
          "output_type": "stream",
          "text": [
            "07-05-2025 21:30:31 Logging model artifact\n"
          ]
        },
        {
          "data": {
            "text/plain": [
              "<Artifact model_export>"
            ]
          },
          "execution_count": 132,
          "metadata": {},
          "output_type": "execute_result"
        }
      ],
      "source": [
        "# Model artifact\n",
        "artifact = wandb.Artifact(artifact_model,\n",
        "                          type=artifact_type,\n",
        "                          description=\"A full pipeline composed of a Preprocessing Stage and a Decision Tree model\"\n",
        "                          )\n",
        "\n",
        "logger.info(\"Logging model artifact\")\n",
        "artifact.add_file(artifact_model)\n",
        "run.log_artifact(artifact)"
      ]
    },
    {
      "cell_type": "code",
      "execution_count": 133,
      "metadata": {
        "colab": {
          "base_uri": "https://localhost:8080/"
        },
        "id": "ydqNDU3BVm5t",
        "outputId": "1369aeda-8d85-4f7c-f9d0-32c9cf477220"
      },
      "outputs": [
        {
          "name": "stderr",
          "output_type": "stream",
          "text": [
            "07-05-2025 21:30:32 Logging target enconder artifact\n"
          ]
        },
        {
          "data": {
            "text/plain": [
              "<Artifact target_encoder>"
            ]
          },
          "execution_count": 133,
          "metadata": {},
          "output_type": "execute_result"
        }
      ],
      "source": [
        "# Target encoder artifact\n",
        "artifact = wandb.Artifact(artifact_encoder,\n",
        "                          type=artifact_type,\n",
        "                          description=\"The encoder used to encode the target variable\"\n",
        "                          )\n",
        "\n",
        "logger.info(\"Logging target enconder artifact\")\n",
        "artifact.add_file(artifact_encoder)\n",
        "run.log_artifact(artifact)"
      ]
    },
    {
      "cell_type": "code",
      "execution_count": 134,
      "metadata": {
        "colab": {
          "base_uri": "https://localhost:8080/",
          "height": 270,
          "referenced_widgets": [
            "04d61367495149c48ef33d556af340a6",
            "7ea447db634942e2a4c7575b5db2e75e",
            "360b00a21db0426f806abe0102acb29c",
            "466ed2ebbd37483f8da76deaab339d05",
            "f489472bf08149b9afa7ed1fc3c95591",
            "83824852e6be466db356b9ac06f10479",
            "c63c208eead64e2c9a24413793c6aba4",
            "f6868c2e369146bd94d7c939ac01c016"
          ]
        },
        "id": "6OqCWx5q7fqf",
        "outputId": "44937c38-2da8-4121-cdd7-211b139c40f6"
      },
      "outputs": [
        {
          "data": {
            "text/html": [],
            "text/plain": [
              "<IPython.core.display.HTML object>"
            ]
          },
          "metadata": {},
          "output_type": "display_data"
        },
        {
          "data": {
            "text/html": [
              "<br>    <style><br>        .wandb-row {<br>            display: flex;<br>            flex-direction: row;<br>            flex-wrap: wrap;<br>            justify-content: flex-start;<br>            width: 100%;<br>        }<br>        .wandb-col {<br>            display: flex;<br>            flex-direction: column;<br>            flex-basis: 100%;<br>            flex: 1;<br>            padding: 10px;<br>        }<br>    </style><br><div class=\"wandb-row\"><div class=\"wandb-col\"><h3>Run summary:</h3><br/><table class=\"wandb\"><tr><td>Acc</td><td>0.8368</td></tr><tr><td>F1</td><td>0.33051</td></tr><tr><td>Precision</td><td>0.3171</td></tr><tr><td>Recall</td><td>0.34511</td></tr></table><br/></div></div>"
            ],
            "text/plain": [
              "<IPython.core.display.HTML object>"
            ]
          },
          "metadata": {},
          "output_type": "display_data"
        },
        {
          "data": {
            "text/html": [
              " View run <strong style=\"color:#cdcd00\">clear-sweep-8</strong> at: <a href='https://wandb.ai/hangtn13-ssc-national-economics-university/Bank-Marketing/runs/2lwwoxh0' target=\"_blank\">https://wandb.ai/hangtn13-ssc-national-economics-university/Bank-Marketing/runs/2lwwoxh0</a><br> View project at: <a href='https://wandb.ai/hangtn13-ssc-national-economics-university/Bank-Marketing' target=\"_blank\">https://wandb.ai/hangtn13-ssc-national-economics-university/Bank-Marketing</a><br>Synced 5 W&B file(s), 7 media file(s), 14 artifact file(s) and 0 other file(s)"
            ],
            "text/plain": [
              "<IPython.core.display.HTML object>"
            ]
          },
          "metadata": {},
          "output_type": "display_data"
        },
        {
          "data": {
            "text/html": [
              "Find logs at: <code>.\\wandb\\run-20250507_213018-2lwwoxh0\\logs</code>"
            ],
            "text/plain": [
              "<IPython.core.display.HTML object>"
            ]
          },
          "metadata": {},
          "output_type": "display_data"
        }
      ],
      "source": [
        "run.finish()"
      ]
    }
  ],
  "metadata": {
    "colab": {
      "collapsed_sections": [
        "BeMVUzr08AK8",
        "tt9AnGT3922Q",
        "EEKvM3qL_3Hb",
        "7c_W3F0IGN15",
        "TuoN4_opKXzp",
        "gF_ZLoVjjPUg",
        "ldfU54n7njja",
        "3JBkxykTp2HF",
        "G8tKLeBIa44E"
      ],
      "name": "6 - train.ipynb",
      "provenance": []
    },
    "kernelspec": {
      "display_name": "bankmkt",
      "language": "python",
      "name": "python3"
    },
    "language_info": {
      "codemirror_mode": {
        "name": "ipython",
        "version": 3
      },
      "file_extension": ".py",
      "mimetype": "text/x-python",
      "name": "python",
      "nbconvert_exporter": "python",
      "pygments_lexer": "ipython3",
      "version": "3.8.20"
    },
    "widgets": {
      "application/vnd.jupyter.widget-state+json": {
        "00217f46375e4534bcdd9654ca763886": {
          "model_module": "@jupyter-widgets/controls",
          "model_module_version": "1.5.0",
          "model_name": "FloatProgressModel",
          "state": {
            "_dom_classes": [],
            "_model_module": "@jupyter-widgets/controls",
            "_model_module_version": "1.5.0",
            "_model_name": "FloatProgressModel",
            "_view_count": null,
            "_view_module": "@jupyter-widgets/controls",
            "_view_module_version": "1.5.0",
            "_view_name": "ProgressView",
            "bar_style": "",
            "description": "",
            "description_tooltip": null,
            "layout": "IPY_MODEL_48a8816a4fd944a2983867072b18281b",
            "max": 1,
            "min": 0,
            "orientation": "horizontal",
            "style": "IPY_MODEL_1ef4066db49b491dacd1e36f0e3f3b3a",
            "value": 1
          }
        },
        "04d61367495149c48ef33d556af340a6": {
          "model_module": "@jupyter-widgets/controls",
          "model_module_version": "1.5.0",
          "model_name": "VBoxModel",
          "state": {
            "_dom_classes": [],
            "_model_module": "@jupyter-widgets/controls",
            "_model_module_version": "1.5.0",
            "_model_name": "VBoxModel",
            "_view_count": null,
            "_view_module": "@jupyter-widgets/controls",
            "_view_module_version": "1.5.0",
            "_view_name": "VBoxView",
            "box_style": "",
            "children": [
              "IPY_MODEL_7ea447db634942e2a4c7575b5db2e75e",
              "IPY_MODEL_360b00a21db0426f806abe0102acb29c"
            ],
            "layout": "IPY_MODEL_466ed2ebbd37483f8da76deaab339d05"
          }
        },
        "0613c7cb0f514b22a4e6528e40e2e156": {
          "model_module": "@jupyter-widgets/controls",
          "model_module_version": "1.5.0",
          "model_name": "VBoxModel",
          "state": {
            "_dom_classes": [],
            "_model_module": "@jupyter-widgets/controls",
            "_model_module_version": "1.5.0",
            "_model_name": "VBoxModel",
            "_view_count": null,
            "_view_module": "@jupyter-widgets/controls",
            "_view_module_version": "1.5.0",
            "_view_name": "VBoxView",
            "box_style": "",
            "children": [
              "IPY_MODEL_5bd958e1e2bc4b1ea1f586e2afa89499",
              "IPY_MODEL_c75b56bef9f946508d8db9a716432df4"
            ],
            "layout": "IPY_MODEL_4dc52778c02542ad94a5f7d45b7a5a98"
          }
        },
        "07be9fb8d14944cc855b289d695fe00b": {
          "model_module": "@jupyter-widgets/controls",
          "model_module_version": "1.5.0",
          "model_name": "DescriptionStyleModel",
          "state": {
            "_model_module": "@jupyter-widgets/controls",
            "_model_module_version": "1.5.0",
            "_model_name": "DescriptionStyleModel",
            "_view_count": null,
            "_view_module": "@jupyter-widgets/base",
            "_view_module_version": "1.2.0",
            "_view_name": "StyleView",
            "description_width": ""
          }
        },
        "0a9328d22f424f759a4cb7b68a7de40c": {
          "model_module": "@jupyter-widgets/base",
          "model_module_version": "1.2.0",
          "model_name": "LayoutModel",
          "state": {
            "_model_module": "@jupyter-widgets/base",
            "_model_module_version": "1.2.0",
            "_model_name": "LayoutModel",
            "_view_count": null,
            "_view_module": "@jupyter-widgets/base",
            "_view_module_version": "1.2.0",
            "_view_name": "LayoutView",
            "align_content": null,
            "align_items": null,
            "align_self": null,
            "border": null,
            "bottom": null,
            "display": null,
            "flex": null,
            "flex_flow": null,
            "grid_area": null,
            "grid_auto_columns": null,
            "grid_auto_flow": null,
            "grid_auto_rows": null,
            "grid_column": null,
            "grid_gap": null,
            "grid_row": null,
            "grid_template_areas": null,
            "grid_template_columns": null,
            "grid_template_rows": null,
            "height": null,
            "justify_content": null,
            "justify_items": null,
            "left": null,
            "margin": null,
            "max_height": null,
            "max_width": null,
            "min_height": null,
            "min_width": null,
            "object_fit": null,
            "object_position": null,
            "order": null,
            "overflow": null,
            "overflow_x": null,
            "overflow_y": null,
            "padding": null,
            "right": null,
            "top": null,
            "visibility": null,
            "width": null
          }
        },
        "0c88b95b46ce418f9a065ffa977d5df5": {
          "model_module": "@jupyter-widgets/base",
          "model_module_version": "1.2.0",
          "model_name": "LayoutModel",
          "state": {
            "_model_module": "@jupyter-widgets/base",
            "_model_module_version": "1.2.0",
            "_model_name": "LayoutModel",
            "_view_count": null,
            "_view_module": "@jupyter-widgets/base",
            "_view_module_version": "1.2.0",
            "_view_name": "LayoutView",
            "align_content": null,
            "align_items": null,
            "align_self": null,
            "border": null,
            "bottom": null,
            "display": null,
            "flex": null,
            "flex_flow": null,
            "grid_area": null,
            "grid_auto_columns": null,
            "grid_auto_flow": null,
            "grid_auto_rows": null,
            "grid_column": null,
            "grid_gap": null,
            "grid_row": null,
            "grid_template_areas": null,
            "grid_template_columns": null,
            "grid_template_rows": null,
            "height": null,
            "justify_content": null,
            "justify_items": null,
            "left": null,
            "margin": null,
            "max_height": null,
            "max_width": null,
            "min_height": null,
            "min_width": null,
            "object_fit": null,
            "object_position": null,
            "order": null,
            "overflow": null,
            "overflow_x": null,
            "overflow_y": null,
            "padding": null,
            "right": null,
            "top": null,
            "visibility": null,
            "width": null
          }
        },
        "11e7c611da6149d3a970a59207dbcae9": {
          "model_module": "@jupyter-widgets/base",
          "model_module_version": "1.2.0",
          "model_name": "LayoutModel",
          "state": {
            "_model_module": "@jupyter-widgets/base",
            "_model_module_version": "1.2.0",
            "_model_name": "LayoutModel",
            "_view_count": null,
            "_view_module": "@jupyter-widgets/base",
            "_view_module_version": "1.2.0",
            "_view_name": "LayoutView",
            "align_content": null,
            "align_items": null,
            "align_self": null,
            "border": null,
            "bottom": null,
            "display": null,
            "flex": null,
            "flex_flow": null,
            "grid_area": null,
            "grid_auto_columns": null,
            "grid_auto_flow": null,
            "grid_auto_rows": null,
            "grid_column": null,
            "grid_gap": null,
            "grid_row": null,
            "grid_template_areas": null,
            "grid_template_columns": null,
            "grid_template_rows": null,
            "height": null,
            "justify_content": null,
            "justify_items": null,
            "left": null,
            "margin": null,
            "max_height": null,
            "max_width": null,
            "min_height": null,
            "min_width": null,
            "object_fit": null,
            "object_position": null,
            "order": null,
            "overflow": null,
            "overflow_x": null,
            "overflow_y": null,
            "padding": null,
            "right": null,
            "top": null,
            "visibility": null,
            "width": null
          }
        },
        "1ef4066db49b491dacd1e36f0e3f3b3a": {
          "model_module": "@jupyter-widgets/controls",
          "model_module_version": "1.5.0",
          "model_name": "ProgressStyleModel",
          "state": {
            "_model_module": "@jupyter-widgets/controls",
            "_model_module_version": "1.5.0",
            "_model_name": "ProgressStyleModel",
            "_view_count": null,
            "_view_module": "@jupyter-widgets/base",
            "_view_module_version": "1.2.0",
            "_view_name": "StyleView",
            "bar_color": null,
            "description_width": ""
          }
        },
        "21b5c781e9c2442a96f6ab630b98a2aa": {
          "model_module": "@jupyter-widgets/controls",
          "model_module_version": "1.5.0",
          "model_name": "ProgressStyleModel",
          "state": {
            "_model_module": "@jupyter-widgets/controls",
            "_model_module_version": "1.5.0",
            "_model_name": "ProgressStyleModel",
            "_view_count": null,
            "_view_module": "@jupyter-widgets/base",
            "_view_module_version": "1.2.0",
            "_view_name": "StyleView",
            "bar_color": null,
            "description_width": ""
          }
        },
        "24674bfe30014b018d205b781b4ea5b8": {
          "model_module": "@jupyter-widgets/base",
          "model_module_version": "1.2.0",
          "model_name": "LayoutModel",
          "state": {
            "_model_module": "@jupyter-widgets/base",
            "_model_module_version": "1.2.0",
            "_model_name": "LayoutModel",
            "_view_count": null,
            "_view_module": "@jupyter-widgets/base",
            "_view_module_version": "1.2.0",
            "_view_name": "LayoutView",
            "align_content": null,
            "align_items": null,
            "align_self": null,
            "border": null,
            "bottom": null,
            "display": null,
            "flex": null,
            "flex_flow": null,
            "grid_area": null,
            "grid_auto_columns": null,
            "grid_auto_flow": null,
            "grid_auto_rows": null,
            "grid_column": null,
            "grid_gap": null,
            "grid_row": null,
            "grid_template_areas": null,
            "grid_template_columns": null,
            "grid_template_rows": null,
            "height": null,
            "justify_content": null,
            "justify_items": null,
            "left": null,
            "margin": null,
            "max_height": null,
            "max_width": null,
            "min_height": null,
            "min_width": null,
            "object_fit": null,
            "object_position": null,
            "order": null,
            "overflow": null,
            "overflow_x": null,
            "overflow_y": null,
            "padding": null,
            "right": null,
            "top": null,
            "visibility": null,
            "width": null
          }
        },
        "27dd8676102f4a34adc321360ad7c16e": {
          "model_module": "@jupyter-widgets/base",
          "model_module_version": "1.2.0",
          "model_name": "LayoutModel",
          "state": {
            "_model_module": "@jupyter-widgets/base",
            "_model_module_version": "1.2.0",
            "_model_name": "LayoutModel",
            "_view_count": null,
            "_view_module": "@jupyter-widgets/base",
            "_view_module_version": "1.2.0",
            "_view_name": "LayoutView",
            "align_content": null,
            "align_items": null,
            "align_self": null,
            "border": null,
            "bottom": null,
            "display": null,
            "flex": null,
            "flex_flow": null,
            "grid_area": null,
            "grid_auto_columns": null,
            "grid_auto_flow": null,
            "grid_auto_rows": null,
            "grid_column": null,
            "grid_gap": null,
            "grid_row": null,
            "grid_template_areas": null,
            "grid_template_columns": null,
            "grid_template_rows": null,
            "height": null,
            "justify_content": null,
            "justify_items": null,
            "left": null,
            "margin": null,
            "max_height": null,
            "max_width": null,
            "min_height": null,
            "min_width": null,
            "object_fit": null,
            "object_position": null,
            "order": null,
            "overflow": null,
            "overflow_x": null,
            "overflow_y": null,
            "padding": null,
            "right": null,
            "top": null,
            "visibility": null,
            "width": null
          }
        },
        "28dc085cf9c84a259b9aa20dfc307928": {
          "model_module": "@jupyter-widgets/base",
          "model_module_version": "1.2.0",
          "model_name": "LayoutModel",
          "state": {
            "_model_module": "@jupyter-widgets/base",
            "_model_module_version": "1.2.0",
            "_model_name": "LayoutModel",
            "_view_count": null,
            "_view_module": "@jupyter-widgets/base",
            "_view_module_version": "1.2.0",
            "_view_name": "LayoutView",
            "align_content": null,
            "align_items": null,
            "align_self": null,
            "border": null,
            "bottom": null,
            "display": null,
            "flex": null,
            "flex_flow": null,
            "grid_area": null,
            "grid_auto_columns": null,
            "grid_auto_flow": null,
            "grid_auto_rows": null,
            "grid_column": null,
            "grid_gap": null,
            "grid_row": null,
            "grid_template_areas": null,
            "grid_template_columns": null,
            "grid_template_rows": null,
            "height": null,
            "justify_content": null,
            "justify_items": null,
            "left": null,
            "margin": null,
            "max_height": null,
            "max_width": null,
            "min_height": null,
            "min_width": null,
            "object_fit": null,
            "object_position": null,
            "order": null,
            "overflow": null,
            "overflow_x": null,
            "overflow_y": null,
            "padding": null,
            "right": null,
            "top": null,
            "visibility": null,
            "width": null
          }
        },
        "2dc7c807794f4ffd9a144938fe4abdda": {
          "model_module": "@jupyter-widgets/controls",
          "model_module_version": "1.5.0",
          "model_name": "DescriptionStyleModel",
          "state": {
            "_model_module": "@jupyter-widgets/controls",
            "_model_module_version": "1.5.0",
            "_model_name": "DescriptionStyleModel",
            "_view_count": null,
            "_view_module": "@jupyter-widgets/base",
            "_view_module_version": "1.2.0",
            "_view_name": "StyleView",
            "description_width": ""
          }
        },
        "2e3788cccf2a4b84bd7d5a59c03c42a5": {
          "model_module": "@jupyter-widgets/base",
          "model_module_version": "1.2.0",
          "model_name": "LayoutModel",
          "state": {
            "_model_module": "@jupyter-widgets/base",
            "_model_module_version": "1.2.0",
            "_model_name": "LayoutModel",
            "_view_count": null,
            "_view_module": "@jupyter-widgets/base",
            "_view_module_version": "1.2.0",
            "_view_name": "LayoutView",
            "align_content": null,
            "align_items": null,
            "align_self": null,
            "border": null,
            "bottom": null,
            "display": null,
            "flex": null,
            "flex_flow": null,
            "grid_area": null,
            "grid_auto_columns": null,
            "grid_auto_flow": null,
            "grid_auto_rows": null,
            "grid_column": null,
            "grid_gap": null,
            "grid_row": null,
            "grid_template_areas": null,
            "grid_template_columns": null,
            "grid_template_rows": null,
            "height": null,
            "justify_content": null,
            "justify_items": null,
            "left": null,
            "margin": null,
            "max_height": null,
            "max_width": null,
            "min_height": null,
            "min_width": null,
            "object_fit": null,
            "object_position": null,
            "order": null,
            "overflow": null,
            "overflow_x": null,
            "overflow_y": null,
            "padding": null,
            "right": null,
            "top": null,
            "visibility": null,
            "width": null
          }
        },
        "30d5335d53814da2b4244ea3e7d511fb": {
          "model_module": "@jupyter-widgets/controls",
          "model_module_version": "1.5.0",
          "model_name": "LabelModel",
          "state": {
            "_dom_classes": [],
            "_model_module": "@jupyter-widgets/controls",
            "_model_module_version": "1.5.0",
            "_model_name": "LabelModel",
            "_view_count": null,
            "_view_module": "@jupyter-widgets/controls",
            "_view_module_version": "1.5.0",
            "_view_name": "LabelView",
            "description": "",
            "description_tooltip": null,
            "layout": "IPY_MODEL_685ee2fe32fb4ae08aefa144f8738f16",
            "placeholder": "​",
            "style": "IPY_MODEL_07be9fb8d14944cc855b289d695fe00b",
            "value": "0.008 MB of 0.008 MB uploaded (0.000 MB deduped)\r"
          }
        },
        "3166e54e4f994c848e76435a1962f441": {
          "model_module": "@jupyter-widgets/controls",
          "model_module_version": "1.5.0",
          "model_name": "ProgressStyleModel",
          "state": {
            "_model_module": "@jupyter-widgets/controls",
            "_model_module_version": "1.5.0",
            "_model_name": "ProgressStyleModel",
            "_view_count": null,
            "_view_module": "@jupyter-widgets/base",
            "_view_module_version": "1.2.0",
            "_view_name": "StyleView",
            "bar_color": null,
            "description_width": ""
          }
        },
        "360b00a21db0426f806abe0102acb29c": {
          "model_module": "@jupyter-widgets/controls",
          "model_module_version": "1.5.0",
          "model_name": "FloatProgressModel",
          "state": {
            "_dom_classes": [],
            "_model_module": "@jupyter-widgets/controls",
            "_model_module_version": "1.5.0",
            "_model_name": "FloatProgressModel",
            "_view_count": null,
            "_view_module": "@jupyter-widgets/controls",
            "_view_module_version": "1.5.0",
            "_view_name": "ProgressView",
            "bar_style": "",
            "description": "",
            "description_tooltip": null,
            "layout": "IPY_MODEL_c63c208eead64e2c9a24413793c6aba4",
            "max": 1,
            "min": 0,
            "orientation": "horizontal",
            "style": "IPY_MODEL_f6868c2e369146bd94d7c939ac01c016",
            "value": 1
          }
        },
        "36c291b5b8cb4de5a90f52223becea31": {
          "model_module": "@jupyter-widgets/base",
          "model_module_version": "1.2.0",
          "model_name": "LayoutModel",
          "state": {
            "_model_module": "@jupyter-widgets/base",
            "_model_module_version": "1.2.0",
            "_model_name": "LayoutModel",
            "_view_count": null,
            "_view_module": "@jupyter-widgets/base",
            "_view_module_version": "1.2.0",
            "_view_name": "LayoutView",
            "align_content": null,
            "align_items": null,
            "align_self": null,
            "border": null,
            "bottom": null,
            "display": null,
            "flex": null,
            "flex_flow": null,
            "grid_area": null,
            "grid_auto_columns": null,
            "grid_auto_flow": null,
            "grid_auto_rows": null,
            "grid_column": null,
            "grid_gap": null,
            "grid_row": null,
            "grid_template_areas": null,
            "grid_template_columns": null,
            "grid_template_rows": null,
            "height": null,
            "justify_content": null,
            "justify_items": null,
            "left": null,
            "margin": null,
            "max_height": null,
            "max_width": null,
            "min_height": null,
            "min_width": null,
            "object_fit": null,
            "object_position": null,
            "order": null,
            "overflow": null,
            "overflow_x": null,
            "overflow_y": null,
            "padding": null,
            "right": null,
            "top": null,
            "visibility": null,
            "width": null
          }
        },
        "372061e7f44c46d98144f9fb4bc193ac": {
          "model_module": "@jupyter-widgets/controls",
          "model_module_version": "1.5.0",
          "model_name": "FloatProgressModel",
          "state": {
            "_dom_classes": [],
            "_model_module": "@jupyter-widgets/controls",
            "_model_module_version": "1.5.0",
            "_model_name": "FloatProgressModel",
            "_view_count": null,
            "_view_module": "@jupyter-widgets/controls",
            "_view_module_version": "1.5.0",
            "_view_name": "ProgressView",
            "bar_style": "",
            "description": "",
            "description_tooltip": null,
            "layout": "IPY_MODEL_36c291b5b8cb4de5a90f52223becea31",
            "max": 1,
            "min": 0,
            "orientation": "horizontal",
            "style": "IPY_MODEL_409659c3ae114173bcea7cdd74211846",
            "value": 1
          }
        },
        "3b622de75449459188763c85adbd36ad": {
          "model_module": "@jupyter-widgets/controls",
          "model_module_version": "1.5.0",
          "model_name": "ProgressStyleModel",
          "state": {
            "_model_module": "@jupyter-widgets/controls",
            "_model_module_version": "1.5.0",
            "_model_name": "ProgressStyleModel",
            "_view_count": null,
            "_view_module": "@jupyter-widgets/base",
            "_view_module_version": "1.2.0",
            "_view_name": "StyleView",
            "bar_color": null,
            "description_width": ""
          }
        },
        "3ef2cddcc21a43249ca25213cb480d1d": {
          "model_module": "@jupyter-widgets/controls",
          "model_module_version": "1.5.0",
          "model_name": "VBoxModel",
          "state": {
            "_dom_classes": [],
            "_model_module": "@jupyter-widgets/controls",
            "_model_module_version": "1.5.0",
            "_model_name": "VBoxModel",
            "_view_count": null,
            "_view_module": "@jupyter-widgets/controls",
            "_view_module_version": "1.5.0",
            "_view_name": "VBoxView",
            "box_style": "",
            "children": [
              "IPY_MODEL_f216ca5fa31f4e8bb1b3d49c18c88a42",
              "IPY_MODEL_8a7f76ee1dbf419687535970bade573b"
            ],
            "layout": "IPY_MODEL_4123fc15d9c14b1c9b134f4f9e1e0f2d"
          }
        },
        "3f1500527dc04bcbaa7f1ace440d3897": {
          "model_module": "@jupyter-widgets/controls",
          "model_module_version": "1.5.0",
          "model_name": "LabelModel",
          "state": {
            "_dom_classes": [],
            "_model_module": "@jupyter-widgets/controls",
            "_model_module_version": "1.5.0",
            "_model_name": "LabelModel",
            "_view_count": null,
            "_view_module": "@jupyter-widgets/controls",
            "_view_module_version": "1.5.0",
            "_view_name": "LabelView",
            "description": "",
            "description_tooltip": null,
            "layout": "IPY_MODEL_8a010640585e45ea8cab901ba1dc0c18",
            "placeholder": "​",
            "style": "IPY_MODEL_e28eaca3569046d89907b619ed4b9c3f",
            "value": "0.008 MB of 0.008 MB uploaded (0.000 MB deduped)\r"
          }
        },
        "409659c3ae114173bcea7cdd74211846": {
          "model_module": "@jupyter-widgets/controls",
          "model_module_version": "1.5.0",
          "model_name": "ProgressStyleModel",
          "state": {
            "_model_module": "@jupyter-widgets/controls",
            "_model_module_version": "1.5.0",
            "_model_name": "ProgressStyleModel",
            "_view_count": null,
            "_view_module": "@jupyter-widgets/base",
            "_view_module_version": "1.2.0",
            "_view_name": "StyleView",
            "bar_color": null,
            "description_width": ""
          }
        },
        "4123fc15d9c14b1c9b134f4f9e1e0f2d": {
          "model_module": "@jupyter-widgets/base",
          "model_module_version": "1.2.0",
          "model_name": "LayoutModel",
          "state": {
            "_model_module": "@jupyter-widgets/base",
            "_model_module_version": "1.2.0",
            "_model_name": "LayoutModel",
            "_view_count": null,
            "_view_module": "@jupyter-widgets/base",
            "_view_module_version": "1.2.0",
            "_view_name": "LayoutView",
            "align_content": null,
            "align_items": null,
            "align_self": null,
            "border": null,
            "bottom": null,
            "display": null,
            "flex": null,
            "flex_flow": null,
            "grid_area": null,
            "grid_auto_columns": null,
            "grid_auto_flow": null,
            "grid_auto_rows": null,
            "grid_column": null,
            "grid_gap": null,
            "grid_row": null,
            "grid_template_areas": null,
            "grid_template_columns": null,
            "grid_template_rows": null,
            "height": null,
            "justify_content": null,
            "justify_items": null,
            "left": null,
            "margin": null,
            "max_height": null,
            "max_width": null,
            "min_height": null,
            "min_width": null,
            "object_fit": null,
            "object_position": null,
            "order": null,
            "overflow": null,
            "overflow_x": null,
            "overflow_y": null,
            "padding": null,
            "right": null,
            "top": null,
            "visibility": null,
            "width": null
          }
        },
        "455e69ec3bb64becaed1dec637e1b2bc": {
          "model_module": "@jupyter-widgets/controls",
          "model_module_version": "1.5.0",
          "model_name": "DescriptionStyleModel",
          "state": {
            "_model_module": "@jupyter-widgets/controls",
            "_model_module_version": "1.5.0",
            "_model_name": "DescriptionStyleModel",
            "_view_count": null,
            "_view_module": "@jupyter-widgets/base",
            "_view_module_version": "1.2.0",
            "_view_name": "StyleView",
            "description_width": ""
          }
        },
        "466ed2ebbd37483f8da76deaab339d05": {
          "model_module": "@jupyter-widgets/base",
          "model_module_version": "1.2.0",
          "model_name": "LayoutModel",
          "state": {
            "_model_module": "@jupyter-widgets/base",
            "_model_module_version": "1.2.0",
            "_model_name": "LayoutModel",
            "_view_count": null,
            "_view_module": "@jupyter-widgets/base",
            "_view_module_version": "1.2.0",
            "_view_name": "LayoutView",
            "align_content": null,
            "align_items": null,
            "align_self": null,
            "border": null,
            "bottom": null,
            "display": null,
            "flex": null,
            "flex_flow": null,
            "grid_area": null,
            "grid_auto_columns": null,
            "grid_auto_flow": null,
            "grid_auto_rows": null,
            "grid_column": null,
            "grid_gap": null,
            "grid_row": null,
            "grid_template_areas": null,
            "grid_template_columns": null,
            "grid_template_rows": null,
            "height": null,
            "justify_content": null,
            "justify_items": null,
            "left": null,
            "margin": null,
            "max_height": null,
            "max_width": null,
            "min_height": null,
            "min_width": null,
            "object_fit": null,
            "object_position": null,
            "order": null,
            "overflow": null,
            "overflow_x": null,
            "overflow_y": null,
            "padding": null,
            "right": null,
            "top": null,
            "visibility": null,
            "width": null
          }
        },
        "48a8816a4fd944a2983867072b18281b": {
          "model_module": "@jupyter-widgets/base",
          "model_module_version": "1.2.0",
          "model_name": "LayoutModel",
          "state": {
            "_model_module": "@jupyter-widgets/base",
            "_model_module_version": "1.2.0",
            "_model_name": "LayoutModel",
            "_view_count": null,
            "_view_module": "@jupyter-widgets/base",
            "_view_module_version": "1.2.0",
            "_view_name": "LayoutView",
            "align_content": null,
            "align_items": null,
            "align_self": null,
            "border": null,
            "bottom": null,
            "display": null,
            "flex": null,
            "flex_flow": null,
            "grid_area": null,
            "grid_auto_columns": null,
            "grid_auto_flow": null,
            "grid_auto_rows": null,
            "grid_column": null,
            "grid_gap": null,
            "grid_row": null,
            "grid_template_areas": null,
            "grid_template_columns": null,
            "grid_template_rows": null,
            "height": null,
            "justify_content": null,
            "justify_items": null,
            "left": null,
            "margin": null,
            "max_height": null,
            "max_width": null,
            "min_height": null,
            "min_width": null,
            "object_fit": null,
            "object_position": null,
            "order": null,
            "overflow": null,
            "overflow_x": null,
            "overflow_y": null,
            "padding": null,
            "right": null,
            "top": null,
            "visibility": null,
            "width": null
          }
        },
        "4dc52778c02542ad94a5f7d45b7a5a98": {
          "model_module": "@jupyter-widgets/base",
          "model_module_version": "1.2.0",
          "model_name": "LayoutModel",
          "state": {
            "_model_module": "@jupyter-widgets/base",
            "_model_module_version": "1.2.0",
            "_model_name": "LayoutModel",
            "_view_count": null,
            "_view_module": "@jupyter-widgets/base",
            "_view_module_version": "1.2.0",
            "_view_name": "LayoutView",
            "align_content": null,
            "align_items": null,
            "align_self": null,
            "border": null,
            "bottom": null,
            "display": null,
            "flex": null,
            "flex_flow": null,
            "grid_area": null,
            "grid_auto_columns": null,
            "grid_auto_flow": null,
            "grid_auto_rows": null,
            "grid_column": null,
            "grid_gap": null,
            "grid_row": null,
            "grid_template_areas": null,
            "grid_template_columns": null,
            "grid_template_rows": null,
            "height": null,
            "justify_content": null,
            "justify_items": null,
            "left": null,
            "margin": null,
            "max_height": null,
            "max_width": null,
            "min_height": null,
            "min_width": null,
            "object_fit": null,
            "object_position": null,
            "order": null,
            "overflow": null,
            "overflow_x": null,
            "overflow_y": null,
            "padding": null,
            "right": null,
            "top": null,
            "visibility": null,
            "width": null
          }
        },
        "521f77db070641e7a0097f0b4c0793ef": {
          "model_module": "@jupyter-widgets/base",
          "model_module_version": "1.2.0",
          "model_name": "LayoutModel",
          "state": {
            "_model_module": "@jupyter-widgets/base",
            "_model_module_version": "1.2.0",
            "_model_name": "LayoutModel",
            "_view_count": null,
            "_view_module": "@jupyter-widgets/base",
            "_view_module_version": "1.2.0",
            "_view_name": "LayoutView",
            "align_content": null,
            "align_items": null,
            "align_self": null,
            "border": null,
            "bottom": null,
            "display": null,
            "flex": null,
            "flex_flow": null,
            "grid_area": null,
            "grid_auto_columns": null,
            "grid_auto_flow": null,
            "grid_auto_rows": null,
            "grid_column": null,
            "grid_gap": null,
            "grid_row": null,
            "grid_template_areas": null,
            "grid_template_columns": null,
            "grid_template_rows": null,
            "height": null,
            "justify_content": null,
            "justify_items": null,
            "left": null,
            "margin": null,
            "max_height": null,
            "max_width": null,
            "min_height": null,
            "min_width": null,
            "object_fit": null,
            "object_position": null,
            "order": null,
            "overflow": null,
            "overflow_x": null,
            "overflow_y": null,
            "padding": null,
            "right": null,
            "top": null,
            "visibility": null,
            "width": null
          }
        },
        "56009f45f7ce4372b14f86d8273236e6": {
          "model_module": "@jupyter-widgets/controls",
          "model_module_version": "1.5.0",
          "model_name": "DescriptionStyleModel",
          "state": {
            "_model_module": "@jupyter-widgets/controls",
            "_model_module_version": "1.5.0",
            "_model_name": "DescriptionStyleModel",
            "_view_count": null,
            "_view_module": "@jupyter-widgets/base",
            "_view_module_version": "1.2.0",
            "_view_name": "StyleView",
            "description_width": ""
          }
        },
        "5bd958e1e2bc4b1ea1f586e2afa89499": {
          "model_module": "@jupyter-widgets/controls",
          "model_module_version": "1.5.0",
          "model_name": "LabelModel",
          "state": {
            "_dom_classes": [],
            "_model_module": "@jupyter-widgets/controls",
            "_model_module_version": "1.5.0",
            "_model_name": "LabelModel",
            "_view_count": null,
            "_view_module": "@jupyter-widgets/controls",
            "_view_module_version": "1.5.0",
            "_view_name": "LabelView",
            "description": "",
            "description_tooltip": null,
            "layout": "IPY_MODEL_521f77db070641e7a0097f0b4c0793ef",
            "placeholder": "​",
            "style": "IPY_MODEL_c2576f2a4b3e4d77882585ea581e3c07",
            "value": "0.008 MB of 0.008 MB uploaded (0.000 MB deduped)\r"
          }
        },
        "5dad7e56bbc24479b083a9ed7dc2ebe6": {
          "model_module": "@jupyter-widgets/controls",
          "model_module_version": "1.5.0",
          "model_name": "DescriptionStyleModel",
          "state": {
            "_model_module": "@jupyter-widgets/controls",
            "_model_module_version": "1.5.0",
            "_model_name": "DescriptionStyleModel",
            "_view_count": null,
            "_view_module": "@jupyter-widgets/base",
            "_view_module_version": "1.2.0",
            "_view_name": "StyleView",
            "description_width": ""
          }
        },
        "5dde59adcbf244aba363806ffaf74607": {
          "model_module": "@jupyter-widgets/base",
          "model_module_version": "1.2.0",
          "model_name": "LayoutModel",
          "state": {
            "_model_module": "@jupyter-widgets/base",
            "_model_module_version": "1.2.0",
            "_model_name": "LayoutModel",
            "_view_count": null,
            "_view_module": "@jupyter-widgets/base",
            "_view_module_version": "1.2.0",
            "_view_name": "LayoutView",
            "align_content": null,
            "align_items": null,
            "align_self": null,
            "border": null,
            "bottom": null,
            "display": null,
            "flex": null,
            "flex_flow": null,
            "grid_area": null,
            "grid_auto_columns": null,
            "grid_auto_flow": null,
            "grid_auto_rows": null,
            "grid_column": null,
            "grid_gap": null,
            "grid_row": null,
            "grid_template_areas": null,
            "grid_template_columns": null,
            "grid_template_rows": null,
            "height": null,
            "justify_content": null,
            "justify_items": null,
            "left": null,
            "margin": null,
            "max_height": null,
            "max_width": null,
            "min_height": null,
            "min_width": null,
            "object_fit": null,
            "object_position": null,
            "order": null,
            "overflow": null,
            "overflow_x": null,
            "overflow_y": null,
            "padding": null,
            "right": null,
            "top": null,
            "visibility": null,
            "width": null
          }
        },
        "642acd73d99c470a99c17d685f0b7704": {
          "model_module": "@jupyter-widgets/controls",
          "model_module_version": "1.5.0",
          "model_name": "LabelModel",
          "state": {
            "_dom_classes": [],
            "_model_module": "@jupyter-widgets/controls",
            "_model_module_version": "1.5.0",
            "_model_name": "LabelModel",
            "_view_count": null,
            "_view_module": "@jupyter-widgets/controls",
            "_view_module_version": "1.5.0",
            "_view_name": "LabelView",
            "description": "",
            "description_tooltip": null,
            "layout": "IPY_MODEL_ea37187ae765457eb09295a54c5e7365",
            "placeholder": "​",
            "style": "IPY_MODEL_455e69ec3bb64becaed1dec637e1b2bc",
            "value": "0.008 MB of 0.008 MB uploaded (0.000 MB deduped)\r"
          }
        },
        "685ee2fe32fb4ae08aefa144f8738f16": {
          "model_module": "@jupyter-widgets/base",
          "model_module_version": "1.2.0",
          "model_name": "LayoutModel",
          "state": {
            "_model_module": "@jupyter-widgets/base",
            "_model_module_version": "1.2.0",
            "_model_name": "LayoutModel",
            "_view_count": null,
            "_view_module": "@jupyter-widgets/base",
            "_view_module_version": "1.2.0",
            "_view_name": "LayoutView",
            "align_content": null,
            "align_items": null,
            "align_self": null,
            "border": null,
            "bottom": null,
            "display": null,
            "flex": null,
            "flex_flow": null,
            "grid_area": null,
            "grid_auto_columns": null,
            "grid_auto_flow": null,
            "grid_auto_rows": null,
            "grid_column": null,
            "grid_gap": null,
            "grid_row": null,
            "grid_template_areas": null,
            "grid_template_columns": null,
            "grid_template_rows": null,
            "height": null,
            "justify_content": null,
            "justify_items": null,
            "left": null,
            "margin": null,
            "max_height": null,
            "max_width": null,
            "min_height": null,
            "min_width": null,
            "object_fit": null,
            "object_position": null,
            "order": null,
            "overflow": null,
            "overflow_x": null,
            "overflow_y": null,
            "padding": null,
            "right": null,
            "top": null,
            "visibility": null,
            "width": null
          }
        },
        "6bc474b778ed4e448c7962c9b3da06fa": {
          "model_module": "@jupyter-widgets/controls",
          "model_module_version": "1.5.0",
          "model_name": "LabelModel",
          "state": {
            "_dom_classes": [],
            "_model_module": "@jupyter-widgets/controls",
            "_model_module_version": "1.5.0",
            "_model_name": "LabelModel",
            "_view_count": null,
            "_view_module": "@jupyter-widgets/controls",
            "_view_module_version": "1.5.0",
            "_view_name": "LabelView",
            "description": "",
            "description_tooltip": null,
            "layout": "IPY_MODEL_d77025115a81456dade5d139892d942e",
            "placeholder": "​",
            "style": "IPY_MODEL_c134c8bbd52b41da88dcf49f7421099c",
            "value": "0.008 MB of 0.008 MB uploaded (0.000 MB deduped)\r"
          }
        },
        "6e9eff32ca164a51b3fb183ecdd5cae0": {
          "model_module": "@jupyter-widgets/controls",
          "model_module_version": "1.5.0",
          "model_name": "VBoxModel",
          "state": {
            "_dom_classes": [],
            "_model_module": "@jupyter-widgets/controls",
            "_model_module_version": "1.5.0",
            "_model_name": "VBoxModel",
            "_view_count": null,
            "_view_module": "@jupyter-widgets/controls",
            "_view_module_version": "1.5.0",
            "_view_name": "VBoxView",
            "box_style": "",
            "children": [
              "IPY_MODEL_3f1500527dc04bcbaa7f1ace440d3897",
              "IPY_MODEL_372061e7f44c46d98144f9fb4bc193ac"
            ],
            "layout": "IPY_MODEL_11e7c611da6149d3a970a59207dbcae9"
          }
        },
        "789ca682cc164fe9be5a63f1226bf47a": {
          "model_module": "@jupyter-widgets/controls",
          "model_module_version": "1.5.0",
          "model_name": "VBoxModel",
          "state": {
            "_dom_classes": [],
            "_model_module": "@jupyter-widgets/controls",
            "_model_module_version": "1.5.0",
            "_model_name": "VBoxModel",
            "_view_count": null,
            "_view_module": "@jupyter-widgets/controls",
            "_view_module_version": "1.5.0",
            "_view_name": "VBoxView",
            "box_style": "",
            "children": [
              "IPY_MODEL_30d5335d53814da2b4244ea3e7d511fb",
              "IPY_MODEL_8c6d9a0e02d9403b9bbb63ec6ce9e513"
            ],
            "layout": "IPY_MODEL_2e3788cccf2a4b84bd7d5a59c03c42a5"
          }
        },
        "7b2be86d62944910bfd8e9de3fd21512": {
          "model_module": "@jupyter-widgets/controls",
          "model_module_version": "1.5.0",
          "model_name": "ProgressStyleModel",
          "state": {
            "_model_module": "@jupyter-widgets/controls",
            "_model_module_version": "1.5.0",
            "_model_name": "ProgressStyleModel",
            "_view_count": null,
            "_view_module": "@jupyter-widgets/base",
            "_view_module_version": "1.2.0",
            "_view_name": "StyleView",
            "bar_color": null,
            "description_width": ""
          }
        },
        "7ea447db634942e2a4c7575b5db2e75e": {
          "model_module": "@jupyter-widgets/controls",
          "model_module_version": "1.5.0",
          "model_name": "LabelModel",
          "state": {
            "_dom_classes": [],
            "_model_module": "@jupyter-widgets/controls",
            "_model_module_version": "1.5.0",
            "_model_name": "LabelModel",
            "_view_count": null,
            "_view_module": "@jupyter-widgets/controls",
            "_view_module_version": "1.5.0",
            "_view_name": "LabelView",
            "description": "",
            "description_tooltip": null,
            "layout": "IPY_MODEL_f489472bf08149b9afa7ed1fc3c95591",
            "placeholder": "​",
            "style": "IPY_MODEL_83824852e6be466db356b9ac06f10479",
            "value": "0.026 MB of 0.026 MB uploaded (0.000 MB deduped)\r"
          }
        },
        "81fba16a494f4223a8d217f28019d369": {
          "model_module": "@jupyter-widgets/controls",
          "model_module_version": "1.5.0",
          "model_name": "LabelModel",
          "state": {
            "_dom_classes": [],
            "_model_module": "@jupyter-widgets/controls",
            "_model_module_version": "1.5.0",
            "_model_name": "LabelModel",
            "_view_count": null,
            "_view_module": "@jupyter-widgets/controls",
            "_view_module_version": "1.5.0",
            "_view_name": "LabelView",
            "description": "",
            "description_tooltip": null,
            "layout": "IPY_MODEL_24674bfe30014b018d205b781b4ea5b8",
            "placeholder": "​",
            "style": "IPY_MODEL_56009f45f7ce4372b14f86d8273236e6",
            "value": "0.008 MB of 0.008 MB uploaded (0.000 MB deduped)\r"
          }
        },
        "82f5b3b2a66c4bd9a977a41dca5a2fcb": {
          "model_module": "@jupyter-widgets/controls",
          "model_module_version": "1.5.0",
          "model_name": "ProgressStyleModel",
          "state": {
            "_model_module": "@jupyter-widgets/controls",
            "_model_module_version": "1.5.0",
            "_model_name": "ProgressStyleModel",
            "_view_count": null,
            "_view_module": "@jupyter-widgets/base",
            "_view_module_version": "1.2.0",
            "_view_name": "StyleView",
            "bar_color": null,
            "description_width": ""
          }
        },
        "83824852e6be466db356b9ac06f10479": {
          "model_module": "@jupyter-widgets/controls",
          "model_module_version": "1.5.0",
          "model_name": "DescriptionStyleModel",
          "state": {
            "_model_module": "@jupyter-widgets/controls",
            "_model_module_version": "1.5.0",
            "_model_name": "DescriptionStyleModel",
            "_view_count": null,
            "_view_module": "@jupyter-widgets/base",
            "_view_module_version": "1.2.0",
            "_view_name": "StyleView",
            "description_width": ""
          }
        },
        "8a010640585e45ea8cab901ba1dc0c18": {
          "model_module": "@jupyter-widgets/base",
          "model_module_version": "1.2.0",
          "model_name": "LayoutModel",
          "state": {
            "_model_module": "@jupyter-widgets/base",
            "_model_module_version": "1.2.0",
            "_model_name": "LayoutModel",
            "_view_count": null,
            "_view_module": "@jupyter-widgets/base",
            "_view_module_version": "1.2.0",
            "_view_name": "LayoutView",
            "align_content": null,
            "align_items": null,
            "align_self": null,
            "border": null,
            "bottom": null,
            "display": null,
            "flex": null,
            "flex_flow": null,
            "grid_area": null,
            "grid_auto_columns": null,
            "grid_auto_flow": null,
            "grid_auto_rows": null,
            "grid_column": null,
            "grid_gap": null,
            "grid_row": null,
            "grid_template_areas": null,
            "grid_template_columns": null,
            "grid_template_rows": null,
            "height": null,
            "justify_content": null,
            "justify_items": null,
            "left": null,
            "margin": null,
            "max_height": null,
            "max_width": null,
            "min_height": null,
            "min_width": null,
            "object_fit": null,
            "object_position": null,
            "order": null,
            "overflow": null,
            "overflow_x": null,
            "overflow_y": null,
            "padding": null,
            "right": null,
            "top": null,
            "visibility": null,
            "width": null
          }
        },
        "8a7f76ee1dbf419687535970bade573b": {
          "model_module": "@jupyter-widgets/controls",
          "model_module_version": "1.5.0",
          "model_name": "FloatProgressModel",
          "state": {
            "_dom_classes": [],
            "_model_module": "@jupyter-widgets/controls",
            "_model_module_version": "1.5.0",
            "_model_name": "FloatProgressModel",
            "_view_count": null,
            "_view_module": "@jupyter-widgets/controls",
            "_view_module_version": "1.5.0",
            "_view_name": "ProgressView",
            "bar_style": "",
            "description": "",
            "description_tooltip": null,
            "layout": "IPY_MODEL_aa05254699df452c97dd970e874d855f",
            "max": 1,
            "min": 0,
            "orientation": "horizontal",
            "style": "IPY_MODEL_acf104d7b145494ebdecdcd77ee36449",
            "value": 1
          }
        },
        "8c6d9a0e02d9403b9bbb63ec6ce9e513": {
          "model_module": "@jupyter-widgets/controls",
          "model_module_version": "1.5.0",
          "model_name": "FloatProgressModel",
          "state": {
            "_dom_classes": [],
            "_model_module": "@jupyter-widgets/controls",
            "_model_module_version": "1.5.0",
            "_model_name": "FloatProgressModel",
            "_view_count": null,
            "_view_module": "@jupyter-widgets/controls",
            "_view_module_version": "1.5.0",
            "_view_name": "ProgressView",
            "bar_style": "",
            "description": "",
            "description_tooltip": null,
            "layout": "IPY_MODEL_27dd8676102f4a34adc321360ad7c16e",
            "max": 1,
            "min": 0,
            "orientation": "horizontal",
            "style": "IPY_MODEL_3166e54e4f994c848e76435a1962f441",
            "value": 1
          }
        },
        "99db2784438e4525aa6f63a7327f21e9": {
          "model_module": "@jupyter-widgets/base",
          "model_module_version": "1.2.0",
          "model_name": "LayoutModel",
          "state": {
            "_model_module": "@jupyter-widgets/base",
            "_model_module_version": "1.2.0",
            "_model_name": "LayoutModel",
            "_view_count": null,
            "_view_module": "@jupyter-widgets/base",
            "_view_module_version": "1.2.0",
            "_view_name": "LayoutView",
            "align_content": null,
            "align_items": null,
            "align_self": null,
            "border": null,
            "bottom": null,
            "display": null,
            "flex": null,
            "flex_flow": null,
            "grid_area": null,
            "grid_auto_columns": null,
            "grid_auto_flow": null,
            "grid_auto_rows": null,
            "grid_column": null,
            "grid_gap": null,
            "grid_row": null,
            "grid_template_areas": null,
            "grid_template_columns": null,
            "grid_template_rows": null,
            "height": null,
            "justify_content": null,
            "justify_items": null,
            "left": null,
            "margin": null,
            "max_height": null,
            "max_width": null,
            "min_height": null,
            "min_width": null,
            "object_fit": null,
            "object_position": null,
            "order": null,
            "overflow": null,
            "overflow_x": null,
            "overflow_y": null,
            "padding": null,
            "right": null,
            "top": null,
            "visibility": null,
            "width": null
          }
        },
        "9abdeaf7387b413bbe83d0507a16c419": {
          "model_module": "@jupyter-widgets/base",
          "model_module_version": "1.2.0",
          "model_name": "LayoutModel",
          "state": {
            "_model_module": "@jupyter-widgets/base",
            "_model_module_version": "1.2.0",
            "_model_name": "LayoutModel",
            "_view_count": null,
            "_view_module": "@jupyter-widgets/base",
            "_view_module_version": "1.2.0",
            "_view_name": "LayoutView",
            "align_content": null,
            "align_items": null,
            "align_self": null,
            "border": null,
            "bottom": null,
            "display": null,
            "flex": null,
            "flex_flow": null,
            "grid_area": null,
            "grid_auto_columns": null,
            "grid_auto_flow": null,
            "grid_auto_rows": null,
            "grid_column": null,
            "grid_gap": null,
            "grid_row": null,
            "grid_template_areas": null,
            "grid_template_columns": null,
            "grid_template_rows": null,
            "height": null,
            "justify_content": null,
            "justify_items": null,
            "left": null,
            "margin": null,
            "max_height": null,
            "max_width": null,
            "min_height": null,
            "min_width": null,
            "object_fit": null,
            "object_position": null,
            "order": null,
            "overflow": null,
            "overflow_x": null,
            "overflow_y": null,
            "padding": null,
            "right": null,
            "top": null,
            "visibility": null,
            "width": null
          }
        },
        "9c447133b9144bc1905bab6fbddb8060": {
          "model_module": "@jupyter-widgets/controls",
          "model_module_version": "1.5.0",
          "model_name": "FloatProgressModel",
          "state": {
            "_dom_classes": [],
            "_model_module": "@jupyter-widgets/controls",
            "_model_module_version": "1.5.0",
            "_model_name": "FloatProgressModel",
            "_view_count": null,
            "_view_module": "@jupyter-widgets/controls",
            "_view_module_version": "1.5.0",
            "_view_name": "ProgressView",
            "bar_style": "",
            "description": "",
            "description_tooltip": null,
            "layout": "IPY_MODEL_fd2b0ee41f094cecb350286406b33dd5",
            "max": 1,
            "min": 0,
            "orientation": "horizontal",
            "style": "IPY_MODEL_7b2be86d62944910bfd8e9de3fd21512",
            "value": 1
          }
        },
        "9fe9f462c7254798b47382a56719dfe4": {
          "model_module": "@jupyter-widgets/controls",
          "model_module_version": "1.5.0",
          "model_name": "ProgressStyleModel",
          "state": {
            "_model_module": "@jupyter-widgets/controls",
            "_model_module_version": "1.5.0",
            "_model_name": "ProgressStyleModel",
            "_view_count": null,
            "_view_module": "@jupyter-widgets/base",
            "_view_module_version": "1.2.0",
            "_view_name": "StyleView",
            "bar_color": null,
            "description_width": ""
          }
        },
        "aa05254699df452c97dd970e874d855f": {
          "model_module": "@jupyter-widgets/base",
          "model_module_version": "1.2.0",
          "model_name": "LayoutModel",
          "state": {
            "_model_module": "@jupyter-widgets/base",
            "_model_module_version": "1.2.0",
            "_model_name": "LayoutModel",
            "_view_count": null,
            "_view_module": "@jupyter-widgets/base",
            "_view_module_version": "1.2.0",
            "_view_name": "LayoutView",
            "align_content": null,
            "align_items": null,
            "align_self": null,
            "border": null,
            "bottom": null,
            "display": null,
            "flex": null,
            "flex_flow": null,
            "grid_area": null,
            "grid_auto_columns": null,
            "grid_auto_flow": null,
            "grid_auto_rows": null,
            "grid_column": null,
            "grid_gap": null,
            "grid_row": null,
            "grid_template_areas": null,
            "grid_template_columns": null,
            "grid_template_rows": null,
            "height": null,
            "justify_content": null,
            "justify_items": null,
            "left": null,
            "margin": null,
            "max_height": null,
            "max_width": null,
            "min_height": null,
            "min_width": null,
            "object_fit": null,
            "object_position": null,
            "order": null,
            "overflow": null,
            "overflow_x": null,
            "overflow_y": null,
            "padding": null,
            "right": null,
            "top": null,
            "visibility": null,
            "width": null
          }
        },
        "ac72ba6a977342fca73b3b0e61439cab": {
          "model_module": "@jupyter-widgets/base",
          "model_module_version": "1.2.0",
          "model_name": "LayoutModel",
          "state": {
            "_model_module": "@jupyter-widgets/base",
            "_model_module_version": "1.2.0",
            "_model_name": "LayoutModel",
            "_view_count": null,
            "_view_module": "@jupyter-widgets/base",
            "_view_module_version": "1.2.0",
            "_view_name": "LayoutView",
            "align_content": null,
            "align_items": null,
            "align_self": null,
            "border": null,
            "bottom": null,
            "display": null,
            "flex": null,
            "flex_flow": null,
            "grid_area": null,
            "grid_auto_columns": null,
            "grid_auto_flow": null,
            "grid_auto_rows": null,
            "grid_column": null,
            "grid_gap": null,
            "grid_row": null,
            "grid_template_areas": null,
            "grid_template_columns": null,
            "grid_template_rows": null,
            "height": null,
            "justify_content": null,
            "justify_items": null,
            "left": null,
            "margin": null,
            "max_height": null,
            "max_width": null,
            "min_height": null,
            "min_width": null,
            "object_fit": null,
            "object_position": null,
            "order": null,
            "overflow": null,
            "overflow_x": null,
            "overflow_y": null,
            "padding": null,
            "right": null,
            "top": null,
            "visibility": null,
            "width": null
          }
        },
        "acf104d7b145494ebdecdcd77ee36449": {
          "model_module": "@jupyter-widgets/controls",
          "model_module_version": "1.5.0",
          "model_name": "ProgressStyleModel",
          "state": {
            "_model_module": "@jupyter-widgets/controls",
            "_model_module_version": "1.5.0",
            "_model_name": "ProgressStyleModel",
            "_view_count": null,
            "_view_module": "@jupyter-widgets/base",
            "_view_module_version": "1.2.0",
            "_view_name": "StyleView",
            "bar_color": null,
            "description_width": ""
          }
        },
        "b33588a583a74b0ca704326da92a26ba": {
          "model_module": "@jupyter-widgets/controls",
          "model_module_version": "1.5.0",
          "model_name": "VBoxModel",
          "state": {
            "_dom_classes": [],
            "_model_module": "@jupyter-widgets/controls",
            "_model_module_version": "1.5.0",
            "_model_name": "VBoxModel",
            "_view_count": null,
            "_view_module": "@jupyter-widgets/controls",
            "_view_module_version": "1.5.0",
            "_view_name": "VBoxView",
            "box_style": "",
            "children": [
              "IPY_MODEL_ebd0cae92b844bc5b85c6ca43146b939",
              "IPY_MODEL_d0a7f9c1ca234cfcbf80dde01b6469a6"
            ],
            "layout": "IPY_MODEL_b53f9d1b87644c17a87da9e7df964c0c"
          }
        },
        "b53f9d1b87644c17a87da9e7df964c0c": {
          "model_module": "@jupyter-widgets/base",
          "model_module_version": "1.2.0",
          "model_name": "LayoutModel",
          "state": {
            "_model_module": "@jupyter-widgets/base",
            "_model_module_version": "1.2.0",
            "_model_name": "LayoutModel",
            "_view_count": null,
            "_view_module": "@jupyter-widgets/base",
            "_view_module_version": "1.2.0",
            "_view_name": "LayoutView",
            "align_content": null,
            "align_items": null,
            "align_self": null,
            "border": null,
            "bottom": null,
            "display": null,
            "flex": null,
            "flex_flow": null,
            "grid_area": null,
            "grid_auto_columns": null,
            "grid_auto_flow": null,
            "grid_auto_rows": null,
            "grid_column": null,
            "grid_gap": null,
            "grid_row": null,
            "grid_template_areas": null,
            "grid_template_columns": null,
            "grid_template_rows": null,
            "height": null,
            "justify_content": null,
            "justify_items": null,
            "left": null,
            "margin": null,
            "max_height": null,
            "max_width": null,
            "min_height": null,
            "min_width": null,
            "object_fit": null,
            "object_position": null,
            "order": null,
            "overflow": null,
            "overflow_x": null,
            "overflow_y": null,
            "padding": null,
            "right": null,
            "top": null,
            "visibility": null,
            "width": null
          }
        },
        "b816211e808140ef92b41e8aa91406a0": {
          "model_module": "@jupyter-widgets/controls",
          "model_module_version": "1.5.0",
          "model_name": "LabelModel",
          "state": {
            "_dom_classes": [],
            "_model_module": "@jupyter-widgets/controls",
            "_model_module_version": "1.5.0",
            "_model_name": "LabelModel",
            "_view_count": null,
            "_view_module": "@jupyter-widgets/controls",
            "_view_module_version": "1.5.0",
            "_view_name": "LabelView",
            "description": "",
            "description_tooltip": null,
            "layout": "IPY_MODEL_ac72ba6a977342fca73b3b0e61439cab",
            "placeholder": "​",
            "style": "IPY_MODEL_5dad7e56bbc24479b083a9ed7dc2ebe6",
            "value": "0.008 MB of 0.008 MB uploaded (0.000 MB deduped)\r"
          }
        },
        "bc255094fc244b6bb5ebbcc5b180ab74": {
          "model_module": "@jupyter-widgets/base",
          "model_module_version": "1.2.0",
          "model_name": "LayoutModel",
          "state": {
            "_model_module": "@jupyter-widgets/base",
            "_model_module_version": "1.2.0",
            "_model_name": "LayoutModel",
            "_view_count": null,
            "_view_module": "@jupyter-widgets/base",
            "_view_module_version": "1.2.0",
            "_view_name": "LayoutView",
            "align_content": null,
            "align_items": null,
            "align_self": null,
            "border": null,
            "bottom": null,
            "display": null,
            "flex": null,
            "flex_flow": null,
            "grid_area": null,
            "grid_auto_columns": null,
            "grid_auto_flow": null,
            "grid_auto_rows": null,
            "grid_column": null,
            "grid_gap": null,
            "grid_row": null,
            "grid_template_areas": null,
            "grid_template_columns": null,
            "grid_template_rows": null,
            "height": null,
            "justify_content": null,
            "justify_items": null,
            "left": null,
            "margin": null,
            "max_height": null,
            "max_width": null,
            "min_height": null,
            "min_width": null,
            "object_fit": null,
            "object_position": null,
            "order": null,
            "overflow": null,
            "overflow_x": null,
            "overflow_y": null,
            "padding": null,
            "right": null,
            "top": null,
            "visibility": null,
            "width": null
          }
        },
        "c134c8bbd52b41da88dcf49f7421099c": {
          "model_module": "@jupyter-widgets/controls",
          "model_module_version": "1.5.0",
          "model_name": "DescriptionStyleModel",
          "state": {
            "_model_module": "@jupyter-widgets/controls",
            "_model_module_version": "1.5.0",
            "_model_name": "DescriptionStyleModel",
            "_view_count": null,
            "_view_module": "@jupyter-widgets/base",
            "_view_module_version": "1.2.0",
            "_view_name": "StyleView",
            "description_width": ""
          }
        },
        "c2576f2a4b3e4d77882585ea581e3c07": {
          "model_module": "@jupyter-widgets/controls",
          "model_module_version": "1.5.0",
          "model_name": "DescriptionStyleModel",
          "state": {
            "_model_module": "@jupyter-widgets/controls",
            "_model_module_version": "1.5.0",
            "_model_name": "DescriptionStyleModel",
            "_view_count": null,
            "_view_module": "@jupyter-widgets/base",
            "_view_module_version": "1.2.0",
            "_view_name": "StyleView",
            "description_width": ""
          }
        },
        "c63c208eead64e2c9a24413793c6aba4": {
          "model_module": "@jupyter-widgets/base",
          "model_module_version": "1.2.0",
          "model_name": "LayoutModel",
          "state": {
            "_model_module": "@jupyter-widgets/base",
            "_model_module_version": "1.2.0",
            "_model_name": "LayoutModel",
            "_view_count": null,
            "_view_module": "@jupyter-widgets/base",
            "_view_module_version": "1.2.0",
            "_view_name": "LayoutView",
            "align_content": null,
            "align_items": null,
            "align_self": null,
            "border": null,
            "bottom": null,
            "display": null,
            "flex": null,
            "flex_flow": null,
            "grid_area": null,
            "grid_auto_columns": null,
            "grid_auto_flow": null,
            "grid_auto_rows": null,
            "grid_column": null,
            "grid_gap": null,
            "grid_row": null,
            "grid_template_areas": null,
            "grid_template_columns": null,
            "grid_template_rows": null,
            "height": null,
            "justify_content": null,
            "justify_items": null,
            "left": null,
            "margin": null,
            "max_height": null,
            "max_width": null,
            "min_height": null,
            "min_width": null,
            "object_fit": null,
            "object_position": null,
            "order": null,
            "overflow": null,
            "overflow_x": null,
            "overflow_y": null,
            "padding": null,
            "right": null,
            "top": null,
            "visibility": null,
            "width": null
          }
        },
        "c75b56bef9f946508d8db9a716432df4": {
          "model_module": "@jupyter-widgets/controls",
          "model_module_version": "1.5.0",
          "model_name": "FloatProgressModel",
          "state": {
            "_dom_classes": [],
            "_model_module": "@jupyter-widgets/controls",
            "_model_module_version": "1.5.0",
            "_model_name": "FloatProgressModel",
            "_view_count": null,
            "_view_module": "@jupyter-widgets/controls",
            "_view_module_version": "1.5.0",
            "_view_name": "ProgressView",
            "bar_style": "",
            "description": "",
            "description_tooltip": null,
            "layout": "IPY_MODEL_0a9328d22f424f759a4cb7b68a7de40c",
            "max": 1,
            "min": 0,
            "orientation": "horizontal",
            "style": "IPY_MODEL_21b5c781e9c2442a96f6ab630b98a2aa",
            "value": 1
          }
        },
        "d0a7f9c1ca234cfcbf80dde01b6469a6": {
          "model_module": "@jupyter-widgets/controls",
          "model_module_version": "1.5.0",
          "model_name": "FloatProgressModel",
          "state": {
            "_dom_classes": [],
            "_model_module": "@jupyter-widgets/controls",
            "_model_module_version": "1.5.0",
            "_model_name": "FloatProgressModel",
            "_view_count": null,
            "_view_module": "@jupyter-widgets/controls",
            "_view_module_version": "1.5.0",
            "_view_name": "ProgressView",
            "bar_style": "",
            "description": "",
            "description_tooltip": null,
            "layout": "IPY_MODEL_edba6df8dde94f4abb03fcf9f8630fc9",
            "max": 1,
            "min": 0,
            "orientation": "horizontal",
            "style": "IPY_MODEL_9fe9f462c7254798b47382a56719dfe4",
            "value": 1
          }
        },
        "d66272ef259e414fa0aeff26c17833e5": {
          "model_module": "@jupyter-widgets/controls",
          "model_module_version": "1.5.0",
          "model_name": "VBoxModel",
          "state": {
            "_dom_classes": [],
            "_model_module": "@jupyter-widgets/controls",
            "_model_module_version": "1.5.0",
            "_model_name": "VBoxModel",
            "_view_count": null,
            "_view_module": "@jupyter-widgets/controls",
            "_view_module_version": "1.5.0",
            "_view_name": "VBoxView",
            "box_style": "",
            "children": [
              "IPY_MODEL_b816211e808140ef92b41e8aa91406a0",
              "IPY_MODEL_9c447133b9144bc1905bab6fbddb8060"
            ],
            "layout": "IPY_MODEL_9abdeaf7387b413bbe83d0507a16c419"
          }
        },
        "d77025115a81456dade5d139892d942e": {
          "model_module": "@jupyter-widgets/base",
          "model_module_version": "1.2.0",
          "model_name": "LayoutModel",
          "state": {
            "_model_module": "@jupyter-widgets/base",
            "_model_module_version": "1.2.0",
            "_model_name": "LayoutModel",
            "_view_count": null,
            "_view_module": "@jupyter-widgets/base",
            "_view_module_version": "1.2.0",
            "_view_name": "LayoutView",
            "align_content": null,
            "align_items": null,
            "align_self": null,
            "border": null,
            "bottom": null,
            "display": null,
            "flex": null,
            "flex_flow": null,
            "grid_area": null,
            "grid_auto_columns": null,
            "grid_auto_flow": null,
            "grid_auto_rows": null,
            "grid_column": null,
            "grid_gap": null,
            "grid_row": null,
            "grid_template_areas": null,
            "grid_template_columns": null,
            "grid_template_rows": null,
            "height": null,
            "justify_content": null,
            "justify_items": null,
            "left": null,
            "margin": null,
            "max_height": null,
            "max_width": null,
            "min_height": null,
            "min_width": null,
            "object_fit": null,
            "object_position": null,
            "order": null,
            "overflow": null,
            "overflow_x": null,
            "overflow_y": null,
            "padding": null,
            "right": null,
            "top": null,
            "visibility": null,
            "width": null
          }
        },
        "dfac957f3d4b43b3beeee89bc16b7081": {
          "model_module": "@jupyter-widgets/controls",
          "model_module_version": "1.5.0",
          "model_name": "FloatProgressModel",
          "state": {
            "_dom_classes": [],
            "_model_module": "@jupyter-widgets/controls",
            "_model_module_version": "1.5.0",
            "_model_name": "FloatProgressModel",
            "_view_count": null,
            "_view_module": "@jupyter-widgets/controls",
            "_view_module_version": "1.5.0",
            "_view_name": "ProgressView",
            "bar_style": "",
            "description": "",
            "description_tooltip": null,
            "layout": "IPY_MODEL_5dde59adcbf244aba363806ffaf74607",
            "max": 1,
            "min": 0,
            "orientation": "horizontal",
            "style": "IPY_MODEL_3b622de75449459188763c85adbd36ad",
            "value": 1
          }
        },
        "e01a27661e7b40dabe5476019a4354a7": {
          "model_module": "@jupyter-widgets/controls",
          "model_module_version": "1.5.0",
          "model_name": "DescriptionStyleModel",
          "state": {
            "_model_module": "@jupyter-widgets/controls",
            "_model_module_version": "1.5.0",
            "_model_name": "DescriptionStyleModel",
            "_view_count": null,
            "_view_module": "@jupyter-widgets/base",
            "_view_module_version": "1.2.0",
            "_view_name": "StyleView",
            "description_width": ""
          }
        },
        "e110d8881e4d466387c288d116624ac1": {
          "model_module": "@jupyter-widgets/base",
          "model_module_version": "1.2.0",
          "model_name": "LayoutModel",
          "state": {
            "_model_module": "@jupyter-widgets/base",
            "_model_module_version": "1.2.0",
            "_model_name": "LayoutModel",
            "_view_count": null,
            "_view_module": "@jupyter-widgets/base",
            "_view_module_version": "1.2.0",
            "_view_name": "LayoutView",
            "align_content": null,
            "align_items": null,
            "align_self": null,
            "border": null,
            "bottom": null,
            "display": null,
            "flex": null,
            "flex_flow": null,
            "grid_area": null,
            "grid_auto_columns": null,
            "grid_auto_flow": null,
            "grid_auto_rows": null,
            "grid_column": null,
            "grid_gap": null,
            "grid_row": null,
            "grid_template_areas": null,
            "grid_template_columns": null,
            "grid_template_rows": null,
            "height": null,
            "justify_content": null,
            "justify_items": null,
            "left": null,
            "margin": null,
            "max_height": null,
            "max_width": null,
            "min_height": null,
            "min_width": null,
            "object_fit": null,
            "object_position": null,
            "order": null,
            "overflow": null,
            "overflow_x": null,
            "overflow_y": null,
            "padding": null,
            "right": null,
            "top": null,
            "visibility": null,
            "width": null
          }
        },
        "e28eaca3569046d89907b619ed4b9c3f": {
          "model_module": "@jupyter-widgets/controls",
          "model_module_version": "1.5.0",
          "model_name": "DescriptionStyleModel",
          "state": {
            "_model_module": "@jupyter-widgets/controls",
            "_model_module_version": "1.5.0",
            "_model_name": "DescriptionStyleModel",
            "_view_count": null,
            "_view_module": "@jupyter-widgets/base",
            "_view_module_version": "1.2.0",
            "_view_name": "StyleView",
            "description_width": ""
          }
        },
        "e34f38da777d4eed844352c69287c5d0": {
          "model_module": "@jupyter-widgets/controls",
          "model_module_version": "1.5.0",
          "model_name": "FloatProgressModel",
          "state": {
            "_dom_classes": [],
            "_model_module": "@jupyter-widgets/controls",
            "_model_module_version": "1.5.0",
            "_model_name": "FloatProgressModel",
            "_view_count": null,
            "_view_module": "@jupyter-widgets/controls",
            "_view_module_version": "1.5.0",
            "_view_name": "ProgressView",
            "bar_style": "",
            "description": "",
            "description_tooltip": null,
            "layout": "IPY_MODEL_bc255094fc244b6bb5ebbcc5b180ab74",
            "max": 1,
            "min": 0,
            "orientation": "horizontal",
            "style": "IPY_MODEL_82f5b3b2a66c4bd9a977a41dca5a2fcb",
            "value": 1
          }
        },
        "e54f33b16fec4a5f8bac961fc4fb532a": {
          "model_module": "@jupyter-widgets/controls",
          "model_module_version": "1.5.0",
          "model_name": "VBoxModel",
          "state": {
            "_dom_classes": [],
            "_model_module": "@jupyter-widgets/controls",
            "_model_module_version": "1.5.0",
            "_model_name": "VBoxModel",
            "_view_count": null,
            "_view_module": "@jupyter-widgets/controls",
            "_view_module_version": "1.5.0",
            "_view_name": "VBoxView",
            "box_style": "",
            "children": [
              "IPY_MODEL_6bc474b778ed4e448c7962c9b3da06fa",
              "IPY_MODEL_00217f46375e4534bcdd9654ca763886"
            ],
            "layout": "IPY_MODEL_28dc085cf9c84a259b9aa20dfc307928"
          }
        },
        "e9b68bd74eb94512afa2fc9e052004ce": {
          "model_module": "@jupyter-widgets/controls",
          "model_module_version": "1.5.0",
          "model_name": "VBoxModel",
          "state": {
            "_dom_classes": [],
            "_model_module": "@jupyter-widgets/controls",
            "_model_module_version": "1.5.0",
            "_model_name": "VBoxModel",
            "_view_count": null,
            "_view_module": "@jupyter-widgets/controls",
            "_view_module_version": "1.5.0",
            "_view_name": "VBoxView",
            "box_style": "",
            "children": [
              "IPY_MODEL_642acd73d99c470a99c17d685f0b7704",
              "IPY_MODEL_e34f38da777d4eed844352c69287c5d0"
            ],
            "layout": "IPY_MODEL_99db2784438e4525aa6f63a7327f21e9"
          }
        },
        "ea37187ae765457eb09295a54c5e7365": {
          "model_module": "@jupyter-widgets/base",
          "model_module_version": "1.2.0",
          "model_name": "LayoutModel",
          "state": {
            "_model_module": "@jupyter-widgets/base",
            "_model_module_version": "1.2.0",
            "_model_name": "LayoutModel",
            "_view_count": null,
            "_view_module": "@jupyter-widgets/base",
            "_view_module_version": "1.2.0",
            "_view_name": "LayoutView",
            "align_content": null,
            "align_items": null,
            "align_self": null,
            "border": null,
            "bottom": null,
            "display": null,
            "flex": null,
            "flex_flow": null,
            "grid_area": null,
            "grid_auto_columns": null,
            "grid_auto_flow": null,
            "grid_auto_rows": null,
            "grid_column": null,
            "grid_gap": null,
            "grid_row": null,
            "grid_template_areas": null,
            "grid_template_columns": null,
            "grid_template_rows": null,
            "height": null,
            "justify_content": null,
            "justify_items": null,
            "left": null,
            "margin": null,
            "max_height": null,
            "max_width": null,
            "min_height": null,
            "min_width": null,
            "object_fit": null,
            "object_position": null,
            "order": null,
            "overflow": null,
            "overflow_x": null,
            "overflow_y": null,
            "padding": null,
            "right": null,
            "top": null,
            "visibility": null,
            "width": null
          }
        },
        "ebd0cae92b844bc5b85c6ca43146b939": {
          "model_module": "@jupyter-widgets/controls",
          "model_module_version": "1.5.0",
          "model_name": "LabelModel",
          "state": {
            "_dom_classes": [],
            "_model_module": "@jupyter-widgets/controls",
            "_model_module_version": "1.5.0",
            "_model_name": "LabelModel",
            "_view_count": null,
            "_view_module": "@jupyter-widgets/controls",
            "_view_module_version": "1.5.0",
            "_view_name": "LabelView",
            "description": "",
            "description_tooltip": null,
            "layout": "IPY_MODEL_0c88b95b46ce418f9a065ffa977d5df5",
            "placeholder": "​",
            "style": "IPY_MODEL_e01a27661e7b40dabe5476019a4354a7",
            "value": "0.038 MB of 0.038 MB uploaded (0.000 MB deduped)\r"
          }
        },
        "edba6df8dde94f4abb03fcf9f8630fc9": {
          "model_module": "@jupyter-widgets/base",
          "model_module_version": "1.2.0",
          "model_name": "LayoutModel",
          "state": {
            "_model_module": "@jupyter-widgets/base",
            "_model_module_version": "1.2.0",
            "_model_name": "LayoutModel",
            "_view_count": null,
            "_view_module": "@jupyter-widgets/base",
            "_view_module_version": "1.2.0",
            "_view_name": "LayoutView",
            "align_content": null,
            "align_items": null,
            "align_self": null,
            "border": null,
            "bottom": null,
            "display": null,
            "flex": null,
            "flex_flow": null,
            "grid_area": null,
            "grid_auto_columns": null,
            "grid_auto_flow": null,
            "grid_auto_rows": null,
            "grid_column": null,
            "grid_gap": null,
            "grid_row": null,
            "grid_template_areas": null,
            "grid_template_columns": null,
            "grid_template_rows": null,
            "height": null,
            "justify_content": null,
            "justify_items": null,
            "left": null,
            "margin": null,
            "max_height": null,
            "max_width": null,
            "min_height": null,
            "min_width": null,
            "object_fit": null,
            "object_position": null,
            "order": null,
            "overflow": null,
            "overflow_x": null,
            "overflow_y": null,
            "padding": null,
            "right": null,
            "top": null,
            "visibility": null,
            "width": null
          }
        },
        "f216ca5fa31f4e8bb1b3d49c18c88a42": {
          "model_module": "@jupyter-widgets/controls",
          "model_module_version": "1.5.0",
          "model_name": "LabelModel",
          "state": {
            "_dom_classes": [],
            "_model_module": "@jupyter-widgets/controls",
            "_model_module_version": "1.5.0",
            "_model_name": "LabelModel",
            "_view_count": null,
            "_view_module": "@jupyter-widgets/controls",
            "_view_module_version": "1.5.0",
            "_view_name": "LabelView",
            "description": "",
            "description_tooltip": null,
            "layout": "IPY_MODEL_f38cf56dc8244bf0857c0276819f5b4a",
            "placeholder": "​",
            "style": "IPY_MODEL_2dc7c807794f4ffd9a144938fe4abdda",
            "value": "0.008 MB of 0.008 MB uploaded (0.000 MB deduped)\r"
          }
        },
        "f38cf56dc8244bf0857c0276819f5b4a": {
          "model_module": "@jupyter-widgets/base",
          "model_module_version": "1.2.0",
          "model_name": "LayoutModel",
          "state": {
            "_model_module": "@jupyter-widgets/base",
            "_model_module_version": "1.2.0",
            "_model_name": "LayoutModel",
            "_view_count": null,
            "_view_module": "@jupyter-widgets/base",
            "_view_module_version": "1.2.0",
            "_view_name": "LayoutView",
            "align_content": null,
            "align_items": null,
            "align_self": null,
            "border": null,
            "bottom": null,
            "display": null,
            "flex": null,
            "flex_flow": null,
            "grid_area": null,
            "grid_auto_columns": null,
            "grid_auto_flow": null,
            "grid_auto_rows": null,
            "grid_column": null,
            "grid_gap": null,
            "grid_row": null,
            "grid_template_areas": null,
            "grid_template_columns": null,
            "grid_template_rows": null,
            "height": null,
            "justify_content": null,
            "justify_items": null,
            "left": null,
            "margin": null,
            "max_height": null,
            "max_width": null,
            "min_height": null,
            "min_width": null,
            "object_fit": null,
            "object_position": null,
            "order": null,
            "overflow": null,
            "overflow_x": null,
            "overflow_y": null,
            "padding": null,
            "right": null,
            "top": null,
            "visibility": null,
            "width": null
          }
        },
        "f489472bf08149b9afa7ed1fc3c95591": {
          "model_module": "@jupyter-widgets/base",
          "model_module_version": "1.2.0",
          "model_name": "LayoutModel",
          "state": {
            "_model_module": "@jupyter-widgets/base",
            "_model_module_version": "1.2.0",
            "_model_name": "LayoutModel",
            "_view_count": null,
            "_view_module": "@jupyter-widgets/base",
            "_view_module_version": "1.2.0",
            "_view_name": "LayoutView",
            "align_content": null,
            "align_items": null,
            "align_self": null,
            "border": null,
            "bottom": null,
            "display": null,
            "flex": null,
            "flex_flow": null,
            "grid_area": null,
            "grid_auto_columns": null,
            "grid_auto_flow": null,
            "grid_auto_rows": null,
            "grid_column": null,
            "grid_gap": null,
            "grid_row": null,
            "grid_template_areas": null,
            "grid_template_columns": null,
            "grid_template_rows": null,
            "height": null,
            "justify_content": null,
            "justify_items": null,
            "left": null,
            "margin": null,
            "max_height": null,
            "max_width": null,
            "min_height": null,
            "min_width": null,
            "object_fit": null,
            "object_position": null,
            "order": null,
            "overflow": null,
            "overflow_x": null,
            "overflow_y": null,
            "padding": null,
            "right": null,
            "top": null,
            "visibility": null,
            "width": null
          }
        },
        "f6868c2e369146bd94d7c939ac01c016": {
          "model_module": "@jupyter-widgets/controls",
          "model_module_version": "1.5.0",
          "model_name": "ProgressStyleModel",
          "state": {
            "_model_module": "@jupyter-widgets/controls",
            "_model_module_version": "1.5.0",
            "_model_name": "ProgressStyleModel",
            "_view_count": null,
            "_view_module": "@jupyter-widgets/base",
            "_view_module_version": "1.2.0",
            "_view_name": "StyleView",
            "bar_color": null,
            "description_width": ""
          }
        },
        "f947014ebe80475787758607be1392fc": {
          "model_module": "@jupyter-widgets/controls",
          "model_module_version": "1.5.0",
          "model_name": "VBoxModel",
          "state": {
            "_dom_classes": [],
            "_model_module": "@jupyter-widgets/controls",
            "_model_module_version": "1.5.0",
            "_model_name": "VBoxModel",
            "_view_count": null,
            "_view_module": "@jupyter-widgets/controls",
            "_view_module_version": "1.5.0",
            "_view_name": "VBoxView",
            "box_style": "",
            "children": [
              "IPY_MODEL_81fba16a494f4223a8d217f28019d369",
              "IPY_MODEL_dfac957f3d4b43b3beeee89bc16b7081"
            ],
            "layout": "IPY_MODEL_e110d8881e4d466387c288d116624ac1"
          }
        },
        "fd2b0ee41f094cecb350286406b33dd5": {
          "model_module": "@jupyter-widgets/base",
          "model_module_version": "1.2.0",
          "model_name": "LayoutModel",
          "state": {
            "_model_module": "@jupyter-widgets/base",
            "_model_module_version": "1.2.0",
            "_model_name": "LayoutModel",
            "_view_count": null,
            "_view_module": "@jupyter-widgets/base",
            "_view_module_version": "1.2.0",
            "_view_name": "LayoutView",
            "align_content": null,
            "align_items": null,
            "align_self": null,
            "border": null,
            "bottom": null,
            "display": null,
            "flex": null,
            "flex_flow": null,
            "grid_area": null,
            "grid_auto_columns": null,
            "grid_auto_flow": null,
            "grid_auto_rows": null,
            "grid_column": null,
            "grid_gap": null,
            "grid_row": null,
            "grid_template_areas": null,
            "grid_template_columns": null,
            "grid_template_rows": null,
            "height": null,
            "justify_content": null,
            "justify_items": null,
            "left": null,
            "margin": null,
            "max_height": null,
            "max_width": null,
            "min_height": null,
            "min_width": null,
            "object_fit": null,
            "object_position": null,
            "order": null,
            "overflow": null,
            "overflow_x": null,
            "overflow_y": null,
            "padding": null,
            "right": null,
            "top": null,
            "visibility": null,
            "width": null
          }
        }
      }
    }
  },
  "nbformat": 4,
  "nbformat_minor": 0
}
