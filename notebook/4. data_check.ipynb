{
 "cells": [
  {
   "cell_type": "code",
   "execution_count": 1,
   "id": "7c7c313d",
   "metadata": {},
   "outputs": [
    {
     "name": "stderr",
     "output_type": "stream",
     "text": [
      "\u001b[34m\u001b[1mwandb\u001b[0m: Using wandb-core as the SDK backend.  Please refer to https://wandb.me/wandb-core for more information.\n",
      "\u001b[34m\u001b[1mwandb\u001b[0m: \u001b[33mWARNING\u001b[0m If you're specifying your api key in code, ensure this code is not shared publicly.\n",
      "\u001b[34m\u001b[1mwandb\u001b[0m: \u001b[33mWARNING\u001b[0m Consider setting the WANDB_API_KEY environment variable, or running `wandb login` from the command line.\n",
      "\u001b[34m\u001b[1mwandb\u001b[0m: Appending key for api.wandb.ai to your netrc file: C:\\Users\\Admin\\.netrc\n",
      "\u001b[34m\u001b[1mwandb\u001b[0m: Currently logged in as: \u001b[33mhangtn13-ssc\u001b[0m (\u001b[33mhangtn13-ssc-national-economics-university\u001b[0m) to \u001b[32mhttps://api.wandb.ai\u001b[0m. Use \u001b[1m`wandb login --relogin`\u001b[0m to force relogin\n"
     ]
    },
    {
     "data": {
      "text/plain": [
       "True"
      ]
     },
     "execution_count": 1,
     "metadata": {},
     "output_type": "execute_result"
    }
   ],
   "source": [
    "import wandb\n",
    "import os\n",
    "from dotenv import load_dotenv\n",
    "load_dotenv()\n",
    "\n",
    "WANDB_API_KEY=os.environ.get('WANDB_API_KEY')\n",
    "wandb.login(key=WANDB_API_KEY)"
   ]
  },
  {
   "cell_type": "code",
   "execution_count": 2,
   "id": "8dc4afe7",
   "metadata": {},
   "outputs": [
    {
     "name": "stderr",
     "output_type": "stream",
     "text": [
      "wandb: Appending key for api.wandb.ai to your netrc file: C:\\Users\\Admin\\.netrc\n",
      "wandb: W&B API key is configured. Use `wandb login --relogin` to force relogin\n"
     ]
    }
   ],
   "source": [
    "# Login to Weights & Biases\n",
    "!wandb login --relogin $WANDB_API_KEY"
   ]
  },
  {
   "cell_type": "code",
   "execution_count": 3,
   "id": "20c31856",
   "metadata": {},
   "outputs": [
    {
     "name": "stdout",
     "output_type": "stream",
     "text": [
      "Overwriting test_data.py\n"
     ]
    }
   ],
   "source": [
    "%%file test_data.py\n",
    "import sys\n",
    "import os\n",
    "import pytest\n",
    "import pandas as pd\n",
    "import wandb\n",
    "\n",
    "run = wandb.init(\n",
    "    project=\"Bank-Marketing\",\n",
    "    job_type=\"data_checks\"\n",
    ")\n",
    "@pytest.fixture(scope=\"session\")\n",
    "def data():\n",
    "    local_path = run.use_artifact(\"Bank-Marketing/raw_data:latest\").file()\n",
    "    df = pd.read_csv(local_path)\n",
    "    return df\n",
    "\n",
    "def test_data_length(data):\n",
    "    \"\"\"\n",
    "    We test that we have enough data to continue\n",
    "    \"\"\"\n",
    "    assert len(data) > 1000\n",
    "\n",
    "def test_number_of_columns(data):\n",
    "    \"\"\"\n",
    "    We test that we have the correct number of columns\n",
    "    \"\"\"\n",
    "    assert data.shape[1] == 21, f\"Expected 21 columns, but got {data.shape[1]}\"\n",
    "\n",
    "def test_column_presence_and_type(data):\n",
    "    required_columns = {\n",
    "        \"age\": pd.api.types.is_int64_dtype,\n",
    "        \"job\": pd.api.types.is_object_dtype,\n",
    "        \"marital\": pd.api.types.is_object_dtype,\n",
    "        \"education\": pd.api.types.is_object_dtype,\n",
    "        \"default\": pd.api.types.is_object_dtype,\n",
    "        \"housing\": pd.api.types.is_object_dtype,\n",
    "        \"loan\": pd.api.types.is_object_dtype,\n",
    "        \"contact\": pd.api.types.is_object_dtype,\n",
    "        \"month\": pd.api.types.is_object_dtype,\n",
    "        \"day_of_week\": pd.api.types.is_object_dtype,\n",
    "        \"duration\": pd.api.types.is_int64_dtype,\n",
    "        \"campaign\": pd.api.types.is_int64_dtype,\n",
    "        \"pdays\": pd.api.types.is_int64_dtype,\n",
    "        \"previous\": pd.api.types.is_int64_dtype,\n",
    "        \"poutcome\": pd.api.types.is_object_dtype,\n",
    "        \"emp_var_rate\": pd.api.types.is_float_dtype,\n",
    "        \"cons_price_idx\": pd.api.types.is_float_dtype,\n",
    "        \"cons_conf_idx\": pd.api.types.is_float_dtype,\n",
    "        \"euribor3m\": pd.api.types.is_float_dtype,\n",
    "        \"nr_employed\": pd.api.types.is_float_dtype,\n",
    "        \"y\": pd.api.types.is_object_dtype\n",
    "    }\n",
    "\n",
    "    # Check column presence\n",
    "    assert set(data.columns.values).issuperset(set(required_columns.keys()))\n",
    "\n",
    "    for col_name, format_verification_funct in required_columns.items():\n",
    "        assert format_verification_funct(data[col_name]), f\"Column {col_name} failed test {format_verification_funct}\"\n",
    "\n",
    "def test_class_names(data):\n",
    "    # Check that only the known classes are present for binary columns\n",
    "    known_classes = [\"yes\", \"no\"]\n",
    "\n",
    "    #assert data[\"default\"].isin(known_classes).all(), f\"Column default has unknown values: {data['default'].unique()}\"\n",
    "    #assert data[\"housing\"].isin(known_classes).all(), f\"Column housing has unknown values: {data['housing'].unique()}\"\n",
    "    #assert data[\"loan\"].isin(known_classes).all(), f\"Column loan has unknown values: {data['loan'].unique()}\"\n",
    "    assert data[\"y\"].isin(known_classes).all(), f\"Column y has unknown values: {data['y'].unique()}\"\n",
    "\n",
    "def test_categorical_values(data):\n",
    "    # Check that categorical columns only contain allowed values\n",
    "    job_categories = ['admin.','blue-collar','entrepreneur','housemaid','management','retired','self-employed','services','student','technician','unemployed','unknown']\n",
    "    marital_status = ['unknown','married', 'divorced', 'single']\n",
    "    education_levels = ['basic.4y','basic.6y','basic.9y','high.school','illiterate','professional.course','university.degree','unknown']\n",
    "    contact_types = ['telephone', 'cellular']\n",
    "    month_values = ['jan', 'feb', 'mar', 'apr', 'may', 'jun', 'jul', 'aug', 'sep', 'oct', 'nov', 'dec']\n",
    "    poutcome_values = ['nonexistent', 'failure', 'success']\n",
    "    day_of_week_values = ['mon', 'tue', 'wed', 'thu', 'fri', 'sat', 'sun']\n",
    "\n",
    "    assert data[\"job\"].isin(job_categories).all(), f\"Column job has unknown values: {data['job'].unique()}\"\n",
    "    assert data[\"marital\"].isin(marital_status).all(), f\"Column marital has unknown values: {data['marital'].unique()}\"\n",
    "    assert data[\"education\"].isin(education_levels).all(), f\"Column education has unknown values: {data['education'].unique()}\"\n",
    "    assert data[\"contact\"].isin(contact_types).all(), f\"Column contact has unknown values: {data['contact'].unique()}\"\n",
    "    assert data[\"month\"].isin(month_values).all(),  f\"Column month has unknown values: {data['month'].unique()}\"\n",
    "    assert data[\"poutcome\"].isin(poutcome_values).all(), f\"Column poutcome has unknown values: {data['poutcome'].unique()}\"\n",
    "    assert data[\"day_of_week\"].isin(day_of_week_values).all(), f\"Column day_of_week has unknown values: {data['day_of_week'].unique()}\"\n",
    "\n",
    "def test_column_ranges(data):\n",
    "    # Add ranges for columns\n",
    "    ranges = {\n",
    "        \"age\": (0, 100),\n",
    "        \"duration\": (0, 5000),  # Assuming the duration can be up to 5000 seconds\n",
    "        \"campaign\": (0, 100),\n",
    "        \"pdays\": (-1, 1000),  # -1 means client was not contacted previously\n",
    "        \"previous\": (0, 100),\n",
    "        \"emp_var_rate\": (-10, 10),  # Giả sử tỷ lệ biến động trong phạm vi này\n",
    "        \"cons_price_idx\": (90, 110),  # Giả sử CPI dao động trong phạm vi này\n",
    "        \"cons_conf_idx\": (-55, 55),  # Chỉ số niềm tin tiêu dùng thường trong phạm vi này\n",
    "        \"euribor3m\": (0, 6),  # Lãi suất giữa các ngân hàng thường trong phạm vi này\n",
    "        \"nr_employed\": (0, 10000),  # Số người có việc làm \n",
    "    }\n",
    "\n",
    "    for col_name, (minimum, maximum) in ranges.items():\n",
    "        assert data[col_name].dropna().between(minimum, maximum).all(), (\n",
    "            f\"Column {col_name} failed the test. Should be between {minimum} and {maximum}, \"\n",
    "            f\"instead min={data[col_name].min()} and max={data[col_name].max()}\"\n",
    "        )"
   ]
  },
  {
   "cell_type": "code",
   "execution_count": 4,
   "id": "137ff3ee",
   "metadata": {},
   "outputs": [
    {
     "data": {
      "text/html": [
       "creating run (0.0s)"
      ],
      "text/plain": [
       "<IPython.core.display.HTML object>"
      ]
     },
     "metadata": {},
     "output_type": "display_data"
    },
    {
     "data": {
      "text/html": [
       "Tracking run with wandb version 0.19.9"
      ],
      "text/plain": [
       "<IPython.core.display.HTML object>"
      ]
     },
     "metadata": {},
     "output_type": "display_data"
    },
    {
     "data": {
      "text/html": [
       "Run data is saved locally in <code>d:\\DSEB\\DSEB_SEM_6\\MLOPS\\W2\\Mlops_Project_K64\\wandb\\run-20250507_210910-x7p13anv</code>"
      ],
      "text/plain": [
       "<IPython.core.display.HTML object>"
      ]
     },
     "metadata": {},
     "output_type": "display_data"
    },
    {
     "data": {
      "text/html": [
       "Syncing run <strong><a href='https://wandb.ai/hangtn13-ssc-national-economics-university/Bank-Marketing/runs/x7p13anv' target=\"_blank\">whole-pond-28</a></strong> to <a href='https://wandb.ai/hangtn13-ssc-national-economics-university/Bank-Marketing' target=\"_blank\">Weights & Biases</a> (<a href='https://wandb.me/developer-guide' target=\"_blank\">docs</a>)<br>"
      ],
      "text/plain": [
       "<IPython.core.display.HTML object>"
      ]
     },
     "metadata": {},
     "output_type": "display_data"
    },
    {
     "data": {
      "text/html": [
       " View project at <a href='https://wandb.ai/hangtn13-ssc-national-economics-university/Bank-Marketing' target=\"_blank\">https://wandb.ai/hangtn13-ssc-national-economics-university/Bank-Marketing</a>"
      ],
      "text/plain": [
       "<IPython.core.display.HTML object>"
      ]
     },
     "metadata": {},
     "output_type": "display_data"
    },
    {
     "data": {
      "text/html": [
       " View run at <a href='https://wandb.ai/hangtn13-ssc-national-economics-university/Bank-Marketing/runs/x7p13anv' target=\"_blank\">https://wandb.ai/hangtn13-ssc-national-economics-university/Bank-Marketing/runs/x7p13anv</a>"
      ],
      "text/plain": [
       "<IPython.core.display.HTML object>"
      ]
     },
     "metadata": {},
     "output_type": "display_data"
    },
    {
     "name": "stdout",
     "output_type": "stream",
     "text": [
      "\u001b[1m============================= test session starts =============================\u001b[0m\n",
      "platform win32 -- Python 3.8.20, pytest-6.2.5, py-1.11.0, pluggy-1.5.0 -- C:\\Users\\Admin\\miniconda3\\envs\\bankmkt\\python.exe\n",
      "cachedir: .pytest_cache\n",
      "rootdir: d:\\DSEB\\DSEB_SEM_6\\MLOPS\\W2\\Mlops_Project_K64"
     ]
    },
    {
     "data": {
      "text/html": [],
      "text/plain": [
       "<IPython.core.display.HTML object>"
      ]
     },
     "metadata": {},
     "output_type": "display_data"
    },
    {
     "name": "stdout",
     "output_type": "stream",
     "text": [
      "\n",
      "plugins: anyio-3.7.1, sugar-1.0.0, typeguard-4.4.0\n",
      "\u001b[1mcollecting ... \u001b[0mcollected 0 items / 1 error\n",
      "\n",
      "=================================== ERRORS ====================================\n",
      "\u001b[31m\u001b[1m________________________ ERROR collecting test_data.py ________________________\u001b[0m\n",
      "\u001b[1m\u001b[31mtest_data.py\u001b[0m:7: in <module>\n",
      "    run = wandb.init(\u001b[90m\u001b[39;49;00m\n",
      "\u001b[1m\u001b[31mC:\\Users\\Admin\\miniconda3\\envs\\bankmkt\\lib\\site-packages\\wandb\\sdk\\wandb_init.py\u001b[0m:1544: in init\n",
      "    wandb._sentry.reraise(e)\u001b[90m\u001b[39;49;00m\n",
      "\u001b[1m\u001b[31mC:\\Users\\Admin\\miniconda3\\envs\\bankmkt\\lib\\site-packages\\wandb\\analytics\\sentry.py\u001b[0m:156: in reraise\n",
      "    \u001b[94mraise\u001b[39;49;00m exc.with_traceback(sys.exc_info()[\u001b[94m2\u001b[39;49;00m])\u001b[90m\u001b[39;49;00m\n",
      "\u001b[1m\u001b[31mC:\\Users\\Admin\\miniconda3\\envs\\bankmkt\\lib\\site-packages\\wandb\\sdk\\wandb_init.py\u001b[0m:1474: in init\n",
      "    wl = wandb_setup._setup(start_service=\u001b[94mFalse\u001b[39;49;00m)\u001b[90m\u001b[39;49;00m\n",
      "\u001b[1m\u001b[31mC:\\Users\\Admin\\miniconda3\\envs\\bankmkt\\lib\\contextlib.py\u001b[0m:75: in inner\n",
      "    \u001b[94mreturn\u001b[39;49;00m func(*args, **kwds)\u001b[90m\u001b[39;49;00m\n",
      "\u001b[1m\u001b[31mC:\\Users\\Admin\\miniconda3\\envs\\bankmkt\\lib\\site-packages\\wandb\\sdk\\wandb_setup.py\u001b[0m:319: in _setup\n",
      "    _singleton = _WandbSetup(settings=settings, pid=pid)\u001b[90m\u001b[39;49;00m\n",
      "\u001b[1m\u001b[31mC:\\Users\\Admin\\miniconda3\\envs\\bankmkt\\lib\\site-packages\\wandb\\sdk\\wandb_setup.py\u001b[0m:96: in __init__\n",
      "    \u001b[96mself\u001b[39;49;00m._settings = \u001b[96mself\u001b[39;49;00m._settings_setup(settings)\u001b[90m\u001b[39;49;00m\n",
      "\u001b[1m\u001b[31mC:\\Users\\Admin\\miniconda3\\envs\\bankmkt\\lib\\site-packages\\wandb\\sdk\\wandb_setup.py\u001b[0m:130: in _settings_setup\n",
      "    s.update_from_system_environment()\u001b[90m\u001b[39;49;00m\n",
      "\u001b[1m\u001b[31mC:\\Users\\Admin\\miniconda3\\envs\\bankmkt\\lib\\site-packages\\wandb\\sdk\\wandb_settings.py\u001b[0m:1532: in update_from_system_environment\n",
      "    \u001b[96mself\u001b[39;49;00m.program_relpath = \u001b[96mself\u001b[39;49;00m.program_relpath \u001b[95mor\u001b[39;49;00m \u001b[96mself\u001b[39;49;00m._get_program_relpath(\u001b[90m\u001b[39;49;00m\n",
      "\u001b[1m\u001b[31mC:\\Users\\Admin\\miniconda3\\envs\\bankmkt\\lib\\site-packages\\wandb\\sdk\\wandb_settings.py\u001b[0m:1669: in _get_program_relpath\n",
      "    relative_path = os.path.relpath(full_path_to_program, start=root)\u001b[90m\u001b[39;49;00m\n",
      "\u001b[1m\u001b[31mC:\\Users\\Admin\\miniconda3\\envs\\bankmkt\\lib\\ntpath.py\u001b[0m:703: in relpath\n",
      "    \u001b[94mraise\u001b[39;49;00m \u001b[96mValueError\u001b[39;49;00m(\u001b[33m\"\u001b[39;49;00m\u001b[33mpath is on mount \u001b[39;49;00m\u001b[33m%r\u001b[39;49;00m\u001b[33m, start on mount \u001b[39;49;00m\u001b[33m%r\u001b[39;49;00m\u001b[33m\"\u001b[39;49;00m % (\u001b[90m\u001b[39;49;00m\n",
      "\u001b[1m\u001b[31mE   ValueError: path is on mount 'C:', start on mount 'D:'\u001b[0m\n",
      "=========================== short test summary info ===========================\n",
      "ERROR test_data.py - ValueError: path is on mount 'C:', start on mount 'D:'\n",
      "!!!!!!!!!!!!!!!!!!! Interrupted: 1 error during collection !!!!!!!!!!!!!!!!!!!!\n",
      "\u001b[31m============================== \u001b[31m\u001b[1m1 error\u001b[0m\u001b[31m in 18.34s\u001b[0m\u001b[31m ==============================\u001b[0m\n"
     ]
    },
    {
     "name": "stderr",
     "output_type": "stream",
     "text": [
      "c:\\Users\\Admin\\miniconda3\\envs\\bankmkt\\lib\\site-packages\\wandb\\sdk\\wandb_run.py:387: UserWarning: Run (x7p13anv) is finished. The call to `_console_raw_callback` will be ignored. Please make sure that you are using an active run.\n",
      "  return func(self, *args, **kwargs)\n"
     ]
    },
    {
     "data": {
      "text/html": [
       " View run <strong style=\"color:#cdcd00\">whole-pond-28</strong> at: <a href='https://wandb.ai/hangtn13-ssc-national-economics-university/Bank-Marketing/runs/x7p13anv' target=\"_blank\">https://wandb.ai/hangtn13-ssc-national-economics-university/Bank-Marketing/runs/x7p13anv</a><br> View project at: <a href='https://wandb.ai/hangtn13-ssc-national-economics-university/Bank-Marketing' target=\"_blank\">https://wandb.ai/hangtn13-ssc-national-economics-university/Bank-Marketing</a><br>Synced 5 W&B file(s), 0 media file(s), 0 artifact file(s) and 0 other file(s)"
      ],
      "text/plain": [
       "<IPython.core.display.HTML object>"
      ]
     },
     "metadata": {},
     "output_type": "display_data"
    },
    {
     "data": {
      "text/html": [
       "Find logs at: <code>.\\wandb\\run-20250507_210910-x7p13anv\\logs</code>"
      ],
      "text/plain": [
       "<IPython.core.display.HTML object>"
      ]
     },
     "metadata": {},
     "output_type": "display_data"
    }
   ],
   "source": [
    "# Initialize run in the notebook\n",
    "run = wandb.init(project=\"Bank-Marketing\", job_type=\"data_checks\")\n",
    "\n",
    "# Run pytest\n",
    "!pytest . -vv\n",
    "\n",
    "# Close the run\n",
    "run.finish()"
   ]
  }
 ],
 "metadata": {
  "kernelspec": {
   "display_name": "bankmkt",
   "language": "python",
   "name": "python3"
  },
  "language_info": {
   "codemirror_mode": {
    "name": "ipython",
    "version": 3
   },
   "file_extension": ".py",
   "mimetype": "text/x-python",
   "name": "python",
   "nbconvert_exporter": "python",
   "pygments_lexer": "ipython3",
   "version": "3.8.20"
  }
 },
 "nbformat": 4,
 "nbformat_minor": 5
}
