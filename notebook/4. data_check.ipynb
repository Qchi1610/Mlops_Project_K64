{
 "cells": [
  {
   "cell_type": "code",
   "execution_count": 3,
   "id": "7c7c313d",
   "metadata": {},
   "outputs": [],
   "source": [
    "import wandb\n",
    "import os\n",
    "from dotenv import load_dotenv\n",
    "import sys\n",
    "import pytest\n",
    "import pandas as pd"
   ]
  },
  {
   "cell_type": "code",
   "execution_count": 2,
   "id": "78700ec2",
   "metadata": {},
   "outputs": [
    {
     "name": "stderr",
     "output_type": "stream",
     "text": [
      "Failed to detect the name of this notebook, you can set it manually with the WANDB_NOTEBOOK_NAME environment variable to enable code saving.\n",
      "\u001b[34m\u001b[1mwandb\u001b[0m: Currently logged in as: \u001b[33mhangtn13-ssc-national-economics-university\u001b[0m (use `wandb login --relogin` to force relogin)\n",
      "\u001b[34m\u001b[1mwandb\u001b[0m: \u001b[33mWARNING\u001b[0m If you're specifying your api key in code, ensure this code is not shared publicly.\n",
      "\u001b[34m\u001b[1mwandb\u001b[0m: \u001b[33mWARNING\u001b[0m Consider setting the WANDB_API_KEY environment variable, or running `wandb login` from the command line.\n",
      "\u001b[34m\u001b[1mwandb\u001b[0m: Appending key for api.wandb.ai to your netrc file: C:\\Users\\HP/.netrc\n"
     ]
    },
    {
     "data": {
      "text/plain": [
       "True"
      ]
     },
     "execution_count": 2,
     "metadata": {},
     "output_type": "execute_result"
    }
   ],
   "source": [
    "load_dotenv()\n",
    "\n",
    "WANDB_API_KEY=os.environ.get('WANDB_API_KEY')\n",
    "wandb.login(key=WANDB_API_KEY)"
   ]
  },
  {
   "cell_type": "code",
   "execution_count": 6,
   "id": "20c31856",
   "metadata": {},
   "outputs": [
    {
     "name": "stdout",
     "output_type": "stream",
     "text": [
      "Writing test_data.py\n"
     ]
    }
   ],
   "source": [
    "%%file test_data.py\n",
    "import sys\n",
    "import os\n",
    "import pytest\n",
    "import pandas as pd\n",
    "import wandb\n",
    "\n",
    "run = wandb.init(\n",
    "    project=\"Bank-Marketing\",\n",
    "    job_type=\"data_checks\"\n",
    ")\n",
    "@pytest.fixture(scope=\"session\")\n",
    "def data():\n",
    "    local_path = run.use_artifact(\"Bank-Marketing/raw_data:latest\").file()\n",
    "    df = pd.read_csv(local_path)\n",
    "    return df\n",
    "\n",
    "def test_data_length(data):\n",
    "    \"\"\"\n",
    "    We test that we have enough data to continue\n",
    "    \"\"\"\n",
    "    assert len(data) > 1000\n",
    "\n",
    "def test_number_of_columns(data):\n",
    "    \"\"\"\n",
    "    We test that we have the correct number of columns\n",
    "    \"\"\"\n",
    "    assert data.shape[1] == 21, f\"Expected 21 columns, but got {data.shape[1]}\"\n",
    "\n",
    "def test_column_presence_and_type(data):\n",
    "    required_columns = {\n",
    "        \"age\": pd.api.types.is_int64_dtype,\n",
    "        \"job\": pd.api.types.is_object_dtype,\n",
    "        \"marital\": pd.api.types.is_object_dtype,\n",
    "        \"education\": pd.api.types.is_object_dtype,\n",
    "        \"default\": pd.api.types.is_object_dtype,\n",
    "        \"housing\": pd.api.types.is_object_dtype,\n",
    "        \"loan\": pd.api.types.is_object_dtype,\n",
    "        \"contact\": pd.api.types.is_object_dtype,\n",
    "        \"month\": pd.api.types.is_object_dtype,\n",
    "        \"day_of_week\": pd.api.types.is_object_dtype,\n",
    "        \"duration\": pd.api.types.is_int64_dtype,\n",
    "        \"campaign\": pd.api.types.is_int64_dtype,\n",
    "        \"pdays\": pd.api.types.is_int64_dtype,\n",
    "        \"previous\": pd.api.types.is_int64_dtype,\n",
    "        \"poutcome\": pd.api.types.is_object_dtype,\n",
    "        \"emp_var_rate\": pd.api.types.is_float_dtype,\n",
    "        \"cons_price_idx\": pd.api.types.is_float_dtype,\n",
    "        \"cons_conf_idx\": pd.api.types.is_float_dtype,\n",
    "        \"euribor3m\": pd.api.types.is_float_dtype,\n",
    "        \"nr_employed\": pd.api.types.is_float_dtype,\n",
    "        \"y\": pd.api.types.is_object_dtype\n",
    "    }\n",
    "\n",
    "    # Check column presence\n",
    "    assert set(data.columns.values).issuperset(set(required_columns.keys()))\n",
    "\n",
    "    for col_name, format_verification_funct in required_columns.items():\n",
    "        assert format_verification_funct(data[col_name]), f\"Column {col_name} failed test {format_verification_funct}\"\n",
    "\n",
    "def test_class_names(data):\n",
    "    # Check that only the known classes are present for binary columns\n",
    "    known_classes = [\"yes\", \"no\"]\n",
    "\n",
    "    #assert data[\"default\"].isin(known_classes).all(), f\"Column default has unknown values: {data['default'].unique()}\"\n",
    "    #assert data[\"housing\"].isin(known_classes).all(), f\"Column housing has unknown values: {data['housing'].unique()}\"\n",
    "    #assert data[\"loan\"].isin(known_classes).all(), f\"Column loan has unknown values: {data['loan'].unique()}\"\n",
    "    assert data[\"y\"].isin(known_classes).all(), f\"Column y has unknown values: {data['y'].unique()}\"\n",
    "\n",
    "def test_categorical_values(data):\n",
    "    # Check that categorical columns only contain allowed values\n",
    "    job_categories = ['admin.','blue-collar','entrepreneur','housemaid','management','retired','self-employed','services','student','technician','unemployed','unknown']\n",
    "    marital_status = ['unknown','married', 'divorced', 'single']\n",
    "    education_levels = ['basic.4y','basic.6y','basic.9y','high.school','illiterate','professional.course','university.degree','unknown']\n",
    "    contact_types = ['telephone', 'cellular']\n",
    "    month_values = ['jan', 'feb', 'mar', 'apr', 'may', 'jun', 'jul', 'aug', 'sep', 'oct', 'nov', 'dec']\n",
    "    poutcome_values = ['nonexistent', 'failure', 'success']\n",
    "    day_of_week_values = ['mon', 'tue', 'wed', 'thu', 'fri', 'sat', 'sun']\n",
    "\n",
    "    assert data[\"job\"].isin(job_categories).all(), f\"Column job has unknown values: {data['job'].unique()}\"\n",
    "    assert data[\"marital\"].isin(marital_status).all(), f\"Column marital has unknown values: {data['marital'].unique()}\"\n",
    "    assert data[\"education\"].isin(education_levels).all(), f\"Column education has unknown values: {data['education'].unique()}\"\n",
    "    assert data[\"contact\"].isin(contact_types).all(), f\"Column contact has unknown values: {data['contact'].unique()}\"\n",
    "    assert data[\"month\"].isin(month_values).all(),  f\"Column month has unknown values: {data['month'].unique()}\"\n",
    "    assert data[\"poutcome\"].isin(poutcome_values).all(), f\"Column poutcome has unknown values: {data['poutcome'].unique()}\"\n",
    "    assert data[\"day_of_week\"].isin(day_of_week_values).all(), f\"Column day_of_week has unknown values: {data['day_of_week'].unique()}\"\n",
    "\n",
    "def test_column_ranges(data):\n",
    "    # Add ranges for columns\n",
    "    ranges = {\n",
    "        \"age\": (0, 100),\n",
    "        \"duration\": (0, 5000),  # Assuming the duration can be up to 5000 seconds\n",
    "        \"campaign\": (0, 100),\n",
    "        \"pdays\": (-1, 1000),  # -1 means client was not contacted previously\n",
    "        \"previous\": (0, 100),\n",
    "        \"emp_var_rate\": (-10, 10),  # Giả sử tỷ lệ biến động trong phạm vi này\n",
    "        \"cons_price_idx\": (90, 110),  # Giả sử CPI dao động trong phạm vi này\n",
    "        \"cons_conf_idx\": (-55, 55),  # Chỉ số niềm tin tiêu dùng thường trong phạm vi này\n",
    "        \"euribor3m\": (0, 6),  # Lãi suất giữa các ngân hàng thường trong phạm vi này\n",
    "        \"nr_employed\": (0, 10000),  # Số người có việc làm \n",
    "    }\n",
    "\n",
    "    for col_name, (minimum, maximum) in ranges.items():\n",
    "        assert data[col_name].dropna().between(minimum, maximum).all(), (\n",
    "            f\"Column {col_name} failed the test. Should be between {minimum} and {maximum}, \"\n",
    "            f\"instead min={data[col_name].min()} and max={data[col_name].max()}\"\n",
    "        )"
   ]
  },
  {
   "cell_type": "code",
   "execution_count": 7,
   "id": "137ff3ee",
   "metadata": {},
   "outputs": [
    {
     "data": {
      "text/html": [
       "wandb version 0.19.11 is available!  To upgrade, please run:\n",
       " $ pip install wandb --upgrade"
      ],
      "text/plain": [
       "<IPython.core.display.HTML object>"
      ]
     },
     "metadata": {},
     "output_type": "display_data"
    },
    {
     "data": {
      "text/html": [
       "Tracking run with wandb version 0.12.14"
      ],
      "text/plain": [
       "<IPython.core.display.HTML object>"
      ]
     },
     "metadata": {},
     "output_type": "display_data"
    },
    {
     "data": {
      "text/html": [
       "Run data is saved locally in <code>c:\\Mlops_Project_K64_v2\\notebook\\wandb\\run-20250510_102625-gvywynjt</code>"
      ],
      "text/plain": [
       "<IPython.core.display.HTML object>"
      ]
     },
     "metadata": {},
     "output_type": "display_data"
    },
    {
     "data": {
      "text/html": [
       "Syncing run <strong><a href=\"https://wandb.ai/hangtn13-ssc-national-economics-university/Bank-Marketing/runs/gvywynjt\" target=\"_blank\">autumn-wind-118</a></strong> to <a href=\"https://wandb.ai/hangtn13-ssc-national-economics-university/Bank-Marketing\" target=\"_blank\">Weights & Biases</a> (<a href=\"https://wandb.me/run\" target=\"_blank\">docs</a>)<br/>"
      ],
      "text/plain": [
       "<IPython.core.display.HTML object>"
      ]
     },
     "metadata": {},
     "output_type": "display_data"
    },
    {
     "name": "stdout",
     "output_type": "stream",
     "text": [
      "\u001b[1m============================= test session starts =============================\u001b[0m\n",
      "platform win32 -- Python 3.8.20, pytest-6.2.5, py-1.11.0, pluggy-1.5.0 -- C:\\Users\\HP\\anaconda3\\envs\\bankmkt\\python.exe\n",
      "cachedir: .pytest_cache\n",
      "rootdir: c:\\Mlops_Project_K64_v2\\notebook\n",
      "plugins: anyio-3.7.1, typeguard-4.4.0\n",
      "\u001b[1mcollecting ... \u001b[0mcollected 6 items\n",
      "\n",
      "test_data.py::test_data_length \u001b[32mPASSED\u001b[0m\u001b[32m                                    [ 16%]\u001b[0m\n",
      "test_data.py::test_number_of_columns \u001b[32mPASSED\u001b[0m\u001b[32m                              [ 33%]\u001b[0m\n",
      "test_data.py::test_column_presence_and_type \u001b[32mPASSED\u001b[0m\u001b[32m                       [ 50%]\u001b[0m\n",
      "test_data.py::test_class_names \u001b[32mPASSED\u001b[0m\u001b[32m                                    [ 66%]\u001b[0m\n",
      "test_data.py::test_categorical_values \u001b[32mPASSED\u001b[0m\u001b[32m                             [ 83%]\u001b[0m\n",
      "test_data.py::test_column_ranges \u001b[32mPASSED\u001b[0m\u001b[32m                                  [100%]\u001b[0m\n",
      "\n",
      "\u001b[32m============================= \u001b[32m\u001b[1m6 passed\u001b[0m\u001b[32m in 19.22s\u001b[0m\u001b[32m ==============================\u001b[0m\n",
      "\n"
     ]
    },
    {
     "data": {
      "text/html": [
       "Waiting for W&B process to finish... <strong style=\"color:green\">(success).</strong>"
      ],
      "text/plain": [
       "<IPython.core.display.HTML object>"
      ]
     },
     "metadata": {},
     "output_type": "display_data"
    },
    {
     "data": {
      "application/vnd.jupyter.widget-view+json": {
       "model_id": "7328e6abdc2d44f5a4020f1e22ca0928",
       "version_major": 2,
       "version_minor": 0
      },
      "text/plain": [
       "VBox(children=(Label(value='0.001 MB of 0.001 MB uploaded (0.000 MB deduped)\\r'), FloatProgress(value=1.0, max…"
      ]
     },
     "metadata": {},
     "output_type": "display_data"
    },
    {
     "data": {
      "text/html": [
       "Synced <strong style=\"color:#cdcd00\">autumn-wind-118</strong>: <a href=\"https://wandb.ai/hangtn13-ssc-national-economics-university/Bank-Marketing/runs/gvywynjt\" target=\"_blank\">https://wandb.ai/hangtn13-ssc-national-economics-university/Bank-Marketing/runs/gvywynjt</a><br/>Synced 6 W&B file(s), 0 media file(s), 0 artifact file(s) and 0 other file(s)"
      ],
      "text/plain": [
       "<IPython.core.display.HTML object>"
      ]
     },
     "metadata": {},
     "output_type": "display_data"
    },
    {
     "data": {
      "text/html": [
       "Find logs at: <code>.\\wandb\\run-20250510_102625-gvywynjt\\logs</code>"
      ],
      "text/plain": [
       "<IPython.core.display.HTML object>"
      ]
     },
     "metadata": {},
     "output_type": "display_data"
    }
   ],
   "source": [
    "# Initialize run in the notebook\n",
    "run = wandb.init(project=\"Bank-Marketing\", job_type=\"data_checks\")\n",
    "\n",
    "# Run pytest\n",
    "!pytest . -vv\n",
    "\n",
    "# Close the run\n",
    "run.finish()"
   ]
  }
 ],
 "metadata": {
  "kernelspec": {
   "display_name": "bankmkt",
   "language": "python",
   "name": "python3"
  },
  "language_info": {
   "codemirror_mode": {
    "name": "ipython",
    "version": 3
   },
   "file_extension": ".py",
   "mimetype": "text/x-python",
   "name": "python",
   "nbconvert_exporter": "python",
   "pygments_lexer": "ipython3",
   "version": "3.8.20"
  }
 },
 "nbformat": 4,
 "nbformat_minor": 5
}
