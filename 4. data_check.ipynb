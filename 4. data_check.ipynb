{
 "cells": [
  {
   "cell_type": "code",
   "execution_count": 16,
   "id": "7c7c313d",
   "metadata": {},
   "outputs": [
    {
     "data": {
      "text/plain": [
       "True"
      ]
     },
     "execution_count": 16,
     "metadata": {},
     "output_type": "execute_result"
    }
   ],
   "source": [
    "import wandb\n",
    "import os\n",
    "from dotenv import load_dotenv\n",
    "load_dotenv()\n",
    "\n",
    "WANDB_API_KEY=os.environ.get('WANDB_API_KEY')\n",
    "wandb.login(key=WANDB_API_KEY)"
   ]
  },
  {
   "cell_type": "code",
   "execution_count": null,
   "id": "8dc4afe7",
   "metadata": {},
   "outputs": [],
   "source": [
    "# Login to Weights & Biases\n",
    "!wandb login --relogin $WANDB_API_KEY"
   ]
  },
  {
   "cell_type": "code",
   "execution_count": 17,
   "id": "20c31856",
   "metadata": {},
   "outputs": [
    {
     "name": "stdout",
     "output_type": "stream",
     "text": [
      "Overwriting test_data.py\n"
     ]
    }
   ],
   "source": [
    "%%file test_data.py\n",
    "import sys\n",
    "import os\n",
    "import pytest\n",
    "import pandas as pd\n",
    "import wandb\n",
    "\n",
    "run = wandb.init(\n",
    "    project=\"Bank-Marketing\",\n",
    "    job_type=\"data_checks\"\n",
    ")\n",
    "@pytest.fixture(scope=\"session\")\n",
    "def data():\n",
    "    local_path = run.use_artifact(\"Bank-Marketing/raw_data:latest\").file()\n",
    "    df = pd.read_csv(local_path)\n",
    "    return df\n",
    "\n",
    "def test_data_length(data):\n",
    "    \"\"\"\n",
    "    We test that we have enough data to continue\n",
    "    \"\"\"\n",
    "    assert len(data) > 1000\n",
    "\n",
    "def test_number_of_columns(data):\n",
    "    \"\"\"\n",
    "    We test that we have the correct number of columns\n",
    "    \"\"\"\n",
    "    assert data.shape[1] == 21, f\"Expected 21 columns, but got {data.shape[1]}\"\n",
    "\n",
    "def test_column_presence_and_type(data):\n",
    "    required_columns = {\n",
    "        \"age\": pd.api.types.is_int64_dtype,\n",
    "        \"job\": pd.api.types.is_object_dtype,\n",
    "        \"marital\": pd.api.types.is_object_dtype,\n",
    "        \"education\": pd.api.types.is_object_dtype,\n",
    "        \"default\": pd.api.types.is_object_dtype,\n",
    "        \"housing\": pd.api.types.is_object_dtype,\n",
    "        \"loan\": pd.api.types.is_object_dtype,\n",
    "        \"contact\": pd.api.types.is_object_dtype,\n",
    "        \"month\": pd.api.types.is_object_dtype,\n",
    "        \"day_of_week\": pd.api.types.is_object_dtype,\n",
    "        \"duration\": pd.api.types.is_int64_dtype,\n",
    "        \"campaign\": pd.api.types.is_int64_dtype,\n",
    "        \"pdays\": pd.api.types.is_int64_dtype,\n",
    "        \"previous\": pd.api.types.is_int64_dtype,\n",
    "        \"poutcome\": pd.api.types.is_object_dtype,\n",
    "        \"emp_var_rate\": pd.api.types.is_float_dtype,\n",
    "        \"cons_price_idx\": pd.api.types.is_float_dtype,\n",
    "        \"cons_conf_idx\": pd.api.types.is_float_dtype,\n",
    "        \"euribor3m\": pd.api.types.is_float_dtype,\n",
    "        \"nr_employed\": pd.api.types.is_float_dtype,\n",
    "        \"y\": pd.api.types.is_object_dtype\n",
    "    }\n",
    "\n",
    "    # Check column presence\n",
    "    assert set(data.columns.values).issuperset(set(required_columns.keys()))\n",
    "\n",
    "    for col_name, format_verification_funct in required_columns.items():\n",
    "        assert format_verification_funct(data[col_name]), f\"Column {col_name} failed test {format_verification_funct}\"\n",
    "\n",
    "def test_class_names(data):\n",
    "    # Check that only the known classes are present for binary columns\n",
    "    known_classes = [\"yes\", \"no\"]\n",
    "\n",
    "    #assert data[\"default\"].isin(known_classes).all(), f\"Column default has unknown values: {data['default'].unique()}\"\n",
    "    #assert data[\"housing\"].isin(known_classes).all(), f\"Column housing has unknown values: {data['housing'].unique()}\"\n",
    "    #assert data[\"loan\"].isin(known_classes).all(), f\"Column loan has unknown values: {data['loan'].unique()}\"\n",
    "    assert data[\"y\"].isin(known_classes).all(), f\"Column y has unknown values: {data['y'].unique()}\"\n",
    "\n",
    "def test_categorical_values(data):\n",
    "    # Check that categorical columns only contain allowed values\n",
    "    job_categories = ['admin.','blue-collar','entrepreneur','housemaid','management','retired','self-employed','services','student','technician','unemployed','unknown']\n",
    "    marital_status = ['unknown','married', 'divorced', 'single']\n",
    "    education_levels = ['basic.4y','basic.6y','basic.9y','high.school','illiterate','professional.course','university.degree','unknown']\n",
    "    contact_types = ['telephone', 'cellular']\n",
    "    month_values = ['jan', 'feb', 'mar', 'apr', 'may', 'jun', 'jul', 'aug', 'sep', 'oct', 'nov', 'dec']\n",
    "    poutcome_values = ['nonexistent', 'failure', 'success']\n",
    "    day_of_week_values = ['mon', 'tue', 'wed', 'thu', 'fri', 'sat', 'sun']\n",
    "\n",
    "    assert data[\"job\"].isin(job_categories).all(), f\"Column job has unknown values: {data['job'].unique()}\"\n",
    "    assert data[\"marital\"].isin(marital_status).all(), f\"Column marital has unknown values: {data['marital'].unique()}\"\n",
    "    assert data[\"education\"].isin(education_levels).all(), f\"Column education has unknown values: {data['education'].unique()}\"\n",
    "    assert data[\"contact\"].isin(contact_types).all(), f\"Column contact has unknown values: {data['contact'].unique()}\"\n",
    "    assert data[\"month\"].isin(month_values).all(),  f\"Column month has unknown values: {data['month'].unique()}\"\n",
    "    assert data[\"poutcome\"].isin(poutcome_values).all(), f\"Column poutcome has unknown values: {data['poutcome'].unique()}\"\n",
    "    assert data[\"day_of_week\"].isin(day_of_week_values).all(), f\"Column day_of_week has unknown values: {data['day_of_week'].unique()}\"\n",
    "\n",
    "def test_column_ranges(data):\n",
    "    # Add ranges for columns\n",
    "    ranges = {\n",
    "        \"age\": (0, 100),\n",
    "        \"duration\": (0, 5000),  # Assuming the duration can be up to 5000 seconds\n",
    "        \"campaign\": (0, 100),\n",
    "        \"pdays\": (-1, 1000),  # -1 means client was not contacted previously\n",
    "        \"previous\": (0, 100),\n",
    "        \"emp_var_rate\": (-10, 10),  # Giả sử tỷ lệ biến động trong phạm vi này\n",
    "        \"cons_price_idx\": (90, 110),  # Giả sử CPI dao động trong phạm vi này\n",
    "        \"cons_conf_idx\": (-55, 55),  # Chỉ số niềm tin tiêu dùng thường trong phạm vi này\n",
    "        \"euribor3m\": (0, 6),  # Lãi suất giữa các ngân hàng thường trong phạm vi này\n",
    "        \"nr_employed\": (0, 10000),  # Số người có việc làm \n",
    "    }\n",
    "\n",
    "    for col_name, (minimum, maximum) in ranges.items():\n",
    "        assert data[col_name].dropna().between(minimum, maximum).all(), (\n",
    "            f\"Column {col_name} failed the test. Should be between {minimum} and {maximum}, \"\n",
    "            f\"instead min={data[col_name].min()} and max={data[col_name].max()}\"\n",
    "        )"
   ]
  },
  {
   "cell_type": "code",
   "execution_count": 18,
   "id": "137ff3ee",
   "metadata": {},
   "outputs": [
    {
     "name": "stdout",
     "output_type": "stream",
     "text": [
      "\u001b[1m============================= test session starts =============================\u001b[0m\n",
      "platform win32 -- Python 3.8.20, pytest-6.2.5, py-1.11.0, pluggy-1.5.0 -- C:\\Users\\dell\\miniconda3\\envs\\bankmkt\\python.exe\n",
      "cachedir: .pytest_cache\n",
      "rootdir: c:\\Users\\dell\\Downloads\\Mlops_Project_K64\\Mlops_Project_K64-experiment-1\n",
      "plugins: anyio-3.7.1\n",
      "\u001b[1mcollecting ... \u001b[0mcollected 6 items\n",
      "\n",
      "test_data.py::test_data_length \u001b[32mPASSED\u001b[0m\u001b[32m                                    [ 16%]\u001b[0m\n",
      "test_data.py::test_number_of_columns \u001b[32mPASSED\u001b[0m\u001b[32m                              [ 33%]\u001b[0m\n",
      "test_data.py::test_column_presence_and_type \u001b[32mPASSED\u001b[0m\u001b[32m                       [ 50%]\u001b[0m\n",
      "test_data.py::test_class_names \u001b[32mPASSED\u001b[0m\u001b[32m                                    [ 66%]\u001b[0m\n",
      "test_data.py::test_categorical_values \u001b[32mPASSED\u001b[0m\u001b[32m                             [ 83%]\u001b[0m\n",
      "test_data.py::test_column_ranges \u001b[32mPASSED\u001b[0m\u001b[32m                                  [100%]\u001b[0m\n",
      "\n",
      "\u001b[32m============================= \u001b[32m\u001b[1m6 passed\u001b[0m\u001b[32m in 17.91s\u001b[0m\u001b[32m ==============================\u001b[0m\n"
     ]
    }
   ],
   "source": [
    "!pytest . -vv"
   ]
  },
  {
   "cell_type": "code",
   "execution_count": 14,
   "id": "97237919",
   "metadata": {},
   "outputs": [
    {
     "ename": "NameError",
     "evalue": "name 'run' is not defined",
     "output_type": "error",
     "traceback": [
      "\u001b[1;31m---------------------------------------------------------------------------\u001b[0m",
      "\u001b[1;31mNameError\u001b[0m                                 Traceback (most recent call last)",
      "Cell \u001b[1;32mIn[14], line 3\u001b[0m\n\u001b[0;32m      1\u001b[0m \u001b[38;5;66;03m# close the run\u001b[39;00m\n\u001b[0;32m      2\u001b[0m \u001b[38;5;66;03m# waiting a while after run the previous cell before execute this\u001b[39;00m\n\u001b[1;32m----> 3\u001b[0m \u001b[43mrun\u001b[49m\u001b[38;5;241m.\u001b[39mfinish()\n",
      "\u001b[1;31mNameError\u001b[0m: name 'run' is not defined"
     ]
    }
   ],
   "source": [
    "# close the run\n",
    "# waiting a while after run the previous cell before execute this\n",
    "run.finish()"
   ]
  }
 ],
 "metadata": {
  "kernelspec": {
   "display_name": "bankmkt",
   "language": "python",
   "name": "python3"
  },
  "language_info": {
   "codemirror_mode": {
    "name": "ipython",
    "version": 3
   },
   "file_extension": ".py",
   "mimetype": "text/x-python",
   "name": "python",
   "nbconvert_exporter": "python",
   "pygments_lexer": "ipython3",
   "version": "3.8.20"
  }
 },
 "nbformat": 4,
 "nbformat_minor": 5
}
