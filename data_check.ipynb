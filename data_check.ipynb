{
 "cells": [
  {
   "cell_type": "code",
   "execution_count": null,
   "id": "31bfa282",
   "metadata": {},
   "outputs": [
    {
     "name": "stdout",
     "output_type": "stream",
     "text": [
      "Collecting dotenv\n",
      "  Downloading dotenv-0.9.9-py2.py3-none-any.whl (1.9 kB)\n",
      "Collecting python-dotenv\n",
      "  Downloading python_dotenv-1.0.1-py3-none-any.whl (19 kB)\n",
      "Installing collected packages: python-dotenv, dotenv\n",
      "Successfully installed dotenv-0.9.9 python-dotenv-1.0.1\n",
      "Note: you may need to restart the kernel to use updated packages.\n"
     ]
    }
   ],
   "source": [
    "#pip install dotenv"
   ]
  },
  {
   "cell_type": "code",
   "execution_count": 7,
   "id": "7c7c313d",
   "metadata": {},
   "outputs": [
    {
     "name": "stderr",
     "output_type": "stream",
     "text": [
      "\u001b[34m\u001b[1mwandb\u001b[0m: Currently logged in as: \u001b[33mhangtn13-ssc-national-economics-university\u001b[0m (use `wandb login --relogin` to force relogin)\n"
     ]
    },
    {
     "data": {
      "text/plain": [
       "True"
      ]
     },
     "execution_count": 7,
     "metadata": {},
     "output_type": "execute_result"
    }
   ],
   "source": [
    "import wandb\n",
    "import os\n",
    "from dotenv import load_dotenv\n",
    "load_dotenv()\n",
    "\n",
    "WANDB_API_KEY=os.environ.get('WANDB_API_KEY')\n",
    "wandb.login(key=WANDB_API_KEY)"
   ]
  },
  {
   "cell_type": "code",
   "execution_count": null,
   "id": "6b6170b2",
   "metadata": {},
   "outputs": [
    {
     "data": {
      "text/html": [
       "wandb version 0.19.9 is available!  To upgrade, please run:\n",
       " $ pip install wandb --upgrade"
      ],
      "text/plain": [
       "<IPython.core.display.HTML object>"
      ]
     },
     "metadata": {},
     "output_type": "display_data"
    },
    {
     "data": {
      "text/html": [
       "Tracking run with wandb version 0.12.14"
      ],
      "text/plain": [
       "<IPython.core.display.HTML object>"
      ]
     },
     "metadata": {},
     "output_type": "display_data"
    },
    {
     "data": {
      "text/html": [
       "Run data is saved locally in <code>c:\\Users\\dell\\Downloads\\Mlops_Project_K64\\wandb\\run-20250418_215135-pmlfx63t</code>"
      ],
      "text/plain": [
       "<IPython.core.display.HTML object>"
      ]
     },
     "metadata": {},
     "output_type": "display_data"
    },
    {
     "data": {
      "text/html": [
       "Syncing run <strong><a href=\"https://wandb.ai/hangtn13-ssc-national-economics-university/Bank-Marketing/runs/pmlfx63t\" target=\"_blank\">warm-water-8</a></strong> to <a href=\"https://wandb.ai/hangtn13-ssc-national-economics-university/Bank-Marketing\" target=\"_blank\">Weights & Biases</a> (<a href=\"https://wandb.me/run\" target=\"_blank\">docs</a>)<br/>"
      ],
      "text/plain": [
       "<IPython.core.display.HTML object>"
      ]
     },
     "metadata": {},
     "output_type": "display_data"
    },
    {
     "name": "stdout",
     "output_type": "stream",
     "text": [
      "\n"
     ]
    },
    {
     "data": {
      "text/html": [
       "Waiting for W&B process to finish... <strong style=\"color:green\">(success).</strong>"
      ],
      "text/plain": [
       "<IPython.core.display.HTML object>"
      ]
     },
     "metadata": {},
     "output_type": "display_data"
    },
    {
     "data": {
      "application/vnd.jupyter.widget-view+json": {
       "model_id": "0007202735d04af4b2fee96274d7eea9",
       "version_major": 2,
       "version_minor": 0
      },
      "text/plain": [
       "VBox(children=(Label(value='0.000 MB of 0.000 MB uploaded (0.000 MB deduped)\\r'), FloatProgress(value=1.0, max…"
      ]
     },
     "metadata": {},
     "output_type": "display_data"
    },
    {
     "data": {
      "text/html": [
       "Synced <strong style=\"color:#cdcd00\">warm-water-8</strong>: <a href=\"https://wandb.ai/hangtn13-ssc-national-economics-university/Bank-Marketing/runs/pmlfx63t\" target=\"_blank\">https://wandb.ai/hangtn13-ssc-national-economics-university/Bank-Marketing/runs/pmlfx63t</a><br/>Synced 5 W&B file(s), 0 media file(s), 0 artifact file(s) and 0 other file(s)"
      ],
      "text/plain": [
       "<IPython.core.display.HTML object>"
      ]
     },
     "metadata": {},
     "output_type": "display_data"
    },
    {
     "data": {
      "text/html": [
       "Find logs at: <code>.\\wandb\\run-20250418_215135-pmlfx63t\\logs</code>"
      ],
      "text/plain": [
       "<IPython.core.display.HTML object>"
      ]
     },
     "metadata": {},
     "output_type": "display_data"
    }
   ],
   "source": [
    "'''run = wandb.init(project=\"Bank-Marketing\", job_type=\"data\")\n",
    "\n",
    "# Log artifact\n",
    "artifact = wandb.Artifact(\"raw_data\", type=\"dataset\")\n",
    "artifact.add_file(\"bank-additional-full.csv\")\n",
    "run.log_artifact(artifact)\n",
    "\n",
    "run.finish()'''"
   ]
  },
  {
   "cell_type": "code",
   "execution_count": 26,
   "id": "20c31856",
   "metadata": {},
   "outputs": [
    {
     "name": "stdout",
     "output_type": "stream",
     "text": [
      "Overwriting test_data.py\n"
     ]
    }
   ],
   "source": [
    "%%file test_data.py\n",
    "import pytest\n",
    "import wandb\n",
    "import pandas as pd\n",
    "\n",
    "# This is global so all tests are collected under the same run\n",
    "run = wandb.init(project=\"Bank-Marketing\", job_type=\"data_checks\")\n",
    "\n",
    "@pytest.fixture(scope=\"session\")\n",
    "def data():\n",
    "    local_path = run.use_artifact(\"Bank-Marketing/raw_data:latest\").file()\n",
    "    df = pd.read_csv(local_path, delimiter=\";\")\n",
    "    return df\n",
    "\n",
    "def test_data_length(data):\n",
    "    \"\"\"\n",
    "    We test that we have enough data to continue\n",
    "    \"\"\"\n",
    "    assert len(data) > 1000\n",
    "\n",
    "def test_number_of_columns(data):\n",
    "    \"\"\"\n",
    "    We test that we have the correct number of columns\n",
    "    \"\"\"\n",
    "    assert data.shape[1] == 21, f\"Expected 21 columns, but got {data.shape[1]}\"\n",
    "\n",
    "def test_column_presence_and_type(data):\n",
    "    required_columns = {\n",
    "        \"age\": pd.api.types.is_int64_dtype,\n",
    "        \"job\": pd.api.types.is_object_dtype,\n",
    "        \"marital\": pd.api.types.is_object_dtype,\n",
    "        \"education\": pd.api.types.is_object_dtype,\n",
    "        \"default\": pd.api.types.is_object_dtype,\n",
    "        \"housing\": pd.api.types.is_object_dtype,\n",
    "        \"loan\": pd.api.types.is_object_dtype,\n",
    "        \"contact\": pd.api.types.is_object_dtype,\n",
    "        \"month\": pd.api.types.is_object_dtype,\n",
    "        \"day_of_week\": pd.api.types.is_object_dtype,\n",
    "        \"duration\": pd.api.types.is_int64_dtype,\n",
    "        \"campaign\": pd.api.types.is_int64_dtype,\n",
    "        \"pdays\": pd.api.types.is_int64_dtype,\n",
    "        \"previous\": pd.api.types.is_int64_dtype,\n",
    "        \"poutcome\": pd.api.types.is_object_dtype,\n",
    "        \"emp.var.rate\": pd.api.types.is_float_dtype,\n",
    "        \"cons.price.idx\": pd.api.types.is_float_dtype,\n",
    "        \"cons.conf.idx\": pd.api.types.is_float_dtype,\n",
    "        \"euribor3m\": pd.api.types.is_float_dtype,\n",
    "        \"nr.employed\": pd.api.types.is_float_dtype,\n",
    "        \"y\": pd.api.types.is_object_dtype\n",
    "    }\n",
    "\n",
    "    # Check column presence\n",
    "    assert set(data.columns.values).issuperset(set(required_columns.keys()))\n",
    "\n",
    "    for col_name, format_verification_funct in required_columns.items():\n",
    "        assert format_verification_funct(data[col_name]), f\"Column {col_name} failed test {format_verification_funct}\"\n",
    "\n",
    "def test_class_names(data):\n",
    "    # Check that only the known classes are present for binary columns\n",
    "    known_classes = [\"yes\", \"no\"]\n",
    "\n",
    "    assert data[\"default\"].isin(known_classes).all(), f\"Column default has unknown values: {data['default'].unique()}\"\n",
    "    assert data[\"housing\"].isin(known_classes).all(), f\"Column housing has unknown values: {data['housing'].unique()}\"\n",
    "    assert data[\"loan\"].isin(known_classes).all(), f\"Column loan has unknown values: {data['loan'].unique()}\"\n",
    "    assert data[\"y\"].isin(known_classes).all(), f\"Column y has unknown values: {data['y'].unique()}\"\n",
    "\n",
    "def test_categorical_values(data):\n",
    "    # Check that categorical columns only contain allowed values\n",
    "    job_categories = ['admin.','blue-collar','entrepreneur','housemaid','management','retired','self-employed','services','student','technician','unemployed','unknown']\n",
    "    marital_status = ['unknown','married', 'divorced', 'single']\n",
    "    education_levels = ['basic.4y','basic.6y','basic.9y','high.school','illiterate','professional.course','university.degree','unknown']\n",
    "    contact_types = ['telephone', 'cellular']\n",
    "    month_values = ['jan', 'feb', 'mar', 'apr', 'may', 'jun', 'jul', 'aug', 'sep', 'oct', 'nov', 'dec']\n",
    "    poutcome_values = ['nonexistent', 'failure', 'success']\n",
    "    day_of_week_values = ['mon', 'tue', 'wed', 'thu', 'fri', 'sat', 'sun']\n",
    "\n",
    "    assert data[\"job\"].isin(job_categories).all(), f\"Column job has unknown values: {data['job'].unique()}\"\n",
    "    assert data[\"marital\"].isin(marital_status).all(), f\"Column marital has unknown values: {data['marital'].unique()}\"\n",
    "    assert data[\"education\"].isin(education_levels).all(), f\"Column education has unknown values: {data['education'].unique()}\"\n",
    "    assert data[\"contact\"].isin(contact_types).all(), f\"Column contact has unknown values: {data['contact'].unique()}\"\n",
    "    assert data[\"month\"].isin(month_values).all(),  f\"Column month has unknown values: {data['month'].unique()}\"\n",
    "    assert data[\"poutcome\"].isin(poutcome_values).all(), f\"Column poutcome has unknown values: {data['poutcome'].unique()}\"\n",
    "    assert data[\"day_of_week\"].isin(day_of_week_values).all(), f\"Column day_of_week has unknown values: {data['day_of_week'].unique()}\"\n",
    "\n",
    "def test_column_ranges(data):\n",
    "    # Add ranges for columns\n",
    "    ranges = {\n",
    "        \"age\": (0, 100),\n",
    "        \"duration\": (0, 5000),  # Assuming the duration can be up to 5000 seconds\n",
    "        \"campaign\": (0, 100),\n",
    "        \"pdays\": (-1, 1000),  # -1 means client was not contacted previously\n",
    "        \"previous\": (0, 100),\n",
    "        \"emp.var.rate\": (-10, 10),  # Giả sử tỷ lệ biến động trong phạm vi này\n",
    "        \"cons.price.idx\": (90, 110),  # Giả sử CPI dao động trong phạm vi này\n",
    "        \"cons.conf.idx\": (-55, 55),  # Chỉ số niềm tin tiêu dùng thường trong phạm vi này\n",
    "        \"euribor3m\": (0, 6),  # Lãi suất giữa các ngân hàng thường trong phạm vi này\n",
    "        \"nr.employed\": (0, 10000),  # Số người có việc làm \n",
    "    }\n",
    "\n",
    "    for col_name, (minimum, maximum) in ranges.items():\n",
    "        assert data[col_name].dropna().between(minimum, maximum).all(), (\n",
    "            f\"Column {col_name} failed the test. Should be between {minimum} and {maximum}, \"\n",
    "            f\"instead min={data[col_name].min()} and max={data[col_name].max()}\"\n",
    "        )"
   ]
  },
  {
   "cell_type": "code",
   "execution_count": 27,
   "id": "137ff3ee",
   "metadata": {},
   "outputs": [
    {
     "name": "stdout",
     "output_type": "stream",
     "text": [
      "\u001b[1m============================= test session starts =============================\u001b[0m\n",
      "platform win32 -- Python 3.8.20, pytest-6.2.5, py-1.11.0, pluggy-1.5.0 -- C:\\Users\\dell\\miniconda3\\envs\\bankmkt\\python.exe\n",
      "cachedir: .pytest_cache\n",
      "rootdir: c:\\Users\\dell\\Downloads\\Mlops_Project_K64\n",
      "plugins: anyio-3.7.1\n",
      "\u001b[1mcollecting ... \u001b[0mcollected 6 items\n",
      "\n",
      "test_data.py::test_data_length \u001b[32mPASSED\u001b[0m\u001b[32m                                    [ 16%]\u001b[0m\n",
      "test_data.py::test_number_of_columns \u001b[32mPASSED\u001b[0m\u001b[32m                              [ 33%]\u001b[0m\n",
      "test_data.py::test_column_presence_and_type \u001b[32mPASSED\u001b[0m\u001b[32m                       [ 50%]\u001b[0m\n",
      "test_data.py::test_class_names \u001b[31mFAILED\u001b[0m\u001b[31m                                    [ 66%]\u001b[0m\n",
      "test_data.py::test_categorical_values \u001b[32mPASSED\u001b[0m\u001b[31m                             [ 83%]\u001b[0m\n",
      "test_data.py::test_column_ranges \u001b[32mPASSED\u001b[0m\u001b[31m                                  [100%]\u001b[0m\n",
      "\n",
      "================================== FAILURES ===================================\n",
      "\u001b[31m\u001b[1m______________________________ test_class_names _______________________________\u001b[0m\n",
      "\n",
      "data =        age          job  marital  ... euribor3m nr.employed    y\n",
      "0       56    housemaid  married  ...     4.857      ...     1.028      4963.6  yes\n",
      "41187   74      retired  married  ...     1.028      4963.6   no\n",
      "\n",
      "[41188 rows x 21 columns]\n",
      "\n",
      "    \u001b[94mdef\u001b[39;49;00m \u001b[92mtest_class_names\u001b[39;49;00m(data):\u001b[90m\u001b[39;49;00m\n",
      "        \u001b[90m# Check that only the known classes are present for binary columns\u001b[39;49;00m\u001b[90m\u001b[39;49;00m\n",
      "        known_classes = [\u001b[33m\"\u001b[39;49;00m\u001b[33myes\u001b[39;49;00m\u001b[33m\"\u001b[39;49;00m, \u001b[33m\"\u001b[39;49;00m\u001b[33mno\u001b[39;49;00m\u001b[33m\"\u001b[39;49;00m]\u001b[90m\u001b[39;49;00m\n",
      "    \u001b[90m\u001b[39;49;00m\n",
      ">       \u001b[94massert\u001b[39;49;00m data[\u001b[33m\"\u001b[39;49;00m\u001b[33mdefault\u001b[39;49;00m\u001b[33m\"\u001b[39;49;00m].isin(known_classes).all(), \u001b[33mf\u001b[39;49;00m\u001b[33m\"\u001b[39;49;00m\u001b[33mColumn default has unknown values: \u001b[39;49;00m\u001b[33m{\u001b[39;49;00mdata[\u001b[33m'\u001b[39;49;00m\u001b[33mdefault\u001b[39;49;00m\u001b[33m'\u001b[39;49;00m].unique()\u001b[33m}\u001b[39;49;00m\u001b[33m\"\u001b[39;49;00m\u001b[90m\u001b[39;49;00m\n",
      "\u001b[1m\u001b[31mE       AssertionError: Column default has unknown values: ['no' 'unknown' 'yes']\u001b[0m\n",
      "\u001b[1m\u001b[31mE       assert False\u001b[0m\n",
      "\u001b[1m\u001b[31mE        +  where False = <bound method NDFrame._add_numeric_operations.<locals>.all of 0         True\\n1        False\\n2         True\\n3         T... \\n41183     True\\n41184     True\\n41185     True\\n41186     True\\n41187     True\\nName: default, Length: 41188, dtype: bool>()\u001b[0m\n",
      "\u001b[1m\u001b[31mE        +    where <bound method NDFrame._add_numeric_operations.<locals>.all of 0         True\\n1        False\\n2         True\\n3         T... \\n41183     True\\n41184     True\\n41185     True\\n41186     True\\n41187     True\\nName: default, Length: 41188, dtype: bool> = 0         True\\n1        False\\n2         True\\n3         True\\n4         True\\n         ...  \\n41183     True\\n41184     True\\n41185     True\\n41186     True\\n41187     True\\nName: default, Length: 41188, dtype: bool.all\u001b[0m\n",
      "\u001b[1m\u001b[31mE        +      where 0         True\\n1        False\\n2         True\\n3         True\\n4         True\\n         ...  \\n41183     True\\n41184     True\\n41185     True\\n41186     True\\n41187     True\\nName: default, Length: 41188, dtype: bool = <bound method Series.isin of 0             no\\n1        unknown\\n2             no\\n3             no\\n4             no\\n    ...    no\\n41184         no\\n41185         no\\n41186         no\\n41187         no\\nName: default, Length: 41188, dtype: object>(['yes', 'no'])\u001b[0m\n",
      "\u001b[1m\u001b[31mE        +        where <bound method Series.isin of 0             no\\n1        unknown\\n2             no\\n3             no\\n4             no\\n    ...    no\\n41184         no\\n41185         no\\n41186         no\\n41187         no\\nName: default, Length: 41188, dtype: object> = 0             no\\n1        unknown\\n2             no\\n3             no\\n4             no\\n          ...   \\n41183         no\\n41184         no\\n41185         no\\n41186         no\\n41187         no\\nName: default, Length: 41188, dtype: object.isin\u001b[0m\n",
      "\n",
      "\u001b[1m\u001b[31mtest_data.py\u001b[0m:61: AssertionError\n",
      "=========================== short test summary info ===========================\n",
      "FAILED test_data.py::test_class_names - AssertionError: Column default has un...\n",
      "\u001b[31m======================== \u001b[31m\u001b[1m1 failed\u001b[0m, \u001b[32m5 passed\u001b[0m\u001b[31m in 24.80s\u001b[0m\u001b[31m =========================\u001b[0m\n"
     ]
    }
   ],
   "source": [
    "!pytest . -vv"
   ]
  },
  {
   "cell_type": "code",
   "execution_count": 28,
   "id": "97237919",
   "metadata": {},
   "outputs": [],
   "source": [
    "# close the run\n",
    "# waiting a while after run the previous cell before execute this\n",
    "run.finish()"
   ]
  }
 ],
 "metadata": {
  "kernelspec": {
   "display_name": "bankmkt",
   "language": "python",
   "name": "python3"
  },
  "language_info": {
   "codemirror_mode": {
    "name": "ipython",
    "version": 3
   },
   "file_extension": ".py",
   "mimetype": "text/x-python",
   "name": "python",
   "nbconvert_exporter": "python",
   "pygments_lexer": "ipython3",
   "version": "3.8.20"
  }
 },
 "nbformat": 4,
 "nbformat_minor": 5
}
